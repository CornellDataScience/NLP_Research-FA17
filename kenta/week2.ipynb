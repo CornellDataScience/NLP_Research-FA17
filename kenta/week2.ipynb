{
 "cells": [
  {
   "cell_type": "markdown",
   "metadata": {},
   "source": [
    "# Machine Translation for Writing Styles"
   ]
  },
  {
   "cell_type": "code",
   "execution_count": 1,
   "metadata": {
    "collapsed": true
   },
   "outputs": [],
   "source": [
    "from utils import * \n",
    "import seaborn as sns\n",
    "import matplotlib.pyplot as plt\n",
    "import numpy as np\n",
    "import nltk"
   ]
  },
  {
   "cell_type": "code",
   "execution_count": 40,
   "metadata": {
    "collapsed": true
   },
   "outputs": [],
   "source": [
    "DATAPASS = '../../yelp10/dataset/review.json'\n",
    "review = load_json_to_df(DATAPASS)"
   ]
  },
  {
   "cell_type": "code",
   "execution_count": 4,
   "metadata": {},
   "outputs": [
    {
     "data": {
      "text/html": [
       "<div>\n",
       "<style>\n",
       "    .dataframe thead tr:only-child th {\n",
       "        text-align: right;\n",
       "    }\n",
       "\n",
       "    .dataframe thead th {\n",
       "        text-align: left;\n",
       "    }\n",
       "\n",
       "    .dataframe tbody tr th {\n",
       "        vertical-align: top;\n",
       "    }\n",
       "</style>\n",
       "<table border=\"1\" class=\"dataframe\">\n",
       "  <thead>\n",
       "    <tr style=\"text-align: right;\">\n",
       "      <th></th>\n",
       "      <th>business_id</th>\n",
       "      <th>cool</th>\n",
       "      <th>date</th>\n",
       "      <th>funny</th>\n",
       "      <th>review_id</th>\n",
       "      <th>stars</th>\n",
       "      <th>text</th>\n",
       "      <th>useful</th>\n",
       "      <th>user_id</th>\n",
       "    </tr>\n",
       "  </thead>\n",
       "  <tbody>\n",
       "    <tr>\n",
       "      <th>0</th>\n",
       "      <td>uYHaNptLzDLoV_JZ_MuzUA</td>\n",
       "      <td>0</td>\n",
       "      <td>2016-07-12</td>\n",
       "      <td>0</td>\n",
       "      <td>VfBHSwC5Vz_pbFluy07i9Q</td>\n",
       "      <td>5</td>\n",
       "      <td>My girlfriend and I stayed here for 3 nights a...</td>\n",
       "      <td>0</td>\n",
       "      <td>cjpdDjZyprfyDG3RlkVG3w</td>\n",
       "    </tr>\n",
       "    <tr>\n",
       "      <th>1</th>\n",
       "      <td>uYHaNptLzDLoV_JZ_MuzUA</td>\n",
       "      <td>0</td>\n",
       "      <td>2016-10-02</td>\n",
       "      <td>0</td>\n",
       "      <td>3zRpneRKDsOPq92tq7ybAA</td>\n",
       "      <td>3</td>\n",
       "      <td>If you need an inexpensive place to stay for a...</td>\n",
       "      <td>0</td>\n",
       "      <td>bjTcT8Ty4cJZhEOEo01FGA</td>\n",
       "    </tr>\n",
       "    <tr>\n",
       "      <th>2</th>\n",
       "      <td>uYHaNptLzDLoV_JZ_MuzUA</td>\n",
       "      <td>0</td>\n",
       "      <td>2015-09-17</td>\n",
       "      <td>0</td>\n",
       "      <td>ne5WhI1jUFOcRn-b-gAzHA</td>\n",
       "      <td>3</td>\n",
       "      <td>Mittlerweile gibt es in Edinburgh zwei Ableger...</td>\n",
       "      <td>0</td>\n",
       "      <td>AXgRULmWcME7J6Ix3I--ww</td>\n",
       "    </tr>\n",
       "    <tr>\n",
       "      <th>3</th>\n",
       "      <td>uYHaNptLzDLoV_JZ_MuzUA</td>\n",
       "      <td>0</td>\n",
       "      <td>2016-08-21</td>\n",
       "      <td>0</td>\n",
       "      <td>llmdwOgDReucVoWEry61Lw</td>\n",
       "      <td>4</td>\n",
       "      <td>Location is everything and this hotel has it! ...</td>\n",
       "      <td>0</td>\n",
       "      <td>oU2SSOmsp_A8JYI7Z2JJ5w</td>\n",
       "    </tr>\n",
       "    <tr>\n",
       "      <th>4</th>\n",
       "      <td>uYHaNptLzDLoV_JZ_MuzUA</td>\n",
       "      <td>0</td>\n",
       "      <td>2013-11-20</td>\n",
       "      <td>0</td>\n",
       "      <td>DuffS87NaSMDmIfluvT83g</td>\n",
       "      <td>5</td>\n",
       "      <td>gute lage im stadtzentrum. shoppingmeile und s...</td>\n",
       "      <td>0</td>\n",
       "      <td>0xtbPEna2Kei11vsU-U2Mw</td>\n",
       "    </tr>\n",
       "  </tbody>\n",
       "</table>\n",
       "</div>"
      ],
      "text/plain": [
       "              business_id  cool        date  funny               review_id  \\\n",
       "0  uYHaNptLzDLoV_JZ_MuzUA     0  2016-07-12      0  VfBHSwC5Vz_pbFluy07i9Q   \n",
       "1  uYHaNptLzDLoV_JZ_MuzUA     0  2016-10-02      0  3zRpneRKDsOPq92tq7ybAA   \n",
       "2  uYHaNptLzDLoV_JZ_MuzUA     0  2015-09-17      0  ne5WhI1jUFOcRn-b-gAzHA   \n",
       "3  uYHaNptLzDLoV_JZ_MuzUA     0  2016-08-21      0  llmdwOgDReucVoWEry61Lw   \n",
       "4  uYHaNptLzDLoV_JZ_MuzUA     0  2013-11-20      0  DuffS87NaSMDmIfluvT83g   \n",
       "\n",
       "   stars                                               text  useful  \\\n",
       "0      5  My girlfriend and I stayed here for 3 nights a...       0   \n",
       "1      3  If you need an inexpensive place to stay for a...       0   \n",
       "2      3  Mittlerweile gibt es in Edinburgh zwei Ableger...       0   \n",
       "3      4  Location is everything and this hotel has it! ...       0   \n",
       "4      5  gute lage im stadtzentrum. shoppingmeile und s...       0   \n",
       "\n",
       "                  user_id  \n",
       "0  cjpdDjZyprfyDG3RlkVG3w  \n",
       "1  bjTcT8Ty4cJZhEOEo01FGA  \n",
       "2  AXgRULmWcME7J6Ix3I--ww  \n",
       "3  oU2SSOmsp_A8JYI7Z2JJ5w  \n",
       "4  0xtbPEna2Kei11vsU-U2Mw  "
      ]
     },
     "execution_count": 4,
     "metadata": {},
     "output_type": "execute_result"
    }
   ],
   "source": [
    "review.head()"
   ]
  },
  {
   "cell_type": "code",
   "execution_count": 9,
   "metadata": {
    "collapsed": true
   },
   "outputs": [],
   "source": [
    "user_group = review.groupby('user_id').count().sort_values(by ='review_id', ascending = False).reset_index()"
   ]
  },
  {
   "cell_type": "code",
   "execution_count": 14,
   "metadata": {},
   "outputs": [
    {
     "data": {
      "image/png": "[encoded data removed]",
      "text/plain": [
       "<matplotlib.figure.Figure at 0x1e26bb1d0>"
      ]
     },
     "metadata": {},
     "output_type": "display_data"
    }
   ],
   "source": [
    "sns.distplot(user_group['review_id'], bins = 100)\n",
    "plt.show()"
   ]
  },
  {
   "cell_type": "code",
   "execution_count": 20,
   "metadata": {},
   "outputs": [
    {
     "data": {
      "image/png": "[encoded data removed]",
      "text/plain": [
       "<matplotlib.figure.Figure at 0x17bfc6eb8>"
      ]
     },
     "metadata": {},
     "output_type": "display_data"
    }
   ],
   "source": [
    "sns.distplot(np.log(user_group['review_id']), bins = 100, kde = False)\n",
    "plt.show()"
   ]
  },
  {
   "cell_type": "markdown",
   "metadata": {},
   "source": [
    "#### Top 10 Writers"
   ]
  },
  {
   "cell_type": "code",
   "execution_count": 24,
   "metadata": {},
   "outputs": [
    {
     "data": {
      "text/html": [
       "<div>\n",
       "<style>\n",
       "    .dataframe thead tr:only-child th {\n",
       "        text-align: right;\n",
       "    }\n",
       "\n",
       "    .dataframe thead th {\n",
       "        text-align: left;\n",
       "    }\n",
       "\n",
       "    .dataframe tbody tr th {\n",
       "        vertical-align: top;\n",
       "    }\n",
       "</style>\n",
       "<table border=\"1\" class=\"dataframe\">\n",
       "  <thead>\n",
       "    <tr style=\"text-align: right;\">\n",
       "      <th></th>\n",
       "      <th>user_id</th>\n",
       "      <th>business_id</th>\n",
       "      <th>cool</th>\n",
       "      <th>date</th>\n",
       "      <th>funny</th>\n",
       "      <th>review_id</th>\n",
       "      <th>stars</th>\n",
       "      <th>text</th>\n",
       "      <th>useful</th>\n",
       "    </tr>\n",
       "  </thead>\n",
       "  <tbody>\n",
       "    <tr>\n",
       "      <th>0</th>\n",
       "      <td>CxDOIDnH8gp9KXzpBHJYXw</td>\n",
       "      <td>3442</td>\n",
       "      <td>3442</td>\n",
       "      <td>3442</td>\n",
       "      <td>3442</td>\n",
       "      <td>3442</td>\n",
       "      <td>3442</td>\n",
       "      <td>3442</td>\n",
       "      <td>3442</td>\n",
       "    </tr>\n",
       "    <tr>\n",
       "      <th>1</th>\n",
       "      <td>bLbSNkLggFnqwNNzzq-Ijw</td>\n",
       "      <td>1952</td>\n",
       "      <td>1952</td>\n",
       "      <td>1952</td>\n",
       "      <td>1952</td>\n",
       "      <td>1952</td>\n",
       "      <td>1952</td>\n",
       "      <td>1952</td>\n",
       "      <td>1952</td>\n",
       "    </tr>\n",
       "    <tr>\n",
       "      <th>2</th>\n",
       "      <td>PKEzKWv_FktMm2mGPjwd0Q</td>\n",
       "      <td>1563</td>\n",
       "      <td>1563</td>\n",
       "      <td>1563</td>\n",
       "      <td>1563</td>\n",
       "      <td>1563</td>\n",
       "      <td>1563</td>\n",
       "      <td>1563</td>\n",
       "      <td>1563</td>\n",
       "    </tr>\n",
       "    <tr>\n",
       "      <th>3</th>\n",
       "      <td>DK57YibC5ShBmqQl97CKog</td>\n",
       "      <td>1381</td>\n",
       "      <td>1381</td>\n",
       "      <td>1381</td>\n",
       "      <td>1381</td>\n",
       "      <td>1381</td>\n",
       "      <td>1381</td>\n",
       "      <td>1381</td>\n",
       "      <td>1381</td>\n",
       "    </tr>\n",
       "    <tr>\n",
       "      <th>4</th>\n",
       "      <td>QJI9OSEn6ujRCtrX06vs1w</td>\n",
       "      <td>1318</td>\n",
       "      <td>1318</td>\n",
       "      <td>1318</td>\n",
       "      <td>1318</td>\n",
       "      <td>1318</td>\n",
       "      <td>1318</td>\n",
       "      <td>1318</td>\n",
       "      <td>1318</td>\n",
       "    </tr>\n",
       "    <tr>\n",
       "      <th>5</th>\n",
       "      <td>d_TBs6J3twMy9GChqUEXkg</td>\n",
       "      <td>1160</td>\n",
       "      <td>1160</td>\n",
       "      <td>1160</td>\n",
       "      <td>1160</td>\n",
       "      <td>1160</td>\n",
       "      <td>1160</td>\n",
       "      <td>1160</td>\n",
       "      <td>1160</td>\n",
       "    </tr>\n",
       "    <tr>\n",
       "      <th>6</th>\n",
       "      <td>ELcQDlf69kb-ihJfxZyL0A</td>\n",
       "      <td>1123</td>\n",
       "      <td>1123</td>\n",
       "      <td>1123</td>\n",
       "      <td>1123</td>\n",
       "      <td>1123</td>\n",
       "      <td>1123</td>\n",
       "      <td>1123</td>\n",
       "      <td>1123</td>\n",
       "    </tr>\n",
       "    <tr>\n",
       "      <th>7</th>\n",
       "      <td>UYcmGbelzRa0Q6JqzLoguw</td>\n",
       "      <td>1080</td>\n",
       "      <td>1080</td>\n",
       "      <td>1080</td>\n",
       "      <td>1080</td>\n",
       "      <td>1080</td>\n",
       "      <td>1080</td>\n",
       "      <td>1080</td>\n",
       "      <td>1080</td>\n",
       "    </tr>\n",
       "    <tr>\n",
       "      <th>8</th>\n",
       "      <td>U4INQZOPSUaj8hMjLlZ3KA</td>\n",
       "      <td>1067</td>\n",
       "      <td>1067</td>\n",
       "      <td>1067</td>\n",
       "      <td>1067</td>\n",
       "      <td>1067</td>\n",
       "      <td>1067</td>\n",
       "      <td>1067</td>\n",
       "      <td>1067</td>\n",
       "    </tr>\n",
       "    <tr>\n",
       "      <th>9</th>\n",
       "      <td>cMEtAiW60I5wE_vLfTxoJQ</td>\n",
       "      <td>1064</td>\n",
       "      <td>1064</td>\n",
       "      <td>1064</td>\n",
       "      <td>1064</td>\n",
       "      <td>1064</td>\n",
       "      <td>1064</td>\n",
       "      <td>1064</td>\n",
       "      <td>1064</td>\n",
       "    </tr>\n",
       "  </tbody>\n",
       "</table>\n",
       "</div>"
      ],
      "text/plain": [
       "                  user_id  business_id  cool  date  funny  review_id  stars  \\\n",
       "0  CxDOIDnH8gp9KXzpBHJYXw         3442  3442  3442   3442       3442   3442   \n",
       "1  bLbSNkLggFnqwNNzzq-Ijw         1952  1952  1952   1952       1952   1952   \n",
       "2  PKEzKWv_FktMm2mGPjwd0Q         1563  1563  1563   1563       1563   1563   \n",
       "3  DK57YibC5ShBmqQl97CKog         1381  1381  1381   1381       1381   1381   \n",
       "4  QJI9OSEn6ujRCtrX06vs1w         1318  1318  1318   1318       1318   1318   \n",
       "5  d_TBs6J3twMy9GChqUEXkg         1160  1160  1160   1160       1160   1160   \n",
       "6  ELcQDlf69kb-ihJfxZyL0A         1123  1123  1123   1123       1123   1123   \n",
       "7  UYcmGbelzRa0Q6JqzLoguw         1080  1080  1080   1080       1080   1080   \n",
       "8  U4INQZOPSUaj8hMjLlZ3KA         1067  1067  1067   1067       1067   1067   \n",
       "9  cMEtAiW60I5wE_vLfTxoJQ         1064  1064  1064   1064       1064   1064   \n",
       "\n",
       "   text  useful  \n",
       "0  3442    3442  \n",
       "1  1952    1952  \n",
       "2  1563    1563  \n",
       "3  1381    1381  \n",
       "4  1318    1318  \n",
       "5  1160    1160  \n",
       "6  1123    1123  \n",
       "7  1080    1080  \n",
       "8  1067    1067  \n",
       "9  1064    1064  "
      ]
     },
     "execution_count": 24,
     "metadata": {},
     "output_type": "execute_result"
    }
   ],
   "source": [
    "user_group.head(10)"
   ]
  },
  {
   "cell_type": "code",
   "execution_count": 26,
   "metadata": {
    "collapsed": true
   },
   "outputs": [],
   "source": [
    "user_group = user_group[['user_id', 'review_id']]"
   ]
  },
  {
   "cell_type": "code",
   "execution_count": 30,
   "metadata": {
    "collapsed": true
   },
   "outputs": [],
   "source": [
    "DATAPASS2 = '../../yelp10/dataset/user.json'\n",
    "user = load_json_to_df(DATAPASS2)"
   ]
  },
  {
   "cell_type": "code",
   "execution_count": 32,
   "metadata": {
    "collapsed": true
   },
   "outputs": [],
   "source": [
    "top10 = user_group.head(10)\n",
    "user10 = user.loc[user['user_id'].isin(top10['user_id'])]"
   ]
  },
  {
   "cell_type": "code",
   "execution_count": 42,
   "metadata": {
    "collapsed": true
   },
   "outputs": [],
   "source": [
    "# merge user and review counts\n",
    "# select 2nd and 4th person as training targets\n",
    "# because their user status were similar\n",
    "target = pd.merge(top10, user10, on = 'user_id').iloc[2:4]"
   ]
  },
  {
   "cell_type": "code",
   "execution_count": 43,
   "metadata": {
    "collapsed": true
   },
   "outputs": [],
   "source": [
    "target_review = review.loc[review['user_id'].isin(target['user_id'])]"
   ]
  },
  {
   "cell_type": "code",
   "execution_count": 1,
   "metadata": {},
   "outputs": [
    {
     "ename": "NameError",
     "evalue": "name 'target_review' is not defined",
     "output_type": "error",
     "traceback": [
      "\u001b[0;31m---------------------------------------------------------------------------\u001b[0m",
      "\u001b[0;31mNameError\u001b[0m                                 Traceback (most recent call last)",
      "\u001b[0;32m<ipython-input-1-49155c6c83d9>\u001b[0m in \u001b[0;36m<module>\u001b[0;34m()\u001b[0m\n\u001b[1;32m      1\u001b[0m \u001b[0;31m# save in csv\u001b[0m\u001b[0;34m\u001b[0m\u001b[0;34m\u001b[0m\u001b[0m\n\u001b[0;32m----> 2\u001b[0;31m \u001b[0mtarget_review\u001b[0m\u001b[0;34m.\u001b[0m\u001b[0mto_csv\u001b[0m\u001b[0;34m(\u001b[0m\u001b[0;34m'sample_user_review.csv'\u001b[0m\u001b[0;34m,\u001b[0m \u001b[0mindex\u001b[0m \u001b[0;34m=\u001b[0m \u001b[0;32mFalse\u001b[0m\u001b[0;34m)\u001b[0m\u001b[0;34m\u001b[0m\u001b[0m\n\u001b[0m\u001b[1;32m      3\u001b[0m \u001b[0mtarget\u001b[0m\u001b[0;34m.\u001b[0m\u001b[0mto_csv\u001b[0m\u001b[0;34m(\u001b[0m\u001b[0;34m'sample_user_profile.csv'\u001b[0m\u001b[0;34m,\u001b[0m \u001b[0mindex\u001b[0m \u001b[0;34m=\u001b[0m \u001b[0;32mFalse\u001b[0m\u001b[0;34m)\u001b[0m\u001b[0;34m\u001b[0m\u001b[0m\n",
      "\u001b[0;31mNameError\u001b[0m: name 'target_review' is not defined"
     ]
    }
   ],
   "source": [
    "# save in csv\n",
    "target_review.to_csv('sample_user_review.csv', index = False)\n",
    "target.to_csv('sample_user_profile.csv', index = False)"
   ]
  },
  {
   "cell_type": "code",
   "execution_count": 2,
   "metadata": {
    "collapsed": true
   },
   "outputs": [],
   "source": [
    "# load csv\n",
    "target_review = pd.read_csv('sample_user_review.csv')\n",
    "target_profile = pd.read_csv('sample_user_profile.csv')"
   ]
  },
  {
   "cell_type": "markdown",
   "metadata": {},
   "source": [
    "## What kind of metric can we use to define 'writing style' ?"
   ]
  },
  {
   "cell_type": "code",
   "execution_count": 3,
   "metadata": {
    "collapsed": true
   },
   "outputs": [],
   "source": [
    "user1 = target_review[target_review['user_id'] == target_profile.iloc[0]['user_id']]"
   ]
  },
  {
   "cell_type": "code",
   "execution_count": 4,
   "metadata": {
    "collapsed": true
   },
   "outputs": [],
   "source": [
    "user2 = target_review[target_review['user_id'] == target_profile.iloc[1]['user_id']]"
   ]
  },
  {
   "cell_type": "markdown",
   "metadata": {},
   "source": [
    "### Rating"
   ]
  },
  {
   "cell_type": "code",
   "execution_count": 5,
   "metadata": {},
   "outputs": [
    {
     "data": {
      "image/png": "[encoded data removed]",
      "text/plain": [
       "<matplotlib.figure.Figure at 0x11fe657b8>"
      ]
     },
     "metadata": {},
     "output_type": "display_data"
    }
   ],
   "source": [
    "sns.distplot(user1['stars'], kde = False, norm_hist = True)\n",
    "sns.distplot(user2['stars'], kde = False, norm_hist = True)\n",
    "plt.title('star frequency')\n",
    "plt.legend(['user1', 'user2'])\n",
    "plt.show()"
   ]
  },
  {
   "cell_type": "markdown",
   "metadata": {},
   "source": [
    "### Length"
   ]
  },
  {
   "cell_type": "code",
   "execution_count": 6,
   "metadata": {
    "collapsed": true
   },
   "outputs": [],
   "source": [
    "def word_length(s):\n",
    "    return len(nltk.word_tokenize(s))\n",
    "\n",
    "def sentence_length(s):\n",
    "    return len(nltk.sent_tokenize(s))"
   ]
  },
  {
   "cell_type": "code",
   "execution_count": 7,
   "metadata": {
    "collapsed": true
   },
   "outputs": [],
   "source": [
    "user1_len = user1['text'].apply(lambda x : word_length(x))"
   ]
  },
  {
   "cell_type": "code",
   "execution_count": 8,
   "metadata": {
    "collapsed": true
   },
   "outputs": [],
   "source": [
    "user2_len = user2['text'].apply(lambda x : word_length(x))"
   ]
  },
  {
   "cell_type": "code",
   "execution_count": 9,
   "metadata": {
    "collapsed": true
   },
   "outputs": [],
   "source": [
    "user1_len2 = user1['text'].apply(lambda x : sentence_length(x))"
   ]
  },
  {
   "cell_type": "code",
   "execution_count": 10,
   "metadata": {
    "collapsed": true
   },
   "outputs": [],
   "source": [
    "user2_len2 = user2['text'].apply(lambda x : sentence_length(x))"
   ]
  },
  {
   "cell_type": "markdown",
   "metadata": {},
   "source": [
    "#### Word length"
   ]
  },
  {
   "cell_type": "code",
   "execution_count": 11,
   "metadata": {},
   "outputs": [
    {
     "data": {
      "image/png": "[encoded data removed]",
      "text/plain": [
       "<matplotlib.figure.Figure at 0x122ff84a8>"
      ]
     },
     "metadata": {},
     "output_type": "display_data"
    }
   ],
   "source": [
    "sns.distplot(user1_len, kde = False, norm_hist= True)\n",
    "sns.distplot(user2_len, kde = False, norm_hist= True)\n",
    "plt.title('review length frequency')\n",
    "plt.legend(['user1', 'user2'])\n",
    "plt.show()"
   ]
  },
  {
   "cell_type": "code",
   "execution_count": 12,
   "metadata": {},
   "outputs": [
    {
     "data": {
      "image/png": "[encoded data removed]",
      "text/plain": [
       "<matplotlib.figure.Figure at 0x12314e630>"
      ]
     },
     "metadata": {},
     "output_type": "display_data"
    }
   ],
   "source": [
    "sns.distplot(user1_len2, kde = False, norm_hist= True)\n",
    "sns.distplot(user2_len2, kde = False, norm_hist= True)\n",
    "plt.title('sentence length frequency')\n",
    "plt.legend(['user1', 'user2'])\n",
    "plt.show()"
   ]
  },
  {
   "cell_type": "code",
   "execution_count": 13,
   "metadata": {},
   "outputs": [
    {
     "data": {
      "image/png": "[encoded data removed]",
      "text/plain": [
       "<matplotlib.figure.Figure at 0x1233b04e0>"
      ]
     },
     "metadata": {},
     "output_type": "display_data"
    }
   ],
   "source": [
    "sns.distplot(user1_len/user1_len2, kde = False, norm_hist= True)\n",
    "sns.distplot(user2_len/user2_len2, kde = False, norm_hist= True)\n",
    "plt.title('words per sentence frequency')\n",
    "plt.legend(['user1', 'user2'])\n",
    "plt.show()"
   ]
  },
  {
   "cell_type": "markdown",
   "metadata": {},
   "source": [
    "### Types"
   ]
  },
  {
   "cell_type": "code",
   "execution_count": 14,
   "metadata": {
    "collapsed": true
   },
   "outputs": [],
   "source": [
    "def extract_word_type(s):\n",
    "    tagged = nltk.pos_tag(nltk.word_tokenize(s))\n",
    "    proverb = len([item[0] for item in tagged if item[1][0] == 'P'])\n",
    "    noun = len([item[0] for item in tagged if item[1][0] == 'N'])\n",
    "    verb = len([item[0] for item in tagged if item[1][0] == 'V'])\n",
    "    adjective = len([item[0] for item in tagged if item[1][0] == 'J'])\n",
    "    return proverb, noun, verb, adjective"
   ]
  },
  {
   "cell_type": "code",
   "execution_count": 15,
   "metadata": {
    "collapsed": true
   },
   "outputs": [],
   "source": [
    "w_type1 = user1['text'].apply(lambda x : extract_word_type(x))"
   ]
  },
  {
   "cell_type": "code",
   "execution_count": 16,
   "metadata": {
    "collapsed": true
   },
   "outputs": [],
   "source": [
    "w_type2 = user2['text'].apply(lambda x : extract_word_type(x))"
   ]
  },
  {
   "cell_type": "markdown",
   "metadata": {},
   "source": [
    "#### Pronouns"
   ]
  },
  {
   "cell_type": "code",
   "execution_count": 17,
   "metadata": {},
   "outputs": [
    {
     "data": {
      "image/png": "[encoded data removed]",
      "text/plain": [
       "<matplotlib.figure.Figure at 0x1232d2128>"
      ]
     },
     "metadata": {},
     "output_type": "display_data"
    }
   ],
   "source": [
    "sns.distplot([i[0] for i in w_type1], kde = False, norm_hist= True)\n",
    "sns.distplot([j[0] for j in w_type2], kde = False, norm_hist= True)\n",
    "plt.title('pronouns frequency')\n",
    "plt.legend(['user1', 'user2'])\n",
    "plt.show()"
   ]
  },
  {
   "cell_type": "code",
   "execution_count": 51,
   "metadata": {},
   "outputs": [
    {
     "data": {
      "image/png": "[encoded data removed]",
      "text/plain": [
       "<matplotlib.figure.Figure at 0x125be3550>"
      ]
     },
     "metadata": {},
     "output_type": "display_data"
    }
   ],
   "source": [
    "sns.distplot([i[0]/l for i,l in zip(w_type1, user1_len)], kde = False, norm_hist= True)\n",
    "sns.distplot([j[0]/l for j,l in zip(w_type2, user2_len)], kde = False, norm_hist= True)\n",
    "plt.title('pronouns ratio frequency')\n",
    "plt.legend(['user1', 'user2'])\n",
    "plt.savefig('pronouns_ratio.png')\n",
    "plt.show()"
   ]
  },
  {
   "cell_type": "markdown",
   "metadata": {},
   "source": [
    "#### Nouns"
   ]
  },
  {
   "cell_type": "code",
   "execution_count": 19,
   "metadata": {},
   "outputs": [
    {
     "data": {
      "image/png": "[encoded data removed]",
      "text/plain": [
       "<matplotlib.figure.Figure at 0x125426eb8>"
      ]
     },
     "metadata": {},
     "output_type": "display_data"
    }
   ],
   "source": [
    "sns.distplot([i[1] for i in w_type1], kde = False, norm_hist= True)\n",
    "sns.distplot([j[1] for j in w_type2], kde = False, norm_hist= True)\n",
    "plt.title('noun frequency')\n",
    "plt.legend(['user1', 'user2'])\n",
    "plt.show()"
   ]
  },
  {
   "cell_type": "code",
   "execution_count": 20,
   "metadata": {},
   "outputs": [
    {
     "data": {
      "image/png": "[encoded data removed]",
      "text/plain": [
       "<matplotlib.figure.Figure at 0x12350aa58>"
      ]
     },
     "metadata": {},
     "output_type": "display_data"
    }
   ],
   "source": [
    "sns.distplot([i[1]/l for i,l in zip(w_type1, user1_len)], kde = False, norm_hist= True)\n",
    "sns.distplot([j[1]/l for j,l in zip(w_type2, user2_len)], kde = False, norm_hist= True)\n",
    "plt.title('noun ratio frequency')\n",
    "plt.legend(['user1', 'user2'])\n",
    "plt.show()"
   ]
  },
  {
   "cell_type": "markdown",
   "metadata": {},
   "source": [
    "#### Verbs"
   ]
  },
  {
   "cell_type": "code",
   "execution_count": 21,
   "metadata": {},
   "outputs": [
    {
     "data": {
      "image/png": "[encoded data removed]",
      "text/plain": [
       "<matplotlib.figure.Figure at 0x1253f2f98>"
      ]
     },
     "metadata": {},
     "output_type": "display_data"
    }
   ],
   "source": [
    "sns.distplot([i[2] for i in w_type1], kde = False, norm_hist= True)\n",
    "sns.distplot([j[2] for j in w_type2], kde = False, norm_hist= True)\n",
    "plt.title('verb frequency')\n",
    "plt.legend(['user1', 'user2'])\n",
    "plt.show()"
   ]
  },
  {
   "cell_type": "code",
   "execution_count": 22,
   "metadata": {},
   "outputs": [
    {
     "data": {
      "image/png": "[encoded data removed]",
      "text/plain": [
       "<matplotlib.figure.Figure at 0x1256656a0>"
      ]
     },
     "metadata": {},
     "output_type": "display_data"
    }
   ],
   "source": [
    "sns.distplot([i[2]/l for i,l in zip(w_type1, user1_len)], kde = False, norm_hist= True)\n",
    "sns.distplot([j[2]/l for j,l in zip(w_type2, user2_len)], kde = False, norm_hist= True)\n",
    "plt.title('verb ratio frequency')\n",
    "plt.legend(['user1', 'user2'])\n",
    "plt.show()"
   ]
  },
  {
   "cell_type": "markdown",
   "metadata": {},
   "source": [
    "#### Adjective"
   ]
  },
  {
   "cell_type": "code",
   "execution_count": 23,
   "metadata": {},
   "outputs": [
    {
     "data": {
      "image/png": "[encoded data removed]",
      "text/plain": [
       "<matplotlib.figure.Figure at 0x125738198>"
      ]
     },
     "metadata": {},
     "output_type": "display_data"
    }
   ],
   "source": [
    "sns.distplot([i[3] for i in w_type1], kde = False, norm_hist= True)\n",
    "sns.distplot([j[3] for j in w_type2], kde = False, norm_hist= True)\n",
    "plt.title('adjective frequency')\n",
    "plt.legend(['user1', 'user2'])\n",
    "plt.show()"
   ]
  },
  {
   "cell_type": "code",
   "execution_count": 52,
   "metadata": {},
   "outputs": [
    {
     "data": {
      "image/png": "[encoded data removed]",
      "text/plain": [
       "<matplotlib.figure.Figure at 0x124838da0>"
      ]
     },
     "metadata": {},
     "output_type": "display_data"
    }
   ],
   "source": [
    "sns.distplot([i[3]/l for i,l in zip(w_type1, user1_len)], kde = False, norm_hist= True)\n",
    "sns.distplot([j[3]/l for j,l in zip(w_type2, user2_len)], kde = False, norm_hist= True)\n",
    "plt.title('verb adjective ratio frequency')\n",
    "plt.legend(['user1', 'user2'])\n",
    "plt.savefig('verb_adj_ratio.png')\n",
    "plt.show()"
   ]
  },
  {
   "cell_type": "markdown",
   "metadata": {},
   "source": [
    "User1 uses more verbs and nouns, while user2 uses more adjectives."
   ]
  },
  {
   "cell_type": "code",
   "execution_count": 25,
   "metadata": {},
   "outputs": [
    {
     "data": {
      "image/png": "[encoded data removed]",
      "text/plain": [
       "<matplotlib.figure.Figure at 0x124800630>"
      ]
     },
     "metadata": {},
     "output_type": "display_data"
    }
   ],
   "source": [
    "sns.distplot([0 if i[3] == 0 else i[2]/i[3] for i in w_type1], kde = False, norm_hist = True)\n",
    "sns.distplot([0 if j[3] == 0 else j[2]/j[3] for j in w_type2], kde = False, norm_hist = True)\n",
    "plt.title('verb/adjective ratio frequency')\n",
    "plt.legend(['user1', 'user2'])\n",
    "plt.show()"
   ]
  },
  {
   "cell_type": "code",
   "execution_count": 26,
   "metadata": {},
   "outputs": [
    {
     "data": {
      "image/png": "[encoded data removed]",
      "text/plain": [
       "<matplotlib.figure.Figure at 0x1253c1dd8>"
      ]
     },
     "metadata": {},
     "output_type": "display_data"
    }
   ],
   "source": [
    "sns.distplot([0 if i[3] == 0 else i[1]/i[3] for i in w_type1], kde = False, norm_hist = True)\n",
    "sns.distplot([0 if j[3] == 0 else j[1]/j[3] for j in w_type2], kde = False, norm_hist = True)\n",
    "plt.title('noun/adjective ratio frequency')\n",
    "plt.legend(['user1', 'user2'])\n",
    "plt.show()"
   ]
  },
  {
   "cell_type": "code",
   "execution_count": 27,
   "metadata": {},
   "outputs": [
    {
     "data": {
      "image/png": "[encoded data removed]",
      "text/plain": [
       "<matplotlib.figure.Figure at 0x1232714a8>"
      ]
     },
     "metadata": {},
     "output_type": "display_data"
    }
   ],
   "source": [
    "sns.distplot([0 if i[3] == 0 else i[0]/i[3] for i in w_type1], kde = False, norm_hist = True)\n",
    "sns.distplot([0 if j[3] == 0 else j[0]/j[3] for j in w_type2], kde = False, norm_hist = True)\n",
    "plt.title('pronoun/adjective ratio frequency')\n",
    "plt.legend(['user1', 'user2'])\n",
    "plt.show()"
   ]
  },
  {
   "cell_type": "code",
   "execution_count": 28,
   "metadata": {},
   "outputs": [
    {
     "data": {
      "image/png": "[encoded data removed]",
      "text/plain": [
       "<matplotlib.figure.Figure at 0x1257413c8>"
      ]
     },
     "metadata": {},
     "output_type": "display_data"
    }
   ],
   "source": [
    "sns.distplot([0 if i[0] == 0 else i[1]/i[0] for i in w_type1], kde = False, norm_hist = True)\n",
    "sns.distplot([0 if j[0] == 0 else j[1]/j[0] for j in w_type2], kde = False, norm_hist = True)\n",
    "plt.title('noun/pronouns ratio frequency')\n",
    "plt.legend(['user1', 'user2'])\n",
    "plt.show()"
   ]
  },
  {
   "cell_type": "code",
   "execution_count": 29,
   "metadata": {},
   "outputs": [
    {
     "data": {
      "text/plain": [
       "0     This is one of those great Las Vegas places fo...\n",
       "2     I like the Bellagio Gallery of Fine Arts, enou...\n",
       "3     I had White Castle once before in when I was v...\n",
       "4     I tried Settebello for the first time last nig...\n",
       "5     We went last night to see Ain't Misbehavin'.  ...\n",
       "7     I have been to the gallery several times since...\n",
       "9     The last part of my playing tourist yesterday ...\n",
       "10    I went here last night to try the place out.  ...\n",
       "11    I stopped here for breakfast yesterday and it ...\n",
       "13    I've been to Mint 8 times about half the time ...\n",
       "Name: text, dtype: object"
      ]
     },
     "execution_count": 29,
     "metadata": {},
     "output_type": "execute_result"
    }
   ],
   "source": [
    "user1['text'][:10]"
   ]
  },
  {
   "cell_type": "code",
   "execution_count": 30,
   "metadata": {},
   "outputs": [
    {
     "data": {
      "text/plain": [
       "1     Good fried chicken and sides.  I had tried som...\n",
       "6     Tried the kung pao soy chicken to go.  The lun...\n",
       "8     Cost Plus has a great selection of household g...\n",
       "12    Friendly employees, and they are the closest s...\n",
       "15    Club Doggie has relocated to their Queen Creek...\n",
       "16    UPDATE! So I received a harassing message from...\n",
       "18    I had never really had Venezuelan food, and wa...\n",
       "19    Went here for restaurant week.  The portions f...\n",
       "22    After spending a lovely day looking at musical...\n",
       "23    $6 lunch specials? Crazy! The portions are ver...\n",
       "Name: text, dtype: object"
      ]
     },
     "execution_count": 30,
     "metadata": {},
     "output_type": "execute_result"
    }
   ],
   "source": [
    "user2['text'][:10]"
   ]
  },
  {
   "cell_type": "markdown",
   "metadata": {},
   "source": [
    "### Dictions"
   ]
  },
  {
   "cell_type": "code",
   "execution_count": 31,
   "metadata": {
    "collapsed": true
   },
   "outputs": [],
   "source": [
    "# Find most representitive words with tf-idf"
   ]
  },
  {
   "cell_type": "markdown",
   "metadata": {},
   "source": [
    "#### Word count"
   ]
  },
  {
   "cell_type": "code",
   "execution_count": 32,
   "metadata": {
    "collapsed": true
   },
   "outputs": [],
   "source": [
    "from sklearn.feature_extraction.text import TfidfVectorizer\n",
    "from sklearn.feature_extraction.text import CountVectorizer"
   ]
  },
  {
   "cell_type": "code",
   "execution_count": 33,
   "metadata": {
    "collapsed": true
   },
   "outputs": [],
   "source": [
    "vectorizer1 = CountVectorizer(max_df = 0.3)\n",
    "vectorizer2 = CountVectorizer(max_df = 0.3)"
   ]
  },
  {
   "cell_type": "code",
   "execution_count": 34,
   "metadata": {
    "collapsed": true
   },
   "outputs": [],
   "source": [
    "doc1 = vectorizer1.fit_transform(user1['text'])\n",
    "doc2 = vectorizer2.fit_transform(user2['text'])"
   ]
  },
  {
   "cell_type": "code",
   "execution_count": 35,
   "metadata": {},
   "outputs": [
    {
     "name": "stdout",
     "output_type": "stream",
     "text": [
      "User 1 has 13074 vocabulary\n",
      "User 2 has 10800 vocabulary\n"
     ]
    }
   ],
   "source": [
    "print ('User 1 has {} vocabulary'.format(len(vectorizer1.get_feature_names())))\n",
    "print ('User 2 has {} vocabulary'.format(len(vectorizer2.get_feature_names())))"
   ]
  },
  {
   "cell_type": "code",
   "execution_count": 36,
   "metadata": {},
   "outputs": [
    {
     "name": "stdout",
     "output_type": "stream",
     "text": [
      "[('show', 856), ('he', 804), ('she', 736), ('menu', 722), ('ordered', 721), ('small', 688), ('see', 675), ('came', 648), ('all', 646), ('then', 617), ('brought', 615), ('our', 607), ('before', 604), ('great', 578), ('other', 577), ('server', 577), ('also', 575), ('can', 574), ('would', 567), ('area', 549)]\n"
     ]
    }
   ],
   "source": [
    "freqs1 = [(word, doc1.getcol(idx).sum()) for word, idx in vectorizer1.vocabulary_.items()]\n",
    "#sort from largest to smallest\n",
    "print (sorted (freqs1, key = lambda x: -x[1])[:20])"
   ]
  },
  {
   "cell_type": "code",
   "execution_count": 37,
   "metadata": {},
   "outputs": [
    {
     "name": "stdout",
     "output_type": "stream",
     "text": [
      "[('our', 592), ('not', 584), ('can', 567), ('when', 565), ('up', 562), ('chicken', 559), ('their', 551), ('well', 521), ('all', 513), ('one', 510), ('go', 508), ('little', 504), ('me', 486), ('sauce', 478), ('time', 474), ('nice', 468), ('since', 455), ('flavor', 446), ('too', 443), ('lot', 411)]\n"
     ]
    }
   ],
   "source": [
    "freqs2 = [(word, doc2.getcol(idx).sum()) for word, idx in vectorizer2.vocabulary_.items()]\n",
    "#sort from largest to smallest\n",
    "print (sorted (freqs2, key = lambda x: -x[1])[:20])"
   ]
  },
  {
   "cell_type": "markdown",
   "metadata": {},
   "source": [
    "#### Tf-idf"
   ]
  },
  {
   "cell_type": "code",
   "execution_count": 38,
   "metadata": {
    "collapsed": true
   },
   "outputs": [],
   "source": [
    "tfidf = TfidfVectorizer() # without removing stop words"
   ]
  },
  {
   "cell_type": "code",
   "execution_count": 39,
   "metadata": {
    "collapsed": true
   },
   "outputs": [],
   "source": [
    "# concatenate all reviews into one string\n",
    "u1_alltext = \"\".join(user1['text'])\n",
    "u2_alltext = \"\".join(user2['text'])"
   ]
  },
  {
   "cell_type": "code",
   "execution_count": 40,
   "metadata": {
    "collapsed": true
   },
   "outputs": [],
   "source": [
    "all_doc = [u1_alltext, u2_alltext]"
   ]
  },
  {
   "cell_type": "code",
   "execution_count": 41,
   "metadata": {
    "collapsed": true
   },
   "outputs": [],
   "source": [
    "# fit the model\n",
    "all_doc_v = tfidf.fit_transform(all_doc)"
   ]
  },
  {
   "cell_type": "code",
   "execution_count": 42,
   "metadata": {},
   "outputs": [
    {
     "name": "stdout",
     "output_type": "stream",
     "text": [
      "  (0, 15741)\t0.0775009490032\n",
      "  (0, 8058)\t0.0927333812065\n",
      "  (0, 10701)\t0.0457865491424\n",
      "  (0, 10630)\t0.208583168315\n",
      "  (0, 15753)\t0.00348084876521\n",
      "  (0, 6834)\t0.017195987917\n",
      "  (0, 8702)\t0.0117515834381\n",
      "  (0, 16602)\t0.0120193410354\n",
      "  (0, 11647)\t0.0056229095438\n",
      "  (0, 6122)\t0.129535175417\n",
      "  (0, 17116)\t0.00113053207759\n",
      "  (0, 13941)\t0.00136853883077\n",
      "  (0, 766)\t0.3624247834\n",
      "  (0, 11351)\t0.0147266678528\n",
      "  (0, 16906)\t0.00288583188227\n",
      "  (0, 7188)\t0.00127928629833\n",
      "  (0, 1948)\t0.00187430318127\n",
      "  (0, 854)\t0.00270732681739\n",
      "  (0, 7311)\t0.0309111270688\n",
      "  (0, 2312)\t0.0580141460869\n",
      "  (0, 16596)\t0.0130606205806\n",
      "  (0, 14601)\t0.000535515194648\n",
      "  (0, 13797)\t0.00833023636119\n",
      "  (0, 7532)\t0.00190405402542\n",
      "  (0, 5566)\t0.000334510187084\n",
      "  :\t:\n",
      "  (1, 12060)\t6.83866126927e-05\n",
      "  (1, 13627)\t6.83866126927e-05\n",
      "  (1, 9668)\t6.83866126927e-05\n",
      "  (1, 11469)\t6.83866126927e-05\n",
      "  (1, 11467)\t6.83866126927e-05\n",
      "  (1, 3373)\t6.83866126927e-05\n",
      "  (1, 1399)\t6.83866126927e-05\n",
      "  (1, 724)\t6.83866126927e-05\n",
      "  (1, 5860)\t0.000136773225385\n",
      "  (1, 4475)\t0.000136773225385\n",
      "  (1, 15393)\t6.83866126927e-05\n",
      "  (1, 6872)\t6.83866126927e-05\n",
      "  (1, 13903)\t6.83866126927e-05\n",
      "  (1, 2537)\t6.83866126927e-05\n",
      "  (1, 8845)\t6.83866126927e-05\n",
      "  (1, 9253)\t6.83866126927e-05\n",
      "  (1, 7390)\t6.83866126927e-05\n",
      "  (1, 2760)\t0.000136773225385\n",
      "  (1, 3279)\t6.83866126927e-05\n",
      "  (1, 8159)\t6.83866126927e-05\n",
      "  (1, 2322)\t6.83866126927e-05\n",
      "  (1, 16627)\t6.83866126927e-05\n",
      "  (1, 16691)\t6.83866126927e-05\n",
      "  (1, 11758)\t6.83866126927e-05\n",
      "  (1, 558)\t6.83866126927e-05\n"
     ]
    }
   ],
   "source": [
    "print (all_doc_v)"
   ]
  },
  {
   "cell_type": "code",
   "execution_count": 43,
   "metadata": {},
   "outputs": [
    {
     "name": "stdout",
     "output_type": "stream",
     "text": [
      "['the' 'and' 'was' 'to' 'of' 'it' 'for' 'with' 'in' 'is' 'that' 'my' 'this'\n",
      " 'on' 'there' 'had' 'good' 'were' 'at' 'but' 'you' 'some' 'have' 'very'\n",
      " 'they' 'we' 'one' 'be' 'from' 'as' 'me' 'when' 'not' 'so' 'are' 'here'\n",
      " 'two' 'time' 'an' 'got' 'place' 'out' 'get' 'show' 'their' 'back' 'if'\n",
      " 'been' 'he' 'about']\n"
     ]
    }
   ],
   "source": [
    "n = 50\n",
    "\n",
    "# user1\n",
    "feature_array = np.array(tfidf.get_feature_names())\n",
    "tfidf_sorting1 = np.argsort(all_doc_v[0, :].toarray()).flatten()[::-1]\n",
    "top_n_1 = feature_array[tfidf_sorting1][:n]\n",
    "print (top_n_1)"
   ]
  },
  {
   "cell_type": "code",
   "execution_count": 44,
   "metadata": {},
   "outputs": [
    {
     "name": "stdout",
     "output_type": "stream",
     "text": [
      "['the' 'and' 'of' 'to' 'was' 'with' 'for' 'it' 'in' 'is' 'you' 'they' 'had'\n",
      " 'that' 'were' 'on' 'we' 'as' 'but' 'here' 'are' 'my' 'at' 'have' 'good'\n",
      " 'this' 'some' 'very' 'there' 'so' 'from' 'like' 'your' 'more' 'which' 'be'\n",
      " 'if' 'out' 'food' 'service' 'also' 'an' 'or' 'get' 'our' 'not' 'can'\n",
      " 'when' 'up' 'chicken']\n"
     ]
    }
   ],
   "source": [
    "# user2\n",
    "tfidf_sorting2 = np.argsort(all_doc_v[1, :].toarray()).flatten()[::-1]\n",
    "top_n_2 = feature_array[tfidf_sorting2][:n]\n",
    "print (top_n_2)"
   ]
  },
  {
   "cell_type": "markdown",
   "metadata": {},
   "source": [
    "2 texts show similar pattern"
   ]
  },
  {
   "cell_type": "code",
   "execution_count": 45,
   "metadata": {
    "collapsed": true
   },
   "outputs": [],
   "source": [
    "tfidf_stop = TfidfVectorizer(stop_words = 'english') # with stop words removed"
   ]
  },
  {
   "cell_type": "code",
   "execution_count": 46,
   "metadata": {
    "collapsed": true
   },
   "outputs": [],
   "source": [
    "all_doc_v_stop = tfidf_stop.fit_transform(all_doc)"
   ]
  },
  {
   "cell_type": "code",
   "execution_count": 47,
   "metadata": {},
   "outputs": [
    {
     "name": "stdout",
     "output_type": "stream",
     "text": [
      "['good' 'time' 'got' 'place' 'like' 'menu' 'ordered' 'just' 'small' 'came'\n",
      " 'service' 'brought' 'great' 'server' 'll' 'way' 'area' 'restaurant'\n",
      " 'dessert' 'went' 'chicken' 'people' 'try' 'course' 'food' 'chocolate'\n",
      " 'order' 'dinner' 'excellent' 'cream' 'quite' 'night' 've' 'didn' 'table'\n",
      " 'nice' 'cheese' 'theatre' 'ok' 'asked' 'really' 'sauce' 'bread' 'tea'\n",
      " 'vegas' 'las' 'going' 'meal' 'large' 'did']\n"
     ]
    }
   ],
   "source": [
    "# user1\n",
    "feature_array_stop = np.array(tfidf_stop.get_feature_names())\n",
    "tfidf_sorting_stop_1 = np.argsort(all_doc_v_stop[0, :].toarray()).flatten()[::-1]\n",
    "top_n_s1 = feature_array_stop[tfidf_sorting_stop_1][:n]\n",
    "print (top_n_s1)"
   ]
  },
  {
   "cell_type": "code",
   "execution_count": 76,
   "metadata": {},
   "outputs": [
    {
     "name": "stdout",
     "output_type": "stream",
     "text": [
      "good 0.397083617482\n",
      "time 0.179193927562\n",
      "got 0.174492573256\n",
      "place 0.164909043326\n",
      "like 0.14104062916\n",
      "menu 0.130552992633\n",
      "ordered 0.130372171314\n",
      "just 0.127659851522\n",
      "small 0.124405067772\n",
      "came 0.117172214995\n"
     ]
    }
   ],
   "source": [
    "N = 10\n",
    "v1 = all_doc_v_stop[0, tfidf_sorting_stop_1].toarray()[:N]\n",
    "for i, j in zip(top_n_s1[:N], v1[0]):\n",
    "    print (i, j)"
   ]
  },
  {
   "cell_type": "code",
   "execution_count": 70,
   "metadata": {},
   "outputs": [
    {
     "name": "stdout",
     "output_type": "stream",
     "text": [
      "['good' 'like' 'food' 'service' 'chicken' 'little' 'sauce' 'time'\n",
      " 'friendly' 'nice' 'flavor' 'lot' 'menu' 've' 'meal' 'came' 'great' 'meat'\n",
      " 'restaurant' 'place' 'fresh' 'just' 'sweet' 'went' 'really' 'items' 'bit'\n",
      " 'tried' 'taste' 'rice' 'selection' 'hot' 'try' 'got' 'area' 'salad'\n",
      " 'various' 'dishes' 'small' 'definitely' 'order' 'did' 'pretty' 'tea'\n",
      " 'large' 'sandwich' 'decent' 'different' 'quite' 'tasted']\n"
     ]
    }
   ],
   "source": [
    "# user2\n",
    "tfidf_sorting_stop_2 = np.argsort(all_doc_v_stop[1, :].toarray()).flatten()[::-1]\n",
    "top_n_s2 = feature_array_stop[tfidf_sorting_stop_2][:n]\n",
    "\n",
    "print (top_n_s2)"
   ]
  },
  {
   "cell_type": "code",
   "execution_count": 77,
   "metadata": {},
   "outputs": [
    {
     "name": "stdout",
     "output_type": "stream",
     "text": [
      "good 0.286431383815\n",
      "like 0.217411773257\n",
      "food 0.183167428019\n",
      "service 0.178920067369\n",
      "chicken 0.148392162699\n",
      "little 0.133791860466\n",
      "sauce 0.12688989941\n",
      "time 0.125828059248\n",
      "friendly 0.124766219085\n",
      "nice 0.124235299004\n"
     ]
    }
   ],
   "source": [
    "v = all_doc_v_stop[1, tfidf_sorting_stop_2].toarray()[:N]\n",
    "for i, j in zip(top_n_s2[:N], v[0]):\n",
    "    print (i, j)"
   ]
  },
  {
   "cell_type": "code",
   "execution_count": null,
   "metadata": {},
   "outputs": [],
   "source": []
  },
  {
   "cell_type": "code",
   "execution_count": null,
   "metadata": {
    "collapsed": true
   },
   "outputs": [],
   "source": []
  }
 ],
 "metadata": {
  "kernelspec": {
   "display_name": "Python 3",
   "language": "python",
   "name": "python3"
  },
  "language_info": {
   "codemirror_mode": {
    "name": "ipython",
    "version": 3
   },
   "file_extension": ".py",
   "mimetype": "text/x-python",
   "name": "python",
   "nbconvert_exporter": "python",
   "pygments_lexer": "ipython3",
   "version": "3.6.1"
  }
 },
 "nbformat": 4,
 "nbformat_minor": 2
}
