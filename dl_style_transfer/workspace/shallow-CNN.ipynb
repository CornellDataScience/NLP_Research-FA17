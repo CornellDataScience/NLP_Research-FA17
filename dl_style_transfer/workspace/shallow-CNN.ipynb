{
 "cells": [
  {
   "cell_type": "code",
   "execution_count": 1,
   "metadata": {
    "collapsed": true
   },
   "outputs": [],
   "source": [
    "import tensorflow as tf\n",
    "import numpy as np"
   ]
  },
  {
   "cell_type": "code",
   "execution_count": 2,
   "metadata": {
    "collapsed": true
   },
   "outputs": [],
   "source": [
    "SEQUENCE_LENGTH = 50\n",
    "NUM_CLASSES = 10\n",
    "VOCAB_SIZE = 2000\n",
    "EMBEDDING_SIZE = 100\n",
    "LAMBDA = 0.01"
   ]
  },
  {
   "cell_type": "code",
   "execution_count": 3,
   "metadata": {},
   "outputs": [],
   "source": [
    "# Placeholders for inputs and ouputs\n",
    "with tf.variable_scope('inputs'):\n",
    "    x = tf.placeholder(tf.int32, [None, SEQUENCE_LENGTH], name='x')\n",
    "    y = tf.placeholder(tf.float32, [None, NUM_CLASSES], name='y')\n",
    "    dropout_keep_prob = tf.placeholder(tf.float32, name='dropout_keep_prob')"
   ]
  },
  {
   "cell_type": "code",
   "execution_count": 4,
   "metadata": {
    "collapsed": true
   },
   "outputs": [],
   "source": [
    "# Keeping track of l2 regularization\n",
    "l2_reg = tf.constant(0.0)"
   ]
  },
  {
   "cell_type": "code",
   "execution_count": 5,
   "metadata": {},
   "outputs": [],
   "source": [
    "# Embedding layer\n",
    "with tf.variable_scope('embedding'):\n",
    "    W = tf.get_variable('W', initializer=tf.random_uniform([VOCAB_SIZE, EMBEDDING_SIZE], -1, 1))\n",
    "    embedded_chars = tf.nn.embedding_lookup(W, x)\n",
    "    embedded_chars_expanded = tf.expand_dims(embedded_chars, -1)"
   ]
  },
  {
   "cell_type": "code",
   "execution_count": 6,
   "metadata": {
    "collapsed": true
   },
   "outputs": [],
   "source": [
    "FILTER_SIZES = [3,4,5,6,7,8,9,10]\n",
    "NUM_FILTERS = 5"
   ]
  },
  {
   "cell_type": "code",
   "execution_count": 7,
   "metadata": {},
   "outputs": [],
   "source": [
    "# Create a convolution + max-pool layer for each filter size\n",
    "pooled_outputs = []\n",
    "for i, filter_size in enumerate(FILTER_SIZES):\n",
    "    with tf.variable_scope('conv-maxpool-%s' % filter_size):\n",
    "        filter_shape = [filter_size, EMBEDDING_SIZE, 1, NUM_FILTERS]\n",
    "        W = tf.get_variable('W', initializer=tf.truncated_normal(filter_shape, stddev=0.1))\n",
    "        b = tf.get_variable('b', initializer=tf.constant(0.1, shape=[NUM_FILTERS]))\n",
    "        conv = tf.nn.conv2d(embedded_chars_expanded, W, strides=[1,1,1,1], padding='VALID', name='conv')\n",
    "        activations = tf.nn.relu(tf.nn.bias_add(conv, b), name='activation')\n",
    "        pooled = tf.nn.max_pool(activations, ksize=[1,SEQUENCE_LENGTH-filter_size+1,1,1], strides=[1,1,1,1], \n",
    "                               padding='VALID', name='pool')\n",
    "        pooled_outputs.append(pooled)"
   ]
  },
  {
   "cell_type": "code",
   "execution_count": 8,
   "metadata": {
    "collapsed": true
   },
   "outputs": [],
   "source": [
    "# Combine all the pooled features\n",
    "num_filters_total = NUM_FILTERS * len(FILTER_SIZES)\n",
    "h_pool = tf.reshape(tf.concat(pooled_outputs, 3), [-1, num_filters_total])"
   ]
  },
  {
   "cell_type": "code",
   "execution_count": 9,
   "metadata": {
    "collapsed": true
   },
   "outputs": [],
   "source": [
    "# Add dropout\n",
    "with tf.variable_scope('dropout'):\n",
    "    h_drop = tf.nn.dropout(h_pool, dropout_keep_prob)"
   ]
  },
  {
   "cell_type": "code",
   "execution_count": 10,
   "metadata": {},
   "outputs": [],
   "source": [
    "with tf.variable_scope('outputs'):\n",
    "    W = tf.get_variable('W', shape=[num_filters_total, NUM_CLASSES], \n",
    "                        initializer=tf.contrib.layers.xavier_initializer())\n",
    "    b = tf.get_variable('b', initializer=tf.constant(0.1, shape=[NUM_CLASSES]))\n",
    "    l2_reg += tf.nn.l2_loss(W)\n",
    "    l2_reg += tf.nn.l2_loss(b)\n",
    "    scores = tf.nn.xw_plus_b(h_drop, W, b, name='scores')\n",
    "    pred = tf.argmax(scores, 1, name='predictions')"
   ]
  },
  {
   "cell_type": "code",
   "execution_count": 11,
   "metadata": {},
   "outputs": [],
   "source": [
    "with tf.variable_scope('performance'):\n",
    "    loss_func = tf.nn.softmax_cross_entropy_with_logits(logits=scores, labels=y)\n",
    "    loss = tf.reduce_mean(loss_func) + LAMBDA * l2_reg\n",
    "    correct = tf.equal(pred, tf.argmax(y, 1))\n",
    "    accuracy = tf.reduce_mean(tf.cast(pred, 'float'), name='accuracy')"
   ]
  }
 ],
 "metadata": {
  "kernelspec": {
   "display_name": "Python 3",
   "language": "python",
   "name": "python3"
  },
  "language_info": {
   "codemirror_mode": {
    "name": "ipython",
    "version": 3
   },
   "file_extension": ".py",
   "mimetype": "text/x-python",
   "name": "python",
   "nbconvert_exporter": "python",
   "pygments_lexer": "ipython3",
   "version": "3.6.1"
  }
 },
 "nbformat": 4,
 "nbformat_minor": 2
}
