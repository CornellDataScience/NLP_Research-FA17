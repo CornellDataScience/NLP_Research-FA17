{
 "cells": [
  {
   "cell_type": "code",
   "execution_count": 1,
   "metadata": {},
   "outputs": [
    {
     "name": "stderr",
     "output_type": "stream",
     "text": [
      "/home/yuji/anaconda3/lib/python3.6/importlib/_bootstrap.py:205: RuntimeWarning: compiletime version 3.5 of module 'tensorflow.python.framework.fast_tensor_util' does not match runtime version 3.6\n",
      "  return f(*args, **kwds)\n"
     ]
    }
   ],
   "source": [
    "import tensorflow as tf\n",
    "import numpy as np\n",
    "import os\n",
    "import time\n",
    "import datetime\n",
    "import data_helpers\n",
    "from shallowCNN import TextCNN\n",
    "from tensorflow.contrib import learn"
   ]
  },
  {
   "cell_type": "code",
   "execution_count": 2,
   "metadata": {},
   "outputs": [],
   "source": [
    "# Data Parameters\n",
    "tf.flags.DEFINE_string(\"positive_data_file\", \"../yelp_sentences.txt\", \"Data source for the positive data.\")\n",
    "tf.flags.DEFINE_string(\"negative_data_file\", \"../runner_up.txt\", \"Data source for the negative data.\")\n",
    "\n",
    "# Eval Parameters\n",
    "tf.flags.DEFINE_integer(\"batch_size\", 64, \"Batch Size (default: 64)\")\n",
    "tf.flags.DEFINE_string(\"checkpoint_dir\", \"runs/1512363664/checkpoints\", \"Checkpoint directory from training run\")\n",
    "tf.flags.DEFINE_boolean(\"eval_train\", False, \"Evaluate on all training data\")\n",
    "\n",
    "# Misc Parameters\n",
    "tf.flags.DEFINE_boolean(\"allow_soft_placement\", True, \"Allow device soft device placement\")\n",
    "tf.flags.DEFINE_boolean(\"log_device_placement\", False, \"Log placement of ops on devices\")"
   ]
  },
  {
   "cell_type": "code",
   "execution_count": 3,
   "metadata": {},
   "outputs": [
    {
     "name": "stdout",
     "output_type": "stream",
     "text": [
      "Parameters:\n",
      "ALLOW_SOFT_PLACEMENT=True\n",
      "BATCH_SIZE=64\n",
      "CHECKPOINT_DIR=runs/1512363664/checkpoints\n",
      "EVAL_TRAIN=False\n",
      "LOG_DEVICE_PLACEMENT=False\n",
      "NEGATIVE_DATA_FILE=../runner_up.txt\n",
      "POSITIVE_DATA_FILE=../yelp_sentences.txt\n"
     ]
    }
   ],
   "source": [
    "FLAGS = tf.flags.FLAGS\n",
    "FLAGS._parse_flags()\n",
    "print(\"Parameters:\")\n",
    "for attr, value in sorted(FLAGS.__flags.items()):\n",
    "    print(\"{}={}\".format(attr.upper(), value))"
   ]
  },
  {
   "cell_type": "code",
   "execution_count": 4,
   "metadata": {
    "collapsed": true
   },
   "outputs": [],
   "source": [
    "x_text, y = data_helpers.load_data_and_labels(FLAGS.positive_data_file, FLAGS.negative_data_file)"
   ]
  },
  {
   "cell_type": "code",
   "execution_count": 5,
   "metadata": {},
   "outputs": [],
   "source": [
    "# Map data into vocabulary\n",
    "vocab_path = os.path.join(FLAGS.checkpoint_dir, \"..\", \"vocab\")\n",
    "vocab_processor = learn.preprocessing.VocabularyProcessor.restore(vocab_path)\n",
    "vocab_dict = vocab_processor.vocabulary_._mapping\n",
    "x_test = np.array(list(vocab_processor.transform(x_text)))"
   ]
  },
  {
   "cell_type": "code",
   "execution_count": 6,
   "metadata": {
    "collapsed": true
   },
   "outputs": [],
   "source": [
    "test_idx = 42"
   ]
  },
  {
   "cell_type": "code",
   "execution_count": 7,
   "metadata": {
    "collapsed": true
   },
   "outputs": [],
   "source": [
    "sequence_length = 144\n",
    "embedding_size = 128"
   ]
  },
  {
   "cell_type": "code",
   "execution_count": 8,
   "metadata": {},
   "outputs": [
    {
     "name": "stdout",
     "output_type": "stream",
     "text": [
      "INFO:tensorflow:Restoring parameters from /home/yuji/Documents/CDS/Yelp-FA17/dl_style_transfer/workspace/runs/1512363664/checkpoints/model-100\n",
      "\n",
      " the salad was small and was made with a slice or two of thin cvcvmber acting as the bowl with greens inside and the blev cheese dressing on the side \n",
      "\n",
      "Iteration 0 Loss: 78168.4\n",
      "Iteration 1000 Loss: 9036.59\n",
      "Iteration 2000 Loss: 1085.44\n",
      "Iteration 3000 Loss: 103.183\n",
      "Iteration 4000 Loss: 5.26055\n",
      "Iteration 5000 Loss: 0.106631\n",
      "Iteration 6000 Loss: 0.00137566\n",
      "Iteration 7000 Loss: 8.68703e-06\n",
      "Iteration 8000 Loss: 1.25284e-06\n",
      "Iteration 9000 Loss: 3.72968e-07\n",
      "\n",
      "\n",
      "show 's an salt heard an chain after than popped back typical rancho ron came for past show radar after look desire heard show live head for show show start\n"
     ]
    }
   ],
   "source": [
    "checkpoint_file = tf.train.latest_checkpoint(FLAGS.checkpoint_dir)\n",
    "graph = tf.Graph()\n",
    "\n",
    "with graph.as_default():\n",
    "    \n",
    "    session_conf = tf.ConfigProto(allow_soft_placement=True, log_device_placement=False)\n",
    "    sess = tf.Session(config=session_conf)\n",
    "    \n",
    "    with sess.as_default():\n",
    "        # Load the saved meta graph and restore variables\n",
    "        saver = tf.train.import_meta_graph(\"{}.meta\".format(checkpoint_file))\n",
    "        saver.restore(sess, checkpoint_file)\n",
    "\n",
    "        # Get the placeholders from the graph by name\n",
    "        input_x = graph.get_operation_by_name(\"input_x\").outputs[0]\n",
    "        dropout_keep_prob = graph.get_operation_by_name(\"dropout_keep_prob\").outputs[0]\n",
    "\n",
    "        # Tensors we want to evaluate\n",
    "        activations = []\n",
    "        targets = []\n",
    "        \n",
    "        for i, n in enumerate([3,4,5]):\n",
    "            activations.append(graph.get_operation_by_name(\"conv-maxpool-\" + str(n) + \"/conv\").outputs[0])\n",
    "            targets.append(tf.constant(sess.run(activations[i], {input_x: x_test[test_idx].reshape(1,-1)})))\n",
    "            \n",
    "        print(\"\\n\", x_text[test_idx], \"\\n\") \n",
    "        \n",
    "        with tf.variable_scope('reconstructions'):\n",
    "            \n",
    "            reconstruction = tf.get_variable('reconstuction', \n",
    "                                             initializer=tf.random_uniform([1, sequence_length, embedding_size]))\n",
    "            embedded_chars_expanded = tf.expand_dims(reconstruction, -1)\n",
    "            \n",
    "            convolutions = []\n",
    "            losses = []\n",
    "            \n",
    "            for i, filter_size in enumerate([3,4,5]):\n",
    "                W_trained = graph.get_operation_by_name(\"conv-maxpool-\" + str(filter_size) + \"/W\").outputs[0]       \n",
    "                W = tf.constant(sess.run(W_trained))\n",
    "                \n",
    "                conv = tf.nn.conv2d(embedded_chars_expanded, W, strides=[1,1,1,1], \n",
    "                                    padding='VALID', name='conv' + str(i))\n",
    "                convolutions.append(conv)\n",
    "                losses.append(tf.nn.l2_loss(conv - targets[i]))\n",
    "            \n",
    "            loss = tf.reduce_sum(losses)\n",
    "            train_step = tf.train.AdamOptimizer(learning_rate=0.001).minimize(loss)\n",
    "            \n",
    "            sess.run(tf.global_variables_initializer())\n",
    "            \n",
    "            n_iters = 10000\n",
    "            for it in range(n_iters):\n",
    "                sess.run(train_step)\n",
    "                if it % 1000 == 0:\n",
    "                    print('Iteration %d' % (it), 'Loss:', sess.run(loss))\n",
    "                    \n",
    "        reconstructed = sess.run(reconstruction)\n",
    "        words = []\n",
    "        for idx in np.argmax(reconstructed, axis=-1).flatten():\n",
    "            words.append(list(vocab_dict.keys())[list(vocab_dict.values()).index(idx)])\n",
    "        sentence_length = np.where(x_test[test_idx] == 0)[0][0]\n",
    "        print('\\n')\n",
    "        print(' '.join(word for word in words[:sentence_length]))"
   ]
  }
 ],
 "metadata": {
  "kernelspec": {
   "display_name": "Python 3",
   "language": "python",
   "name": "python3"
  },
  "language_info": {
   "codemirror_mode": {
    "name": "ipython",
    "version": 3
   },
   "file_extension": ".py",
   "mimetype": "text/x-python",
   "name": "python",
   "nbconvert_exporter": "python",
   "pygments_lexer": "ipython3",
   "version": "3.6.1"
  }
 },
 "nbformat": 4,
 "nbformat_minor": 2
}
