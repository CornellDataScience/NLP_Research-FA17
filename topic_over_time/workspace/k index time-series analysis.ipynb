{
 "cells": [
  {
   "cell_type": "code",
   "execution_count": 2,
   "metadata": {},
   "outputs": [],
   "source": [
    "import pickle\n",
    "#from utils import * \n",
    "import pandas as pd\n",
    "import numpy as np\n",
    "import json\n",
    "import nltk\n",
    "#nltk.download()\n",
    "\n",
    "#import seaborn as sns\n",
    "#import matplotlib.pyplot as plt"
   ]
  },
  {
   "cell_type": "code",
   "execution_count": 4,
   "metadata": {},
   "outputs": [],
   "source": [
    "def json_df(datapass):\n",
    "    '''\n",
    "    Load the json file and parse the file to pandas dataframe format\n",
    "    \n",
    "    Input:\n",
    "        datapass(str) : directory to the json file\n",
    "    Output:\n",
    "        df(dataframe) : pandas dataframe object\n",
    "    '''\n",
    "    \n",
    "    data = [] \n",
    "    with open(datapass, 'r', encoding='utf-8') as data_file: \n",
    "        for f in data_file:\n",
    "            data.append(json.loads(f))\n",
    "    df = pd.DataFrame(data)\n",
    "    return df\n",
    "\n",
    "#business and review json files --> dataframes\n",
    "\n",
    "DATAPASS1 = 'C:\\\\Users\\\\cdchang\\\\Downloads\\\\yelp_dataset\\\\dataset\\\\business.json'\n",
    "DATAPASS2 = 'C:\\\\Users\\\\cdchang\\\\Downloads\\\\yelp_dataset\\\\dataset\\\\review.json'\n",
    "\n",
    "#business = json_df(DATAPASS1)\n",
    "reviews = json_df(DATAPASS2)"
   ]
  },
  {
   "cell_type": "code",
   "execution_count": 6,
   "metadata": {
    "collapsed": true
   },
   "outputs": [
    {
     "name": "stderr",
     "output_type": "stream",
     "text": [
      "C:\\Users\\cdchang\\Anaconda3\\lib\\site-packages\\sklearn\\base.py:312: UserWarning: Trying to unpickle estimator TfidfTransformer from version 0.18.1 when using version 0.19.0. This might lead to breaking code or invalid results. Use at your own risk.\n",
      "  UserWarning)\n",
      "C:\\Users\\cdchang\\Anaconda3\\lib\\site-packages\\sklearn\\base.py:312: UserWarning: Trying to unpickle estimator TfidfVectorizer from version 0.18.1 when using version 0.19.0. This might lead to breaking code or invalid results. Use at your own risk.\n",
      "  UserWarning)\n",
      "C:\\Users\\cdchang\\Anaconda3\\lib\\site-packages\\sklearn\\base.py:312: UserWarning: Trying to unpickle estimator NMF from version 0.18.1 when using version 0.19.0. This might lead to breaking code or invalid results. Use at your own risk.\n",
      "  UserWarning)\n",
      "C:\\Users\\cdchang\\Anaconda3\\lib\\site-packages\\sklearn\\base.py:312: UserWarning: Trying to unpickle estimator CountVectorizer from version 0.18.1 when using version 0.19.0. This might lead to breaking code or invalid results. Use at your own risk.\n",
      "  UserWarning)\n",
      "C:\\Users\\cdchang\\Anaconda3\\lib\\site-packages\\sklearn\\base.py:312: UserWarning: Trying to unpickle estimator LatentDirichletAllocation from version 0.18.1 when using version 0.19.0. This might lead to breaking code or invalid results. Use at your own risk.\n",
      "  UserWarning)\n"
     ]
    }
   ],
   "source": [
    "def display_topics(model, feature_names, n_top_words):\n",
    "    '''\n",
    "    display topic with n_top_words in a decsending order of weight\n",
    "    \n",
    "    Input:\n",
    "        model : directory for vectorizer\n",
    "        feature_names : list of vocabulary \n",
    "        n_top_words(int) : number of words to display for each topic\n",
    "\n",
    "    '''\n",
    "    for topic_index, topic in enumerate(model.components_):\n",
    "        print(\"Topic %d:\" % topic_index)\n",
    "        print(\" \".join([feature_names[i] for i in topic.argsort()[:-n_top_words:-1]]))\n",
    "\n",
    "def load_topic_model(vectorizer_file_name, topic_model_file_name):\n",
    "    with open(vectorizer_file_name, \"rb\") as f:\n",
    "        vectorizer = pickle.load(f)\n",
    "    with open(topic_model_file_name, \"rb\") as f:\n",
    "        topic_model = pickle.load(f)\n",
    "    return vectorizer, topic_model\n",
    "\n",
    "#pizza\n",
    "\n",
    "path1 = 'C:\\\\Users\\\\cdchang\\\\Desktop\\\\yelp-topic-model\\\\model\\\\pizza_tfidf_vectorizer.pkl'\n",
    "path2 = 'C:\\\\Users\\\\cdchang\\\\Desktop\\\\yelp-topic-model\\\\model\\\\pizza_nmf.pkl'\n",
    "path3 = 'C:\\\\Users\\\\cdchang\\\\Desktop\\\\yelp-topic-model\\\\model\\\\pizza_count_vectorizer.pkl'\n",
    "path4 = 'C:\\\\Users\\\\cdchang\\\\Desktop\\\\yelp-topic-model\\\\model\\\\pizza_lda.pkl'\n",
    "vec, tm = load_topic_model(path1, path2)\n",
    "vec2, tm2 = load_topic_model(path3, path4)"
   ]
  },
  {
   "cell_type": "code",
   "execution_count": 7,
   "metadata": {
    "collapsed": true
   },
   "outputs": [
    {
     "data": {
      "text/plain": [
       "array([[  5.35318219e-02,   0.00000000e+00,   4.09802948e-02, ...,\n",
       "          7.96897006e-02,   3.98538679e-02,   0.00000000e+00],\n",
       "       [  7.86209423e-02,   1.88202333e-01,   3.27705625e-02, ...,\n",
       "          2.97546372e-02,   9.73259392e-02,   0.00000000e+00],\n",
       "       [  3.54345514e-01,   2.62719244e+00,   1.12437870e-01, ...,\n",
       "          0.00000000e+00,   0.00000000e+00,   0.00000000e+00],\n",
       "       ..., \n",
       "       [  4.13455229e-02,   0.00000000e+00,   4.27813136e-04, ...,\n",
       "          0.00000000e+00,   6.59642074e-02,   0.00000000e+00],\n",
       "       [  0.00000000e+00,   0.00000000e+00,   0.00000000e+00, ...,\n",
       "          3.22001617e-02,   1.51870707e-01,   0.00000000e+00],\n",
       "       [  1.37329447e-02,   0.00000000e+00,   7.26685010e-02, ...,\n",
       "          0.00000000e+00,   0.00000000e+00,   0.00000000e+00]])"
      ]
     },
     "execution_count": 7,
     "metadata": {},
     "output_type": "execute_result"
    }
   ],
   "source": [
    "tm.components_"
   ]
  },
  {
   "cell_type": "code",
   "execution_count": 8,
   "metadata": {},
   "outputs": [],
   "source": [
    "#k index embedding methods\n",
    "\n",
    "def get_k_index(sentence, vec, tm):\n",
    "    '''\n",
    "    Given a sentence (not the entire review), generate a distribution of topic \n",
    "    by adding the weight of topic per words.\n",
    "    I initialy tried with the product of topic weights but ended up getting 0s.\n",
    "    \n",
    "    Also produce the probability vector by scaling the vector so that the sum will be 1.\n",
    "    \n",
    "    Input:\n",
    "        sentence(str) : a sentence to be studied\n",
    "        vec : vectorizer object \n",
    "        tm : topic model object \n",
    "    Output:\n",
    "        k_index (list) : the vector of length k (k = number of topic). \n",
    "        prob (list) : k_index but scaled so that the sum of inputs becomes 1 \n",
    "    '''\n",
    "    analyzer = vec.build_analyzer()\n",
    "    topic_words = vec.get_feature_names()\n",
    "    tm_mat = tm.components_\n",
    "    k_index = np.array([0.]*tm_mat.shape[0])\n",
    "    for word in analyzer(sentence):\n",
    "        if word in topic_words:\n",
    "            k_index += tm_mat[:, topic_words.index(word)]\n",
    "    if sum(k_index) == 0:\n",
    "        prob = np.array([0.]*tm_mat.shape[0])\n",
    "    else:\n",
    "        prob = k_index/(sum(k_index))\n",
    "    return k_index, prob\n",
    "\n",
    "\n",
    "def get_avg_k_index_for_doc(doc, vec, tm):\n",
    "    sent_text = nltk.sent_tokenize(doc)\n",
    "    if (int(len(sent_text)) == 0):\n",
    "        return []\n",
    "    else:\n",
    "        tm_mat = tm.components_\n",
    "        k_index = np.array([0.]*tm_mat.shape[0])\n",
    "        for s in sent_text:\n",
    "            k, p = get_k_index(s, vec, tm)\n",
    "            k_index += p\n",
    "        return k_index/int(len(sent_text))\n",
    "\n",
    "#use this \n",
    "def business_id_retrieval(cat, business):\n",
    "    '''\n",
    "    Input:\n",
    "        cat(str) : category\n",
    "        business(dataframe) : the business data\n",
    "    Output:\n",
    "        id_list(set) : business ids of a particular category\n",
    "    '''\n",
    "    id_list = set()\n",
    "    id_list = []\n",
    "    idx = 0\n",
    "    for row in business.values:\n",
    "        categories = row[3]\n",
    "        if cat in categories:\n",
    "            id_list.append(row[2])\n",
    "            \n",
    "    return id_list\n",
    "\n",
    "#business_id_retrieval('Pizza', business)\n",
    "\n",
    "#get_avg_k_index_for_doc(\"uYHaNptLzDLoV_JZ_MuzUA\",vec, tm)"
   ]
  },
  {
   "cell_type": "code",
   "execution_count": 113,
   "metadata": {},
   "outputs": [
    {
     "data": {
      "image/png": "[encoded data removed]",
      "text/plain": [
       "<matplotlib.figure.Figure at 0x1f3b97e3a20>"
      ]
     },
     "metadata": {},
     "output_type": "display_data"
    }
   ],
   "source": [
    "#ultimately: find subset of pizza / chinese restaurants \n",
    "#set-up methods\n",
    "import matplotlib.pyplot as plt\n",
    "#import plotly.plotly as py\n",
    "#import plotly.graph_objs as go\n",
    "#for a single business_id\n",
    "def examine_reviews(b_id, reviews):\n",
    "    '''\n",
    "    concatenate a particular business's review text with the corresponding dates for time series analysis\n",
    "    \n",
    "    Input: specific business id, review json file\n",
    "    Output: concatenated review text & date columns for a particular business id\n",
    "    '''\n",
    "    subset = reviews.loc[reviews['business_id'] == b_id]\n",
    "    date = subset.loc[:, 'date']\n",
    "    text = subset.loc[:, 'text']\n",
    "    return pd.concat([date, text], axis=1, join='inner')\n",
    "\n",
    "#trying with single business id / not tested\n",
    "def k_index_emb_single(b_id, reviews):\n",
    "    \n",
    "    '''\n",
    "    input: business id, reviews json\n",
    "    output: weight vectors for each topic, for every review from a particular business, concatenated (sorted by time)\n",
    "    '''\n",
    "    \n",
    "    subset = examine_reviews(b_id, reviews)\n",
    "    s = subset.sort_values(by=\"date\") #sorting by timestamp\n",
    "    text_only = s.loc[:, 'text']\n",
    "    count= 0\n",
    "    weight_vectors = []\n",
    "    for t in text_only:\n",
    "        if (count==0):\n",
    "            weight_vectors.append(get_avg_k_index_for_doc(t,vec,tm))\n",
    "        else:\n",
    "            newcol = get_avg_k_index_for_doc(t,vec,tm)\n",
    "            weight_vectors = np.vstack([weight_vectors, newcol])\n",
    "        count = count+1    \n",
    "    return weight_vectors\n",
    "\n",
    "def examine_reviews2(cat, business, reviews):\n",
    "    '''\n",
    "    concatenate a category's review text with the corresponding dates for time series analysis\n",
    "    Input: specific category, review json file\n",
    "    Output: concatenated review text & date columns for a particular category (not business specific) \n",
    "    '''\n",
    "    id_list = business_id_retrieval(cat, business)\n",
    "    return reviews.loc[reviews['business_id'].isin(id_list)]\n",
    "\n",
    "def plot_by_topic(b_id, reviews, topic_num): #note, x axis is not made up of timestamps, instead \n",
    "    '''\n",
    "    input:\n",
    "    output: for a given topic (topic_num), produce a plot where x axis: time of review y axis: k index emb \n",
    "    '''\n",
    "#sort by timestamp\n",
    "    subset = examine_reviews(b_id, reviews)\n",
    "    s = subset.sort_values(by=\"date\") #sorting by timestamp\n",
    "\n",
    "    weight_vectors = k_index_emb_single(b_id, reviews)\n",
    "    topic_points = list()\n",
    "\n",
    "#weight_vectors[1][0]\n",
    "#len(weight_vectors)\n",
    "    for wv in range(len(weight_vectors)): #for the first topic, hence weight_vectors[wv][0]\n",
    "        topic_points.append(weight_vectors[wv][topic_num])\n",
    "\n",
    "    plt.scatter(np.arange(len(weight_vectors)),topic_points,c='black')\n",
    "    plt.show()\n",
    "\n",
    "plot_by_topic(\"HRFJlSAP_EBU_MpPPmpUDQ\", reviews, 28)\n",
    "#8,9 look interesting  - not plotted to scale, axis-wise"
   ]
  },
  {
   "cell_type": "code",
   "execution_count": 147,
   "metadata": {},
   "outputs": [
    {
     "name": "stdout",
     "output_type": "stream",
     "text": [
      "Coefficients: \n",
      " [[ 3.68436401]]\n",
      "Mean squared error: 4.60\n",
      "Variance score: -0.42\n"
     ]
    },
    {
     "data": {
      "image/png": "[encoded data removed]",
      "text/plain": [
       "<matplotlib.figure.Figure at 0x1f3b952db70>"
      ]
     },
     "metadata": {},
     "output_type": "display_data"
    }
   ],
   "source": [
    "#lin reg classifier code!\n",
    "import sklearn \n",
    "from sklearn import datasets, linear_model\n",
    "from sklearn.metrics import mean_squared_error, r2_score\n",
    "\n",
    "#topic (X) vs star rating (y)\n",
    "def linreg_topics(b_id, reviews):\n",
    "    print(\"uhoh\")\n",
    "\n",
    "#subset = examine_reviews(\"HRFJlSAP_EBU_MpPPmpUDQ\", reviews)\n",
    "subset = reviews.loc[reviews['business_id'] == \"HRFJlSAP_EBU_MpPPmpUDQ\"]\n",
    "date = subset.loc[:, 'date']\n",
    "text = subset.loc[:, 'text']\n",
    "stars = subset.loc[:,'stars']\n",
    "\n",
    "pd.concat([date, text, stars], axis=1, join='inner')\n",
    "\n",
    "s = subset.sort_values(by=\"date\") #sorting by timestamp\n",
    "\n",
    "weight_vectors = k_index_emb_single(\"HRFJlSAP_EBU_MpPPmpUDQ\", reviews)\n",
    "topic_points = list()\n",
    "\n",
    "#for a given topic (in this case, topic index = 0)\n",
    "for wv in range(len(weight_vectors)): #for the first topic, hence weight_vectors[wv][0]\n",
    "    topic_points.append(weight_vectors[wv][1])\n",
    "\n",
    "#convert to np arrays\n",
    "np_topic_points = np.array(topic_points)\n",
    "np_stars = np.array(s.loc[:,\"stars\"])\n",
    "\n",
    "classif_X_train = np_topic_points[:10]\n",
    "classif_X_test = np_topic_points[-10:]\n",
    "\n",
    "\n",
    "s.loc[:,\"stars\"][:10]\n",
    "classif_y_train = np_stars[:10]\n",
    "classif_y_test = np_stars[-10:]\n",
    "\n",
    "regr = linear_model.LinearRegression()\n",
    "\n",
    "classif_X_train.reshape(-1,1)\n",
    "classif_y_train.reshape(-1,1)\n",
    "\n",
    "classif_X_train.shape= (10,1)\n",
    "classif_y_train.shape= (10,1)\n",
    "classif_X_test.shape= (10,1)\n",
    "classif_y_test.shape= (10,1)\n",
    "\n",
    "regr.fit(classif_X_train, classif_y_train)\n",
    "classif_y_pred = regr.predict(classif_X_test)\n",
    "\n",
    "#the coefficients \n",
    "print('Coefficients: \\n', regr.coef_)\n",
    "# The mean squared error\n",
    "print(\"Mean squared error: %.2f\"\n",
    "      % mean_squared_error(classif_y_test, classif_y_pred))\n",
    "# variance score: 1 is perfect prediction\n",
    "print('Variance score: %.2f' % r2_score(classif_y_test, classif_y_pred))\n",
    "\n",
    "plt.scatter(classif_X_test, classif_y_test, color='black')\n",
    "plt.plot(classif_X_test, classif_y_pred, color='blue', linewidth=3)\n",
    "\n",
    "plt.show()\n",
    "#business id: \"HRFJlSAP_EBU_MpPPmpUDQ\""
   ]
  },
  {
   "cell_type": "code",
   "execution_count": 148,
   "metadata": {},
   "outputs": [
    {
     "name": "stdout",
     "output_type": "stream",
     "text": [
      "2.6\n"
     ]
    }
   ],
   "source": [
    "#sanity check - how well did it predict\n",
    "print(np.mean(np_stars[-10:])) #actual avg value\n",
    "\n"
   ]
  },
  {
   "cell_type": "code",
   "execution_count": null,
   "metadata": {},
   "outputs": [],
   "source": [
    "#SVM classifier code\n"
   ]
  },
  {
   "cell_type": "code",
   "execution_count": 78,
   "metadata": {
    "collapsed": true
   },
   "outputs": [
    {
     "data": {
      "image/png": "[encoded data removed]",
      "text/plain": [
       "<matplotlib.figure.Figure at 0x1f3bba01be0>"
      ]
     },
     "metadata": {},
     "output_type": "display_data"
    }
   ],
   "source": [
    "#random things\n",
    "\n",
    "import matplotlib.pyplot as plt\n",
    "import matplotlib.lines as mlines\n",
    "import matplotlib.transforms as mtransforms\n",
    "\n",
    "\n",
    "# THIS WORKS: \n",
    "#x, y = np.random.random((2, 100))*2\n",
    "#fig, ax = plt.subplots()\n",
    "#ax.scatter(x, y, c='black')\n",
    "#line = mlines.Line2D([0, 1], [0, 1], color='red')\n",
    "#transform = ax.transAxes\n",
    "#line.set_transform(transform)\n",
    "#ax.add_line(line)\n",
    "#plt.show()\n",
    "\n",
    "\n",
    "\n",
    "#TIMESTAMP RANDOM TESTS\n",
    "\n",
    "#s.loc[:,'date'].date()\n",
    "#topic_points\n",
    "#s.dtypes\n",
    "#plt.plot_date(s.loc[:,'date'],topic_points, fmt = 'o')\n",
    "#plt.scatter(range(0,20),topic_points)\n",
    "\n",
    "\n",
    "#data = [go.Scatter( x=subset['date'], y=topic_points)]\n",
    "\n",
    "\n",
    "\n",
    "#ts = pd.Series(topic_points,s)\n",
    "#ts\n",
    "#s.loc[:,'date'][0:4]\n",
    "#plt.plot(s.loc[:, 'date'], topic_points, 'k-', lw=2)\n",
    "#for wv in weight_vectors:\n",
    "#    topic_points.append(weight_vectors[wv][0])\n",
    "#pd.to_datetime(s)\n",
    "#plt.plot(s['date'],topic_points, 'k-', lw=2)\n",
    "\n",
    "\n",
    "#df = df.sort_values('date', ascending=True)\n",
    "\n",
    "#data = pd.to_numeric(s.loc[:,'date'][0])\n",
    "#pd.to_numeric(s.loc[:,'date'][1:2])"
   ]
  }
 ],
 "metadata": {
  "kernelspec": {
   "display_name": "Python 3",
   "language": "python",
   "name": "python3"
  },
  "language_info": {
   "codemirror_mode": {
    "name": "ipython",
    "version": 3
   },
   "file_extension": ".py",
   "mimetype": "text/x-python",
   "name": "python",
   "nbconvert_exporter": "python",
   "pygments_lexer": "ipython3",
   "version": "3.6.1"
  }
 },
 "nbformat": 4,
 "nbformat_minor": 2
}
