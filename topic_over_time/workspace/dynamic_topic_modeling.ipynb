{
 "cells": [
  {
   "cell_type": "code",
   "execution_count": 244,
   "metadata": {
    "collapsed": true
   },
   "outputs": [],
   "source": [
    "import pandas as pd\n",
    "import matplotlib.pyplot as plt\n",
    "import numpy as np\n",
    "from gensim import corpora, models, similarities\n",
    "from gensim.parsing.preprocessing import STOPWORDS\n",
    "from gensim.utils import simple_preprocess\n",
    "import nltk\n",
    "import pickle\n",
    "import gensim\n",
    "from itertools import chain"
   ]
  },
  {
   "cell_type": "code",
   "execution_count": 2,
   "metadata": {
    "collapsed": true
   },
   "outputs": [],
   "source": [
    "business = pd.read_csv('chinese_business_clean.csv')\n",
    "reviews = pd.read_csv('chinese_reviews_clean.csv')"
   ]
  },
  {
   "cell_type": "code",
   "execution_count": 7,
   "metadata": {
    "collapsed": true
   },
   "outputs": [],
   "source": [
    "reviews_ch = reviews.sort_values(by = 'date')"
   ]
  },
  {
   "cell_type": "code",
   "execution_count": 19,
   "metadata": {
    "collapsed": true
   },
   "outputs": [],
   "source": [
    "from datetime import datetime\n",
    "date = [datetime.strptime(d, '%Y-%m-%d') for d in reviews_ch['date']]"
   ]
  },
  {
   "cell_type": "code",
   "execution_count": 47,
   "metadata": {
    "collapsed": true
   },
   "outputs": [],
   "source": [
    "prev_m = date[0].month\n",
    "prev_y = date[0].year\n",
    "counter = 0\n",
    "flag = []\n",
    "for d in date:\n",
    "    month = d.month \n",
    "    year = d.year \n",
    "    if year > prev_y or month > prev_m:\n",
    "        flag.append(counter)\n",
    "        counter = 1\n",
    "    else:\n",
    "        counter += 1\n",
    "    prev_m = month    \n",
    "    prev_y = year"
   ]
  },
  {
   "cell_type": "code",
   "execution_count": 48,
   "metadata": {},
   "outputs": [
    {
     "data": {
      "image/png": "[encoded data removed]",
      "text/plain": [
       "<matplotlib.figure.Figure at 0x11afd3fd0>"
      ]
     },
     "metadata": {},
     "output_type": "display_data"
    }
   ],
   "source": [
    "plt.bar(np.arange(len(flag)), flag)\n",
    "plt.title('Reviews per monthly bin')\n",
    "plt.show()"
   ]
  },
  {
   "cell_type": "code",
   "execution_count": 45,
   "metadata": {
    "collapsed": true
   },
   "outputs": [],
   "source": [
    "prev_y = date[0].year\n",
    "counter = 0\n",
    "flag = []\n",
    "for d in date:\n",
    "    month = d.month \n",
    "    year = d.year \n",
    "    if year > prev_y:\n",
    "        flag.append(counter)\n",
    "        counter = 1\n",
    "    else:\n",
    "        counter += 1\n",
    "    prev_m = month    \n",
    "    prev_y = year"
   ]
  },
  {
   "cell_type": "code",
   "execution_count": 46,
   "metadata": {
    "scrolled": true
   },
   "outputs": [
    {
     "data": {
      "image/png": "[encoded data removed]",
      "text/plain": [
       "<matplotlib.figure.Figure at 0x11b2917b8>"
      ]
     },
     "metadata": {},
     "output_type": "display_data"
    }
   ],
   "source": [
    "plt.bar(np.arange(len(flag)), flag)\n",
    "plt.title('Reviews per yearly bin')\n",
    "plt.show()"
   ]
  },
  {
   "cell_type": "code",
   "execution_count": 51,
   "metadata": {},
   "outputs": [
    {
     "name": "stdout",
     "output_type": "stream",
     "text": [
      "2005-02-02 00:00:00\n",
      "2005-04-08 00:00:00\n",
      "2005-05-12 00:00:00\n",
      "2005-06-17 00:00:00\n",
      "2005-07-18 00:00:00\n",
      "2005-10-12 00:00:00\n",
      "2005-11-02 00:00:00\n",
      "2005-12-02 00:00:00\n",
      "2006-01-01 00:00:00\n",
      "2006-02-06 00:00:00\n",
      "2006-03-01 00:00:00\n",
      "2006-04-02 00:00:00\n",
      "2006-05-07 00:00:00\n",
      "2006-06-01 00:00:00\n",
      "2006-07-08 00:00:00\n",
      "2006-08-06 00:00:00\n",
      "2006-09-01 00:00:00\n",
      "2006-10-01 00:00:00\n",
      "2006-11-05 00:00:00\n",
      "2006-12-09 00:00:00\n",
      "2007-01-02 00:00:00\n",
      "2007-02-02 00:00:00\n",
      "2007-03-01 00:00:00\n",
      "2007-04-02 00:00:00\n",
      "2007-05-01 00:00:00\n",
      "2007-06-01 00:00:00\n",
      "2007-07-01 00:00:00\n",
      "2007-08-01 00:00:00\n",
      "2007-09-01 00:00:00\n",
      "2007-10-01 00:00:00\n",
      "2007-11-01 00:00:00\n",
      "2007-12-01 00:00:00\n",
      "2008-01-02 00:00:00\n"
     ]
    }
   ],
   "source": [
    "prev_m = date[0].month\n",
    "prev_y = date[0].year\n",
    "counter = 0\n",
    "flag = []\n",
    "for d in date:\n",
    "    month = d.month \n",
    "    year = d.year \n",
    "    if year > prev_y or month > prev_m:\n",
    "        flag.append(counter)\n",
    "        if counter < 100:\n",
    "            print (d)\n",
    "        counter = 1\n",
    "    else:\n",
    "        counter += 1\n",
    "    prev_m = month    \n",
    "    prev_y = year"
   ]
  },
  {
   "cell_type": "markdown",
   "metadata": {},
   "source": [
    "## Start collecting data from 2008/1"
   ]
  },
  {
   "cell_type": "code",
   "execution_count": 103,
   "metadata": {
    "collapsed": true
   },
   "outputs": [],
   "source": [
    "data = reviews[reviews['date'] > '2008-01-02']"
   ]
  },
  {
   "cell_type": "code",
   "execution_count": 54,
   "metadata": {
    "collapsed": true
   },
   "outputs": [],
   "source": [
    "lda =  models.LdaModel.load('gensim/lda.model')\n",
    "dictionary = corpora.Dictionary.load('gensim/chinsese_dict.dict')"
   ]
  },
  {
   "cell_type": "code",
   "execution_count": 3,
   "metadata": {
    "collapsed": true
   },
   "outputs": [],
   "source": [
    "def tokenize(text):\n",
    "    return [token for token in simple_preprocess(text) if token not in STOPWORDS]\n",
    "\n",
    "def embed(text, model, dictionary):\n",
    "    text = tokenize(text)\n",
    "    bow = dictionary.doc2bow(text)\n",
    "    kindex = model.get_document_topics(bow, minimum_probability = 0.0)\n",
    "    out = [0] * model.num_topics\n",
    "    for i, p in kindex:\n",
    "        out[i] = p\n",
    "    return np.array(out) \n",
    "\n",
    "def embed_sent(text, model, dictionary):\n",
    "    out = np.array([0.]*128)\n",
    "    sentences = len(nltk.sent_tokenize(text))\n",
    "    for text in nltk.sent_tokenize(text):\n",
    "        out += embed(text, lda, dictionary)\n",
    "    return (out/sentences)"
   ]
  },
  {
   "cell_type": "code",
   "execution_count": 4,
   "metadata": {},
   "outputs": [
    {
     "ename": "NameError",
     "evalue": "name 'reviews' is not defined",
     "output_type": "error",
     "traceback": [
      "\u001b[0;31m---------------------------------------------------------------------------\u001b[0m",
      "\u001b[0;31mNameError\u001b[0m                                 Traceback (most recent call last)",
      "\u001b[0;32m<ipython-input-4-5448611b959e>\u001b[0m in \u001b[0;36m<module>\u001b[0;34m()\u001b[0m\n\u001b[0;32m----> 1\u001b[0;31m \u001b[0membed_sent\u001b[0m\u001b[0;34m(\u001b[0m\u001b[0mreviews\u001b[0m\u001b[0;34m[\u001b[0m\u001b[0;34m'text'\u001b[0m\u001b[0;34m]\u001b[0m\u001b[0;34m[\u001b[0m\u001b[0;36m3\u001b[0m\u001b[0;34m]\u001b[0m\u001b[0;34m,\u001b[0m \u001b[0mlda\u001b[0m\u001b[0;34m,\u001b[0m \u001b[0mdictionary\u001b[0m\u001b[0;34m)\u001b[0m\u001b[0;34m\u001b[0m\u001b[0m\n\u001b[0m",
      "\u001b[0;31mNameError\u001b[0m: name 'reviews' is not defined"
     ]
    }
   ],
   "source": [
    "embed_sent(reviews['text'][3], lda, dictionary)"
   ]
  },
  {
   "cell_type": "code",
   "execution_count": 67,
   "metadata": {
    "collapsed": true
   },
   "outputs": [],
   "source": [
    "def embed_sent_freq(text, model, dictionary):\n",
    "    out = np.array([0.]*128)\n",
    "    sentences = len(nltk.sent_tokenize(text))\n",
    "    for text in nltk.sent_tokenize(text):\n",
    "        out += np.ceil(embed(text, lda, dictionary))\n",
    "    return out"
   ]
  },
  {
   "cell_type": "code",
   "execution_count": 71,
   "metadata": {},
   "outputs": [
    {
     "data": {
      "text/plain": [
       "array([ 0.,  0.,  2.,  0.,  4.,  1.,  1.,  0.,  0.,  0.,  0.,  0.,  0.,\n",
       "        0.,  0.,  0.,  0.,  0.,  1.,  0.,  0.,  0.,  0.,  0.,  0.,  0.,\n",
       "        0.,  0.,  0.,  0.,  0.,  0.,  0.,  0.,  0.,  0.,  0.,  1.,  0.,\n",
       "        0.,  0.,  0.,  0.,  0.,  0.,  0.,  0.,  0.,  0.,  0.,  0.,  0.,\n",
       "        0.,  4.,  0.,  0.,  0.,  0.,  0.,  0.,  0.,  0.,  0.,  0.,  1.,\n",
       "        0.,  0.,  0.,  0.,  0.,  0.,  0.,  0.,  0.,  0.,  0.,  0.,  0.,\n",
       "        0.,  0.,  0.,  0.,  0.,  0.,  0.,  2.,  0.,  0.,  0.,  0.,  0.,\n",
       "        0.,  0.,  0.,  0.,  0.,  0.,  0.,  0.,  0.,  0.,  0.,  0.,  1.,\n",
       "        0.,  1.,  0.,  0.,  0.,  1.,  0.,  0.,  0.,  0.,  0.,  0.,  0.,\n",
       "        0.,  0.,  0.,  0.,  0.,  0.,  0.,  0.,  0.,  0.,  1.])"
      ]
     },
     "execution_count": 71,
     "metadata": {},
     "output_type": "execute_result"
    }
   ],
   "source": [
    "embed_sent_freq(reviews['text'][3], lda, dictionary)"
   ]
  },
  {
   "cell_type": "code",
   "execution_count": 70,
   "metadata": {},
   "outputs": [
    {
     "data": {
      "text/plain": [
       "array([ 53,   4,  85,   2, 127, 103, 105,  18,  13, 109,  64,   6,  54,\n",
       "        35,  36,  37,  58,  38,  39,  40,  41,  42,  43,  44,  45,  55,\n",
       "        57,  46,  47,  33,  48,  49,  50,  56,  51,  52,  34,  29,  32,\n",
       "        31,   1,   3,   5,   7,   8,   9,  10,  11,  12,  14,  15,  16,\n",
       "        17,  19,  20,  21,  22,  23,  24,  25,  26,  27,  28,  60,  30,\n",
       "        59,  63,  61,  94,  96,  97,  98,  99, 100, 101, 102, 104, 106,\n",
       "       107, 108, 110, 111, 112, 113, 114, 115, 116, 117, 118, 119, 120,\n",
       "       121, 122, 123, 124, 125,  95,  93,  62,  92, 126,  65,  66,  67,\n",
       "        68,  69,  70,  71,  72,  73,  74,  75,  76,  77,  78,  79,  80,\n",
       "        81,  82,  83,  84,  86,  87,  88,  89,  90,  91,   0])"
      ]
     },
     "execution_count": 70,
     "metadata": {},
     "output_type": "execute_result"
    }
   ],
   "source": [
    "np.argsort(embed_sent_freq(reviews['text'][3], lda, dictionary))[::-1]"
   ]
  },
  {
   "cell_type": "markdown",
   "metadata": {},
   "source": [
    "## Run tf-idf over Topic appereance"
   ]
  },
  {
   "cell_type": "code",
   "execution_count": 100,
   "metadata": {
    "collapsed": true
   },
   "outputs": [],
   "source": [
    "def Topic_tokenize(embed):\n",
    "    top_topics = np.argsort(embed)[::-1]\n",
    "    i = 0 \n",
    "    prev = embed[top_topics[i]]\n",
    "    tokenize = []\n",
    "    while prev > 0.0:\n",
    "        tokenize += ['topic' + str(top_topics[i])] * int(prev)\n",
    "        i += 1\n",
    "        prev = embed[top_topics[i]]\n",
    "    return np.array(tokenize)"
   ]
  },
  {
   "cell_type": "code",
   "execution_count": 101,
   "metadata": {
    "collapsed": true
   },
   "outputs": [],
   "source": [
    "embeded = embed_sent_freq(reviews['text'][3], lda, dictionary)"
   ]
  },
  {
   "cell_type": "code",
   "execution_count": 106,
   "metadata": {},
   "outputs": [
    {
     "name": "stdout",
     "output_type": "stream",
     "text": [
      "CPU times: user 106 µs, sys: 12 µs, total: 118 µs\n",
      "Wall time: 112 µs\n"
     ]
    },
    {
     "data": {
      "text/plain": [
       "array(['topic53', 'topic53', 'topic53', 'topic53', 'topic4', 'topic4',\n",
       "       'topic4', 'topic2', 'topic2', 'topic13', 'topic13', 'topic127',\n",
       "       'topic85', 'topic105', 'topic18', 'topic109', 'topic103', 'topic64',\n",
       "       'topic6', 'topic5', 'topic62'], \n",
       "      dtype='<U8')"
      ]
     },
     "execution_count": 106,
     "metadata": {},
     "output_type": "execute_result"
    }
   ],
   "source": [
    "%time Topic_tokenize(embeded)"
   ]
  },
  {
   "cell_type": "code",
   "execution_count": 107,
   "metadata": {
    "collapsed": true
   },
   "outputs": [],
   "source": [
    "def gen_topic_token(text):\n",
    "    emb = embed_sent_freq(text, lda, dictionary)\n",
    "    return Topic_tokenize(emb)"
   ]
  },
  {
   "cell_type": "code",
   "execution_count": 108,
   "metadata": {
    "collapsed": true
   },
   "outputs": [],
   "source": [
    "data = data.sort_values(by = 'date')"
   ]
  },
  {
   "cell_type": "code",
   "execution_count": 117,
   "metadata": {},
   "outputs": [
    {
     "name": "stdout",
     "output_type": "stream",
     "text": [
      "CPU times: user 38min 19s, sys: 5.28 s, total: 38min 25s\n",
      "Wall time: 34min 45s\n"
     ]
    }
   ],
   "source": [
    "%time topics = [gen_topic_token(t) for t in data['text']]"
   ]
  },
  {
   "cell_type": "code",
   "execution_count": 121,
   "metadata": {
    "collapsed": true
   },
   "outputs": [],
   "source": [
    "# save file\n",
    "with open(\"gensim/topic_tokenized.pkl\", \"wb\") as f:\n",
    "    pickle.dump(np.array(topics), f)"
   ]
  },
  {
   "cell_type": "code",
   "execution_count": 123,
   "metadata": {
    "collapsed": true
   },
   "outputs": [],
   "source": [
    "# make sure it saved\n",
    "with open(\"gensim/topic_tokenized.pkl\", \"rb\") as f:\n",
    "    l = pickle.load(f)"
   ]
  },
  {
   "cell_type": "code",
   "execution_count": 128,
   "metadata": {
    "collapsed": true
   },
   "outputs": [],
   "source": [
    "dictionary = gensim.corpora.Dictionary(topics)"
   ]
  },
  {
   "cell_type": "code",
   "execution_count": 129,
   "metadata": {},
   "outputs": [
    {
     "name": "stdout",
     "output_type": "stream",
     "text": [
      "Dictionary(128 unique tokens: ['topic53', 'topic95', 'topic103', 'topic23', 'topic97']...)\n"
     ]
    }
   ],
   "source": [
    "print (dictionary)"
   ]
  },
  {
   "cell_type": "code",
   "execution_count": 130,
   "metadata": {
    "collapsed": true
   },
   "outputs": [],
   "source": [
    "dictionary.save('gensim/topic_name_dict.dict')"
   ]
  },
  {
   "cell_type": "code",
   "execution_count": 131,
   "metadata": {},
   "outputs": [
    {
     "data": {
      "text/plain": [
       "[(0, 1),\n",
       " (1, 1),\n",
       " (2, 1),\n",
       " (3, 1),\n",
       " (4, 1),\n",
       " (5, 1),\n",
       " (6, 1),\n",
       " (7, 1),\n",
       " (8, 1),\n",
       " (9, 1),\n",
       " (10, 1)]"
      ]
     },
     "execution_count": 131,
     "metadata": {},
     "output_type": "execute_result"
    }
   ],
   "source": [
    "dictionary.doc2bow(topics[0])"
   ]
  },
  {
   "cell_type": "code",
   "execution_count": 133,
   "metadata": {
    "collapsed": true
   },
   "outputs": [],
   "source": [
    "corpus = [dictionary.doc2bow(text) for text in topics]"
   ]
  },
  {
   "cell_type": "code",
   "execution_count": 134,
   "metadata": {
    "collapsed": true
   },
   "outputs": [],
   "source": [
    "corpora.MmCorpus.serialize('gensim/topic_name_count.mm', corpus)"
   ]
  },
  {
   "cell_type": "code",
   "execution_count": 135,
   "metadata": {
    "collapsed": true
   },
   "outputs": [],
   "source": [
    "tfidf = models.TfidfModel(corpus)"
   ]
  },
  {
   "cell_type": "code",
   "execution_count": 156,
   "metadata": {
    "collapsed": true
   },
   "outputs": [],
   "source": [
    "prev_m = date[0].month\n",
    "prev_y = date[0].year\n",
    "counter = 0\n",
    "flag_n = 0\n",
    "flag = []\n",
    "csv = []\n",
    "for i, d in enumerate(date):\n",
    "    month = d.month \n",
    "    year = d.year \n",
    "    if year > prev_y or month > prev_m:\n",
    "        flag.append(counter)\n",
    "        counter = 1\n",
    "        flag_n += 1\n",
    "    else:\n",
    "        counter += 1\n",
    "    csv.append({\"review_id\" :reviews_ch['review_id'].values[i], \"flag\": flag_n})\n",
    "    prev_m = month    \n",
    "    prev_y = year"
   ]
  },
  {
   "cell_type": "code",
   "execution_count": 160,
   "metadata": {
    "collapsed": true
   },
   "outputs": [],
   "source": [
    "pd.DataFrame(csv).to_csv('time_flag.csv', index = False)"
   ]
  },
  {
   "cell_type": "code",
   "execution_count": 170,
   "metadata": {
    "collapsed": true
   },
   "outputs": [],
   "source": [
    "t_flag = pd.DataFrame(csv)"
   ]
  },
  {
   "cell_type": "code",
   "execution_count": 171,
   "metadata": {
    "collapsed": true
   },
   "outputs": [],
   "source": [
    "flag_count = t_flag.groupby('flag').count().reset_index()"
   ]
  },
  {
   "cell_type": "code",
   "execution_count": 178,
   "metadata": {},
   "outputs": [
    {
     "data": {
      "text/html": [
       "<div>\n",
       "<style>\n",
       "    .dataframe thead tr:only-child th {\n",
       "        text-align: right;\n",
       "    }\n",
       "\n",
       "    .dataframe thead th {\n",
       "        text-align: left;\n",
       "    }\n",
       "\n",
       "    .dataframe tbody tr th {\n",
       "        vertical-align: top;\n",
       "    }\n",
       "</style>\n",
       "<table border=\"1\" class=\"dataframe\">\n",
       "  <thead>\n",
       "    <tr style=\"text-align: right;\">\n",
       "      <th></th>\n",
       "      <th>flag</th>\n",
       "      <th>review_id</th>\n",
       "    </tr>\n",
       "  </thead>\n",
       "  <tbody>\n",
       "    <tr>\n",
       "      <th>143</th>\n",
       "      <td>143</td>\n",
       "      <td>3412</td>\n",
       "    </tr>\n",
       "    <tr>\n",
       "      <th>144</th>\n",
       "      <td>144</td>\n",
       "      <td>3240</td>\n",
       "    </tr>\n",
       "    <tr>\n",
       "      <th>145</th>\n",
       "      <td>145</td>\n",
       "      <td>3429</td>\n",
       "    </tr>\n",
       "    <tr>\n",
       "      <th>146</th>\n",
       "      <td>146</td>\n",
       "      <td>3422</td>\n",
       "    </tr>\n",
       "    <tr>\n",
       "      <th>147</th>\n",
       "      <td>147</td>\n",
       "      <td>3194</td>\n",
       "    </tr>\n",
       "  </tbody>\n",
       "</table>\n",
       "</div>"
      ],
      "text/plain": [
       "     flag  review_id\n",
       "143   143       3412\n",
       "144   144       3240\n",
       "145   145       3429\n",
       "146   146       3422\n",
       "147   147       3194"
      ]
     },
     "execution_count": 178,
     "metadata": {},
     "output_type": "execute_result"
    }
   ],
   "source": [
    "flag_count[flag_count['review_id'] > 100].tail()"
   ]
  },
  {
   "cell_type": "code",
   "execution_count": 183,
   "metadata": {
    "collapsed": true
   },
   "outputs": [],
   "source": [
    "old_review = reviews[reviews['review_id'].isin(set(t_flag[t_flag['flag'] == 33]['review_id']))]\n",
    "new_review = reviews[reviews['review_id'].isin(set(t_flag[t_flag['flag'] == 147]['review_id']))]"
   ]
  },
  {
   "cell_type": "code",
   "execution_count": 189,
   "metadata": {
    "collapsed": true
   },
   "outputs": [],
   "source": [
    "topic_map = {}\n",
    "for i, t in zip(data['review_id'], topics):\n",
    "    topic_map[i] = t"
   ]
  },
  {
   "cell_type": "code",
   "execution_count": 284,
   "metadata": {
    "collapsed": true
   },
   "outputs": [],
   "source": [
    "d = []\n",
    "for i in set(t_flag[t_flag['flag'] == 99]['review_id']):\n",
    "    if i in topic_map.keys():\n",
    "        d.append(topic_map[i])\n",
    "d = dictionary.doc2bow(list(chain(*d)))\n",
    "old = [j for i,j in sorted(tfidf[d])]"
   ]
  },
  {
   "cell_type": "code",
   "execution_count": 285,
   "metadata": {
    "collapsed": true
   },
   "outputs": [],
   "source": [
    "d = []\n",
    "for i in set(t_flag[t_flag['flag'] == 123]['review_id']):\n",
    "    if i in topic_map.keys():\n",
    "        d.append(topic_map[i])\n",
    "d = dictionary.doc2bow(list(chain(*d)))\n",
    "mid = [j for i,j in sorted(tfidf[d])]"
   ]
  },
  {
   "cell_type": "code",
   "execution_count": 286,
   "metadata": {
    "collapsed": true
   },
   "outputs": [],
   "source": [
    "d = []\n",
    "for i in set(t_flag[t_flag['flag'] == 147]['review_id']):\n",
    "    if i in topic_map.keys():\n",
    "        d.append(topic_map[i])\n",
    "d = dictionary.doc2bow(list(chain(*d)))\n",
    "new = [j for i,j in sorted(tfidf[d])]"
   ]
  },
  {
   "cell_type": "code",
   "execution_count": 287,
   "metadata": {},
   "outputs": [
    {
     "data": {
      "image/png": "[encoded data removed]",
      "text/plain": [
       "<matplotlib.figure.Figure at 0x142957f98>"
      ]
     },
     "metadata": {},
     "output_type": "display_data"
    }
   ],
   "source": [
    "plt.bar(np.arange(len(old)), old)\n",
    "plt.title('Old tf-idf values for topic (2013/8)')\n",
    "plt.show()"
   ]
  },
  {
   "cell_type": "code",
   "execution_count": 291,
   "metadata": {},
   "outputs": [
    {
     "data": {
      "image/png": "[encoded data removed]",
      "text/plain": [
       "<matplotlib.figure.Figure at 0x14287c1d0>"
      ]
     },
     "metadata": {},
     "output_type": "display_data"
    }
   ],
   "source": [
    "plt.bar(np.arange(len(mid)), mid)\n",
    "plt.title('new tf-idf values for topic (2015/8)')\n",
    "plt.show()"
   ]
  },
  {
   "cell_type": "code",
   "execution_count": 290,
   "metadata": {},
   "outputs": [
    {
     "data": {
      "image/png": "[encoded data removed]",
      "text/plain": [
       "<matplotlib.figure.Figure at 0x1427ecd30>"
      ]
     },
     "metadata": {},
     "output_type": "display_data"
    }
   ],
   "source": [
    "plt.bar(np.arange(len(new)), new)\n",
    "plt.title('new tf-idf values for topic (2017/8)')\n",
    "plt.show()"
   ]
  },
  {
   "cell_type": "markdown",
   "metadata": {},
   "source": [
    "There is a clear difference in topic distributon over time"
   ]
  },
  {
   "cell_type": "code",
   "execution_count": null,
   "metadata": {
    "collapsed": true
   },
   "outputs": [],
   "source": []
  }
 ],
 "metadata": {
  "kernelspec": {
   "display_name": "Python 3",
   "language": "python",
   "name": "python3"
  },
  "language_info": {
   "codemirror_mode": {
    "name": "ipython",
    "version": 3
   },
   "file_extension": ".py",
   "mimetype": "text/x-python",
   "name": "python",
   "nbconvert_exporter": "python",
   "pygments_lexer": "ipython3",
   "version": "3.6.1"
  }
 },
 "nbformat": 4,
 "nbformat_minor": 2
}
