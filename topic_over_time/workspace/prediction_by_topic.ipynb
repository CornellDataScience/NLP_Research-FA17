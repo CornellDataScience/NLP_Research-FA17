{
 "cells": [
  {
   "cell_type": "markdown",
   "metadata": {},
   "source": [
    "# Time sensitive star rating by topic "
   ]
  },
  {
   "cell_type": "code",
   "execution_count": 290,
   "metadata": {
    "collapsed": true
   },
   "outputs": [],
   "source": [
    "import pandas as pd\n",
    "import matplotlib.pyplot as plt\n",
    "from gensim import corpora, models, similarities\n",
    "from gensim.parsing.preprocessing import STOPWORDS\n",
    "from gensim.utils import simple_preprocess\n",
    "import seaborn as sns\n",
    "import random\n",
    "import numpy as np\n",
    "import nltk\n",
    "from sklearn.model_selection import train_test_split"
   ]
  },
  {
   "cell_type": "code",
   "execution_count": 2,
   "metadata": {
    "collapsed": true
   },
   "outputs": [],
   "source": [
    "business = pd.read_csv('chinese_business_clean.csv')\n",
    "reviews = pd.read_csv('chinese_reviews_clean.csv')"
   ]
  },
  {
   "cell_type": "markdown",
   "metadata": {},
   "source": [
    "### Study the characteristics of dataset"
   ]
  },
  {
   "cell_type": "code",
   "execution_count": 24,
   "metadata": {},
   "outputs": [],
   "source": [
    "grouped = reviews.groupby('business_id')\n",
    "data = []\n",
    "for i, df in grouped:\n",
    "    df = df.sort_values(by = 'date')\n",
    "    data.append({'business_id':i,\\\n",
    "                'review_count':len(df),\n",
    "                'oldest':df['date'].values[0],\\\n",
    "                'latest':df['date'].values[-1]})"
   ]
  },
  {
   "cell_type": "code",
   "execution_count": 33,
   "metadata": {},
   "outputs": [
    {
     "data": {
      "text/html": [
       "<div>\n",
       "<style>\n",
       "    .dataframe thead tr:only-child th {\n",
       "        text-align: right;\n",
       "    }\n",
       "\n",
       "    .dataframe thead th {\n",
       "        text-align: left;\n",
       "    }\n",
       "\n",
       "    .dataframe tbody tr th {\n",
       "        vertical-align: top;\n",
       "    }\n",
       "</style>\n",
       "<table border=\"1\" class=\"dataframe\">\n",
       "  <thead>\n",
       "    <tr style=\"text-align: right;\">\n",
       "      <th></th>\n",
       "      <th>business_id</th>\n",
       "      <th>latest</th>\n",
       "      <th>oldest</th>\n",
       "      <th>review_count</th>\n",
       "    </tr>\n",
       "  </thead>\n",
       "  <tbody>\n",
       "    <tr>\n",
       "      <th>3692</th>\n",
       "      <td>yfxDa8RFOvJPQh0rNtakHA</td>\n",
       "      <td>2017-07-25</td>\n",
       "      <td>2007-01-03</td>\n",
       "      <td>2446</td>\n",
       "    </tr>\n",
       "    <tr>\n",
       "      <th>3088</th>\n",
       "      <td>pH0BLkL4cbxKzu471VZnuA</td>\n",
       "      <td>2017-07-24</td>\n",
       "      <td>2008-07-21</td>\n",
       "      <td>1972</td>\n",
       "    </tr>\n",
       "    <tr>\n",
       "      <th>1944</th>\n",
       "      <td>X8c23dur0ll2D9XTu-I8Qg</td>\n",
       "      <td>2017-07-25</td>\n",
       "      <td>2013-04-18</td>\n",
       "      <td>1548</td>\n",
       "    </tr>\n",
       "    <tr>\n",
       "      <th>953</th>\n",
       "      <td>GJ_bXUPv672YwNg4TneJog</td>\n",
       "      <td>2017-07-25</td>\n",
       "      <td>2010-12-20</td>\n",
       "      <td>1319</td>\n",
       "    </tr>\n",
       "    <tr>\n",
       "      <th>2312</th>\n",
       "      <td>cHdJXLlKNWixBXpDwEGb_A</td>\n",
       "      <td>2017-07-24</td>\n",
       "      <td>2005-11-24</td>\n",
       "      <td>1262</td>\n",
       "    </tr>\n",
       "  </tbody>\n",
       "</table>\n",
       "</div>"
      ],
      "text/plain": [
       "                 business_id      latest      oldest  review_count\n",
       "3692  yfxDa8RFOvJPQh0rNtakHA  2017-07-25  2007-01-03          2446\n",
       "3088  pH0BLkL4cbxKzu471VZnuA  2017-07-24  2008-07-21          1972\n",
       "1944  X8c23dur0ll2D9XTu-I8Qg  2017-07-25  2013-04-18          1548\n",
       "953   GJ_bXUPv672YwNg4TneJog  2017-07-25  2010-12-20          1319\n",
       "2312  cHdJXLlKNWixBXpDwEGb_A  2017-07-24  2005-11-24          1262"
      ]
     },
     "execution_count": 33,
     "metadata": {},
     "output_type": "execute_result"
    }
   ],
   "source": [
    "review_stats = pd.DataFrame(data)\n",
    "review_stats.sort_values(by='review_count', ascending = False).head()"
   ]
  },
  {
   "cell_type": "code",
   "execution_count": 40,
   "metadata": {},
   "outputs": [
    {
     "name": "stdout",
     "output_type": "stream",
     "text": [
      "3774 businesses\n"
     ]
    }
   ],
   "source": [
    "print ('{} businesses'.format(len(review_stats)))"
   ]
  },
  {
   "cell_type": "code",
   "execution_count": 39,
   "metadata": {},
   "outputs": [
    {
     "data": {
      "image/png": "[encoded data removed]",
      "text/plain": [
       "<matplotlib.figure.Figure at 0x1218d4208>"
      ]
     },
     "metadata": {},
     "output_type": "display_data"
    }
   ],
   "source": [
    "sns.distplot(review_stats['review_count'])\n",
    "plt.title('Review count per business')\n",
    "plt.show()"
   ]
  },
  {
   "cell_type": "code",
   "execution_count": 60,
   "metadata": {},
   "outputs": [],
   "source": [
    "review_stats = review_stats.loc[review_stats['review_count'] > 50]"
   ]
  },
  {
   "cell_type": "code",
   "execution_count": 61,
   "metadata": {},
   "outputs": [
    {
     "name": "stdout",
     "output_type": "stream",
     "text": [
      "957 businesses\n"
     ]
    }
   ],
   "source": [
    "print ('{} businesses'.format(len(review_stats)))"
   ]
  },
  {
   "cell_type": "code",
   "execution_count": 62,
   "metadata": {},
   "outputs": [
    {
     "data": {
      "image/png": "[encoded data removed]",
      "text/plain": [
       "<matplotlib.figure.Figure at 0x12242d0b8>"
      ]
     },
     "metadata": {},
     "output_type": "display_data"
    }
   ],
   "source": [
    "sns.distplot(review_stats['review_count'])\n",
    "plt.title('Review count per business')\n",
    "plt.show()"
   ]
  },
  {
   "cell_type": "code",
   "execution_count": 70,
   "metadata": {},
   "outputs": [],
   "source": [
    "lda =  models.LdaModel.load('gensim/lda.model')\n",
    "dictionary = corpora.Dictionary.load('gensim/chinsese_dict.dict')"
   ]
  },
  {
   "cell_type": "code",
   "execution_count": 85,
   "metadata": {
    "collapsed": true
   },
   "outputs": [],
   "source": [
    "def tokenize(text):\n",
    "    return [token for token in simple_preprocess(text) if token not in STOPWORDS]\n",
    "\n",
    "def embed(text, model, dictionary):\n",
    "    text = tokenize(text)\n",
    "    bow = dictionary.doc2bow(text)\n",
    "    kindex = model.get_document_topics(bow)\n",
    "    out = [0] * model.num_topics\n",
    "    for i, p in kindex:\n",
    "        out[i] = p\n",
    "    return np.array(out) \n",
    "\n",
    "def embed_sent(text, model, dictionary):\n",
    "    out = np.array([0.]*128)\n",
    "    sentences = len(nltk.sent_tokenize(text))\n",
    "    for text in nltk.sent_tokenize(text):\n",
    "        out += embed(text, lda, dictionary)\n",
    "    return (out/sentences)"
   ]
  },
  {
   "cell_type": "code",
   "execution_count": 159,
   "metadata": {},
   "outputs": [
    {
     "data": {
      "text/plain": [
       "array([ 0.        ,  0.        ,  0.        ,  0.        ,  0.        ,\n",
       "        0.        ,  0.        ,  0.00994503,  0.        ,  0.        ,\n",
       "        0.        ,  0.        ,  0.        ,  0.        ,  0.        ,\n",
       "        0.        ,  0.        ,  0.        ,  0.06345756,  0.        ,\n",
       "        0.        ,  0.        ,  0.        ,  0.        ,  0.        ,\n",
       "        0.        ,  0.        ,  0.        ,  0.        ,  0.        ,\n",
       "        0.04780944,  0.        ,  0.        ,  0.        ,  0.        ,\n",
       "        0.        ,  0.        ,  0.        ,  0.        ,  0.        ,\n",
       "        0.        ,  0.        ,  0.        ,  0.        ,  0.        ,\n",
       "        0.        ,  0.        ,  0.04771185,  0.        ,  0.        ,\n",
       "        0.        ,  0.        ,  0.        ,  0.        ,  0.        ,\n",
       "        0.18601614,  0.        ,  0.        ,  0.        ,  0.        ,\n",
       "        0.05662596,  0.        ,  0.        ,  0.        ,  0.        ,\n",
       "        0.        ,  0.        ,  0.02196076,  0.        ,  0.05396957,\n",
       "        0.03115764,  0.        ,  0.        ,  0.        ,  0.        ,\n",
       "        0.        ,  0.        ,  0.        ,  0.06334   ,  0.        ,\n",
       "        0.        ,  0.        ,  0.11026828,  0.        ,  0.        ,\n",
       "        0.        ,  0.        ,  0.        ,  0.        ,  0.        ,\n",
       "        0.        ,  0.        ,  0.        ,  0.        ,  0.        ,\n",
       "        0.        ,  0.        ,  0.        ,  0.        ,  0.        ,\n",
       "        0.        ,  0.        ,  0.        ,  0.        ,  0.        ,\n",
       "        0.14567744,  0.05234235,  0.        ,  0.        ,  0.        ,\n",
       "        0.        ,  0.        ,  0.        ,  0.        ,  0.        ,\n",
       "        0.        ,  0.        ,  0.        ,  0.0509112 ,  0.        ,\n",
       "        0.        ,  0.        ,  0.        ,  0.        ,  0.        ,\n",
       "        0.        ,  0.        ,  0.        ])"
      ]
     },
     "execution_count": 159,
     "metadata": {},
     "output_type": "execute_result"
    }
   ],
   "source": [
    "embed_sent(reviews['text'][3], lda, dictionary)"
   ]
  },
  {
   "cell_type": "code",
   "execution_count": 178,
   "metadata": {},
   "outputs": [],
   "source": [
    "freq = np.array([0.] * lda.num_topics)\n",
    "for text in (random.sample(set(reviews['text']), 1000)):\n",
    "    freq += np.ceil(embed_sent(text, lda, dictionary))  "
   ]
  },
  {
   "cell_type": "code",
   "execution_count": 179,
   "metadata": {},
   "outputs": [
    {
     "data": {
      "image/png": "[encoded data removed]",
      "text/plain": [
       "<matplotlib.figure.Figure at 0x13c3abc18>"
      ]
     },
     "metadata": {},
     "output_type": "display_data"
    }
   ],
   "source": [
    "plt.bar(np.arange(lda.num_topics), freq)\n",
    "plt.xlabel('Topic number')\n",
    "plt.ylabel('Frequency')\n",
    "plt.show()"
   ]
  },
  {
   "cell_type": "code",
   "execution_count": 183,
   "metadata": {},
   "outputs": [
    {
     "data": {
      "text/plain": [
       "array([ 14,  15,  35,  94,  53,  16,  42,  88,  46,  89,  13,  41,  30,\n",
       "       109,   5,  38, 124,  20,   6,   2, 126,  28,   0, 110,  19,  49,\n",
       "        80,  76,  72,  71,  26, 119,   7,  11,  93, 113,  56, 127,   1,\n",
       "         4,  68,  91, 116,  96, 117, 100,  84,  81,  37,  75,  59,  83,\n",
       "        86,  45,  43,  32,  47,  87,  52, 111, 115,  79,  44,  57,  27,\n",
       "         3,  17,  85,  78, 108,  97,  55,  90,  25,  74,  64, 101,  98,\n",
       "        29, 125,  10,  95,  50,  23,   8,  73, 122,  18,  99,  58,  60,\n",
       "       123,   9,  65,  67,  40, 121,  48, 112,  92,  31,  62, 120,  24,\n",
       "       102,  12,  63,  66,  39,  36,  77,  70, 104,  54, 106,  51,  69,\n",
       "        33,  34,  22, 103,  21, 114,  61, 107,  82, 105, 118])"
      ]
     },
     "execution_count": 183,
     "metadata": {},
     "output_type": "execute_result"
    }
   ],
   "source": [
    "np.argsort(freq)"
   ]
  },
  {
   "cell_type": "code",
   "execution_count": 193,
   "metadata": {},
   "outputs": [
    {
     "name": "stdout",
     "output_type": "stream",
     "text": [
      "0.023*\"food\" + 0.014*\"service\" + 0.013*\"minutes\" + 0.012*\"table\" + 0.011*\"order\" + 0.011*\"came\" + 0.010*\"good\" + 0.009*\"got\" + 0.009*\"time\" + 0.008*\"asked\"\n",
      "\n",
      "0.059*\"food\" + 0.029*\"chinese\" + 0.023*\"place\" + 0.018*\"good\" + 0.017*\"service\" + 0.013*\"restaurant\" + 0.012*\"great\" + 0.008*\"authentic\" + 0.007*\"dishes\" + 0.007*\"ve\"\n",
      "\n",
      "0.023*\"order\" + 0.023*\"food\" + 0.013*\"delivery\" + 0.012*\"called\" + 0.011*\"place\" + 0.010*\"ordered\" + 0.010*\"service\" + 0.010*\"said\" + 0.008*\"phone\" + 0.008*\"like\"\n",
      "\n"
     ]
    }
   ],
   "source": [
    "print (lda.print_topic(118) + '\\n')\n",
    "print (lda.print_topic(105) + '\\n')\n",
    "print (lda.print_topic(82) + '\\n')"
   ]
  },
  {
   "cell_type": "markdown",
   "metadata": {},
   "source": [
    "People seem to talk about waiting time for food, authenticity, delivery service."
   ]
  },
  {
   "cell_type": "markdown",
   "metadata": {},
   "source": [
    "What if we apply '1 topic per sentence rule'"
   ]
  },
  {
   "cell_type": "code",
   "execution_count": 211,
   "metadata": {},
   "outputs": [],
   "source": [
    "freq = np.array([0.] * lda.num_topics)\n",
    "for text in (random.sample(set(reviews['text']), 1000)):\n",
    "    e = embed_sent(text, lda, dictionary)\n",
    "    i = e.tolist().index(max(e))\n",
    "    topic = np.array([0.] * lda.num_topics)\n",
    "    topic[i] = 1.0\n",
    "    freq += topic"
   ]
  },
  {
   "cell_type": "code",
   "execution_count": 213,
   "metadata": {},
   "outputs": [
    {
     "data": {
      "image/png": "[encoded data removed]",
      "text/plain": [
       "<matplotlib.figure.Figure at 0x13b598438>"
      ]
     },
     "metadata": {},
     "output_type": "display_data"
    }
   ],
   "source": [
    "plt.bar(np.arange(lda.num_topics), freq)\n",
    "plt.xlabel('Topic number')\n",
    "plt.ylabel('Frequency')\n",
    "plt.show()"
   ]
  },
  {
   "cell_type": "code",
   "execution_count": 214,
   "metadata": {},
   "outputs": [
    {
     "data": {
      "text/plain": [
       "array([ 84,  81,  68,  53,   6, 110,  16,  56,  99, 100,  20,  88,  45,\n",
       "        15,  94,  26,  76, 116,  42,  91,   1,  14,  13,  44,  49,  35,\n",
       "        41,  37,  80, 109, 111,  75,   8,  72,   4,   2,  27,  89,  86,\n",
       "        71,   0,  25, 124, 115, 113,  30,  96,  28,  38, 122, 117,  79,\n",
       "        19,  90,  83,  87,  66,  93,  43,  92, 101, 126,  85, 112, 127,\n",
       "         7,  24,  64,  46,  60,  59,  47,  97,  36, 119, 120,  52,  29,\n",
       "        57,  58,  74,  10,  62,  67,  11,  70, 108,  18,  73,  17,  12,\n",
       "         5,  98,  54, 125,  32,  40,  78,  77, 104,  50,  95,   9,   3,\n",
       "        23,  39, 102,  65,  55,  63, 123,  69,  51, 121,  48,  21,  33,\n",
       "        61, 114,  34, 103,  22, 106, 107,  31,  82, 105, 118])"
      ]
     },
     "execution_count": 214,
     "metadata": {},
     "output_type": "execute_result"
    }
   ],
   "source": [
    "np.argsort(freq)"
   ]
  },
  {
   "cell_type": "code",
   "execution_count": 218,
   "metadata": {},
   "outputs": [
    {
     "name": "stdout",
     "output_type": "stream",
     "text": [
      "0.037*\"dim\" + 0.037*\"sum\" + 0.017*\"place\" + 0.015*\"good\" + 0.013*\"food\" + 0.011*\"like\" + 0.009*\"service\" + 0.008*\"chinese\" + 0.007*\"restaurant\" + 0.006*\"dishes\"\n",
      "\n"
     ]
    }
   ],
   "source": [
    "# 31 emerged\n",
    "print (lda.print_topic(31) + '\\n')"
   ]
  },
  {
   "cell_type": "code",
   "execution_count": 274,
   "metadata": {},
   "outputs": [],
   "source": [
    "mat =np.array(mat)"
   ]
  },
  {
   "cell_type": "code",
   "execution_count": 279,
   "metadata": {},
   "outputs": [
    {
     "data": {
      "text/plain": [
       "array([[  1.00000000e+00,  -1.66588565e-02,  -8.13908424e-03, ...,\n",
       "          7.48073438e-03,   1.16455530e-02,   3.97818544e-02],\n",
       "       [ -1.66588565e-02,   1.00000000e+00,  -1.34636063e-02, ...,\n",
       "          4.84978513e-02,  -2.24036314e-02,   9.69961302e-04],\n",
       "       [ -8.13908424e-03,  -1.34636063e-02,   1.00000000e+00, ...,\n",
       "         -1.76465317e-02,  -2.11511504e-02,  -1.63986889e-02],\n",
       "       ..., \n",
       "       [  7.48073438e-03,   4.84978513e-02,  -1.76465317e-02, ...,\n",
       "          1.00000000e+00,  -2.08450439e-02,  -2.46859625e-02],\n",
       "       [  1.16455530e-02,  -2.24036314e-02,  -2.11511504e-02, ...,\n",
       "         -2.08450439e-02,   1.00000000e+00,   2.77296803e-02],\n",
       "       [  3.97818544e-02,   9.69961302e-04,  -1.63986889e-02, ...,\n",
       "         -2.46859625e-02,   2.77296803e-02,   1.00000000e+00]])"
      ]
     },
     "execution_count": 279,
     "metadata": {},
     "output_type": "execute_result"
    }
   ],
   "source": [
    "np.corrcoef(mat.T)"
   ]
  },
  {
   "cell_type": "code",
   "execution_count": 289,
   "metadata": {},
   "outputs": [
    {
     "data": {
      "image/png": "[encoded data removed]",
      "text/plain": [
       "<matplotlib.figure.Figure at 0x13b1df7f0>"
      ]
     },
     "metadata": {},
     "output_type": "display_data"
    }
   ],
   "source": [
    "sns.heatmap(np.corrcoef(mat.T), xticklabels='', yticklabels='')\n",
    "plt.title('Correlation between 128 topics')\n",
    "plt.show()"
   ]
  },
  {
   "cell_type": "markdown",
   "metadata": {},
   "source": [
    "## Is topic sufficient to predict star ratings"
   ]
  },
  {
   "cell_type": "code",
   "execution_count": 320,
   "metadata": {
    "collapsed": true
   },
   "outputs": [],
   "source": [
    "reviews5 = reviews[reviews['stars'] == 5]"
   ]
  },
  {
   "cell_type": "code",
   "execution_count": 331,
   "metadata": {},
   "outputs": [],
   "source": [
    "freq = np.array([0.] * lda.num_topics)\n",
    "for text in (random.sample(set(reviews5['text']), 1000)):\n",
    "    freq += np.ceil(embed_sent(text, lda, dictionary))"
   ]
  },
  {
   "cell_type": "code",
   "execution_count": 332,
   "metadata": {},
   "outputs": [
    {
     "data": {
      "image/png": "[encoded data removed]",
      "text/plain": [
       "<matplotlib.figure.Figure at 0x13b3ca828>"
      ]
     },
     "metadata": {},
     "output_type": "display_data"
    }
   ],
   "source": [
    "plt.bar(np.arange(lda.num_topics), freq)\n",
    "plt.xlabel('Topic number')\n",
    "plt.ylabel('Frequency')\n",
    "plt.show()"
   ]
  },
  {
   "cell_type": "code",
   "execution_count": 333,
   "metadata": {},
   "outputs": [
    {
     "data": {
      "text/plain": [
       "array([ 14,  35,  28,  41,  38, 117, 109,  15,  20,  89,  88,  42,  71,\n",
       "        13,   6,  53, 124,  16,   1,  46,  94, 115,   0, 100, 110, 116,\n",
       "        37,  30, 127,   3,  80,  76,  91,  84, 113,  44,  45,  78,  26,\n",
       "        72,  47,  49,  81,   7, 111,  27,  57, 119,   4,   2,  59,  56,\n",
       "        79,  96, 125,  75,  52,  68,  85,   5,  83,  17,  25,  87,  90,\n",
       "        93,  32,  40,  31,  86,  43,  58, 108, 126,  23,  18,  50, 122,\n",
       "        19,  97,  70,  55,   8, 123,  73,  95, 112,  36, 101,  64,  60,\n",
       "        74,  10,  39,  11,  92,  48,  62,  12,  24, 121,  99,  29,  51,\n",
       "        98, 120,  77,  69,  21,  67, 106,  65, 104,   9,  22, 102,  33,\n",
       "        54,  66,  63, 107,  34,  82, 118, 103, 114, 105,  61])"
      ]
     },
     "execution_count": 333,
     "metadata": {},
     "output_type": "execute_result"
    }
   ],
   "source": [
    "np.argsort(freq)"
   ]
  },
  {
   "cell_type": "code",
   "execution_count": 325,
   "metadata": {
    "collapsed": true
   },
   "outputs": [],
   "source": [
    "reviews1 = reviews[reviews['stars'] == 1]"
   ]
  },
  {
   "cell_type": "code",
   "execution_count": 334,
   "metadata": {},
   "outputs": [],
   "source": [
    "freq = np.array([0.] * lda.num_topics)\n",
    "for text in (random.sample(set(reviews1['text']), 1000)):\n",
    "    freq += np.ceil(embed_sent(text, lda, dictionary))"
   ]
  },
  {
   "cell_type": "code",
   "execution_count": 335,
   "metadata": {},
   "outputs": [
    {
     "data": {
      "image/png": "[encoded data removed]",
      "text/plain": [
       "<matplotlib.figure.Figure at 0x13c3bc358>"
      ]
     },
     "metadata": {},
     "output_type": "display_data"
    }
   ],
   "source": [
    "plt.bar(np.arange(lda.num_topics), freq)\n",
    "plt.xlabel('Topic number')\n",
    "plt.ylabel('Frequency')\n",
    "plt.show()"
   ]
  },
  {
   "cell_type": "code",
   "execution_count": 336,
   "metadata": {},
   "outputs": [
    {
     "data": {
      "text/plain": [
       "array([ 35,  41,  42,  76,  46,  30,  14,  16,  15,  20,  53,  88,  13,\n",
       "        49, 116,  89,  81, 109,  56,  80,   5,   6, 124,  72,  59,  64,\n",
       "        52, 100,  94,  84,  32,  29,  68,  50,  98,  26,  65, 125,  38,\n",
       "        93,  71, 110,  45,   0,  87,  95,  74,  86,  91,  11,  18,  39,\n",
       "       117, 122, 127,   8,  23,  92,  27,  57,  25, 123,  96,  79,   7,\n",
       "        43,  37,  61,   1, 111,   2,  99,  19, 126,  83,  28,  47, 102,\n",
       "       113, 108,   4,   3,  67, 119,  10, 121,  73, 115, 114, 101,  55,\n",
       "        63,  60,  58,  62,  70, 103,  77, 120,  44,  31,  66,   9,  48,\n",
       "       104,  85,  78,  90,  97,  22,  54,  34,  17,  75, 112,  51,  40,\n",
       "        24,  33,  12,  36, 106, 105, 107,  69,  21, 118,  82])"
      ]
     },
     "execution_count": 336,
     "metadata": {},
     "output_type": "execute_result"
    }
   ],
   "source": [
    "np.argsort(freq)"
   ]
  },
  {
   "cell_type": "code",
   "execution_count": 342,
   "metadata": {},
   "outputs": [
    {
     "name": "stdout",
     "output_type": "stream",
     "text": [
      "Top 3 positive topics\n",
      "0.020*\"great\" + 0.016*\"chicken\" + 0.016*\"food\" + 0.012*\"soup\" + 0.012*\"delicious\" + 0.012*\"service\" + 0.011*\"place\" + 0.009*\"fried\" + 0.009*\"fresh\" + 0.008*\"sauce\"\n",
      "\n",
      "0.059*\"food\" + 0.029*\"chinese\" + 0.023*\"place\" + 0.018*\"good\" + 0.017*\"service\" + 0.013*\"restaurant\" + 0.012*\"great\" + 0.008*\"authentic\" + 0.007*\"dishes\" + 0.007*\"ve\"\n",
      "\n",
      "0.032*\"great\" + 0.029*\"dumplings\" + 0.022*\"food\" + 0.016*\"place\" + 0.015*\"good\" + 0.012*\"friendly\" + 0.012*\"soup\" + 0.012*\"service\" + 0.011*\"chicken\" + 0.010*\"staff\"\n",
      "\n",
      "Top 3 negative topics\n",
      "0.023*\"order\" + 0.023*\"food\" + 0.013*\"delivery\" + 0.012*\"called\" + 0.011*\"place\" + 0.010*\"ordered\" + 0.010*\"service\" + 0.010*\"said\" + 0.008*\"phone\" + 0.008*\"like\"\n",
      "\n",
      "0.023*\"food\" + 0.014*\"service\" + 0.013*\"minutes\" + 0.012*\"table\" + 0.011*\"order\" + 0.011*\"came\" + 0.010*\"good\" + 0.009*\"got\" + 0.009*\"time\" + 0.008*\"asked\"\n",
      "\n",
      "0.032*\"food\" + 0.019*\"place\" + 0.015*\"service\" + 0.011*\"good\" + 0.009*\"order\" + 0.009*\"like\" + 0.009*\"chinese\" + 0.007*\"time\" + 0.006*\"bad\" + 0.006*\"worst\"\n",
      "\n"
     ]
    }
   ],
   "source": [
    "print ('Top 3 positive topics')\n",
    "print (lda.print_topic(61) + '\\n')\n",
    "print (lda.print_topic(105) + '\\n')\n",
    "print (lda.print_topic(114) + '\\n')\n",
    "\n",
    "print ('Top 3 negative topics')\n",
    "print (lda.print_topic(82) + '\\n')\n",
    "print (lda.print_topic(118) + '\\n')\n",
    "print (lda.print_topic(21) + '\\n')"
   ]
  },
  {
   "cell_type": "markdown",
   "metadata": {},
   "source": [
    "Overwhelming majority of negative reviews are about delivery and waiting time for the food"
   ]
  },
  {
   "cell_type": "code",
   "execution_count": 347,
   "metadata": {},
   "outputs": [
    {
     "data": {
      "text/plain": [
       "'yfxDa8RFOvJPQh0rNtakHA'"
      ]
     },
     "execution_count": 347,
     "metadata": {},
     "output_type": "execute_result"
    }
   ],
   "source": [
    "review_stats.sort_values(by='review_count', ascending = False)['business_id'].values[0]"
   ]
  },
  {
   "cell_type": "code",
   "execution_count": 353,
   "metadata": {},
   "outputs": [],
   "source": [
    "data = reviews[reviews['business_id'] == 'yfxDa8RFOvJPQh0rNtakHA']\n",
    "X_train, X_test, y_train, y_test = train_test_split(data['text'], data['stars'], test_size=0.20)"
   ]
  },
  {
   "cell_type": "code",
   "execution_count": 354,
   "metadata": {},
   "outputs": [],
   "source": [
    "def generate_data(train):\n",
    "    embed = []\n",
    "    for text in train:\n",
    "        embed.append(embed_sent(text, lda, dictionary))\n",
    "    return np.array(embed)"
   ]
  },
  {
   "cell_type": "code",
   "execution_count": 355,
   "metadata": {},
   "outputs": [
    {
     "name": "stdout",
     "output_type": "stream",
     "text": [
      "CPU times: user 24.1 s, sys: 81.3 ms, total: 24.2 s\n",
      "Wall time: 22.5 s\n"
     ]
    }
   ],
   "source": [
    "%time train = generate_data(X_train)"
   ]
  },
  {
   "cell_type": "code",
   "execution_count": 362,
   "metadata": {},
   "outputs": [
    {
     "data": {
      "image/png": "[encoded data removed]",
      "text/plain": [
       "<matplotlib.figure.Figure at 0x13b13d048>"
      ]
     },
     "metadata": {},
     "output_type": "display_data"
    }
   ],
   "source": [
    "sns.distplot(data['stars'], kde = False)\n",
    "plt.show()"
   ]
  },
  {
   "cell_type": "code",
   "execution_count": 380,
   "metadata": {
    "collapsed": true
   },
   "outputs": [],
   "source": [
    "from sklearn import svm\n",
    "from sklearn.metrics import confusion_matrix"
   ]
  },
  {
   "cell_type": "code",
   "execution_count": 371,
   "metadata": {},
   "outputs": [
    {
     "name": "stdout",
     "output_type": "stream",
     "text": [
      "CPU times: user 5.97 s, sys: 19 ms, total: 5.99 s\n",
      "Wall time: 5.41 s\n"
     ]
    }
   ],
   "source": [
    "%time test = generate_data(X_test)"
   ]
  },
  {
   "cell_type": "code",
   "execution_count": 445,
   "metadata": {},
   "outputs": [
    {
     "data": {
      "text/plain": [
       "array([[  0,   0,   0,   0,   0],\n",
       "       [  0,   0,   0,   0,   0],\n",
       "       [  0,   0,   0,   0,   0],\n",
       "       [ 73,  60,  95, 162, 100],\n",
       "       [  0,   0,   0,   0,   0]])"
      ]
     },
     "execution_count": 445,
     "metadata": {},
     "output_type": "execute_result"
    }
   ],
   "source": [
    "clf = svm.SVC()\n",
    "clf.fit(train, y_train)\n",
    "confusion_matrix(clf.predict(test), y_test)"
   ]
  },
  {
   "cell_type": "code",
   "execution_count": 444,
   "metadata": {},
   "outputs": [
    {
     "data": {
      "text/plain": [
       "array([[27, 11, 18, 33, 18],\n",
       "       [40, 35, 44, 74, 34],\n",
       "       [ 2,  6,  8, 15,  9],\n",
       "       [ 2,  5, 12, 25, 19],\n",
       "       [ 2,  3, 13, 15, 20]])"
      ]
     },
     "execution_count": 444,
     "metadata": {},
     "output_type": "execute_result"
    }
   ],
   "source": [
    "from sklearn.naive_bayes import GaussianNB\n",
    "clf = GaussianNB()\n",
    "clf.fit(train, y_train)\n",
    "confusion_matrix(clf.predict(test), y_test)"
   ]
  },
  {
   "cell_type": "code",
   "execution_count": 443,
   "metadata": {},
   "outputs": [
    {
     "data": {
      "text/plain": [
       "array([[ 17,   3,   4,   1,   0],\n",
       "       [  1,   1,   0,   1,   1],\n",
       "       [ 11,   8,  11,  13,  13],\n",
       "       [ 39,  40,  71, 134,  75],\n",
       "       [  5,   8,   9,  13,  11]])"
      ]
     },
     "execution_count": 443,
     "metadata": {},
     "output_type": "execute_result"
    }
   ],
   "source": [
    "from sklearn.ensemble import RandomForestClassifier\n",
    "clf = RandomForestClassifier(max_depth=20, n_estimators=10, max_features=1)\n",
    "clf.fit(train, y_train)\n",
    "confusion_matrix(clf.predict(test), y_test)"
   ]
  },
  {
   "cell_type": "code",
   "execution_count": 442,
   "metadata": {},
   "outputs": [
    {
     "data": {
      "text/plain": [
       "array([[ 24,  13,   7,   7,   3],\n",
       "       [  7,   2,   7,   5,   1],\n",
       "       [ 12,  13,  20,  26,  10],\n",
       "       [ 26,  31,  48, 106,  69],\n",
       "       [  4,   1,  13,  18,  17]])"
      ]
     },
     "execution_count": 442,
     "metadata": {},
     "output_type": "execute_result"
    }
   ],
   "source": [
    "from sklearn.tree import DecisionTreeClassifier\n",
    "clf = DecisionTreeClassifier(max_depth=20)\n",
    "clf.fit(train, y_train)\n",
    "confusion_matrix(clf.predict(test), y_test)"
   ]
  },
  {
   "cell_type": "code",
   "execution_count": 441,
   "metadata": {},
   "outputs": [
    {
     "data": {
      "text/plain": [
       "array([[ 35,  12,   8,  16,   4],\n",
       "       [  6,   4,   6,   3,   0],\n",
       "       [ 19,  22,  16,  18,  14],\n",
       "       [  9,  21,  58, 103,  60],\n",
       "       [  4,   1,   7,  22,  22]])"
      ]
     },
     "execution_count": 441,
     "metadata": {},
     "output_type": "execute_result"
    }
   ],
   "source": [
    "from sklearn.ensemble import AdaBoostClassifier\n",
    "clf = AdaBoostClassifier()\n",
    "clf.fit(train, y_train)\n",
    "confusion_matrix(clf.predict(test), y_test)"
   ]
  },
  {
   "cell_type": "code",
   "execution_count": 493,
   "metadata": {},
   "outputs": [
    {
     "data": {
      "text/plain": [
       "array([[ 47,  15,   6,  10,   7],\n",
       "       [  1,   4,   4,   1,   1],\n",
       "       [ 15,  14,  22,  27,  16],\n",
       "       [  8,  25,  53, 107,  57],\n",
       "       [  2,   2,  10,  17,  19]])"
      ]
     },
     "execution_count": 493,
     "metadata": {},
     "output_type": "execute_result"
    }
   ],
   "source": [
    "from sklearn.neural_network import MLPClassifier\n",
    "clf = MLPClassifier(hidden_layer_sizes = (100, 95, 80, 75), activation = 'tanh', alpha=0.2, learning_rate = 'adaptive')\n",
    "clf.fit(train, y_train)\n",
    "confusion_matrix(clf.predict(test), y_test)"
   ]
  },
  {
   "cell_type": "code",
   "execution_count": null,
   "metadata": {
    "collapsed": true
   },
   "outputs": [],
   "source": []
  }
 ],
 "metadata": {
  "kernelspec": {
   "display_name": "Python 3",
   "language": "python",
   "name": "python3"
  },
  "language_info": {
   "codemirror_mode": {
    "name": "ipython",
    "version": 3
   },
   "file_extension": ".py",
   "mimetype": "text/x-python",
   "name": "python",
   "nbconvert_exporter": "python",
   "pygments_lexer": "ipython3",
   "version": "3.6.1"
  }
 },
 "nbformat": 4,
 "nbformat_minor": 2
}
