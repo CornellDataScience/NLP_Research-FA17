{
 "cells": [
  {
   "cell_type": "code",
   "execution_count": 4,
   "metadata": {},
   "outputs": [],
   "source": [
    "from sklearn import datasets\n",
    "from sklearn import svm\n",
    "import numpy as np\n",
    "clf = svm.SVC(kernel='rbf', C=1.0)\n",
    "import matplotlib.pyplot as plt\n",
    "from sklearn.model_selection import train_test_split"
   ]
  },
  {
   "cell_type": "code",
   "execution_count": 6,
   "metadata": {},
   "outputs": [],
   "source": [
    "#json file setup in notebook\n",
    "\n",
    "import json\n",
    "import pandas as pd\n",
    "\n",
    "def json_df(datapass):\n",
    "    '''\n",
    "    Load the json file and parse the file to pandas dataframe format\n",
    "    \n",
    "    Input:\n",
    "        datapass(str) : directory to the json file\n",
    "    Output:\n",
    "        df(dataframe) : pandas dataframe object\n",
    "    '''\n",
    "    \n",
    "    data = [] \n",
    "    with open(datapass, 'r', encoding='utf-8') as data_file: \n",
    "        for f in data_file:\n",
    "            data.append(json.loads(f))\n",
    "    df = pd.DataFrame(data)\n",
    "    return df\n",
    "\n",
    "#business and review json files --> dataframes\n",
    "\n",
    "DATAPASS1 = 'C:\\\\Users\\\\cdchang\\\\Downloads\\\\yelp_dataset\\\\dataset\\\\business.json'\n",
    "DATAPASS2 = 'C:\\\\Users\\\\cdchang\\\\Downloads\\\\yelp_dataset\\\\dataset\\\\review.json'\n",
    "\n",
    "#business = json_df(DATAPASS1)\n",
    "reviews = json_df(DATAPASS2)"
   ]
  },
  {
   "cell_type": "code",
   "execution_count": 14,
   "metadata": {
    "scrolled": true
   },
   "outputs": [
    {
     "name": "stderr",
     "output_type": "stream",
     "text": [
      "C:\\Users\\cdchang\\Anaconda3\\lib\\site-packages\\ipykernel_launcher.py:30: FutureWarning: reshape is deprecated and will raise in a subsequent release. Please use .values.reshape(...) instead\n",
      "C:\\Users\\cdchang\\Anaconda3\\lib\\site-packages\\ipykernel_launcher.py:33: FutureWarning: reshape is deprecated and will raise in a subsequent release. Please use .values.reshape(...) instead\n"
     ]
    },
    {
     "data": {
      "text/plain": [
       "array([[ 0,  1,  2,  3,  4,  5,  6,  7,  8,  9, 10, 11, 12, 13, 14, 15, 16,\n",
       "        17, 18, 19, 20, 21, 22, 23, 24, 25, 26, 27, 28, 29, 30, 31, 32, 33,\n",
       "        34, 35, 36, 37, 38, 39, 40, 41, 42, 43, 44, 45, 46, 47, 48, 49, 50,\n",
       "        51, 52, 53, 54, 55, 56, 57, 58, 59, 60, 61, 62, 63, 64, 65, 66, 67,\n",
       "        68, 69, 70, 71, 72, 73, 74, 75, 76, 77, 78, 79, 80, 81, 82, 83, 84,\n",
       "        85, 86, 87, 88, 89, 90, 91],\n",
       "       [ 4,  2,  4,  3,  4,  2,  4,  3,  2,  1,  5,  4,  4,  5,  5,  4,  1,\n",
       "         1,  2,  4,  4,  1,  5,  5,  4,  3,  4,  3,  3,  5,  1,  4,  2,  2,\n",
       "         4,  2,  4,  4,  1,  4,  3,  4,  4,  2,  1,  4,  2,  2,  1,  3,  5,\n",
       "         2,  5,  3,  4,  2,  1,  1,  3,  5,  5,  4,  2,  3,  5,  3,  2,  5,\n",
       "         5,  4,  2,  5,  5,  4,  5,  5,  4,  1,  4,  5,  1,  5,  5,  5,  1,\n",
       "         5,  1,  3,  1,  3,  5,  1]], dtype=int64)"
      ]
     },
     "execution_count": 14,
     "metadata": {},
     "output_type": "execute_result"
    }
   ],
   "source": [
    "subset = reviews.loc[reviews['business_id']==\"jQsNFOzDpxPmOurSWCg1vQ\"]\n",
    "subset = subset.sort_values(by=\"date\")\n",
    "length = len(subset)\n",
    "date = subset.loc[:,'date']\n",
    "text = subset.loc[:,'text']\n",
    "stars = subset.loc[:,'stars']\n",
    "\n",
    "x = np.array(list(range(0,length))) #92 in total #50%\n",
    "X_train, X_test, y_train, y_test = train_test_split(x, stars, train_size=0.70, test_size=0.30)\n",
    "clf = svm.SVC(kernel='rbf', C = 1.0)\n",
    "X_train=X_train.reshape(-1,1)\n",
    "clf.fit(X_train,y_train)\n",
    "plt.scatter(X_train, y_train, c=\"k\")\n",
    "#plt.scatter(X_test, y_test, c=\"r\")\n",
    "plt.title(\"Raw Value Rating Distribution (Training 70%)\")\n",
    "plt.xlabel(\"Random Sample Index\")\n",
    "plt.ylabel(\"Star Rating\")\n",
    "#plt.show()\n",
    "\n",
    "X_test = X_test.reshape(-1,1)\n",
    "plt.scatter(X_test, y_test, c=\"k\")\n",
    "predictions = clf.predict(X_test)\n",
    "plt.scatter(X_test, predictions,c=\"g\")\n",
    "\n",
    "plt.title(\"Predicted Value Rating Distribution (Testing 30%)\")\n",
    "plt.xlabel(\"Random Sample Index\")\n",
    "plt.ylabel(\"Star Rating\")\n",
    "\n",
    "#reformatting\n",
    "n = y_train.reshape(-1,1)\n",
    "x = np.array(X_train.flatten().reshape(-1,1))\n",
    "\n",
    "n_prime = y_test.reshape(-1,1)\n",
    "x_prime = np.array(X_test.flatten().reshape(-1,1))\n",
    "\n",
    "newarray = list()\n",
    "\n",
    "for i in range(0, len(x)):\n",
    "    newarray.append(x[i][0])\n",
    "for j in range(0, len(x_prime)):\n",
    "    newarray.append(x_prime[j][0])\n",
    "\n",
    "y = np.array(n.flatten())\n",
    "\n",
    "for k in range(0, len(n_prime)):\n",
    "    y = np.append(y,n_prime[k][0])\n",
    "    \n",
    "na = np.array(newarray)\n",
    "f = np.vstack((na, y))\n",
    "\n",
    "final_predicts = f[:,f[0].argsort()]\n",
    "final_predicts"
   ]
  },
  {
   "cell_type": "code",
   "execution_count": 15,
   "metadata": {},
   "outputs": [],
   "source": [
    "def df_allcomp(b_id):\n",
    "    subset = reviews.loc[reviews['business_id']==b_id]\n",
    "    date = subset.loc[:,'date']\n",
    "    text = subset.loc[:,'text']\n",
    "    stars = subset.loc[:,'stars']\n",
    "\n",
    "    df = pd.concat([date,text,stars],axis=1, join='inner')\n",
    "    return df"
   ]
  },
  {
   "cell_type": "code",
   "execution_count": 25,
   "metadata": {},
   "outputs": [
    {
     "name": "stdout",
     "output_type": "stream",
     "text": [
      "3.26086956522\n"
     ]
    },
    {
     "data": {
      "image/png": "[encoded data removed]",
      "text/plain": [
       "<matplotlib.figure.Figure at 0x20cec312828>"
      ]
     },
     "metadata": {},
     "output_type": "display_data"
    }
   ],
   "source": [
    "import datetime\n",
    "\n",
    "\n",
    "collection = df_allcomp(\"jQsNFOzDpxPmOurSWCg1vQ\")\n",
    "s = collection.sort_values(by=\"date\") #sorting by timestamp\n",
    "\n",
    "overall_avg_rating = sum(collection.stars)/len(collection)\n",
    "print(overall_avg_rating)\n",
    "s[\"date\"] = pd.to_datetime(s[\"date\"])\n",
    "\n",
    "s.groupby(s[\"date\"].dt.year)\n",
    "min_year=s.date.iloc[0].year\n",
    "max_year = s.date.iloc[len(s)-1].year\n",
    "\n",
    "d = {'date': s.date, 'stars': stars2}\n",
    "dataframe = pd.DataFrame(data=d)\n",
    "avg_array,avg2_array = list(),list()\n",
    "\n",
    "for y in range(min_year, max_year):\n",
    "    subset = s[(s['date']>datetime.date(y,1,1)) & (s['date']<datetime.date(y,12,31))] \n",
    "    avg = sum(subset.stars)/len(subset)\n",
    "    avg_array.append(avg)\n",
    "    \n",
    "avg_array = np.array(avg_array)\n",
    "index = list(range(min_year,max_year))\n",
    "\n",
    "df = np.vstack((index, avg_array))\n",
    "\n",
    "plt.scatter(index,avg_array,color=\"b\") #avg predicted svm per year\n",
    "plt.axhline(y=overall_avg_rating, linestyle = '--', color = 'grey')\n",
    "\n",
    "plt.xlabel(\"Year\")\n",
    "plt.ylabel(\"Avg-ed Star Rating\")\n",
    "plt.title(\"Avg Star Offset Comparison\")\n",
    "plt.show()"
   ]
  }
 ],
 "metadata": {
  "kernelspec": {
   "display_name": "Python 3",
   "language": "python",
   "name": "python3"
  },
  "language_info": {
   "codemirror_mode": {
    "name": "ipython",
    "version": 3
   },
   "file_extension": ".py",
   "mimetype": "text/x-python",
   "name": "python",
   "nbconvert_exporter": "python",
   "pygments_lexer": "ipython3",
   "version": "3.6.1"
  }
 },
 "nbformat": 4,
 "nbformat_minor": 2
}
