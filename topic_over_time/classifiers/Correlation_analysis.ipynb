{
 "cells": [
  {
   "cell_type": "markdown",
   "metadata": {},
   "source": [
    "# Correlation analysis between embeddings and performance metrics"
   ]
  },
  {
   "cell_type": "code",
   "execution_count": 1,
   "metadata": {
    "collapsed": true
   },
   "outputs": [],
   "source": [
    "# import dependencies\n",
    "from text_embedder import TextEmbedder\n",
    "from gensim import corpora, models\n",
    "import pandas as pd\n",
    "import pickle\n",
    "import matplotlib.pyplot as plt\n",
    "from xgboost import XGBClassifier\n",
    "import numpy as np\n",
    "from sklearn.model_selection import train_test_split\n",
    "from sklearn.metrics import confusion_matrix\n",
    "from sklearn.linear_model import LinearRegression"
   ]
  },
  {
   "cell_type": "code",
   "execution_count": 2,
   "metadata": {},
   "outputs": [],
   "source": [
    "# load pre-trained data\n",
    "business = pd.read_csv('../data/chinese_business_clean.csv')\n",
    "reviews = pd.read_csv('../data/chinese_reviews_clean_offsets.csv')\n",
    "\n",
    "reviews['date_tuple'] = [eval(i) for i in reviews['date_tuple']]\n",
    "reviews['quarter'] = [eval(i) for i in reviews['quarter']]\n",
    "\n",
    "# load gensim model\n",
    "lda =  models.LdaModel.load('../data/gensim/lda.model')\n",
    "dictionary = corpora.Dictionary.load('../data/gensim/chinsese_dict.dict')\n",
    "\n",
    "# load idf matrices\n",
    "with open('../data/u_idf.pickle', 'rb') as f:\n",
    "    uidf_data = pickle.load(f)\n",
    "with open('../data/b_idf.pickle', 'rb') as f:\n",
    "    bidf_data = pickle.load(f)\n",
    "with open('../data/b_tfidf.pickle', 'rb') as f:\n",
    "    btfidf_data = pickle.load(f)"
   ]
  },
  {
   "cell_type": "code",
   "execution_count": 3,
   "metadata": {
    "collapsed": true
   },
   "outputs": [],
   "source": [
    "# initialize text embedding classs\n",
    "embedder = TextEmbedder(model = lda, dictionary = dictionary, user_idf = uidf_data, business_idf = bidf_data, business_tfidf = btfidf_data)"
   ]
  },
  {
   "cell_type": "code",
   "execution_count": 4,
   "metadata": {
    "collapsed": true
   },
   "outputs": [],
   "source": [
    "# use top2 growing, declining business for case study\n",
    "case2 = reviews[reviews['business_id'] == 'pH0BLkL4cbxKzu471VZnuA'] # growing \n",
    "case3 = reviews[reviews['business_id'] == 'X8c23dur0ll2D9XTu-I8Qg'] # declining"
   ]
  },
  {
   "cell_type": "code",
   "execution_count": 5,
   "metadata": {},
   "outputs": [
    {
     "data": {
      "image/png": "[encoded data removed]",
      "text/plain": [
       "<matplotlib.figure.Figure at 0x1071a45c0>"
      ]
     },
     "metadata": {},
     "output_type": "display_data"
    }
   ],
   "source": [
    "# case2 is growing\n",
    "plt.plot(case2.sort_values(by= 'quarter')['quarter_avg'].values)\n",
    "plt.title('Quater average over time')\n",
    "plt.show()"
   ]
  },
  {
   "cell_type": "code",
   "execution_count": 6,
   "metadata": {},
   "outputs": [
    {
     "data": {
      "image/png": "[encoded data removed]",
      "text/plain": [
       "<matplotlib.figure.Figure at 0x1a16287080>"
      ]
     },
     "metadata": {},
     "output_type": "display_data"
    }
   ],
   "source": [
    "# case3 is declining\n",
    "plt.plot(case3.sort_values(by= 'quarter')['quarter_avg'].values)\n",
    "plt.title('Quater average over time')\n",
    "plt.show()"
   ]
  },
  {
   "cell_type": "markdown",
   "metadata": {},
   "source": [
    "## Raw value of embedded topic vs Business offset"
   ]
  },
  {
   "cell_type": "markdown",
   "metadata": {},
   "source": [
    "We are going to compare the correlation between the topics and business offsets (review - business average). Offsets are different across reviews, and this metric suggests how positive/negative the topic is given the business"
   ]
  },
  {
   "cell_type": "code",
   "execution_count": 7,
   "metadata": {
    "collapsed": true
   },
   "outputs": [],
   "source": [
    "# helper to make a labels \n",
    "def mapping(x):\n",
    "    if x < 0:\n",
    "        return 0\n",
    "    else:\n",
    "        return int(x!=0)+1"
   ]
  },
  {
   "cell_type": "code",
   "execution_count": 8,
   "metadata": {
    "collapsed": true
   },
   "outputs": [],
   "source": [
    "# embedding helper class\n",
    "def embed_by_enum(data, embedder, enum = 0, binary = False):\n",
    "    # select regions\n",
    "    if binary:\n",
    "        data = data[data['business_offset'] != 0]\n",
    "    label = data['business_offset']\n",
    "    # create labels\n",
    "    if enum == 2: \n",
    "        embed = np.array([embedder.augmented_embed_text(t) for t in data['text'].values])\n",
    "    elif enum == 3: \n",
    "        embed = np.array([embedder.user_tfidf_embed(t, u) for t, u in zip(data['text'].values, data['user_id'].values)])\n",
    "    elif enum == 4: \n",
    "        embed = np.array([embedder.user_tf_business_idf(t, b) for t, b in zip(data['text'].values, data['business_id'].values)])\n",
    "    elif enum == 5: \n",
    "        embed = np.array([embedder.user_tfidf_business_idf(t, u, b) for t, u, b in zip(data['text'].values, data['user_id'].values, data['business_id'].values)])\n",
    "    \n",
    "    elif enum == 0: \n",
    "        embed = np.array([embedder.embed(t) for t in data['text'].values])\n",
    "    elif enum == 1:\n",
    "        embed = np.array([embedder.embed_sent(t) for t in data['text'].values])\n",
    "    \n",
    "    elif enum == 6:\n",
    "        embed = np.array([embedder.augmented_tf_business_tfidf(t, b) for t, b in zip(data['text'].values, data['business_id'].values)])\n",
    "    else:\n",
    "        print ('enum {} is not supported'.format(enum))\n",
    "        return None\n",
    "    return embed, label"
   ]
  },
  {
   "cell_type": "markdown",
   "metadata": {},
   "source": [
    "## Case 1 - SUSHISAMBA (growing business)"
   ]
  },
  {
   "cell_type": "code",
   "execution_count": 9,
   "metadata": {},
   "outputs": [
    {
     "data": {
      "text/html": [
       "<div>\n",
       "<style>\n",
       "    .dataframe thead tr:only-child th {\n",
       "        text-align: right;\n",
       "    }\n",
       "\n",
       "    .dataframe thead th {\n",
       "        text-align: left;\n",
       "    }\n",
       "\n",
       "    .dataframe tbody tr th {\n",
       "        vertical-align: top;\n",
       "    }\n",
       "</style>\n",
       "<table border=\"1\" class=\"dataframe\">\n",
       "  <thead>\n",
       "    <tr style=\"text-align: right;\">\n",
       "      <th></th>\n",
       "      <th>address</th>\n",
       "      <th>attributes</th>\n",
       "      <th>business_id</th>\n",
       "      <th>categories</th>\n",
       "      <th>city</th>\n",
       "      <th>hours</th>\n",
       "      <th>is_open</th>\n",
       "      <th>latitude</th>\n",
       "      <th>longitude</th>\n",
       "      <th>name</th>\n",
       "      <th>neighborhood</th>\n",
       "      <th>postal_code</th>\n",
       "      <th>review_count</th>\n",
       "      <th>stars</th>\n",
       "      <th>state</th>\n",
       "    </tr>\n",
       "  </thead>\n",
       "  <tbody>\n",
       "    <tr>\n",
       "      <th>1499</th>\n",
       "      <td>3327 Las Vegas Blvd S</td>\n",
       "      <td>{'Alcohol': 'full_bar', 'HasTV': True, 'NoiseL...</td>\n",
       "      <td>pH0BLkL4cbxKzu471VZnuA</td>\n",
       "      <td>['Nightlife', 'Restaurants', 'Breakfast &amp; Brun...</td>\n",
       "      <td>Las Vegas</td>\n",
       "      <td>{'Monday': '11:30-1:00', 'Tuesday': '11:30-1:0...</td>\n",
       "      <td>1</td>\n",
       "      <td>36.124582</td>\n",
       "      <td>-115.167553</td>\n",
       "      <td>SUSHISAMBA - Las Vegas</td>\n",
       "      <td>The Strip</td>\n",
       "      <td>89109</td>\n",
       "      <td>1973</td>\n",
       "      <td>4.0</td>\n",
       "      <td>NV</td>\n",
       "    </tr>\n",
       "  </tbody>\n",
       "</table>\n",
       "</div>"
      ],
      "text/plain": [
       "                    address  \\\n",
       "1499  3327 Las Vegas Blvd S   \n",
       "\n",
       "                                             attributes  \\\n",
       "1499  {'Alcohol': 'full_bar', 'HasTV': True, 'NoiseL...   \n",
       "\n",
       "                 business_id  \\\n",
       "1499  pH0BLkL4cbxKzu471VZnuA   \n",
       "\n",
       "                                             categories       city  \\\n",
       "1499  ['Nightlife', 'Restaurants', 'Breakfast & Brun...  Las Vegas   \n",
       "\n",
       "                                                  hours  is_open   latitude  \\\n",
       "1499  {'Monday': '11:30-1:00', 'Tuesday': '11:30-1:0...        1  36.124582   \n",
       "\n",
       "       longitude                    name neighborhood postal_code  \\\n",
       "1499 -115.167553  SUSHISAMBA - Las Vegas    The Strip       89109   \n",
       "\n",
       "      review_count  stars state  \n",
       "1499          1973    4.0    NV  "
      ]
     },
     "execution_count": 9,
     "metadata": {},
     "output_type": "execute_result"
    }
   ],
   "source": [
    "business[business['business_id'] == 'pH0BLkL4cbxKzu471VZnuA']"
   ]
  },
  {
   "cell_type": "code",
   "execution_count": 10,
   "metadata": {},
   "outputs": [],
   "source": [
    "# embedding \n",
    "\n",
    "# baseline \n",
    "embed, label = embed_by_enum(case2, embedder)\n",
    "embed1, label1 = embed_by_enum(case2, embedder, enum = 1)\n",
    "\n",
    "# augmented\n",
    "embed2, label2 = embed_by_enum(case2, embedder, enum = 2)\n",
    "\n",
    "# embed3, label3 = embed_by_enum(case2, embedder, enum = 3)\n",
    "# embed4, label4 = embed_by_enum(case2, embedder, enum = 4)\n",
    "# embed5, label5 = embed_by_enum(case2, embedder, enum = 5)\n",
    "\n",
    "# business tfidf \n",
    "embed6, label6 = embed_by_enum(case2, embedder, enum = 6)"
   ]
  },
  {
   "cell_type": "code",
   "execution_count": 11,
   "metadata": {
    "collapsed": true
   },
   "outputs": [],
   "source": [
    "# print out the correlation coefficients as well as topic distribution\n",
    "def find_min_max_coef(embed, label):\n",
    "    coef = []\n",
    "    for i in range(len(embed[0])):\n",
    "        coef.append(np.corrcoef(embed[:,i], label)[0, 1])\n",
    "    coef = np.array(coef)\n",
    "    coef[np.isnan(coef)] = 0.0\n",
    "    for i in range(3):\n",
    "        print ('topic {} : {}'.format(np.argsort(coef)[i], np.sort(coef)[i]))\n",
    "        print (lda.print_topic(np.argsort(coef)[i], topn=5))\n",
    "    print ('\\n')\n",
    "    for i in range(3):\n",
    "        print ('topic {} : {}'.format(np.argsort(coef)[len(coef)-1-i], np.sort(coef)[len(coef)-1-i]))\n",
    "        print (lda.print_topic(np.argsort(coef)[len(coef)-1-i], topn=5))\n",
    "    return np.sort(coef)[:10], np.sort(coef)[-10:]"
   ]
  },
  {
   "cell_type": "code",
   "execution_count": 12,
   "metadata": {},
   "outputs": [
    {
     "name": "stdout",
     "output_type": "stream",
     "text": [
      "topic 4 : -0.24252568669703659\n",
      "0.031*\"order\" + 0.029*\"food\" + 0.014*\"said\" + 0.011*\"minutes\" + 0.011*\"ordered\"\n",
      "topic 47 : -0.20185000701962869\n",
      "0.028*\"table\" + 0.018*\"food\" + 0.018*\"came\" + 0.013*\"minutes\" + 0.013*\"seated\"\n",
      "topic 79 : -0.17917940083499717\n",
      "0.042*\"food\" + 0.024*\"service\" + 0.013*\"place\" + 0.011*\"bad\" + 0.009*\"night\"\n",
      "\n",
      "\n",
      "topic 46 : 0.2880537534341905\n",
      "0.061*\"food\" + 0.054*\"great\" + 0.029*\"service\" + 0.028*\"place\" + 0.028*\"friendly\"\n",
      "topic 62 : 0.14252715193419527\n",
      "0.014*\"like\" + 0.013*\"good\" + 0.011*\"ice\" + 0.011*\"cream\" + 0.010*\"dessert\"\n",
      "topic 69 : 0.12750849944456055\n",
      "0.023*\"sushi\" + 0.020*\"place\" + 0.016*\"food\" + 0.015*\"priced\" + 0.012*\"vegas\"\n"
     ]
    }
   ],
   "source": [
    "_ = find_min_max_coef(embed, case2['business_offset'])"
   ]
  },
  {
   "cell_type": "code",
   "execution_count": 13,
   "metadata": {},
   "outputs": [
    {
     "name": "stdout",
     "output_type": "stream",
     "text": [
      "topic 117 : -0.22207980406445255\n",
      "0.030*\"food\" + 0.014*\"like\" + 0.010*\"place\" + 0.008*\"rice\" + 0.008*\"time\"\n",
      "topic 4 : -0.20524312471812153\n",
      "0.031*\"order\" + 0.029*\"food\" + 0.014*\"said\" + 0.011*\"minutes\" + 0.011*\"ordered\"\n",
      "topic 79 : -0.19804090668983362\n",
      "0.042*\"food\" + 0.024*\"service\" + 0.013*\"place\" + 0.011*\"bad\" + 0.009*\"night\"\n",
      "\n",
      "\n",
      "topic 46 : 0.33957077236653854\n",
      "0.061*\"food\" + 0.054*\"great\" + 0.029*\"service\" + 0.028*\"place\" + 0.028*\"friendly\"\n",
      "topic 62 : 0.11704571988693614\n",
      "0.014*\"like\" + 0.013*\"good\" + 0.011*\"ice\" + 0.011*\"cream\" + 0.010*\"dessert\"\n",
      "topic 69 : 0.11479227822266841\n",
      "0.023*\"sushi\" + 0.020*\"place\" + 0.016*\"food\" + 0.015*\"priced\" + 0.012*\"vegas\"\n"
     ]
    }
   ],
   "source": [
    "_ = find_min_max_coef(embed1, case2['business_offset'])"
   ]
  },
  {
   "cell_type": "code",
   "execution_count": 15,
   "metadata": {},
   "outputs": [
    {
     "name": "stdout",
     "output_type": "stream",
     "text": [
      "topic 117 : -0.21196428252427693\n",
      "0.030*\"food\" + 0.014*\"like\" + 0.010*\"place\" + 0.008*\"rice\" + 0.008*\"time\"\n",
      "topic 4 : -0.2000375717505413\n",
      "0.031*\"order\" + 0.029*\"food\" + 0.014*\"said\" + 0.011*\"minutes\" + 0.011*\"ordered\"\n",
      "topic 79 : -0.19756507638245238\n",
      "0.042*\"food\" + 0.024*\"service\" + 0.013*\"place\" + 0.011*\"bad\" + 0.009*\"night\"\n",
      "\n",
      "\n",
      "topic 46 : 0.3848508710162415\n",
      "0.061*\"food\" + 0.054*\"great\" + 0.029*\"service\" + 0.028*\"place\" + 0.028*\"friendly\"\n",
      "topic 62 : 0.13295554494921472\n",
      "0.014*\"like\" + 0.013*\"good\" + 0.011*\"ice\" + 0.011*\"cream\" + 0.010*\"dessert\"\n",
      "topic 69 : 0.12302300364840482\n",
      "0.023*\"sushi\" + 0.020*\"place\" + 0.016*\"food\" + 0.015*\"priced\" + 0.012*\"vegas\"\n"
     ]
    }
   ],
   "source": [
    "_ = find_min_max_coef(embed2, case2['business_offset'])"
   ]
  },
  {
   "cell_type": "code",
   "execution_count": 17,
   "metadata": {},
   "outputs": [
    {
     "name": "stdout",
     "output_type": "stream",
     "text": [
      "topic 117 : -0.21214989721217772\n",
      "0.030*\"food\" + 0.014*\"like\" + 0.010*\"place\" + 0.008*\"rice\" + 0.008*\"time\"\n",
      "topic 79 : -0.20798680737552913\n",
      "0.042*\"food\" + 0.024*\"service\" + 0.013*\"place\" + 0.011*\"bad\" + 0.009*\"night\"\n",
      "topic 4 : -0.19674632558063782\n",
      "0.031*\"order\" + 0.029*\"food\" + 0.014*\"said\" + 0.011*\"minutes\" + 0.011*\"ordered\"\n",
      "\n",
      "\n",
      "topic 46 : 0.37711199071327006\n",
      "0.061*\"food\" + 0.054*\"great\" + 0.029*\"service\" + 0.028*\"place\" + 0.028*\"friendly\"\n",
      "topic 62 : 0.12777242569573505\n",
      "0.014*\"like\" + 0.013*\"good\" + 0.011*\"ice\" + 0.011*\"cream\" + 0.010*\"dessert\"\n",
      "topic 69 : 0.12452062003005454\n",
      "0.023*\"sushi\" + 0.020*\"place\" + 0.016*\"food\" + 0.015*\"priced\" + 0.012*\"vegas\"\n"
     ]
    }
   ],
   "source": [
    "_ = find_min_max_coef(embed6, case2['business_offset'])"
   ]
  },
  {
   "cell_type": "markdown",
   "metadata": {},
   "source": [
    "### what is this?"
   ]
  },
  {
   "cell_type": "markdown",
   "metadata": {},
   "source": [
    "Each embedding is a different representation of text topics, but underlying LDA shares the common word-to-topic distribution. We are comparing the correlation between each topic and 'business-offset'. Here, business-offset is a metric of how positive/negative a given text embedding is, which means, the same exact text might have a different correlation if you are observing different business. \n",
    "\n",
    "Positively large correlation means that the topic is important to decide 'strength' of business. For example, from the embedding 0 and embedding 1, we can deduce that the business we are observing is known for good service, sushi and dessert. \n",
    "\n",
    "Negatively large correlation means that the topic is important to decide 'weakness' of business. For example, from the embedding 0 and embedding 1, we can deduce that the business we are observing is known for taking long time to bring food."
   ]
  },
  {
   "cell_type": "markdown",
   "metadata": {},
   "source": [
    "# Case2 - Hakkasan Nightclub (declining business)"
   ]
  },
  {
   "cell_type": "code",
   "execution_count": 18,
   "metadata": {},
   "outputs": [
    {
     "data": {
      "text/html": [
       "<div>\n",
       "<style>\n",
       "    .dataframe thead tr:only-child th {\n",
       "        text-align: right;\n",
       "    }\n",
       "\n",
       "    .dataframe thead th {\n",
       "        text-align: left;\n",
       "    }\n",
       "\n",
       "    .dataframe tbody tr th {\n",
       "        vertical-align: top;\n",
       "    }\n",
       "</style>\n",
       "<table border=\"1\" class=\"dataframe\">\n",
       "  <thead>\n",
       "    <tr style=\"text-align: right;\">\n",
       "      <th></th>\n",
       "      <th>address</th>\n",
       "      <th>attributes</th>\n",
       "      <th>business_id</th>\n",
       "      <th>categories</th>\n",
       "      <th>city</th>\n",
       "      <th>hours</th>\n",
       "      <th>is_open</th>\n",
       "      <th>latitude</th>\n",
       "      <th>longitude</th>\n",
       "      <th>name</th>\n",
       "      <th>neighborhood</th>\n",
       "      <th>postal_code</th>\n",
       "      <th>review_count</th>\n",
       "      <th>stars</th>\n",
       "      <th>state</th>\n",
       "    </tr>\n",
       "  </thead>\n",
       "  <tbody>\n",
       "    <tr>\n",
       "      <th>3489</th>\n",
       "      <td>Mgm Grand Hotel And Casino, 3799 Las Vegas Blvd S</td>\n",
       "      <td>{'WheelchairAccessible': True, 'Alcohol': 'ful...</td>\n",
       "      <td>X8c23dur0ll2D9XTu-I8Qg</td>\n",
       "      <td>['Dance Clubs', 'Cantonese', 'Chinese', 'Loung...</td>\n",
       "      <td>Las Vegas</td>\n",
       "      <td>{'Sunday': '22:30-4:00', 'Friday': '22:30-4:00...</td>\n",
       "      <td>1</td>\n",
       "      <td>36.101375</td>\n",
       "      <td>-115.172452</td>\n",
       "      <td>Hakkasan Nightclub</td>\n",
       "      <td>The Strip</td>\n",
       "      <td>89109</td>\n",
       "      <td>1547</td>\n",
       "      <td>2.5</td>\n",
       "      <td>NV</td>\n",
       "    </tr>\n",
       "  </tbody>\n",
       "</table>\n",
       "</div>"
      ],
      "text/plain": [
       "                                                address  \\\n",
       "3489  Mgm Grand Hotel And Casino, 3799 Las Vegas Blvd S   \n",
       "\n",
       "                                             attributes  \\\n",
       "3489  {'WheelchairAccessible': True, 'Alcohol': 'ful...   \n",
       "\n",
       "                 business_id  \\\n",
       "3489  X8c23dur0ll2D9XTu-I8Qg   \n",
       "\n",
       "                                             categories       city  \\\n",
       "3489  ['Dance Clubs', 'Cantonese', 'Chinese', 'Loung...  Las Vegas   \n",
       "\n",
       "                                                  hours  is_open   latitude  \\\n",
       "3489  {'Sunday': '22:30-4:00', 'Friday': '22:30-4:00...        1  36.101375   \n",
       "\n",
       "       longitude                name neighborhood postal_code  review_count  \\\n",
       "3489 -115.172452  Hakkasan Nightclub    The Strip       89109          1547   \n",
       "\n",
       "      stars state  \n",
       "3489    2.5    NV  "
      ]
     },
     "execution_count": 18,
     "metadata": {},
     "output_type": "execute_result"
    }
   ],
   "source": [
    "business[business['business_id'] == 'X8c23dur0ll2D9XTu-I8Qg']"
   ]
  },
  {
   "cell_type": "code",
   "execution_count": 20,
   "metadata": {
    "collapsed": true
   },
   "outputs": [],
   "source": [
    "# embed\n",
    "embed, label = embed_by_enum(case3, embedder)\n",
    "embed1, label1 = embed_by_enum(case3, embedder, enum = 1)\n",
    "embed2, label2 = embed_by_enum(case3, embedder, enum = 2)\n",
    "embed6, label6 = embed_by_enum(case3, embedder, enum = 6)"
   ]
  },
  {
   "cell_type": "code",
   "execution_count": 21,
   "metadata": {},
   "outputs": [
    {
     "name": "stderr",
     "output_type": "stream",
     "text": [
      "/Users/kentatakatsu/anaconda/lib/python3.6/site-packages/numpy/lib/function_base.py:3003: RuntimeWarning: invalid value encountered in true_divide\n",
      "  c /= stddev[:, None]\n",
      "/Users/kentatakatsu/anaconda/lib/python3.6/site-packages/numpy/lib/function_base.py:3004: RuntimeWarning: invalid value encountered in true_divide\n",
      "  c /= stddev[None, :]\n"
     ]
    },
    {
     "name": "stdout",
     "output_type": "stream",
     "text": [
      "topic 79 : -0.2845522349511457\n",
      "0.042*\"food\" + 0.024*\"service\" + 0.013*\"place\" + 0.011*\"bad\" + 0.009*\"night\"\n",
      "topic 2 : -0.21906300197930592\n",
      "0.019*\"time\" + 0.013*\"food\" + 0.013*\"card\" + 0.009*\"good\" + 0.009*\"service\"\n",
      "topic 4 : -0.17063455906379704\n",
      "0.031*\"order\" + 0.029*\"food\" + 0.014*\"said\" + 0.011*\"minutes\" + 0.011*\"ordered\"\n",
      "\n",
      "\n",
      "topic 29 : 0.32124371793957823\n",
      "0.016*\"club\" + 0.015*\"place\" + 0.011*\"like\" + 0.011*\"floor\" + 0.011*\"great\"\n",
      "topic 46 : 0.1939257446070969\n",
      "0.061*\"food\" + 0.054*\"great\" + 0.029*\"service\" + 0.028*\"place\" + 0.028*\"friendly\"\n",
      "topic 69 : 0.08195909239237716\n",
      "0.023*\"sushi\" + 0.020*\"place\" + 0.016*\"food\" + 0.015*\"priced\" + 0.012*\"vegas\"\n"
     ]
    },
    {
     "data": {
      "text/plain": [
       "(array([-0.28455223, -0.219063  , -0.17063456, -0.09097483, -0.07296357,\n",
       "        -0.07078554, -0.0597717 , -0.04797751, -0.04783879, -0.04718723]),\n",
       " array([ 0.04439422,  0.04455408,  0.04689183,  0.05082108,  0.05537385,\n",
       "         0.06633466,  0.07677858,  0.08195909,  0.19392574,  0.32124372]))"
      ]
     },
     "execution_count": 21,
     "metadata": {},
     "output_type": "execute_result"
    }
   ],
   "source": [
    "find_min_max_coef(embed, label)"
   ]
  },
  {
   "cell_type": "code",
   "execution_count": 22,
   "metadata": {},
   "outputs": [
    {
     "name": "stdout",
     "output_type": "stream",
     "text": [
      "topic 79 : -0.26815353495336686\n",
      "0.042*\"food\" + 0.024*\"service\" + 0.013*\"place\" + 0.011*\"bad\" + 0.009*\"night\"\n",
      "topic 2 : -0.21767318940291888\n",
      "0.019*\"time\" + 0.013*\"food\" + 0.013*\"card\" + 0.009*\"good\" + 0.009*\"service\"\n",
      "topic 4 : -0.19583325617913966\n",
      "0.031*\"order\" + 0.029*\"food\" + 0.014*\"said\" + 0.011*\"minutes\" + 0.011*\"ordered\"\n",
      "\n",
      "\n",
      "topic 46 : 0.323787405545661\n",
      "0.061*\"food\" + 0.054*\"great\" + 0.029*\"service\" + 0.028*\"place\" + 0.028*\"friendly\"\n",
      "topic 29 : 0.2628327163466668\n",
      "0.016*\"club\" + 0.015*\"place\" + 0.011*\"like\" + 0.011*\"floor\" + 0.011*\"great\"\n",
      "topic 69 : 0.09456828395804068\n",
      "0.023*\"sushi\" + 0.020*\"place\" + 0.016*\"food\" + 0.015*\"priced\" + 0.012*\"vegas\"\n"
     ]
    },
    {
     "data": {
      "text/plain": [
       "(array([-0.26815353, -0.21767319, -0.19583326, -0.1940619 , -0.1142696 ,\n",
       "        -0.0832379 , -0.07019912, -0.06899334, -0.06713443, -0.06643849]),\n",
       " array([ 0.049276  ,  0.05293   ,  0.05346921,  0.05619461,  0.05654463,\n",
       "         0.06926229,  0.06953638,  0.09456828,  0.26283272,  0.32378741]))"
      ]
     },
     "execution_count": 22,
     "metadata": {},
     "output_type": "execute_result"
    }
   ],
   "source": [
    "find_min_max_coef(embed1, label1)"
   ]
  },
  {
   "cell_type": "code",
   "execution_count": 23,
   "metadata": {},
   "outputs": [
    {
     "name": "stdout",
     "output_type": "stream",
     "text": [
      "topic 79 : -0.2860005563210301\n",
      "0.042*\"food\" + 0.024*\"service\" + 0.013*\"place\" + 0.011*\"bad\" + 0.009*\"night\"\n",
      "topic 2 : -0.22768197517988287\n",
      "0.019*\"time\" + 0.013*\"food\" + 0.013*\"card\" + 0.009*\"good\" + 0.009*\"service\"\n",
      "topic 4 : -0.21381636053852526\n",
      "0.031*\"order\" + 0.029*\"food\" + 0.014*\"said\" + 0.011*\"minutes\" + 0.011*\"ordered\"\n",
      "\n",
      "\n",
      "topic 46 : 0.28168359354248523\n",
      "0.061*\"food\" + 0.054*\"great\" + 0.029*\"service\" + 0.028*\"place\" + 0.028*\"friendly\"\n",
      "topic 40 : 0.22535856138368726\n",
      "0.014*\"dish\" + 0.013*\"fried\" + 0.013*\"chinese\" + 0.011*\"good\" + 0.011*\"food\"\n",
      "topic 5 : 0.1986047191515234\n",
      "0.031*\"chicken\" + 0.019*\"curry\" + 0.018*\"rice\" + 0.015*\"like\" + 0.013*\"food\"\n"
     ]
    },
    {
     "data": {
      "text/plain": [
       "(array([-0.28600056, -0.22768198, -0.21381636, -0.18485225, -0.13956982,\n",
       "        -0.0826725 , -0.07138805, -0.06252799, -0.05702037, -0.05319065]),\n",
       " array([ 0.10613187,  0.10965651,  0.10988054,  0.11042272,  0.12987123,\n",
       "         0.15939631,  0.18862737,  0.19860472,  0.22535856,  0.28168359]))"
      ]
     },
     "execution_count": 23,
     "metadata": {},
     "output_type": "execute_result"
    }
   ],
   "source": [
    "find_min_max_coef(embed2, label2)"
   ]
  },
  {
   "cell_type": "code",
   "execution_count": 24,
   "metadata": {},
   "outputs": [
    {
     "name": "stdout",
     "output_type": "stream",
     "text": [
      "topic 79 : -0.2994092561053318\n",
      "0.042*\"food\" + 0.024*\"service\" + 0.013*\"place\" + 0.011*\"bad\" + 0.009*\"night\"\n",
      "topic 2 : -0.24939357219625957\n",
      "0.019*\"time\" + 0.013*\"food\" + 0.013*\"card\" + 0.009*\"good\" + 0.009*\"service\"\n",
      "topic 4 : -0.20786764856368817\n",
      "0.031*\"order\" + 0.029*\"food\" + 0.014*\"said\" + 0.011*\"minutes\" + 0.011*\"ordered\"\n",
      "\n",
      "\n",
      "topic 46 : 0.29521551368739696\n",
      "0.061*\"food\" + 0.054*\"great\" + 0.029*\"service\" + 0.028*\"place\" + 0.028*\"friendly\"\n",
      "topic 40 : 0.20253035533968544\n",
      "0.014*\"dish\" + 0.013*\"fried\" + 0.013*\"chinese\" + 0.011*\"good\" + 0.011*\"food\"\n",
      "topic 104 : 0.1838660780983341\n",
      "0.019*\"tofu\" + 0.016*\"good\" + 0.011*\"food\" + 0.011*\"sauce\" + 0.011*\"dish\"\n"
     ]
    },
    {
     "data": {
      "text/plain": [
       "(array([-0.29940926, -0.24939357, -0.20786765, -0.16510961, -0.11723463,\n",
       "        -0.08810608, -0.0780088 , -0.06599597, -0.05650126, -0.05462365]),\n",
       " array([ 0.10082291,  0.1039867 ,  0.10859541,  0.10969878,  0.11812754,\n",
       "         0.13502569,  0.14742964,  0.18386608,  0.20253036,  0.29521551]))"
      ]
     },
     "execution_count": 24,
     "metadata": {},
     "output_type": "execute_result"
    }
   ],
   "source": [
    "find_min_max_coef(embed6, label6)"
   ]
  },
  {
   "cell_type": "markdown",
   "metadata": {},
   "source": [
    "### What is this"
   ]
  },
  {
   "cell_type": "markdown",
   "metadata": {},
   "source": [
    "Something I realize is some topics such as Topic 4, topic 117 are recurrently appearing across businesses. This means the negative topics failed to generalize business specific information, but rather, making an observation of tendency that people conplain more about time when it comes to chinese restaurants"
   ]
  },
  {
   "cell_type": "markdown",
   "metadata": {},
   "source": [
    "# Preliminary time-series analysis"
   ]
  },
  {
   "cell_type": "markdown",
   "metadata": {},
   "source": [
    "We are going to compare the correlation between the *slope* of topics in a quarter and quarter offsets (quarter average - business average). Positive correlation means topics that the business wants the users to talk more in order to improve the business"
   ]
  },
  {
   "cell_type": "code",
   "execution_count": 30,
   "metadata": {
    "collapsed": true
   },
   "outputs": [],
   "source": [
    "def embed_by_enum(data, embedder, enum = 0, binary = False):\n",
    "    # select regions\n",
    "    if binary:\n",
    "        data = data[data['quarter_offset'] != 0]\n",
    "    label = data['quarter_offset']\n",
    "    # create labels\n",
    "    if enum == 2: \n",
    "        embed = np.array([embedder.augmented_embed_text(t) for t in data['text'].values])\n",
    "    elif enum == 3: \n",
    "        embed = np.array([embedder.user_tfidf_embed(t, u) for t, u in zip(data['text'].values, data['user_id'].values)])\n",
    "    elif enum == 4: \n",
    "        embed = np.array([embedder.user_tf_business_idf(t, b) for t, b in zip(data['text'].values, data['business_id'].values)])\n",
    "    elif enum == 5: \n",
    "        embed = np.array([embedder.user_tfidf_business_idf(t, u, b) for t, u, b in zip(data['text'].values, data['user_id'].values, data['business_id'].values)])\n",
    "    \n",
    "    elif enum == 0: \n",
    "        embed = np.array([embedder.embed(t) for t in data['text'].values])\n",
    "    elif enum == 1:\n",
    "        embed = np.array([embedder.embed_sent(t) for t in data['text'].values])\n",
    "    \n",
    "    elif enum == 6:\n",
    "        embed = np.array([embedder.augmented_tf_business_tfidf(t, b) for t, b in zip(data['text'].values, data['business_id'].values)])\n",
    "    else:\n",
    "        print ('enum {} is not supported'.format(enum))\n",
    "        return None\n",
    "    return embed, label"
   ]
  },
  {
   "cell_type": "code",
   "execution_count": 31,
   "metadata": {
    "collapsed": true
   },
   "outputs": [],
   "source": [
    "# helper to build sequential data, fitting a linear regression and taking a slope\n",
    "# on a side note, I also tried with SVR but the line of best fit tends to be horizontal, aka simply finding the average\n",
    "def build_data(df, enum):\n",
    "    qs = sorted(list(set(df['quarter'])))\n",
    "    X = []\n",
    "    y = []\n",
    "    for q in qs:\n",
    "        filtered = df[df['quarter'] == q]\n",
    "        embed, labels = embed_by_enum(filtered, embedder, enum)\n",
    "        \n",
    "        # fit on the sequence, store the slope\n",
    "        regr = LinearRegression()\n",
    "        regr.fit(np.arange(len(embed)).reshape(-1,1),embed)\n",
    "        X.append(regr.coef_.reshape(1,-1)[0])\n",
    "        \n",
    "        y.append(list(set(filtered['quarter_avg'].values))[0])\n",
    "    return np.array(X), np.array(y)"
   ]
  },
  {
   "cell_type": "markdown",
   "metadata": {},
   "source": [
    "## Case 1 - SUSHISAMBA (growing business)"
   ]
  },
  {
   "cell_type": "code",
   "execution_count": 32,
   "metadata": {},
   "outputs": [
    {
     "name": "stdout",
     "output_type": "stream",
     "text": [
      "CPU times: user 21.7 s, sys: 221 ms, total: 21.9 s\n",
      "Wall time: 5.5 s\n",
      "CPU times: user 50.6 s, sys: 486 ms, total: 51 s\n",
      "Wall time: 26.7 s\n",
      "CPU times: user 51.2 s, sys: 512 ms, total: 51.7 s\n",
      "Wall time: 27.5 s\n",
      "CPU times: user 52.1 s, sys: 747 ms, total: 52.8 s\n",
      "Wall time: 28.8 s\n"
     ]
    }
   ],
   "source": [
    "# embed (this takes longer)\n",
    "%time x,y = build_data(case2, 0)\n",
    "%time x1,y1 = build_data(case2, 1)\n",
    "%time x2,y2 = build_data(case2, 2)\n",
    "%time x6,y6 = build_data(case2, 6)"
   ]
  },
  {
   "cell_type": "code",
   "execution_count": 33,
   "metadata": {},
   "outputs": [
    {
     "name": "stdout",
     "output_type": "stream",
     "text": [
      "topic 2 : -0.44220115909922814\n",
      "0.019*\"time\" + 0.013*\"food\" + 0.013*\"card\" + 0.009*\"good\" + 0.009*\"service\"\n",
      "topic 119 : -0.4300698117557422\n",
      "0.023*\"food\" + 0.016*\"place\" + 0.012*\"time\" + 0.011*\"good\" + 0.010*\"great\"\n",
      "topic 38 : -0.383512239836539\n",
      "0.024*\"good\" + 0.019*\"food\" + 0.015*\"place\" + 0.013*\"restaurant\" + 0.011*\"noodles\"\n",
      "\n",
      "\n",
      "topic 51 : 0.4050825985131052\n",
      "0.016*\"place\" + 0.014*\"good\" + 0.012*\"like\" + 0.011*\"chinese\" + 0.010*\"soup\"\n",
      "topic 14 : 0.37801578848043915\n",
      "0.021*\"kim\" + 0.019*\"place\" + 0.015*\"long\" + 0.014*\"best\" + 0.014*\"food\"\n",
      "topic 56 : 0.3771069694999681\n",
      "0.018*\"dim\" + 0.018*\"sum\" + 0.015*\"place\" + 0.013*\"good\" + 0.010*\"pork\"\n"
     ]
    }
   ],
   "source": [
    "_ = find_min_max_coef(x, y - case2['business_stars'].values[0])"
   ]
  },
  {
   "cell_type": "code",
   "execution_count": 34,
   "metadata": {},
   "outputs": [
    {
     "name": "stdout",
     "output_type": "stream",
     "text": [
      "topic 47 : -0.5515558347216084\n",
      "0.028*\"table\" + 0.018*\"food\" + 0.018*\"came\" + 0.013*\"minutes\" + 0.013*\"seated\"\n",
      "topic 65 : -0.497332207209741\n",
      "0.022*\"food\" + 0.021*\"place\" + 0.021*\"pho\" + 0.015*\"good\" + 0.014*\"hong\"\n",
      "topic 107 : -0.44923552292437874\n",
      "0.018*\"food\" + 0.012*\"good\" + 0.011*\"time\" + 0.009*\"chinese\" + 0.008*\"chicken\"\n",
      "\n",
      "\n",
      "topic 124 : 0.3999594010491377\n",
      "0.071*\"sushi\" + 0.014*\"food\" + 0.013*\"roll\" + 0.011*\"buffet\" + 0.010*\"time\"\n",
      "topic 16 : 0.30817601282026247\n",
      "0.028*\"food\" + 0.016*\"good\" + 0.014*\"gluten\" + 0.011*\"free\" + 0.010*\"rice\"\n",
      "topic 70 : 0.28935271378981964\n",
      "0.014*\"place\" + 0.014*\"food\" + 0.012*\"dinner\" + 0.010*\"good\" + 0.008*\"chicken\"\n"
     ]
    }
   ],
   "source": [
    "_ = find_min_max_coef(x1, y1 - case2['business_stars'].values[0])"
   ]
  },
  {
   "cell_type": "code",
   "execution_count": 35,
   "metadata": {},
   "outputs": [
    {
     "name": "stdout",
     "output_type": "stream",
     "text": [
      "topic 47 : -0.44291109363566333\n",
      "0.028*\"table\" + 0.018*\"food\" + 0.018*\"came\" + 0.013*\"minutes\" + 0.013*\"seated\"\n",
      "topic 107 : -0.4353398705841415\n",
      "0.018*\"food\" + 0.012*\"good\" + 0.011*\"time\" + 0.009*\"chinese\" + 0.008*\"chicken\"\n",
      "topic 2 : -0.37268273705926597\n",
      "0.019*\"time\" + 0.013*\"food\" + 0.013*\"card\" + 0.009*\"good\" + 0.009*\"service\"\n",
      "\n",
      "\n",
      "topic 35 : 0.5467509603740632\n",
      "0.017*\"food\" + 0.016*\"chicken\" + 0.015*\"ve\" + 0.012*\"chinese\" + 0.011*\"restaurant\"\n",
      "topic 16 : 0.43879355907799505\n",
      "0.028*\"food\" + 0.016*\"good\" + 0.014*\"gluten\" + 0.011*\"free\" + 0.010*\"rice\"\n",
      "topic 14 : 0.4079383906930276\n",
      "0.021*\"kim\" + 0.019*\"place\" + 0.015*\"long\" + 0.014*\"best\" + 0.014*\"food\"\n"
     ]
    }
   ],
   "source": [
    "_ = find_min_max_coef(x2, y2 - case2['business_stars'].values[0])"
   ]
  },
  {
   "cell_type": "code",
   "execution_count": 36,
   "metadata": {},
   "outputs": [
    {
     "name": "stdout",
     "output_type": "stream",
     "text": [
      "topic 54 : -0.4687577530414638\n",
      "0.034*\"food\" + 0.015*\"place\" + 0.010*\"service\" + 0.010*\"good\" + 0.008*\"worth\"\n",
      "topic 116 : -0.4162200791606643\n",
      "0.023*\"good\" + 0.021*\"food\" + 0.018*\"place\" + 0.013*\"service\" + 0.011*\"restaurant\"\n",
      "topic 47 : -0.3968394860264019\n",
      "0.028*\"table\" + 0.018*\"food\" + 0.018*\"came\" + 0.013*\"minutes\" + 0.013*\"seated\"\n",
      "\n",
      "\n",
      "topic 74 : 0.4608176304152808\n",
      "0.028*\"food\" + 0.024*\"place\" + 0.014*\"good\" + 0.011*\"time\" + 0.010*\"service\"\n",
      "topic 56 : 0.4183418000162654\n",
      "0.018*\"dim\" + 0.018*\"sum\" + 0.015*\"place\" + 0.013*\"good\" + 0.010*\"pork\"\n",
      "topic 16 : 0.39145395719837384\n",
      "0.028*\"food\" + 0.016*\"good\" + 0.014*\"gluten\" + 0.011*\"free\" + 0.010*\"rice\"\n"
     ]
    }
   ],
   "source": [
    "_ = find_min_max_coef(x6, y6 - case2['business_stars'].values[0])"
   ]
  },
  {
   "cell_type": "markdown",
   "metadata": {
    "collapsed": true
   },
   "source": [
    "### What is this ?"
   ]
  },
  {
   "cell_type": "markdown",
   "metadata": {},
   "source": [
    "Now our observation is split by quarters (3 month period). For each quarter, we have an average rating for this period and an offset from the particular business rating. This metric represents how successful the given time period was. We are now, observing the sequence of latent topic embeddings and see if we can find any correlations between success of business over time. As a baseline analysis, I apply linear regression and compare the correlation between the coefficient of each topic (slope) and overall success of the quater. \n",
    "\n",
    "First of all, each topic has much greater correlation than I saw with earlier experiments. This means the sequence of topics have more significant meaning than the raw value of embedding itself. We can later validate which embedding is the best one by giving the classification task. \n",
    "\n",
    "Next, the results suggest the growth of some topics are highly correlated with the growth of business. Intuitively those topics are area the business should focus on more to improve their business. Some interesting topic that I observe across different embeddings are topic 16, which contains the word, 'gluten free'.\n",
    "\n",
    "Finally, the negative correlation means the topic which might hurt the business, if they focus on. Something I see particularly is topic 47 which is about 'serving time'. But this could also mean, 47 is inheritantly a complaint about bad serving time, and decrease in this topic could suggest their improvement in the serving time."
   ]
  },
  {
   "cell_type": "code",
   "execution_count": 37,
   "metadata": {},
   "outputs": [
    {
     "name": "stdout",
     "output_type": "stream",
     "text": [
      "CPU times: user 15.6 s, sys: 224 ms, total: 15.9 s\n",
      "Wall time: 3.99 s\n",
      "CPU times: user 37.6 s, sys: 299 ms, total: 37.9 s\n",
      "Wall time: 24.7 s\n",
      "CPU times: user 38 s, sys: 416 ms, total: 38.4 s\n",
      "Wall time: 25.3 s\n",
      "CPU times: user 37.9 s, sys: 275 ms, total: 38.1 s\n",
      "Wall time: 24.9 s\n"
     ]
    }
   ],
   "source": [
    "# embed (this takes longer)\n",
    "%time x,y = build_data(case3, 0)\n",
    "%time x1,y1 = build_data(case3, 1)\n",
    "%time x2,y2 = build_data(case3, 2)\n",
    "%time x6,y6 = build_data(case3, 6)"
   ]
  },
  {
   "cell_type": "code",
   "execution_count": 38,
   "metadata": {},
   "outputs": [
    {
     "name": "stdout",
     "output_type": "stream",
     "text": [
      "topic 72 : -0.5716319555932887\n",
      "0.012*\"good\" + 0.009*\"like\" + 0.007*\"service\" + 0.006*\"restaurant\" + 0.006*\"table\"\n",
      "topic 95 : -0.4955978939014464\n",
      "0.024*\"food\" + 0.016*\"chicken\" + 0.013*\"rice\" + 0.013*\"chinese\" + 0.012*\"chino\"\n",
      "topic 101 : -0.47748758591979645\n",
      "0.028*\"food\" + 0.020*\"place\" + 0.016*\"good\" + 0.015*\"service\" + 0.010*\"family\"\n",
      "\n",
      "\n",
      "topic 3 : 0.5802839716760156\n",
      "0.019*\"food\" + 0.019*\"place\" + 0.011*\"good\" + 0.009*\"ordered\" + 0.009*\"service\"\n",
      "topic 56 : 0.4849146070728298\n"
     ]
    },
    {
     "name": "stderr",
     "output_type": "stream",
     "text": [
      "/Users/kentatakatsu/anaconda/lib/python3.6/site-packages/numpy/lib/function_base.py:3003: RuntimeWarning: invalid value encountered in true_divide\n",
      "  c /= stddev[:, None]\n",
      "/Users/kentatakatsu/anaconda/lib/python3.6/site-packages/numpy/lib/function_base.py:3004: RuntimeWarning: invalid value encountered in true_divide\n",
      "  c /= stddev[None, :]\n"
     ]
    },
    {
     "name": "stdout",
     "output_type": "stream",
     "text": [
      "0.018*\"dim\" + 0.018*\"sum\" + 0.015*\"place\" + 0.013*\"good\" + 0.010*\"pork\"\n",
      "topic 21 : 0.46979581644626445\n",
      "0.088*\"dim\" + 0.087*\"sum\" + 0.018*\"good\" + 0.015*\"food\" + 0.014*\"place\"\n"
     ]
    }
   ],
   "source": [
    "_ = find_min_max_coef(x, y - case3['business_stars'].values[0])"
   ]
  },
  {
   "cell_type": "code",
   "execution_count": 39,
   "metadata": {},
   "outputs": [
    {
     "name": "stdout",
     "output_type": "stream",
     "text": [
      "topic 72 : -0.6900671000558449\n",
      "0.012*\"good\" + 0.009*\"like\" + 0.007*\"service\" + 0.006*\"restaurant\" + 0.006*\"table\"\n",
      "topic 74 : -0.44968504131174175\n",
      "0.028*\"food\" + 0.024*\"place\" + 0.014*\"good\" + 0.011*\"time\" + 0.010*\"service\"\n",
      "topic 26 : -0.44449191012912137\n",
      "0.015*\"food\" + 0.014*\"nice\" + 0.012*\"restaurant\" + 0.011*\"time\" + 0.010*\"ramen\"\n",
      "\n",
      "\n",
      "topic 32 : 0.6350548290809714\n",
      "0.033*\"food\" + 0.029*\"delivery\" + 0.016*\"ordered\" + 0.015*\"chicken\" + 0.015*\"order\"\n",
      "topic 115 : 0.5183795150657069\n",
      "0.011*\"food\" + 0.010*\"pork\" + 0.008*\"vegan\" + 0.008*\"restaurant\" + 0.008*\"service\"\n",
      "topic 66 : 0.5174240238916217\n",
      "0.019*\"good\" + 0.011*\"time\" + 0.010*\"food\" + 0.008*\"beef\" + 0.008*\"like\"\n"
     ]
    }
   ],
   "source": [
    "_ = find_min_max_coef(x1, y1 - case3['business_stars'].values[0])"
   ]
  },
  {
   "cell_type": "code",
   "execution_count": 40,
   "metadata": {},
   "outputs": [
    {
     "name": "stdout",
     "output_type": "stream",
     "text": [
      "topic 72 : -0.6661964791892225\n",
      "0.012*\"good\" + 0.009*\"like\" + 0.007*\"service\" + 0.006*\"restaurant\" + 0.006*\"table\"\n",
      "topic 122 : -0.5273809735078623\n",
      "0.024*\"food\" + 0.019*\"restaurant\" + 0.016*\"place\" + 0.010*\"location\" + 0.010*\"chinese\"\n",
      "topic 95 : -0.5248901932340281\n",
      "0.024*\"food\" + 0.016*\"chicken\" + 0.013*\"rice\" + 0.013*\"chinese\" + 0.012*\"chino\"\n",
      "\n",
      "\n",
      "topic 66 : 0.5416356254403903\n",
      "0.019*\"good\" + 0.011*\"time\" + 0.010*\"food\" + 0.008*\"beef\" + 0.008*\"like\"\n",
      "topic 12 : 0.45445223756355346\n",
      "0.064*\"duck\" + 0.025*\"food\" + 0.021*\"roast\" + 0.014*\"chinese\" + 0.013*\"place\"\n",
      "topic 127 : 0.4276041486387412\n",
      "0.030*\"food\" + 0.016*\"chinese\" + 0.016*\"place\" + 0.011*\"good\" + 0.010*\"service\"\n"
     ]
    }
   ],
   "source": [
    "_ = find_min_max_coef(x2, y2 - case3['business_stars'].values[0])"
   ]
  },
  {
   "cell_type": "code",
   "execution_count": 42,
   "metadata": {},
   "outputs": [
    {
     "name": "stdout",
     "output_type": "stream",
     "text": [
      "topic 72 : -0.67007887142119\n",
      "0.012*\"good\" + 0.009*\"like\" + 0.007*\"service\" + 0.006*\"restaurant\" + 0.006*\"table\"\n",
      "topic 95 : -0.5994992419590737\n",
      "0.024*\"food\" + 0.016*\"chicken\" + 0.013*\"rice\" + 0.013*\"chinese\" + 0.012*\"chino\"\n",
      "topic 44 : -0.45989830774238244\n",
      "0.018*\"chinese\" + 0.015*\"food\" + 0.015*\"good\" + 0.015*\"pepper\" + 0.012*\"ribs\"\n",
      "\n",
      "\n",
      "topic 12 : 0.5594267160034957\n",
      "0.064*\"duck\" + 0.025*\"food\" + 0.021*\"roast\" + 0.014*\"chinese\" + 0.013*\"place\"\n",
      "topic 66 : 0.5044929662273185\n",
      "0.019*\"good\" + 0.011*\"time\" + 0.010*\"food\" + 0.008*\"beef\" + 0.008*\"like\"\n",
      "topic 41 : 0.5000108570196163\n",
      "0.018*\"food\" + 0.014*\"order\" + 0.013*\"good\" + 0.013*\"place\" + 0.011*\"hotpot\"\n"
     ]
    }
   ],
   "source": [
    "_ = find_min_max_coef(x6, y6 - case3['business_stars'].values[0])"
   ]
  },
  {
   "cell_type": "markdown",
   "metadata": {},
   "source": [
    "### What is this"
   ]
  },
  {
   "cell_type": "markdown",
   "metadata": {},
   "source": [
    "Something very imteresting here is the result seems completely different across businesses. For example, positive topics here incluse many food related vocabulary such as 'pork', 'duck', and 'roast'. This suggests that the business does best when their food is popular. "
   ]
  }
 ],
 "metadata": {
  "kernelspec": {
   "display_name": "Python 3",
   "language": "python",
   "name": "python3"
  },
  "language_info": {
   "codemirror_mode": {
    "name": "ipython",
    "version": 3
   },
   "file_extension": ".py",
   "mimetype": "text/x-python",
   "name": "python",
   "nbconvert_exporter": "python",
   "pygments_lexer": "ipython3",
   "version": "3.6.1"
  }
 },
 "nbformat": 4,
 "nbformat_minor": 2
}
