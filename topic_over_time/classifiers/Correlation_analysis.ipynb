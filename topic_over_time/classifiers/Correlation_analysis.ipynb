{
 "cells": [
  {
   "cell_type": "markdown",
   "metadata": {},
   "source": [
    "# Correlation analysis between embeddings and performance metrics"
   ]
  },
  {
   "cell_type": "code",
   "execution_count": 131,
   "metadata": {
    "collapsed": true
   },
   "outputs": [],
   "source": [
    "# import dependencies\n",
    "from text_embedder import TextEmbedder\n",
    "from gensim import corpora, models\n",
    "import pandas as pd\n",
    "import pickle\n",
    "import matplotlib.pyplot as plt\n",
    "from xgboost import XGBClassifier\n",
    "import numpy as np\n",
    "from sklearn.model_selection import train_test_split\n",
    "from sklearn.metrics import confusion_matrix\n",
    "from sklearn.linear_model import LinearRegression"
   ]
  },
  {
   "cell_type": "code",
   "execution_count": 133,
   "metadata": {},
   "outputs": [],
   "source": [
    "# load pre-trained data\n",
    "business = pd.read_csv('../data/chinese_business_clean.csv')\n",
    "reviews = pd.read_csv('../data/chinese_reviews_clean_offsets.csv')\n",
    "\n",
    "reviews['date_tuple'] = [eval(i) for i in reviews['date_tuple']]\n",
    "reviews['quarter'] = [eval(i) for i in reviews['quarter']]\n",
    "\n",
    "# load gensim model\n",
    "lda =  models.LdaModel.load('../data/gensim/lda.model')\n",
    "dictionary = corpora.Dictionary.load('../data/gensim/chinsese_dict.dict')\n",
    "\n",
    "# load idf matrices\n",
    "with open('../data/u_idf.pickle', 'rb') as f:\n",
    "    uidf_data = pickle.load(f)\n",
    "with open('../data/b_idf.pickle', 'rb') as f:\n",
    "    bidf_data = pickle.load(f)"
   ]
  },
  {
   "cell_type": "code",
   "execution_count": 134,
   "metadata": {
    "collapsed": true
   },
   "outputs": [],
   "source": [
    "# initialize text embedding classs\n",
    "embedder = TextEmbedder(model = lda, dictionary = dictionary, user_idf = uidf_data, business_idf = bidf_data)"
   ]
  },
  {
   "cell_type": "code",
   "execution_count": 135,
   "metadata": {
    "collapsed": true
   },
   "outputs": [],
   "source": [
    "# use top2 growing, declining business for case study\n",
    "case2 = reviews[reviews['business_id'] == 'pH0BLkL4cbxKzu471VZnuA'] # growing \n",
    "case3 = reviews[reviews['business_id'] == 'X8c23dur0ll2D9XTu-I8Qg'] # declining"
   ]
  },
  {
   "cell_type": "code",
   "execution_count": 138,
   "metadata": {},
   "outputs": [
    {
     "data": {
      "image/png": "[encoded data removed]",
      "text/plain": [
       "<matplotlib.figure.Figure at 0x1a1b8f95c0>"
      ]
     },
     "metadata": {},
     "output_type": "display_data"
    }
   ],
   "source": [
    "# case2 is growing\n",
    "plt.plot(case2.sort_values(by= 'quarter')['quarter_avg'].values)\n",
    "plt.title('Quater average over time')\n",
    "plt.show()"
   ]
  },
  {
   "cell_type": "code",
   "execution_count": 140,
   "metadata": {},
   "outputs": [
    {
     "data": {
      "image/png": "[encoded data removed]",
      "text/plain": [
       "<matplotlib.figure.Figure at 0x1a27ac0d30>"
      ]
     },
     "metadata": {},
     "output_type": "display_data"
    }
   ],
   "source": [
    "# case3 is declining\n",
    "plt.plot(case3.sort_values(by= 'quarter')['quarter_avg'].values)\n",
    "plt.title('Quater average over time')\n",
    "plt.show()"
   ]
  },
  {
   "cell_type": "markdown",
   "metadata": {},
   "source": [
    "## Raw value of embedded topic vs Business offset"
   ]
  },
  {
   "cell_type": "markdown",
   "metadata": {},
   "source": [
    "We are going to compare the correlation between the topics and business offsets (review - business average). Offsets are different across reviews, and this metric suggests how positive/negative the topic is given the business"
   ]
  },
  {
   "cell_type": "code",
   "execution_count": 141,
   "metadata": {
    "collapsed": true
   },
   "outputs": [],
   "source": [
    "# helper to make a labels \n",
    "def mapping(x):\n",
    "    if x < 0:\n",
    "        return 0\n",
    "    else:\n",
    "        return int(x!=0)+1"
   ]
  },
  {
   "cell_type": "code",
   "execution_count": 142,
   "metadata": {
    "collapsed": true
   },
   "outputs": [],
   "source": [
    "# embedding helper class\n",
    "def embed_by_enum(data, embedder, enum = 0, binary = False):\n",
    "    # select regions\n",
    "    if binary:\n",
    "        data = data[data['business_offset'] != 0]\n",
    "    label = data['business_offset']\n",
    "    # create labels\n",
    "    if enum == 0: \n",
    "        embed = np.array([embedder.augmented_embed_text(t) for t in data['text'].values])\n",
    "    elif enum == 1: \n",
    "        embed = np.array([embedder.user_tfidf_embed(t, u) for t, u in zip(data['text'].values, data['user_id'].values)])\n",
    "    elif enum == 2: \n",
    "        embed = np.array([embedder.user_tf_business_idf(t, b) for t, b in zip(data['text'].values, data['business_id'].values)])\n",
    "    elif enum == 3: \n",
    "        embed = np.array([embedder.user_tfidf_business_idf(t, u, b) for t, u, b in zip(data['text'].values, data['user_id'].values, data['business_id'].values)])\n",
    "    elif enum == 4: \n",
    "        embed = np.array([embedder.embed(t) for t in data['text'].values])\n",
    "    elif enum == 5:\n",
    "        embed = np.array([embedder.embed_sent(t) for t in data['text'].values])\n",
    "    else:\n",
    "        print ('enum {} is not supported'.format(enum))\n",
    "        return None\n",
    "    return embed, label"
   ]
  },
  {
   "cell_type": "markdown",
   "metadata": {},
   "source": [
    "## Case 1 - SUSHISAMBA (growing business)"
   ]
  },
  {
   "cell_type": "code",
   "execution_count": 144,
   "metadata": {},
   "outputs": [
    {
     "data": {
      "text/html": [
       "<div>\n",
       "<style>\n",
       "    .dataframe thead tr:only-child th {\n",
       "        text-align: right;\n",
       "    }\n",
       "\n",
       "    .dataframe thead th {\n",
       "        text-align: left;\n",
       "    }\n",
       "\n",
       "    .dataframe tbody tr th {\n",
       "        vertical-align: top;\n",
       "    }\n",
       "</style>\n",
       "<table border=\"1\" class=\"dataframe\">\n",
       "  <thead>\n",
       "    <tr style=\"text-align: right;\">\n",
       "      <th></th>\n",
       "      <th>address</th>\n",
       "      <th>attributes</th>\n",
       "      <th>business_id</th>\n",
       "      <th>categories</th>\n",
       "      <th>city</th>\n",
       "      <th>hours</th>\n",
       "      <th>is_open</th>\n",
       "      <th>latitude</th>\n",
       "      <th>longitude</th>\n",
       "      <th>name</th>\n",
       "      <th>neighborhood</th>\n",
       "      <th>postal_code</th>\n",
       "      <th>review_count</th>\n",
       "      <th>stars</th>\n",
       "      <th>state</th>\n",
       "    </tr>\n",
       "  </thead>\n",
       "  <tbody>\n",
       "    <tr>\n",
       "      <th>1499</th>\n",
       "      <td>3327 Las Vegas Blvd S</td>\n",
       "      <td>{'Alcohol': 'full_bar', 'HasTV': True, 'NoiseL...</td>\n",
       "      <td>pH0BLkL4cbxKzu471VZnuA</td>\n",
       "      <td>['Nightlife', 'Restaurants', 'Breakfast &amp; Brun...</td>\n",
       "      <td>Las Vegas</td>\n",
       "      <td>{'Monday': '11:30-1:00', 'Tuesday': '11:30-1:0...</td>\n",
       "      <td>1</td>\n",
       "      <td>36.124582</td>\n",
       "      <td>-115.167553</td>\n",
       "      <td>SUSHISAMBA - Las Vegas</td>\n",
       "      <td>The Strip</td>\n",
       "      <td>89109</td>\n",
       "      <td>1973</td>\n",
       "      <td>4.0</td>\n",
       "      <td>NV</td>\n",
       "    </tr>\n",
       "  </tbody>\n",
       "</table>\n",
       "</div>"
      ],
      "text/plain": [
       "                    address  \\\n",
       "1499  3327 Las Vegas Blvd S   \n",
       "\n",
       "                                             attributes  \\\n",
       "1499  {'Alcohol': 'full_bar', 'HasTV': True, 'NoiseL...   \n",
       "\n",
       "                 business_id  \\\n",
       "1499  pH0BLkL4cbxKzu471VZnuA   \n",
       "\n",
       "                                             categories       city  \\\n",
       "1499  ['Nightlife', 'Restaurants', 'Breakfast & Brun...  Las Vegas   \n",
       "\n",
       "                                                  hours  is_open   latitude  \\\n",
       "1499  {'Monday': '11:30-1:00', 'Tuesday': '11:30-1:0...        1  36.124582   \n",
       "\n",
       "       longitude                    name neighborhood postal_code  \\\n",
       "1499 -115.167553  SUSHISAMBA - Las Vegas    The Strip       89109   \n",
       "\n",
       "      review_count  stars state  \n",
       "1499          1973    4.0    NV  "
      ]
     },
     "execution_count": 144,
     "metadata": {},
     "output_type": "execute_result"
    }
   ],
   "source": [
    "business[business['business_id'] == 'pH0BLkL4cbxKzu471VZnuA']"
   ]
  },
  {
   "cell_type": "code",
   "execution_count": 145,
   "metadata": {
    "collapsed": true
   },
   "outputs": [],
   "source": [
    "# embedding \n",
    "embed, label = embed_by_enum(case2, embedder)\n",
    "embed1, label1 = embed_by_enum(case2, embedder, enum = 1)\n",
    "embed2, label2 = embed_by_enum(case2, embedder, enum = 2)\n",
    "embed3, label3 = embed_by_enum(case2, embedder, enum = 3)\n",
    "embed4, label4 = embed_by_enum(case2, embedder, enum = 4)\n",
    "embed5, label5 = embed_by_enum(case2, embedder, enum = 5)"
   ]
  },
  {
   "cell_type": "code",
   "execution_count": 40,
   "metadata": {
    "collapsed": true
   },
   "outputs": [],
   "source": [
    "# print out the correlation coefficients as well as topic distribution\n",
    "def find_min_max_coef(embed, label):\n",
    "    coef = []\n",
    "    for i in range(len(embed[0])):\n",
    "        coef.append(np.corrcoef(embed[:,i], label)[0, 1])\n",
    "    coef = np.array(coef)\n",
    "    coef[np.isnan(coef)] = 0.0\n",
    "    for i in range(3):\n",
    "        print ('topic {} : {}'.format(np.argsort(coef)[i], np.sort(coef)[i]))\n",
    "        print (lda.print_topic(np.argsort(coef)[i], topn=5))\n",
    "    print ('\\n')\n",
    "    for i in range(3):\n",
    "        print ('topic {} : {}'.format(np.argsort(coef)[len(coef)-1-i], np.sort(coef)[len(coef)-1-i]))\n",
    "        print (lda.print_topic(np.argsort(coef)[len(coef)-1-i], topn=5))\n",
    "    return np.sort(coef)[:10], np.sort(coef)[-10:]"
   ]
  },
  {
   "cell_type": "code",
   "execution_count": 56,
   "metadata": {},
   "outputs": [
    {
     "name": "stdout",
     "output_type": "stream",
     "text": [
      "topic 117 : -0.20815932388612304\n",
      "0.030*\"food\" + 0.014*\"like\" + 0.010*\"place\" + 0.008*\"rice\" + 0.008*\"time\"\n",
      "topic 4 : -0.2069766966873559\n",
      "0.031*\"order\" + 0.029*\"food\" + 0.014*\"said\" + 0.011*\"minutes\" + 0.011*\"ordered\"\n",
      "topic 79 : -0.1913239430745075\n",
      "0.042*\"food\" + 0.024*\"service\" + 0.013*\"place\" + 0.011*\"bad\" + 0.009*\"night\"\n",
      "\n",
      "\n",
      "topic 46 : 0.38164734766019237\n",
      "0.061*\"food\" + 0.054*\"great\" + 0.029*\"service\" + 0.028*\"place\" + 0.028*\"friendly\"\n",
      "topic 69 : 0.12474810582142369\n",
      "0.023*\"sushi\" + 0.020*\"place\" + 0.016*\"food\" + 0.015*\"priced\" + 0.012*\"vegas\"\n",
      "topic 62 : 0.12171644511562767\n",
      "0.014*\"like\" + 0.013*\"good\" + 0.011*\"ice\" + 0.011*\"cream\" + 0.010*\"dessert\"\n"
     ]
    }
   ],
   "source": [
    "_ = find_min_max_coef(embed, case2['business_offset'])"
   ]
  },
  {
   "cell_type": "code",
   "execution_count": 57,
   "metadata": {},
   "outputs": [
    {
     "name": "stdout",
     "output_type": "stream",
     "text": [
      "topic 117 : -0.23904602931030047\n",
      "0.030*\"food\" + 0.014*\"like\" + 0.010*\"place\" + 0.008*\"rice\" + 0.008*\"time\"\n",
      "topic 79 : -0.18926538704869217\n",
      "0.042*\"food\" + 0.024*\"service\" + 0.013*\"place\" + 0.011*\"bad\" + 0.009*\"night\"\n",
      "topic 4 : -0.1723798889450011\n",
      "0.031*\"order\" + 0.029*\"food\" + 0.014*\"said\" + 0.011*\"minutes\" + 0.011*\"ordered\"\n",
      "\n",
      "\n",
      "topic 46 : 0.2882341198374784\n",
      "0.061*\"food\" + 0.054*\"great\" + 0.029*\"service\" + 0.028*\"place\" + 0.028*\"friendly\"\n",
      "topic 69 : 0.11774744892888418\n",
      "0.023*\"sushi\" + 0.020*\"place\" + 0.016*\"food\" + 0.015*\"priced\" + 0.012*\"vegas\"\n",
      "topic 62 : 0.10745919481873117\n",
      "0.014*\"like\" + 0.013*\"good\" + 0.011*\"ice\" + 0.011*\"cream\" + 0.010*\"dessert\"\n"
     ]
    }
   ],
   "source": [
    "_ = find_min_max_coef(embed1, case2['business_offset'])"
   ]
  },
  {
   "cell_type": "code",
   "execution_count": 58,
   "metadata": {},
   "outputs": [
    {
     "name": "stdout",
     "output_type": "stream",
     "text": [
      "topic 4 : -0.20608507055822134\n",
      "0.031*\"order\" + 0.029*\"food\" + 0.014*\"said\" + 0.011*\"minutes\" + 0.011*\"ordered\"\n",
      "topic 79 : -0.19521207327696227\n",
      "0.042*\"food\" + 0.024*\"service\" + 0.013*\"place\" + 0.011*\"bad\" + 0.009*\"night\"\n",
      "topic 117 : -0.18977537733569497\n",
      "0.030*\"food\" + 0.014*\"like\" + 0.010*\"place\" + 0.008*\"rice\" + 0.008*\"time\"\n",
      "\n",
      "\n",
      "topic 46 : 0.3928921797061257\n",
      "0.061*\"food\" + 0.054*\"great\" + 0.029*\"service\" + 0.028*\"place\" + 0.028*\"friendly\"\n",
      "topic 69 : 0.13600956249066676\n",
      "0.023*\"sushi\" + 0.020*\"place\" + 0.016*\"food\" + 0.015*\"priced\" + 0.012*\"vegas\"\n",
      "topic 62 : 0.12949783750751806\n",
      "0.014*\"like\" + 0.013*\"good\" + 0.011*\"ice\" + 0.011*\"cream\" + 0.010*\"dessert\"\n"
     ]
    }
   ],
   "source": [
    "_ = find_min_max_coef(embed2, case2['business_offset'])"
   ]
  },
  {
   "cell_type": "code",
   "execution_count": 59,
   "metadata": {},
   "outputs": [
    {
     "name": "stdout",
     "output_type": "stream",
     "text": [
      "topic 117 : -0.2260697529848864\n",
      "0.030*\"food\" + 0.014*\"like\" + 0.010*\"place\" + 0.008*\"rice\" + 0.008*\"time\"\n",
      "topic 79 : -0.17744711694665855\n",
      "0.042*\"food\" + 0.024*\"service\" + 0.013*\"place\" + 0.011*\"bad\" + 0.009*\"night\"\n",
      "topic 4 : -0.16783686539947487\n",
      "0.031*\"order\" + 0.029*\"food\" + 0.014*\"said\" + 0.011*\"minutes\" + 0.011*\"ordered\"\n",
      "\n",
      "\n",
      "topic 46 : 0.2680245904935\n",
      "0.061*\"food\" + 0.054*\"great\" + 0.029*\"service\" + 0.028*\"place\" + 0.028*\"friendly\"\n",
      "topic 69 : 0.1293433649528677\n",
      "0.023*\"sushi\" + 0.020*\"place\" + 0.016*\"food\" + 0.015*\"priced\" + 0.012*\"vegas\"\n",
      "topic 62 : 0.11122753683882218\n",
      "0.014*\"like\" + 0.013*\"good\" + 0.011*\"ice\" + 0.011*\"cream\" + 0.010*\"dessert\"\n"
     ]
    }
   ],
   "source": [
    "_ = find_min_max_coef(embed3, case2['business_offset'])"
   ]
  },
  {
   "cell_type": "code",
   "execution_count": 60,
   "metadata": {},
   "outputs": [
    {
     "name": "stdout",
     "output_type": "stream",
     "text": [
      "topic 4 : -0.2273386670261783\n",
      "0.031*\"order\" + 0.029*\"food\" + 0.014*\"said\" + 0.011*\"minutes\" + 0.011*\"ordered\"\n",
      "topic 47 : -0.200821911888756\n",
      "0.028*\"table\" + 0.018*\"food\" + 0.018*\"came\" + 0.013*\"minutes\" + 0.013*\"seated\"\n",
      "topic 79 : -0.19515304324968585\n",
      "0.042*\"food\" + 0.024*\"service\" + 0.013*\"place\" + 0.011*\"bad\" + 0.009*\"night\"\n",
      "\n",
      "\n",
      "topic 46 : 0.2930571634079916\n",
      "0.061*\"food\" + 0.054*\"great\" + 0.029*\"service\" + 0.028*\"place\" + 0.028*\"friendly\"\n",
      "topic 62 : 0.13791437819865152\n",
      "0.014*\"like\" + 0.013*\"good\" + 0.011*\"ice\" + 0.011*\"cream\" + 0.010*\"dessert\"\n",
      "topic 69 : 0.12678599485105407\n",
      "0.023*\"sushi\" + 0.020*\"place\" + 0.016*\"food\" + 0.015*\"priced\" + 0.012*\"vegas\"\n"
     ]
    }
   ],
   "source": [
    "_ = find_min_max_coef(embed4, case2['business_offset'])"
   ]
  },
  {
   "cell_type": "code",
   "execution_count": 61,
   "metadata": {},
   "outputs": [
    {
     "name": "stdout",
     "output_type": "stream",
     "text": [
      "topic 4 : -0.21591541626593985\n",
      "0.031*\"order\" + 0.029*\"food\" + 0.014*\"said\" + 0.011*\"minutes\" + 0.011*\"ordered\"\n",
      "topic 79 : -0.20882328455882343\n",
      "0.042*\"food\" + 0.024*\"service\" + 0.013*\"place\" + 0.011*\"bad\" + 0.009*\"night\"\n",
      "topic 117 : -0.20816024493573337\n",
      "0.030*\"food\" + 0.014*\"like\" + 0.010*\"place\" + 0.008*\"rice\" + 0.008*\"time\"\n",
      "\n",
      "\n",
      "topic 46 : 0.3316895258311725\n",
      "0.061*\"food\" + 0.054*\"great\" + 0.029*\"service\" + 0.028*\"place\" + 0.028*\"friendly\"\n",
      "topic 69 : 0.13028361013521256\n",
      "0.023*\"sushi\" + 0.020*\"place\" + 0.016*\"food\" + 0.015*\"priced\" + 0.012*\"vegas\"\n",
      "topic 62 : 0.10716644799356319\n",
      "0.014*\"like\" + 0.013*\"good\" + 0.011*\"ice\" + 0.011*\"cream\" + 0.010*\"dessert\"\n"
     ]
    }
   ],
   "source": [
    "_ = find_min_max_coef(embed5, case2['business_offset'])"
   ]
  },
  {
   "cell_type": "markdown",
   "metadata": {},
   "source": [
    "### what is this?"
   ]
  },
  {
   "cell_type": "markdown",
   "metadata": {},
   "source": [
    "Each embedding is a different representation of text topics, but underlying LDA shares the common word-to-topic distribution. We are comparing the correlation between each topic and 'business-offset'. Here, business-offset is a metric of how positive/negative a given text embedding is, which means, the same exact text might have a different correlation if you are observing different business. \n",
    "\n",
    "Positively large correlation means that the topic is important to decide 'strength' of business. For example, from the embedding 4 and embedding 5, we can deduce that the business we are observing is known for good service, sushi and dessert. \n",
    "\n",
    "Negatively large correlation means that the topic is important to decide 'weakness' of business. For example, from the embedding 4 and embedding 5, we can deduce that the business we are observing is known for taking long time to bring food."
   ]
  },
  {
   "cell_type": "markdown",
   "metadata": {},
   "source": [
    "# Case2 - Hakkasan Nightclub (declining business)"
   ]
  },
  {
   "cell_type": "code",
   "execution_count": 62,
   "metadata": {},
   "outputs": [
    {
     "data": {
      "text/html": [
       "<div>\n",
       "<style>\n",
       "    .dataframe thead tr:only-child th {\n",
       "        text-align: right;\n",
       "    }\n",
       "\n",
       "    .dataframe thead th {\n",
       "        text-align: left;\n",
       "    }\n",
       "\n",
       "    .dataframe tbody tr th {\n",
       "        vertical-align: top;\n",
       "    }\n",
       "</style>\n",
       "<table border=\"1\" class=\"dataframe\">\n",
       "  <thead>\n",
       "    <tr style=\"text-align: right;\">\n",
       "      <th></th>\n",
       "      <th>address</th>\n",
       "      <th>attributes</th>\n",
       "      <th>business_id</th>\n",
       "      <th>categories</th>\n",
       "      <th>city</th>\n",
       "      <th>hours</th>\n",
       "      <th>is_open</th>\n",
       "      <th>latitude</th>\n",
       "      <th>longitude</th>\n",
       "      <th>name</th>\n",
       "      <th>neighborhood</th>\n",
       "      <th>postal_code</th>\n",
       "      <th>review_count</th>\n",
       "      <th>stars</th>\n",
       "      <th>state</th>\n",
       "    </tr>\n",
       "  </thead>\n",
       "  <tbody>\n",
       "    <tr>\n",
       "      <th>3489</th>\n",
       "      <td>Mgm Grand Hotel And Casino, 3799 Las Vegas Blvd S</td>\n",
       "      <td>{'WheelchairAccessible': True, 'Alcohol': 'ful...</td>\n",
       "      <td>X8c23dur0ll2D9XTu-I8Qg</td>\n",
       "      <td>['Dance Clubs', 'Cantonese', 'Chinese', 'Loung...</td>\n",
       "      <td>Las Vegas</td>\n",
       "      <td>{'Sunday': '22:30-4:00', 'Friday': '22:30-4:00...</td>\n",
       "      <td>1</td>\n",
       "      <td>36.101375</td>\n",
       "      <td>-115.172452</td>\n",
       "      <td>Hakkasan Nightclub</td>\n",
       "      <td>The Strip</td>\n",
       "      <td>89109</td>\n",
       "      <td>1547</td>\n",
       "      <td>2.5</td>\n",
       "      <td>NV</td>\n",
       "    </tr>\n",
       "  </tbody>\n",
       "</table>\n",
       "</div>"
      ],
      "text/plain": [
       "                                                address  \\\n",
       "3489  Mgm Grand Hotel And Casino, 3799 Las Vegas Blvd S   \n",
       "\n",
       "                                             attributes  \\\n",
       "3489  {'WheelchairAccessible': True, 'Alcohol': 'ful...   \n",
       "\n",
       "                 business_id  \\\n",
       "3489  X8c23dur0ll2D9XTu-I8Qg   \n",
       "\n",
       "                                             categories       city  \\\n",
       "3489  ['Dance Clubs', 'Cantonese', 'Chinese', 'Loung...  Las Vegas   \n",
       "\n",
       "                                                  hours  is_open   latitude  \\\n",
       "3489  {'Sunday': '22:30-4:00', 'Friday': '22:30-4:00...        1  36.101375   \n",
       "\n",
       "       longitude                name neighborhood postal_code  review_count  \\\n",
       "3489 -115.172452  Hakkasan Nightclub    The Strip       89109          1547   \n",
       "\n",
       "      stars state  \n",
       "3489    2.5    NV  "
      ]
     },
     "execution_count": 62,
     "metadata": {},
     "output_type": "execute_result"
    }
   ],
   "source": [
    "business[business['business_id'] == 'X8c23dur0ll2D9XTu-I8Qg']"
   ]
  },
  {
   "cell_type": "code",
   "execution_count": 63,
   "metadata": {
    "collapsed": true
   },
   "outputs": [],
   "source": [
    "# embed\n",
    "embed, label = embed_by_enum(case3, embedder)\n",
    "embed1, label1 = embed_by_enum(case3, embedder, enum = 1)\n",
    "embed2, label2 = embed_by_enum(case3, embedder, enum = 2)\n",
    "embed3, label3 = embed_by_enum(case3, embedder, enum = 3)\n",
    "embed4, label4 = embed_by_enum(case3, embedder, enum = 4)"
   ]
  },
  {
   "cell_type": "code",
   "execution_count": 68,
   "metadata": {},
   "outputs": [
    {
     "name": "stdout",
     "output_type": "stream",
     "text": [
      "topic 79 : -0.3005659169983813\n",
      "0.042*\"food\" + 0.024*\"service\" + 0.013*\"place\" + 0.011*\"bad\" + 0.009*\"night\"\n",
      "topic 2 : -0.23973956922882114\n",
      "0.019*\"time\" + 0.013*\"food\" + 0.013*\"card\" + 0.009*\"good\" + 0.009*\"service\"\n",
      "topic 117 : -0.18542824221630655\n",
      "0.030*\"food\" + 0.014*\"like\" + 0.010*\"place\" + 0.008*\"rice\" + 0.008*\"time\"\n",
      "\n",
      "\n",
      "topic 46 : 0.29739388451174054\n",
      "0.061*\"food\" + 0.054*\"great\" + 0.029*\"service\" + 0.028*\"place\" + 0.028*\"friendly\"\n",
      "topic 40 : 0.21159050776662425\n",
      "0.014*\"dish\" + 0.013*\"fried\" + 0.013*\"chinese\" + 0.011*\"good\" + 0.011*\"food\"\n",
      "topic 75 : 0.19631950672771128\n",
      "0.032*\"pork\" + 0.027*\"noodles\" + 0.018*\"beef\" + 0.018*\"soup\" + 0.016*\"noodle\"\n"
     ]
    },
    {
     "data": {
      "text/plain": [
       "(array([-0.30056592, -0.23973957, -0.18542824, -0.17951682, -0.12071189,\n",
       "        -0.072173  , -0.06277756, -0.06011919, -0.05947365, -0.04731726]),\n",
       " array([ 0.11129294,  0.11223196,  0.1123022 ,  0.11838173,  0.13385503,\n",
       "         0.15279812,  0.1728636 ,  0.19631951,  0.21159051,  0.29739388]))"
      ]
     },
     "execution_count": 68,
     "metadata": {},
     "output_type": "execute_result"
    }
   ],
   "source": [
    "find_min_max_coef(embed, label)"
   ]
  },
  {
   "cell_type": "code",
   "execution_count": 69,
   "metadata": {},
   "outputs": [
    {
     "name": "stdout",
     "output_type": "stream",
     "text": [
      "topic 79 : -0.2867604686465716\n",
      "0.042*\"food\" + 0.024*\"service\" + 0.013*\"place\" + 0.011*\"bad\" + 0.009*\"night\"\n",
      "topic 117 : -0.20537251475483817\n",
      "0.030*\"food\" + 0.014*\"like\" + 0.010*\"place\" + 0.008*\"rice\" + 0.008*\"time\"\n",
      "topic 4 : -0.2031712205707229\n",
      "0.031*\"order\" + 0.029*\"food\" + 0.014*\"said\" + 0.011*\"minutes\" + 0.011*\"ordered\"\n",
      "\n",
      "\n",
      "topic 46 : 0.3281465944604852\n",
      "0.061*\"food\" + 0.054*\"great\" + 0.029*\"service\" + 0.028*\"place\" + 0.028*\"friendly\"\n",
      "topic 69 : 0.10349486377839956\n",
      "0.023*\"sushi\" + 0.020*\"place\" + 0.016*\"food\" + 0.015*\"priced\" + 0.012*\"vegas\"\n",
      "topic 13 : 0.08806381817992032\n",
      "0.072*\"food\" + 0.046*\"chinese\" + 0.029*\"good\" + 0.027*\"place\" + 0.015*\"ve\"\n"
     ]
    },
    {
     "data": {
      "text/plain": [
       "(array([-0.28676047, -0.20537251, -0.20317122, -0.17445709, -0.13730759,\n",
       "        -0.07867283, -0.07349005, -0.0719741 , -0.06255625, -0.06181086]),\n",
       " array([ 0.07493478,  0.07524254,  0.07967367,  0.08046776,  0.08554775,\n",
       "         0.08561394,  0.08600264,  0.08806382,  0.10349486,  0.32814659]))"
      ]
     },
     "execution_count": 69,
     "metadata": {},
     "output_type": "execute_result"
    }
   ],
   "source": [
    "find_min_max_coef(embed1, label1)"
   ]
  },
  {
   "cell_type": "code",
   "execution_count": 70,
   "metadata": {},
   "outputs": [
    {
     "name": "stdout",
     "output_type": "stream",
     "text": [
      "topic 79 : -0.29089675448282715\n",
      "0.042*\"food\" + 0.024*\"service\" + 0.013*\"place\" + 0.011*\"bad\" + 0.009*\"night\"\n",
      "topic 2 : -0.24015426474648432\n",
      "0.019*\"time\" + 0.013*\"food\" + 0.013*\"card\" + 0.009*\"good\" + 0.009*\"service\"\n",
      "topic 4 : -0.1920034841246917\n",
      "0.031*\"order\" + 0.029*\"food\" + 0.014*\"said\" + 0.011*\"minutes\" + 0.011*\"ordered\"\n",
      "\n",
      "\n",
      "topic 46 : 0.29422849180307453\n",
      "0.061*\"food\" + 0.054*\"great\" + 0.029*\"service\" + 0.028*\"place\" + 0.028*\"friendly\"\n",
      "topic 40 : 0.22389248788147995\n",
      "0.014*\"dish\" + 0.013*\"fried\" + 0.013*\"chinese\" + 0.011*\"good\" + 0.011*\"food\"\n",
      "topic 104 : 0.15388349752126923\n",
      "0.019*\"tofu\" + 0.016*\"good\" + 0.011*\"food\" + 0.011*\"sauce\" + 0.011*\"dish\"\n"
     ]
    },
    {
     "data": {
      "text/plain": [
       "(array([-0.29089675, -0.24015426, -0.19200348, -0.19008145, -0.13035712,\n",
       "        -0.08272838, -0.06915906, -0.06392164, -0.06260369, -0.05783434]),\n",
       " array([ 0.09513473,  0.10011498,  0.10221595,  0.11730562,  0.12597131,\n",
       "         0.12617033,  0.14330541,  0.1538835 ,  0.22389249,  0.29422849]))"
      ]
     },
     "execution_count": 70,
     "metadata": {},
     "output_type": "execute_result"
    }
   ],
   "source": [
    "find_min_max_coef(embed2, label2)"
   ]
  },
  {
   "cell_type": "code",
   "execution_count": 71,
   "metadata": {},
   "outputs": [
    {
     "name": "stdout",
     "output_type": "stream",
     "text": [
      "topic 79 : -0.273907277071434\n",
      "0.042*\"food\" + 0.024*\"service\" + 0.013*\"place\" + 0.011*\"bad\" + 0.009*\"night\"\n",
      "topic 117 : -0.204483344707044\n",
      "0.030*\"food\" + 0.014*\"like\" + 0.010*\"place\" + 0.008*\"rice\" + 0.008*\"time\"\n",
      "topic 4 : -0.19876466566238832\n",
      "0.031*\"order\" + 0.029*\"food\" + 0.014*\"said\" + 0.011*\"minutes\" + 0.011*\"ordered\"\n",
      "\n",
      "\n",
      "topic 46 : 0.3129906811421479\n",
      "0.061*\"food\" + 0.054*\"great\" + 0.029*\"service\" + 0.028*\"place\" + 0.028*\"friendly\"\n",
      "topic 69 : 0.10071527594326254\n",
      "0.023*\"sushi\" + 0.020*\"place\" + 0.016*\"food\" + 0.015*\"priced\" + 0.012*\"vegas\"\n",
      "topic 13 : 0.08555884748331102\n",
      "0.072*\"food\" + 0.046*\"chinese\" + 0.029*\"good\" + 0.027*\"place\" + 0.015*\"ve\"\n"
     ]
    },
    {
     "data": {
      "text/plain": [
       "(array([-0.27390728, -0.20448334, -0.19876467, -0.16114561, -0.13597406,\n",
       "        -0.08257218, -0.07735134, -0.07240232, -0.06648489, -0.0637637 ]),\n",
       " array([ 0.06534654,  0.06986466,  0.07523922,  0.07758658,  0.08243998,\n",
       "         0.08328901,  0.08380059,  0.08555885,  0.10071528,  0.31299068]))"
      ]
     },
     "execution_count": 71,
     "metadata": {},
     "output_type": "execute_result"
    }
   ],
   "source": [
    "find_min_max_coef(embed3, label3)"
   ]
  },
  {
   "cell_type": "code",
   "execution_count": 72,
   "metadata": {},
   "outputs": [
    {
     "name": "stderr",
     "output_type": "stream",
     "text": [
      "/Users/kentatakatsu/anaconda/lib/python3.6/site-packages/numpy/lib/function_base.py:3003: RuntimeWarning: invalid value encountered in true_divide\n",
      "  c /= stddev[:, None]\n",
      "/Users/kentatakatsu/anaconda/lib/python3.6/site-packages/numpy/lib/function_base.py:3004: RuntimeWarning: invalid value encountered in true_divide\n",
      "  c /= stddev[None, :]\n"
     ]
    },
    {
     "name": "stdout",
     "output_type": "stream",
     "text": [
      "topic 79 : -0.2831901096086113\n",
      "0.042*\"food\" + 0.024*\"service\" + 0.013*\"place\" + 0.011*\"bad\" + 0.009*\"night\"\n",
      "topic 2 : -0.22426953515736192\n",
      "0.019*\"time\" + 0.013*\"food\" + 0.013*\"card\" + 0.009*\"good\" + 0.009*\"service\"\n",
      "topic 4 : -0.16638773646117916\n",
      "0.031*\"order\" + 0.029*\"food\" + 0.014*\"said\" + 0.011*\"minutes\" + 0.011*\"ordered\"\n",
      "\n",
      "\n",
      "topic 29 : 0.3183769211900684\n",
      "0.016*\"club\" + 0.015*\"place\" + 0.011*\"like\" + 0.011*\"floor\" + 0.011*\"great\"\n",
      "topic 46 : 0.1948110736529799\n",
      "0.061*\"food\" + 0.054*\"great\" + 0.029*\"service\" + 0.028*\"place\" + 0.028*\"friendly\"\n",
      "topic 69 : 0.08358058173499343\n",
      "0.023*\"sushi\" + 0.020*\"place\" + 0.016*\"food\" + 0.015*\"priced\" + 0.012*\"vegas\"\n"
     ]
    },
    {
     "data": {
      "text/plain": [
       "(array([-0.28319011, -0.22426954, -0.16638774, -0.09254746, -0.07885824,\n",
       "        -0.06824697, -0.05458061, -0.04771297, -0.04742749, -0.04714307]),\n",
       " array([ 0.04272069,  0.04291051,  0.04500626,  0.04588591,  0.05394757,\n",
       "         0.07747799,  0.08285236,  0.08358058,  0.19481107,  0.31837692]))"
      ]
     },
     "execution_count": 72,
     "metadata": {},
     "output_type": "execute_result"
    }
   ],
   "source": [
    "find_min_max_coef(embed4, label4)"
   ]
  },
  {
   "cell_type": "code",
   "execution_count": 73,
   "metadata": {},
   "outputs": [
    {
     "name": "stdout",
     "output_type": "stream",
     "text": [
      "topic 4 : -0.17814022624348053\n",
      "0.031*\"order\" + 0.029*\"food\" + 0.014*\"said\" + 0.011*\"minutes\" + 0.011*\"ordered\"\n",
      "topic 124 : -0.14966446739493958\n",
      "0.071*\"sushi\" + 0.014*\"food\" + 0.013*\"roll\" + 0.011*\"buffet\" + 0.010*\"time\"\n",
      "topic 47 : -0.14198065648147\n",
      "0.028*\"table\" + 0.018*\"food\" + 0.018*\"came\" + 0.013*\"minutes\" + 0.013*\"seated\"\n",
      "\n",
      "\n",
      "topic 46 : 0.34782694731463\n",
      "0.061*\"food\" + 0.054*\"great\" + 0.029*\"service\" + 0.028*\"place\" + 0.028*\"friendly\"\n",
      "topic 69 : 0.09878894408155195\n",
      "0.023*\"sushi\" + 0.020*\"place\" + 0.016*\"food\" + 0.015*\"priced\" + 0.012*\"vegas\"\n",
      "topic 121 : 0.06568858341087269\n",
      "0.036*\"food\" + 0.026*\"service\" + 0.020*\"great\" + 0.016*\"lunch\" + 0.014*\"good\"\n"
     ]
    },
    {
     "data": {
      "text/plain": [
       "(array([-0.17814023, -0.14966447, -0.14198066, -0.14063779, -0.13337645,\n",
       "        -0.12582145, -0.09291071, -0.09057439, -0.08974801, -0.08934017]),\n",
       " array([ 0.04996391,  0.05769427,  0.05782128,  0.05994184,  0.06173495,\n",
       "         0.06404216,  0.06559491,  0.06568858,  0.09878894,  0.34782695]))"
      ]
     },
     "execution_count": 73,
     "metadata": {},
     "output_type": "execute_result"
    }
   ],
   "source": [
    "find_min_max_coef(embed5, label5)"
   ]
  },
  {
   "cell_type": "markdown",
   "metadata": {},
   "source": [
    "### What is this"
   ]
  },
  {
   "cell_type": "markdown",
   "metadata": {},
   "source": [
    "Something I realize is some topics such as Topic 4, topic 117 are recurrently appearing across businesses. This means the negative topics failed to generalize business specific information, but rather, making an observation of tendency that people conplain more about time when it comes to chinese restaurants"
   ]
  },
  {
   "cell_type": "markdown",
   "metadata": {},
   "source": [
    "# Preliminary time-series analysis"
   ]
  },
  {
   "cell_type": "markdown",
   "metadata": {},
   "source": [
    "We are going to compare the correlation between the *slope* of topics in a quarter and quarter offsets (quarter average - business average). Positive correlation means topics that the business wants the users to talk more in order to improve the business"
   ]
  },
  {
   "cell_type": "code",
   "execution_count": 74,
   "metadata": {
    "collapsed": true
   },
   "outputs": [],
   "source": [
    "def embed_by_enum(data, embedder, enum = 0, binary = False):\n",
    "    # select regions\n",
    "    if binary:\n",
    "        data = data[data['quater_offset'] != 0]\n",
    "    label = data['quater_offset']\n",
    "    # create labels\n",
    "    if enum == 0: \n",
    "        embed = np.array([embedder.augmented_embed_text(t) for t in data['text'].values])\n",
    "    elif enum == 1: \n",
    "        embed = np.array([embedder.user_tfidf_embed(t, u) for t, u in zip(data['text'].values, data['user_id'].values)])\n",
    "    elif enum == 2: \n",
    "        embed = np.array([embedder.user_tf_business_idf(t, b) for t, b in zip(data['text'].values, data['business_id'].values)])\n",
    "    elif enum == 3: \n",
    "        embed = np.array([embedder.user_tfidf_business_idf(t, u, b) for t, u, b in zip(data['text'].values, data['user_id'].values, data['business_id'].values)])\n",
    "    elif enum == 4: \n",
    "        embed = np.array([embedder.embed(t) for t in data['text'].values])\n",
    "    elif enum == 5:\n",
    "        embed = np.array([embedder.embed_sent(t) for t in data['text'].values])\n",
    "    else:\n",
    "        print ('enum {} is not supported'.format(enum))\n",
    "        return None\n",
    "    return embed, label"
   ]
  },
  {
   "cell_type": "code",
   "execution_count": 152,
   "metadata": {
    "collapsed": true
   },
   "outputs": [],
   "source": [
    "# helper to build sequential data, fitting a linear regression and taking a slope\n",
    "# on a side note, I also tried with SVR but the line of best fit tends to be horizontal, aka simply finding the average\n",
    "def build_data(df, enum):\n",
    "    qs = sorted(list(set(df['quarter'])))\n",
    "    X = []\n",
    "    y = []\n",
    "    for q in qs:\n",
    "        filtered = df[df['quarter'] == q]\n",
    "        embed, labels = embed_by_enum(filtered, embedder, enum)\n",
    "        \n",
    "        # fit on the sequence, store the slope\n",
    "        regr = LinearRegression()\n",
    "        regr.fit(np.arange(len(embed)).reshape(-1,1),embed)\n",
    "        X.append(regr.coef_.reshape(1,-1)[0])\n",
    "        \n",
    "        y.append(list(set(filtered['quarter_avg'].values))[0])\n",
    "    return np.array(X), np.array(y)"
   ]
  },
  {
   "cell_type": "markdown",
   "metadata": {},
   "source": [
    "## Case 1 - SUSHISAMBA (growing business)"
   ]
  },
  {
   "cell_type": "code",
   "execution_count": 154,
   "metadata": {},
   "outputs": [
    {
     "name": "stdout",
     "output_type": "stream",
     "text": [
      "CPU times: user 51.6 s, sys: 573 ms, total: 52.2 s\n",
      "Wall time: 28.2 s\n",
      "CPU times: user 52.4 s, sys: 552 ms, total: 53 s\n",
      "Wall time: 28.2 s\n",
      "CPU times: user 52.7 s, sys: 654 ms, total: 53.3 s\n",
      "Wall time: 28.6 s\n",
      "CPU times: user 52.1 s, sys: 547 ms, total: 52.6 s\n",
      "Wall time: 28 s\n",
      "CPU times: user 22.2 s, sys: 256 ms, total: 22.5 s\n",
      "Wall time: 5.64 s\n",
      "CPU times: user 51 s, sys: 406 ms, total: 51.4 s\n",
      "Wall time: 26.6 s\n"
     ]
    }
   ],
   "source": [
    "# embed (this takes longer)\n",
    "%time x,y = build_data(case2, 0)\n",
    "%time x1,y1 = build_data(case2, 1)\n",
    "%time x2,y2 = build_data(case2, 2)\n",
    "%time x3,y3 = build_data(case2, 3)\n",
    "%time x4,y4 = build_data(case2, 4)\n",
    "%time x5,y5 = build_data(case2, 5)"
   ]
  },
  {
   "cell_type": "code",
   "execution_count": 114,
   "metadata": {},
   "outputs": [
    {
     "name": "stdout",
     "output_type": "stream",
     "text": [
      "topic 106 : -0.44721182359282197\n",
      "0.034*\"chicken\" + 0.019*\"rice\" + 0.015*\"food\" + 0.014*\"noodles\" + 0.010*\"good\"\n",
      "topic 47 : -0.4324429700073291\n",
      "0.028*\"table\" + 0.018*\"food\" + 0.018*\"came\" + 0.013*\"minutes\" + 0.013*\"seated\"\n",
      "topic 107 : -0.41196925215970903\n",
      "0.018*\"food\" + 0.012*\"good\" + 0.011*\"time\" + 0.009*\"chinese\" + 0.008*\"chicken\"\n",
      "\n",
      "\n",
      "topic 124 : 0.37710069175467564\n",
      "0.071*\"sushi\" + 0.014*\"food\" + 0.013*\"roll\" + 0.011*\"buffet\" + 0.010*\"time\"\n",
      "topic 14 : 0.369878192118161\n",
      "0.021*\"kim\" + 0.019*\"place\" + 0.015*\"long\" + 0.014*\"best\" + 0.014*\"food\"\n",
      "topic 69 : 0.3661041908792953\n",
      "0.023*\"sushi\" + 0.020*\"place\" + 0.016*\"food\" + 0.015*\"priced\" + 0.012*\"vegas\"\n"
     ]
    }
   ],
   "source": [
    "_ = find_min_max_coef(x, y - case2['business_stars'].values[0])"
   ]
  },
  {
   "cell_type": "code",
   "execution_count": 113,
   "metadata": {},
   "outputs": [
    {
     "name": "stdout",
     "output_type": "stream",
     "text": [
      "topic 47 : -0.5523757267032224\n",
      "0.028*\"table\" + 0.018*\"food\" + 0.018*\"came\" + 0.013*\"minutes\" + 0.013*\"seated\"\n",
      "topic 107 : -0.46342032351475654\n",
      "0.018*\"food\" + 0.012*\"good\" + 0.011*\"time\" + 0.009*\"chinese\" + 0.008*\"chicken\"\n",
      "topic 103 : -0.4405286031014295\n",
      "0.045*\"panda\" + 0.038*\"express\" + 0.032*\"food\" + 0.016*\"chinese\" + 0.013*\"korean\"\n",
      "\n",
      "\n",
      "topic 16 : 0.43054064440046996\n",
      "0.028*\"food\" + 0.016*\"good\" + 0.014*\"gluten\" + 0.011*\"free\" + 0.010*\"rice\"\n",
      "topic 69 : 0.4245056118502076\n",
      "0.023*\"sushi\" + 0.020*\"place\" + 0.016*\"food\" + 0.015*\"priced\" + 0.012*\"vegas\"\n",
      "topic 74 : 0.32203134780895587\n",
      "0.028*\"food\" + 0.024*\"place\" + 0.014*\"good\" + 0.011*\"time\" + 0.010*\"service\"\n"
     ]
    }
   ],
   "source": [
    "_ = find_min_max_coef(x1, y1 - case2['business_stars'].values[0])"
   ]
  },
  {
   "cell_type": "code",
   "execution_count": 110,
   "metadata": {},
   "outputs": [
    {
     "name": "stdout",
     "output_type": "stream",
     "text": [
      "topic 119 : -0.4638370797298328\n",
      "0.023*\"food\" + 0.016*\"place\" + 0.012*\"time\" + 0.011*\"good\" + 0.010*\"great\"\n",
      "topic 47 : -0.40892885168277254\n",
      "0.028*\"table\" + 0.018*\"food\" + 0.018*\"came\" + 0.013*\"minutes\" + 0.013*\"seated\"\n",
      "topic 107 : -0.3995371499665611\n",
      "0.018*\"food\" + 0.012*\"good\" + 0.011*\"time\" + 0.009*\"chinese\" + 0.008*\"chicken\"\n",
      "\n",
      "\n",
      "topic 124 : 0.42865650910335895\n",
      "0.071*\"sushi\" + 0.014*\"food\" + 0.013*\"roll\" + 0.011*\"buffet\" + 0.010*\"time\"\n",
      "topic 127 : 0.37046448694189654\n",
      "0.030*\"food\" + 0.016*\"chinese\" + 0.016*\"place\" + 0.011*\"good\" + 0.010*\"service\"\n",
      "topic 16 : 0.3619998243094919\n",
      "0.028*\"food\" + 0.016*\"good\" + 0.014*\"gluten\" + 0.011*\"free\" + 0.010*\"rice\"\n"
     ]
    }
   ],
   "source": [
    "_ = find_min_max_coef(x2, y2 - case2['business_stars'].values[0])"
   ]
  },
  {
   "cell_type": "code",
   "execution_count": 111,
   "metadata": {},
   "outputs": [
    {
     "name": "stdout",
     "output_type": "stream",
     "text": [
      "topic 47 : -0.4997467686564974\n",
      "0.028*\"table\" + 0.018*\"food\" + 0.018*\"came\" + 0.013*\"minutes\" + 0.013*\"seated\"\n",
      "topic 107 : -0.47247495962981345\n",
      "0.018*\"food\" + 0.012*\"good\" + 0.011*\"time\" + 0.009*\"chinese\" + 0.008*\"chicken\"\n",
      "topic 103 : -0.440948398430864\n",
      "0.045*\"panda\" + 0.038*\"express\" + 0.032*\"food\" + 0.016*\"chinese\" + 0.013*\"korean\"\n",
      "\n",
      "\n",
      "topic 16 : 0.4458457686264717\n",
      "0.028*\"food\" + 0.016*\"good\" + 0.014*\"gluten\" + 0.011*\"free\" + 0.010*\"rice\"\n",
      "topic 69 : 0.42781243414655373\n",
      "0.023*\"sushi\" + 0.020*\"place\" + 0.016*\"food\" + 0.015*\"priced\" + 0.012*\"vegas\"\n",
      "topic 70 : 0.3201365678945186\n",
      "0.014*\"place\" + 0.014*\"food\" + 0.012*\"dinner\" + 0.010*\"good\" + 0.008*\"chicken\"\n"
     ]
    }
   ],
   "source": [
    "_ = find_min_max_coef(x3, y3 - case2['business_stars'].values[0])"
   ]
  },
  {
   "cell_type": "code",
   "execution_count": 107,
   "metadata": {},
   "outputs": [
    {
     "name": "stdout",
     "output_type": "stream",
     "text": [
      "topic 23 : -0.5829757439720386\n",
      "0.038*\"food\" + 0.032*\"place\" + 0.021*\"chinese\" + 0.018*\"great\" + 0.016*\"good\"\n",
      "topic 21 : -0.5635122761355228\n",
      "0.088*\"dim\" + 0.087*\"sum\" + 0.018*\"good\" + 0.015*\"food\" + 0.014*\"place\"\n",
      "topic 2 : -0.43490178159201165\n",
      "0.019*\"time\" + 0.013*\"food\" + 0.013*\"card\" + 0.009*\"good\" + 0.009*\"service\"\n",
      "\n",
      "\n",
      "topic 51 : 0.4169445450954524\n",
      "0.016*\"place\" + 0.014*\"good\" + 0.012*\"like\" + 0.011*\"chinese\" + 0.010*\"soup\"\n",
      "topic 14 : 0.4049832906486618\n",
      "0.021*\"kim\" + 0.019*\"place\" + 0.015*\"long\" + 0.014*\"best\" + 0.014*\"food\"\n",
      "topic 56 : 0.3749274740433533\n",
      "0.018*\"dim\" + 0.018*\"sum\" + 0.015*\"place\" + 0.013*\"good\" + 0.010*\"pork\"\n"
     ]
    }
   ],
   "source": [
    "_ = find_min_max_coef(x4, y4 - case2['business_stars'].values[0])"
   ]
  },
  {
   "cell_type": "code",
   "execution_count": 105,
   "metadata": {},
   "outputs": [
    {
     "name": "stdout",
     "output_type": "stream",
     "text": [
      "topic 107 : -0.43510891830704695\n",
      "0.018*\"food\" + 0.012*\"good\" + 0.011*\"time\" + 0.009*\"chinese\" + 0.008*\"chicken\"\n",
      "topic 89 : -0.4272217163821538\n",
      "0.095*\"thai\" + 0.051*\"pad\" + 0.016*\"food\" + 0.015*\"place\" + 0.012*\"order\"\n",
      "topic 47 : -0.42300939537589105\n",
      "0.028*\"table\" + 0.018*\"food\" + 0.018*\"came\" + 0.013*\"minutes\" + 0.013*\"seated\"\n",
      "\n",
      "\n",
      "topic 51 : 0.4305604729343694\n",
      "0.016*\"place\" + 0.014*\"good\" + 0.012*\"like\" + 0.011*\"chinese\" + 0.010*\"soup\"\n",
      "topic 124 : 0.37379898477414564\n",
      "0.071*\"sushi\" + 0.014*\"food\" + 0.013*\"roll\" + 0.011*\"buffet\" + 0.010*\"time\"\n",
      "topic 16 : 0.3373178104693275\n",
      "0.028*\"food\" + 0.016*\"good\" + 0.014*\"gluten\" + 0.011*\"free\" + 0.010*\"rice\"\n"
     ]
    }
   ],
   "source": [
    "_ = find_min_max_coef(x5, y5 - case2['business_stars'].values[0])"
   ]
  },
  {
   "cell_type": "markdown",
   "metadata": {
    "collapsed": true
   },
   "source": [
    "### What is this ?"
   ]
  },
  {
   "cell_type": "markdown",
   "metadata": {},
   "source": [
    "Now our observation is split by quarters (3 month period). For each quarter, we have an average rating for this period and an offset from the particular business rating. This metric represents how successful the given time period was. We are now, observing the sequence of latent topic embeddings and see if we can find any correlations between success of business over time. As a baseline analysis, I apply linear regression and compare the correlation between the coefficient of each topic (slope) and overall success of the quater. \n",
    "\n",
    "First of all, each topic has much greater correlation than I saw with earlier experiments. This means the sequence of topics have more significant meaning than the raw value of embedding itself. We can later validate which embedding is the best one by giving the classification task. \n",
    "\n",
    "Next, the results suggest the growth of some topics are highly correlated with the growth of business. Intuitively those topics are area the business should focus on more to improve their business. Some interesting topic that I observe across different embeddings are topic 16, which contains the word, 'gluten free'.\n",
    "\n",
    "Finally, the negative correlation means the topic which might hurt the business, if they focus on. Something I see particularly is topic 47 which is about 'serving time'. But this could also mean, 47 is inheritantly a complaint about bad serving time, and decrease in this topic could suggest their improvement in the serving time."
   ]
  },
  {
   "cell_type": "code",
   "execution_count": 123,
   "metadata": {},
   "outputs": [
    {
     "name": "stdout",
     "output_type": "stream",
     "text": [
      "CPU times: user 38.7 s, sys: 505 ms, total: 39.2 s\n",
      "Wall time: 26.5 s\n",
      "CPU times: user 39.2 s, sys: 380 ms, total: 39.6 s\n",
      "Wall time: 26.2 s\n",
      "CPU times: user 38.4 s, sys: 285 ms, total: 38.7 s\n",
      "Wall time: 25.2 s\n",
      "CPU times: user 39.1 s, sys: 392 ms, total: 39.5 s\n",
      "Wall time: 26.1 s\n",
      "CPU times: user 15.6 s, sys: 202 ms, total: 15.8 s\n",
      "Wall time: 3.97 s\n",
      "CPU times: user 37.7 s, sys: 261 ms, total: 37.9 s\n",
      "Wall time: 24.4 s\n"
     ]
    }
   ],
   "source": [
    "# embed (this takes longer)\n",
    "%time x,y = build_data(case3, 0)\n",
    "%time x1,y1 = build_data(case3, 1)\n",
    "%time x2,y2 = build_data(case3, 2)\n",
    "%time x3,y3 = build_data(case3, 3)\n",
    "%time x4,y4 = build_data(case3, 4)\n",
    "%time x5,y5 = build_data(case3, 5)"
   ]
  },
  {
   "cell_type": "code",
   "execution_count": 124,
   "metadata": {},
   "outputs": [
    {
     "name": "stdout",
     "output_type": "stream",
     "text": [
      "topic 95 : -0.7069908129665764\n",
      "0.024*\"food\" + 0.016*\"chicken\" + 0.013*\"rice\" + 0.013*\"chinese\" + 0.012*\"chino\"\n",
      "topic 72 : -0.6542890727417674\n",
      "0.012*\"good\" + 0.009*\"like\" + 0.007*\"service\" + 0.006*\"restaurant\" + 0.006*\"table\"\n",
      "topic 16 : -0.5552805224807138\n",
      "0.028*\"food\" + 0.016*\"good\" + 0.014*\"gluten\" + 0.011*\"free\" + 0.010*\"rice\"\n",
      "\n",
      "\n",
      "topic 12 : 0.5821851272351886\n",
      "0.064*\"duck\" + 0.025*\"food\" + 0.021*\"roast\" + 0.014*\"chinese\" + 0.013*\"place\"\n",
      "topic 66 : 0.4687968367098695\n",
      "0.019*\"good\" + 0.011*\"time\" + 0.010*\"food\" + 0.008*\"beef\" + 0.008*\"like\"\n",
      "topic 115 : 0.4542329458202448\n",
      "0.011*\"food\" + 0.010*\"pork\" + 0.008*\"vegan\" + 0.008*\"restaurant\" + 0.008*\"service\"\n"
     ]
    }
   ],
   "source": [
    "_ = find_min_max_coef(x, y - case3['business_stars'].values[0])"
   ]
  },
  {
   "cell_type": "code",
   "execution_count": 125,
   "metadata": {},
   "outputs": [
    {
     "name": "stdout",
     "output_type": "stream",
     "text": [
      "topic 72 : -0.6202206799600182\n",
      "0.012*\"good\" + 0.009*\"like\" + 0.007*\"service\" + 0.006*\"restaurant\" + 0.006*\"table\"\n",
      "topic 74 : -0.5190550846571023\n",
      "0.028*\"food\" + 0.024*\"place\" + 0.014*\"good\" + 0.011*\"time\" + 0.010*\"service\"\n",
      "topic 4 : -0.4674513998514663\n",
      "0.031*\"order\" + 0.029*\"food\" + 0.014*\"said\" + 0.011*\"minutes\" + 0.011*\"ordered\"\n",
      "\n",
      "\n",
      "topic 0 : 0.5129005813376062\n",
      "0.023*\"chop\" + 0.019*\"food\" + 0.017*\"good\" + 0.012*\"service\" + 0.012*\"chicken\"\n",
      "topic 115 : 0.4688964956161904\n",
      "0.011*\"food\" + 0.010*\"pork\" + 0.008*\"vegan\" + 0.008*\"restaurant\" + 0.008*\"service\"\n",
      "topic 66 : 0.4653133558383544\n",
      "0.019*\"good\" + 0.011*\"time\" + 0.010*\"food\" + 0.008*\"beef\" + 0.008*\"like\"\n"
     ]
    }
   ],
   "source": [
    "_ = find_min_max_coef(x1, y1 - case3['business_stars'].values[0])"
   ]
  },
  {
   "cell_type": "code",
   "execution_count": 126,
   "metadata": {},
   "outputs": [
    {
     "name": "stdout",
     "output_type": "stream",
     "text": [
      "topic 72 : -0.5768177494196415\n",
      "0.012*\"good\" + 0.009*\"like\" + 0.007*\"service\" + 0.006*\"restaurant\" + 0.006*\"table\"\n",
      "topic 95 : -0.5071066976639753\n",
      "0.024*\"food\" + 0.016*\"chicken\" + 0.013*\"rice\" + 0.013*\"chinese\" + 0.012*\"chino\"\n",
      "topic 99 : -0.4882941835486646\n",
      "0.019*\"food\" + 0.015*\"place\" + 0.014*\"good\" + 0.010*\"like\" + 0.006*\"sauce\"\n",
      "\n",
      "\n",
      "topic 32 : 0.5454499093364636\n",
      "0.033*\"food\" + 0.029*\"delivery\" + 0.016*\"ordered\" + 0.015*\"chicken\" + 0.015*\"order\"\n",
      "topic 66 : 0.540696356530869\n",
      "0.019*\"good\" + 0.011*\"time\" + 0.010*\"food\" + 0.008*\"beef\" + 0.008*\"like\"\n",
      "topic 115 : 0.5079143261822534\n",
      "0.011*\"food\" + 0.010*\"pork\" + 0.008*\"vegan\" + 0.008*\"restaurant\" + 0.008*\"service\"\n"
     ]
    }
   ],
   "source": [
    "_ = find_min_max_coef(x2, y2 - case3['business_stars'].values[0])"
   ]
  },
  {
   "cell_type": "code",
   "execution_count": 127,
   "metadata": {},
   "outputs": [
    {
     "name": "stdout",
     "output_type": "stream",
     "text": [
      "topic 72 : -0.6388310273701875\n",
      "0.012*\"good\" + 0.009*\"like\" + 0.007*\"service\" + 0.006*\"restaurant\" + 0.006*\"table\"\n",
      "topic 74 : -0.5154552516742741\n",
      "0.028*\"food\" + 0.024*\"place\" + 0.014*\"good\" + 0.011*\"time\" + 0.010*\"service\"\n",
      "topic 4 : -0.47030430355678965\n",
      "0.031*\"order\" + 0.029*\"food\" + 0.014*\"said\" + 0.011*\"minutes\" + 0.011*\"ordered\"\n",
      "\n",
      "\n",
      "topic 0 : 0.5093238348251348\n",
      "0.023*\"chop\" + 0.019*\"food\" + 0.017*\"good\" + 0.012*\"service\" + 0.012*\"chicken\"\n",
      "topic 115 : 0.4881937884576402\n",
      "0.011*\"food\" + 0.010*\"pork\" + 0.008*\"vegan\" + 0.008*\"restaurant\" + 0.008*\"service\"\n",
      "topic 66 : 0.41503233391409955\n",
      "0.019*\"good\" + 0.011*\"time\" + 0.010*\"food\" + 0.008*\"beef\" + 0.008*\"like\"\n"
     ]
    }
   ],
   "source": [
    "_ = find_min_max_coef(x3, y3 - case3['business_stars'].values[0])"
   ]
  },
  {
   "cell_type": "code",
   "execution_count": 128,
   "metadata": {},
   "outputs": [
    {
     "name": "stderr",
     "output_type": "stream",
     "text": [
      "/Users/kentatakatsu/anaconda/lib/python3.6/site-packages/numpy/lib/function_base.py:3003: RuntimeWarning: invalid value encountered in true_divide\n",
      "  c /= stddev[:, None]\n",
      "/Users/kentatakatsu/anaconda/lib/python3.6/site-packages/numpy/lib/function_base.py:3004: RuntimeWarning: invalid value encountered in true_divide\n",
      "  c /= stddev[None, :]\n"
     ]
    },
    {
     "name": "stdout",
     "output_type": "stream",
     "text": [
      "topic 72 : -0.5721806123247455\n",
      "0.012*\"good\" + 0.009*\"like\" + 0.007*\"service\" + 0.006*\"restaurant\" + 0.006*\"table\"\n",
      "topic 95 : -0.49597003824152397\n",
      "0.024*\"food\" + 0.016*\"chicken\" + 0.013*\"rice\" + 0.013*\"chinese\" + 0.012*\"chino\"\n",
      "topic 101 : -0.47903373080097544\n",
      "0.028*\"food\" + 0.020*\"place\" + 0.016*\"good\" + 0.015*\"service\" + 0.010*\"family\"\n",
      "\n",
      "\n",
      "topic 3 : 0.5374261798773677\n",
      "0.019*\"food\" + 0.019*\"place\" + 0.011*\"good\" + 0.009*\"ordered\" + 0.009*\"service\"\n",
      "topic 21 : 0.4619197118523889\n",
      "0.088*\"dim\" + 0.087*\"sum\" + 0.018*\"good\" + 0.015*\"food\" + 0.014*\"place\"\n",
      "topic 54 : 0.43488586621633013\n",
      "0.034*\"food\" + 0.015*\"place\" + 0.010*\"service\" + 0.010*\"good\" + 0.008*\"worth\"\n"
     ]
    }
   ],
   "source": [
    "_ = find_min_max_coef(x4, y4 - case3['business_stars'].values[0])"
   ]
  },
  {
   "cell_type": "code",
   "execution_count": 129,
   "metadata": {},
   "outputs": [
    {
     "name": "stdout",
     "output_type": "stream",
     "text": [
      "topic 72 : -0.7566412672440375\n",
      "0.012*\"good\" + 0.009*\"like\" + 0.007*\"service\" + 0.006*\"restaurant\" + 0.006*\"table\"\n",
      "topic 6 : -0.46131886978053893\n",
      "0.027*\"food\" + 0.014*\"service\" + 0.014*\"good\" + 0.013*\"great\" + 0.012*\"place\"\n",
      "topic 26 : -0.433111494214208\n",
      "0.015*\"food\" + 0.014*\"nice\" + 0.012*\"restaurant\" + 0.011*\"time\" + 0.010*\"ramen\"\n",
      "\n",
      "\n",
      "topic 32 : 0.6041310241198334\n",
      "0.033*\"food\" + 0.029*\"delivery\" + 0.016*\"ordered\" + 0.015*\"chicken\" + 0.015*\"order\"\n",
      "topic 12 : 0.566144565030324\n",
      "0.064*\"duck\" + 0.025*\"food\" + 0.021*\"roast\" + 0.014*\"chinese\" + 0.013*\"place\"\n",
      "topic 124 : 0.5469508082822829\n",
      "0.071*\"sushi\" + 0.014*\"food\" + 0.013*\"roll\" + 0.011*\"buffet\" + 0.010*\"time\"\n"
     ]
    }
   ],
   "source": [
    "_ = find_min_max_coef(x5, y5 - case3['business_stars'].values[0])"
   ]
  },
  {
   "cell_type": "markdown",
   "metadata": {},
   "source": [
    "### What is this"
   ]
  },
  {
   "cell_type": "markdown",
   "metadata": {},
   "source": [
    "Something very imteresting here is the result seems completely different across businesses. For example, positive topics here incluse many food related vocabulary such as 'pork', 'duck', and 'roast'. This suggests that the business does best when their food is popular. "
   ]
  },
  {
   "cell_type": "markdown",
   "metadata": {},
   "source": [
    "### Footnote"
   ]
  },
  {
   "cell_type": "code",
   "execution_count": 174,
   "metadata": {},
   "outputs": [],
   "source": [
    "# here are some example of slope\n",
    "qs = sorted(list(set(case2['quarter'])))\n",
    "filtered = case2[case2['quarter'] == qs[0]]\n",
    "embed, labels =  embed_by_enum(filtered, embedder, 2)\n"
   ]
  },
  {
   "cell_type": "code",
   "execution_count": 176,
   "metadata": {},
   "outputs": [
    {
     "data": {
      "image/png": "[encoded data removed]",
      "text/plain": [
       "<matplotlib.figure.Figure at 0x1a23d13198>"
      ]
     },
     "metadata": {},
     "output_type": "display_data"
    }
   ],
   "source": [
    "# positive : topic 124\n",
    "plt.plot(embed[:,124])\n",
    "plt.show()"
   ]
  },
  {
   "cell_type": "code",
   "execution_count": 177,
   "metadata": {},
   "outputs": [
    {
     "data": {
      "image/png": "[encoded data removed]",
      "text/plain": [
       "<matplotlib.figure.Figure at 0x1a30d779e8>"
      ]
     },
     "metadata": {},
     "output_type": "display_data"
    }
   ],
   "source": [
    "# positive : topic 119\n",
    "plt.plot(embed[:,119])\n",
    "plt.show()"
   ]
  },
  {
   "cell_type": "code",
   "execution_count": null,
   "metadata": {
    "collapsed": true
   },
   "outputs": [],
   "source": []
  }
 ],
 "metadata": {
  "kernelspec": {
   "display_name": "Python 3",
   "language": "python",
   "name": "python3"
  },
  "language_info": {
   "codemirror_mode": {
    "name": "ipython",
    "version": 3
   },
   "file_extension": ".py",
   "mimetype": "text/x-python",
   "name": "python",
   "nbconvert_exporter": "python",
   "pygments_lexer": "ipython3",
   "version": "3.6.1"
  }
 },
 "nbformat": 4,
 "nbformat_minor": 2
}
