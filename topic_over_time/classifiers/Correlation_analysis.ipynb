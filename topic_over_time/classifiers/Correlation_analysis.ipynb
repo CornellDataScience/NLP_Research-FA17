{
 "cells": [
  {
   "cell_type": "markdown",
   "metadata": {},
   "source": [
    "# Correlation analysis between embeddings and performance metrics"
   ]
  },
  {
   "cell_type": "code",
   "execution_count": 1,
   "metadata": {
    "collapsed": true
   },
   "outputs": [],
   "source": [
    "# import dependencies\n",
    "from text_embedder import TextEmbedder\n",
    "from gensim import corpora, models\n",
    "import pandas as pd\n",
    "import pickle\n",
    "import matplotlib.pyplot as plt\n",
    "from xgboost import XGBClassifier\n",
    "import numpy as np\n",
    "from sklearn.model_selection import train_test_split\n",
    "from sklearn.metrics import confusion_matrix\n",
    "from sklearn.linear_model import LinearRegression"
   ]
  },
  {
   "cell_type": "code",
   "execution_count": 2,
   "metadata": {
    "collapsed": true
   },
   "outputs": [],
   "source": [
    "# load pre-trained data\n",
    "business = pd.read_csv('../data/chinese_business_clean.csv')\n",
    "reviews = pd.read_csv('../data/chinese_reviews_clean_offsets.csv')\n",
    "\n",
    "reviews['date_tuple'] = [eval(i) for i in reviews['date_tuple']]\n",
    "reviews['quarter'] = [eval(i) for i in reviews['quarter']]\n",
    "\n",
    "# load gensim model\n",
    "lda =  models.LdaModel.load('../data/gensim/lda.model')\n",
    "dictionary = corpora.Dictionary.load('../data/gensim/chinsese_dict.dict')\n",
    "\n",
    "# load idf matrices\n",
    "with open('../data/u_idf.pickle', 'rb') as f:\n",
    "    uidf_data = pickle.load(f)\n",
    "with open('../data/b_idf.pickle', 'rb') as f:\n",
    "    bidf_data = pickle.load(f)\n",
    "with open('../data/b_tfidf.pickle', 'rb') as f:\n",
    "    btfidf_data = pickle.load(f)"
   ]
  },
  {
   "cell_type": "code",
   "execution_count": 3,
   "metadata": {
    "collapsed": true
   },
   "outputs": [],
   "source": [
    "# initialize text embedding classs\n",
    "embedder = TextEmbedder(model = lda, dictionary = dictionary, user_idf = uidf_data, business_idf = bidf_data, business_tfidf = btfidf_data)"
   ]
  },
  {
   "cell_type": "code",
   "execution_count": 4,
   "metadata": {
    "collapsed": true
   },
   "outputs": [],
   "source": [
    "# use top2 growing, declining business for case study\n",
    "case2 = reviews[reviews['business_id'] == 'pH0BLkL4cbxKzu471VZnuA'] # growing \n",
    "case3 = reviews[reviews['business_id'] == 'X8c23dur0ll2D9XTu-I8Qg'] # declining"
   ]
  },
  {
   "cell_type": "code",
   "execution_count": 5,
   "metadata": {},
   "outputs": [
    {
     "data": {
      "image/png": "[encoded data removed]",
      "text/plain": [
       "<matplotlib.figure.Figure at 0x104e3d550>"
      ]
     },
     "metadata": {},
     "output_type": "display_data"
    }
   ],
   "source": [
    "# case2 is growing\n",
    "plt.plot(case2.sort_values(by= 'quarter')['quarter_avg'].values)\n",
    "plt.plot(case2.sort_values(by= 'quarter')['business_stars'].values)\n",
    "plt.title('Quater average over time')\n",
    "plt.show()"
   ]
  },
  {
   "cell_type": "code",
   "execution_count": 6,
   "metadata": {},
   "outputs": [
    {
     "data": {
      "image/png": "[encoded data removed]",
      "text/plain": [
       "<matplotlib.figure.Figure at 0x1a1fc02b38>"
      ]
     },
     "metadata": {},
     "output_type": "display_data"
    }
   ],
   "source": [
    "# case3 is declining\n",
    "plt.plot(case3.sort_values(by= 'quarter')['quarter_avg'].values)\n",
    "plt.plot(case3.sort_values(by= 'quarter')['business_stars'].values)\n",
    "\n",
    "plt.title('Quater average over time')\n",
    "plt.show()"
   ]
  },
  {
   "cell_type": "markdown",
   "metadata": {},
   "source": [
    "## Raw value of embedded topic vs Business offset"
   ]
  },
  {
   "cell_type": "markdown",
   "metadata": {},
   "source": [
    "We are going to compare the correlation between the topics and business offsets (review - business average). Offsets are different across reviews, and this metric suggests how positive/negative the topic is given the business"
   ]
  },
  {
   "cell_type": "code",
   "execution_count": 7,
   "metadata": {
    "collapsed": true
   },
   "outputs": [],
   "source": [
    "# helper to make a labels \n",
    "def mapping(x):\n",
    "    if x < 0:\n",
    "        return 0\n",
    "    else:\n",
    "        return int(x!=0)+1"
   ]
  },
  {
   "cell_type": "code",
   "execution_count": 8,
   "metadata": {
    "collapsed": true
   },
   "outputs": [],
   "source": [
    "# embedding helper class\n",
    "def embed_by_enum(data, embedder, enum = 0, binary = False):\n",
    "    # select regions\n",
    "    if binary:\n",
    "        data = data[data['business_offset'] != 0]\n",
    "    label = data['business_offset']\n",
    "    # create labels\n",
    "    if enum == 2: \n",
    "        embed = np.array([embedder.augmented_embed_text(t) for t in data['text'].values])\n",
    "    elif enum == 3: \n",
    "        embed = np.array([embedder.user_tfidf_embed(t, u) for t, u in zip(data['text'].values, data['user_id'].values)])\n",
    "    elif enum == 4: \n",
    "        embed = np.array([embedder.user_tf_business_idf(t, b) for t, b in zip(data['text'].values, data['business_id'].values)])\n",
    "    elif enum == 5: \n",
    "        embed = np.array([embedder.user_tfidf_business_idf(t, u, b) for t, u, b in zip(data['text'].values, data['user_id'].values, data['business_id'].values)])\n",
    "    \n",
    "    elif enum == 0: \n",
    "        embed = np.array([embedder.embed(t) for t in data['text'].values])\n",
    "    elif enum == 1:\n",
    "        embed = np.array([embedder.embed_sent(t) for t in data['text'].values])\n",
    "    \n",
    "    elif enum == 6:\n",
    "        embed = np.array([embedder.augmented_tf_business_tfidf(t, b) for t, b in zip(data['text'].values, data['business_id'].values)])\n",
    "    else:\n",
    "        print ('enum {} is not supported'.format(enum))\n",
    "        return None\n",
    "    return embed, label"
   ]
  },
  {
   "cell_type": "markdown",
   "metadata": {},
   "source": [
    "## Case 1 - SUSHISAMBA (growing business)"
   ]
  },
  {
   "cell_type": "code",
   "execution_count": 9,
   "metadata": {},
   "outputs": [
    {
     "data": {
      "text/html": [
       "<div>\n",
       "<style>\n",
       "    .dataframe thead tr:only-child th {\n",
       "        text-align: right;\n",
       "    }\n",
       "\n",
       "    .dataframe thead th {\n",
       "        text-align: left;\n",
       "    }\n",
       "\n",
       "    .dataframe tbody tr th {\n",
       "        vertical-align: top;\n",
       "    }\n",
       "</style>\n",
       "<table border=\"1\" class=\"dataframe\">\n",
       "  <thead>\n",
       "    <tr style=\"text-align: right;\">\n",
       "      <th></th>\n",
       "      <th>address</th>\n",
       "      <th>attributes</th>\n",
       "      <th>business_id</th>\n",
       "      <th>categories</th>\n",
       "      <th>city</th>\n",
       "      <th>hours</th>\n",
       "      <th>is_open</th>\n",
       "      <th>latitude</th>\n",
       "      <th>longitude</th>\n",
       "      <th>name</th>\n",
       "      <th>neighborhood</th>\n",
       "      <th>postal_code</th>\n",
       "      <th>review_count</th>\n",
       "      <th>stars</th>\n",
       "      <th>state</th>\n",
       "    </tr>\n",
       "  </thead>\n",
       "  <tbody>\n",
       "    <tr>\n",
       "      <th>1499</th>\n",
       "      <td>3327 Las Vegas Blvd S</td>\n",
       "      <td>{'Alcohol': 'full_bar', 'HasTV': True, 'NoiseL...</td>\n",
       "      <td>pH0BLkL4cbxKzu471VZnuA</td>\n",
       "      <td>['Nightlife', 'Restaurants', 'Breakfast &amp; Brun...</td>\n",
       "      <td>Las Vegas</td>\n",
       "      <td>{'Monday': '11:30-1:00', 'Tuesday': '11:30-1:0...</td>\n",
       "      <td>1</td>\n",
       "      <td>36.124582</td>\n",
       "      <td>-115.167553</td>\n",
       "      <td>SUSHISAMBA - Las Vegas</td>\n",
       "      <td>The Strip</td>\n",
       "      <td>89109</td>\n",
       "      <td>1973</td>\n",
       "      <td>4.0</td>\n",
       "      <td>NV</td>\n",
       "    </tr>\n",
       "  </tbody>\n",
       "</table>\n",
       "</div>"
      ],
      "text/plain": [
       "                    address  \\\n",
       "1499  3327 Las Vegas Blvd S   \n",
       "\n",
       "                                             attributes  \\\n",
       "1499  {'Alcohol': 'full_bar', 'HasTV': True, 'NoiseL...   \n",
       "\n",
       "                 business_id  \\\n",
       "1499  pH0BLkL4cbxKzu471VZnuA   \n",
       "\n",
       "                                             categories       city  \\\n",
       "1499  ['Nightlife', 'Restaurants', 'Breakfast & Brun...  Las Vegas   \n",
       "\n",
       "                                                  hours  is_open   latitude  \\\n",
       "1499  {'Monday': '11:30-1:00', 'Tuesday': '11:30-1:0...        1  36.124582   \n",
       "\n",
       "       longitude                    name neighborhood postal_code  \\\n",
       "1499 -115.167553  SUSHISAMBA - Las Vegas    The Strip       89109   \n",
       "\n",
       "      review_count  stars state  \n",
       "1499          1973    4.0    NV  "
      ]
     },
     "execution_count": 9,
     "metadata": {},
     "output_type": "execute_result"
    }
   ],
   "source": [
    "business[business['business_id'] == 'pH0BLkL4cbxKzu471VZnuA']"
   ]
  },
  {
   "cell_type": "code",
   "execution_count": 10,
   "metadata": {
    "collapsed": true
   },
   "outputs": [],
   "source": [
    "# embedding \n",
    "\n",
    "# baseline \n",
    "embed, label = embed_by_enum(case2, embedder)\n",
    "embed1, label1 = embed_by_enum(case2, embedder, enum = 1)\n",
    "\n",
    "# augmented\n",
    "embed2, label2 = embed_by_enum(case2, embedder, enum = 2)\n",
    "\n",
    "# embed3, label3 = embed_by_enum(case2, embedder, enum = 3)\n",
    "# embed4, label4 = embed_by_enum(case2, embedder, enum = 4)\n",
    "# embed5, label5 = embed_by_enum(case2, embedder, enum = 5)\n",
    "\n",
    "# business tfidf \n",
    "embed6, label6 = embed_by_enum(case2, embedder, enum = 6)"
   ]
  },
  {
   "cell_type": "code",
   "execution_count": 11,
   "metadata": {
    "collapsed": true
   },
   "outputs": [],
   "source": [
    "# print out the correlation coefficients as well as topic distribution\n",
    "def find_min_max_coef(embed, label):\n",
    "    coef = []\n",
    "    for i in range(len(embed[0])):\n",
    "        coef.append(np.corrcoef(embed[:,i], label)[0, 1])\n",
    "    coef = np.array(coef)\n",
    "    coef[np.isnan(coef)] = 0.0\n",
    "    for i in range(3):\n",
    "        print ('topic {} : {}'.format(np.argsort(coef)[i], np.sort(coef)[i]))\n",
    "        print (lda.print_topic(np.argsort(coef)[i], topn=5))\n",
    "    print ('\\n')\n",
    "    for i in range(3):\n",
    "        print ('topic {} : {}'.format(np.argsort(coef)[len(coef)-1-i], np.sort(coef)[len(coef)-1-i]))\n",
    "        print (lda.print_topic(np.argsort(coef)[len(coef)-1-i], topn=5))\n",
    "    return np.sort(coef)[:10], np.sort(coef)[-10:]"
   ]
  },
  {
   "cell_type": "code",
   "execution_count": 12,
   "metadata": {},
   "outputs": [
    {
     "name": "stdout",
     "output_type": "stream",
     "text": [
      "topic 4 : -0.24252568669703659\n",
      "0.031*\"order\" + 0.029*\"food\" + 0.014*\"said\" + 0.011*\"minutes\" + 0.011*\"ordered\"\n",
      "topic 47 : -0.20185000701962869\n",
      "0.028*\"table\" + 0.018*\"food\" + 0.018*\"came\" + 0.013*\"minutes\" + 0.013*\"seated\"\n",
      "topic 79 : -0.17917940083499717\n",
      "0.042*\"food\" + 0.024*\"service\" + 0.013*\"place\" + 0.011*\"bad\" + 0.009*\"night\"\n",
      "\n",
      "\n",
      "topic 46 : 0.2880537534341905\n",
      "0.061*\"food\" + 0.054*\"great\" + 0.029*\"service\" + 0.028*\"place\" + 0.028*\"friendly\"\n",
      "topic 62 : 0.14252715193419527\n",
      "0.014*\"like\" + 0.013*\"good\" + 0.011*\"ice\" + 0.011*\"cream\" + 0.010*\"dessert\"\n",
      "topic 69 : 0.12750849944456055\n",
      "0.023*\"sushi\" + 0.020*\"place\" + 0.016*\"food\" + 0.015*\"priced\" + 0.012*\"vegas\"\n"
     ]
    }
   ],
   "source": [
    "_ = find_min_max_coef(embed, case2['business_offset'])"
   ]
  },
  {
   "cell_type": "code",
   "execution_count": 13,
   "metadata": {},
   "outputs": [
    {
     "name": "stdout",
     "output_type": "stream",
     "text": [
      "topic 117 : -0.22207980406445255\n",
      "0.030*\"food\" + 0.014*\"like\" + 0.010*\"place\" + 0.008*\"rice\" + 0.008*\"time\"\n",
      "topic 4 : -0.20524312471812153\n",
      "0.031*\"order\" + 0.029*\"food\" + 0.014*\"said\" + 0.011*\"minutes\" + 0.011*\"ordered\"\n",
      "topic 79 : -0.19804090668983362\n",
      "0.042*\"food\" + 0.024*\"service\" + 0.013*\"place\" + 0.011*\"bad\" + 0.009*\"night\"\n",
      "\n",
      "\n",
      "topic 46 : 0.33957077236653854\n",
      "0.061*\"food\" + 0.054*\"great\" + 0.029*\"service\" + 0.028*\"place\" + 0.028*\"friendly\"\n",
      "topic 62 : 0.11704571988693614\n",
      "0.014*\"like\" + 0.013*\"good\" + 0.011*\"ice\" + 0.011*\"cream\" + 0.010*\"dessert\"\n",
      "topic 69 : 0.11479227822266841\n",
      "0.023*\"sushi\" + 0.020*\"place\" + 0.016*\"food\" + 0.015*\"priced\" + 0.012*\"vegas\"\n"
     ]
    }
   ],
   "source": [
    "_ = find_min_max_coef(embed1, case2['business_offset'])"
   ]
  },
  {
   "cell_type": "code",
   "execution_count": 14,
   "metadata": {},
   "outputs": [
    {
     "name": "stdout",
     "output_type": "stream",
     "text": [
      "topic 117 : -0.21196428252427693\n",
      "0.030*\"food\" + 0.014*\"like\" + 0.010*\"place\" + 0.008*\"rice\" + 0.008*\"time\"\n",
      "topic 4 : -0.2000375717505413\n",
      "0.031*\"order\" + 0.029*\"food\" + 0.014*\"said\" + 0.011*\"minutes\" + 0.011*\"ordered\"\n",
      "topic 79 : -0.19756507638245238\n",
      "0.042*\"food\" + 0.024*\"service\" + 0.013*\"place\" + 0.011*\"bad\" + 0.009*\"night\"\n",
      "\n",
      "\n",
      "topic 46 : 0.3848508710162415\n",
      "0.061*\"food\" + 0.054*\"great\" + 0.029*\"service\" + 0.028*\"place\" + 0.028*\"friendly\"\n",
      "topic 62 : 0.13295554494921472\n",
      "0.014*\"like\" + 0.013*\"good\" + 0.011*\"ice\" + 0.011*\"cream\" + 0.010*\"dessert\"\n",
      "topic 69 : 0.12302300364840482\n",
      "0.023*\"sushi\" + 0.020*\"place\" + 0.016*\"food\" + 0.015*\"priced\" + 0.012*\"vegas\"\n"
     ]
    }
   ],
   "source": [
    "_ = find_min_max_coef(embed2, case2['business_offset'])"
   ]
  },
  {
   "cell_type": "code",
   "execution_count": 15,
   "metadata": {},
   "outputs": [
    {
     "name": "stdout",
     "output_type": "stream",
     "text": [
      "topic 117 : -0.21214989721217772\n",
      "0.030*\"food\" + 0.014*\"like\" + 0.010*\"place\" + 0.008*\"rice\" + 0.008*\"time\"\n",
      "topic 79 : -0.20798680737552913\n",
      "0.042*\"food\" + 0.024*\"service\" + 0.013*\"place\" + 0.011*\"bad\" + 0.009*\"night\"\n",
      "topic 4 : -0.19674632558063782\n",
      "0.031*\"order\" + 0.029*\"food\" + 0.014*\"said\" + 0.011*\"minutes\" + 0.011*\"ordered\"\n",
      "\n",
      "\n",
      "topic 46 : 0.37711199071327006\n",
      "0.061*\"food\" + 0.054*\"great\" + 0.029*\"service\" + 0.028*\"place\" + 0.028*\"friendly\"\n",
      "topic 62 : 0.12777242569573505\n",
      "0.014*\"like\" + 0.013*\"good\" + 0.011*\"ice\" + 0.011*\"cream\" + 0.010*\"dessert\"\n",
      "topic 69 : 0.12452062003005454\n",
      "0.023*\"sushi\" + 0.020*\"place\" + 0.016*\"food\" + 0.015*\"priced\" + 0.012*\"vegas\"\n"
     ]
    }
   ],
   "source": [
    "_ = find_min_max_coef(embed6, case2['business_offset'])"
   ]
  },
  {
   "cell_type": "markdown",
   "metadata": {},
   "source": [
    "### what is this?"
   ]
  },
  {
   "cell_type": "markdown",
   "metadata": {},
   "source": [
    "Each embedding is a different representation of text topics, but underlying LDA shares the common word-to-topic distribution. We are comparing the correlation between each topic and 'business-offset'. Here, business-offset is a metric of how positive/negative a given text embedding is, which means, the same exact text might have a different correlation if you are observing different business. \n",
    "\n",
    "Positively large correlation means that the topic is important to decide 'strength' of business. For example, from the embedding 0 and embedding 1, we can deduce that the business we are observing is known for good service, sushi and dessert. \n",
    "\n",
    "Negatively large correlation means that the topic is important to decide 'weakness' of business. For example, from the embedding 0 and embedding 1, we can deduce that the business we are observing is known for taking long time to bring food."
   ]
  },
  {
   "cell_type": "markdown",
   "metadata": {},
   "source": [
    "### Review Recommendation"
   ]
  },
  {
   "cell_type": "markdown",
   "metadata": {},
   "source": [
    "Use the idea of recomendation system, we can find the most relevant reviews based on this metric.\n",
    "\n",
    "$[\\theta_{0}, \\theta_{1}, \\theta_{2} ..., \\theta_{127}] * [\\rho{0}, \\rho{1}, \\rho{2} ..., \\rho{127}]^{T} = r_{d}$"
   ]
  },
  {
   "cell_type": "code",
   "execution_count": 16,
   "metadata": {
    "collapsed": true
   },
   "outputs": [],
   "source": [
    "def characteristic_vector(embed):\n",
    "    coef = []\n",
    "    for i in range(len(embed[0])):\n",
    "        coef.append(np.corrcoef(embed[:,i], label)[0, 1])\n",
    "    coef = np.array(coef)\n",
    "    coef[np.isnan(coef)] = 0.0\n",
    "    return np.array(coef)"
   ]
  },
  {
   "cell_type": "code",
   "execution_count": 63,
   "metadata": {
    "collapsed": true
   },
   "outputs": [],
   "source": [
    "def positive_feedbacks(df, n, embed):\n",
    "    vector = characteristic_vector(embed)\n",
    "    dot = np.array([np.dot(d, vector) for d in embed])\n",
    "    \n",
    "    pos_idx = np.argsort(dot)[-n:]\n",
    "    for i in pos_idx[::-1]:\n",
    "        print ('Rate: {}\\n{}\\n'.format(df.iloc[i]['stars'], df.iloc[i]['text']))\n",
    "\n",
    "def negative_feedbacks(df, n, embed):\n",
    "    vector = characteristic_vector(embed)\n",
    "    dot = np.array([np.dot(d, vector) for d in embed])\n",
    "    \n",
    "    neg_idx = np.argsort(dot)[:n]\n",
    "    for i in neg_idx:\n",
    "        print ('Rate: {}\\n{}\\n'.format(df.iloc[i]['stars'], df.iloc[i]['text']))"
   ]
  },
  {
   "cell_type": "markdown",
   "metadata": {},
   "source": [
    "3 least preferable review for this restaurant"
   ]
  },
  {
   "cell_type": "code",
   "execution_count": 64,
   "metadata": {},
   "outputs": [
    {
     "name": "stdout",
     "output_type": "stream",
     "text": [
      "Rate: 1\n",
      "Bad sake, very bad raw sea food, extremely bad rice in the sushi, will never let my friends step into this restaurant. I feel curious how can this restaurant get four stars, the sushi bar in my neighborhood is much better than this and only cost 25 dollars each.\n",
      "\n",
      "Rate: 2\n",
      "Service was good but the food was just OK.  I am a bit of a sushi snob since my father is a sushi chef but the sushi at this place was nothing special and I've had better at restaurants that were half the price.  I left after one appetizer and 1 roll.\n",
      "\n",
      "Rate: 2\n",
      "The sushi is pretty good here, but the service was terrible on my last visit. It took about 10 minutes for someone to even come to our table to get our drink orders,  20 mins after that to actually order, 3 times asking to get refills on water and another 20 mins to get the bill after we asked. This was at 2pm as well, not a busy time. It was very frustrating, and with so many other sushi places around, choose a different one!\n",
      "\n"
     ]
    }
   ],
   "source": [
    "negative_feedbacks(case2, 3, embed1)"
   ]
  },
  {
   "cell_type": "markdown",
   "metadata": {},
   "source": [
    "3 most prefarable reviews for this restaurant"
   ]
  },
  {
   "cell_type": "code",
   "execution_count": 65,
   "metadata": {},
   "outputs": [
    {
     "name": "stdout",
     "output_type": "stream",
     "text": [
      "Rate: 5\n",
      "This place deserves 10 stars, by far my favorite restaurant ever, absolutely love it. Every time we go to visit, this is definitely where we go for dinner, it's not cheap but well worth every penny, everything is always so fresh and delicious, and I mean everything, we always try new things along with some of our favorites and we just love this place more and more each time. The service is impeccable, the servers are very professional and very knowledgeable about the menu and drinks, if you are not sure what to get , just let them how much you are willing to spend and they will create a tasting menu for you, believe you will not be disappointed!!!! Their sea bass skewers and Peruvian corn is a must have! I mean everything is amazing there, hope everyone gets a chance to try this place!\n",
      "\n",
      "Rate: 5\n",
      "This is the second time I've been here and it's super delicious. I would highly recommend the family style tasting menu. You try a variety of things that I probably would not have ordered and it's totally delicious. I would highly recommend.\n",
      "\n",
      "Rate: 5\n",
      "Absolutely top notch 5 stars service. Our server Nick P. provided excellent service. He was very friendly, recommended great selections & very attentive. We had the best time & the food was outstanding. We dine on 8/08/16\n",
      "\n"
     ]
    }
   ],
   "source": [
    "positive_feedbacks(case2, 3, embed1)"
   ]
  },
  {
   "cell_type": "markdown",
   "metadata": {},
   "source": [
    "Without scaling, the recommended reviews are very general positive/negative reviews "
   ]
  },
  {
   "cell_type": "code",
   "execution_count": 66,
   "metadata": {},
   "outputs": [
    {
     "name": "stdout",
     "output_type": "stream",
     "text": [
      "Rate: 1\n",
      "*****the server here was so rude!!!!! worst experience ever. the second we sat down and told her we aren't ordering drinks she kept coming up to our table every 1 min asking what we want to order. we just sat down lady!!! let us look at the menu!!! the food was crappy too. overpriced food ** bad tasting** small portions**rude servers!!!! stay away from the place!!!!\n",
      "\n",
      "Rate: 3\n",
      "Not impressed with this Restaraunt. My fiancé food came out late and cold. The waiter mixed up all of the bills. We had to wait on drinks and we never saw our waiter. The water was not refilled and overall customer service experience was poor. However my sushi rolls were great, but a bit on the warm side. It's going to be hard for someone to persuade me to come back here.\n",
      "\n",
      "Rate: 2\n",
      "Mediocre food. Average service. Very very close seating (had to move tables to get to seat). Overpriced sushi for tiny pieces. Just expected more from such a nice looking place.\n",
      "\n"
     ]
    }
   ],
   "source": [
    "negative_feedbacks(case2, 3, embed2)"
   ]
  },
  {
   "cell_type": "code",
   "execution_count": 67,
   "metadata": {},
   "outputs": [
    {
     "name": "stdout",
     "output_type": "stream",
     "text": [
      "Rate: 5\n",
      "SushiSamba continues to be one of my favorite restaurants in Vegas. We had our wedding rehearsal dinner here with a group of 40 on 8/30. The staff couldn't have been anymore accommodating and friendly. The menu options satisfied everyone's needs. Everything was served family style which we all likes. The firecracker shrimp, truffle aioli and the strip steak were so delicious. My friends and family loved the fun and hip atmosphere. If you ever want to have a group meal I think it doesn't get much better than this!\n",
      "\n",
      "Rate: 3\n",
      "This place has some unique flavors going on.  To be totally fair we only tried the appetizers.  The one that stood out in my mind was the duck confit tacos.  Our server was very helpful and attentive.  I think its a must try if you're looking for a quick late night sushi spot for light food.  Much better than the location that closed in Dallas....\n",
      "\n",
      "Rate: 4\n",
      "Came here for dinner last weekend and the hype is real: Sushi Samba is a true winner indeed!\n",
      "\n",
      "The group I was with ordered many different dishes, and the ones I got to try were the following: \n",
      "\n",
      "- Heirloom Salad: I gobbled this up, the dressing has the perfect kick to it. \n",
      "- Gyoza: I didn't like this at all, pass. \n",
      "- Neo Tokyo: This roll looks intimidating, but it's fabulous. \n",
      "- Sao Paolo - The scallop alone on this is mouthwatering. \n",
      "- El Topo - A sticky roll, but well worth it if you like cheese. Yum. \n",
      "- Samba Strip - Meh, not my fave. \n",
      "\n",
      "Great restaurant + atmosphere. Definitely recommend coming here for a fun dinner!\n",
      "\n"
     ]
    }
   ],
   "source": [
    "positive_feedbacks(case2, 3, embed2)"
   ]
  },
  {
   "cell_type": "code",
   "execution_count": 68,
   "metadata": {},
   "outputs": [
    {
     "name": "stdout",
     "output_type": "stream",
     "text": [
      "Rate: 3\n",
      "Not impressed with this Restaraunt. My fiancé food came out late and cold. The waiter mixed up all of the bills. We had to wait on drinks and we never saw our waiter. The water was not refilled and overall customer service experience was poor. However my sushi rolls were great, but a bit on the warm side. It's going to be hard for someone to persuade me to come back here.\n",
      "\n",
      "Rate: 1\n",
      "Worst place to eat in Vegas!! Right after I was seated my waiter came by and offered to get me water and the only choice he gave me was whether I wanted ice or not. Later, I heard him ask the folks on a nearby table if they would like bottled water, sparkling water or still etc. Then, it took him about 7-8 minutes to come and take my order. And then the food came only 15 minutes later. While I was eating, he never once came to ask me how it was going or whether I wanted anything else. \n",
      "\n",
      "I had to ask another waiter to get me some hot tea. The edamame was suspect, some pieces were downright mushy. The sushi was only so-so. I have had far better sushi, even at far cheaper restaurants. The sushi rice was not fully cooked and certainly poor in taste. The cloth napkin had a stale oily smell. And the miso soup was too salty. What a waste of money!!\n",
      "\n",
      "Rate: 1\n",
      "DO NOT EAT HERE! FOUR of us in our group got FOOD POISONING!!! Completely awful food too! Should be paying for my ER bill as well. Go eat at RA Sushi in Vegas on thecstrip instead, much better place.\n",
      "\n"
     ]
    }
   ],
   "source": [
    "negative_feedbacks(case2, 3, embed6)"
   ]
  },
  {
   "cell_type": "code",
   "execution_count": 69,
   "metadata": {},
   "outputs": [
    {
     "name": "stdout",
     "output_type": "stream",
     "text": [
      "Rate: 3\n",
      "This place has some unique flavors going on.  To be totally fair we only tried the appetizers.  The one that stood out in my mind was the duck confit tacos.  Our server was very helpful and attentive.  I think its a must try if you're looking for a quick late night sushi spot for light food.  Much better than the location that closed in Dallas....\n",
      "\n",
      "Rate: 4\n",
      "Had a great meal here.  The menu is huge and a little overwhelming, but the waiter was very helpful with some suggestions and we wound up doing pretty well. \n",
      "\n",
      "The drinks were good, I had mojitos, my group also had a strawberry martini type drink, which I was told was too sweet, and the lemon samurai, which was pretty tasty.\n",
      "\n",
      "The food was excellent, we had:\n",
      "\n",
      "Yellowtail Seviche - everyone's favorite, excellent dish, great fish, great seasoning/sauce to it.  I'd have more right now if I could.\n",
      "Kobe Beef - very good as well, served with mushrooms and sliced super thin.\n",
      "Beef Tenderloin - which was cooked on the Japanese grill and came out very smoky, it was good, not great.\n",
      "Rock Shrimp Tempura - also quite tasty, for such a small dish, there was a lot of shrimp packed in.  Nice spicy sauce to it as well.\n",
      "Sushi Roll - can't remember the name of it, but it was salmon topped with melted mozzarella and little fried onion things.  That was the one dish that was a miss in my book.  The onion overpowered the rest of the dish.  Wasn't bad, but I didn't think all the flavors worked that well together.\n",
      "\n",
      "The setting is very cool, relaxed, and our waiter was very attentive and helpful.\n",
      "\n",
      "Rate: 5\n",
      "Best food that I have had in a long time. The flavors were perfect and they offered a great menu with Japanese, Spanish, and Peruvian. I had the Peruvian shrimp and it was amazing. I wish that I lived near by. The service was awesome as well!\n",
      "\n"
     ]
    }
   ],
   "source": [
    "negative_feedbacks(case2, 3, embed6)"
   ]
  },
  {
   "cell_type": "markdown",
   "metadata": {},
   "source": [
    "This embedding recommended 3 star review for both most positive and negative; however, we can observe how 2 sentiment differ drastiaclly.\n",
    "\n",
    "Positive reviews give very specific topics, menu and service, providing concrete feedbacks to the business.\n",
    "Similarly, nagative reviews provide very specific feedbacks to the business compare to the earlier embedding"
   ]
  },
  {
   "cell_type": "markdown",
   "metadata": {},
   "source": [
    "# Case2 - Hakkasan Nightclub (declining business)"
   ]
  },
  {
   "cell_type": "code",
   "execution_count": 70,
   "metadata": {},
   "outputs": [
    {
     "data": {
      "text/html": [
       "<div>\n",
       "<style>\n",
       "    .dataframe thead tr:only-child th {\n",
       "        text-align: right;\n",
       "    }\n",
       "\n",
       "    .dataframe thead th {\n",
       "        text-align: left;\n",
       "    }\n",
       "\n",
       "    .dataframe tbody tr th {\n",
       "        vertical-align: top;\n",
       "    }\n",
       "</style>\n",
       "<table border=\"1\" class=\"dataframe\">\n",
       "  <thead>\n",
       "    <tr style=\"text-align: right;\">\n",
       "      <th></th>\n",
       "      <th>address</th>\n",
       "      <th>attributes</th>\n",
       "      <th>business_id</th>\n",
       "      <th>categories</th>\n",
       "      <th>city</th>\n",
       "      <th>hours</th>\n",
       "      <th>is_open</th>\n",
       "      <th>latitude</th>\n",
       "      <th>longitude</th>\n",
       "      <th>name</th>\n",
       "      <th>neighborhood</th>\n",
       "      <th>postal_code</th>\n",
       "      <th>review_count</th>\n",
       "      <th>stars</th>\n",
       "      <th>state</th>\n",
       "    </tr>\n",
       "  </thead>\n",
       "  <tbody>\n",
       "    <tr>\n",
       "      <th>3489</th>\n",
       "      <td>Mgm Grand Hotel And Casino, 3799 Las Vegas Blvd S</td>\n",
       "      <td>{'WheelchairAccessible': True, 'Alcohol': 'ful...</td>\n",
       "      <td>X8c23dur0ll2D9XTu-I8Qg</td>\n",
       "      <td>['Dance Clubs', 'Cantonese', 'Chinese', 'Loung...</td>\n",
       "      <td>Las Vegas</td>\n",
       "      <td>{'Sunday': '22:30-4:00', 'Friday': '22:30-4:00...</td>\n",
       "      <td>1</td>\n",
       "      <td>36.101375</td>\n",
       "      <td>-115.172452</td>\n",
       "      <td>Hakkasan Nightclub</td>\n",
       "      <td>The Strip</td>\n",
       "      <td>89109</td>\n",
       "      <td>1547</td>\n",
       "      <td>2.5</td>\n",
       "      <td>NV</td>\n",
       "    </tr>\n",
       "  </tbody>\n",
       "</table>\n",
       "</div>"
      ],
      "text/plain": [
       "                                                address  \\\n",
       "3489  Mgm Grand Hotel And Casino, 3799 Las Vegas Blvd S   \n",
       "\n",
       "                                             attributes  \\\n",
       "3489  {'WheelchairAccessible': True, 'Alcohol': 'ful...   \n",
       "\n",
       "                 business_id  \\\n",
       "3489  X8c23dur0ll2D9XTu-I8Qg   \n",
       "\n",
       "                                             categories       city  \\\n",
       "3489  ['Dance Clubs', 'Cantonese', 'Chinese', 'Loung...  Las Vegas   \n",
       "\n",
       "                                                  hours  is_open   latitude  \\\n",
       "3489  {'Sunday': '22:30-4:00', 'Friday': '22:30-4:00...        1  36.101375   \n",
       "\n",
       "       longitude                name neighborhood postal_code  review_count  \\\n",
       "3489 -115.172452  Hakkasan Nightclub    The Strip       89109          1547   \n",
       "\n",
       "      stars state  \n",
       "3489    2.5    NV  "
      ]
     },
     "execution_count": 70,
     "metadata": {},
     "output_type": "execute_result"
    }
   ],
   "source": [
    "business[business['business_id'] == 'X8c23dur0ll2D9XTu-I8Qg']"
   ]
  },
  {
   "cell_type": "code",
   "execution_count": 71,
   "metadata": {
    "collapsed": true
   },
   "outputs": [],
   "source": [
    "# embed\n",
    "embed, label = embed_by_enum(case3, embedder)\n",
    "embed1, label1 = embed_by_enum(case3, embedder, enum = 1)\n",
    "embed2, label2 = embed_by_enum(case3, embedder, enum = 2)\n",
    "embed6, label6 = embed_by_enum(case3, embedder, enum = 6)"
   ]
  },
  {
   "cell_type": "code",
   "execution_count": 73,
   "metadata": {},
   "outputs": [
    {
     "name": "stderr",
     "output_type": "stream",
     "text": [
      "/Users/kentatakatsu/anaconda/lib/python3.6/site-packages/numpy/lib/function_base.py:3003: RuntimeWarning: invalid value encountered in true_divide\n",
      "  c /= stddev[:, None]\n",
      "/Users/kentatakatsu/anaconda/lib/python3.6/site-packages/numpy/lib/function_base.py:3004: RuntimeWarning: invalid value encountered in true_divide\n",
      "  c /= stddev[None, :]\n"
     ]
    },
    {
     "name": "stdout",
     "output_type": "stream",
     "text": [
      "topic 79 : -0.2810142483460295\n",
      "0.042*\"food\" + 0.024*\"service\" + 0.013*\"place\" + 0.011*\"bad\" + 0.009*\"night\"\n",
      "topic 2 : -0.23009044200899803\n",
      "0.019*\"time\" + 0.013*\"food\" + 0.013*\"card\" + 0.009*\"good\" + 0.009*\"service\"\n",
      "topic 4 : -0.16706551382829352\n",
      "0.031*\"order\" + 0.029*\"food\" + 0.014*\"said\" + 0.011*\"minutes\" + 0.011*\"ordered\"\n",
      "\n",
      "\n",
      "topic 29 : 0.3208614465030524\n",
      "0.016*\"club\" + 0.015*\"place\" + 0.011*\"like\" + 0.011*\"floor\" + 0.011*\"great\"\n",
      "topic 46 : 0.20176544951055195\n",
      "0.061*\"food\" + 0.054*\"great\" + 0.029*\"service\" + 0.028*\"place\" + 0.028*\"friendly\"\n",
      "topic 73 : 0.0828018782714006\n",
      "0.035*\"good\" + 0.027*\"chinese\" + 0.023*\"food\" + 0.018*\"place\" + 0.014*\"chicken\"\n"
     ]
    }
   ],
   "source": [
    "_ = find_min_max_coef(embed, label)"
   ]
  },
  {
   "cell_type": "code",
   "execution_count": 74,
   "metadata": {},
   "outputs": [
    {
     "name": "stdout",
     "output_type": "stream",
     "text": [
      "topic 79 : -0.2714775498508665\n",
      "0.042*\"food\" + 0.024*\"service\" + 0.013*\"place\" + 0.011*\"bad\" + 0.009*\"night\"\n",
      "topic 2 : -0.2066274843148657\n",
      "0.019*\"time\" + 0.013*\"food\" + 0.013*\"card\" + 0.009*\"good\" + 0.009*\"service\"\n",
      "topic 4 : -0.20135776211830708\n",
      "0.031*\"order\" + 0.029*\"food\" + 0.014*\"said\" + 0.011*\"minutes\" + 0.011*\"ordered\"\n",
      "\n",
      "\n",
      "topic 46 : 0.3145889159554585\n",
      "0.061*\"food\" + 0.054*\"great\" + 0.029*\"service\" + 0.028*\"place\" + 0.028*\"friendly\"\n",
      "topic 29 : 0.26088948028741227\n",
      "0.016*\"club\" + 0.015*\"place\" + 0.011*\"like\" + 0.011*\"floor\" + 0.011*\"great\"\n",
      "topic 69 : 0.09103346731837486\n",
      "0.023*\"sushi\" + 0.020*\"place\" + 0.016*\"food\" + 0.015*\"priced\" + 0.012*\"vegas\"\n"
     ]
    }
   ],
   "source": [
    "_ = find_min_max_coef(embed1, label1)"
   ]
  },
  {
   "cell_type": "code",
   "execution_count": 75,
   "metadata": {},
   "outputs": [
    {
     "name": "stdout",
     "output_type": "stream",
     "text": [
      "topic 79 : -0.2994402395417848\n",
      "0.042*\"food\" + 0.024*\"service\" + 0.013*\"place\" + 0.011*\"bad\" + 0.009*\"night\"\n",
      "topic 2 : -0.23283445563666547\n",
      "0.019*\"time\" + 0.013*\"food\" + 0.013*\"card\" + 0.009*\"good\" + 0.009*\"service\"\n",
      "topic 4 : -0.19190047439946087\n",
      "0.031*\"order\" + 0.029*\"food\" + 0.014*\"said\" + 0.011*\"minutes\" + 0.011*\"ordered\"\n",
      "\n",
      "\n",
      "topic 46 : 0.30812538243517135\n",
      "0.061*\"food\" + 0.054*\"great\" + 0.029*\"service\" + 0.028*\"place\" + 0.028*\"friendly\"\n",
      "topic 40 : 0.23538182779817926\n",
      "0.014*\"dish\" + 0.013*\"fried\" + 0.013*\"chinese\" + 0.011*\"good\" + 0.011*\"food\"\n",
      "topic 5 : 0.1669477591816761\n",
      "0.031*\"chicken\" + 0.019*\"curry\" + 0.018*\"rice\" + 0.015*\"like\" + 0.013*\"food\"\n"
     ]
    }
   ],
   "source": [
    "_ = find_min_max_coef(embed2, label2)"
   ]
  },
  {
   "cell_type": "code",
   "execution_count": 76,
   "metadata": {},
   "outputs": [
    {
     "name": "stdout",
     "output_type": "stream",
     "text": [
      "topic 79 : -0.2949249949269687\n",
      "0.042*\"food\" + 0.024*\"service\" + 0.013*\"place\" + 0.011*\"bad\" + 0.009*\"night\"\n",
      "topic 2 : -0.2240370050578094\n",
      "0.019*\"time\" + 0.013*\"food\" + 0.013*\"card\" + 0.009*\"good\" + 0.009*\"service\"\n",
      "topic 4 : -0.21551628632845685\n",
      "0.031*\"order\" + 0.029*\"food\" + 0.014*\"said\" + 0.011*\"minutes\" + 0.011*\"ordered\"\n",
      "\n",
      "\n",
      "topic 46 : 0.30507048177136387\n",
      "0.061*\"food\" + 0.054*\"great\" + 0.029*\"service\" + 0.028*\"place\" + 0.028*\"friendly\"\n",
      "topic 40 : 0.2230259618939772\n",
      "0.014*\"dish\" + 0.013*\"fried\" + 0.013*\"chinese\" + 0.011*\"good\" + 0.011*\"food\"\n",
      "topic 104 : 0.16273965024514903\n",
      "0.019*\"tofu\" + 0.016*\"good\" + 0.011*\"food\" + 0.011*\"sauce\" + 0.011*\"dish\"\n"
     ]
    }
   ],
   "source": [
    "_ = find_min_max_coef(embed6, label6)"
   ]
  },
  {
   "cell_type": "markdown",
   "metadata": {},
   "source": [
    "### Review Recommendation"
   ]
  },
  {
   "cell_type": "code",
   "execution_count": 77,
   "metadata": {},
   "outputs": [
    {
     "name": "stdout",
     "output_type": "stream",
     "text": [
      "Rate: 2\n",
      "This club's layout is such that unless you have a table(i.e bottle service), you're basically always kind of uncomfortable. The dance floor is too small for the crowd, the second floor's view to the dance floor is completely blocked by the tables there, so people kind of flow around narrow passage ways up and down the club, and look for somewhere to be able to stand. The layout gives you the feel of being in somewhat of a maze, and it basically is such that it gives the feeling of saying to you; if you didn't get bottle service, your bad!\n",
      "\n",
      "Rate: 3\n",
      "I just wanted to hit a dance club while in Vegas and this one was close in the MGM. I gotta thank my friends for paying for the bottle service and getting us ahead of all the long lines for the bachelor party. Not many clubs in Vegas wanting to let 6 guys in without any females these days! On that note, I had a great time and was glad for the experience. I would say this place was fun, but my favorites in Vegas are still XS and Surrender...\n",
      "\n",
      "Rate: 3\n",
      "I really enjoy the MGM Grand Casino and think Hakkasan is a great attribute, but I was very disappointed when the club staff said that hotel guests had to pay to enter the club.\n",
      "\n",
      "I think that being a hotel guest should allow free admission into the MGM Grand Hakkasan night club.\n",
      "\n",
      "I am a gold member and was appalled when my friends and I had to pay to get into the club.\n",
      "\n",
      "Since then I have stayed at the Cosmopolitan Hotel and have been politely greeted and given free entry into club Marquee.\n",
      "\n"
     ]
    }
   ],
   "source": [
    "positive_feedbacks(case3, 3, embed1)"
   ]
  },
  {
   "cell_type": "code",
   "execution_count": 78,
   "metadata": {},
   "outputs": [
    {
     "name": "stdout",
     "output_type": "stream",
     "text": [
      "Rate: 1\n",
      "Experienced a racist encounter with the security staff. Waiting for a response for management. They have ignored and avoided all of my attempts to reach out to them, extremely unprofessional.\n",
      "\n",
      "Rate: 1\n",
      "I'm here right now and am sitting next to someone Who works here who told me if I continue to ask him where my credit card is, which has been gone for 30 minutes - that he  will kick me out. I cannot imagine a worse place to spend my night then a place where people people like this exist.\n",
      "\n",
      "Rate: 2\n",
      "Bartenders are slow as shit and have an entitled attitude. On average it was taking 30 minutes just to get a drink and when I was there it was not busy.\n",
      "\n"
     ]
    }
   ],
   "source": [
    "negative_feedbacks(case3, 3, embed1)"
   ]
  },
  {
   "cell_type": "code",
   "execution_count": 80,
   "metadata": {},
   "outputs": [
    {
     "name": "stdout",
     "output_type": "stream",
     "text": [
      "Rate: 4\n",
      "I don't know why Hakkasan only has 2.5 star. I had a great time there. Only down side was the over the top priced drinks.\n",
      "\n",
      "Rate: 5\n",
      "When in Vegas this is a must. We went when Lil Jon was the deejay he had the place lit. Great atmosphere and great music only complaint would be the drinks are a bit pricey but thats Vegas for you. I definitely recommend\n",
      "\n",
      "Rate: 4\n",
      "Had an amazing time here! this place is a must place to be if you are in vegas! If you wanna have a great time and hear amazing music by the best Dj's come here! you will not regret it!\n",
      "\n"
     ]
    }
   ],
   "source": [
    "positive_feedbacks(case3, 3, embed2)"
   ]
  },
  {
   "cell_type": "code",
   "execution_count": 82,
   "metadata": {},
   "outputs": [
    {
     "name": "stdout",
     "output_type": "stream",
     "text": [
      "Rate: 1\n",
      "If I could give 0 stars i would!  Probably the WORST Club ive ever been to! The Amount of People they let in is Ridiculous to the point you cant even move. \n",
      "\n",
      "The Sorry excuse for Bartenders here will ignore you until you somehow manage to pull them your way, they are rude and unfriendly.  A trained monkey can pour a better Jack and Coke. Ordered a Gin and Monster and I got a Red Bull.. ONLY the bull and payed 20 bucks for it. I guess they serve Golden Red Bulls thats what that must have been. It had to be. Wrong! After complaining to the Bar Manager who was even more rude and unhelpful (I see where the \"Bartenders\" get their manners from) I finally got what i thought was my drink but it turned out to be just water. So they charged me $20 for a redbull and a glass of water. \n",
      "\n",
      "After further complaining they just decided to kick my friends and myself out because they didt wanna fix the problem they caused.  \n",
      "\n",
      "Long story short this place is NOTHING more than a piece of Garbage,  people who rave about it must like to be treated like crap.\n",
      "\n",
      "If youre looking to have a good fun time this is not the place! Dont come here unless you wanna be treated rudely.\n",
      "\n",
      "Rate: 1\n",
      "So....After my review, I was contacted by management. They were sorry to hear about my visit at HK and wanted me to come back and really \"experience\" the club with 5 floors, a restaurant, yada yada yada.  So they asked when I would be back.  I told them that I would be back on June 19.  The first manager then emailed a Manager in Customer Relations and she kept in contact with me over the next 3 months.  I was really impressed.  As the date grew near, I was then put in touch with the Director of Guest Services who would be on site that night - that person notified me that I would be given complimentary VIP entry and walked in. (In all honesty, we always use a VIP service that does that anyways.)   She also gave me the name of a contact at the door and a phone number.  I was curious how my new \"experience\" would be different from my old \"experience\", but it was a nice gesture...\n",
      "\n",
      "Anyways, we arrived at HK at 12:15 (not too late, and not too early).  When we arrived, there was a velvet rope out front with a mob of people around it. Nobody was lined up, just a crowd.  My husband and I finally worked our way to the front and said that we were guests of  So & So and showed him the email to prove that I wasn't just throwing a name around.  He looked at us with a blank face and said,  \"We don't have a guest list tonight and I don't know who those people are\".  REALLY????  So he didn't know that Director of Guest Relations?  If HK is trying to make a better name for themselves, they need to teach the door guys names of management....At this point  I was fed up with this place and didn't try to text my \"door contact\".  \n",
      "\n",
      "So, basically, nothing has changed.  Head down the strip to another club...unless you want a cr@ppy \"experience\".\n",
      "\n",
      "Rate: 1\n",
      "If I could give this establishment zero starts, I would. I don't know whether it's legal to charge customers $10 for water when they are drinking, but that's what happened! There was no option for tap water. They said verbatim in several occasions that it is not their policy to supply water free of cost. Someone is going to die.\n",
      "\n"
     ]
    }
   ],
   "source": [
    "negative_feedbacks(case3, 3, embed2)"
   ]
  },
  {
   "cell_type": "code",
   "execution_count": 81,
   "metadata": {},
   "outputs": [
    {
     "name": "stdout",
     "output_type": "stream",
     "text": [
      "Rate: 4\n",
      "I don't know why Hakkasan only has 2.5 star. I had a great time there. Only down side was the over the top priced drinks.\n",
      "\n",
      "Rate: 5\n",
      "When in Vegas this is a must. We went when Lil Jon was the deejay he had the place lit. Great atmosphere and great music only complaint would be the drinks are a bit pricey but thats Vegas for you. I definitely recommend\n",
      "\n",
      "Rate: 4\n",
      "I've got no beef with this place. Bought the Tiesto tickets ahead of time so no wait. Staff was pretty friendly for a club. Drank a bunch and ate a xanax beforehand so no need to visit the bar for some bullshit weak cocktails. Show was awesome. I'd go again.\n",
      "\n"
     ]
    }
   ],
   "source": [
    "positive_feedbacks(case3, 3, embed6)"
   ]
  },
  {
   "cell_type": "code",
   "execution_count": 83,
   "metadata": {},
   "outputs": [
    {
     "name": "stdout",
     "output_type": "stream",
     "text": [
      "Rate: 1\n",
      "Way oversold. This place is nothing to write home about. Drinks are entirely overpriced: $60 for 2 drinks and 2 tap waters. We were curious and optimistic! But left entirely disappointed. Staff will confiscate any outside food or drink - even if it's sealed. The management was condescending and inconsiderate. Don't waste your time.\n",
      "\n",
      "Rate: 1\n",
      "If I could give 0 stars i would!  Probably the WORST Club ive ever been to! The Amount of People they let in is Ridiculous to the point you cant even move. \n",
      "\n",
      "The Sorry excuse for Bartenders here will ignore you until you somehow manage to pull them your way, they are rude and unfriendly.  A trained monkey can pour a better Jack and Coke. Ordered a Gin and Monster and I got a Red Bull.. ONLY the bull and payed 20 bucks for it. I guess they serve Golden Red Bulls thats what that must have been. It had to be. Wrong! After complaining to the Bar Manager who was even more rude and unhelpful (I see where the \"Bartenders\" get their manners from) I finally got what i thought was my drink but it turned out to be just water. So they charged me $20 for a redbull and a glass of water. \n",
      "\n",
      "After further complaining they just decided to kick my friends and myself out because they didt wanna fix the problem they caused.  \n",
      "\n",
      "Long story short this place is NOTHING more than a piece of Garbage,  people who rave about it must like to be treated like crap.\n",
      "\n",
      "If youre looking to have a good fun time this is not the place! Dont come here unless you wanna be treated rudely.\n",
      "\n",
      "Rate: 1\n",
      "NEVER GO TO THIS PLACE!\n",
      "\n",
      " The worst experience ever!!! Once we got there we had been lead to the fast line, I was feeling pretty lucky at that moment! BUT the thing what happened next, makes me feel really BAD about this shitty club!!\n",
      "\n",
      "First, one security checked my ID. He couldn't believe the photo is mine, and I'm actually 21! He turned my ID to another security, which also checked it for several times, and asked me sign on a piece of paper for 3 times!!! And they still don't believe it, then the SUPERVISOR showed up, who was a TOTALLY ASSHOLE! I showed the supervisor my student ID, my credit cards and my passport. 4 documents, 3 pictures, and 3 signatures. HE STILL KEPT SAYING THAT I WAS USING AN FAKE ID! I asked him do I look like someone who make fake ID and credit card? He said Yes!!!!! This made me believe that he was being racist because I'm Chinese! Then he suddenly become angry, like I said he is a racist person actually offences him!!! OMG! Then he told me I feel free to leave, nobody asks me to stay here!!  Me and my friends just left at the end!\n",
      "\n",
      "I still can't believe this actually happened tonight. I've never be so humiliated in my life! I showed him bunch of IDs, and he just kept being an ASSHOLE!\n",
      "\n"
     ]
    }
   ],
   "source": [
    "negative_feedbacks(case3, 3, embed6)"
   ]
  },
  {
   "cell_type": "markdown",
   "metadata": {},
   "source": [
    "### What is this"
   ]
  },
  {
   "cell_type": "markdown",
   "metadata": {},
   "source": [
    "Something I realize is some topics such as Topic 4, topic 117 are recurrently appearing across businesses. This means the negative topics failed to generalize business specific information, but rather, making an observation of tendency that people conplain more about time when it comes to chinese restaurants"
   ]
  },
  {
   "cell_type": "code",
   "execution_count": null,
   "metadata": {
    "collapsed": true
   },
   "outputs": [],
   "source": []
  },
  {
   "cell_type": "markdown",
   "metadata": {},
   "source": [
    "# Preliminary time-series analysis"
   ]
  },
  {
   "cell_type": "markdown",
   "metadata": {},
   "source": [
    "We are going to compare the correlation between the *slope* of topics in a quarter and quarter offsets (quarter average - business average). Positive correlation means topics that the business wants the users to talk more in order to improve the business"
   ]
  },
  {
   "cell_type": "code",
   "execution_count": 30,
   "metadata": {
    "collapsed": true
   },
   "outputs": [],
   "source": [
    "def embed_by_enum(data, embedder, enum = 0, binary = False):\n",
    "    # select regions\n",
    "    if binary:\n",
    "        data = data[data['quarter_offset'] != 0]\n",
    "    label = data['quarter_offset']\n",
    "    # create labels\n",
    "    if enum == 2: \n",
    "        embed = np.array([embedder.augmented_embed_text(t) for t in data['text'].values])\n",
    "    elif enum == 3: \n",
    "        embed = np.array([embedder.user_tfidf_embed(t, u) for t, u in zip(data['text'].values, data['user_id'].values)])\n",
    "    elif enum == 4: \n",
    "        embed = np.array([embedder.user_tf_business_idf(t, b) for t, b in zip(data['text'].values, data['business_id'].values)])\n",
    "    elif enum == 5: \n",
    "        embed = np.array([embedder.user_tfidf_business_idf(t, u, b) for t, u, b in zip(data['text'].values, data['user_id'].values, data['business_id'].values)])\n",
    "    \n",
    "    elif enum == 0: \n",
    "        embed = np.array([embedder.embed(t) for t in data['text'].values])\n",
    "    elif enum == 1:\n",
    "        embed = np.array([embedder.embed_sent(t) for t in data['text'].values])\n",
    "    \n",
    "    elif enum == 6:\n",
    "        embed = np.array([embedder.augmented_tf_business_tfidf(t, b) for t, b in zip(data['text'].values, data['business_id'].values)])\n",
    "    else:\n",
    "        print ('enum {} is not supported'.format(enum))\n",
    "        return None\n",
    "    return embed, label"
   ]
  },
  {
   "cell_type": "code",
   "execution_count": 31,
   "metadata": {
    "collapsed": true
   },
   "outputs": [],
   "source": [
    "# helper to build sequential data, fitting a linear regression and taking a slope\n",
    "# on a side note, I also tried with SVR but the line of best fit tends to be horizontal, aka simply finding the average\n",
    "def build_data(df, enum):\n",
    "    qs = sorted(list(set(df['quarter'])))\n",
    "    X = []\n",
    "    y = []\n",
    "    for q in qs:\n",
    "        filtered = df[df['quarter'] == q]\n",
    "        embed, labels = embed_by_enum(filtered, embedder, enum)\n",
    "        \n",
    "        # fit on the sequence, store the slope\n",
    "        regr = LinearRegression()\n",
    "        regr.fit(np.arange(len(embed)).reshape(-1,1),embed)\n",
    "        X.append(regr.coef_.reshape(1,-1)[0])\n",
    "        \n",
    "        y.append(list(set(filtered['quarter_avg'].values))[0])\n",
    "    return np.array(X), np.array(y)"
   ]
  },
  {
   "cell_type": "markdown",
   "metadata": {},
   "source": [
    "## Case 1 - SUSHISAMBA (growing business)"
   ]
  },
  {
   "cell_type": "code",
   "execution_count": 32,
   "metadata": {},
   "outputs": [
    {
     "name": "stdout",
     "output_type": "stream",
     "text": [
      "CPU times: user 21.7 s, sys: 221 ms, total: 21.9 s\n",
      "Wall time: 5.5 s\n",
      "CPU times: user 50.6 s, sys: 486 ms, total: 51 s\n",
      "Wall time: 26.7 s\n",
      "CPU times: user 51.2 s, sys: 512 ms, total: 51.7 s\n",
      "Wall time: 27.5 s\n",
      "CPU times: user 52.1 s, sys: 747 ms, total: 52.8 s\n",
      "Wall time: 28.8 s\n"
     ]
    }
   ],
   "source": [
    "# embed (this takes longer)\n",
    "%time x,y = build_data(case2, 0)\n",
    "%time x1,y1 = build_data(case2, 1)\n",
    "%time x2,y2 = build_data(case2, 2)\n",
    "%time x6,y6 = build_data(case2, 6)"
   ]
  },
  {
   "cell_type": "code",
   "execution_count": 33,
   "metadata": {},
   "outputs": [
    {
     "name": "stdout",
     "output_type": "stream",
     "text": [
      "topic 2 : -0.44220115909922814\n",
      "0.019*\"time\" + 0.013*\"food\" + 0.013*\"card\" + 0.009*\"good\" + 0.009*\"service\"\n",
      "topic 119 : -0.4300698117557422\n",
      "0.023*\"food\" + 0.016*\"place\" + 0.012*\"time\" + 0.011*\"good\" + 0.010*\"great\"\n",
      "topic 38 : -0.383512239836539\n",
      "0.024*\"good\" + 0.019*\"food\" + 0.015*\"place\" + 0.013*\"restaurant\" + 0.011*\"noodles\"\n",
      "\n",
      "\n",
      "topic 51 : 0.4050825985131052\n",
      "0.016*\"place\" + 0.014*\"good\" + 0.012*\"like\" + 0.011*\"chinese\" + 0.010*\"soup\"\n",
      "topic 14 : 0.37801578848043915\n",
      "0.021*\"kim\" + 0.019*\"place\" + 0.015*\"long\" + 0.014*\"best\" + 0.014*\"food\"\n",
      "topic 56 : 0.3771069694999681\n",
      "0.018*\"dim\" + 0.018*\"sum\" + 0.015*\"place\" + 0.013*\"good\" + 0.010*\"pork\"\n"
     ]
    }
   ],
   "source": [
    "_ = find_min_max_coef(x, y - case2['business_stars'].values[0])"
   ]
  },
  {
   "cell_type": "code",
   "execution_count": 34,
   "metadata": {},
   "outputs": [
    {
     "name": "stdout",
     "output_type": "stream",
     "text": [
      "topic 47 : -0.5515558347216084\n",
      "0.028*\"table\" + 0.018*\"food\" + 0.018*\"came\" + 0.013*\"minutes\" + 0.013*\"seated\"\n",
      "topic 65 : -0.497332207209741\n",
      "0.022*\"food\" + 0.021*\"place\" + 0.021*\"pho\" + 0.015*\"good\" + 0.014*\"hong\"\n",
      "topic 107 : -0.44923552292437874\n",
      "0.018*\"food\" + 0.012*\"good\" + 0.011*\"time\" + 0.009*\"chinese\" + 0.008*\"chicken\"\n",
      "\n",
      "\n",
      "topic 124 : 0.3999594010491377\n",
      "0.071*\"sushi\" + 0.014*\"food\" + 0.013*\"roll\" + 0.011*\"buffet\" + 0.010*\"time\"\n",
      "topic 16 : 0.30817601282026247\n",
      "0.028*\"food\" + 0.016*\"good\" + 0.014*\"gluten\" + 0.011*\"free\" + 0.010*\"rice\"\n",
      "topic 70 : 0.28935271378981964\n",
      "0.014*\"place\" + 0.014*\"food\" + 0.012*\"dinner\" + 0.010*\"good\" + 0.008*\"chicken\"\n"
     ]
    }
   ],
   "source": [
    "_ = find_min_max_coef(x1, y1 - case2['business_stars'].values[0])"
   ]
  },
  {
   "cell_type": "code",
   "execution_count": 35,
   "metadata": {},
   "outputs": [
    {
     "name": "stdout",
     "output_type": "stream",
     "text": [
      "topic 47 : -0.44291109363566333\n",
      "0.028*\"table\" + 0.018*\"food\" + 0.018*\"came\" + 0.013*\"minutes\" + 0.013*\"seated\"\n",
      "topic 107 : -0.4353398705841415\n",
      "0.018*\"food\" + 0.012*\"good\" + 0.011*\"time\" + 0.009*\"chinese\" + 0.008*\"chicken\"\n",
      "topic 2 : -0.37268273705926597\n",
      "0.019*\"time\" + 0.013*\"food\" + 0.013*\"card\" + 0.009*\"good\" + 0.009*\"service\"\n",
      "\n",
      "\n",
      "topic 35 : 0.5467509603740632\n",
      "0.017*\"food\" + 0.016*\"chicken\" + 0.015*\"ve\" + 0.012*\"chinese\" + 0.011*\"restaurant\"\n",
      "topic 16 : 0.43879355907799505\n",
      "0.028*\"food\" + 0.016*\"good\" + 0.014*\"gluten\" + 0.011*\"free\" + 0.010*\"rice\"\n",
      "topic 14 : 0.4079383906930276\n",
      "0.021*\"kim\" + 0.019*\"place\" + 0.015*\"long\" + 0.014*\"best\" + 0.014*\"food\"\n"
     ]
    }
   ],
   "source": [
    "_ = find_min_max_coef(x2, y2 - case2['business_stars'].values[0])"
   ]
  },
  {
   "cell_type": "code",
   "execution_count": 36,
   "metadata": {},
   "outputs": [
    {
     "name": "stdout",
     "output_type": "stream",
     "text": [
      "topic 54 : -0.4687577530414638\n",
      "0.034*\"food\" + 0.015*\"place\" + 0.010*\"service\" + 0.010*\"good\" + 0.008*\"worth\"\n",
      "topic 116 : -0.4162200791606643\n",
      "0.023*\"good\" + 0.021*\"food\" + 0.018*\"place\" + 0.013*\"service\" + 0.011*\"restaurant\"\n",
      "topic 47 : -0.3968394860264019\n",
      "0.028*\"table\" + 0.018*\"food\" + 0.018*\"came\" + 0.013*\"minutes\" + 0.013*\"seated\"\n",
      "\n",
      "\n",
      "topic 74 : 0.4608176304152808\n",
      "0.028*\"food\" + 0.024*\"place\" + 0.014*\"good\" + 0.011*\"time\" + 0.010*\"service\"\n",
      "topic 56 : 0.4183418000162654\n",
      "0.018*\"dim\" + 0.018*\"sum\" + 0.015*\"place\" + 0.013*\"good\" + 0.010*\"pork\"\n",
      "topic 16 : 0.39145395719837384\n",
      "0.028*\"food\" + 0.016*\"good\" + 0.014*\"gluten\" + 0.011*\"free\" + 0.010*\"rice\"\n"
     ]
    }
   ],
   "source": [
    "_ = find_min_max_coef(x6, y6 - case2['business_stars'].values[0])"
   ]
  },
  {
   "cell_type": "markdown",
   "metadata": {
    "collapsed": true
   },
   "source": [
    "### What is this ?"
   ]
  },
  {
   "cell_type": "markdown",
   "metadata": {},
   "source": [
    "Now our observation is split by quarters (3 month period). For each quarter, we have an average rating for this period and an offset from the particular business rating. This metric represents how successful the given time period was. We are now, observing the sequence of latent topic embeddings and see if we can find any correlations between success of business over time. As a baseline analysis, I apply linear regression and compare the correlation between the coefficient of each topic (slope) and overall success of the quater. \n",
    "\n",
    "First of all, each topic has much greater correlation than I saw with earlier experiments. This means the sequence of topics have more significant meaning than the raw value of embedding itself. We can later validate which embedding is the best one by giving the classification task. \n",
    "\n",
    "Next, the results suggest the growth of some topics are highly correlated with the growth of business. Intuitively those topics are area the business should focus on more to improve their business. Some interesting topic that I observe across different embeddings are topic 16, which contains the word, 'gluten free'.\n",
    "\n",
    "Finally, the negative correlation means the topic which might hurt the business, if they focus on. Something I see particularly is topic 47 which is about 'serving time'. But this could also mean, 47 is inheritantly a complaint about bad serving time, and decrease in this topic could suggest their improvement in the serving time."
   ]
  },
  {
   "cell_type": "code",
   "execution_count": 37,
   "metadata": {},
   "outputs": [
    {
     "name": "stdout",
     "output_type": "stream",
     "text": [
      "CPU times: user 15.6 s, sys: 224 ms, total: 15.9 s\n",
      "Wall time: 3.99 s\n",
      "CPU times: user 37.6 s, sys: 299 ms, total: 37.9 s\n",
      "Wall time: 24.7 s\n",
      "CPU times: user 38 s, sys: 416 ms, total: 38.4 s\n",
      "Wall time: 25.3 s\n",
      "CPU times: user 37.9 s, sys: 275 ms, total: 38.1 s\n",
      "Wall time: 24.9 s\n"
     ]
    }
   ],
   "source": [
    "# embed (this takes longer)\n",
    "%time x,y = build_data(case3, 0)\n",
    "%time x1,y1 = build_data(case3, 1)\n",
    "%time x2,y2 = build_data(case3, 2)\n",
    "%time x6,y6 = build_data(case3, 6)"
   ]
  },
  {
   "cell_type": "code",
   "execution_count": 38,
   "metadata": {},
   "outputs": [
    {
     "name": "stdout",
     "output_type": "stream",
     "text": [
      "topic 72 : -0.5716319555932887\n",
      "0.012*\"good\" + 0.009*\"like\" + 0.007*\"service\" + 0.006*\"restaurant\" + 0.006*\"table\"\n",
      "topic 95 : -0.4955978939014464\n",
      "0.024*\"food\" + 0.016*\"chicken\" + 0.013*\"rice\" + 0.013*\"chinese\" + 0.012*\"chino\"\n",
      "topic 101 : -0.47748758591979645\n",
      "0.028*\"food\" + 0.020*\"place\" + 0.016*\"good\" + 0.015*\"service\" + 0.010*\"family\"\n",
      "\n",
      "\n",
      "topic 3 : 0.5802839716760156\n",
      "0.019*\"food\" + 0.019*\"place\" + 0.011*\"good\" + 0.009*\"ordered\" + 0.009*\"service\"\n",
      "topic 56 : 0.4849146070728298\n"
     ]
    },
    {
     "name": "stderr",
     "output_type": "stream",
     "text": [
      "/Users/kentatakatsu/anaconda/lib/python3.6/site-packages/numpy/lib/function_base.py:3003: RuntimeWarning: invalid value encountered in true_divide\n",
      "  c /= stddev[:, None]\n",
      "/Users/kentatakatsu/anaconda/lib/python3.6/site-packages/numpy/lib/function_base.py:3004: RuntimeWarning: invalid value encountered in true_divide\n",
      "  c /= stddev[None, :]\n"
     ]
    },
    {
     "name": "stdout",
     "output_type": "stream",
     "text": [
      "0.018*\"dim\" + 0.018*\"sum\" + 0.015*\"place\" + 0.013*\"good\" + 0.010*\"pork\"\n",
      "topic 21 : 0.46979581644626445\n",
      "0.088*\"dim\" + 0.087*\"sum\" + 0.018*\"good\" + 0.015*\"food\" + 0.014*\"place\"\n"
     ]
    }
   ],
   "source": [
    "_ = find_min_max_coef(x, y - case3['business_stars'].values[0])"
   ]
  },
  {
   "cell_type": "code",
   "execution_count": 39,
   "metadata": {},
   "outputs": [
    {
     "name": "stdout",
     "output_type": "stream",
     "text": [
      "topic 72 : -0.6900671000558449\n",
      "0.012*\"good\" + 0.009*\"like\" + 0.007*\"service\" + 0.006*\"restaurant\" + 0.006*\"table\"\n",
      "topic 74 : -0.44968504131174175\n",
      "0.028*\"food\" + 0.024*\"place\" + 0.014*\"good\" + 0.011*\"time\" + 0.010*\"service\"\n",
      "topic 26 : -0.44449191012912137\n",
      "0.015*\"food\" + 0.014*\"nice\" + 0.012*\"restaurant\" + 0.011*\"time\" + 0.010*\"ramen\"\n",
      "\n",
      "\n",
      "topic 32 : 0.6350548290809714\n",
      "0.033*\"food\" + 0.029*\"delivery\" + 0.016*\"ordered\" + 0.015*\"chicken\" + 0.015*\"order\"\n",
      "topic 115 : 0.5183795150657069\n",
      "0.011*\"food\" + 0.010*\"pork\" + 0.008*\"vegan\" + 0.008*\"restaurant\" + 0.008*\"service\"\n",
      "topic 66 : 0.5174240238916217\n",
      "0.019*\"good\" + 0.011*\"time\" + 0.010*\"food\" + 0.008*\"beef\" + 0.008*\"like\"\n"
     ]
    }
   ],
   "source": [
    "_ = find_min_max_coef(x1, y1 - case3['business_stars'].values[0])"
   ]
  },
  {
   "cell_type": "code",
   "execution_count": 40,
   "metadata": {},
   "outputs": [
    {
     "name": "stdout",
     "output_type": "stream",
     "text": [
      "topic 72 : -0.6661964791892225\n",
      "0.012*\"good\" + 0.009*\"like\" + 0.007*\"service\" + 0.006*\"restaurant\" + 0.006*\"table\"\n",
      "topic 122 : -0.5273809735078623\n",
      "0.024*\"food\" + 0.019*\"restaurant\" + 0.016*\"place\" + 0.010*\"location\" + 0.010*\"chinese\"\n",
      "topic 95 : -0.5248901932340281\n",
      "0.024*\"food\" + 0.016*\"chicken\" + 0.013*\"rice\" + 0.013*\"chinese\" + 0.012*\"chino\"\n",
      "\n",
      "\n",
      "topic 66 : 0.5416356254403903\n",
      "0.019*\"good\" + 0.011*\"time\" + 0.010*\"food\" + 0.008*\"beef\" + 0.008*\"like\"\n",
      "topic 12 : 0.45445223756355346\n",
      "0.064*\"duck\" + 0.025*\"food\" + 0.021*\"roast\" + 0.014*\"chinese\" + 0.013*\"place\"\n",
      "topic 127 : 0.4276041486387412\n",
      "0.030*\"food\" + 0.016*\"chinese\" + 0.016*\"place\" + 0.011*\"good\" + 0.010*\"service\"\n"
     ]
    }
   ],
   "source": [
    "_ = find_min_max_coef(x2, y2 - case3['business_stars'].values[0])"
   ]
  },
  {
   "cell_type": "code",
   "execution_count": 42,
   "metadata": {},
   "outputs": [
    {
     "name": "stdout",
     "output_type": "stream",
     "text": [
      "topic 72 : -0.67007887142119\n",
      "0.012*\"good\" + 0.009*\"like\" + 0.007*\"service\" + 0.006*\"restaurant\" + 0.006*\"table\"\n",
      "topic 95 : -0.5994992419590737\n",
      "0.024*\"food\" + 0.016*\"chicken\" + 0.013*\"rice\" + 0.013*\"chinese\" + 0.012*\"chino\"\n",
      "topic 44 : -0.45989830774238244\n",
      "0.018*\"chinese\" + 0.015*\"food\" + 0.015*\"good\" + 0.015*\"pepper\" + 0.012*\"ribs\"\n",
      "\n",
      "\n",
      "topic 12 : 0.5594267160034957\n",
      "0.064*\"duck\" + 0.025*\"food\" + 0.021*\"roast\" + 0.014*\"chinese\" + 0.013*\"place\"\n",
      "topic 66 : 0.5044929662273185\n",
      "0.019*\"good\" + 0.011*\"time\" + 0.010*\"food\" + 0.008*\"beef\" + 0.008*\"like\"\n",
      "topic 41 : 0.5000108570196163\n",
      "0.018*\"food\" + 0.014*\"order\" + 0.013*\"good\" + 0.013*\"place\" + 0.011*\"hotpot\"\n"
     ]
    }
   ],
   "source": [
    "_ = find_min_max_coef(x6, y6 - case3['business_stars'].values[0])"
   ]
  },
  {
   "cell_type": "markdown",
   "metadata": {},
   "source": [
    "### What is this"
   ]
  },
  {
   "cell_type": "markdown",
   "metadata": {},
   "source": [
    "Something very imteresting here is the result seems completely different across businesses. For example, positive topics here incluse many food related vocabulary such as 'pork', 'duck', and 'roast'. This suggests that the business does best when their food is popular. "
   ]
  }
 ],
 "metadata": {
  "kernelspec": {
   "display_name": "Python 3",
   "language": "python",
   "name": "python3"
  },
  "language_info": {
   "codemirror_mode": {
    "name": "ipython",
    "version": 3
   },
   "file_extension": ".py",
   "mimetype": "text/x-python",
   "name": "python",
   "nbconvert_exporter": "python",
   "pygments_lexer": "ipython3",
   "version": "3.6.1"
  }
 },
 "nbformat": 4,
 "nbformat_minor": 2
}
