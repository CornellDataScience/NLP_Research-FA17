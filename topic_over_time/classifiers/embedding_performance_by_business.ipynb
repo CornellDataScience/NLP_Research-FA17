{
 "cells": [
  {
   "cell_type": "code",
   "execution_count": 81,
   "metadata": {
    "collapsed": true
   },
   "outputs": [],
   "source": [
    "from text_embedder import TextEmbedder\n",
    "from gensim import corpora, models\n",
    "import pandas as pd\n",
    "import pickle\n",
    "import matplotlib.pyplot as plt\n",
    "from xgboost import XGBClassifier\n",
    "import numpy as np\n",
    "from sklearn.model_selection import train_test_split\n",
    "from sklearn.metrics import confusion_matrix"
   ]
  },
  {
   "cell_type": "code",
   "execution_count": 2,
   "metadata": {
    "collapsed": true
   },
   "outputs": [],
   "source": [
    "# load pre-trained data\n",
    "business = pd.read_csv('../data/chinese_business_clean.csv')\n",
    "reviews = pd.read_csv('../data/chinese_reviews_clean_offsets.csv')\n",
    "reviews['date_tuple'] = [eval(i) for i in reviews['date_tuple']]\n",
    "\n",
    "# load gensim model\n",
    "lda =  models.LdaModel.load('../data/gensim/lda.model')\n",
    "dictionary = corpora.Dictionary.load('../data/gensim/chinsese_dict.dict')\n",
    "\n",
    "# load idf matrices\n",
    "with open('../data/u_idf.pickle', 'rb') as f:\n",
    "    uidf_data = pickle.load(f)\n",
    "with open('../data/b_idf.pickle', 'rb') as f:\n",
    "    bidf_data = pickle.load(f)"
   ]
  },
  {
   "cell_type": "code",
   "execution_count": 3,
   "metadata": {
    "collapsed": true
   },
   "outputs": [],
   "source": [
    "embedder = TextEmbedder(model = lda, dictionary = dictionary, user_idf = uidf_data, business_idf = bidf_data)"
   ]
  },
  {
   "cell_type": "code",
   "execution_count": 11,
   "metadata": {},
   "outputs": [
    {
     "data": {
      "text/html": [
       "<div>\n",
       "<style>\n",
       "    .dataframe thead tr:only-child th {\n",
       "        text-align: right;\n",
       "    }\n",
       "\n",
       "    .dataframe thead th {\n",
       "        text-align: left;\n",
       "    }\n",
       "\n",
       "    .dataframe tbody tr th {\n",
       "        vertical-align: top;\n",
       "    }\n",
       "</style>\n",
       "<table border=\"1\" class=\"dataframe\">\n",
       "  <thead>\n",
       "    <tr style=\"text-align: right;\">\n",
       "      <th></th>\n",
       "      <th>business_id</th>\n",
       "      <th>quater</th>\n",
       "      <th>quater_avg</th>\n",
       "      <th>review_id</th>\n",
       "      <th>stars</th>\n",
       "      <th>text</th>\n",
       "      <th>user_id</th>\n",
       "      <th>offset</th>\n",
       "      <th>date_tuple</th>\n",
       "      <th>business_stars</th>\n",
       "      <th>business_offset</th>\n",
       "      <th>quater_offset</th>\n",
       "    </tr>\n",
       "  </thead>\n",
       "  <tbody>\n",
       "    <tr>\n",
       "      <th>3691</th>\n",
       "      <td>yfxDa8RFOvJPQh0rNtakHA</td>\n",
       "      <td>2380</td>\n",
       "      <td>2380</td>\n",
       "      <td>2380</td>\n",
       "      <td>2380</td>\n",
       "      <td>2380</td>\n",
       "      <td>2380</td>\n",
       "      <td>2380</td>\n",
       "      <td>2380</td>\n",
       "      <td>2380</td>\n",
       "      <td>2380</td>\n",
       "      <td>2380</td>\n",
       "    </tr>\n",
       "    <tr>\n",
       "      <th>3087</th>\n",
       "      <td>pH0BLkL4cbxKzu471VZnuA</td>\n",
       "      <td>1948</td>\n",
       "      <td>1948</td>\n",
       "      <td>1948</td>\n",
       "      <td>1948</td>\n",
       "      <td>1948</td>\n",
       "      <td>1948</td>\n",
       "      <td>1948</td>\n",
       "      <td>1948</td>\n",
       "      <td>1948</td>\n",
       "      <td>1948</td>\n",
       "      <td>1948</td>\n",
       "    </tr>\n",
       "    <tr>\n",
       "      <th>1944</th>\n",
       "      <td>X8c23dur0ll2D9XTu-I8Qg</td>\n",
       "      <td>1525</td>\n",
       "      <td>1525</td>\n",
       "      <td>1525</td>\n",
       "      <td>1525</td>\n",
       "      <td>1525</td>\n",
       "      <td>1525</td>\n",
       "      <td>1525</td>\n",
       "      <td>1525</td>\n",
       "      <td>1525</td>\n",
       "      <td>1525</td>\n",
       "      <td>1525</td>\n",
       "    </tr>\n",
       "    <tr>\n",
       "      <th>953</th>\n",
       "      <td>GJ_bXUPv672YwNg4TneJog</td>\n",
       "      <td>1302</td>\n",
       "      <td>1302</td>\n",
       "      <td>1302</td>\n",
       "      <td>1302</td>\n",
       "      <td>1302</td>\n",
       "      <td>1302</td>\n",
       "      <td>1302</td>\n",
       "      <td>1302</td>\n",
       "      <td>1302</td>\n",
       "      <td>1302</td>\n",
       "      <td>1302</td>\n",
       "    </tr>\n",
       "    <tr>\n",
       "      <th>2312</th>\n",
       "      <td>cHdJXLlKNWixBXpDwEGb_A</td>\n",
       "      <td>1246</td>\n",
       "      <td>1246</td>\n",
       "      <td>1246</td>\n",
       "      <td>1246</td>\n",
       "      <td>1246</td>\n",
       "      <td>1246</td>\n",
       "      <td>1246</td>\n",
       "      <td>1246</td>\n",
       "      <td>1246</td>\n",
       "      <td>1246</td>\n",
       "      <td>1246</td>\n",
       "    </tr>\n",
       "    <tr>\n",
       "      <th>2143</th>\n",
       "      <td>_j2EtQtgLuXGRBfbM5YwZA</td>\n",
       "      <td>897</td>\n",
       "      <td>897</td>\n",
       "      <td>897</td>\n",
       "      <td>897</td>\n",
       "      <td>897</td>\n",
       "      <td>897</td>\n",
       "      <td>897</td>\n",
       "      <td>897</td>\n",
       "      <td>897</td>\n",
       "      <td>897</td>\n",
       "      <td>897</td>\n",
       "    </tr>\n",
       "    <tr>\n",
       "      <th>727</th>\n",
       "      <td>CCRgGKhzxSpl38w7yhqKUw</td>\n",
       "      <td>848</td>\n",
       "      <td>848</td>\n",
       "      <td>848</td>\n",
       "      <td>848</td>\n",
       "      <td>848</td>\n",
       "      <td>848</td>\n",
       "      <td>848</td>\n",
       "      <td>848</td>\n",
       "      <td>848</td>\n",
       "      <td>848</td>\n",
       "      <td>848</td>\n",
       "    </tr>\n",
       "  </tbody>\n",
       "</table>\n",
       "</div>"
      ],
      "text/plain": [
       "                 business_id  quater  quater_avg  review_id  stars  text  \\\n",
       "3691  yfxDa8RFOvJPQh0rNtakHA    2380        2380       2380   2380  2380   \n",
       "3087  pH0BLkL4cbxKzu471VZnuA    1948        1948       1948   1948  1948   \n",
       "1944  X8c23dur0ll2D9XTu-I8Qg    1525        1525       1525   1525  1525   \n",
       "953   GJ_bXUPv672YwNg4TneJog    1302        1302       1302   1302  1302   \n",
       "2312  cHdJXLlKNWixBXpDwEGb_A    1246        1246       1246   1246  1246   \n",
       "2143  _j2EtQtgLuXGRBfbM5YwZA     897         897        897    897   897   \n",
       "727   CCRgGKhzxSpl38w7yhqKUw     848         848        848    848   848   \n",
       "\n",
       "      user_id  offset  date_tuple  business_stars  business_offset  \\\n",
       "3691     2380    2380        2380            2380             2380   \n",
       "3087     1948    1948        1948            1948             1948   \n",
       "1944     1525    1525        1525            1525             1525   \n",
       "953      1302    1302        1302            1302             1302   \n",
       "2312     1246    1246        1246            1246             1246   \n",
       "2143      897     897         897             897              897   \n",
       "727       848     848         848             848              848   \n",
       "\n",
       "      quater_offset  \n",
       "3691           2380  \n",
       "3087           1948  \n",
       "1944           1525  \n",
       "953            1302  \n",
       "2312           1246  \n",
       "2143            897  \n",
       "727             848  "
      ]
     },
     "execution_count": 11,
     "metadata": {},
     "output_type": "execute_result"
    }
   ],
   "source": [
    "reviews.groupby('business_id').count().reset_index().sort_values(by = 'review_id', ascending = False).head(7)"
   ]
  },
  {
   "cell_type": "code",
   "execution_count": 131,
   "metadata": {
    "collapsed": true
   },
   "outputs": [],
   "source": [
    "case1 = reviews[reviews['business_id'] == 'yfxDa8RFOvJPQh0rNtakHA']\n",
    "case2 = reviews[reviews['business_id'] == 'pH0BLkL4cbxKzu471VZnuA']\n",
    "case3 = reviews[reviews['business_id'] == 'X8c23dur0ll2D9XTu-I8Qg']\n",
    "case4 = reviews[reviews['business_id'] == 'GJ_bXUPv672YwNg4TneJog']\n",
    "case5 = reviews[reviews['business_id'] == 'cHdJXLlKNWixBXpDwEGb_A']"
   ]
  },
  {
   "cell_type": "code",
   "execution_count": 27,
   "metadata": {},
   "outputs": [
    {
     "data": {
      "image/png": "[encoded data removed]",
      "text/plain": [
       "<matplotlib.figure.Figure at 0x1a21ea9ef0>"
      ]
     },
     "metadata": {},
     "output_type": "display_data"
    }
   ],
   "source": [
    "plt.plot(case1.sort_values(by= 'quater')['quater_avg'].values)\n",
    "plt.show()"
   ]
  },
  {
   "cell_type": "markdown",
   "metadata": {},
   "source": [
    "## Can xgb perform well to predict business offset"
   ]
  },
  {
   "cell_type": "code",
   "execution_count": 33,
   "metadata": {
    "collapsed": true
   },
   "outputs": [],
   "source": [
    "def mapping(x):\n",
    "    if x < 0:\n",
    "        return 0\n",
    "    else:\n",
    "        return int(x!=0)+1"
   ]
  },
  {
   "cell_type": "code",
   "execution_count": 73,
   "metadata": {},
   "outputs": [],
   "source": [
    "# try basic methods with January of 2013 - 2017\n",
    "def embed_by_enum(data, embedder, enum = 0, binary = False):\n",
    "    # select regions\n",
    "    if binary:\n",
    "        data = data[data['business_offset'] != 0]\n",
    "    label = [mapping(b) for b in data['business_offset']]\n",
    "    # create labels\n",
    "    if enum == 0: \n",
    "        embed = np.array([embedder.augmented_embed_text(t) for t in data['text'].values])\n",
    "    elif enum == 1: \n",
    "        embed = np.array([embedder.user_tfidf_embed(t, u) for t, u in zip(data['text'].values, data['user_id'].values)])\n",
    "    elif enum == 2: \n",
    "        embed = np.array([embedder.user_tf_business_idf(t, b) for t, b in zip(data['text'].values, data['business_id'].values)])\n",
    "    elif enum == 3: \n",
    "        embed = np.array([embedder.user_tfidf_business_idf(t, u, b) for t, u, b in zip(data['text'].values, data['user_id'].values, data['business_id'].values)])\n",
    "    elif enum == 4: \n",
    "        embed = np.array([embedder.embed(t) for t in data['text'].values])\n",
    "    elif enum == 5:\n",
    "        embed = np.array([embedder.embed_sent(t) for t in data['text'].values])\n",
    "    else:\n",
    "        print ('enum {} is not supported'.format(enum))\n",
    "        return None\n",
    "    return embed, label"
   ]
  },
  {
   "cell_type": "code",
   "execution_count": 55,
   "metadata": {},
   "outputs": [
    {
     "name": "stdout",
     "output_type": "stream",
     "text": [
      "CPU times: user 29.2 s, sys: 126 ms, total: 29.3 s\n",
      "Wall time: 27.4 s\n"
     ]
    }
   ],
   "source": [
    "%time x0, y0 = embed_by_enum(case1, embedder, enum = 0)"
   ]
  },
  {
   "cell_type": "code",
   "execution_count": 56,
   "metadata": {},
   "outputs": [
    {
     "name": "stdout",
     "output_type": "stream",
     "text": [
      "CPU times: user 29.8 s, sys: 111 ms, total: 29.9 s\n",
      "Wall time: 28 s\n"
     ]
    }
   ],
   "source": [
    "%time x1, y1 = embed_by_enum(case1, embedder, enum = 1)"
   ]
  },
  {
   "cell_type": "code",
   "execution_count": 59,
   "metadata": {},
   "outputs": [
    {
     "name": "stdout",
     "output_type": "stream",
     "text": [
      "CPU times: user 30.4 s, sys: 129 ms, total: 30.5 s\n",
      "Wall time: 28.7 s\n"
     ]
    }
   ],
   "source": [
    "%time x2, y2 = embed_by_enum(case1, embedder, enum = 2)"
   ]
  },
  {
   "cell_type": "code",
   "execution_count": 60,
   "metadata": {},
   "outputs": [
    {
     "name": "stdout",
     "output_type": "stream",
     "text": [
      "CPU times: user 29.9 s, sys: 89.7 ms, total: 30 s\n",
      "Wall time: 28.1 s\n"
     ]
    }
   ],
   "source": [
    "%time x3, y3 = embed_by_enum(case1, embedder, enum = 3)"
   ]
  },
  {
   "cell_type": "code",
   "execution_count": 74,
   "metadata": {},
   "outputs": [
    {
     "name": "stdout",
     "output_type": "stream",
     "text": [
      "CPU times: user 24.4 s, sys: 388 ms, total: 24.8 s\n",
      "Wall time: 6.25 s\n"
     ]
    }
   ],
   "source": [
    "%time x_base, y_base = embed_by_enum(case1, embedder, enum = 4)"
   ]
  },
  {
   "cell_type": "code",
   "execution_count": 75,
   "metadata": {},
   "outputs": [
    {
     "name": "stdout",
     "output_type": "stream",
     "text": [
      "CPU times: user 28.3 s, sys: 75.1 ms, total: 28.4 s\n",
      "Wall time: 26.5 s\n"
     ]
    }
   ],
   "source": [
    "%time x_base_s, y_base_s = embed_by_enum(case1, embedder, enum = 5)"
   ]
  },
  {
   "cell_type": "markdown",
   "metadata": {},
   "source": [
    "## Baseline "
   ]
  },
  {
   "cell_type": "code",
   "execution_count": 79,
   "metadata": {},
   "outputs": [
    {
     "data": {
      "text/plain": [
       "XGBClassifier(base_score=0.5, booster='gbtree', colsample_bylevel=1,\n",
       "       colsample_bytree=1, gamma=0, learning_rate=0.1, max_delta_step=0,\n",
       "       max_depth=3, min_child_weight=1, missing=None, n_estimators=100,\n",
       "       n_jobs=1, nthread=None, objective='binary:logistic', random_state=0,\n",
       "       reg_alpha=0, reg_lambda=1, scale_pos_weight=1, seed=None,\n",
       "       silent=True, subsample=1)"
      ]
     },
     "execution_count": 79,
     "metadata": {},
     "output_type": "execute_result"
    }
   ],
   "source": [
    "X_train, X_test, y_train, y_test = train_test_split(x_base, y_base, test_size=0.2)\n",
    "model = XGBClassifier()\n",
    "model.fit(X_train, y_train)"
   ]
  },
  {
   "cell_type": "code",
   "execution_count": 84,
   "metadata": {
    "collapsed": true
   },
   "outputs": [],
   "source": [
    "def cmat_to_accuracy(mat):\n",
    "    size = len(mat)\n",
    "    total = sum(sum(mat))\n",
    "    correct = 0\n",
    "    for i in range(size):\n",
    "        correct += mat[i,i]\n",
    "    return correct/total"
   ]
  },
  {
   "cell_type": "code",
   "execution_count": 85,
   "metadata": {},
   "outputs": [
    {
     "data": {
      "text/plain": [
       "array([[118,  39],\n",
       "       [103, 216]])"
      ]
     },
     "execution_count": 85,
     "metadata": {},
     "output_type": "execute_result"
    }
   ],
   "source": [
    "m = confusion_matrix(model.predict(X_test), y_test)\n",
    "m"
   ]
  },
  {
   "cell_type": "code",
   "execution_count": 86,
   "metadata": {},
   "outputs": [
    {
     "data": {
      "text/plain": [
       "0.70168067226890751"
      ]
     },
     "execution_count": 86,
     "metadata": {},
     "output_type": "execute_result"
    }
   ],
   "source": [
    "cmat_to_accuracy(m)"
   ]
  },
  {
   "cell_type": "markdown",
   "metadata": {},
   "source": [
    "## Baseline2"
   ]
  },
  {
   "cell_type": "code",
   "execution_count": 138,
   "metadata": {},
   "outputs": [
    {
     "data": {
      "text/plain": [
       "XGBClassifier(base_score=0.5, booster='gbtree', colsample_bylevel=1,\n",
       "       colsample_bytree=1, gamma=0, learning_rate=0.1, max_delta_step=0,\n",
       "       max_depth=3, min_child_weight=1, missing=None, n_estimators=100,\n",
       "       n_jobs=1, nthread=None, objective='binary:logistic', random_state=0,\n",
       "       reg_alpha=0, reg_lambda=1, scale_pos_weight=1, seed=None,\n",
       "       silent=True, subsample=1)"
      ]
     },
     "execution_count": 138,
     "metadata": {},
     "output_type": "execute_result"
    }
   ],
   "source": [
    "X_train, X_test, y_train, y_test = train_test_split(x_base_s, y_base_s, test_size=0.2)\n",
    "model = XGBClassifier()\n",
    "model.fit(X_train, y_train)"
   ]
  },
  {
   "cell_type": "code",
   "execution_count": 139,
   "metadata": {},
   "outputs": [
    {
     "data": {
      "text/plain": [
       "array([[135,  37],\n",
       "       [ 92, 212]])"
      ]
     },
     "execution_count": 139,
     "metadata": {},
     "output_type": "execute_result"
    }
   ],
   "source": [
    "m = confusion_matrix(model.predict(X_test), y_test)\n",
    "m"
   ]
  },
  {
   "cell_type": "code",
   "execution_count": 140,
   "metadata": {},
   "outputs": [
    {
     "data": {
      "text/plain": [
       "0.72899159663865543"
      ]
     },
     "execution_count": 140,
     "metadata": {},
     "output_type": "execute_result"
    }
   ],
   "source": [
    "cmat_to_accuracy(m)"
   ]
  },
  {
   "cell_type": "markdown",
   "metadata": {},
   "source": [
    "## Embedding1"
   ]
  },
  {
   "cell_type": "code",
   "execution_count": 141,
   "metadata": {},
   "outputs": [
    {
     "data": {
      "text/plain": [
       "XGBClassifier(base_score=0.5, booster='gbtree', colsample_bylevel=1,\n",
       "       colsample_bytree=1, gamma=0, learning_rate=0.1, max_delta_step=0,\n",
       "       max_depth=3, min_child_weight=1, missing=None, n_estimators=100,\n",
       "       n_jobs=1, nthread=None, objective='binary:logistic', random_state=0,\n",
       "       reg_alpha=0, reg_lambda=1, scale_pos_weight=1, seed=None,\n",
       "       silent=True, subsample=1)"
      ]
     },
     "execution_count": 141,
     "metadata": {},
     "output_type": "execute_result"
    }
   ],
   "source": [
    "X_train, X_test, y_train, y_test = train_test_split(x0, y0, test_size=0.2)\n",
    "model = XGBClassifier()\n",
    "model.fit(X_train, y_train)"
   ]
  },
  {
   "cell_type": "code",
   "execution_count": 142,
   "metadata": {},
   "outputs": [
    {
     "data": {
      "text/plain": [
       "array([[139,  55],\n",
       "       [ 89, 193]])"
      ]
     },
     "execution_count": 142,
     "metadata": {},
     "output_type": "execute_result"
    }
   ],
   "source": [
    "m = confusion_matrix(model.predict(X_test), y_test)\n",
    "m"
   ]
  },
  {
   "cell_type": "code",
   "execution_count": 143,
   "metadata": {},
   "outputs": [
    {
     "data": {
      "text/plain": [
       "0.69747899159663862"
      ]
     },
     "execution_count": 143,
     "metadata": {},
     "output_type": "execute_result"
    }
   ],
   "source": [
    "cmat_to_accuracy(m)"
   ]
  },
  {
   "cell_type": "markdown",
   "metadata": {},
   "source": [
    "## Embedding2"
   ]
  },
  {
   "cell_type": "code",
   "execution_count": 144,
   "metadata": {},
   "outputs": [
    {
     "data": {
      "text/plain": [
       "XGBClassifier(base_score=0.5, booster='gbtree', colsample_bylevel=1,\n",
       "       colsample_bytree=1, gamma=0, learning_rate=0.1, max_delta_step=0,\n",
       "       max_depth=3, min_child_weight=1, missing=None, n_estimators=100,\n",
       "       n_jobs=1, nthread=None, objective='binary:logistic', random_state=0,\n",
       "       reg_alpha=0, reg_lambda=1, scale_pos_weight=1, seed=None,\n",
       "       silent=True, subsample=1)"
      ]
     },
     "execution_count": 144,
     "metadata": {},
     "output_type": "execute_result"
    }
   ],
   "source": [
    "X_train, X_test, y_train, y_test = train_test_split(x1, y1, test_size=0.2)\n",
    "model = XGBClassifier()\n",
    "model.fit(X_train, y_train)"
   ]
  },
  {
   "cell_type": "code",
   "execution_count": 145,
   "metadata": {},
   "outputs": [
    {
     "data": {
      "text/plain": [
       "array([[132,  58],\n",
       "       [ 91, 195]])"
      ]
     },
     "execution_count": 145,
     "metadata": {},
     "output_type": "execute_result"
    }
   ],
   "source": [
    "m = confusion_matrix(model.predict(X_test), y_test)\n",
    "m"
   ]
  },
  {
   "cell_type": "code",
   "execution_count": 146,
   "metadata": {},
   "outputs": [
    {
     "data": {
      "text/plain": [
       "0.68697478991596639"
      ]
     },
     "execution_count": 146,
     "metadata": {},
     "output_type": "execute_result"
    }
   ],
   "source": [
    "cmat_to_accuracy(m)"
   ]
  },
  {
   "cell_type": "markdown",
   "metadata": {},
   "source": [
    "## Embedding3"
   ]
  },
  {
   "cell_type": "code",
   "execution_count": 147,
   "metadata": {},
   "outputs": [
    {
     "data": {
      "text/plain": [
       "XGBClassifier(base_score=0.5, booster='gbtree', colsample_bylevel=1,\n",
       "       colsample_bytree=1, gamma=0, learning_rate=0.1, max_delta_step=0,\n",
       "       max_depth=3, min_child_weight=1, missing=None, n_estimators=100,\n",
       "       n_jobs=1, nthread=None, objective='binary:logistic', random_state=0,\n",
       "       reg_alpha=0, reg_lambda=1, scale_pos_weight=1, seed=None,\n",
       "       silent=True, subsample=1)"
      ]
     },
     "execution_count": 147,
     "metadata": {},
     "output_type": "execute_result"
    }
   ],
   "source": [
    "X_train, X_test, y_train, y_test = train_test_split(x2, y2, test_size=0.2)\n",
    "model = XGBClassifier()\n",
    "model.fit(X_train, y_train)"
   ]
  },
  {
   "cell_type": "code",
   "execution_count": 148,
   "metadata": {},
   "outputs": [
    {
     "data": {
      "text/plain": [
       "array([[139,  43],\n",
       "       [ 97, 197]])"
      ]
     },
     "execution_count": 148,
     "metadata": {},
     "output_type": "execute_result"
    }
   ],
   "source": [
    "m = confusion_matrix(model.predict(X_test), y_test)\n",
    "m"
   ]
  },
  {
   "cell_type": "code",
   "execution_count": 149,
   "metadata": {},
   "outputs": [
    {
     "data": {
      "text/plain": [
       "0.70588235294117652"
      ]
     },
     "execution_count": 149,
     "metadata": {},
     "output_type": "execute_result"
    }
   ],
   "source": [
    "cmat_to_accuracy(m)"
   ]
  },
  {
   "cell_type": "markdown",
   "metadata": {},
   "source": [
    "## Embedding4"
   ]
  },
  {
   "cell_type": "code",
   "execution_count": 150,
   "metadata": {},
   "outputs": [
    {
     "data": {
      "text/plain": [
       "XGBClassifier(base_score=0.5, booster='gbtree', colsample_bylevel=1,\n",
       "       colsample_bytree=1, gamma=0, learning_rate=0.1, max_delta_step=0,\n",
       "       max_depth=3, min_child_weight=1, missing=None, n_estimators=100,\n",
       "       n_jobs=1, nthread=None, objective='binary:logistic', random_state=0,\n",
       "       reg_alpha=0, reg_lambda=1, scale_pos_weight=1, seed=None,\n",
       "       silent=True, subsample=1)"
      ]
     },
     "execution_count": 150,
     "metadata": {},
     "output_type": "execute_result"
    }
   ],
   "source": [
    "X_train, X_test, y_train, y_test = train_test_split(x3, y3, test_size=0.2)\n",
    "model = XGBClassifier()\n",
    "model.fit(X_train, y_train)"
   ]
  },
  {
   "cell_type": "code",
   "execution_count": 151,
   "metadata": {},
   "outputs": [
    {
     "data": {
      "text/plain": [
       "array([[125,  54],\n",
       "       [ 86, 211]])"
      ]
     },
     "execution_count": 151,
     "metadata": {},
     "output_type": "execute_result"
    }
   ],
   "source": [
    "m = confusion_matrix(model.predict(X_test), y_test)\n",
    "m"
   ]
  },
  {
   "cell_type": "code",
   "execution_count": 152,
   "metadata": {},
   "outputs": [
    {
     "data": {
      "text/plain": [
       "0.70588235294117652"
      ]
     },
     "execution_count": 152,
     "metadata": {},
     "output_type": "execute_result"
    }
   ],
   "source": [
    "cmat_to_accuracy(m)"
   ]
  },
  {
   "cell_type": "code",
   "execution_count": 162,
   "metadata": {
    "collapsed": true
   },
   "outputs": [],
   "source": [
    "def experiments(xs, ys, models):\n",
    "    for x, y, mod in zip(xs,ys,models):\n",
    "        X_train, X_test, y_train, y_test = train_test_split(x, y, test_size=0.2)\n",
    "        model = XGBClassifier()\n",
    "        model.fit(X_train, y_train)\n",
    "        m = confusion_matrix(model.predict(X_test), y_test)\n",
    "        print (str(mod) + ' : {}'.format(cmat_to_accuracy(m)))"
   ]
  },
  {
   "cell_type": "code",
   "execution_count": 165,
   "metadata": {},
   "outputs": [
    {
     "name": "stdout",
     "output_type": "stream",
     "text": [
      "base1 : 0.726890756302521\n",
      "base2 : 0.7058823529411765\n",
      "embedding1 : 0.7247899159663865\n",
      "embedding2 : 0.6932773109243697\n",
      "embedding3 : 0.7247899159663865\n",
      "embedding4 : 0.6785714285714286\n"
     ]
    }
   ],
   "source": [
    "experiments([x_base,x_base_s,x0,x1,x2,x3], [y_base,y_base_s,y0,y1,y2,y3], ['base1','base2','embedding1','embedding2', 'embedding3', 'embedding4'])"
   ]
  },
  {
   "cell_type": "code",
   "execution_count": 166,
   "metadata": {
    "collapsed": true
   },
   "outputs": [],
   "source": [
    "x0, y0 = embed_by_enum(case2, embedder, enum = 0)\n",
    "x1, y1 = embed_by_enum(case2, embedder, enum = 1)\n",
    "x2, y2 = embed_by_enum(case2, embedder, enum = 2)\n",
    "x3, y3 = embed_by_enum(case2, embedder, enum = 3)\n",
    "x_base, y_base = embed_by_enum(case2, embedder, enum = 4)\n",
    "x_base_s, y_base_s = embed_by_enum(case2, embedder, enum = 5)"
   ]
  },
  {
   "cell_type": "code",
   "execution_count": 167,
   "metadata": {},
   "outputs": [
    {
     "name": "stdout",
     "output_type": "stream",
     "text": [
      "base1 : 0.5564102564102564\n",
      "base2 : 0.5307692307692308\n",
      "embedding1 : 0.5487179487179488\n",
      "embedding2 : 0.5128205128205128\n",
      "embedding3 : 0.5512820512820513\n",
      "embedding4 : 0.558974358974359\n"
     ]
    }
   ],
   "source": [
    "experiments([x_base,x_base_s,x0,x1,x2,x3], [y_base,y_base_s,y0,y1,y2,y3], ['base1','base2','embedding1','embedding2', 'embedding3', 'embedding4'])"
   ]
  },
  {
   "cell_type": "code",
   "execution_count": 168,
   "metadata": {
    "collapsed": true
   },
   "outputs": [],
   "source": [
    "x0, y0 = embed_by_enum(case3, embedder, enum = 0)\n",
    "x1, y1 = embed_by_enum(case3, embedder, enum = 1)\n",
    "x2, y2 = embed_by_enum(case3, embedder, enum = 2)\n",
    "x3, y3 = embed_by_enum(case3, embedder, enum = 3)\n",
    "x_base, y_base = embed_by_enum(case3, embedder, enum = 4)\n",
    "x_base_s, y_base_s = embed_by_enum(case3, embedder, enum = 5)"
   ]
  },
  {
   "cell_type": "code",
   "execution_count": 169,
   "metadata": {},
   "outputs": [
    {
     "name": "stdout",
     "output_type": "stream",
     "text": [
      "base1 : 0.7016393442622951\n",
      "base2 : 0.6622950819672131\n",
      "embedding1 : 0.6885245901639344\n",
      "embedding2 : 0.7081967213114754\n",
      "embedding3 : 0.6459016393442623\n",
      "embedding4 : 0.6426229508196721\n"
     ]
    }
   ],
   "source": [
    "experiments([x_base,x_base_s,x0,x1,x2,x3], [y_base,y_base_s,y0,y1,y2,y3], ['base1','base2','embedding1','embedding2', 'embedding3', 'embedding4'])"
   ]
  },
  {
   "cell_type": "code",
   "execution_count": 170,
   "metadata": {
    "collapsed": true
   },
   "outputs": [],
   "source": [
    "x0, y0 = embed_by_enum(case4, embedder, enum = 0)\n",
    "x1, y1 = embed_by_enum(case4, embedder, enum = 1)\n",
    "x2, y2 = embed_by_enum(case4, embedder, enum = 2)\n",
    "x3, y3 = embed_by_enum(case4, embedder, enum = 3)\n",
    "x_base, y_base = embed_by_enum(case4, embedder, enum = 4)\n",
    "x_base_s, y_base_s = embed_by_enum(case4, embedder, enum = 5)"
   ]
  },
  {
   "cell_type": "code",
   "execution_count": 171,
   "metadata": {},
   "outputs": [
    {
     "name": "stdout",
     "output_type": "stream",
     "text": [
      "base1 : 0.6130268199233716\n",
      "base2 : 0.6053639846743295\n",
      "embedding1 : 0.6053639846743295\n",
      "embedding2 : 0.5938697318007663\n",
      "embedding3 : 0.6283524904214559\n",
      "embedding4 : 0.6436781609195402\n"
     ]
    }
   ],
   "source": [
    "experiments([x_base,x_base_s,x0,x1,x2,x3], [y_base,y_base_s,y0,y1,y2,y3], ['base1','base2','embedding1','embedding2', 'embedding3', 'embedding4'])"
   ]
  },
  {
   "cell_type": "code",
   "execution_count": 172,
   "metadata": {
    "collapsed": true
   },
   "outputs": [],
   "source": [
    "x0, y0 = embed_by_enum(case5, embedder, enum = 0)\n",
    "x1, y1 = embed_by_enum(case5, embedder, enum = 1)\n",
    "x2, y2 = embed_by_enum(case5, embedder, enum = 2)\n",
    "x3, y3 = embed_by_enum(case5, embedder, enum = 3)\n",
    "x_base, y_base = embed_by_enum(case5, embedder, enum = 4)\n",
    "x_base_s, y_base_s = embed_by_enum(case5, embedder, enum = 5)"
   ]
  },
  {
   "cell_type": "code",
   "execution_count": 173,
   "metadata": {},
   "outputs": [
    {
     "name": "stdout",
     "output_type": "stream",
     "text": [
      "base1 : 0.512\n",
      "base2 : 0.504\n",
      "embedding1 : 0.488\n",
      "embedding2 : 0.496\n",
      "embedding3 : 0.484\n",
      "embedding4 : 0.5\n"
     ]
    }
   ],
   "source": [
    "experiments([x_base,x_base_s,x0,x1,x2,x3], [y_base,y_base_s,y0,y1,y2,y3], ['base1','base2','embedding1','embedding2', 'embedding3', 'embedding4'])"
   ]
  },
  {
   "cell_type": "markdown",
   "metadata": {},
   "source": [
    "## Can the model predict quater offset?"
   ]
  },
  {
   "cell_type": "code",
   "execution_count": 177,
   "metadata": {
    "collapsed": true
   },
   "outputs": [],
   "source": [
    "x0, y0 = embed_by_enum(case5, embedder, enum = 0)\n",
    "x1, y1 = embed_by_enum(case5, embedder, enum = 1)\n",
    "x2, y2 = embed_by_enum(case5, embedder, enum = 2)\n",
    "x3, y3 = embed_by_enum(case5, embedder, enum = 3)\n",
    "x_base, y_base = embed_by_enum(case5, embedder, enum = 4)\n",
    "x_base_s, y_base_s = embed_by_enum(case5, embedder, enum = 5)"
   ]
  },
  {
   "cell_type": "code",
   "execution_count": 178,
   "metadata": {},
   "outputs": [
    {
     "name": "stdout",
     "output_type": "stream",
     "text": [
      "base1 : 0.672\n",
      "base2 : 0.688\n",
      "embedding1 : 0.656\n",
      "embedding2 : 0.624\n",
      "embedding3 : 0.684\n",
      "embedding4 : 0.668\n"
     ]
    }
   ],
   "source": [
    "experiments([x_base,x_base_s,x0,x1,x2,x3], [y_base,y_base_s,y0,y1,y2,y3], ['base1','base2','embedding1','embedding2', 'embedding3', 'embedding4'])"
   ]
  },
  {
   "cell_type": "code",
   "execution_count": 179,
   "metadata": {
    "collapsed": true
   },
   "outputs": [],
   "source": [
    "x0, y0 = embed_by_enum(case1, embedder, enum = 0)\n",
    "x1, y1 = embed_by_enum(case1, embedder, enum = 1)\n",
    "x2, y2 = embed_by_enum(case1, embedder, enum = 2)\n",
    "x3, y3 = embed_by_enum(case1, embedder, enum = 3)\n",
    "x_base, y_base = embed_by_enum(case1, embedder, enum = 4)\n",
    "x_base_s, y_base_s = embed_by_enum(case1, embedder, enum = 5)"
   ]
  },
  {
   "cell_type": "code",
   "execution_count": 180,
   "metadata": {},
   "outputs": [
    {
     "name": "stdout",
     "output_type": "stream",
     "text": [
      "base1 : 0.7605042016806722\n",
      "base2 : 0.7205882352941176\n",
      "embedding1 : 0.7247899159663865\n",
      "embedding2 : 0.7058823529411765\n",
      "embedding3 : 0.7226890756302521\n",
      "embedding4 : 0.680672268907563\n"
     ]
    }
   ],
   "source": [
    "experiments([x_base,x_base_s,x0,x1,x2,x3], [y_base,y_base_s,y0,y1,y2,y3], ['base1','base2','embedding1','embedding2', 'embedding3', 'embedding4'])"
   ]
  },
  {
   "cell_type": "code",
   "execution_count": null,
   "metadata": {
    "collapsed": true
   },
   "outputs": [],
   "source": []
  }
 ],
 "metadata": {
  "kernelspec": {
   "display_name": "Python 3",
   "language": "python",
   "name": "python3"
  },
  "language_info": {
   "codemirror_mode": {
    "name": "ipython",
    "version": 3
   },
   "file_extension": ".py",
   "mimetype": "text/x-python",
   "name": "python",
   "nbconvert_exporter": "python",
   "pygments_lexer": "ipython3",
   "version": "3.6.1"
  }
 },
 "nbformat": 4,
 "nbformat_minor": 2
}
