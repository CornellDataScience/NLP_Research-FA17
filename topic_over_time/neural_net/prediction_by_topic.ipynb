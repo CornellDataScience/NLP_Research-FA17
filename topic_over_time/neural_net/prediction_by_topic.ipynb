{
 "cells": [
  {
   "cell_type": "markdown",
   "metadata": {},
   "source": [
    "# Time sensitive star rating by topic "
   ]
  },
  {
   "cell_type": "code",
   "execution_count": 1,
   "metadata": {
    "collapsed": true
   },
   "outputs": [],
   "source": [
    "import pandas as pd\n",
    "import matplotlib.pyplot as plt\n",
    "from gensim import corpora, models, similarities\n",
    "from gensim.parsing.preprocessing import STOPWORDS\n",
    "from gensim.utils import simple_preprocess\n",
    "import seaborn as sns\n",
    "import random\n",
    "import numpy as np\n",
    "import nltk\n",
    "from sklearn.model_selection import train_test_split"
   ]
  },
  {
   "cell_type": "code",
   "execution_count": 2,
   "metadata": {
    "collapsed": true
   },
   "outputs": [],
   "source": [
    "business = pd.read_csv('chinese_business_clean.csv')\n",
    "reviews = pd.read_csv('chinese_reviews_clean.csv')"
   ]
  },
  {
   "cell_type": "markdown",
   "metadata": {},
   "source": [
    "### Study the characteristics of dataset"
   ]
  },
  {
   "cell_type": "code",
   "execution_count": 3,
   "metadata": {
    "collapsed": true
   },
   "outputs": [],
   "source": [
    "grouped = reviews.groupby('business_id')\n",
    "data = []\n",
    "for i, df in grouped:\n",
    "    df = df.sort_values(by = 'date')\n",
    "    data.append({'business_id':i,\\\n",
    "                'review_count':len(df),\n",
    "                'oldest':df['date'].values[0],\\\n",
    "                'latest':df['date'].values[-1]})"
   ]
  },
  {
   "cell_type": "code",
   "execution_count": 4,
   "metadata": {},
   "outputs": [
    {
     "data": {
      "text/html": [
       "<div>\n",
       "<style>\n",
       "    .dataframe thead tr:only-child th {\n",
       "        text-align: right;\n",
       "    }\n",
       "\n",
       "    .dataframe thead th {\n",
       "        text-align: left;\n",
       "    }\n",
       "\n",
       "    .dataframe tbody tr th {\n",
       "        vertical-align: top;\n",
       "    }\n",
       "</style>\n",
       "<table border=\"1\" class=\"dataframe\">\n",
       "  <thead>\n",
       "    <tr style=\"text-align: right;\">\n",
       "      <th></th>\n",
       "      <th>business_id</th>\n",
       "      <th>latest</th>\n",
       "      <th>oldest</th>\n",
       "      <th>review_count</th>\n",
       "    </tr>\n",
       "  </thead>\n",
       "  <tbody>\n",
       "    <tr>\n",
       "      <th>3692</th>\n",
       "      <td>yfxDa8RFOvJPQh0rNtakHA</td>\n",
       "      <td>2017-07-25</td>\n",
       "      <td>2007-01-03</td>\n",
       "      <td>2446</td>\n",
       "    </tr>\n",
       "    <tr>\n",
       "      <th>3088</th>\n",
       "      <td>pH0BLkL4cbxKzu471VZnuA</td>\n",
       "      <td>2017-07-24</td>\n",
       "      <td>2008-07-21</td>\n",
       "      <td>1972</td>\n",
       "    </tr>\n",
       "    <tr>\n",
       "      <th>1944</th>\n",
       "      <td>X8c23dur0ll2D9XTu-I8Qg</td>\n",
       "      <td>2017-07-25</td>\n",
       "      <td>2013-04-18</td>\n",
       "      <td>1548</td>\n",
       "    </tr>\n",
       "    <tr>\n",
       "      <th>953</th>\n",
       "      <td>GJ_bXUPv672YwNg4TneJog</td>\n",
       "      <td>2017-07-25</td>\n",
       "      <td>2010-12-20</td>\n",
       "      <td>1319</td>\n",
       "    </tr>\n",
       "    <tr>\n",
       "      <th>2312</th>\n",
       "      <td>cHdJXLlKNWixBXpDwEGb_A</td>\n",
       "      <td>2017-07-24</td>\n",
       "      <td>2005-11-24</td>\n",
       "      <td>1262</td>\n",
       "    </tr>\n",
       "  </tbody>\n",
       "</table>\n",
       "</div>"
      ],
      "text/plain": [
       "                 business_id      latest      oldest  review_count\n",
       "3692  yfxDa8RFOvJPQh0rNtakHA  2017-07-25  2007-01-03          2446\n",
       "3088  pH0BLkL4cbxKzu471VZnuA  2017-07-24  2008-07-21          1972\n",
       "1944  X8c23dur0ll2D9XTu-I8Qg  2017-07-25  2013-04-18          1548\n",
       "953   GJ_bXUPv672YwNg4TneJog  2017-07-25  2010-12-20          1319\n",
       "2312  cHdJXLlKNWixBXpDwEGb_A  2017-07-24  2005-11-24          1262"
      ]
     },
     "execution_count": 4,
     "metadata": {},
     "output_type": "execute_result"
    }
   ],
   "source": [
    "review_stats = pd.DataFrame(data)\n",
    "review_stats.sort_values(by='review_count', ascending = False).head()"
   ]
  },
  {
   "cell_type": "code",
   "execution_count": 5,
   "metadata": {},
   "outputs": [
    {
     "name": "stdout",
     "output_type": "stream",
     "text": [
      "3774 businesses\n"
     ]
    }
   ],
   "source": [
    "print ('{} businesses'.format(len(review_stats)))"
   ]
  },
  {
   "cell_type": "code",
   "execution_count": 6,
   "metadata": {},
   "outputs": [
    {
     "data": {
      "image/png": "[encoded data removed]",
      "text/plain": [
       "<matplotlib.figure.Figure at 0x129acc898>"
      ]
     },
     "metadata": {},
     "output_type": "display_data"
    }
   ],
   "source": [
    "sns.distplot(review_stats['review_count'])\n",
    "plt.title('Review count per business')\n",
    "plt.show()"
   ]
  },
  {
   "cell_type": "code",
   "execution_count": 7,
   "metadata": {
    "collapsed": true
   },
   "outputs": [],
   "source": [
    "review_stats = review_stats.loc[review_stats['review_count'] > 50]"
   ]
  },
  {
   "cell_type": "code",
   "execution_count": 8,
   "metadata": {},
   "outputs": [
    {
     "name": "stdout",
     "output_type": "stream",
     "text": [
      "957 businesses\n"
     ]
    }
   ],
   "source": [
    "print ('{} businesses'.format(len(review_stats)))"
   ]
  },
  {
   "cell_type": "code",
   "execution_count": 9,
   "metadata": {},
   "outputs": [
    {
     "data": {
      "image/png": "[encoded data removed]",
      "text/plain": [
       "<matplotlib.figure.Figure at 0x1219cee48>"
      ]
     },
     "metadata": {},
     "output_type": "display_data"
    }
   ],
   "source": [
    "sns.distplot(review_stats['review_count'])\n",
    "plt.title('Review count per business')\n",
    "plt.show()"
   ]
  },
  {
   "cell_type": "code",
   "execution_count": 10,
   "metadata": {
    "collapsed": true
   },
   "outputs": [],
   "source": [
    "lda =  models.LdaModel.load('gensim/lda.model')\n",
    "dictionary = corpora.Dictionary.load('gensim/chinsese_dict.dict')"
   ]
  },
  {
   "cell_type": "code",
   "execution_count": 11,
   "metadata": {
    "collapsed": true
   },
   "outputs": [],
   "source": [
    "def tokenize(text):\n",
    "    return [token for token in simple_preprocess(text) if token not in STOPWORDS]\n",
    "\n",
    "def embed(text, model, dictionary):\n",
    "    text = tokenize(text)\n",
    "    bow = dictionary.doc2bow(text)\n",
    "    kindex = model.get_document_topics(bow)\n",
    "    out = [0] * model.num_topics\n",
    "    for i, p in kindex:\n",
    "        out[i] = p\n",
    "    return np.array(out) \n",
    "\n",
    "def embed_sent(text, model, dictionary):\n",
    "    out = np.array([0.]*128)\n",
    "    sentences = len(nltk.sent_tokenize(text))\n",
    "    for text in nltk.sent_tokenize(text):\n",
    "        out += embed(text, lda, dictionary)\n",
    "    return (out/sentences)"
   ]
  },
  {
   "cell_type": "code",
   "execution_count": 12,
   "metadata": {},
   "outputs": [
    {
     "data": {
      "text/plain": [
       "array([ 0.        ,  0.        ,  0.09567309,  0.        ,  0.20526037,\n",
       "        0.04452289,  0.02118845,  0.        ,  0.        ,  0.        ,\n",
       "        0.        ,  0.        ,  0.        ,  0.14355098,  0.        ,\n",
       "        0.        ,  0.        ,  0.        ,  0.05873322,  0.        ,\n",
       "        0.        ,  0.        ,  0.        ,  0.        ,  0.        ,\n",
       "        0.        ,  0.        ,  0.        ,  0.        ,  0.        ,\n",
       "        0.        ,  0.        ,  0.        ,  0.        ,  0.        ,\n",
       "        0.        ,  0.        ,  0.        ,  0.        ,  0.        ,\n",
       "        0.        ,  0.        ,  0.        ,  0.        ,  0.        ,\n",
       "        0.        ,  0.        ,  0.        ,  0.06038421,  0.        ,\n",
       "        0.        ,  0.        ,  0.        ,  0.20654029,  0.        ,\n",
       "        0.        ,  0.        ,  0.        ,  0.        ,  0.        ,\n",
       "        0.        ,  0.        ,  0.01015138,  0.        ,  0.01814084,\n",
       "        0.        ,  0.00852534,  0.        ,  0.        ,  0.        ,\n",
       "        0.        ,  0.        ,  0.        ,  0.        ,  0.        ,\n",
       "        0.        ,  0.        ,  0.        ,  0.        ,  0.        ,\n",
       "        0.        ,  0.        ,  0.        ,  0.        ,  0.        ,\n",
       "        0.02640299,  0.        ,  0.        ,  0.        ,  0.        ,\n",
       "        0.        ,  0.        ,  0.        ,  0.        ,  0.        ,\n",
       "        0.        ,  0.        ,  0.        ,  0.        ,  0.        ,\n",
       "        0.        ,  0.        ,  0.        ,  0.01550443,  0.        ,\n",
       "        0.01449157,  0.        ,  0.        ,  0.        ,  0.        ,\n",
       "        0.        ,  0.        ,  0.        ,  0.        ,  0.        ,\n",
       "        0.        ,  0.        ,  0.0122157 ,  0.        ,  0.        ,\n",
       "        0.        ,  0.        ,  0.        ,  0.        ,  0.        ,\n",
       "        0.        ,  0.        ,  0.        ])"
      ]
     },
     "execution_count": 12,
     "metadata": {},
     "output_type": "execute_result"
    }
   ],
   "source": [
    "embed_sent(reviews['text'][3], lda, dictionary)"
   ]
  },
  {
   "cell_type": "code",
   "execution_count": 13,
   "metadata": {
    "collapsed": true
   },
   "outputs": [],
   "source": [
    "freq = np.array([0.] * lda.num_topics)\n",
    "for text in (random.sample(set(reviews['text']), 1000)):\n",
    "    freq += np.ceil(embed_sent(text, lda, dictionary))  "
   ]
  },
  {
   "cell_type": "code",
   "execution_count": 14,
   "metadata": {},
   "outputs": [
    {
     "data": {
      "image/png": "[encoded data removed]",
      "text/plain": [
       "<matplotlib.figure.Figure at 0x125ce8f98>"
      ]
     },
     "metadata": {},
     "output_type": "display_data"
    }
   ],
   "source": [
    "plt.bar(np.arange(lda.num_topics), freq)\n",
    "plt.xlabel('Topic number')\n",
    "plt.ylabel('Frequency')\n",
    "plt.show()"
   ]
  },
  {
   "cell_type": "code",
   "execution_count": 15,
   "metadata": {},
   "outputs": [
    {
     "data": {
      "text/plain": [
       "array([ 90, 111, 102,  63,  82,  86,  35, 113,  22,  33,   0,  10,  76,\n",
       "       112,  55,  71,  25,  93,  45,  51,   9,  30,   1,  95,  81,  11,\n",
       "        59, 120,  60,  99,  78,  74, 126,  43,  16,  92,  94, 106,  41,\n",
       "       127,  56, 119, 125,  96, 116,  31,  91, 115, 110, 123,   7,  68,\n",
       "        48,  64, 104,  65,  38,  57,  67,  72,  26,  49,  88,  87,  39,\n",
       "        98,  66,  58,  61,  84,  73,  97,  24,  85,  42, 108,  37,  89,\n",
       "        18,  17, 105,  70,   3,  34,  50,  15,  83,  19,  14, 107, 103,\n",
       "        80,  28, 101,  40,  23,  44, 124, 122,  32,   5,  77,  36,  21,\n",
       "       100,  20, 118,   6, 114,  12,  69,   8, 117, 121,  62,  29,  54,\n",
       "        75, 109,  27,  79,   2,  52,   4,  53,  47,  13,  46])"
      ]
     },
     "execution_count": 15,
     "metadata": {},
     "output_type": "execute_result"
    }
   ],
   "source": [
    "np.argsort(freq)"
   ]
  },
  {
   "cell_type": "code",
   "execution_count": 20,
   "metadata": {},
   "outputs": [
    {
     "name": "stdout",
     "output_type": "stream",
     "text": [
      "0.061*\"food\" + 0.054*\"great\" + 0.029*\"service\" + 0.028*\"place\" + 0.028*\"friendly\" + 0.028*\"staff\" + 0.021*\"amazing\" + 0.016*\"love\" + 0.016*\"delicious\" + 0.014*\"good\"\n",
      "\n",
      "0.072*\"food\" + 0.046*\"chinese\" + 0.029*\"good\" + 0.027*\"place\" + 0.015*\"ve\" + 0.014*\"service\" + 0.013*\"best\" + 0.012*\"great\" + 0.011*\"time\" + 0.010*\"delivery\"\n",
      "\n",
      "0.028*\"table\" + 0.018*\"food\" + 0.018*\"came\" + 0.013*\"minutes\" + 0.013*\"seated\" + 0.012*\"wait\" + 0.011*\"service\" + 0.010*\"waitress\" + 0.009*\"ordered\" + 0.009*\"got\"\n",
      "\n"
     ]
    }
   ],
   "source": [
    "print (lda.print_topic(46) + '\\n')\n",
    "print (lda.print_topic(13) + '\\n')\n",
    "print (lda.print_topic(47) + '\\n')"
   ]
  },
  {
   "cell_type": "markdown",
   "metadata": {},
   "source": [
    "People seem to talk about waiting time for food, authenticity, delivery service."
   ]
  },
  {
   "cell_type": "markdown",
   "metadata": {},
   "source": [
    "What if we apply '1 topic per sentence rule'"
   ]
  },
  {
   "cell_type": "code",
   "execution_count": 17,
   "metadata": {
    "collapsed": true
   },
   "outputs": [],
   "source": [
    "freq = np.array([0.] * lda.num_topics)\n",
    "for text in (random.sample(set(reviews['text']), 1000)):\n",
    "    e = embed_sent(text, lda, dictionary)\n",
    "    i = e.tolist().index(max(e))\n",
    "    topic = np.array([0.] * lda.num_topics)\n",
    "    topic[i] = 1.0\n",
    "    freq += topic"
   ]
  },
  {
   "cell_type": "code",
   "execution_count": 18,
   "metadata": {},
   "outputs": [
    {
     "data": {
      "image/png": "[encoded data removed]",
      "text/plain": [
       "<matplotlib.figure.Figure at 0x126455da0>"
      ]
     },
     "metadata": {},
     "output_type": "display_data"
    }
   ],
   "source": [
    "plt.bar(np.arange(lda.num_topics), freq)\n",
    "plt.xlabel('Topic number')\n",
    "plt.ylabel('Frequency')\n",
    "plt.show()"
   ]
  },
  {
   "cell_type": "code",
   "execution_count": 19,
   "metadata": {},
   "outputs": [
    {
     "data": {
      "text/plain": [
       "array([  0,  35,  41,  51,  55,  59,  60, 126,  31,  71,  74,  82,  84,\n",
       "        96,  99, 102, 113,  72,  25,  63, 127,   1,  86,  87,  78,  33,\n",
       "        90,  76,   9,  98, 108,  26,  45, 112,  66, 120,  81,  39,  68,\n",
       "        80,  88,  64,  92,  93, 107, 111, 115,   6,  11,  73,  43,  38,\n",
       "        18,  94, 104,  61, 106,  48,  22, 125,  56, 110,  42, 116, 119,\n",
       "        95, 122,  17,  91,  16,  40,  50,  34,  57,  58,  44,  10,  65,\n",
       "        67,   7,  14,  24,   3,  83,  19, 123,  23, 100,  69,  70,  49,\n",
       "        89,  85,  30,  54,  97, 105, 121,   5,  15,  37,  12,  32,  36,\n",
       "       117,  28, 103, 101, 124,  62,   8, 114,  20,  77, 118,   2,  79,\n",
       "        29, 109,  53,  75,  52,  21,   4,  47,  13,  27,  46])"
      ]
     },
     "execution_count": 19,
     "metadata": {},
     "output_type": "execute_result"
    }
   ],
   "source": [
    "np.argsort(freq)"
   ]
  },
  {
   "cell_type": "code",
   "execution_count": 21,
   "metadata": {},
   "outputs": [
    {
     "name": "stdout",
     "output_type": "stream",
     "text": [
      "0.040*\"chicken\" + 0.026*\"rice\" + 0.022*\"fried\" + 0.021*\"food\" + 0.021*\"good\" + 0.019*\"egg\" + 0.016*\"soup\" + 0.013*\"sour\" + 0.013*\"chinese\" + 0.011*\"beef\"\n",
      "\n"
     ]
    }
   ],
   "source": [
    "# 27 emerged\n",
    "print (lda.print_topic(27) + '\\n')"
   ]
  },
  {
   "cell_type": "code",
   "execution_count": 23,
   "metadata": {
    "collapsed": true
   },
   "outputs": [],
   "source": [
    "mat = []\n",
    "for text in (random.sample(set(reviews['text']), 1000)):\n",
    "    mat.append(embed_sent(text, lda, dictionary)) "
   ]
  },
  {
   "cell_type": "code",
   "execution_count": 24,
   "metadata": {},
   "outputs": [],
   "source": [
    "mat =np.array(mat)"
   ]
  },
  {
   "cell_type": "code",
   "execution_count": 25,
   "metadata": {},
   "outputs": [
    {
     "data": {
      "text/plain": [
       "array([[  1.00000000e+00,  -1.22337984e-02,   8.79097315e-03, ...,\n",
       "         -2.13161329e-02,  -1.05311610e-04,  -6.07406263e-03],\n",
       "       [ -1.22337984e-02,   1.00000000e+00,  -2.80551821e-02, ...,\n",
       "         -1.96168514e-02,  -1.30415706e-02,  -1.47517692e-02],\n",
       "       [  8.79097315e-03,  -2.80551821e-02,   1.00000000e+00, ...,\n",
       "         -1.16212775e-03,   1.59166224e-02,  -1.32029752e-02],\n",
       "       ..., \n",
       "       [ -2.13161329e-02,  -1.96168514e-02,  -1.16212775e-03, ...,\n",
       "          1.00000000e+00,  -1.02031533e-02,   3.62385089e-02],\n",
       "       [ -1.05311610e-04,  -1.30415706e-02,   1.59166224e-02, ...,\n",
       "         -1.02031533e-02,   1.00000000e+00,  -1.27808284e-02],\n",
       "       [ -6.07406263e-03,  -1.47517692e-02,  -1.32029752e-02, ...,\n",
       "          3.62385089e-02,  -1.27808284e-02,   1.00000000e+00]])"
      ]
     },
     "execution_count": 25,
     "metadata": {},
     "output_type": "execute_result"
    }
   ],
   "source": [
    "np.corrcoef(mat.T)"
   ]
  },
  {
   "cell_type": "code",
   "execution_count": 26,
   "metadata": {},
   "outputs": [
    {
     "data": {
      "image/png": "[encoded data removed]",
      "text/plain": [
       "<matplotlib.figure.Figure at 0x1219d5c88>"
      ]
     },
     "metadata": {},
     "output_type": "display_data"
    }
   ],
   "source": [
    "sns.heatmap(np.corrcoef(mat.T), xticklabels='', yticklabels='')\n",
    "plt.title('Correlation between 128 topics')\n",
    "plt.show()"
   ]
  },
  {
   "cell_type": "markdown",
   "metadata": {},
   "source": [
    "## Is topic sufficient to predict star ratings"
   ]
  },
  {
   "cell_type": "code",
   "execution_count": 27,
   "metadata": {
    "collapsed": true
   },
   "outputs": [],
   "source": [
    "reviews5 = reviews[reviews['stars'] == 5]"
   ]
  },
  {
   "cell_type": "code",
   "execution_count": 28,
   "metadata": {
    "collapsed": true
   },
   "outputs": [],
   "source": [
    "freq = np.array([0.] * lda.num_topics)\n",
    "for text in (random.sample(set(reviews5['text']), 1000)):\n",
    "    freq += np.ceil(embed_sent(text, lda, dictionary))"
   ]
  },
  {
   "cell_type": "code",
   "execution_count": 29,
   "metadata": {},
   "outputs": [
    {
     "data": {
      "image/png": "[encoded data removed]",
      "text/plain": [
       "<matplotlib.figure.Figure at 0x12073a518>"
      ]
     },
     "metadata": {},
     "output_type": "display_data"
    }
   ],
   "source": [
    "plt.bar(np.arange(lda.num_topics), freq)\n",
    "plt.xlabel('Topic number')\n",
    "plt.ylabel('Frequency')\n",
    "plt.show()"
   ]
  },
  {
   "cell_type": "code",
   "execution_count": 30,
   "metadata": {},
   "outputs": [
    {
     "data": {
      "text/plain": [
       "array([ 90, 111,  63,  86, 126,  76, 120,   1,  99, 113,  35,  55,  33,\n",
       "       102,  92,  25,  93,  82, 125,  81,  60,  10,  78,  56, 127,  22,\n",
       "       112,  41, 106, 116,   7,   9,  74,   0,  31,  51,  43,  16,  11,\n",
       "        83, 119,  96,  68,  45,  71, 123,  18,  48,  94,  95,  30,  72,\n",
       "       117,  84,  57,  59,  70,  38,  39,  65,  64,  87,  67, 104,  98,\n",
       "        66,  61, 107,  88, 110,  91,  73, 108,  37,  26,  17,  24,  97,\n",
       "        34,   3, 115, 103,  89,  85,  58,  21,  49, 118,  15,   5,  14,\n",
       "        19,  42,  32,  23,  36,  50,  44,  40, 109, 101,  28,  79,  54,\n",
       "       122,  77, 105, 114,  80,   6, 124,   8, 100,  29,  12, 121,   2,\n",
       "        75,  20,  62,   4,  69,  53,  52,  47,  27,  13,  46])"
      ]
     },
     "execution_count": 30,
     "metadata": {},
     "output_type": "execute_result"
    }
   ],
   "source": [
    "np.argsort(freq)"
   ]
  },
  {
   "cell_type": "code",
   "execution_count": 31,
   "metadata": {
    "collapsed": true
   },
   "outputs": [],
   "source": [
    "reviews1 = reviews[reviews['stars'] == 1]"
   ]
  },
  {
   "cell_type": "code",
   "execution_count": 32,
   "metadata": {
    "collapsed": true
   },
   "outputs": [],
   "source": [
    "freq = np.array([0.] * lda.num_topics)\n",
    "for text in (random.sample(set(reviews1['text']), 1000)):\n",
    "    freq += np.ceil(embed_sent(text, lda, dictionary))"
   ]
  },
  {
   "cell_type": "code",
   "execution_count": 33,
   "metadata": {},
   "outputs": [
    {
     "data": {
      "image/png": "[encoded data removed]",
      "text/plain": [
       "<matplotlib.figure.Figure at 0x1236818d0>"
      ]
     },
     "metadata": {},
     "output_type": "display_data"
    }
   ],
   "source": [
    "plt.bar(np.arange(lda.num_topics), freq)\n",
    "plt.xlabel('Topic number')\n",
    "plt.ylabel('Frequency')\n",
    "plt.show()"
   ]
  },
  {
   "cell_type": "code",
   "execution_count": 34,
   "metadata": {},
   "outputs": [
    {
     "data": {
      "text/plain": [
       "array([111,  90,  82,  35, 102,  63,  51,  86, 113,  33,  22, 104,   0,\n",
       "        11,  99,  76, 120,  45,  55,  94,  16,  78,  56, 116,  10,  84,\n",
       "        23,   9,  95, 127, 126, 115,  30, 106,  18,  72,  60,   1,  50,\n",
       "        37,  81,  73,  43,  25,  31,  74,  41,  59,  91,  26, 123,  65,\n",
       "        14,  34,  93, 114,  49,  40,  92,  89, 110,  42,  64,  57, 119,\n",
       "        71,  58,  19,  87,  36,  98,  97,  28, 125,  85,  39,  68,  88,\n",
       "        48,  38,  67,  62,  15, 105,  77,  24, 108,  61,  96, 112,   7,\n",
       "        21,  20, 101,  12,  70,   8,  80,  66,  17, 118,  44, 103,   5,\n",
       "        75,   3,  69,  52, 107, 124, 100, 122,  29,  53, 121,   6,  27,\n",
       "        83,  32,  13,  46,  54, 109,  47,   2, 117,  79,   4])"
      ]
     },
     "execution_count": 34,
     "metadata": {},
     "output_type": "execute_result"
    }
   ],
   "source": [
    "np.argsort(freq)"
   ]
  },
  {
   "cell_type": "code",
   "execution_count": 35,
   "metadata": {},
   "outputs": [
    {
     "name": "stdout",
     "output_type": "stream",
     "text": [
      "Top 3 positive topics\n",
      "0.061*\"food\" + 0.054*\"great\" + 0.029*\"service\" + 0.028*\"place\" + 0.028*\"friendly\" + 0.028*\"staff\" + 0.021*\"amazing\" + 0.016*\"love\" + 0.016*\"delicious\" + 0.014*\"good\"\n",
      "\n",
      "0.072*\"food\" + 0.046*\"chinese\" + 0.029*\"good\" + 0.027*\"place\" + 0.015*\"ve\" + 0.014*\"service\" + 0.013*\"best\" + 0.012*\"great\" + 0.011*\"time\" + 0.010*\"delivery\"\n",
      "\n",
      "0.040*\"chicken\" + 0.026*\"rice\" + 0.022*\"fried\" + 0.021*\"food\" + 0.021*\"good\" + 0.019*\"egg\" + 0.016*\"soup\" + 0.013*\"sour\" + 0.013*\"chinese\" + 0.011*\"beef\"\n",
      "\n",
      "Top 3 negative topics\n",
      "0.031*\"order\" + 0.029*\"food\" + 0.014*\"said\" + 0.011*\"minutes\" + 0.011*\"ordered\" + 0.011*\"asked\" + 0.011*\"service\" + 0.010*\"place\" + 0.010*\"time\" + 0.010*\"like\"\n",
      "\n",
      "0.042*\"food\" + 0.024*\"service\" + 0.013*\"place\" + 0.011*\"bad\" + 0.009*\"night\" + 0.009*\"good\" + 0.008*\"restaurant\" + 0.008*\"like\" + 0.008*\"time\" + 0.007*\"people\"\n",
      "\n",
      "0.030*\"food\" + 0.014*\"like\" + 0.010*\"place\" + 0.008*\"rice\" + 0.008*\"time\" + 0.007*\"eat\" + 0.007*\"worst\" + 0.007*\"ordered\" + 0.007*\"service\" + 0.007*\"bad\"\n",
      "\n"
     ]
    }
   ],
   "source": [
    "print ('Top 3 positive topics')\n",
    "print (lda.print_topic(46) + '\\n')\n",
    "print (lda.print_topic(13) + '\\n')\n",
    "print (lda.print_topic(27) + '\\n')\n",
    "\n",
    "print ('Top 3 negative topics')\n",
    "print (lda.print_topic(4) + '\\n')\n",
    "print (lda.print_topic(79) + '\\n')\n",
    "print (lda.print_topic(117) + '\\n')"
   ]
  },
  {
   "cell_type": "markdown",
   "metadata": {},
   "source": [
    "Overwhelming majority of negative reviews are about delivery and waiting time for the food"
   ]
  },
  {
   "cell_type": "code",
   "execution_count": 36,
   "metadata": {},
   "outputs": [
    {
     "data": {
      "text/plain": [
       "'yfxDa8RFOvJPQh0rNtakHA'"
      ]
     },
     "execution_count": 36,
     "metadata": {},
     "output_type": "execute_result"
    }
   ],
   "source": [
    "review_stats.sort_values(by='review_count', ascending = False)['business_id'].values[0]"
   ]
  },
  {
   "cell_type": "code",
   "execution_count": 37,
   "metadata": {
    "collapsed": true
   },
   "outputs": [],
   "source": [
    "data = reviews[reviews['business_id'] == 'yfxDa8RFOvJPQh0rNtakHA']\n",
    "X_train, X_test, y_train, y_test = train_test_split(data['text'], data['stars'], test_size=0.20)"
   ]
  },
  {
   "cell_type": "code",
   "execution_count": 38,
   "metadata": {
    "collapsed": true
   },
   "outputs": [],
   "source": [
    "def generate_data(train):\n",
    "    embed = []\n",
    "    for text in train:\n",
    "        embed.append(embed_sent(text, lda, dictionary))\n",
    "    return np.array(embed)"
   ]
  },
  {
   "cell_type": "code",
   "execution_count": 39,
   "metadata": {},
   "outputs": [
    {
     "name": "stdout",
     "output_type": "stream",
     "text": [
      "CPU times: user 22.7 s, sys: 22.9 ms, total: 22.8 s\n",
      "Wall time: 21.6 s\n"
     ]
    }
   ],
   "source": [
    "%time train = generate_data(X_train)"
   ]
  },
  {
   "cell_type": "code",
   "execution_count": 40,
   "metadata": {},
   "outputs": [
    {
     "data": {
      "image/png": "[encoded data removed]",
      "text/plain": [
       "<matplotlib.figure.Figure at 0x1208638d0>"
      ]
     },
     "metadata": {},
     "output_type": "display_data"
    }
   ],
   "source": [
    "sns.distplot(data['stars'], kde = False)\n",
    "plt.show()"
   ]
  },
  {
   "cell_type": "code",
   "execution_count": 41,
   "metadata": {
    "collapsed": true
   },
   "outputs": [],
   "source": [
    "from sklearn import svm\n",
    "from sklearn.metrics import confusion_matrix"
   ]
  },
  {
   "cell_type": "code",
   "execution_count": 42,
   "metadata": {},
   "outputs": [
    {
     "name": "stdout",
     "output_type": "stream",
     "text": [
      "CPU times: user 6.2 s, sys: 15.7 ms, total: 6.21 s\n",
      "Wall time: 5.39 s\n"
     ]
    }
   ],
   "source": [
    "%time test = generate_data(X_test)"
   ]
  },
  {
   "cell_type": "code",
   "execution_count": 43,
   "metadata": {},
   "outputs": [
    {
     "data": {
      "text/plain": [
       "array([[  0,   0,   0,   0,   0],\n",
       "       [  0,   0,   0,   0,   0],\n",
       "       [  0,   0,   0,   0,   0],\n",
       "       [ 62,  61,  95, 169, 103],\n",
       "       [  0,   0,   0,   0,   0]])"
      ]
     },
     "execution_count": 43,
     "metadata": {},
     "output_type": "execute_result"
    }
   ],
   "source": [
    "clf = svm.SVC()\n",
    "clf.fit(train, y_train)\n",
    "confusion_matrix(clf.predict(test), y_test)"
   ]
  },
  {
   "cell_type": "code",
   "execution_count": 44,
   "metadata": {},
   "outputs": [
    {
     "data": {
      "text/plain": [
       "array([[35, 21, 20, 29, 20],\n",
       "       [14, 23, 23, 33, 15],\n",
       "       [ 6,  6, 15, 20, 13],\n",
       "       [ 1,  3, 11, 19, 15],\n",
       "       [ 6,  8, 26, 68, 40]])"
      ]
     },
     "execution_count": 44,
     "metadata": {},
     "output_type": "execute_result"
    }
   ],
   "source": [
    "from sklearn.naive_bayes import GaussianNB\n",
    "clf = GaussianNB()\n",
    "clf.fit(train, y_train)\n",
    "confusion_matrix(clf.predict(test), y_test)"
   ]
  },
  {
   "cell_type": "code",
   "execution_count": 45,
   "metadata": {},
   "outputs": [
    {
     "data": {
      "text/plain": [
       "array([[  8,   7,   3,   4,   1],\n",
       "       [  3,   3,   0,   0,   1],\n",
       "       [ 12,  10,  10,  15,   5],\n",
       "       [ 36,  36,  77, 139,  91],\n",
       "       [  3,   5,   5,  11,   5]])"
      ]
     },
     "execution_count": 45,
     "metadata": {},
     "output_type": "execute_result"
    }
   ],
   "source": [
    "from sklearn.ensemble import RandomForestClassifier\n",
    "clf = RandomForestClassifier(max_depth=20, n_estimators=10, max_features=1)\n",
    "clf.fit(train, y_train)\n",
    "confusion_matrix(clf.predict(test), y_test)"
   ]
  },
  {
   "cell_type": "code",
   "execution_count": 46,
   "metadata": {},
   "outputs": [
    {
     "data": {
      "text/plain": [
       "array([[26, 16, 14,  4,  2],\n",
       "       [10,  9, 10,  7,  2],\n",
       "       [12, 20, 15, 44,  8],\n",
       "       [11, 13, 44, 89, 44],\n",
       "       [ 3,  3, 12, 25, 47]])"
      ]
     },
     "execution_count": 46,
     "metadata": {},
     "output_type": "execute_result"
    }
   ],
   "source": [
    "from sklearn.tree import DecisionTreeClassifier\n",
    "clf = DecisionTreeClassifier(max_depth=20)\n",
    "clf.fit(train, y_train)\n",
    "confusion_matrix(clf.predict(test), y_test)"
   ]
  },
  {
   "cell_type": "code",
   "execution_count": 47,
   "metadata": {},
   "outputs": [
    {
     "data": {
      "text/plain": [
       "array([[ 39,  15,  12,   9,   2],\n",
       "       [  4,   4,   4,   5,   0],\n",
       "       [  9,  18,  20,  24,   9],\n",
       "       [  7,  22,  50, 101,  53],\n",
       "       [  3,   2,   9,  30,  39]])"
      ]
     },
     "execution_count": 47,
     "metadata": {},
     "output_type": "execute_result"
    }
   ],
   "source": [
    "from sklearn.ensemble import AdaBoostClassifier\n",
    "clf = AdaBoostClassifier()\n",
    "clf.fit(train, y_train)\n",
    "confusion_matrix(clf.predict(test), y_test)"
   ]
  },
  {
   "cell_type": "code",
   "execution_count": 50,
   "metadata": {},
   "outputs": [
    {
     "data": {
      "text/plain": [
       "array([[43, 23, 15, 12,  3],\n",
       "       [ 1,  7,  2,  1,  2],\n",
       "       [10, 22, 34, 44, 19],\n",
       "       [ 5,  8, 35, 78, 44],\n",
       "       [ 3,  1,  9, 34, 35]])"
      ]
     },
     "execution_count": 50,
     "metadata": {},
     "output_type": "execute_result"
    }
   ],
   "source": [
    "from sklearn.neural_network import MLPClassifier\n",
    "clf = MLPClassifier(hidden_layer_sizes = (100, 95, 80, 75), activation = 'tanh', alpha=0.2, learning_rate = 'adaptive')\n",
    "clf.fit(train, y_train)\n",
    "confusion_matrix(clf.predict(test), y_test)"
   ]
  },
  {
   "cell_type": "code",
   "execution_count": 52,
   "metadata": {},
   "outputs": [
    {
     "data": {
      "text/plain": [
       "0.4020408163265306"
      ]
     },
     "execution_count": 52,
     "metadata": {},
     "output_type": "execute_result"
    }
   ],
   "source": [
    "clf.score(test, y_test)"
   ]
  },
  {
   "cell_type": "code",
   "execution_count": null,
   "metadata": {
    "collapsed": true
   },
   "outputs": [],
   "source": []
  }
 ],
 "metadata": {
  "kernelspec": {
   "display_name": "Python 3",
   "language": "python",
   "name": "python3"
  },
  "language_info": {
   "codemirror_mode": {
    "name": "ipython",
    "version": 3
   },
   "file_extension": ".py",
   "mimetype": "text/x-python",
   "name": "python",
   "nbconvert_exporter": "python",
   "pygments_lexer": "ipython3",
   "version": "3.6.1"
  }
 },
 "nbformat": 4,
 "nbformat_minor": 2
}
