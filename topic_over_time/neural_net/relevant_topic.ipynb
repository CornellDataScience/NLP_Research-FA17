{
 "cells": [
  {
   "cell_type": "markdown",
   "metadata": {},
   "source": [
    "### Hypothesis: If one review is talking about the representitive latent topic of given business, people tend to verify as useful "
   ]
  },
  {
   "cell_type": "code",
   "execution_count": 55,
   "metadata": {
    "collapsed": true
   },
   "outputs": [],
   "source": [
    "from gensim_lda_model import Gensimembedder\n",
    "from gensim import corpora, models\n",
    "import pandas as pd\n",
    "import matplotlib.pyplot as plt\n",
    "from sklearn.model_selection import train_test_split \n",
    "import numpy as np\n",
    "import tensorflow as tf\n",
    "import random"
   ]
  },
  {
   "cell_type": "code",
   "execution_count": 56,
   "metadata": {
    "collapsed": true
   },
   "outputs": [],
   "source": [
    "business = pd.read_csv('chinese_business_clean.csv')\n",
    "reviews = pd.read_csv('chinese_reviews_clean.csv')"
   ]
  },
  {
   "cell_type": "code",
   "execution_count": 57,
   "metadata": {
    "collapsed": true
   },
   "outputs": [],
   "source": [
    "lda =  models.LdaModel.load('gensim/lda.model')\n",
    "dictionary = corpora.Dictionary.load('gensim/chinsese_dict.dict')"
   ]
  },
  {
   "cell_type": "code",
   "execution_count": 58,
   "metadata": {
    "collapsed": true
   },
   "outputs": [],
   "source": [
    "model = Gensimembedder(model = lda, dictionary = dictionary)"
   ]
  },
  {
   "cell_type": "markdown",
   "metadata": {},
   "source": [
    "### Case study with yfxDa8RFOvJPQh0rNtakHA"
   ]
  },
  {
   "cell_type": "code",
   "execution_count": 59,
   "metadata": {},
   "outputs": [
    {
     "data": {
      "text/html": [
       "<div>\n",
       "<style>\n",
       "    .dataframe thead tr:only-child th {\n",
       "        text-align: right;\n",
       "    }\n",
       "\n",
       "    .dataframe thead th {\n",
       "        text-align: left;\n",
       "    }\n",
       "\n",
       "    .dataframe tbody tr th {\n",
       "        vertical-align: top;\n",
       "    }\n",
       "</style>\n",
       "<table border=\"1\" class=\"dataframe\">\n",
       "  <thead>\n",
       "    <tr style=\"text-align: right;\">\n",
       "      <th></th>\n",
       "      <th>address</th>\n",
       "      <th>attributes</th>\n",
       "      <th>business_id</th>\n",
       "      <th>categories</th>\n",
       "      <th>city</th>\n",
       "      <th>hours</th>\n",
       "      <th>is_open</th>\n",
       "      <th>latitude</th>\n",
       "      <th>longitude</th>\n",
       "      <th>name</th>\n",
       "      <th>neighborhood</th>\n",
       "      <th>postal_code</th>\n",
       "      <th>review_count</th>\n",
       "      <th>stars</th>\n",
       "      <th>state</th>\n",
       "    </tr>\n",
       "  </thead>\n",
       "  <tbody>\n",
       "    <tr>\n",
       "      <th>3109</th>\n",
       "      <td>4029 Spring Mountain Rd</td>\n",
       "      <td>{'RestaurantsTableService': True, 'GoodForMeal...</td>\n",
       "      <td>yfxDa8RFOvJPQh0rNtakHA</td>\n",
       "      <td>['Vietnamese', 'Restaurants', 'Chinese']</td>\n",
       "      <td>Las Vegas</td>\n",
       "      <td>{'Monday': '0:00-0:00', 'Tuesday': '0:00-0:00'...</td>\n",
       "      <td>1</td>\n",
       "      <td>36.126194</td>\n",
       "      <td>-115.193445</td>\n",
       "      <td>Pho Kim Long</td>\n",
       "      <td>Chinatown</td>\n",
       "      <td>89102</td>\n",
       "      <td>2445</td>\n",
       "      <td>3.5</td>\n",
       "      <td>NV</td>\n",
       "    </tr>\n",
       "  </tbody>\n",
       "</table>\n",
       "</div>"
      ],
      "text/plain": [
       "                      address  \\\n",
       "3109  4029 Spring Mountain Rd   \n",
       "\n",
       "                                             attributes  \\\n",
       "3109  {'RestaurantsTableService': True, 'GoodForMeal...   \n",
       "\n",
       "                 business_id                                categories  \\\n",
       "3109  yfxDa8RFOvJPQh0rNtakHA  ['Vietnamese', 'Restaurants', 'Chinese']   \n",
       "\n",
       "           city                                              hours  is_open  \\\n",
       "3109  Las Vegas  {'Monday': '0:00-0:00', 'Tuesday': '0:00-0:00'...        1   \n",
       "\n",
       "       latitude   longitude          name neighborhood postal_code  \\\n",
       "3109  36.126194 -115.193445  Pho Kim Long    Chinatown       89102   \n",
       "\n",
       "      review_count  stars state  \n",
       "3109          2445    3.5    NV  "
      ]
     },
     "execution_count": 59,
     "metadata": {},
     "output_type": "execute_result"
    }
   ],
   "source": [
    "business[business['business_id'] == 'yfxDa8RFOvJPQh0rNtakHA']"
   ]
  },
  {
   "cell_type": "code",
   "execution_count": 60,
   "metadata": {
    "collapsed": true
   },
   "outputs": [],
   "source": [
    "case_review = reviews[reviews['business_id'] == 'yfxDa8RFOvJPQh0rNtakHA']"
   ]
  },
  {
   "cell_type": "code",
   "execution_count": 61,
   "metadata": {
    "collapsed": true
   },
   "outputs": [],
   "source": [
    "case_review = case_review.sort_values(by = 'date')"
   ]
  },
  {
   "cell_type": "code",
   "execution_count": 62,
   "metadata": {},
   "outputs": [
    {
     "data": {
      "text/plain": [
       "2446"
      ]
     },
     "execution_count": 62,
     "metadata": {},
     "output_type": "execute_result"
    }
   ],
   "source": [
    "len(case_review)"
   ]
  },
  {
   "cell_type": "code",
   "execution_count": 63,
   "metadata": {
    "collapsed": true
   },
   "outputs": [],
   "source": [
    "id_train, id_test, star_train, star_test = train_test_split(case_review['review_id'], case_review['stars'], test_size=0.33)"
   ]
  },
  {
   "cell_type": "code",
   "execution_count": 64,
   "metadata": {
    "collapsed": true
   },
   "outputs": [],
   "source": [
    "def gen_data(ids):\n",
    "    '''\n",
    "    generate embedding from the set of ids\n",
    "    '''\n",
    "    data = reviews[reviews['review_id'].isin(ids)]\n",
    "    out = [] \n",
    "    for d in data['text']:\n",
    "        out.append(model.embed_sent(d))\n",
    "    return np.array(out)"
   ]
  },
  {
   "cell_type": "code",
   "execution_count": 65,
   "metadata": {},
   "outputs": [],
   "source": [
    "data = reviews[reviews['review_id'] == id_train.values[0]]"
   ]
  },
  {
   "cell_type": "code",
   "execution_count": 66,
   "metadata": {
    "collapsed": true
   },
   "outputs": [],
   "source": [
    "def gen_bow_data(ids):\n",
    "    '''\n",
    "    generate bag of words embedding from the set of ids\n",
    "    '''\n",
    "    data = reviews[reviews['review_id'].isin(ids)]\n",
    "    out = [] \n",
    "    for d in data['text']:\n",
    "        out.append(model.embed_bow(d))\n",
    "    return np.array(out)"
   ]
  },
  {
   "cell_type": "code",
   "execution_count": 68,
   "metadata": {},
   "outputs": [
    {
     "name": "stdout",
     "output_type": "stream",
     "text": [
      "CPU times: user 20.5 s, sys: 83.7 ms, total: 20.6 s\n",
      "Wall time: 18.8 s\n"
     ]
    }
   ],
   "source": [
    "%time embed_train = gen_data(id_train)"
   ]
  },
  {
   "cell_type": "code",
   "execution_count": 69,
   "metadata": {
    "collapsed": true
   },
   "outputs": [],
   "source": [
    "embed_test = gen_data(id_test)"
   ]
  },
  {
   "cell_type": "code",
   "execution_count": 70,
   "metadata": {
    "collapsed": true
   },
   "outputs": [],
   "source": [
    "def one_hot(stars):\n",
    "    res = []\n",
    "    for s in stars:\n",
    "        out = np.array([0.0]*5)\n",
    "        out[s-1] = 1.0\n",
    "        res.append(out)\n",
    "    return np.array(res)"
   ]
  },
  {
   "cell_type": "code",
   "execution_count": 71,
   "metadata": {
    "collapsed": true
   },
   "outputs": [],
   "source": [
    "def one_hot(stars):\n",
    "    res = []\n",
    "    for s in stars:\n",
    "        out = np.array([0.0]*3)\n",
    "        if s == 5:\n",
    "            out[2] = 1.0\n",
    "        elif s==1:\n",
    "            out[0] = 1.0\n",
    "        else:\n",
    "            out[1] = 1.0\n",
    "        res.append(out)\n",
    "    return np.array(res)"
   ]
  },
  {
   "cell_type": "code",
   "execution_count": 72,
   "metadata": {
    "collapsed": true
   },
   "outputs": [],
   "source": [
    "one_hot_star = one_hot(star_train)"
   ]
  },
  {
   "cell_type": "code",
   "execution_count": 73,
   "metadata": {
    "collapsed": true
   },
   "outputs": [],
   "source": [
    "one_hot_star_test = one_hot(star_test)"
   ]
  },
  {
   "cell_type": "markdown",
   "metadata": {},
   "source": [
    "## Build a feedforward nn"
   ]
  },
  {
   "cell_type": "code",
   "execution_count": 74,
   "metadata": {
    "collapsed": true
   },
   "outputs": [],
   "source": [
    "def layer(input_data, size_in, size_out, name):\n",
    "    with tf.name_scope(name):\n",
    "        # weight as random normal variables\n",
    "        w = tf.Variable(tf.random_normal([size_in, size_out]), name = 'W')\n",
    "        # bias as random normal variables\n",
    "        b = tf.Variable(tf.random_normal([size_out]), name = 'B')\n",
    "\n",
    "        activation = tf.atan(tf.matmul(input_data, w) + b)\n",
    "\n",
    "        return activation"
   ]
  },
  {
   "cell_type": "code",
   "execution_count": 75,
   "metadata": {
    "collapsed": true
   },
   "outputs": [],
   "source": [
    "def output_layer(input_data, size_in, size_out, name):\n",
    "    with tf.name_scope(name):\n",
    "        # weight as random normal variables\n",
    "        w = tf.Variable(tf.random_normal([size_in, size_out]), name = 'W')\n",
    "        # bias as random normal variables\n",
    "        b = tf.Variable(tf.random_normal([size_out]), name = 'B')\n",
    "\n",
    "        activation = tf.atan(tf.matmul(input_data, w) + b)\n",
    "\n",
    "        return activation"
   ]
  },
  {
   "cell_type": "code",
   "execution_count": 76,
   "metadata": {
    "collapsed": true
   },
   "outputs": [],
   "source": [
    "def build_model(x, input_size, hidden, out_size):\n",
    "    with tf.name_scope(\"model\"):\n",
    "        prev = input_size\n",
    "        activation = x \n",
    "        # build a series of hidden layers\n",
    "        for name,i in enumerate(hidden):\n",
    "            activation = layer(activation, prev, i, 'hiddenlayer-'+str(name))\n",
    "            prev = i\n",
    "\n",
    "        # build an output layer\n",
    "        out = output_layer(activation, hidden[-1], out_size, 'output')\n",
    "\n",
    "        return out"
   ]
  },
  {
   "cell_type": "code",
   "execution_count": 77,
   "metadata": {},
   "outputs": [],
   "source": [
    "x = tf.placeholder(tf.float32, shape = [None, 128], name = 'input_topic') # number of topics\n",
    "x_sparse = tf.sparse_placeholder(tf.float32, name = 'input_topic')\n",
    "\n",
    "y = tf.placeholder(tf.float32, shape = [None, 3], name = 'softmax') # 5 stars\n",
    "learning_rate = 0.05\n",
    "out = build_model(x, 128, [100], 3) # shape of (?, 5)\n",
    "\n",
    "# loss\n",
    "with tf.name_scope(\"loss\"):\n",
    "    cross_entropy = tf.reduce_mean(tf.nn.softmax_cross_entropy_with_logits(logits= out, labels = y))\n",
    "# optimization\n",
    "with tf.name_scope(\"train\"):\n",
    "    opt = tf.train.AdamOptimizer(learning_rate=learning_rate).minimize(cross_entropy)\n",
    "# reports\n",
    "with tf.name_scope(\"accuracy\"):\n",
    "    correct = tf.reduce_mean(tf.cast(tf.equal(tf.argmax(out, 1), tf.argmax(y, 1)), dtype = tf.float32))"
   ]
  },
  {
   "cell_type": "code",
   "execution_count": 78,
   "metadata": {},
   "outputs": [
    {
     "name": "stdout",
     "output_type": "stream",
     "text": [
      "0.30\n",
      "0.60\n",
      "0.50\n",
      "0.40\n",
      "0.70\n",
      "0.70\n",
      "0.60\n",
      "0.60\n",
      "0.50\n",
      "0.60\n",
      "Accuracy: 0.587871\n"
     ]
    }
   ],
   "source": [
    "training_epoch = 50000\n",
    "\n",
    "with tf.Session() as sess:\n",
    "    sess.run(tf.global_variables_initializer())\n",
    "    \n",
    "    for epoch in range(training_epoch):\n",
    "        \n",
    "        idx = random.sample(set(np.arange(1638)), 10)\n",
    "        x_in = embed_train[idx]\n",
    "        y_out = one_hot_star[idx]\n",
    "\n",
    "        r = random.randint(0,1638-11)\n",
    "        if epoch % 5000 == 0:\n",
    "            [accuracy] = sess.run([correct], feed_dict = {x:embed_train[:10], y:one_hot_star[:10]})\n",
    "            print ('%.2f' % accuracy)\n",
    "        sess.run(opt, feed_dict = {x:x_in, y:y_out})\n",
    "    \n",
    "    pred = tf.nn.softmax(out)  # Apply softmax to logits\n",
    "    # Calculate accuracy\n",
    "\n",
    "    print(\"Accuracy:\", sess.run(correct, feed_dict = {x: embed_test, y: one_hot_star_test}))"
   ]
  },
  {
   "cell_type": "code",
   "execution_count": null,
   "metadata": {
    "collapsed": true
   },
   "outputs": [],
   "source": []
  },
  {
   "cell_type": "code",
   "execution_count": null,
   "metadata": {
    "collapsed": true
   },
   "outputs": [],
   "source": []
  },
  {
   "cell_type": "code",
   "execution_count": null,
   "metadata": {
    "collapsed": true
   },
   "outputs": [],
   "source": []
  },
  {
   "cell_type": "code",
   "execution_count": null,
   "metadata": {
    "collapsed": true
   },
   "outputs": [],
   "source": []
  },
  {
   "cell_type": "code",
   "execution_count": null,
   "metadata": {
    "collapsed": true
   },
   "outputs": [],
   "source": []
  },
  {
   "cell_type": "code",
   "execution_count": null,
   "metadata": {
    "collapsed": true
   },
   "outputs": [],
   "source": []
  },
  {
   "cell_type": "code",
   "execution_count": null,
   "metadata": {
    "collapsed": true
   },
   "outputs": [],
   "source": []
  }
 ],
 "metadata": {
  "kernelspec": {
   "display_name": "Python 3",
   "language": "python",
   "name": "python3"
  },
  "language_info": {
   "codemirror_mode": {
    "name": "ipython",
    "version": 3
   },
   "file_extension": ".py",
   "mimetype": "text/x-python",
   "name": "python",
   "nbconvert_exporter": "python",
   "pygments_lexer": "ipython3",
   "version": "3.6.1"
  }
 },
 "nbformat": 4,
 "nbformat_minor": 2
}
