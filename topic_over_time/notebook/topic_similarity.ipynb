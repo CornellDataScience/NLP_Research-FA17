{
 "cells": [
  {
   "cell_type": "code",
   "execution_count": 25,
   "metadata": {
    "collapsed": true
   },
   "outputs": [],
   "source": [
    "import pickle\n",
    "from utils import * "
   ]
  },
  {
   "cell_type": "code",
   "execution_count": 7,
   "metadata": {
    "collapsed": true
   },
   "outputs": [],
   "source": [
    "def load_topic_model(vectorizer_file_name, topic_model_file_name):\n",
    "    with open(vectorizer_file_name, \"rb\") as f:\n",
    "        vectorizer = pickle.load(f)\n",
    "    with open(topic_model_file_name, \"rb\") as f:\n",
    "        topic_model = pickle.load(f)\n",
    "    return vectorizer, topic_model"
   ]
  },
  {
   "cell_type": "code",
   "execution_count": 10,
   "metadata": {},
   "outputs": [],
   "source": [
    "vec, tm = load_topic_model('model/pizza_tfidf_vectorizer.pkl','model/pizza_nmf.pkl')"
   ]
  },
  {
   "cell_type": "code",
   "execution_count": 18,
   "metadata": {
    "collapsed": true
   },
   "outputs": [],
   "source": [
    "vec2, tm2 = load_topic_model('model/pizza_count_vectorizer.pkl','model/pizza_lda.pkl')"
   ]
  },
  {
   "cell_type": "code",
   "execution_count": 19,
   "metadata": {
    "collapsed": true
   },
   "outputs": [],
   "source": [
    "vec3, tm3 = load_topic_model('model/chinese_tfidf_vectorizer.pkl','model/chinese_nmf.pkl')"
   ]
  },
  {
   "cell_type": "code",
   "execution_count": 20,
   "metadata": {
    "collapsed": true
   },
   "outputs": [],
   "source": [
    "vec4, tm4 = load_topic_model('model/chinese_count_vectorizer.pkl','model/chinese_lda.pkl')"
   ]
  },
  {
   "cell_type": "code",
   "execution_count": 21,
   "metadata": {
    "collapsed": true
   },
   "outputs": [],
   "source": [
    "def display_topics(model, feature_names, n_top_words):\n",
    "    for topic_index, topic in enumerate(model.components_):\n",
    "        print(\"Topic %d:\" % topic_index)\n",
    "        print(\" \".join([feature_names[i] for i in topic.argsort()[:-n_top_words:-1]]))"
   ]
  },
  {
   "cell_type": "code",
   "execution_count": 22,
   "metadata": {},
   "outputs": [
    {
     "data": {
      "text/plain": [
       "array([[  5.35318219e-02,   0.00000000e+00,   4.09802948e-02, ...,\n",
       "          7.96897006e-02,   3.98538679e-02,   0.00000000e+00],\n",
       "       [  7.86209423e-02,   1.88202333e-01,   3.27705625e-02, ...,\n",
       "          2.97546372e-02,   9.73259392e-02,   0.00000000e+00],\n",
       "       [  3.54345514e-01,   2.62719244e+00,   1.12437870e-01, ...,\n",
       "          0.00000000e+00,   0.00000000e+00,   0.00000000e+00],\n",
       "       ..., \n",
       "       [  4.13455229e-02,   0.00000000e+00,   4.27813136e-04, ...,\n",
       "          0.00000000e+00,   6.59642074e-02,   0.00000000e+00],\n",
       "       [  0.00000000e+00,   0.00000000e+00,   0.00000000e+00, ...,\n",
       "          3.22001617e-02,   1.51870707e-01,   0.00000000e+00],\n",
       "       [  1.37329447e-02,   0.00000000e+00,   7.26685010e-02, ...,\n",
       "          0.00000000e+00,   0.00000000e+00,   0.00000000e+00]])"
      ]
     },
     "execution_count": 22,
     "metadata": {},
     "output_type": "execute_result"
    }
   ],
   "source": [
    "tm.components_"
   ]
  },
  {
   "cell_type": "code",
   "execution_count": 23,
   "metadata": {},
   "outputs": [
    {
     "data": {
      "text/plain": [
       "array([[  2.00000000e-02,   2.00000000e-02,   2.00000000e-02, ...,\n",
       "          2.00000000e-02,   2.00000000e-02,   2.00000000e-02],\n",
       "       [  2.00000000e-02,   2.00000000e-02,   2.00000000e-02, ...,\n",
       "          2.00000000e-02,   2.00000000e-02,   2.00000000e-02],\n",
       "       [  2.00000000e-02,   2.00000001e-02,   2.00000000e-02, ...,\n",
       "          2.00000000e-02,   2.00000000e-02,   2.00000000e-02],\n",
       "       ..., \n",
       "       [  2.00000000e-02,   1.30035557e+04,   2.00000000e-02, ...,\n",
       "          2.00000000e-02,   2.00000000e-02,   2.00000000e-02],\n",
       "       [  2.00000000e-02,   2.00000000e-02,   2.00000000e-02, ...,\n",
       "          2.00000000e-02,   2.00000000e-02,   2.00000000e-02],\n",
       "       [  2.00000000e-02,   2.24278850e+02,   2.00000000e-02, ...,\n",
       "          2.00000000e-02,   2.00000000e-02,   2.00000000e-02]])"
      ]
     },
     "execution_count": 23,
     "metadata": {},
     "output_type": "execute_result"
    }
   ],
   "source": [
    "tm2.components_"
   ]
  },
  {
   "cell_type": "code",
   "execution_count": 26,
   "metadata": {
    "collapsed": true
   },
   "outputs": [],
   "source": [
    "DATAPASS2 = '../../../yelp10/dataset/review.json'\n",
    "review = load_json_to_df(DATAPASS2)"
   ]
  },
  {
   "cell_type": "code",
   "execution_count": 27,
   "metadata": {
    "collapsed": true
   },
   "outputs": [],
   "source": [
    "DATAPASS = '../../../yelp10/dataset/business.json'\n",
    "business = load_json_to_df(DATAPASS)"
   ]
  },
  {
   "cell_type": "code",
   "execution_count": 28,
   "metadata": {
    "collapsed": true
   },
   "outputs": [],
   "source": [
    "def business_id_retrieval(cat, business):\n",
    "    '''\n",
    "    \n",
    "    Input:\n",
    "        cat(str) : category\n",
    "        business(dataframe) : the business data\n",
    "    Output:\n",
    "        id_list(set) : business ids of a particular category\n",
    "    '''\n",
    "    id_list = set()\n",
    "    idx = 0\n",
    "    for row in business.values:\n",
    "        categories = row[3]\n",
    "        if cat in categories:\n",
    "            id_list.add(row[2])\n",
    "    return id_list"
   ]
  },
  {
   "cell_type": "code",
   "execution_count": 29,
   "metadata": {
    "collapsed": true
   },
   "outputs": [],
   "source": [
    "pizza = business_id_retrieval('Pizza', business)"
   ]
  },
  {
   "cell_type": "code",
   "execution_count": 30,
   "metadata": {
    "collapsed": true
   },
   "outputs": [],
   "source": [
    "review_pizza = review.loc[review['business_id'].isin(pizza)]"
   ]
  },
  {
   "cell_type": "code",
   "execution_count": 105,
   "metadata": {},
   "outputs": [],
   "source": [
    "review_pizza.to_csv('pizza_reviews.csv', index = False)"
   ]
  },
  {
   "cell_type": "code",
   "execution_count": 106,
   "metadata": {
    "collapsed": true
   },
   "outputs": [],
   "source": [
    "chinese = business_id_retrieval('Chinese', business)"
   ]
  },
  {
   "cell_type": "code",
   "execution_count": 107,
   "metadata": {
    "collapsed": true
   },
   "outputs": [],
   "source": [
    "review_chinese = review.loc[review['business_id'].isin(chinese)]"
   ]
  },
  {
   "cell_type": "code",
   "execution_count": 108,
   "metadata": {
    "collapsed": true
   },
   "outputs": [],
   "source": [
    "review_chinese.to_csv('chinese_reviews.csv', index = False)"
   ]
  },
  {
   "cell_type": "code",
   "execution_count": 101,
   "metadata": {},
   "outputs": [],
   "source": [
    "import random\n",
    "sample_id = random.sample(range(review_pizza.shape[0]),5)"
   ]
  },
  {
   "cell_type": "code",
   "execution_count": 102,
   "metadata": {},
   "outputs": [],
   "source": [
    "def highlight_topic_words(sentence, vec):\n",
    "    tokenizer = vec.build_tokenizer()\n",
    "    analyzer = vec.build_analyzer()\n",
    "    topic_words = vec.get_feature_names()\n",
    "    out = []\n",
    "    for word in tokenizer(sentence):\n",
    "        if word.lower() in topic_words:\n",
    "            out.append('\\x1b[6;30;43m' + word + '\\x1b[0m')\n",
    "        else:\n",
    "            out.append(word)\n",
    "    print (' '.join(out))"
   ]
  },
  {
   "cell_type": "code",
   "execution_count": 112,
   "metadata": {},
   "outputs": [
    {
     "name": "stdout",
     "output_type": "stream",
     "text": [
      "hadn \u001b[6;30;43mread\u001b[0m too many \u001b[6;30;43mgreat\u001b[0m \u001b[6;30;43mreviews\u001b[0m about this \u001b[6;30;43mplace\u001b[0m on \u001b[6;30;43mYelp\u001b[0m but \u001b[6;30;43mfriend\u001b[0m suggested \u001b[6;30;43mtry\u001b[0m this \u001b[6;30;43mplace\u001b[0m before \u001b[6;30;43mleft\u001b[0m Wisconsin so \u001b[6;30;43mdecided\u001b[0m to give them \u001b[6;30;43mtry\u001b[0m \u001b[6;30;43mDespite\u001b[0m hearing \u001b[6;30;43mfairly\u001b[0m \u001b[6;30;43mgood\u001b[0m \u001b[6;30;43mreviews\u001b[0m about the \u001b[6;30;43mpizza\u001b[0m planned to get Ians the next \u001b[6;30;43mday\u001b[0m my last \u001b[6;30;43mSaturday\u001b[0m in Madison so \u001b[6;30;43mdecided\u001b[0m to go with cheeseburger \u001b[6;30;43minstead\u001b[0m We \u001b[6;30;43marrived\u001b[0m and were \u001b[6;30;43mwaited\u001b[0m on in timely fashion \u001b[6;30;43mplaced\u001b[0m my \u001b[6;30;43morder\u001b[0m for \u001b[6;30;43mChicago\u001b[0m \u001b[6;30;43mburger\u001b[0m with American \u001b[6;30;43mcheese\u001b[0m see pic and my \u001b[6;30;43mfriend\u001b[0m \u001b[6;30;43mordered\u001b[0m the \u001b[6;30;43mappetizer\u001b[0m sampler see pic \u001b[6;30;43mthinking\u001b[0m it would be \u001b[6;30;43mregular\u001b[0m \u001b[6;30;43msized\u001b[0m sampler My \u001b[6;30;43mburger\u001b[0m \u001b[6;30;43marrived\u001b[0m in about \u001b[6;30;43m20\u001b[0m \u001b[6;30;43mminutes\u001b[0m It was \u001b[6;30;43mcooked\u001b[0m he \u001b[6;30;43mway\u001b[0m \u001b[6;30;43masked\u001b[0m \u001b[6;30;43mmedium\u001b[0m rare The \u001b[6;30;43mburger\u001b[0m itself was \u001b[6;30;43mpretty\u001b[0m \u001b[6;30;43mdecent\u001b[0m but nothing memorable It was \u001b[6;30;43mfairly\u001b[0m \u001b[6;30;43mdry\u001b[0m but not \u001b[6;30;43mreally\u001b[0m ridiculously so \u001b[6;30;43mInstead\u001b[0m of \u001b[6;30;43mfries\u001b[0m \u001b[6;30;43mgot\u001b[0m side \u001b[6;30;43msalad\u001b[0m which was \u001b[6;30;43mok\u001b[0m although you \u001b[6;30;43mthink\u001b[0m \u001b[6;30;43mtomatoes\u001b[0m were in \u001b[6;30;43mshort\u001b[0m supply in the \u001b[6;30;43mworld\u001b[0m since only \u001b[6;30;43mgot\u001b[0m one \u001b[6;30;43mtiny\u001b[0m cherry \u001b[6;30;43mtomato\u001b[0m in my \u001b[6;30;43msalad\u001b[0m also \u001b[6;30;43mdidn\u001b[0m \u001b[6;30;43mlike\u001b[0m the \u001b[6;30;43mlack\u001b[0m of \u001b[6;30;43mcheese\u001b[0m in my \u001b[6;30;43msalad\u001b[0m but \u001b[6;30;43mlots\u001b[0m of \u001b[6;30;43mplaces\u001b[0m \u001b[6;30;43mdon\u001b[0m \u001b[6;30;43moffer\u001b[0m that so no \u001b[6;30;43mbig\u001b[0m \u001b[6;30;43mdeal\u001b[0m My \u001b[6;30;43mfriends\u001b[0m \u001b[6;30;43mappetizer\u001b[0m \u001b[6;30;43mturned\u001b[0m out to be \u001b[6;30;43mHUGE\u001b[0m about what or \u001b[6;30;43mpeople\u001b[0m would snack on while \u001b[6;30;43mwaiting\u001b[0m for their \u001b[6;30;43mdinner\u001b[0m \u001b[6;30;43mtried\u001b[0m \u001b[6;30;43mcouple\u001b[0m of \u001b[6;30;43mhot\u001b[0m \u001b[6;30;43mwings\u001b[0m \u001b[6;30;43mbbq\u001b[0m wing and \u001b[6;30;43mcheese\u001b[0m \u001b[6;30;43mstick\u001b[0m of of the tray The \u001b[6;30;43mwings\u001b[0m were meaty but not particularly \u001b[6;30;43mhot\u001b[0m as in \u001b[6;30;43mhot\u001b[0m \u001b[6;30;43mcold\u001b[0m \u001b[6;30;43mhot\u001b[0m and the \u001b[6;30;43mhot\u001b[0m \u001b[6;30;43mwings\u001b[0m \u001b[6;30;43mweren\u001b[0m particularly \u001b[6;30;43mspicy\u001b[0m either rather \u001b[6;30;43mbland\u001b[0m The \u001b[6;30;43mbbq\u001b[0m \u001b[6;30;43mwings\u001b[0m had \u001b[6;30;43mdecent\u001b[0m amount of \u001b[6;30;43msauce\u001b[0m but the \u001b[6;30;43mhot\u001b[0m \u001b[6;30;43mwings\u001b[0m were \u001b[6;30;43mdefinitely\u001b[0m not sauced enough The \u001b[6;30;43mcheese\u001b[0m \u001b[6;30;43mstick\u001b[0m was \u001b[6;30;43mgood\u001b[0m and \u001b[6;30;43mhot\u001b[0m and how \u001b[6;30;43mcheese\u001b[0m \u001b[6;30;43mstick\u001b[0m should \u001b[6;30;43mtaste\u001b[0m All in all the sampler \u001b[6;30;43mtasted\u001b[0m about \u001b[6;30;43mlike\u001b[0m the \u001b[6;30;43mburger\u001b[0m \u001b[6;30;43mpretty\u001b[0m \u001b[6;30;43mdecent\u001b[0m but \u001b[6;30;43mpretty\u001b[0m forgettable So \u001b[6;30;43mguess\u001b[0m my bottom \u001b[6;30;43mline\u001b[0m is this \u001b[6;30;43mplace\u001b[0m is alright go \u001b[6;30;43mhear\u001b[0m again if \u001b[6;30;43mfriend\u001b[0m suggested it but never \u001b[6;30;43mcome\u001b[0m back here on my own initiative They do have \u001b[6;30;43mreally\u001b[0m \u001b[6;30;43mnice\u001b[0m \u001b[6;30;43mpatio\u001b[0m out back and their \u001b[6;30;43mbeer\u001b[0m \u001b[6;30;43mlist\u001b[0m \u001b[6;30;43mlooked\u001b[0m \u001b[6;30;43mreally\u001b[0m strong so that \u001b[6;30;43mprobably\u001b[0m be the \u001b[6;30;43mmain\u001b[0m \u001b[6;30;43mthing\u001b[0m for me to ever \u001b[6;30;43mwant\u001b[0m to \u001b[6;30;43mtry\u001b[0m if were to \u001b[6;30;43mcome\u001b[0m back \u001b[6;30;43mOh\u001b[0m that and the \u001b[6;30;43mpizza\u001b[0m of \u001b[6;30;43mcourse\u001b[0m And \u001b[6;30;43mjust\u001b[0m \u001b[6;30;43mnote\u001b[0m the \u001b[6;30;43mservice\u001b[0m was \u001b[6;30;43mfine\u001b[0m and the \u001b[6;30;43mrestaurant\u001b[0m seemed \u001b[6;30;43mpretty\u001b[0m \u001b[6;30;43mnice\u001b[0m as well as \u001b[6;30;43mclean\u001b[0m it \u001b[6;30;43mjust\u001b[0m the \u001b[6;30;43mfood\u001b[0m was not particularly \u001b[6;30;43mgreat\u001b[0m \u001b[6;30;43mjust\u001b[0m \u001b[6;30;43maverage\u001b[0m This \u001b[6;30;43mplace\u001b[0m reminds me alot of TGIF of which not \u001b[6;30;43mfan\u001b[0m of Although \u001b[6;30;43mdidn\u001b[0m \u001b[6;30;43mtaste\u001b[0m the \u001b[6;30;43mpizza\u001b[0m it \u001b[6;30;43mlooked\u001b[0m \u001b[6;30;43mpretty\u001b[0m \u001b[6;30;43mdecent\u001b[0m from the \u001b[6;30;43mpeople\u001b[0m \u001b[6;30;43msitting\u001b[0m around me and it possible although unlikely from the \u001b[6;30;43mreviews\u001b[0m on \u001b[6;30;43mYelp\u001b[0m that the \u001b[6;30;43mpizza\u001b[0m may be the \u001b[6;30;43mitem\u001b[0m to \u001b[6;30;43morder\u001b[0m here It \u001b[6;30;43mhighly\u001b[0m unlikely however will ever find out\n",
      "\n",
      "\n",
      "hadn \u001b[6;30;43mread\u001b[0m too many \u001b[6;30;43mgreat\u001b[0m \u001b[6;30;43mreviews\u001b[0m about this \u001b[6;30;43mplace\u001b[0m on \u001b[6;30;43mYelp\u001b[0m but \u001b[6;30;43mfriend\u001b[0m suggested \u001b[6;30;43mtry\u001b[0m this \u001b[6;30;43mplace\u001b[0m before \u001b[6;30;43mleft\u001b[0m Wisconsin so \u001b[6;30;43mdecided\u001b[0m to give them \u001b[6;30;43mtry\u001b[0m \u001b[6;30;43mDespite\u001b[0m hearing \u001b[6;30;43mfairly\u001b[0m \u001b[6;30;43mgood\u001b[0m \u001b[6;30;43mreviews\u001b[0m about the \u001b[6;30;43mpizza\u001b[0m planned to get Ians the next \u001b[6;30;43mday\u001b[0m my last \u001b[6;30;43mSaturday\u001b[0m in Madison so \u001b[6;30;43mdecided\u001b[0m to go with cheeseburger \u001b[6;30;43minstead\u001b[0m We \u001b[6;30;43marrived\u001b[0m and were \u001b[6;30;43mwaited\u001b[0m on in timely fashion \u001b[6;30;43mplaced\u001b[0m my \u001b[6;30;43morder\u001b[0m for \u001b[6;30;43mChicago\u001b[0m \u001b[6;30;43mburger\u001b[0m with American \u001b[6;30;43mcheese\u001b[0m see pic and my \u001b[6;30;43mfriend\u001b[0m \u001b[6;30;43mordered\u001b[0m the \u001b[6;30;43mappetizer\u001b[0m sampler see pic \u001b[6;30;43mthinking\u001b[0m it would be \u001b[6;30;43mregular\u001b[0m \u001b[6;30;43msized\u001b[0m sampler My \u001b[6;30;43mburger\u001b[0m \u001b[6;30;43marrived\u001b[0m in about \u001b[6;30;43m20\u001b[0m \u001b[6;30;43mminutes\u001b[0m It was \u001b[6;30;43mcooked\u001b[0m he \u001b[6;30;43mway\u001b[0m \u001b[6;30;43masked\u001b[0m \u001b[6;30;43mmedium\u001b[0m rare The \u001b[6;30;43mburger\u001b[0m itself was \u001b[6;30;43mpretty\u001b[0m \u001b[6;30;43mdecent\u001b[0m but nothing memorable It was \u001b[6;30;43mfairly\u001b[0m \u001b[6;30;43mdry\u001b[0m but not \u001b[6;30;43mreally\u001b[0m ridiculously so \u001b[6;30;43mInstead\u001b[0m of \u001b[6;30;43mfries\u001b[0m \u001b[6;30;43mgot\u001b[0m side \u001b[6;30;43msalad\u001b[0m which was \u001b[6;30;43mok\u001b[0m although you \u001b[6;30;43mthink\u001b[0m \u001b[6;30;43mtomatoes\u001b[0m were in \u001b[6;30;43mshort\u001b[0m supply in the \u001b[6;30;43mworld\u001b[0m since only \u001b[6;30;43mgot\u001b[0m one \u001b[6;30;43mtiny\u001b[0m cherry \u001b[6;30;43mtomato\u001b[0m in my \u001b[6;30;43msalad\u001b[0m also \u001b[6;30;43mdidn\u001b[0m \u001b[6;30;43mlike\u001b[0m the \u001b[6;30;43mlack\u001b[0m of \u001b[6;30;43mcheese\u001b[0m in my \u001b[6;30;43msalad\u001b[0m but \u001b[6;30;43mlots\u001b[0m of \u001b[6;30;43mplaces\u001b[0m \u001b[6;30;43mdon\u001b[0m \u001b[6;30;43moffer\u001b[0m that so no \u001b[6;30;43mbig\u001b[0m \u001b[6;30;43mdeal\u001b[0m My \u001b[6;30;43mfriends\u001b[0m \u001b[6;30;43mappetizer\u001b[0m \u001b[6;30;43mturned\u001b[0m out to be \u001b[6;30;43mHUGE\u001b[0m about what or \u001b[6;30;43mpeople\u001b[0m would snack on while \u001b[6;30;43mwaiting\u001b[0m for their \u001b[6;30;43mdinner\u001b[0m \u001b[6;30;43mtried\u001b[0m \u001b[6;30;43mcouple\u001b[0m of \u001b[6;30;43mhot\u001b[0m \u001b[6;30;43mwings\u001b[0m \u001b[6;30;43mbbq\u001b[0m wing and \u001b[6;30;43mcheese\u001b[0m \u001b[6;30;43mstick\u001b[0m of of the tray The \u001b[6;30;43mwings\u001b[0m were meaty but not particularly \u001b[6;30;43mhot\u001b[0m as in \u001b[6;30;43mhot\u001b[0m \u001b[6;30;43mcold\u001b[0m \u001b[6;30;43mhot\u001b[0m and the \u001b[6;30;43mhot\u001b[0m \u001b[6;30;43mwings\u001b[0m \u001b[6;30;43mweren\u001b[0m particularly \u001b[6;30;43mspicy\u001b[0m either rather \u001b[6;30;43mbland\u001b[0m The \u001b[6;30;43mbbq\u001b[0m \u001b[6;30;43mwings\u001b[0m had \u001b[6;30;43mdecent\u001b[0m amount of \u001b[6;30;43msauce\u001b[0m but the \u001b[6;30;43mhot\u001b[0m \u001b[6;30;43mwings\u001b[0m were \u001b[6;30;43mdefinitely\u001b[0m not sauced enough The \u001b[6;30;43mcheese\u001b[0m \u001b[6;30;43mstick\u001b[0m was \u001b[6;30;43mgood\u001b[0m and \u001b[6;30;43mhot\u001b[0m and how \u001b[6;30;43mcheese\u001b[0m \u001b[6;30;43mstick\u001b[0m should \u001b[6;30;43mtaste\u001b[0m All in all the sampler \u001b[6;30;43mtasted\u001b[0m about \u001b[6;30;43mlike\u001b[0m the \u001b[6;30;43mburger\u001b[0m \u001b[6;30;43mpretty\u001b[0m \u001b[6;30;43mdecent\u001b[0m but \u001b[6;30;43mpretty\u001b[0m forgettable So \u001b[6;30;43mguess\u001b[0m my bottom \u001b[6;30;43mline\u001b[0m is this \u001b[6;30;43mplace\u001b[0m is alright go \u001b[6;30;43mhear\u001b[0m again if \u001b[6;30;43mfriend\u001b[0m suggested it but never \u001b[6;30;43mcome\u001b[0m back here on my own initiative They do have \u001b[6;30;43mreally\u001b[0m \u001b[6;30;43mnice\u001b[0m \u001b[6;30;43mpatio\u001b[0m out back and their \u001b[6;30;43mbeer\u001b[0m \u001b[6;30;43mlist\u001b[0m \u001b[6;30;43mlooked\u001b[0m \u001b[6;30;43mreally\u001b[0m strong so that \u001b[6;30;43mprobably\u001b[0m be the \u001b[6;30;43mmain\u001b[0m \u001b[6;30;43mthing\u001b[0m for me to ever \u001b[6;30;43mwant\u001b[0m to \u001b[6;30;43mtry\u001b[0m if were to \u001b[6;30;43mcome\u001b[0m back \u001b[6;30;43mOh\u001b[0m that and the \u001b[6;30;43mpizza\u001b[0m of \u001b[6;30;43mcourse\u001b[0m And \u001b[6;30;43mjust\u001b[0m \u001b[6;30;43mnote\u001b[0m the \u001b[6;30;43mservice\u001b[0m was \u001b[6;30;43mfine\u001b[0m and the \u001b[6;30;43mrestaurant\u001b[0m seemed \u001b[6;30;43mpretty\u001b[0m \u001b[6;30;43mnice\u001b[0m as well as \u001b[6;30;43mclean\u001b[0m it \u001b[6;30;43mjust\u001b[0m the \u001b[6;30;43mfood\u001b[0m was not particularly \u001b[6;30;43mgreat\u001b[0m \u001b[6;30;43mjust\u001b[0m \u001b[6;30;43maverage\u001b[0m This \u001b[6;30;43mplace\u001b[0m reminds me alot of TGIF of which not \u001b[6;30;43mfan\u001b[0m of Although \u001b[6;30;43mdidn\u001b[0m \u001b[6;30;43mtaste\u001b[0m the \u001b[6;30;43mpizza\u001b[0m it \u001b[6;30;43mlooked\u001b[0m \u001b[6;30;43mpretty\u001b[0m \u001b[6;30;43mdecent\u001b[0m from the \u001b[6;30;43mpeople\u001b[0m \u001b[6;30;43msitting\u001b[0m around me and it possible although unlikely from the \u001b[6;30;43mreviews\u001b[0m on \u001b[6;30;43mYelp\u001b[0m that the \u001b[6;30;43mpizza\u001b[0m may be the \u001b[6;30;43mitem\u001b[0m to \u001b[6;30;43morder\u001b[0m here It \u001b[6;30;43mhighly\u001b[0m unlikely however will ever find out\n",
      "\n",
      "\n",
      "\u001b[6;30;43mve\u001b[0m never written \u001b[6;30;43mreview\u001b[0m on any \u001b[6;30;43mwebsite\u001b[0m but \u001b[6;30;43mfelt\u001b[0m the \u001b[6;30;43mneed\u001b[0m to after my \u001b[6;30;43mhorrible\u001b[0m \u001b[6;30;43mexperience\u001b[0m \u001b[6;30;43mtoday\u001b[0m with this \u001b[6;30;43mrestaurant\u001b[0m After calling to voice concern about an incorrect \u001b[6;30;43morder\u001b[0m and hopefully get resolution the \u001b[6;30;43mperson\u001b[0m \u001b[6;30;43mtaking\u001b[0m calls on the other \u001b[6;30;43mend\u001b[0m proceeded to \u001b[6;30;43mtell\u001b[0m me that they were \u001b[6;30;43mclosed\u001b[0m and we could \u001b[6;30;43mcome\u001b[0m in tomorrow at After \u001b[6;30;43masking\u001b[0m follow up question he stated \u001b[6;30;43mwalking\u001b[0m out the \u001b[6;30;43mdoor\u001b[0m And hung up on me \u001b[6;30;43mve\u001b[0m NEVER had that happen before and \u001b[6;30;43mfelt\u001b[0m \u001b[6;30;43mincredibly\u001b[0m insulted Aside from that the bottom of the \u001b[6;30;43mbread\u001b[0m was \u001b[6;30;43mburnt\u001b[0m \u001b[6;30;43mOverall\u001b[0m there was no \u001b[6;30;43mcare\u001b[0m \u001b[6;30;43mtaken\u001b[0m with my \u001b[6;30;43morder\u001b[0m in regards to \u001b[6;30;43mcustomer\u001b[0m \u001b[6;30;43mservice\u001b[0m and \u001b[6;30;43mquality\u001b[0m \u001b[6;30;43mDON\u001b[0m \u001b[6;30;43mWASTE\u001b[0m YOUR \u001b[6;30;43mTIME\u001b[0m AND \u001b[6;30;43mMONEY\u001b[0m\n",
      "\n",
      "\n",
      "\u001b[6;30;43mve\u001b[0m never written \u001b[6;30;43mreview\u001b[0m on any \u001b[6;30;43mwebsite\u001b[0m but \u001b[6;30;43mfelt\u001b[0m the \u001b[6;30;43mneed\u001b[0m to after my \u001b[6;30;43mhorrible\u001b[0m \u001b[6;30;43mexperience\u001b[0m \u001b[6;30;43mtoday\u001b[0m with this \u001b[6;30;43mrestaurant\u001b[0m After calling to voice concern about an incorrect \u001b[6;30;43morder\u001b[0m and hopefully get resolution the \u001b[6;30;43mperson\u001b[0m \u001b[6;30;43mtaking\u001b[0m calls on the other \u001b[6;30;43mend\u001b[0m proceeded to \u001b[6;30;43mtell\u001b[0m me that they were \u001b[6;30;43mclosed\u001b[0m and we could \u001b[6;30;43mcome\u001b[0m in tomorrow at After \u001b[6;30;43masking\u001b[0m follow up question he stated \u001b[6;30;43mwalking\u001b[0m out the \u001b[6;30;43mdoor\u001b[0m And hung up on me \u001b[6;30;43mve\u001b[0m NEVER had that happen before and \u001b[6;30;43mfelt\u001b[0m \u001b[6;30;43mincredibly\u001b[0m insulted Aside from that the bottom of the \u001b[6;30;43mbread\u001b[0m was \u001b[6;30;43mburnt\u001b[0m \u001b[6;30;43mOverall\u001b[0m there was no \u001b[6;30;43mcare\u001b[0m \u001b[6;30;43mtaken\u001b[0m with my \u001b[6;30;43morder\u001b[0m in regards to \u001b[6;30;43mcustomer\u001b[0m \u001b[6;30;43mservice\u001b[0m and \u001b[6;30;43mquality\u001b[0m \u001b[6;30;43mDON\u001b[0m \u001b[6;30;43mWASTE\u001b[0m YOUR \u001b[6;30;43mTIME\u001b[0m AND \u001b[6;30;43mMONEY\u001b[0m\n",
      "\n",
      "\n",
      "\u001b[6;30;43mDelicious\u001b[0m \u001b[6;30;43mpizzas\u001b[0m \u001b[6;30;43mGreat\u001b[0m experiences on \u001b[6;30;43mdifferent\u001b[0m occasions pre \u001b[6;30;43mordering\u001b[0m \u001b[6;30;43mpizza\u001b[0m for office parties We \u001b[6;30;43mve\u001b[0m \u001b[6;30;43mtried\u001b[0m about \u001b[6;30;43m10\u001b[0m of the \u001b[6;30;43mpizzas\u001b[0m on the \u001b[6;30;43mmenu\u001b[0m and they re ALL \u001b[6;30;43mdelicious\u001b[0m Well one \u001b[6;30;43mguy\u001b[0m \u001b[6;30;43mdidn\u001b[0m \u001b[6;30;43mlike\u001b[0m the Organic \u001b[6;30;43mLocal\u001b[0m Vegetable but \u001b[6;30;43mthink\u001b[0m he \u001b[6;30;43mjust\u001b[0m \u001b[6;30;43mveggie\u001b[0m hater \u001b[6;30;43mEasy\u001b[0m to \u001b[6;30;43morder\u001b[0m \u001b[6;30;43monline\u001b[0m then swing by to \u001b[6;30;43mpick\u001b[0m up FYI \u001b[6;30;43mpizzas\u001b[0m are \u001b[6;30;43msmall\u001b[0m each serves \u001b[6;30;43mpeople\u001b[0m depending on your appetite \u001b[6;30;43mGuys\u001b[0m would \u001b[6;30;43mprobably\u001b[0m \u001b[6;30;43mwant\u001b[0m their own Not \u001b[6;30;43mbad\u001b[0m \u001b[6;30;43midea\u001b[0m to also \u001b[6;30;43morder\u001b[0m an \u001b[6;30;43mappetizer\u001b[0m even if you have \u001b[6;30;43mleftovers\u001b[0m this \u001b[6;30;43mpizza\u001b[0m \u001b[6;30;43mtastes\u001b[0m \u001b[6;30;43mgreat\u001b[0m the next \u001b[6;30;43mday\u001b[0m\n",
      "\n",
      "\n",
      "\u001b[6;30;43mDelicious\u001b[0m \u001b[6;30;43mpizzas\u001b[0m \u001b[6;30;43mGreat\u001b[0m experiences on \u001b[6;30;43mdifferent\u001b[0m occasions pre \u001b[6;30;43mordering\u001b[0m \u001b[6;30;43mpizza\u001b[0m for office parties We \u001b[6;30;43mve\u001b[0m \u001b[6;30;43mtried\u001b[0m about \u001b[6;30;43m10\u001b[0m of the \u001b[6;30;43mpizzas\u001b[0m on the \u001b[6;30;43mmenu\u001b[0m and they re ALL \u001b[6;30;43mdelicious\u001b[0m Well one \u001b[6;30;43mguy\u001b[0m \u001b[6;30;43mdidn\u001b[0m \u001b[6;30;43mlike\u001b[0m the Organic \u001b[6;30;43mLocal\u001b[0m Vegetable but \u001b[6;30;43mthink\u001b[0m he \u001b[6;30;43mjust\u001b[0m \u001b[6;30;43mveggie\u001b[0m hater \u001b[6;30;43mEasy\u001b[0m to \u001b[6;30;43morder\u001b[0m \u001b[6;30;43monline\u001b[0m then swing by to \u001b[6;30;43mpick\u001b[0m up FYI \u001b[6;30;43mpizzas\u001b[0m are \u001b[6;30;43msmall\u001b[0m each serves \u001b[6;30;43mpeople\u001b[0m depending on your appetite \u001b[6;30;43mGuys\u001b[0m would \u001b[6;30;43mprobably\u001b[0m \u001b[6;30;43mwant\u001b[0m their own Not \u001b[6;30;43mbad\u001b[0m \u001b[6;30;43midea\u001b[0m to also \u001b[6;30;43morder\u001b[0m an \u001b[6;30;43mappetizer\u001b[0m even if you have \u001b[6;30;43mleftovers\u001b[0m this \u001b[6;30;43mpizza\u001b[0m \u001b[6;30;43mtastes\u001b[0m \u001b[6;30;43mgreat\u001b[0m the next \u001b[6;30;43mday\u001b[0m\n",
      "\n",
      "\n",
      "This \u001b[6;30;43mplace\u001b[0m was \u001b[6;30;43mjust\u001b[0m \u001b[6;30;43mfine\u001b[0m on the closer edge of \u001b[6;30;43mpretty\u001b[0m \u001b[6;30;43mgood\u001b[0m \u001b[6;30;43mgiving\u001b[0m it four \u001b[6;30;43mstars\u001b[0m mostly because all of the one two \u001b[6;30;43mstar\u001b[0m ratings were written by idiots who should never have learned to \u001b[6;30;43muse\u001b[0m keyboard in the first \u001b[6;30;43mplace\u001b[0m \u001b[6;30;43mSeriously\u001b[0m anyone who calls this \u001b[6;30;43mplace\u001b[0m \u001b[6;30;43moverpriced\u001b[0m \u001b[6;30;43mneeds\u001b[0m to reevaluate their financial decisions in \u001b[6;30;43mlife\u001b[0m \u001b[6;30;43msorry\u001b[0m but someone who \u001b[6;30;43mworks\u001b[0m at McDonalds \u001b[6;30;43mreally\u001b[0m shouldn have equal access to culinary \u001b[6;30;43mopinion\u001b[0m as someone \u001b[6;30;43mlike\u001b[0m me who regularly eats diamonds \u001b[6;30;43mjust\u001b[0m to \u001b[6;30;43mmake\u001b[0m his dookie twinkle \u001b[6;30;43mordered\u001b[0m some \u001b[6;30;43mdelivery\u001b[0m from here last \u001b[6;30;43mnight\u001b[0m and it was promptly \u001b[6;30;43mdelivered\u001b[0m by an upstanding gentleman The \u001b[6;30;43mpizza\u001b[0m was \u001b[6;30;43mgood\u001b[0m It \u001b[6;30;43mwasn\u001b[0m anything \u001b[6;30;43mspecial\u001b[0m and \u001b[6;30;43mwon\u001b[0m inundate you with adjectives but the \u001b[6;30;43mveggies\u001b[0m were \u001b[6;30;43mfresh\u001b[0m the \u001b[6;30;43mmeats\u001b[0m \u001b[6;30;43mtasty\u001b[0m the \u001b[6;30;43msauce\u001b[0m \u001b[6;30;43msatisfied\u001b[0m and the \u001b[6;30;43mdough\u001b[0m was \u001b[6;30;43mdelicious\u001b[0m The babghanoush was acceptable though \u001b[6;30;43mlike\u001b[0m mine \u001b[6;30;43mline\u001b[0m chunkier they puree it which is \u001b[6;30;43mfine\u001b[0m but not my \u001b[6;30;43mfavorite\u001b[0m \u001b[6;30;43mway\u001b[0m of preparing it \u001b[6;30;43mPeople\u001b[0m \u001b[6;30;43mtalk\u001b[0m \u001b[6;30;43mLOT\u001b[0m about the gyros here Most of the \u001b[6;30;43mpeople\u001b[0m who \u001b[6;30;43mtalk\u001b[0m \u001b[6;30;43mlot\u001b[0m about the gyros should \u001b[6;30;43mtalk\u001b[0m less because they re idiots The gyros are \u001b[6;30;43mfine\u001b[0m The \u001b[6;30;43mmeat\u001b[0m is \u001b[6;30;43mfine\u001b[0m It step up from \u001b[6;30;43mmall\u001b[0m \u001b[6;30;43mquality\u001b[0m gyros but it \u001b[6;30;43mfar\u001b[0m cry from freshly broiled lamb \u001b[6;30;43mmeat\u001b[0m \u001b[6;30;43mroasted\u001b[0m to \u001b[6;30;43morder\u001b[0m But \u001b[6;30;43mhonestly\u001b[0m what are you \u001b[6;30;43mexpecting\u001b[0m If you \u001b[6;30;43mjust\u001b[0m \u001b[6;30;43mwant\u001b[0m \u001b[6;30;43mtasty\u001b[0m gyro \u001b[6;30;43mdelivered\u001b[0m to your casa then you could do \u001b[6;30;43mLOT\u001b[0m \u001b[6;30;43mworse\u001b[0m than this \u001b[6;30;43mplace\u001b[0m If you re \u001b[6;30;43mexpecting\u001b[0m gourmet \u001b[6;30;43mfree\u001b[0m ranged \u001b[6;30;43mbeer\u001b[0m rubbed grass fed mountain bred \u001b[6;30;43msalad\u001b[0m tossed hipster lamb then why the fuck are you \u001b[6;30;43mordering\u001b[0m \u001b[6;30;43mdelivery\u001b[0m \u001b[6;30;43mfood\u001b[0m in the first \u001b[6;30;43mplace\u001b[0m you self important douchepickle SO there you have it Now raise up off me have \u001b[6;30;43mbetter\u001b[0m \u001b[6;30;43mthings\u001b[0m to do than listen to your whining\n",
      "\n",
      "\n",
      "This \u001b[6;30;43mplace\u001b[0m was \u001b[6;30;43mjust\u001b[0m \u001b[6;30;43mfine\u001b[0m on the closer edge of \u001b[6;30;43mpretty\u001b[0m \u001b[6;30;43mgood\u001b[0m \u001b[6;30;43mgiving\u001b[0m it four \u001b[6;30;43mstars\u001b[0m mostly because all of the one two \u001b[6;30;43mstar\u001b[0m ratings were written by idiots who should never have learned to \u001b[6;30;43muse\u001b[0m keyboard in the first \u001b[6;30;43mplace\u001b[0m \u001b[6;30;43mSeriously\u001b[0m anyone who calls this \u001b[6;30;43mplace\u001b[0m \u001b[6;30;43moverpriced\u001b[0m \u001b[6;30;43mneeds\u001b[0m to reevaluate their financial decisions in \u001b[6;30;43mlife\u001b[0m \u001b[6;30;43msorry\u001b[0m but someone who \u001b[6;30;43mworks\u001b[0m at McDonalds \u001b[6;30;43mreally\u001b[0m shouldn have equal access to culinary \u001b[6;30;43mopinion\u001b[0m as someone \u001b[6;30;43mlike\u001b[0m me who regularly eats diamonds \u001b[6;30;43mjust\u001b[0m to \u001b[6;30;43mmake\u001b[0m his dookie twinkle \u001b[6;30;43mordered\u001b[0m some \u001b[6;30;43mdelivery\u001b[0m from here last \u001b[6;30;43mnight\u001b[0m and it was promptly \u001b[6;30;43mdelivered\u001b[0m by an upstanding gentleman The \u001b[6;30;43mpizza\u001b[0m was \u001b[6;30;43mgood\u001b[0m It \u001b[6;30;43mwasn\u001b[0m anything \u001b[6;30;43mspecial\u001b[0m and \u001b[6;30;43mwon\u001b[0m inundate you with adjectives but the \u001b[6;30;43mveggies\u001b[0m were \u001b[6;30;43mfresh\u001b[0m the \u001b[6;30;43mmeats\u001b[0m \u001b[6;30;43mtasty\u001b[0m the \u001b[6;30;43msauce\u001b[0m \u001b[6;30;43msatisfied\u001b[0m and the \u001b[6;30;43mdough\u001b[0m was \u001b[6;30;43mdelicious\u001b[0m The babghanoush was acceptable though \u001b[6;30;43mlike\u001b[0m mine \u001b[6;30;43mline\u001b[0m chunkier they puree it which is \u001b[6;30;43mfine\u001b[0m but not my \u001b[6;30;43mfavorite\u001b[0m \u001b[6;30;43mway\u001b[0m of preparing it \u001b[6;30;43mPeople\u001b[0m \u001b[6;30;43mtalk\u001b[0m \u001b[6;30;43mLOT\u001b[0m about the gyros here Most of the \u001b[6;30;43mpeople\u001b[0m who \u001b[6;30;43mtalk\u001b[0m \u001b[6;30;43mlot\u001b[0m about the gyros should \u001b[6;30;43mtalk\u001b[0m less because they re idiots The gyros are \u001b[6;30;43mfine\u001b[0m The \u001b[6;30;43mmeat\u001b[0m is \u001b[6;30;43mfine\u001b[0m It step up from \u001b[6;30;43mmall\u001b[0m \u001b[6;30;43mquality\u001b[0m gyros but it \u001b[6;30;43mfar\u001b[0m cry from freshly broiled lamb \u001b[6;30;43mmeat\u001b[0m \u001b[6;30;43mroasted\u001b[0m to \u001b[6;30;43morder\u001b[0m But \u001b[6;30;43mhonestly\u001b[0m what are you \u001b[6;30;43mexpecting\u001b[0m If you \u001b[6;30;43mjust\u001b[0m \u001b[6;30;43mwant\u001b[0m \u001b[6;30;43mtasty\u001b[0m gyro \u001b[6;30;43mdelivered\u001b[0m to your casa then you could do \u001b[6;30;43mLOT\u001b[0m \u001b[6;30;43mworse\u001b[0m than this \u001b[6;30;43mplace\u001b[0m If you re \u001b[6;30;43mexpecting\u001b[0m gourmet \u001b[6;30;43mfree\u001b[0m ranged \u001b[6;30;43mbeer\u001b[0m rubbed grass fed mountain bred \u001b[6;30;43msalad\u001b[0m tossed hipster lamb then why the fuck are you \u001b[6;30;43mordering\u001b[0m \u001b[6;30;43mdelivery\u001b[0m \u001b[6;30;43mfood\u001b[0m in the first \u001b[6;30;43mplace\u001b[0m you self important douchepickle SO there you have it Now raise up off me have \u001b[6;30;43mbetter\u001b[0m \u001b[6;30;43mthings\u001b[0m to do than listen to your whining\n",
      "\n",
      "\n",
      "If you re \u001b[6;30;43mtotal\u001b[0m diehard \u001b[6;30;43mpizza\u001b[0m loving \u001b[6;30;43mfan\u001b[0m this \u001b[6;30;43mplace\u001b[0m is \u001b[6;30;43mworth\u001b[0m checking out for their \u001b[6;30;43mpizza\u001b[0m cones \u001b[6;30;43mtotally\u001b[0m \u001b[6;30;43mfun\u001b[0m and \u001b[6;30;43minteresting\u001b[0m take on \u001b[6;30;43mpizza\u001b[0m If \u001b[6;30;43mpizza\u001b[0m \u001b[6;30;43misn\u001b[0m your \u001b[6;30;43mthing\u001b[0m they also \u001b[6;30;43mserve\u001b[0m \u001b[6;30;43mcold\u001b[0m \u001b[6;30;43mhot\u001b[0m \u001b[6;30;43msandwiches\u001b[0m poutine or tornado \u001b[6;30;43mfries\u001b[0m \u001b[6;30;43mgreat\u001b[0m \u001b[6;30;43mspot\u001b[0m to \u001b[6;30;43mgrab\u001b[0m some \u001b[6;30;43mlunch\u001b[0m with few \u001b[6;30;43mhungry\u001b[0m colleagues co \u001b[6;30;43mworkers\u001b[0m and \u001b[6;30;43mdid\u001b[0m \u001b[6;30;43mmention\u001b[0m the \u001b[6;30;43mstaff\u001b[0m were \u001b[6;30;43msuper\u001b[0m \u001b[6;30;43mfriendly\u001b[0m\n",
      "\n",
      "\n",
      "If you re \u001b[6;30;43mtotal\u001b[0m diehard \u001b[6;30;43mpizza\u001b[0m loving \u001b[6;30;43mfan\u001b[0m this \u001b[6;30;43mplace\u001b[0m is \u001b[6;30;43mworth\u001b[0m checking out for their \u001b[6;30;43mpizza\u001b[0m cones \u001b[6;30;43mtotally\u001b[0m \u001b[6;30;43mfun\u001b[0m and \u001b[6;30;43minteresting\u001b[0m take on \u001b[6;30;43mpizza\u001b[0m If \u001b[6;30;43mpizza\u001b[0m \u001b[6;30;43misn\u001b[0m your \u001b[6;30;43mthing\u001b[0m they also \u001b[6;30;43mserve\u001b[0m \u001b[6;30;43mcold\u001b[0m \u001b[6;30;43mhot\u001b[0m \u001b[6;30;43msandwiches\u001b[0m poutine or tornado \u001b[6;30;43mfries\u001b[0m \u001b[6;30;43mgreat\u001b[0m \u001b[6;30;43mspot\u001b[0m to \u001b[6;30;43mgrab\u001b[0m some \u001b[6;30;43mlunch\u001b[0m with few \u001b[6;30;43mhungry\u001b[0m colleagues co \u001b[6;30;43mworkers\u001b[0m and \u001b[6;30;43mdid\u001b[0m \u001b[6;30;43mmention\u001b[0m the \u001b[6;30;43mstaff\u001b[0m were \u001b[6;30;43msuper\u001b[0m \u001b[6;30;43mfriendly\u001b[0m\n",
      "\n",
      "\n"
     ]
    }
   ],
   "source": [
    "for t in review_pizza.iloc[sample_id]['text']:\n",
    "    highlight_topic_words(t, vec)\n",
    "    print ('\\n')\n",
    "    highlight_topic_words(t, vec2)\n",
    "    print ('\\n')"
   ]
  },
  {
   "cell_type": "code",
   "execution_count": 109,
   "metadata": {
    "collapsed": true
   },
   "outputs": [],
   "source": [
    "sample_id = random.sample(range(review_chinese.shape[0]),5)"
   ]
  },
  {
   "cell_type": "code",
   "execution_count": 110,
   "metadata": {},
   "outputs": [
    {
     "name": "stdout",
     "output_type": "stream",
     "text": [
      "If there was \u001b[6;30;43mway\u001b[0m could give less than \u001b[6;30;43mstar\u001b[0m would This \u001b[6;30;43mrestaurant\u001b[0m was \u001b[6;30;43mawful\u001b[0m Words can describe he \u001b[6;30;43mexperience\u001b[0m had that \u001b[6;30;43mestablishment\u001b[0m First the \u001b[6;30;43mservice\u001b[0m was \u001b[6;30;43mawful\u001b[0m \u001b[6;30;43mWaiter\u001b[0m \u001b[6;30;43mcouldn\u001b[0m even \u001b[6;30;43mspeak\u001b[0m English \u001b[6;30;43mSecond\u001b[0m \u001b[6;30;43mfood\u001b[0m was \u001b[6;30;43mmediocre\u001b[0m And third and most important not only \u001b[6;30;43mdid\u001b[0m get sick from the \u001b[6;30;43mfood\u001b[0m but was so sick missed my flight back to my \u001b[6;30;43mhome\u001b[0m \u001b[6;30;43mtown\u001b[0m will NEVER \u001b[6;30;43meat\u001b[0m here again and after is \u001b[6;30;43msaid\u001b[0m and done never \u001b[6;30;43meat\u001b[0m Chinese \u001b[6;30;43mfood\u001b[0m ever again\n",
      "\n",
      "\n",
      "\u001b[6;30;43mArrived\u001b[0m on Wednesday \u001b[6;30;43mnight\u001b[0m with three others and was \u001b[6;30;43mseated\u001b[0m promptly \u001b[6;30;43mTables\u001b[0m are \u001b[6;30;43mlarge\u001b[0m and well apart from each other Each \u001b[6;30;43mtable\u001b[0m has \u001b[6;30;43mlittle\u001b[0m steel cart that can be tucked beneath the \u001b[6;30;43mtable\u001b[0m or pulled out and \u001b[6;30;43mused\u001b[0m to \u001b[6;30;43mhold\u001b[0m \u001b[6;30;43mplates\u001b[0m of \u001b[6;30;43mfood\u001b[0m \u001b[6;30;43mSauce\u001b[0m mixing \u001b[6;30;43mtable\u001b[0m made concocting our own dips \u001b[6;30;43measy\u001b[0m \u001b[6;30;43mservice\u001b[0m was \u001b[6;30;43mfast\u001b[0m and \u001b[6;30;43mattentive\u001b[0m \u001b[6;30;43mVariety\u001b[0m was \u001b[6;30;43mgood\u001b[0m and \u001b[6;30;43mfresh\u001b[0m downside is that no dumplings of any \u001b[6;30;43msort\u001b[0m but would trade no dumplings for \u001b[6;30;43mgood\u001b[0m everything else which is what \u001b[6;30;43mgot\u001b[0m \u001b[6;30;43mTea\u001b[0m and \u001b[6;30;43mwater\u001b[0m are \u001b[6;30;43mfree\u001b[0m but \u001b[6;30;43mpop\u001b[0m is \u001b[6;30;43m50\u001b[0m can so if you \u001b[6;30;43mgot\u001b[0m \u001b[6;30;43msweet\u001b[0m tooth be \u001b[6;30;43mprepared\u001b[0m to \u001b[6;30;43mpay\u001b[0m Speaking of \u001b[6;30;43msweet\u001b[0m tooth get their \u001b[6;30;43msimple\u001b[0m but \u001b[6;30;43mtasty\u001b[0m \u001b[6;30;43mfried\u001b[0m buns with condensed milk And \u001b[6;30;43mwatch\u001b[0m out for the Szechuan \u001b[6;30;43mpeppers\u001b[0m tucked \u001b[6;30;43maway\u001b[0m in some of their chile \u001b[6;30;43mmeat\u001b[0m offerings Ventilation \u001b[6;30;43mpretty\u001b[0m \u001b[6;30;43mgood\u001b[0m also \u001b[6;30;43mwish\u001b[0m the bathroom had heating so that \u001b[6;30;43mreally\u001b[0m what the knocked off \u001b[6;30;43mstar\u001b[0m is for\n",
      "\n",
      "\n",
      "As chinese this is \u001b[6;30;43mreally\u001b[0m rip off SO \u001b[6;30;43mEXPENSIVE\u001b[0m But it is \u001b[6;30;43mquick\u001b[0m and some \u001b[6;30;43mitems\u001b[0m are \u001b[6;30;43mpretty\u001b[0m \u001b[6;30;43mgood\u001b[0m so \u001b[6;30;43mok\u001b[0m \u001b[6;30;43mcome\u001b[0m here if in \u001b[6;30;43mrush\u001b[0m to \u001b[6;30;43mwatch\u001b[0m my movie and the other \u001b[6;30;43mplaces\u001b[0m are \u001b[6;30;43mbusy\u001b[0m \u001b[6;30;43mSeriously\u001b[0m such \u001b[6;30;43msmall\u001b[0m eater and \u001b[6;30;43mreally\u001b[0m \u001b[6;30;43mhungry\u001b[0m \u001b[6;30;43munless\u001b[0m \u001b[6;30;43mcome\u001b[0m with \u001b[6;30;43mgroup\u001b[0m of \u001b[6;30;43mfriends\u001b[0m and \u001b[6;30;43morder\u001b[0m \u001b[6;30;43mhuge\u001b[0m \u001b[6;30;43mvariety\u001b[0m of \u001b[6;30;43mthings\u001b[0m The peanut noodles are \u001b[6;30;43mgood\u001b[0m BUT it \u001b[6;30;43mjust\u001b[0m sesame \u001b[6;30;43moil\u001b[0m and peanuts and there is only \u001b[6;30;43mhalf\u001b[0m \u001b[6;30;43mportion\u001b[0m in there for BOOHOO \u001b[6;30;43mOk\u001b[0m so what \u001b[6;30;43mworth\u001b[0m \u001b[6;30;43meating\u001b[0m here Get the buns it \u001b[6;30;43mfilling\u001b[0m And if you \u001b[6;30;43mmiss\u001b[0m dim sum they have \u001b[6;30;43mdecent\u001b[0m \u001b[6;30;43mpork\u001b[0m shu mai and prawn dumplings ha gau Shrugs \u001b[6;30;43mthink\u001b[0m the steamed dumplings here are \u001b[6;30;43mok\u001b[0m The skin is too thick for me And the \u001b[6;30;43mfried\u001b[0m \u001b[6;30;43mones\u001b[0m are \u001b[6;30;43msimilar\u001b[0m too boohoo Go to Umami if you \u001b[6;30;43mwant\u001b[0m to get \u001b[6;30;43mgood\u001b[0m dumplings\n",
      "\n",
      "\n",
      "It been while since \u001b[6;30;43mve\u001b[0m been to Swatow Not much has \u001b[6;30;43mchanged\u001b[0m The waiters are still there and the \u001b[6;30;43mfood\u001b[0m is the same as it was when \u001b[6;30;43mvisited\u001b[0m about \u001b[6;30;43myears\u001b[0m \u001b[6;30;43mago\u001b[0m For Chinatown \u001b[6;30;43mgreasy\u001b[0m spoon it \u001b[6;30;43mdefinitely\u001b[0m \u001b[6;30;43mgem\u001b[0m for Toronto if you \u001b[6;30;43mneed\u001b[0m \u001b[6;30;43mquick\u001b[0m \u001b[6;30;43mcheap\u001b[0m fix\n",
      "\n",
      "\n",
      "\u001b[6;30;43mTwice\u001b[0m my \u001b[6;30;43mfamily\u001b[0m \u001b[6;30;43mtook\u001b[0m me here for \u001b[6;30;43mlate\u001b[0m \u001b[6;30;43mlunch\u001b[0m have to \u001b[6;30;43msay\u001b[0m it was \u001b[6;30;43maffordable\u001b[0m and enjoyable all at the same \u001b[6;30;43mtime\u001b[0m \u001b[6;30;43musually\u001b[0m disregard and \u001b[6;30;43mavoid\u001b[0m Chinese \u001b[6;30;43mbuffet\u001b[0m \u001b[6;30;43mrestaurants\u001b[0m but this \u001b[6;30;43mplace\u001b[0m is an exception and exceptional in what they do The \u001b[6;30;43mbuffet\u001b[0m gives you \u001b[6;30;43mgood\u001b[0m \u001b[6;30;43mhot\u001b[0m \u001b[6;30;43mfood\u001b[0m and all you can \u001b[6;30;43meat\u001b[0m \u001b[6;30;43mClassic\u001b[0m soups Kim Chee \u001b[6;30;43msalads\u001b[0m \u001b[6;30;43mappetizer\u001b[0m \u001b[6;30;43mbar\u001b[0m \u001b[6;30;43mnice\u001b[0m \u001b[6;30;43mvariety\u001b[0m of \u001b[6;30;43mentrees\u001b[0m as well as \u001b[6;30;43mdesserts\u001b[0m and \u001b[6;30;43mreal\u001b[0m scoop your own \u001b[6;30;43mice\u001b[0m creams Voila you have winner\n",
      "\n",
      "\n"
     ]
    }
   ],
   "source": [
    "for t in review_chinese.iloc[sample_id]['text']:\n",
    "    highlight_topic_words(t, vec3)\n",
    "    highlight_topic_words(t, vec3)\n",
    "    print ('\\n')"
   ]
  },
  {
   "cell_type": "code",
   "execution_count": null,
   "metadata": {
    "collapsed": true
   },
   "outputs": [],
   "source": []
  }
 ],
 "metadata": {
  "kernelspec": {
   "display_name": "Python 3",
   "language": "python",
   "name": "python3"
  },
  "language_info": {
   "codemirror_mode": {
    "name": "ipython",
    "version": 3
   },
   "file_extension": ".py",
   "mimetype": "text/x-python",
   "name": "python",
   "nbconvert_exporter": "python",
   "pygments_lexer": "ipython3",
   "version": "3.6.1"
  }
 },
 "nbformat": 4,
 "nbformat_minor": 2
}
