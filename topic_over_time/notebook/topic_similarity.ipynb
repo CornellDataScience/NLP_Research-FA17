{
 "cells": [
  {
   "cell_type": "code",
   "execution_count": 1,
   "metadata": {
    "collapsed": true
   },
   "outputs": [],
   "source": [
    "import pickle"
   ]
  },
  {
   "cell_type": "code",
   "execution_count": 7,
   "metadata": {
    "collapsed": true
   },
   "outputs": [],
   "source": [
    "def load_topic_model(vectorizer_file_name, topic_model_file_name):\n",
    "    with open(vectorizer_file_name, \"rb\") as f:\n",
    "        vectorizer = pickle.load(f)\n",
    "    with open(topic_model_file_name, \"rb\") as f:\n",
    "        topic_model = pickle.load(f)\n",
    "    return vectorizer, topic_model"
   ]
  },
  {
   "cell_type": "code",
   "execution_count": 10,
   "metadata": {},
   "outputs": [],
   "source": [
    "vec, tm = load_topic_model('model/pizza_tfidf_vectorizer.pkl','model/pizza_nmf.pkl')"
   ]
  },
  {
   "cell_type": "code",
   "execution_count": 9,
   "metadata": {
    "collapsed": true
   },
   "outputs": [],
   "source": [
    "def display_topics(model, feature_names, n_top_words):\n",
    "    for topic_index, topic in enumerate(model.components_):\n",
    "        print(\"Topic %d:\" % topic_index)\n",
    "        print(\" \".join([feature_names[i] for i in topic.argsort()[:-n_top_words:-1]]))"
   ]
  },
  {
   "cell_type": "code",
   "execution_count": 11,
   "metadata": {},
   "outputs": [
    {
     "name": "stdout",
     "output_type": "stream",
     "text": [
      "Topic 0:\n",
      "night late dinner went friday date saturday open wine\n",
      "Topic 1:\n",
      "pizza better hut places joint pepperoni price dough ny\n",
      "Topic 2:\n",
      "minutes table said wait came asked told server took\n",
      "Topic 3:\n",
      "order called phone online pick placed wrong customer told\n",
      "Topic 4:\n",
      "good pretty prices price overall bit decent value quite\n",
      "Topic 5:\n",
      "place eat looking clean people friends family favorite want\n",
      "Topic 6:\n",
      "ordered came large tasted half didn pepperoni wasn husband\n",
      "Topic 7:\n",
      "service customer slow fast horrible terrible bad friendly poor\n",
      "Topic 8:\n",
      "great atmosphere prices spot experience family fantastic service price\n",
      "Topic 9:\n",
      "staff friendly super helpful clean fast attentive wait family\n",
      "Topic 10:\n",
      "love favorite family absolutely kids coming come salads yummy\n",
      "Topic 11:\n",
      "fresh ingredients quality hot mozzarella tasty basil oven dough\n",
      "Topic 12:\n",
      "wings hot buffalo crispy ranch honey bbq fries medium\n",
      "Topic 13:\n",
      "und die der das ist sehr ich nicht war\n",
      "Topic 14:\n",
      "sauce garlic bread knots tomato red pasta marinara sweet\n",
      "Topic 15:\n",
      "food quality atmosphere better price prices drinks portions eat\n",
      "Topic 16:\n",
      "beer selection beers tap craft wine local list burger\n",
      "Topic 17:\n",
      "amazing absolutely perfect favorite server atmosphere thank wow experience\n",
      "Topic 18:\n",
      "slice slices pepperoni pie huge ny quick secret big\n",
      "Topic 19:\n",
      "time long second wait come times visit ll went\n",
      "Topic 20:\n",
      "new york style ny favorite spot authentic years real\n",
      "Topic 21:\n",
      "vegas las breakfast strip trip secret visit eat come\n",
      "Topic 22:\n",
      "salad dressing caesar house lettuce greek salads bread meal\n",
      "Topic 23:\n",
      "really enjoyed liked cool enjoy think didn bad wasn\n",
      "Topic 24:\n",
      "delicious absolutely loved perfect dessert wonderful favorite yummy super\n",
      "Topic 25:\n",
      "chicken bbq buffalo parm fried grilled alfredo pesto parmesan\n",
      "Topic 26:\n",
      "best town hands far phoenix valley area charlotte city\n",
      "Topic 27:\n",
      "free gluten options vegan menu offer option regular eat\n",
      "Topic 28:\n",
      "awesome super server cool loved thanks guys atmosphere huge\n",
      "Topic 29:\n",
      "delivery fast driver ordering delivered guy hot called deliver\n",
      "Topic 30:\n",
      "nice atmosphere patio super outside clean people inside decor\n",
      "Topic 31:\n",
      "like don feel know tasted think taste people didn\n",
      "Topic 32:\n",
      "just ok right bad say don way maybe know\n",
      "Topic 33:\n",
      "sandwich fries burger steak sandwiches beef bread burgers meat\n",
      "Topic 34:\n",
      "dish deep chicago style sausage beef wait stuffed home\n",
      "Topic 35:\n",
      "cheese mac steak pepperoni extra goat philly vegan blue\n",
      "Topic 36:\n",
      "lunch special dinner quick specials today went day work\n",
      "Topic 37:\n",
      "excellent service wine server wife atmosphere attentive meal experience\n",
      "Topic 38:\n",
      "recommend highly recommended fantastic looking friends trying restaurant wouldn\n",
      "Topic 39:\n",
      "happy hour half specials drinks menu appetizers prices wine\n",
      "Topic 40:\n",
      "pizzas la salads toppings different specialty large oven wood\n",
      "Topic 41:\n",
      "location locations scottsdale better original downtown parking years opened\n",
      "Topic 42:\n",
      "ve times tried years eaten twice better far couple\n",
      "Topic 43:\n",
      "bar area drinks bartender drink sports sit sat patio\n",
      "Topic 44:\n",
      "crust toppings crispy pie perfect chewy pizza sausage sauce\n",
      "Topic 45:\n",
      "got went home didn wasn husband pretty half came\n",
      "Topic 46:\n",
      "try menu decided items tried ll different disappointed did\n",
      "Topic 47:\n",
      "little bit worth pricey pretty small wait better overall\n",
      "Topic 48:\n",
      "definitely come worth coming ll return going loved recommend\n",
      "Topic 49:\n",
      "italian restaurant pasta family authentic dishes wine menu meal\n"
     ]
    }
   ],
   "source": [
    "display_topics(tm, vec.get_feature_names(), 10)"
   ]
  },
  {
   "cell_type": "code",
   "execution_count": null,
   "metadata": {
    "collapsed": true
   },
   "outputs": [],
   "source": []
  }
 ],
 "metadata": {
  "kernelspec": {
   "display_name": "Python 3",
   "language": "python",
   "name": "python3"
  },
  "language_info": {
   "codemirror_mode": {
    "name": "ipython",
    "version": 3
   },
   "file_extension": ".py",
   "mimetype": "text/x-python",
   "name": "python",
   "nbconvert_exporter": "python",
   "pygments_lexer": "ipython3",
   "version": "3.6.1"
  }
 },
 "nbformat": 4,
 "nbformat_minor": 2
}
