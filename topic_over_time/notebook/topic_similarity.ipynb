{
 "cells": [
  {
   "cell_type": "markdown",
   "metadata": {},
   "source": [
    "## Study the distribution of LDA/NMF topics"
   ]
  },
  {
   "cell_type": "code",
   "execution_count": 195,
   "metadata": {
    "collapsed": true
   },
   "outputs": [],
   "source": [
    "import pickle\n",
    "from utils import * \n",
    "import pandas as pd\n",
    "import numpy as np\n",
    "import nltk\n",
    "import seaborn as sns\n",
    "import matplotlib.pyplot as plt"
   ]
  },
  {
   "cell_type": "markdown",
   "metadata": {},
   "source": [
    "Load the pre-trained models"
   ]
  },
  {
   "cell_type": "code",
   "execution_count": 2,
   "metadata": {
    "collapsed": true
   },
   "outputs": [],
   "source": [
    "def load_topic_model(vectorizer_file_name, topic_model_file_name):\n",
    "    with open(vectorizer_file_name, \"rb\") as f:\n",
    "        vectorizer = pickle.load(f)\n",
    "    with open(topic_model_file_name, \"rb\") as f:\n",
    "        topic_model = pickle.load(f)\n",
    "    return vectorizer, topic_model"
   ]
  },
  {
   "cell_type": "code",
   "execution_count": 3,
   "metadata": {
    "collapsed": true
   },
   "outputs": [],
   "source": [
    "vec, tm = load_topic_model('model/pizza_tfidf_vectorizer.pkl','model/pizza_nmf.pkl')"
   ]
  },
  {
   "cell_type": "code",
   "execution_count": 4,
   "metadata": {
    "collapsed": true
   },
   "outputs": [],
   "source": [
    "vec2, tm2 = load_topic_model('model/pizza_count_vectorizer.pkl','model/pizza_lda.pkl')"
   ]
  },
  {
   "cell_type": "code",
   "execution_count": 5,
   "metadata": {
    "collapsed": true
   },
   "outputs": [],
   "source": [
    "vec3, tm3 = load_topic_model('model/chinese_tfidf_vectorizer.pkl','model/chinese_nmf.pkl')"
   ]
  },
  {
   "cell_type": "code",
   "execution_count": 6,
   "metadata": {
    "collapsed": true
   },
   "outputs": [],
   "source": [
    "vec4, tm4 = load_topic_model('model/chinese_count_vectorizer.pkl','model/chinese_lda.pkl')"
   ]
  },
  {
   "cell_type": "code",
   "execution_count": 7,
   "metadata": {
    "collapsed": true
   },
   "outputs": [],
   "source": [
    "def display_topics(model, feature_names, n_top_words):\n",
    "    for topic_index, topic in enumerate(model.components_):\n",
    "        print(\"Topic %d:\" % topic_index)\n",
    "        print(\" \".join([feature_names[i] for i in topic.argsort()[:-n_top_words:-1]]))"
   ]
  },
  {
   "cell_type": "code",
   "execution_count": 8,
   "metadata": {},
   "outputs": [
    {
     "data": {
      "text/plain": [
       "array([[  5.35318219e-02,   0.00000000e+00,   4.09802948e-02, ...,\n",
       "          7.96897006e-02,   3.98538679e-02,   0.00000000e+00],\n",
       "       [  7.86209423e-02,   1.88202333e-01,   3.27705625e-02, ...,\n",
       "          2.97546372e-02,   9.73259392e-02,   0.00000000e+00],\n",
       "       [  3.54345514e-01,   2.62719244e+00,   1.12437870e-01, ...,\n",
       "          0.00000000e+00,   0.00000000e+00,   0.00000000e+00],\n",
       "       ..., \n",
       "       [  4.13455229e-02,   0.00000000e+00,   4.27813136e-04, ...,\n",
       "          0.00000000e+00,   6.59642074e-02,   0.00000000e+00],\n",
       "       [  0.00000000e+00,   0.00000000e+00,   0.00000000e+00, ...,\n",
       "          3.22001617e-02,   1.51870707e-01,   0.00000000e+00],\n",
       "       [  1.37329447e-02,   0.00000000e+00,   7.26685010e-02, ...,\n",
       "          0.00000000e+00,   0.00000000e+00,   0.00000000e+00]])"
      ]
     },
     "execution_count": 8,
     "metadata": {},
     "output_type": "execute_result"
    }
   ],
   "source": [
    "tm.components_"
   ]
  },
  {
   "cell_type": "code",
   "execution_count": 9,
   "metadata": {},
   "outputs": [
    {
     "data": {
      "text/plain": [
       "array([[  2.00000000e-02,   2.00000000e-02,   2.00000000e-02, ...,\n",
       "          2.00000000e-02,   2.00000000e-02,   2.00000000e-02],\n",
       "       [  2.00000000e-02,   2.00000000e-02,   2.00000000e-02, ...,\n",
       "          2.00000000e-02,   2.00000000e-02,   2.00000000e-02],\n",
       "       [  2.00000000e-02,   2.00000001e-02,   2.00000000e-02, ...,\n",
       "          2.00000000e-02,   2.00000000e-02,   2.00000000e-02],\n",
       "       ..., \n",
       "       [  2.00000000e-02,   1.30035557e+04,   2.00000000e-02, ...,\n",
       "          2.00000000e-02,   2.00000000e-02,   2.00000000e-02],\n",
       "       [  2.00000000e-02,   2.00000000e-02,   2.00000000e-02, ...,\n",
       "          2.00000000e-02,   2.00000000e-02,   2.00000000e-02],\n",
       "       [  2.00000000e-02,   2.24278850e+02,   2.00000000e-02, ...,\n",
       "          2.00000000e-02,   2.00000000e-02,   2.00000000e-02]])"
      ]
     },
     "execution_count": 9,
     "metadata": {},
     "output_type": "execute_result"
    }
   ],
   "source": [
    "tm2.components_"
   ]
  },
  {
   "cell_type": "code",
   "execution_count": 10,
   "metadata": {
    "collapsed": true
   },
   "outputs": [],
   "source": [
    "# DATAPASS2 = '../../../yelp10/dataset/review.json'\n",
    "# review = load_json_to_df(DATAPASS2)"
   ]
  },
  {
   "cell_type": "code",
   "execution_count": 11,
   "metadata": {
    "collapsed": true
   },
   "outputs": [],
   "source": [
    "# DATAPASS = '../../../yelp10/dataset/business.json'\n",
    "# business = load_json_to_df(DATAPASS)"
   ]
  },
  {
   "cell_type": "code",
   "execution_count": 12,
   "metadata": {
    "collapsed": true
   },
   "outputs": [],
   "source": [
    "def business_id_retrieval(cat, business):\n",
    "    '''\n",
    "    \n",
    "    Input:\n",
    "        cat(str) : category\n",
    "        business(dataframe) : the business data\n",
    "    Output:\n",
    "        id_list(set) : business ids of a particular category\n",
    "    '''\n",
    "    id_list = set()\n",
    "    idx = 0\n",
    "    for row in business.values:\n",
    "        categories = row[3]\n",
    "        if cat in categories:\n",
    "            id_list.add(row[2])\n",
    "    return id_list"
   ]
  },
  {
   "cell_type": "code",
   "execution_count": 13,
   "metadata": {
    "collapsed": true
   },
   "outputs": [],
   "source": [
    "# pizza = business_id_retrieval('Pizza', business)\n",
    "# review_pizza = review.loc[review['business_id'].isin(pizza)]\n",
    "# review_pizza.to_csv('pizza_reviews.csv', index = False)"
   ]
  },
  {
   "cell_type": "code",
   "execution_count": 15,
   "metadata": {
    "collapsed": true
   },
   "outputs": [],
   "source": [
    "review_pizza = pd.read_csv('pizza_reviews.csv')"
   ]
  },
  {
   "cell_type": "code",
   "execution_count": 105,
   "metadata": {
    "collapsed": true
   },
   "outputs": [],
   "source": [
    "# chinese = business_id_retrieval('Chinese', business)\n",
    "# review_chinese = review.loc[review['business_id'].isin(chinese)]\n",
    "# review_chinese.to_csv('chinese_reviews.csv', index = False)"
   ]
  },
  {
   "cell_type": "code",
   "execution_count": 17,
   "metadata": {},
   "outputs": [],
   "source": [
    "review_chinese = pd.read_csv('chinese_reviews.csv')"
   ]
  },
  {
   "cell_type": "code",
   "execution_count": 18,
   "metadata": {
    "collapsed": true
   },
   "outputs": [],
   "source": [
    "import random\n",
    "sample_id = random.sample(range(review_pizza.shape[0]),5)"
   ]
  },
  {
   "cell_type": "code",
   "execution_count": 19,
   "metadata": {
    "collapsed": true
   },
   "outputs": [],
   "source": [
    "def highlight_topic_words(sentence, vec):\n",
    "    tokenizer = vec.build_tokenizer()\n",
    "    analyzer = vec.build_analyzer()\n",
    "    topic_words = vec.get_feature_names()\n",
    "    out = []\n",
    "    for word in tokenizer(sentence):\n",
    "        if word.lower() in topic_words:\n",
    "            out.append('\\x1b[6;30;43m' + word + '\\x1b[0m')\n",
    "        else:\n",
    "            out.append(word)\n",
    "    print (' '.join(out))"
   ]
  },
  {
   "cell_type": "code",
   "execution_count": 26,
   "metadata": {},
   "outputs": [
    {
     "name": "stdout",
     "output_type": "stream",
     "text": [
      "The only \u001b[6;30;43mthing\u001b[0m \u001b[6;30;43mgood\u001b[0m about this \u001b[6;30;43mplace\u001b[0m is the \u001b[6;30;43mworkers\u001b[0m are \u001b[6;30;43mfriendly\u001b[0m that being \u001b[6;30;43msaid\u001b[0m everything was \u001b[6;30;43moverpriced\u001b[0m and the \u001b[6;30;43mworkers\u001b[0m seemed inexperienced The \u001b[6;30;43mpizza\u001b[0m was \u001b[6;30;43mlittle\u001b[0m teeny \u001b[6;30;43mtiny\u001b[0m for \u001b[6;30;43mbucks\u001b[0m what am at the airport Then the \u001b[6;30;43msalad\u001b[0m was \u001b[6;30;43mlike\u001b[0m \u001b[6;30;43mbucks\u001b[0m and could \u001b[6;30;43mve\u001b[0m made it \u001b[6;30;43mbetter\u001b[0m and have It was \u001b[6;30;43msupposed\u001b[0m to be \u001b[6;30;43mlike\u001b[0m \u001b[6;30;43mtomato\u001b[0m cucumber and \u001b[6;30;43mred\u001b[0m \u001b[6;30;43monion\u001b[0m \u001b[6;30;43msalad\u001b[0m Well it was \u001b[6;30;43mpretty\u001b[0m much \u001b[6;30;43mjust\u001b[0m \u001b[6;30;43mtomatoes\u001b[0m with \u001b[6;30;43mlike\u001b[0m \u001b[6;30;43mcouple\u001b[0m cucumbers \u001b[6;30;43mslices\u001b[0m and no \u001b[6;30;43monion\u001b[0m will \u001b[6;30;43msay\u001b[0m the \u001b[6;30;43mingredients\u001b[0m were very \u001b[6;30;43mfresh\u001b[0m so that was \u001b[6;30;43mgood\u001b[0m They give very \u001b[6;30;43msmall\u001b[0m \u001b[6;30;43mdressing\u001b[0m for \u001b[6;30;43mbig\u001b[0m \u001b[6;30;43msalad\u001b[0m which had to \u001b[6;30;43mask\u001b[0m for because they \u001b[6;30;43mforgot\u001b[0m and no silverware They also \u001b[6;30;43mdidn\u001b[0m \u001b[6;30;43mask\u001b[0m \u001b[6;30;43mbasic\u001b[0m \u001b[6;30;43mthings\u001b[0m \u001b[6;30;43mlike\u001b[0m here or to go \u001b[6;30;43mdressing\u001b[0m on it or on side Also it \u001b[6;30;43mtook\u001b[0m \u001b[6;30;43mlong\u001b[0m \u001b[6;30;43mtime\u001b[0m for what was made \u001b[6;30;43mProbably\u001b[0m wont be back here \u001b[6;30;43msorry\u001b[0m\n",
      "\n",
      "\n",
      "\u001b[6;30;43mLove\u001b[0m \u001b[6;30;43mlove\u001b[0m \u001b[6;30;43mlove\u001b[0m this \u001b[6;30;43mplace\u001b[0m could \u001b[6;30;43meat\u001b[0m here every \u001b[6;30;43mday\u001b[0m Creative \u001b[6;30;43mdelicious\u001b[0m farm to \u001b[6;30;43mtable\u001b[0m \u001b[6;30;43mfood\u001b[0m Never had \u001b[6;30;43mbad\u001b[0m \u001b[6;30;43mmeal\u001b[0m\n",
      "\n",
      "\n",
      "Tamal \u001b[6;30;43msaid\u001b[0m he was \u001b[6;30;43mgoing\u001b[0m to \u001b[6;30;43mmake\u001b[0m me the \u001b[6;30;43mbest\u001b[0m \u001b[6;30;43mpizza\u001b[0m in Toronto He \u001b[6;30;43mwasn\u001b[0m joking will \u001b[6;30;43mdrive\u001b[0m across \u001b[6;30;43mtown\u001b[0m for one of his \u001b[6;30;43mpizzas\u001b[0m\n",
      "\n",
      "\n",
      "\u001b[6;30;43mThought\u001b[0m had to \u001b[6;30;43mwait\u001b[0m until my next \u001b[6;30;43mtrip\u001b[0m to \u001b[6;30;43mChicago\u001b[0m to get this \u001b[6;30;43mpizza\u001b[0m and was so \u001b[6;30;43mexcited\u001b[0m when \u001b[6;30;43msaw\u001b[0m this one in \u001b[6;30;43mVegas\u001b[0m \u001b[6;30;43mBest\u001b[0m \u001b[6;30;43mdeep\u001b[0m \u001b[6;30;43mdish\u001b[0m Also is \u001b[6;30;43mgreat\u001b[0m they \u001b[6;30;43mlet\u001b[0m you \u001b[6;30;43mknow\u001b[0m how \u001b[6;30;43mlong\u001b[0m the \u001b[6;30;43mpizza\u001b[0m will take from the \u001b[6;30;43mstart\u001b[0m about \u001b[6;30;43m45\u001b[0m \u001b[6;30;43mhour\u001b[0m so you re not \u001b[6;30;43msitting\u001b[0m there \u001b[6;30;43mwaiting\u001b[0m \u001b[6;30;43mforever\u001b[0m not knowing\n",
      "\n",
      "\n",
      "This is the \u001b[6;30;43mbest\u001b[0m \u001b[6;30;43mNew\u001b[0m \u001b[6;30;43mYork\u001b[0m \u001b[6;30;43mstyle\u001b[0m \u001b[6;30;43mpizza\u001b[0m \u001b[6;30;43mve\u001b[0m found in the \u001b[6;30;43mValley\u001b[0m The \u001b[6;30;43mcrust\u001b[0m is thin and \u001b[6;30;43mchewy\u001b[0m the \u001b[6;30;43mtoppings\u001b[0m are \u001b[6;30;43mauthentic\u001b[0m and the \u001b[6;30;43mflavor\u001b[0m from the \u001b[6;30;43mcheese\u001b[0m and \u001b[6;30;43msauce\u001b[0m put me \u001b[6;30;43mright\u001b[0m in the \u001b[6;30;43mmiddle\u001b[0m of Manhattan The \u001b[6;30;43mgarlic\u001b[0m \u001b[6;30;43mknots\u001b[0m are \u001b[6;30;43mdelicious\u001b[0m with \u001b[6;30;43mreal\u001b[0m \u001b[6;30;43mgarlic\u001b[0m parsley and maranara \u001b[6;30;43mdipping\u001b[0m \u001b[6;30;43msauce\u001b[0m Tony and crew are \u001b[6;30;43mfriendly\u001b[0m \u001b[6;30;43mfun\u001b[0m and \u001b[6;30;43mremember\u001b[0m your name and \u001b[6;30;43mfavorites\u001b[0m once you \u001b[6;30;43mve\u001b[0m been in few \u001b[6;30;43mtimes\u001b[0m The \u001b[6;30;43mkitchen\u001b[0m \u001b[6;30;43mstaff\u001b[0m is also courteous and \u001b[6;30;43mhelpful\u001b[0m when they assist with delivering \u001b[6;30;43morders\u001b[0m on \u001b[6;30;43mbusy\u001b[0m \u001b[6;30;43mnight\u001b[0m The only improvement could see is if they \u001b[6;30;43mcarry\u001b[0m \u001b[6;30;43mgood\u001b[0m \u001b[6;30;43mbeer\u001b[0m Nothing \u001b[6;30;43mgoes\u001b[0m with \u001b[6;30;43mpizza\u001b[0m \u001b[6;30;43mlike\u001b[0m \u001b[6;30;43mgood\u001b[0m \u001b[6;30;43mbeer\u001b[0m\n",
      "\n",
      "\n"
     ]
    }
   ],
   "source": [
    "for t in review_pizza.iloc[sample_id]['text']:\n",
    "    highlight_topic_words(t, vec)\n",
    "    print ('\\n')"
   ]
  },
  {
   "cell_type": "code",
   "execution_count": 21,
   "metadata": {
    "collapsed": true
   },
   "outputs": [],
   "source": [
    "sample_id = random.sample(range(review_chinese.shape[0]),5)"
   ]
  },
  {
   "cell_type": "code",
   "execution_count": 27,
   "metadata": {},
   "outputs": [
    {
     "name": "stdout",
     "output_type": "stream",
     "text": [
      "They must of \u001b[6;30;43mheard\u001b[0m the complaints and \u001b[6;30;43mchanged\u001b[0m \u001b[6;30;43mthings\u001b[0m around \u001b[6;30;43mTried\u001b[0m them again \u001b[6;30;43mrecently\u001b[0m and the \u001b[6;30;43mfood\u001b[0m was back to being top notch \u001b[6;30;43mWay\u001b[0m to go keep it up\n",
      "\n",
      "\n",
      "Ohhhh Hollywood How \u001b[6;30;43mlove\u001b[0m \u001b[6;30;43mhate\u001b[0m you Your \u001b[6;30;43mamazing\u001b[0m \u001b[6;30;43mhappy\u001b[0m \u001b[6;30;43mmeal\u001b[0m \u001b[6;30;43mcombo\u001b[0m for \u001b[6;30;43m99\u001b[0m is so \u001b[6;30;43mdelicious\u001b[0m Everyone should \u001b[6;30;43morder\u001b[0m it It \u001b[6;30;43mcomes\u001b[0m with \u001b[6;30;43mmeats\u001b[0m spaghetti or \u001b[6;30;43mrice\u001b[0m \u001b[6;30;43mveggies\u001b[0m \u001b[6;30;43msoup\u001b[0m and \u001b[6;30;43mbun\u001b[0m FOR \u001b[6;30;43m99\u001b[0m \u001b[6;30;43mUnfortunately\u001b[0m it ends at 7pm and that where am frustrated at the \u001b[6;30;43mlack\u001b[0m of \u001b[6;30;43moptions\u001b[0m there are Hollywood \u001b[6;30;43mdefinitely\u001b[0m has some \u001b[6;30;43mhit\u001b[0m or misses While \u001b[6;30;43mlove\u001b[0m the spaghetti they \u001b[6;30;43mserve\u001b[0m dislike their \u001b[6;30;43mbreakfast\u001b[0m and found it \u001b[6;30;43mcheap\u001b[0m and bleh That why \u001b[6;30;43mdon\u001b[0m bother \u001b[6;30;43mcoming\u001b[0m after \u001b[6;30;43manymore\u001b[0m The timings for \u001b[6;30;43mdifferent\u001b[0m \u001b[6;30;43mitems\u001b[0m on the \u001b[6;30;43mmenu\u001b[0m is also \u001b[6;30;43mkind\u001b[0m of annoying Why can \u001b[6;30;43morder\u001b[0m this 24 My \u001b[6;30;43mboyfriend\u001b[0m is also annoyed at the \u001b[6;30;43mlack\u001b[0m of \u001b[6;30;43moptions\u001b[0m for him as well and \u001b[6;30;43musually\u001b[0m \u001b[6;30;43morders\u001b[0m only the \u001b[6;30;43mwings\u001b[0m which are \u001b[6;30;43mquite\u001b[0m \u001b[6;30;43mdelicious\u001b[0m That being \u001b[6;30;43msaid\u001b[0m the \u001b[6;30;43mcheap\u001b[0m \u001b[6;30;43mprice\u001b[0m of these \u001b[6;30;43mitems\u001b[0m are one of the \u001b[6;30;43mbig\u001b[0m factors of \u001b[6;30;43mcoming\u001b[0m here \u001b[6;30;43mlot\u001b[0m of the \u001b[6;30;43mdishes\u001b[0m are under \u001b[6;30;43m10\u001b[0m also \u001b[6;30;43menjoy\u001b[0m the presotea that is \u001b[6;30;43moffered\u001b[0m at lower \u001b[6;30;43mprice\u001b[0m if your \u001b[6;30;43mcombo\u001b[0m has \u001b[6;30;43mdrink\u001b[0m with it \u001b[6;30;43mService\u001b[0m is very \u001b[6;30;43mAsian\u001b[0m \u001b[6;30;43mlol\u001b[0m The younger workers are \u001b[6;30;43mdefinitely\u001b[0m more receptive but the older \u001b[6;30;43mones\u001b[0m do not \u001b[6;30;43mcare\u001b[0m They will take your \u001b[6;30;43morder\u001b[0m give you your \u001b[6;30;43mfood\u001b[0m and never \u001b[6;30;43mcome\u001b[0m back \u001b[6;30;43munless\u001b[0m you call them over Hollywood is for me It one of the establishments keep \u001b[6;30;43mcoming\u001b[0m back to for \u001b[6;30;43mcheap\u001b[0m eats with comfy \u001b[6;30;43mseating\u001b[0m and \u001b[6;30;43mlots\u001b[0m of tv They have their off on \u001b[6;30;43mdays\u001b[0m but \u001b[6;30;43mgenerally\u001b[0m it is on for me\n",
      "\n",
      "\n",
      "\u001b[6;30;43mGood\u001b[0m \u001b[6;30;43mnoodles\u001b[0m but even \u001b[6;30;43mbetter\u001b[0m \u001b[6;30;43mdessert\u001b[0m go to \u001b[6;30;43mMilk\u001b[0m \u001b[6;30;43mBar\u001b[0m\n",
      "\n",
      "\n",
      "\u001b[6;30;43mFood\u001b[0m is \u001b[6;30;43mstars\u001b[0m But \u001b[6;30;43mgave\u001b[0m for \u001b[6;30;43moverall\u001b[0m due to tight \u001b[6;30;43mspace\u001b[0m \u001b[6;30;43mlong\u001b[0m \u001b[6;30;43mwait\u001b[0m feels very \u001b[6;30;43mwarm\u001b[0m in here too \u001b[6;30;43mHighly\u001b[0m \u001b[6;30;43mrecommend\u001b[0m to \u001b[6;30;43mcome\u001b[0m here with your \u001b[6;30;43mfamily\u001b[0m so you can \u001b[6;30;43mtry\u001b[0m more \u001b[6;30;43mdishes\u001b[0m This is not \u001b[6;30;43mfancy\u001b[0m \u001b[6;30;43mplace\u001b[0m for romantic \u001b[6;30;43mdate\u001b[0m It strictly for foodies who \u001b[6;30;43mwant\u001b[0m \u001b[6;30;43mtasty\u001b[0m \u001b[6;30;43mchinese\u001b[0m \u001b[6;30;43mdinner\u001b[0m The \u001b[6;30;43mfood\u001b[0m is \u001b[6;30;43mamazing\u001b[0m \u001b[6;30;43mMake\u001b[0m reservations as they are \u001b[6;30;43mpacked\u001b[0m here for Tuesday \u001b[6;30;43mnight\u001b[0m even\n",
      "\n",
      "\n",
      "We \u001b[6;30;43mrecently\u001b[0m \u001b[6;30;43mwent\u001b[0m for \u001b[6;30;43mlunch\u001b[0m \u001b[6;30;43mweek\u001b[0m \u001b[6;30;43mago\u001b[0m and the \u001b[6;30;43mfood\u001b[0m and \u001b[6;30;43mservice\u001b[0m was fabulous That \u001b[6;30;43mtoday\u001b[0m \u001b[6;30;43mwent\u001b[0m with my hubby and he was \u001b[6;30;43mreally\u001b[0m \u001b[6;30;43mimpressed\u001b[0m with the \u001b[6;30;43mfood\u001b[0m Bravo to the \u001b[6;30;43mcook\u001b[0m and \u001b[6;30;43mstaff\u001b[0m Much \u001b[6;30;43mneeded\u001b[0m improvement was \u001b[6;30;43mtold\u001b[0m by the \u001b[6;30;43mwaitress\u001b[0m her father in law was the \u001b[6;30;43mcook\u001b[0m and they \u001b[6;30;43mtook\u001b[0m over the \u001b[6;30;43mrestaurant\u001b[0m \u001b[6;30;43m10\u001b[0m \u001b[6;30;43mmonths\u001b[0m \u001b[6;30;43mago\u001b[0m will be back and refer this \u001b[6;30;43mplace\u001b[0m now Keep up the \u001b[6;30;43mgreat\u001b[0m \u001b[6;30;43mservice\u001b[0m and \u001b[6;30;43mquality\u001b[0m of \u001b[6;30;43mfood\u001b[0m\n",
      "\n",
      "\n"
     ]
    }
   ],
   "source": [
    "for t in review_chinese.iloc[sample_id]['text']:\n",
    "    highlight_topic_words(t, vec3)\n",
    "    print ('\\n')"
   ]
  },
  {
   "cell_type": "markdown",
   "metadata": {},
   "source": [
    "## Can we assume 1 topic per sentence?"
   ]
  },
  {
   "cell_type": "markdown",
   "metadata": {},
   "source": [
    "Following *Sentence Level Recurrent Topic Model* "
   ]
  },
  {
   "cell_type": "markdown",
   "metadata": {},
   "source": [
    "Each sentence is a sum of topic index for each word (Product always resulted 0 because of the lack of overlaps)"
   ]
  },
  {
   "cell_type": "code",
   "execution_count": 156,
   "metadata": {
    "collapsed": true
   },
   "outputs": [],
   "source": [
    "def get_k_index(sentence, vec, tm):\n",
    "    analyzer = vec.build_analyzer()\n",
    "    topic_words = vec.get_feature_names()\n",
    "    tm_mat = tm.components_\n",
    "    k_index = np.array([0.]*tm_mat.shape[0])\n",
    "    for word in analyzer(sentence):\n",
    "        if word in topic_words:\n",
    "            k_index += tm_mat[:, topic_words.index(word)]\n",
    "    prob = k_index/(sum(k_index))\n",
    "    return k_index, prob"
   ]
  },
  {
   "cell_type": "code",
   "execution_count": 157,
   "metadata": {},
   "outputs": [],
   "source": [
    "sampleA = review_chinese.iloc[sample_id]['text'].values[2]"
   ]
  },
  {
   "cell_type": "code",
   "execution_count": 158,
   "metadata": {},
   "outputs": [],
   "source": [
    "k, p = get_k_index(sampleA, vec3, tm3)"
   ]
  },
  {
   "cell_type": "code",
   "execution_count": 159,
   "metadata": {},
   "outputs": [
    {
     "data": {
      "text/plain": [
       "array([ 0.37061882,  0.26990587,  0.08833988])"
      ]
     },
     "execution_count": 159,
     "metadata": {},
     "output_type": "execute_result"
    }
   ],
   "source": [
    "p[k.argsort()[:-4:-1]]"
   ]
  },
  {
   "cell_type": "code",
   "execution_count": 160,
   "metadata": {
    "collapsed": true
   },
   "outputs": [],
   "source": [
    "def display_ith_topics(model, feature_names, n_top_words, ith):\n",
    "    for i in ith:\n",
    "        print(\"Topic %d:\" % i)\n",
    "        print(\" \".join([feature_names[j] for j in model.components_[i].argsort()[:-n_top_words:-1]]))"
   ]
  },
  {
   "cell_type": "code",
   "execution_count": 161,
   "metadata": {},
   "outputs": [
    {
     "name": "stdout",
     "output_type": "stream",
     "text": [
      "Topic 6:\n",
      "good pretty overall prices little bit value pricey thing\n",
      "Topic 4:\n",
      "noodles hand broth dan pulled bowl noodle ramen singapore\n",
      "Topic 24:\n",
      "tea milk bubble ice boba drink green hk drinks\n"
     ]
    }
   ],
   "source": [
    "display_ith_topics(tm3, vec3.get_feature_names(), 10, k.argsort()[:-4:-1])"
   ]
  },
  {
   "cell_type": "code",
   "execution_count": 162,
   "metadata": {},
   "outputs": [
    {
     "data": {
      "text/plain": [
       "'Good noodles but even better dessert- go to Milk Bar.'"
      ]
     },
     "execution_count": 162,
     "metadata": {},
     "output_type": "execute_result"
    }
   ],
   "source": [
    "sampleA"
   ]
  },
  {
   "cell_type": "code",
   "execution_count": 163,
   "metadata": {},
   "outputs": [
    {
     "name": "stdout",
     "output_type": "stream",
     "text": [
      "SampleA is\n",
      "37%, Topic6\n",
      "26%, Topic4\n",
      "8%, Topic24\n"
     ]
    }
   ],
   "source": [
    "print('SampleA is')\n",
    "for i, j in zip(p[k.argsort()[:-4:-1]], k.argsort()[:-4:-1]):\n",
    "    print ('{}%, Topic{}'.format(int(i*100), j))"
   ]
  },
  {
   "cell_type": "markdown",
   "metadata": {},
   "source": [
    "Try to see the distribution of highest proportion of topic per sentence"
   ]
  },
  {
   "cell_type": "code",
   "execution_count": 228,
   "metadata": {},
   "outputs": [],
   "source": [
    "def get_highest_prob(sentence, vec, tm):\n",
    "    analyzer = vec.build_analyzer()\n",
    "    topic_words = vec.get_feature_names()\n",
    "    tm_mat = tm.components_\n",
    "    k_index = np.array([0.]*tm_mat.shape[0])\n",
    "    for word in analyzer(sentence):\n",
    "        if word in topic_words:\n",
    "            k_index += tm_mat[:, topic_words.index(word)]\n",
    "    return max(k_index/(sum(k_index))) if sum(k_index) != 0 else 0"
   ]
  },
  {
   "cell_type": "code",
   "execution_count": 229,
   "metadata": {},
   "outputs": [
    {
     "data": {
      "text/plain": [
       "0.37061881849570738"
      ]
     },
     "execution_count": 229,
     "metadata": {},
     "output_type": "execute_result"
    }
   ],
   "source": [
    "get_highest_prob(sampleA, vec3,tm3)"
   ]
  },
  {
   "cell_type": "code",
   "execution_count": 203,
   "metadata": {
    "collapsed": true
   },
   "outputs": [],
   "source": [
    "# random 5000 sample \n",
    "ids = random.sample(range(review_chinese.shape[0]),5000)"
   ]
  },
  {
   "cell_type": "code",
   "execution_count": 206,
   "metadata": {},
   "outputs": [],
   "source": [
    "probs = []\n",
    "for review in review_chinese.iloc[ids]['text'].values:\n",
    "    sent_text = nltk.sent_tokenize(review)\n",
    "    for s in sent_text:\n",
    "        p = get_highest_prob(s, vec3, tm3)\n",
    "        if p != 0:\n",
    "            probs.append(p)"
   ]
  },
  {
   "cell_type": "code",
   "execution_count": 230,
   "metadata": {},
   "outputs": [
    {
     "data": {
      "image/png": "[encoded data removed]",
      "text/plain": [
       "<matplotlib.figure.Figure at 0x12122d240>"
      ]
     },
     "metadata": {},
     "output_type": "display_data"
    }
   ],
   "source": [
    "sns.distplot(probs, kde = False)\n",
    "plt.title('Proportion of meaning covered by 1 topic')\n",
    "plt.show()"
   ]
  },
  {
   "cell_type": "code",
   "execution_count": 224,
   "metadata": {
    "collapsed": true
   },
   "outputs": [],
   "source": [
    "def get_topic_threshold(sentence, vec, tm, thresh):\n",
    "    analyzer = vec.build_analyzer()\n",
    "    topic_words = vec.get_feature_names()\n",
    "    tm_mat = tm.components_\n",
    "    k_index = np.array([0.]*tm_mat.shape[0])\n",
    "    for word in analyzer(sentence):\n",
    "        if word in topic_words:\n",
    "            k_index += tm_mat[:, topic_words.index(word)]\n",
    "    \n",
    "    counter = 0\n",
    "    prob = 0.0\n",
    "    if sum(k_index) == 0:\n",
    "        return counter\n",
    "    else:\n",
    "        mat = sorted(k_index/(sum(k_index)), reverse = True)\n",
    "        while (prob < thresh):\n",
    "            prob += mat[counter]\n",
    "            counter += 1\n",
    "        return counter"
   ]
  },
  {
   "cell_type": "code",
   "execution_count": 225,
   "metadata": {},
   "outputs": [
    {
     "data": {
      "text/plain": [
       "5"
      ]
     },
     "execution_count": 225,
     "metadata": {},
     "output_type": "execute_result"
    }
   ],
   "source": [
    "get_topic_threshold(sampleA, vec3, tm3, 0.8)"
   ]
  },
  {
   "cell_type": "code",
   "execution_count": 226,
   "metadata": {},
   "outputs": [],
   "source": [
    "topics = []\n",
    "for review in review_chinese.iloc[ids]['text'].values:\n",
    "    sent_text = nltk.sent_tokenize(review)\n",
    "    for s in sent_text:\n",
    "        p = get_topic_threshold(s, vec3, tm3, 0.8)\n",
    "        if p != 0:\n",
    "            topics.append(p)"
   ]
  },
  {
   "cell_type": "code",
   "execution_count": 227,
   "metadata": {},
   "outputs": [
    {
     "data": {
      "image/png": "[encoded data removed]",
      "text/plain": [
       "<matplotlib.figure.Figure at 0x1218ce6a0>"
      ]
     },
     "metadata": {},
     "output_type": "display_data"
    }
   ],
   "source": [
    "sns.distplot(topics, kde = False)\n",
    "plt.show()"
   ]
  },
  {
   "cell_type": "code",
   "execution_count": null,
   "metadata": {
    "collapsed": true
   },
   "outputs": [],
   "source": []
  }
 ],
 "metadata": {
  "kernelspec": {
   "display_name": "Python 3",
   "language": "python",
   "name": "python3"
  },
  "language_info": {
   "codemirror_mode": {
    "name": "ipython",
    "version": 3
   },
   "file_extension": ".py",
   "mimetype": "text/x-python",
   "name": "python",
   "nbconvert_exporter": "python",
   "pygments_lexer": "ipython3",
   "version": "3.6.1"
  }
 },
 "nbformat": 4,
 "nbformat_minor": 2
}
