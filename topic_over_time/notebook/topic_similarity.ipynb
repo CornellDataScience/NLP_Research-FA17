{
 "cells": [
  {
   "cell_type": "code",
   "execution_count": 25,
   "metadata": {
    "collapsed": true
   },
   "outputs": [],
   "source": [
    "import pickle\n",
    "from utils import * "
   ]
  },
  {
   "cell_type": "code",
   "execution_count": 7,
   "metadata": {
    "collapsed": true
   },
   "outputs": [],
   "source": [
    "def load_topic_model(vectorizer_file_name, topic_model_file_name):\n",
    "    with open(vectorizer_file_name, \"rb\") as f:\n",
    "        vectorizer = pickle.load(f)\n",
    "    with open(topic_model_file_name, \"rb\") as f:\n",
    "        topic_model = pickle.load(f)\n",
    "    return vectorizer, topic_model"
   ]
  },
  {
   "cell_type": "code",
   "execution_count": 10,
   "metadata": {},
   "outputs": [],
   "source": [
    "vec, tm = load_topic_model('model/pizza_tfidf_vectorizer.pkl','model/pizza_nmf.pkl')"
   ]
  },
  {
   "cell_type": "code",
   "execution_count": 18,
   "metadata": {
    "collapsed": true
   },
   "outputs": [],
   "source": [
    "vec2, tm2 = load_topic_model('model/pizza_count_vectorizer.pkl','model/pizza_lda.pkl')"
   ]
  },
  {
   "cell_type": "code",
   "execution_count": 19,
   "metadata": {
    "collapsed": true
   },
   "outputs": [],
   "source": [
    "vec3, tm3 = load_topic_model('model/chinese_tfidf_vectorizer.pkl','model/chinese_nmf.pkl')"
   ]
  },
  {
   "cell_type": "code",
   "execution_count": 20,
   "metadata": {
    "collapsed": true
   },
   "outputs": [],
   "source": [
    "vec4, tm4 = load_topic_model('model/chinese_count_vectorizer.pkl','model/chinese_lda.pkl')"
   ]
  },
  {
   "cell_type": "code",
   "execution_count": 21,
   "metadata": {
    "collapsed": true
   },
   "outputs": [],
   "source": [
    "def display_topics(model, feature_names, n_top_words):\n",
    "    for topic_index, topic in enumerate(model.components_):\n",
    "        print(\"Topic %d:\" % topic_index)\n",
    "        print(\" \".join([feature_names[i] for i in topic.argsort()[:-n_top_words:-1]]))"
   ]
  },
  {
   "cell_type": "code",
   "execution_count": 22,
   "metadata": {},
   "outputs": [
    {
     "data": {
      "text/plain": [
       "array([[  5.35318219e-02,   0.00000000e+00,   4.09802948e-02, ...,\n",
       "          7.96897006e-02,   3.98538679e-02,   0.00000000e+00],\n",
       "       [  7.86209423e-02,   1.88202333e-01,   3.27705625e-02, ...,\n",
       "          2.97546372e-02,   9.73259392e-02,   0.00000000e+00],\n",
       "       [  3.54345514e-01,   2.62719244e+00,   1.12437870e-01, ...,\n",
       "          0.00000000e+00,   0.00000000e+00,   0.00000000e+00],\n",
       "       ..., \n",
       "       [  4.13455229e-02,   0.00000000e+00,   4.27813136e-04, ...,\n",
       "          0.00000000e+00,   6.59642074e-02,   0.00000000e+00],\n",
       "       [  0.00000000e+00,   0.00000000e+00,   0.00000000e+00, ...,\n",
       "          3.22001617e-02,   1.51870707e-01,   0.00000000e+00],\n",
       "       [  1.37329447e-02,   0.00000000e+00,   7.26685010e-02, ...,\n",
       "          0.00000000e+00,   0.00000000e+00,   0.00000000e+00]])"
      ]
     },
     "execution_count": 22,
     "metadata": {},
     "output_type": "execute_result"
    }
   ],
   "source": [
    "tm.components_"
   ]
  },
  {
   "cell_type": "code",
   "execution_count": 23,
   "metadata": {},
   "outputs": [
    {
     "data": {
      "text/plain": [
       "array([[  2.00000000e-02,   2.00000000e-02,   2.00000000e-02, ...,\n",
       "          2.00000000e-02,   2.00000000e-02,   2.00000000e-02],\n",
       "       [  2.00000000e-02,   2.00000000e-02,   2.00000000e-02, ...,\n",
       "          2.00000000e-02,   2.00000000e-02,   2.00000000e-02],\n",
       "       [  2.00000000e-02,   2.00000001e-02,   2.00000000e-02, ...,\n",
       "          2.00000000e-02,   2.00000000e-02,   2.00000000e-02],\n",
       "       ..., \n",
       "       [  2.00000000e-02,   1.30035557e+04,   2.00000000e-02, ...,\n",
       "          2.00000000e-02,   2.00000000e-02,   2.00000000e-02],\n",
       "       [  2.00000000e-02,   2.00000000e-02,   2.00000000e-02, ...,\n",
       "          2.00000000e-02,   2.00000000e-02,   2.00000000e-02],\n",
       "       [  2.00000000e-02,   2.24278850e+02,   2.00000000e-02, ...,\n",
       "          2.00000000e-02,   2.00000000e-02,   2.00000000e-02]])"
      ]
     },
     "execution_count": 23,
     "metadata": {},
     "output_type": "execute_result"
    }
   ],
   "source": [
    "tm2.components_"
   ]
  },
  {
   "cell_type": "code",
   "execution_count": 26,
   "metadata": {
    "collapsed": true
   },
   "outputs": [],
   "source": [
    "DATAPASS2 = '../../../yelp10/dataset/review.json'\n",
    "review = load_json_to_df(DATAPASS2)"
   ]
  },
  {
   "cell_type": "code",
   "execution_count": 27,
   "metadata": {
    "collapsed": true
   },
   "outputs": [],
   "source": [
    "DATAPASS = '../../../yelp10/dataset/business.json'\n",
    "business = load_json_to_df(DATAPASS)"
   ]
  },
  {
   "cell_type": "code",
   "execution_count": 28,
   "metadata": {
    "collapsed": true
   },
   "outputs": [],
   "source": [
    "def business_id_retrieval(cat, business):\n",
    "    '''\n",
    "    \n",
    "    Input:\n",
    "        cat(str) : category\n",
    "        business(dataframe) : the business data\n",
    "    Output:\n",
    "        id_list(set) : business ids of a particular category\n",
    "    '''\n",
    "    id_list = set()\n",
    "    idx = 0\n",
    "    for row in business.values:\n",
    "        categories = row[3]\n",
    "        if cat in categories:\n",
    "            id_list.add(row[2])\n",
    "    return id_list"
   ]
  },
  {
   "cell_type": "code",
   "execution_count": 29,
   "metadata": {
    "collapsed": true
   },
   "outputs": [],
   "source": [
    "pizza = business_id_retrieval('Pizza', business)"
   ]
  },
  {
   "cell_type": "code",
   "execution_count": 30,
   "metadata": {
    "collapsed": true
   },
   "outputs": [],
   "source": [
    "review_pizza = review.loc[review['business_id'].isin(pizza)]"
   ]
  },
  {
   "cell_type": "code",
   "execution_count": 105,
   "metadata": {},
   "outputs": [],
   "source": [
    "review_pizza.to_csv('pizza_reviews.csv', index = False)"
   ]
  },
  {
   "cell_type": "code",
   "execution_count": 106,
   "metadata": {
    "collapsed": true
   },
   "outputs": [],
   "source": [
    "chinese = business_id_retrieval('Chinese', business)"
   ]
  },
  {
   "cell_type": "code",
   "execution_count": 107,
   "metadata": {
    "collapsed": true
   },
   "outputs": [],
   "source": [
    "review_chinese = review.loc[review['business_id'].isin(chinese)]"
   ]
  },
  {
   "cell_type": "code",
   "execution_count": 108,
   "metadata": {
    "collapsed": true
   },
   "outputs": [],
   "source": [
    "review_chinese.to_csv('chinese_reviews.csv', index = False)"
   ]
  },
  {
   "cell_type": "code",
   "execution_count": 101,
   "metadata": {},
   "outputs": [],
   "source": [
    "import random\n",
    "sample_id = random.sample(range(review_pizza.shape[0]),5)"
   ]
  },
  {
   "cell_type": "code",
   "execution_count": 102,
   "metadata": {},
   "outputs": [],
   "source": [
    "def highlight_topic_words(sentence, vec):\n",
    "    tokenizer = vec.build_tokenizer()\n",
    "    analyzer = vec.build_analyzer()\n",
    "    topic_words = vec.get_feature_names()\n",
    "    out = []\n",
    "    for word in tokenizer(sentence):\n",
    "        if word.lower() in topic_words:\n",
    "            out.append('\\x1b[6;30;43m' + word + '\\x1b[0m')\n",
    "        else:\n",
    "            out.append(word)\n",
    "    print (' '.join(out))"
   ]
  },
  {
   "cell_type": "code",
   "execution_count": 103,
   "metadata": {},
   "outputs": [
    {
     "name": "stdout",
     "output_type": "stream",
     "text": [
      "Very ordinary \u001b[6;30;43mburgers\u001b[0m and \u001b[6;30;43mdrinks\u001b[0m very pedestrian Also our \u001b[6;30;43mparty\u001b[0m of \u001b[6;30;43mfinished\u001b[0m our \u001b[6;30;43mmeals\u001b[0m prior to the other two being \u001b[6;30;43mserved\u001b[0m the \u001b[6;30;43mpizza\u001b[0m they \u001b[6;30;43mordered\u001b[0m Frankly no \u001b[6;30;43mreason\u001b[0m to \u001b[6;30;43mreturn\u001b[0m when there are so many \u001b[6;30;43mgreat\u001b[0m spots in Tempe \u001b[6;30;43mScottsdale\u001b[0m \u001b[6;30;43mPhoenix\u001b[0m\n",
      "\n",
      "\n",
      "\u001b[6;30;43mService\u001b[0m and \u001b[6;30;43menvironment\u001b[0m here was \u001b[6;30;43mreally\u001b[0m \u001b[6;30;43mgood\u001b[0m The \u001b[6;30;43mfood\u001b[0m was \u001b[6;30;43mokay\u001b[0m and \u001b[6;30;43mlittle\u001b[0m \u001b[6;30;43mpricey\u001b[0m to me We had \u001b[6;30;43mreservation\u001b[0m for \u001b[6;30;43mbig\u001b[0m \u001b[6;30;43mgroup\u001b[0m and it was \u001b[6;30;43measy\u001b[0m to \u001b[6;30;43mmake\u001b[0m the \u001b[6;30;43mreservation\u001b[0m since it was weekday \u001b[6;30;43mOverall\u001b[0m everything was \u001b[6;30;43mgood\u001b[0m but nothing too \u001b[6;30;43mspecial\u001b[0m\n",
      "\n",
      "\n",
      "In quest for the \u001b[6;30;43mbest\u001b[0m \u001b[6;30;43mmargarita\u001b[0m in \u001b[6;30;43mPhoenix\u001b[0m my \u001b[6;30;43mchain\u001b[0m Mexican weary \u001b[6;30;43mgirlfriend\u001b[0m and stumbled in To our delight Sean is master mixologist alchemist The jalapeño \u001b[6;30;43mmargarita\u001b[0m off the \u001b[6;30;43mmenu\u001b[0m was liquid gold The Bloody Mary was delightful Sean made grapefruit \u001b[6;30;43mbasil\u001b[0m off the \u001b[6;30;43mmenu\u001b[0m libation that made me \u001b[6;30;43mforget\u001b[0m every greyhound \u001b[6;30;43msalty\u001b[0m \u001b[6;30;43mdog\u001b[0m have ever had \u001b[6;30;43mCome\u001b[0m and \u001b[6;30;43mask\u001b[0m for Sean so that he may take his \u001b[6;30;43mplace\u001b[0m amongst the pantheon of bartending deities\n",
      "\n",
      "\n",
      "This \u001b[6;30;43mplace\u001b[0m is the \u001b[6;30;43mBest\u001b[0m The \u001b[6;30;43mfood\u001b[0m is so \u001b[6;30;43mgood\u001b[0m \u001b[6;30;43mlot\u001b[0m of \u001b[6;30;43mgreat\u001b[0m history in the \u001b[6;30;43mrestaurant\u001b[0m so \u001b[6;30;43mfun\u001b[0m to \u001b[6;30;43mwalk\u001b[0m around and see all the \u001b[6;30;43mold\u001b[0m \u001b[6;30;43mstuff\u001b[0m on the walls and ceilings Mary lee is such \u001b[6;30;43mnice\u001b[0m \u001b[6;30;43mlady\u001b[0m she is so \u001b[6;30;43mwarm\u001b[0m and welcomes everyone \u001b[6;30;43mAwesome\u001b[0m \u001b[6;30;43mfamily\u001b[0m \u001b[6;30;43mbar\u001b[0m \u001b[6;30;43mFun\u001b[0m to \u001b[6;30;43msit\u001b[0m on the \u001b[6;30;43mpatio\u001b[0m and \u001b[6;30;43menjoy\u001b[0m the fire We will \u001b[6;30;43mreturn\u001b[0m often and \u001b[6;30;43mbring\u001b[0m \u001b[6;30;43mfriends\u001b[0m and \u001b[6;30;43mfamily\u001b[0m to Minder Binders \u001b[6;30;43mThank\u001b[0m you for \u001b[6;30;43mbring\u001b[0m the \u001b[6;30;43mbar\u001b[0m back to Tempe\n",
      "\n",
      "\n",
      "Stood in \u001b[6;30;43mline\u001b[0m for over 30min for \u001b[6;30;43mslices\u001b[0m Only one \u001b[6;30;43mguy\u001b[0m was \u001b[6;30;43mworking\u001b[0m both \u001b[6;30;43mmaking\u001b[0m \u001b[6;30;43mpizzas\u001b[0m reheating \u001b[6;30;43mslices\u001b[0m and \u001b[6;30;43mserving\u001b[0m \u001b[6;30;43mpeople\u001b[0m He was \u001b[6;30;43mcompletely\u001b[0m inefficient spending the majority of the \u001b[6;30;43mtime\u001b[0m checking and rechecking if \u001b[6;30;43mpizza\u001b[0m had \u001b[6;30;43mfinished\u001b[0m baking Meanwhile there are \u001b[6;30;43mfresh\u001b[0m \u001b[6;30;43mpizzas\u001b[0m on display and \u001b[6;30;43mline\u001b[0m of \u001b[6;30;43m20\u001b[0m \u001b[6;30;43mpeople\u001b[0m are \u001b[6;30;43mjust\u001b[0m staring at him \u001b[6;30;43mwaiting\u001b[0m to be \u001b[6;30;43mserved\u001b[0m But even \u001b[6;30;43mworse\u001b[0m there were three \u001b[6;30;43mguys\u001b[0m at the register \u001b[6;30;43mjust\u001b[0m staring at the one \u001b[6;30;43mguy\u001b[0m \u001b[6;30;43mworking\u001b[0m and goofing off We almost missed our show and it was complete \u001b[6;30;43mwaste\u001b[0m of \u001b[6;30;43mtime\u001b[0m would never \u001b[6;30;43mrecommend\u001b[0m this \u001b[6;30;43mplace\u001b[0m to anyone\n",
      "\n",
      "\n"
     ]
    }
   ],
   "source": [
    "for t in review_pizza.iloc[sample_id]['text']:\n",
    "    highlight_topic_words(t, vec)\n",
    "    print ('\\n')"
   ]
  },
  {
   "cell_type": "code",
   "execution_count": 109,
   "metadata": {
    "collapsed": true
   },
   "outputs": [],
   "source": [
    "sample_id = random.sample(range(review_chinese.shape[0]),5)"
   ]
  },
  {
   "cell_type": "code",
   "execution_count": 110,
   "metadata": {},
   "outputs": [
    {
     "name": "stdout",
     "output_type": "stream",
     "text": [
      "If there was \u001b[6;30;43mway\u001b[0m could give less than \u001b[6;30;43mstar\u001b[0m would This \u001b[6;30;43mrestaurant\u001b[0m was \u001b[6;30;43mawful\u001b[0m Words can describe he \u001b[6;30;43mexperience\u001b[0m had that \u001b[6;30;43mestablishment\u001b[0m First the \u001b[6;30;43mservice\u001b[0m was \u001b[6;30;43mawful\u001b[0m \u001b[6;30;43mWaiter\u001b[0m \u001b[6;30;43mcouldn\u001b[0m even \u001b[6;30;43mspeak\u001b[0m English \u001b[6;30;43mSecond\u001b[0m \u001b[6;30;43mfood\u001b[0m was \u001b[6;30;43mmediocre\u001b[0m And third and most important not only \u001b[6;30;43mdid\u001b[0m get sick from the \u001b[6;30;43mfood\u001b[0m but was so sick missed my flight back to my \u001b[6;30;43mhome\u001b[0m \u001b[6;30;43mtown\u001b[0m will NEVER \u001b[6;30;43meat\u001b[0m here again and after is \u001b[6;30;43msaid\u001b[0m and done never \u001b[6;30;43meat\u001b[0m Chinese \u001b[6;30;43mfood\u001b[0m ever again\n",
      "\n",
      "\n",
      "\u001b[6;30;43mArrived\u001b[0m on Wednesday \u001b[6;30;43mnight\u001b[0m with three others and was \u001b[6;30;43mseated\u001b[0m promptly \u001b[6;30;43mTables\u001b[0m are \u001b[6;30;43mlarge\u001b[0m and well apart from each other Each \u001b[6;30;43mtable\u001b[0m has \u001b[6;30;43mlittle\u001b[0m steel cart that can be tucked beneath the \u001b[6;30;43mtable\u001b[0m or pulled out and \u001b[6;30;43mused\u001b[0m to \u001b[6;30;43mhold\u001b[0m \u001b[6;30;43mplates\u001b[0m of \u001b[6;30;43mfood\u001b[0m \u001b[6;30;43mSauce\u001b[0m mixing \u001b[6;30;43mtable\u001b[0m made concocting our own dips \u001b[6;30;43measy\u001b[0m \u001b[6;30;43mservice\u001b[0m was \u001b[6;30;43mfast\u001b[0m and \u001b[6;30;43mattentive\u001b[0m \u001b[6;30;43mVariety\u001b[0m was \u001b[6;30;43mgood\u001b[0m and \u001b[6;30;43mfresh\u001b[0m downside is that no dumplings of any \u001b[6;30;43msort\u001b[0m but would trade no dumplings for \u001b[6;30;43mgood\u001b[0m everything else which is what \u001b[6;30;43mgot\u001b[0m \u001b[6;30;43mTea\u001b[0m and \u001b[6;30;43mwater\u001b[0m are \u001b[6;30;43mfree\u001b[0m but \u001b[6;30;43mpop\u001b[0m is \u001b[6;30;43m50\u001b[0m can so if you \u001b[6;30;43mgot\u001b[0m \u001b[6;30;43msweet\u001b[0m tooth be \u001b[6;30;43mprepared\u001b[0m to \u001b[6;30;43mpay\u001b[0m Speaking of \u001b[6;30;43msweet\u001b[0m tooth get their \u001b[6;30;43msimple\u001b[0m but \u001b[6;30;43mtasty\u001b[0m \u001b[6;30;43mfried\u001b[0m buns with condensed milk And \u001b[6;30;43mwatch\u001b[0m out for the Szechuan \u001b[6;30;43mpeppers\u001b[0m tucked \u001b[6;30;43maway\u001b[0m in some of their chile \u001b[6;30;43mmeat\u001b[0m offerings Ventilation \u001b[6;30;43mpretty\u001b[0m \u001b[6;30;43mgood\u001b[0m also \u001b[6;30;43mwish\u001b[0m the bathroom had heating so that \u001b[6;30;43mreally\u001b[0m what the knocked off \u001b[6;30;43mstar\u001b[0m is for\n",
      "\n",
      "\n",
      "As chinese this is \u001b[6;30;43mreally\u001b[0m rip off SO \u001b[6;30;43mEXPENSIVE\u001b[0m But it is \u001b[6;30;43mquick\u001b[0m and some \u001b[6;30;43mitems\u001b[0m are \u001b[6;30;43mpretty\u001b[0m \u001b[6;30;43mgood\u001b[0m so \u001b[6;30;43mok\u001b[0m \u001b[6;30;43mcome\u001b[0m here if in \u001b[6;30;43mrush\u001b[0m to \u001b[6;30;43mwatch\u001b[0m my movie and the other \u001b[6;30;43mplaces\u001b[0m are \u001b[6;30;43mbusy\u001b[0m \u001b[6;30;43mSeriously\u001b[0m such \u001b[6;30;43msmall\u001b[0m eater and \u001b[6;30;43mreally\u001b[0m \u001b[6;30;43mhungry\u001b[0m \u001b[6;30;43munless\u001b[0m \u001b[6;30;43mcome\u001b[0m with \u001b[6;30;43mgroup\u001b[0m of \u001b[6;30;43mfriends\u001b[0m and \u001b[6;30;43morder\u001b[0m \u001b[6;30;43mhuge\u001b[0m \u001b[6;30;43mvariety\u001b[0m of \u001b[6;30;43mthings\u001b[0m The peanut noodles are \u001b[6;30;43mgood\u001b[0m BUT it \u001b[6;30;43mjust\u001b[0m sesame \u001b[6;30;43moil\u001b[0m and peanuts and there is only \u001b[6;30;43mhalf\u001b[0m \u001b[6;30;43mportion\u001b[0m in there for BOOHOO \u001b[6;30;43mOk\u001b[0m so what \u001b[6;30;43mworth\u001b[0m \u001b[6;30;43meating\u001b[0m here Get the buns it \u001b[6;30;43mfilling\u001b[0m And if you \u001b[6;30;43mmiss\u001b[0m dim sum they have \u001b[6;30;43mdecent\u001b[0m \u001b[6;30;43mpork\u001b[0m shu mai and prawn dumplings ha gau Shrugs \u001b[6;30;43mthink\u001b[0m the steamed dumplings here are \u001b[6;30;43mok\u001b[0m The skin is too thick for me And the \u001b[6;30;43mfried\u001b[0m \u001b[6;30;43mones\u001b[0m are \u001b[6;30;43msimilar\u001b[0m too boohoo Go to Umami if you \u001b[6;30;43mwant\u001b[0m to get \u001b[6;30;43mgood\u001b[0m dumplings\n",
      "\n",
      "\n",
      "It been while since \u001b[6;30;43mve\u001b[0m been to Swatow Not much has \u001b[6;30;43mchanged\u001b[0m The waiters are still there and the \u001b[6;30;43mfood\u001b[0m is the same as it was when \u001b[6;30;43mvisited\u001b[0m about \u001b[6;30;43myears\u001b[0m \u001b[6;30;43mago\u001b[0m For Chinatown \u001b[6;30;43mgreasy\u001b[0m spoon it \u001b[6;30;43mdefinitely\u001b[0m \u001b[6;30;43mgem\u001b[0m for Toronto if you \u001b[6;30;43mneed\u001b[0m \u001b[6;30;43mquick\u001b[0m \u001b[6;30;43mcheap\u001b[0m fix\n",
      "\n",
      "\n",
      "\u001b[6;30;43mTwice\u001b[0m my \u001b[6;30;43mfamily\u001b[0m \u001b[6;30;43mtook\u001b[0m me here for \u001b[6;30;43mlate\u001b[0m \u001b[6;30;43mlunch\u001b[0m have to \u001b[6;30;43msay\u001b[0m it was \u001b[6;30;43maffordable\u001b[0m and enjoyable all at the same \u001b[6;30;43mtime\u001b[0m \u001b[6;30;43musually\u001b[0m disregard and \u001b[6;30;43mavoid\u001b[0m Chinese \u001b[6;30;43mbuffet\u001b[0m \u001b[6;30;43mrestaurants\u001b[0m but this \u001b[6;30;43mplace\u001b[0m is an exception and exceptional in what they do The \u001b[6;30;43mbuffet\u001b[0m gives you \u001b[6;30;43mgood\u001b[0m \u001b[6;30;43mhot\u001b[0m \u001b[6;30;43mfood\u001b[0m and all you can \u001b[6;30;43meat\u001b[0m \u001b[6;30;43mClassic\u001b[0m soups Kim Chee \u001b[6;30;43msalads\u001b[0m \u001b[6;30;43mappetizer\u001b[0m \u001b[6;30;43mbar\u001b[0m \u001b[6;30;43mnice\u001b[0m \u001b[6;30;43mvariety\u001b[0m of \u001b[6;30;43mentrees\u001b[0m as well as \u001b[6;30;43mdesserts\u001b[0m and \u001b[6;30;43mreal\u001b[0m scoop your own \u001b[6;30;43mice\u001b[0m creams Voila you have winner\n",
      "\n",
      "\n"
     ]
    }
   ],
   "source": [
    "for t in review_chinese.iloc[sample_id]['text']:\n",
    "    highlight_topic_words(t, vec)\n",
    "    print ('\\n')"
   ]
  },
  {
   "cell_type": "code",
   "execution_count": null,
   "metadata": {
    "collapsed": true
   },
   "outputs": [],
   "source": []
  }
 ],
 "metadata": {
  "kernelspec": {
   "display_name": "Python 3",
   "language": "python",
   "name": "python3"
  },
  "language_info": {
   "codemirror_mode": {
    "name": "ipython",
    "version": 3
   },
   "file_extension": ".py",
   "mimetype": "text/x-python",
   "name": "python",
   "nbconvert_exporter": "python",
   "pygments_lexer": "ipython3",
   "version": "3.6.1"
  }
 },
 "nbformat": 4,
 "nbformat_minor": 2
}
