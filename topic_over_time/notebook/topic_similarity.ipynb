{
 "cells": [
  {
   "cell_type": "markdown",
   "metadata": {},
   "source": [
    "## Study the distribution of LDA/NMF topics"
   ]
  },
  {
   "cell_type": "code",
   "execution_count": 5,
   "metadata": {
    "collapsed": true
   },
   "outputs": [],
   "source": [
    "import pickle\n",
    "from utils import * \n",
    "import pandas as pd\n",
    "import numpy as np\n",
    "import nltk\n",
    "import seaborn as sns\n",
    "import matplotlib.pyplot as plt"
   ]
  },
  {
   "cell_type": "markdown",
   "metadata": {},
   "source": [
    "Load the pre-trained models"
   ]
  },
  {
   "cell_type": "code",
   "execution_count": 6,
   "metadata": {
    "collapsed": true
   },
   "outputs": [],
   "source": [
    "DATAPASS = '../../../yelp10/dataset/business.json'\n",
    "business = load_json_to_df(DATAPASS)"
   ]
  },
  {
   "cell_type": "code",
   "execution_count": 7,
   "metadata": {
    "collapsed": true
   },
   "outputs": [],
   "source": [
    "DATAPASS = '../../../yelp10/dataset/review.json'\n",
    "reviews = load_json_to_df(DATAPASS)"
   ]
  },
  {
   "cell_type": "code",
   "execution_count": 235,
   "metadata": {},
   "outputs": [
    {
     "data": {
      "text/html": [
       "<div>\n",
       "<style>\n",
       "    .dataframe thead tr:only-child th {\n",
       "        text-align: right;\n",
       "    }\n",
       "\n",
       "    .dataframe thead th {\n",
       "        text-align: left;\n",
       "    }\n",
       "\n",
       "    .dataframe tbody tr th {\n",
       "        vertical-align: top;\n",
       "    }\n",
       "</style>\n",
       "<table border=\"1\" class=\"dataframe\">\n",
       "  <thead>\n",
       "    <tr style=\"text-align: right;\">\n",
       "      <th></th>\n",
       "      <th>cool</th>\n",
       "      <th>date</th>\n",
       "      <th>funny</th>\n",
       "      <th>review_id</th>\n",
       "      <th>stars</th>\n",
       "      <th>text</th>\n",
       "      <th>useful</th>\n",
       "      <th>user_id</th>\n",
       "    </tr>\n",
       "    <tr>\n",
       "      <th>business_id</th>\n",
       "      <th></th>\n",
       "      <th></th>\n",
       "      <th></th>\n",
       "      <th></th>\n",
       "      <th></th>\n",
       "      <th></th>\n",
       "      <th></th>\n",
       "      <th></th>\n",
       "    </tr>\n",
       "  </thead>\n",
       "  <tbody>\n",
       "    <tr>\n",
       "      <th>--6MefnULPED_I942VcFNA</th>\n",
       "      <td>30</td>\n",
       "      <td>30</td>\n",
       "      <td>30</td>\n",
       "      <td>30</td>\n",
       "      <td>30</td>\n",
       "      <td>30</td>\n",
       "      <td>30</td>\n",
       "      <td>30</td>\n",
       "    </tr>\n",
       "    <tr>\n",
       "      <th>--7zmmkVg-IMGaXbuVd0SQ</th>\n",
       "      <td>42</td>\n",
       "      <td>42</td>\n",
       "      <td>42</td>\n",
       "      <td>42</td>\n",
       "      <td>42</td>\n",
       "      <td>42</td>\n",
       "      <td>42</td>\n",
       "      <td>42</td>\n",
       "    </tr>\n",
       "    <tr>\n",
       "      <th>--8LPVSo5i0Oo61X01sV9A</th>\n",
       "      <td>3</td>\n",
       "      <td>3</td>\n",
       "      <td>3</td>\n",
       "      <td>3</td>\n",
       "      <td>3</td>\n",
       "      <td>3</td>\n",
       "      <td>3</td>\n",
       "      <td>3</td>\n",
       "    </tr>\n",
       "    <tr>\n",
       "      <th>--9QQLMTbFzLJ_oT-ON3Xw</th>\n",
       "      <td>9</td>\n",
       "      <td>9</td>\n",
       "      <td>9</td>\n",
       "      <td>9</td>\n",
       "      <td>9</td>\n",
       "      <td>9</td>\n",
       "      <td>9</td>\n",
       "      <td>9</td>\n",
       "    </tr>\n",
       "    <tr>\n",
       "      <th>--9e1ONYQuAa-CB_Rrw7Tw</th>\n",
       "      <td>1389</td>\n",
       "      <td>1389</td>\n",
       "      <td>1389</td>\n",
       "      <td>1389</td>\n",
       "      <td>1389</td>\n",
       "      <td>1389</td>\n",
       "      <td>1389</td>\n",
       "      <td>1389</td>\n",
       "    </tr>\n",
       "    <tr>\n",
       "      <th>--DaPTJW3-tB1vP-PfdTEg</th>\n",
       "      <td>37</td>\n",
       "      <td>37</td>\n",
       "      <td>37</td>\n",
       "      <td>37</td>\n",
       "      <td>37</td>\n",
       "      <td>37</td>\n",
       "      <td>37</td>\n",
       "      <td>37</td>\n",
       "    </tr>\n",
       "    <tr>\n",
       "      <th>--DdmeR16TRb3LsjG0ejrQ</th>\n",
       "      <td>5</td>\n",
       "      <td>5</td>\n",
       "      <td>5</td>\n",
       "      <td>5</td>\n",
       "      <td>5</td>\n",
       "      <td>5</td>\n",
       "      <td>5</td>\n",
       "      <td>5</td>\n",
       "    </tr>\n",
       "    <tr>\n",
       "      <th>--EX4rRznJrltyn-34Jz1w</th>\n",
       "      <td>3</td>\n",
       "      <td>3</td>\n",
       "      <td>3</td>\n",
       "      <td>3</td>\n",
       "      <td>3</td>\n",
       "      <td>3</td>\n",
       "      <td>3</td>\n",
       "      <td>3</td>\n",
       "    </tr>\n",
       "    <tr>\n",
       "      <th>--FBCX-N37CMYDfs790Bnw</th>\n",
       "      <td>100</td>\n",
       "      <td>100</td>\n",
       "      <td>100</td>\n",
       "      <td>100</td>\n",
       "      <td>100</td>\n",
       "      <td>100</td>\n",
       "      <td>100</td>\n",
       "      <td>100</td>\n",
       "    </tr>\n",
       "    <tr>\n",
       "      <th>--FLdgM0GNpXVMn74ppCGw</th>\n",
       "      <td>6</td>\n",
       "      <td>6</td>\n",
       "      <td>6</td>\n",
       "      <td>6</td>\n",
       "      <td>6</td>\n",
       "      <td>6</td>\n",
       "      <td>6</td>\n",
       "      <td>6</td>\n",
       "    </tr>\n",
       "  </tbody>\n",
       "</table>\n",
       "</div>"
      ],
      "text/plain": [
       "                        cool  date  funny  review_id  stars  text  useful  \\\n",
       "business_id                                                                 \n",
       "--6MefnULPED_I942VcFNA    30    30     30         30     30    30      30   \n",
       "--7zmmkVg-IMGaXbuVd0SQ    42    42     42         42     42    42      42   \n",
       "--8LPVSo5i0Oo61X01sV9A     3     3      3          3      3     3       3   \n",
       "--9QQLMTbFzLJ_oT-ON3Xw     9     9      9          9      9     9       9   \n",
       "--9e1ONYQuAa-CB_Rrw7Tw  1389  1389   1389       1389   1389  1389    1389   \n",
       "--DaPTJW3-tB1vP-PfdTEg    37    37     37         37     37    37      37   \n",
       "--DdmeR16TRb3LsjG0ejrQ     5     5      5          5      5     5       5   \n",
       "--EX4rRznJrltyn-34Jz1w     3     3      3          3      3     3       3   \n",
       "--FBCX-N37CMYDfs790Bnw   100   100    100        100    100   100     100   \n",
       "--FLdgM0GNpXVMn74ppCGw     6     6      6          6      6     6       6   \n",
       "\n",
       "                        user_id  \n",
       "business_id                      \n",
       "--6MefnULPED_I942VcFNA       30  \n",
       "--7zmmkVg-IMGaXbuVd0SQ       42  \n",
       "--8LPVSo5i0Oo61X01sV9A        3  \n",
       "--9QQLMTbFzLJ_oT-ON3Xw        9  \n",
       "--9e1ONYQuAa-CB_Rrw7Tw     1389  \n",
       "--DaPTJW3-tB1vP-PfdTEg       37  \n",
       "--DdmeR16TRb3LsjG0ejrQ        5  \n",
       "--EX4rRznJrltyn-34Jz1w        3  \n",
       "--FBCX-N37CMYDfs790Bnw      100  \n",
       "--FLdgM0GNpXVMn74ppCGw        6  "
      ]
     },
     "execution_count": 235,
     "metadata": {},
     "output_type": "execute_result"
    }
   ],
   "source": [
    "reviews.groupby('business_id').count()[:10]"
   ]
  },
  {
   "cell_type": "code",
   "execution_count": 9,
   "metadata": {
    "collapsed": true
   },
   "outputs": [],
   "source": [
    "def load_topic_model(vectorizer_file_name, topic_model_file_name):\n",
    "    '''\n",
    "    Unpickle pretrained model\n",
    "    Make sure to use tf_idf for nmf, count_vec for lda\n",
    "    \n",
    "    Input:\n",
    "        vectorizer_file_name(str) : directory for vectorizer\n",
    "        topic_model_file_name(str) : directory for topic model\n",
    "    Output:\n",
    "        vectorizer : trained object\n",
    "        topic_model: trained object\n",
    "    '''\n",
    "    with open(vectorizer_file_name, \"rb\") as f:\n",
    "        vectorizer = pickle.load(f)\n",
    "    with open(topic_model_file_name, \"rb\") as f:\n",
    "        topic_model = pickle.load(f)\n",
    "    return vectorizer, topic_model"
   ]
  },
  {
   "cell_type": "code",
   "execution_count": 10,
   "metadata": {
    "collapsed": true
   },
   "outputs": [],
   "source": [
    "vec, tm = load_topic_model('model/pizza_tfidf_vectorizer.pkl','model/pizza_nmf.pkl')"
   ]
  },
  {
   "cell_type": "code",
   "execution_count": 11,
   "metadata": {
    "collapsed": true
   },
   "outputs": [],
   "source": [
    "vec2, tm2 = load_topic_model('model/pizza_count_vectorizer.pkl','model/pizza_lda.pkl')"
   ]
  },
  {
   "cell_type": "code",
   "execution_count": 12,
   "metadata": {
    "collapsed": true
   },
   "outputs": [],
   "source": [
    "vec3, tm3 = load_topic_model('model/chinese_tfidf_vectorizer.pkl','model/chinese_nmf.pkl')"
   ]
  },
  {
   "cell_type": "code",
   "execution_count": 13,
   "metadata": {
    "collapsed": true
   },
   "outputs": [],
   "source": [
    "vec4, tm4 = load_topic_model('model/chinese_count_vectorizer.pkl','model/chinese_lda.pkl')"
   ]
  },
  {
   "cell_type": "code",
   "execution_count": 229,
   "metadata": {
    "collapsed": true
   },
   "outputs": [],
   "source": [
    "def display_topics(model, feature_names, n_top_words):\n",
    "    '''\n",
    "    display topic with n_top_words in a decsending order of weight\n",
    "    \n",
    "    Input:\n",
    "        model : directory for vectorizer\n",
    "        feature_names : list of vocabulary \n",
    "        n_top_words(int) : number of words to display for each topic\n",
    "\n",
    "    '''\n",
    "    for topic_index, topic in enumerate(model.components_):\n",
    "        print(\"Topic %d:\" % topic_index)\n",
    "        print(\" \".join([feature_names[i] for i in topic.argsort()[:-n_top_words:-1]]))"
   ]
  },
  {
   "cell_type": "code",
   "execution_count": 15,
   "metadata": {},
   "outputs": [
    {
     "data": {
      "text/plain": [
       "array([[  5.35318219e-02,   0.00000000e+00,   4.09802948e-02, ...,\n",
       "          7.96897006e-02,   3.98538679e-02,   0.00000000e+00],\n",
       "       [  7.86209423e-02,   1.88202333e-01,   3.27705625e-02, ...,\n",
       "          2.97546372e-02,   9.73259392e-02,   0.00000000e+00],\n",
       "       [  3.54345514e-01,   2.62719244e+00,   1.12437870e-01, ...,\n",
       "          0.00000000e+00,   0.00000000e+00,   0.00000000e+00],\n",
       "       ..., \n",
       "       [  4.13455229e-02,   0.00000000e+00,   4.27813136e-04, ...,\n",
       "          0.00000000e+00,   6.59642074e-02,   0.00000000e+00],\n",
       "       [  0.00000000e+00,   0.00000000e+00,   0.00000000e+00, ...,\n",
       "          3.22001617e-02,   1.51870707e-01,   0.00000000e+00],\n",
       "       [  1.37329447e-02,   0.00000000e+00,   7.26685010e-02, ...,\n",
       "          0.00000000e+00,   0.00000000e+00,   0.00000000e+00]])"
      ]
     },
     "execution_count": 15,
     "metadata": {},
     "output_type": "execute_result"
    }
   ],
   "source": [
    "tm.components_"
   ]
  },
  {
   "cell_type": "code",
   "execution_count": 16,
   "metadata": {},
   "outputs": [
    {
     "data": {
      "text/plain": [
       "array([[  2.00000000e-02,   2.00000000e-02,   2.00000000e-02, ...,\n",
       "          2.00000000e-02,   2.00000000e-02,   2.00000000e-02],\n",
       "       [  2.00000000e-02,   2.00000000e-02,   2.00000000e-02, ...,\n",
       "          2.00000000e-02,   2.00000000e-02,   2.00000000e-02],\n",
       "       [  2.00000000e-02,   2.00000001e-02,   2.00000000e-02, ...,\n",
       "          2.00000000e-02,   2.00000000e-02,   2.00000000e-02],\n",
       "       ..., \n",
       "       [  2.00000000e-02,   1.30035557e+04,   2.00000000e-02, ...,\n",
       "          2.00000000e-02,   2.00000000e-02,   2.00000000e-02],\n",
       "       [  2.00000000e-02,   2.00000000e-02,   2.00000000e-02, ...,\n",
       "          2.00000000e-02,   2.00000000e-02,   2.00000000e-02],\n",
       "       [  2.00000000e-02,   2.24278850e+02,   2.00000000e-02, ...,\n",
       "          2.00000000e-02,   2.00000000e-02,   2.00000000e-02]])"
      ]
     },
     "execution_count": 16,
     "metadata": {},
     "output_type": "execute_result"
    }
   ],
   "source": [
    "tm2.components_"
   ]
  },
  {
   "cell_type": "code",
   "execution_count": 10,
   "metadata": {
    "collapsed": true
   },
   "outputs": [],
   "source": [
    "# DATAPASS2 = '../../../yelp10/dataset/review.json'\n",
    "# review = load_json_to_df(DATAPASS2)"
   ]
  },
  {
   "cell_type": "code",
   "execution_count": 11,
   "metadata": {
    "collapsed": true
   },
   "outputs": [],
   "source": [
    "# DATAPASS = '../../../yelp10/dataset/business.json'\n",
    "# business = load_json_to_df(DATAPASS)"
   ]
  },
  {
   "cell_type": "code",
   "execution_count": 230,
   "metadata": {
    "collapsed": true
   },
   "outputs": [],
   "source": [
    "def business_id_retrieval(cat, business):\n",
    "    '''\n",
    "    Input:\n",
    "        cat(str) : category\n",
    "        business(dataframe) : the business data\n",
    "    Output:\n",
    "        id_list(set) : business ids of a particular category\n",
    "    '''\n",
    "    id_list = set()\n",
    "    idx = 0\n",
    "    for row in business.values:\n",
    "        categories = row[3]\n",
    "        if cat in categories:\n",
    "            id_list.add(row[2])\n",
    "    return id_list"
   ]
  },
  {
   "cell_type": "code",
   "execution_count": 13,
   "metadata": {
    "collapsed": true
   },
   "outputs": [],
   "source": [
    "# pizza = business_id_retrieval('Pizza', business)\n",
    "# review_pizza = review.loc[review['business_id'].isin(pizza)]\n",
    "# review_pizza.to_csv('pizza_reviews.csv', index = False)"
   ]
  },
  {
   "cell_type": "code",
   "execution_count": 18,
   "metadata": {
    "collapsed": true
   },
   "outputs": [],
   "source": [
    "review_pizza = pd.read_csv('pizza_reviews.csv')"
   ]
  },
  {
   "cell_type": "code",
   "execution_count": 15,
   "metadata": {
    "collapsed": true
   },
   "outputs": [],
   "source": [
    "# chinese = business_id_retrieval('Chinese', business)\n",
    "# review_chinese = review.loc[review['business_id'].isin(chinese)]\n",
    "# review_chinese.to_csv('chinese_reviews.csv', index = False)"
   ]
  },
  {
   "cell_type": "code",
   "execution_count": 19,
   "metadata": {
    "collapsed": true
   },
   "outputs": [],
   "source": [
    "review_chinese = pd.read_csv('chinese_reviews.csv')"
   ]
  },
  {
   "cell_type": "code",
   "execution_count": 20,
   "metadata": {
    "collapsed": true
   },
   "outputs": [],
   "source": [
    "import random\n",
    "sample_id = random.sample(range(review_pizza.shape[0]),5)"
   ]
  },
  {
   "cell_type": "code",
   "execution_count": 21,
   "metadata": {
    "collapsed": true
   },
   "outputs": [],
   "source": [
    "def highlight_topic_words(sentence, vec):\n",
    "    '''\n",
    "    highlight the words which used to calculate the topic \n",
    "    \n",
    "    Input:\n",
    "        sentence(str) : raw review text\n",
    "        vec : vectorizer object\n",
    "    '''\n",
    "    tokenizer = vec.build_tokenizer()\n",
    "    analyzer = vec.build_analyzer()\n",
    "    topic_words = vec.get_feature_names()\n",
    "    out = []\n",
    "    for word in tokenizer(sentence):\n",
    "        if word.lower() in topic_words:\n",
    "            out.append('\\x1b[6;30;43m' + word + '\\x1b[0m')\n",
    "        else:\n",
    "            out.append(word)\n",
    "    print (' '.join(out))"
   ]
  },
  {
   "cell_type": "code",
   "execution_count": 22,
   "metadata": {},
   "outputs": [
    {
     "name": "stdout",
     "output_type": "stream",
     "text": [
      "\u001b[6;30;43mLet\u001b[0m me \u001b[6;30;43mstart\u001b[0m out by \u001b[6;30;43msaying\u001b[0m the \u001b[6;30;43mbaked\u001b[0m ziti is the \u001b[6;30;43mbest\u001b[0m have ever had and my mother is first generation \u001b[6;30;43mItalian\u001b[0m American Major kudos on that recipe The \u001b[6;30;43mwait\u001b[0m \u001b[6;30;43mstaff\u001b[0m is \u001b[6;30;43mextremely\u001b[0m attractive and \u001b[6;30;43mfriendly\u001b[0m The \u001b[6;30;43mowners\u001b[0m are \u001b[6;30;43moutstanding\u001b[0m \u001b[6;30;43mguys\u001b[0m you can \u001b[6;30;43mtell\u001b[0m that with in the first seconds of \u001b[6;30;43mtalking\u001b[0m to them The \u001b[6;30;43menvironment\u001b[0m gives \u001b[6;30;43mvegas\u001b[0m \u001b[6;30;43msports\u001b[0m bars \u001b[6;30;43mrun\u001b[0m for their \u001b[6;30;43mmoney\u001b[0m with the amount of \u001b[6;30;43mTV\u001b[0m in the \u001b[6;30;43mjoint\u001b[0m You \u001b[6;30;43mwalk\u001b[0m in and are consumed by every \u001b[6;30;43mlive\u001b[0m sporting event thats dream \u001b[6;30;43mcome\u001b[0m \u001b[6;30;43mtrue\u001b[0m \u001b[6;30;43mlive\u001b[0m in \u001b[6;30;43mscottsdale\u001b[0m and will \u001b[6;30;43mdrive\u001b[0m up every \u001b[6;30;43msunday\u001b[0m to \u001b[6;30;43mwatch\u001b[0m NFL \u001b[6;30;43mgames\u001b[0m at Santisi \u001b[6;30;43mBest\u001b[0m \u001b[6;30;43msports\u001b[0m \u001b[6;30;43mbar\u001b[0m \u001b[6;30;43mhands\u001b[0m down Coors \u001b[6;30;43mLight\u001b[0m is my \u001b[6;30;43mbeer\u001b[0m of \u001b[6;30;43mchoice\u001b[0m and they have 75 \u001b[6;30;43m16\u001b[0m oz aluminum pints and \u001b[6;30;43m10\u001b[0m buckets of \u001b[6;30;43mGREAT\u001b[0m \u001b[6;30;43mDEAL\u001b[0m\n",
      "\n",
      "\n",
      "\u001b[6;30;43mlove\u001b[0m this \u001b[6;30;43mpizza\u001b[0m \u001b[6;30;43mwish\u001b[0m that \u001b[6;30;43mlittle\u001b[0m \u001b[6;30;43mman\u001b[0m would take me on ride Seedable\n",
      "\n",
      "\n",
      "\u001b[6;30;43mlove\u001b[0m the \u001b[6;30;43mconcept\u001b[0m of being \u001b[6;30;43mable\u001b[0m to customize my \u001b[6;30;43mfood\u001b[0m \u001b[6;30;43mright\u001b[0m before my eyes so when \u001b[6;30;43mcame\u001b[0m across My \u001b[6;30;43mPie\u001b[0m was intrigued The \u001b[6;30;43mconcept\u001b[0m is \u001b[6;30;43msimple\u001b[0m \u001b[6;30;43mlots\u001b[0m of \u001b[6;30;43mfresh\u001b[0m \u001b[6;30;43mingredients\u001b[0m piled on thin \u001b[6;30;43mcrust\u001b[0m and \u001b[6;30;43mbaked\u001b[0m and \u001b[6;30;43mready\u001b[0m to \u001b[6;30;43meat\u001b[0m \u001b[6;30;43msuper\u001b[0m \u001b[6;30;43mfast\u001b[0m \u001b[6;30;43mlike\u001b[0m that you can \u001b[6;30;43mchoose\u001b[0m from their \u001b[6;30;43mpies\u001b[0m or you can create your own \u001b[6;30;43mchose\u001b[0m the \u001b[6;30;43mGreek\u001b[0m \u001b[6;30;43mpizza\u001b[0m and was not \u001b[6;30;43mdisappointed\u001b[0m \u001b[6;30;43mlove\u001b[0m Mediterranean \u001b[6;30;43mfood\u001b[0m and this one was one of the \u001b[6;30;43mbest\u001b[0m \u001b[6;30;43mthink\u001b[0m the \u001b[6;30;43msecret\u001b[0m is the \u001b[6;30;43mbalsamic\u001b[0m drizzle that they put on after the \u001b[6;30;43mpizza\u001b[0m \u001b[6;30;43mcomes\u001b[0m out of the \u001b[6;30;43moven\u001b[0m And if you re picky eater the \u001b[6;30;43mpeople\u001b[0m there are so \u001b[6;30;43mnice\u001b[0m they re \u001b[6;30;43mok\u001b[0m with \u001b[6;30;43mlittle\u001b[0m this few of that too They \u001b[6;30;43mmake\u001b[0m you \u001b[6;30;43mfeel\u001b[0m \u001b[6;30;43mlike\u001b[0m your \u001b[6;30;43mbest\u001b[0m \u001b[6;30;43mfriend\u001b[0m To sum it up If you re \u001b[6;30;43mlooking\u001b[0m for \u001b[6;30;43mcasual\u001b[0m \u001b[6;30;43mplace\u001b[0m to \u001b[6;30;43mgrab\u001b[0m \u001b[6;30;43mdinner\u001b[0m you \u001b[6;30;43mve\u001b[0m found it can imagine anyone \u001b[6;30;43mwalking\u001b[0m \u001b[6;30;43maway\u001b[0m \u001b[6;30;43mdisappointed\u001b[0m\n",
      "\n",
      "\n",
      "\u001b[6;30;43mliked\u001b[0m it \u001b[6;30;43mbetter\u001b[0m as Boom Bozz The \u001b[6;30;43mstaff\u001b[0m \u001b[6;30;43mwasn\u001b[0m all that \u001b[6;30;43mfriendly\u001b[0m The \u001b[6;30;43mbartender\u001b[0m \u001b[6;30;43mlooked\u001b[0m \u001b[6;30;43mlike\u001b[0m she \u001b[6;30;43mjust\u001b[0m rolled out of bed with flannel shirt on \u001b[6;30;43mLove\u001b[0m the \u001b[6;30;43mhappy\u001b[0m \u001b[6;30;43mhour\u001b[0m \u001b[6;30;43mpizza\u001b[0m \u001b[6;30;43mprice\u001b[0m \u001b[6;30;43mwent\u001b[0m up to \u001b[6;30;43m50\u001b[0m and their \u001b[6;30;43mbeer\u001b[0m \u001b[6;30;43mcheese\u001b[0m and pretzels YUMM Will go again \u001b[6;30;43myes\u001b[0m But \u001b[6;30;43mjust\u001b[0m \u001b[6;30;43mthink\u001b[0m the \u001b[6;30;43mstaff\u001b[0m and \u001b[6;30;43mservice\u001b[0m was \u001b[6;30;43mbetter\u001b[0m when we \u001b[6;30;43mwent\u001b[0m \u001b[6;30;43mmonth\u001b[0m \u001b[6;30;43mago\u001b[0m and it was still Boom Bozz\n",
      "\n",
      "\n",
      "\u001b[6;30;43mfriend\u001b[0m \u001b[6;30;43mbrought\u001b[0m \u001b[6;30;43mchicken\u001b[0m \u001b[6;30;43mbacon\u001b[0m \u001b[6;30;43mranch\u001b[0m \u001b[6;30;43mpizza\u001b[0m to meeting and it was \u001b[6;30;43mdelish\u001b[0m Adding \u001b[6;30;43mstar\u001b[0m because the \u001b[6;30;43mnew\u001b[0m \u001b[6;30;43mlocation\u001b[0m is \u001b[6;30;43mgreat\u001b[0m and in appreciation of all their \u001b[6;30;43mspecialty\u001b[0m \u001b[6;30;43mpizzas\u001b[0m since my \u001b[6;30;43moriginal\u001b[0m \u001b[6;30;43mreview\u001b[0m \u001b[6;30;43mve\u001b[0m \u001b[6;30;43mtried\u001b[0m \u001b[6;30;43mbbq\u001b[0m and the \u001b[6;30;43mchicken\u001b[0m \u001b[6;30;43mbacon\u001b[0m \u001b[6;30;43mranch\u001b[0m both much \u001b[6;30;43mbetter\u001b[0m than their \u001b[6;30;43mtraditional\u001b[0m \u001b[6;30;43mtomato\u001b[0m sauced \u001b[6;30;43mpizzas\u001b[0m which am still not \u001b[6;30;43mpersonally\u001b[0m \u001b[6;30;43mfan\u001b[0m of\n",
      "\n",
      "\n"
     ]
    }
   ],
   "source": [
    "for t in review_pizza.iloc[sample_id]['text']:\n",
    "    highlight_topic_words(t, vec)\n",
    "    print ('\\n')"
   ]
  },
  {
   "cell_type": "markdown",
   "metadata": {},
   "source": [
    "## Can we assume 1 topic per sentence?"
   ]
  },
  {
   "cell_type": "markdown",
   "metadata": {},
   "source": [
    "Following *Sentence Level Recurrent Topic Model* "
   ]
  },
  {
   "cell_type": "markdown",
   "metadata": {},
   "source": [
    "Each sentence is a sum of topic index for each word (Product always resulted 0 because of the lack of overlaps)"
   ]
  },
  {
   "cell_type": "code",
   "execution_count": 25,
   "metadata": {
    "collapsed": true
   },
   "outputs": [],
   "source": [
    "def get_k_index(sentence, vec, tm):\n",
    "    '''\n",
    "    Given a sentence (not the entire review), generate a distribution of topic \n",
    "    by adding the weight of topic per words.\n",
    "    I initialy tried with the product of topic weights but ended up getting 0s.\n",
    "    \n",
    "    Also produce the probability vector by scaling the vector so that the sum will be 1.\n",
    "    \n",
    "    Input:\n",
    "        sentence(str) : a sentence to be studied\n",
    "        vec : vectorizer object \n",
    "        tm : topic model object \n",
    "    Output:\n",
    "        k_index (list) : the vector of length k (k = number of topic). \n",
    "        prob (list) : k_index but scaled so that the sum of inputs becomes 1 \n",
    "    '''\n",
    "    analyzer = vec.build_analyzer()\n",
    "    topic_words = vec.get_feature_names()\n",
    "    tm_mat = tm.components_\n",
    "    k_index = np.array([0.]*tm_mat.shape[0])\n",
    "    for word in analyzer(sentence):\n",
    "        if word in topic_words:\n",
    "            k_index += tm_mat[:, topic_words.index(word)]\n",
    "    if sum(k_index) == 0:\n",
    "        prob = np.array([0.]*tm_mat.shape[0])\n",
    "    else:\n",
    "        prob = k_index/(sum(k_index))\n",
    "    return k_index, prob"
   ]
  },
  {
   "cell_type": "code",
   "execution_count": 26,
   "metadata": {
    "collapsed": true
   },
   "outputs": [],
   "source": [
    "sampleA = review_chinese.iloc[sample_id]['text'].values[2]"
   ]
  },
  {
   "cell_type": "code",
   "execution_count": 27,
   "metadata": {
    "collapsed": true
   },
   "outputs": [],
   "source": [
    "k, p = get_k_index(sampleA, vec3, tm3)"
   ]
  },
  {
   "cell_type": "code",
   "execution_count": 28,
   "metadata": {},
   "outputs": [
    {
     "data": {
      "text/plain": [
       "array([ 0.25972873,  0.12427931,  0.12062361])"
      ]
     },
     "execution_count": 28,
     "metadata": {},
     "output_type": "execute_result"
    }
   ],
   "source": [
    "p[k.argsort()[:-4:-1]]"
   ]
  },
  {
   "cell_type": "code",
   "execution_count": 29,
   "metadata": {
    "collapsed": true
   },
   "outputs": [],
   "source": [
    "def display_ith_topics(model, feature_names, n_top_words, ith):\n",
    "    '''\n",
    "    display_topics funciton but instead of displaying all topics, \n",
    "    it only displays the specified topics \n",
    "    \n",
    "    Input:\n",
    "        model : directory for vectorizer\n",
    "        feature_names : list of vocabulary \n",
    "        n_top_words(int) : number of words to display for each topic\n",
    "        ith (list) : the list of topic number that you want to display\n",
    "    '''\n",
    "    for i in ith:\n",
    "        print(\"Topic %d:\" % i)\n",
    "        print(\" \".join([feature_names[j] for j in model.components_[i].argsort()[:-n_top_words:-1]]))"
   ]
  },
  {
   "cell_type": "code",
   "execution_count": 30,
   "metadata": {},
   "outputs": [
    {
     "name": "stdout",
     "output_type": "stream",
     "text": [
      "Topic 1:\n",
      "food fresh asian quality eat fast panda express court\n",
      "Topic 15:\n",
      "great awesome prices atmosphere value service spot experience fantastic\n",
      "Topic 25:\n",
      "service customer fast bad slow quick horrible terrible poor\n"
     ]
    }
   ],
   "source": [
    "display_ith_topics(tm3, vec3.get_feature_names(), 10, k.argsort()[:-4:-1])"
   ]
  },
  {
   "cell_type": "code",
   "execution_count": 31,
   "metadata": {},
   "outputs": [
    {
     "data": {
      "text/plain": [
       "'Great selection of casual authentic Cantonese food. The service was a little slow during lunch hour, and the food was a-ok. Overall a welcome addition to Las Vegas, and I look forward to trying out the many choices, especially the HK style desserts!'"
      ]
     },
     "execution_count": 31,
     "metadata": {},
     "output_type": "execute_result"
    }
   ],
   "source": [
    "sampleA"
   ]
  },
  {
   "cell_type": "code",
   "execution_count": 33,
   "metadata": {},
   "outputs": [
    {
     "name": "stdout",
     "output_type": "stream",
     "text": [
      "SampleA is\n",
      "25%, Topic1\n",
      "12%, Topic15\n",
      "12%, Topic25\n"
     ]
    }
   ],
   "source": [
    "print('SampleA is')\n",
    "for i, j in zip(p[k.argsort()[:-4:-1]], k.argsort()[:-4:-1]):\n",
    "    print ('{}%, Topic{}'.format(int(i*100), j))"
   ]
  },
  {
   "cell_type": "markdown",
   "metadata": {},
   "source": [
    "Try to see the distribution of highest proportion of topic per sentence"
   ]
  },
  {
   "cell_type": "code",
   "execution_count": 36,
   "metadata": {
    "collapsed": true
   },
   "outputs": [],
   "source": [
    "def get_highest_prob(sentence, vec, tm):\n",
    "    '''\n",
    "    Output the proportion of largest topic.\n",
    "    If 1, the sentence is composed by only 1 topic. \n",
    "    \n",
    "    Input:\n",
    "        sentence(str) : a sentence to be studied\n",
    "        vec : vectorizer object \n",
    "        tm : topic model object \n",
    "    output:\n",
    "        The proportion of largest topic\n",
    "    '''\n",
    "    analyzer = vec.build_analyzer()\n",
    "    topic_words = vec.get_feature_names()\n",
    "    tm_mat = tm.components_\n",
    "    k_index = np.array([0.]*tm_mat.shape[0])\n",
    "    for word in analyzer(sentence):\n",
    "        if word in topic_words:\n",
    "            k_index += tm_mat[:, topic_words.index(word)]\n",
    "    return max(k_index/(sum(k_index))) if sum(k_index) != 0 else 0"
   ]
  },
  {
   "cell_type": "code",
   "execution_count": 37,
   "metadata": {},
   "outputs": [
    {
     "data": {
      "text/plain": [
       "0.25972873181944617"
      ]
     },
     "execution_count": 37,
     "metadata": {},
     "output_type": "execute_result"
    }
   ],
   "source": [
    "get_highest_prob(sampleA, vec3,tm3)"
   ]
  },
  {
   "cell_type": "markdown",
   "metadata": {},
   "source": [
    "## Observe the distribution by bootstrapping"
   ]
  },
  {
   "cell_type": "code",
   "execution_count": 38,
   "metadata": {
    "collapsed": true
   },
   "outputs": [],
   "source": [
    "# random 5000 sample \n",
    "ids = random.sample(range(review_chinese.shape[0]),5000)"
   ]
  },
  {
   "cell_type": "code",
   "execution_count": 39,
   "metadata": {},
   "outputs": [],
   "source": [
    "probs = []\n",
    "for review in review_chinese.iloc[ids]['text'].values:\n",
    "    sent_text = nltk.sent_tokenize(review)\n",
    "    for s in sent_text:\n",
    "        p = get_highest_prob(s, vec3, tm3)\n",
    "        if p != 0:\n",
    "            probs.append(p)"
   ]
  },
  {
   "cell_type": "code",
   "execution_count": 40,
   "metadata": {},
   "outputs": [
    {
     "data": {
      "image/png": "[encoded data removed]",
      "text/plain": [
       "<matplotlib.figure.Figure at 0x114802240>"
      ]
     },
     "metadata": {},
     "output_type": "display_data"
    }
   ],
   "source": [
    "sns.distplot(probs, kde = False)\n",
    "plt.title('Proportion of meaning covered by 1 topic')\n",
    "plt.show()"
   ]
  },
  {
   "cell_type": "code",
   "execution_count": 41,
   "metadata": {
    "collapsed": true
   },
   "outputs": [],
   "source": [
    "def get_topic_threshold(sentence, vec, tm, thresh):\n",
    "    '''\n",
    "    Count the number of topics you need to exceed the threshold.\n",
    "    When thresh = 0.9, count the number of topics you need to \n",
    "    capture 90% of sentence. \n",
    "    \n",
    "    Input:\n",
    "        sentence(str) : a sentence to be studied\n",
    "        vec : vectorizer object \n",
    "        tm : topic model object \n",
    "        thresh (float) : threshold value to be exceeded \n",
    "    output:\n",
    "        counter (int) : the number of topics\n",
    "    '''\n",
    "    analyzer = vec.build_analyzer()\n",
    "    topic_words = vec.get_feature_names()\n",
    "    tm_mat = tm.components_\n",
    "    k_index = np.array([0.]*tm_mat.shape[0])\n",
    "    for word in analyzer(sentence):\n",
    "        if word in topic_words:\n",
    "            k_index += tm_mat[:, topic_words.index(word)]\n",
    "    \n",
    "    counter = 0\n",
    "    prob = 0.0\n",
    "    if sum(k_index) == 0:\n",
    "        return counter\n",
    "    else:\n",
    "        mat = sorted(k_index/(sum(k_index)), reverse = True)\n",
    "        while (prob < thresh):\n",
    "            prob += mat[counter]\n",
    "            counter += 1\n",
    "        return counter"
   ]
  },
  {
   "cell_type": "code",
   "execution_count": 42,
   "metadata": {},
   "outputs": [
    {
     "data": {
      "text/plain": [
       "14"
      ]
     },
     "execution_count": 42,
     "metadata": {},
     "output_type": "execute_result"
    }
   ],
   "source": [
    "get_topic_threshold(sampleA, vec3, tm3, 0.8)"
   ]
  },
  {
   "cell_type": "code",
   "execution_count": 43,
   "metadata": {
    "collapsed": true
   },
   "outputs": [],
   "source": [
    "topics = []\n",
    "for review in review_chinese.iloc[ids]['text'].values:\n",
    "    sent_text = nltk.sent_tokenize(review)\n",
    "    for s in sent_text:\n",
    "        p = get_topic_threshold(s, vec3, tm3, 0.8)\n",
    "        if p != 0:\n",
    "            topics.append(p)"
   ]
  },
  {
   "cell_type": "code",
   "execution_count": 236,
   "metadata": {},
   "outputs": [
    {
     "data": {
      "image/png": "[encoded data removed]",
      "text/plain": [
       "<matplotlib.figure.Figure at 0x114a68828>"
      ]
     },
     "metadata": {},
     "output_type": "display_data"
    }
   ],
   "source": [
    "sns.distplot(topics, kde = False)\n",
    "plt.title('Number of topics you need to cover 80% of sentence smantics')\n",
    "plt.show()"
   ]
  },
  {
   "cell_type": "code",
   "execution_count": 237,
   "metadata": {},
   "outputs": [
    {
     "data": {
      "text/html": [
       "<div>\n",
       "<style>\n",
       "    .dataframe thead tr:only-child th {\n",
       "        text-align: right;\n",
       "    }\n",
       "\n",
       "    .dataframe thead th {\n",
       "        text-align: left;\n",
       "    }\n",
       "\n",
       "    .dataframe tbody tr th {\n",
       "        vertical-align: top;\n",
       "    }\n",
       "</style>\n",
       "<table border=\"1\" class=\"dataframe\">\n",
       "  <thead>\n",
       "    <tr style=\"text-align: right;\">\n",
       "      <th></th>\n",
       "      <th>cool</th>\n",
       "      <th>date</th>\n",
       "      <th>funny</th>\n",
       "      <th>review_id</th>\n",
       "      <th>stars</th>\n",
       "      <th>text</th>\n",
       "      <th>useful</th>\n",
       "      <th>user_id</th>\n",
       "    </tr>\n",
       "    <tr>\n",
       "      <th>business_id</th>\n",
       "      <th></th>\n",
       "      <th></th>\n",
       "      <th></th>\n",
       "      <th></th>\n",
       "      <th></th>\n",
       "      <th></th>\n",
       "      <th></th>\n",
       "      <th></th>\n",
       "    </tr>\n",
       "  </thead>\n",
       "  <tbody>\n",
       "    <tr>\n",
       "      <th>yfxDa8RFOvJPQh0rNtakHA</th>\n",
       "      <td>2446</td>\n",
       "      <td>2446</td>\n",
       "      <td>2446</td>\n",
       "      <td>2446</td>\n",
       "      <td>2446</td>\n",
       "      <td>2446</td>\n",
       "      <td>2446</td>\n",
       "      <td>2446</td>\n",
       "    </tr>\n",
       "    <tr>\n",
       "      <th>pH0BLkL4cbxKzu471VZnuA</th>\n",
       "      <td>1972</td>\n",
       "      <td>1972</td>\n",
       "      <td>1972</td>\n",
       "      <td>1972</td>\n",
       "      <td>1972</td>\n",
       "      <td>1972</td>\n",
       "      <td>1972</td>\n",
       "      <td>1972</td>\n",
       "    </tr>\n",
       "    <tr>\n",
       "      <th>X8c23dur0ll2D9XTu-I8Qg</th>\n",
       "      <td>1548</td>\n",
       "      <td>1548</td>\n",
       "      <td>1548</td>\n",
       "      <td>1548</td>\n",
       "      <td>1548</td>\n",
       "      <td>1548</td>\n",
       "      <td>1548</td>\n",
       "      <td>1548</td>\n",
       "    </tr>\n",
       "    <tr>\n",
       "      <th>GJ_bXUPv672YwNg4TneJog</th>\n",
       "      <td>1319</td>\n",
       "      <td>1319</td>\n",
       "      <td>1319</td>\n",
       "      <td>1319</td>\n",
       "      <td>1319</td>\n",
       "      <td>1319</td>\n",
       "      <td>1319</td>\n",
       "      <td>1319</td>\n",
       "    </tr>\n",
       "    <tr>\n",
       "      <th>cHdJXLlKNWixBXpDwEGb_A</th>\n",
       "      <td>1262</td>\n",
       "      <td>1262</td>\n",
       "      <td>1262</td>\n",
       "      <td>1262</td>\n",
       "      <td>1262</td>\n",
       "      <td>1262</td>\n",
       "      <td>1262</td>\n",
       "      <td>1262</td>\n",
       "    </tr>\n",
       "    <tr>\n",
       "      <th>_j2EtQtgLuXGRBfbM5YwZA</th>\n",
       "      <td>908</td>\n",
       "      <td>908</td>\n",
       "      <td>908</td>\n",
       "      <td>908</td>\n",
       "      <td>908</td>\n",
       "      <td>908</td>\n",
       "      <td>908</td>\n",
       "      <td>908</td>\n",
       "    </tr>\n",
       "    <tr>\n",
       "      <th>CCRgGKhzxSpl38w7yhqKUw</th>\n",
       "      <td>863</td>\n",
       "      <td>863</td>\n",
       "      <td>863</td>\n",
       "      <td>863</td>\n",
       "      <td>863</td>\n",
       "      <td>863</td>\n",
       "      <td>863</td>\n",
       "      <td>863</td>\n",
       "    </tr>\n",
       "    <tr>\n",
       "      <th>1ZnVfS-qP19upP_fwOhZsA</th>\n",
       "      <td>769</td>\n",
       "      <td>769</td>\n",
       "      <td>769</td>\n",
       "      <td>769</td>\n",
       "      <td>769</td>\n",
       "      <td>769</td>\n",
       "      <td>769</td>\n",
       "      <td>769</td>\n",
       "    </tr>\n",
       "    <tr>\n",
       "      <th>vx4YAA02Qz6khRD1fZ1MFA</th>\n",
       "      <td>749</td>\n",
       "      <td>749</td>\n",
       "      <td>749</td>\n",
       "      <td>749</td>\n",
       "      <td>749</td>\n",
       "      <td>749</td>\n",
       "      <td>749</td>\n",
       "      <td>749</td>\n",
       "    </tr>\n",
       "    <tr>\n",
       "      <th>AtD6B83S4Mbmq0t7iDnUVA</th>\n",
       "      <td>730</td>\n",
       "      <td>730</td>\n",
       "      <td>730</td>\n",
       "      <td>730</td>\n",
       "      <td>730</td>\n",
       "      <td>730</td>\n",
       "      <td>730</td>\n",
       "      <td>730</td>\n",
       "    </tr>\n",
       "  </tbody>\n",
       "</table>\n",
       "</div>"
      ],
      "text/plain": [
       "                        cool  date  funny  review_id  stars  text  useful  \\\n",
       "business_id                                                                 \n",
       "yfxDa8RFOvJPQh0rNtakHA  2446  2446   2446       2446   2446  2446    2446   \n",
       "pH0BLkL4cbxKzu471VZnuA  1972  1972   1972       1972   1972  1972    1972   \n",
       "X8c23dur0ll2D9XTu-I8Qg  1548  1548   1548       1548   1548  1548    1548   \n",
       "GJ_bXUPv672YwNg4TneJog  1319  1319   1319       1319   1319  1319    1319   \n",
       "cHdJXLlKNWixBXpDwEGb_A  1262  1262   1262       1262   1262  1262    1262   \n",
       "_j2EtQtgLuXGRBfbM5YwZA   908   908    908        908    908   908     908   \n",
       "CCRgGKhzxSpl38w7yhqKUw   863   863    863        863    863   863     863   \n",
       "1ZnVfS-qP19upP_fwOhZsA   769   769    769        769    769   769     769   \n",
       "vx4YAA02Qz6khRD1fZ1MFA   749   749    749        749    749   749     749   \n",
       "AtD6B83S4Mbmq0t7iDnUVA   730   730    730        730    730   730     730   \n",
       "\n",
       "                        user_id  \n",
       "business_id                      \n",
       "yfxDa8RFOvJPQh0rNtakHA     2446  \n",
       "pH0BLkL4cbxKzu471VZnuA     1972  \n",
       "X8c23dur0ll2D9XTu-I8Qg     1548  \n",
       "GJ_bXUPv672YwNg4TneJog     1319  \n",
       "cHdJXLlKNWixBXpDwEGb_A     1262  \n",
       "_j2EtQtgLuXGRBfbM5YwZA      908  \n",
       "CCRgGKhzxSpl38w7yhqKUw      863  \n",
       "1ZnVfS-qP19upP_fwOhZsA      769  \n",
       "vx4YAA02Qz6khRD1fZ1MFA      749  \n",
       "AtD6B83S4Mbmq0t7iDnUVA      730  "
      ]
     },
     "execution_count": 237,
     "metadata": {},
     "output_type": "execute_result"
    }
   ],
   "source": [
    "review_chinese.groupby('business_id').count().sort_values(by='review_id', ascending = False)[:10]"
   ]
  },
  {
   "cell_type": "code",
   "execution_count": 47,
   "metadata": {
    "collapsed": true
   },
   "outputs": [],
   "source": [
    "def get_avg_k_index_for_doc(doc, vec, tm):\n",
    "    '''\n",
    "    generate the k_index embedding (weight vector for K topics) for each review\n",
    "    Tokenize by each sentence, calculate the embedding and aggregating them\n",
    "    \n",
    "    Input:\n",
    "        doc(str) : a review to be studied\n",
    "        vec : vectorizer object \n",
    "        tm : topic model object \n",
    "    output:\n",
    "        k_index : the weight vector for each topic\n",
    "    '''\n",
    "    sent_text = nltk.sent_tokenize(doc)\n",
    "    if (int(len(sent_text)) == 0):\n",
    "        return []\n",
    "    else:\n",
    "        tm_mat = tm.components_\n",
    "        k_index = np.array([0.]*tm_mat.shape[0])\n",
    "        for s in sent_text:\n",
    "            k, p = get_k_index(s, vec, tm)\n",
    "            k_index += p\n",
    "        return k_index/int(len(sent_text))"
   ]
  },
  {
   "cell_type": "code",
   "execution_count": 48,
   "metadata": {},
   "outputs": [
    {
     "data": {
      "text/plain": [
       "'Great selection of casual authentic Cantonese food. The service was a little slow during lunch hour, and the food was a-ok. Overall a welcome addition to Las Vegas, and I look forward to trying out the many choices, especially the HK style desserts!'"
      ]
     },
     "execution_count": 48,
     "metadata": {},
     "output_type": "execute_result"
    }
   ],
   "source": [
    "sampleA"
   ]
  },
  {
   "cell_type": "code",
   "execution_count": 49,
   "metadata": {},
   "outputs": [
    {
     "data": {
      "text/plain": [
       "array([ 0.03077911,  0.22430457,  0.01297452,  0.00191437,  0.00890652,\n",
       "        0.03712273,  0.01762996,  0.0103428 ,  0.00123841,  0.00418636,\n",
       "        0.00345124,  0.00405093,  0.06685966,  0.00285239,  0.00835802,\n",
       "        0.12157116,  0.00267947,  0.01531054,  0.00474613,  0.00896887,\n",
       "        0.0023799 ,  0.00032491,  0.00267609,  0.0079114 ,  0.02784265,\n",
       "        0.09040664,  0.00290684,  0.00112155,  0.02383105,  0.00711409,\n",
       "        0.01681016,  0.00279161,  0.02532583,  0.02009864,  0.00486431,\n",
       "        0.00687046,  0.02789377,  0.0114841 ,  0.0119738 ,  0.00432095,\n",
       "        0.00044789,  0.01369072,  0.00495718,  0.03048437,  0.00480891,\n",
       "        0.00375041,  0.0177207 ,  0.02597714,  0.00673943,  0.00422675])"
      ]
     },
     "execution_count": 49,
     "metadata": {},
     "output_type": "execute_result"
    }
   ],
   "source": [
    "get_avg_k_index_for_doc(sampleA, vec3, tm3)"
   ]
  },
  {
   "cell_type": "markdown",
   "metadata": {},
   "source": [
    "## Run this algorithm across business"
   ]
  },
  {
   "cell_type": "code",
   "execution_count": 50,
   "metadata": {
    "collapsed": true
   },
   "outputs": [],
   "source": [
    "chinese_busi = list(set(review_chinese['business_id']))\n",
    "random_busi = random.sample(chinese_busi,1000)"
   ]
  },
  {
   "cell_type": "code",
   "execution_count": 51,
   "metadata": {
    "collapsed": true
   },
   "outputs": [],
   "source": [
    "sample_table = review_chinese.loc[review_chinese['business_id'].isin(random_busi)]"
   ]
  },
  {
   "cell_type": "code",
   "execution_count": 238,
   "metadata": {
    "collapsed": true
   },
   "outputs": [],
   "source": [
    "def build_k_index_embedding(df, vec, tm):\n",
    "    '''\n",
    "    Aggregate k_index for each unique business id.\n",
    "    Find the average k_index of all reviews for this business\n",
    "    \n",
    "    Input:\n",
    "        df(dataframe) : dataframe of reviews\n",
    "        vec : vectorizer object \n",
    "        tm : topic model object \n",
    "    output:\n",
    "        k_index : the weight vector for each topic\n",
    "    '''\n",
    "    tm_mat = tm.components_\n",
    "    k_index = np.array([0.]*tm_mat.shape[0])\n",
    "    for d in df['text']:\n",
    "        k_index += get_avg_k_index_for_doc(d, vec, tm)\n",
    "    return k_index/df['text'].shape[0]"
   ]
  },
  {
   "cell_type": "code",
   "execution_count": 77,
   "metadata": {},
   "outputs": [],
   "source": [
    "db = []\n",
    "for rnd in random_busi:\n",
    "    tbl = sample_table[sample_table['business_id'] == rnd]\n",
    "    emd = build_k_index_embedding(tbl, vec3, tm3)\n",
    "    db.append({'business_id': rnd, 'embedding': emd})"
   ]
  },
  {
   "cell_type": "code",
   "execution_count": 78,
   "metadata": {},
   "outputs": [
    {
     "data": {
      "text/html": [
       "<div>\n",
       "<style>\n",
       "    .dataframe thead tr:only-child th {\n",
       "        text-align: right;\n",
       "    }\n",
       "\n",
       "    .dataframe thead th {\n",
       "        text-align: left;\n",
       "    }\n",
       "\n",
       "    .dataframe tbody tr th {\n",
       "        vertical-align: top;\n",
       "    }\n",
       "</style>\n",
       "<table border=\"1\" class=\"dataframe\">\n",
       "  <thead>\n",
       "    <tr style=\"text-align: right;\">\n",
       "      <th></th>\n",
       "      <th>business_id</th>\n",
       "      <th>embedding</th>\n",
       "    </tr>\n",
       "  </thead>\n",
       "  <tbody>\n",
       "    <tr>\n",
       "      <th>0</th>\n",
       "      <td>Ki4aSG30_W_2KPjqT50o1w</td>\n",
       "      <td>[0.0347630722279, 0.166845627846, 0.0059597841...</td>\n",
       "    </tr>\n",
       "    <tr>\n",
       "      <th>1</th>\n",
       "      <td>ta8x5JgBJnKaDWfYvpEYnw</td>\n",
       "      <td>[0.0642083528843, 0.0499467672035, 0.004340375...</td>\n",
       "    </tr>\n",
       "    <tr>\n",
       "      <th>2</th>\n",
       "      <td>cLsE6jJmByJnWisWv8QH_A</td>\n",
       "      <td>[0.0466506388178, 0.124947376978, 0.0077227884...</td>\n",
       "    </tr>\n",
       "    <tr>\n",
       "      <th>3</th>\n",
       "      <td>w0ArxcJ0XsyK1ZwrIf3gpA</td>\n",
       "      <td>[0.0909539147821, 0.0605304184206, 0.005805497...</td>\n",
       "    </tr>\n",
       "    <tr>\n",
       "      <th>4</th>\n",
       "      <td>5G0cEcOxAwoPOhGV_B5VlA</td>\n",
       "      <td>[0.0543127966367, 0.101446777815, 0.0059598480...</td>\n",
       "    </tr>\n",
       "  </tbody>\n",
       "</table>\n",
       "</div>"
      ],
      "text/plain": [
       "              business_id                                          embedding\n",
       "0  Ki4aSG30_W_2KPjqT50o1w  [0.0347630722279, 0.166845627846, 0.0059597841...\n",
       "1  ta8x5JgBJnKaDWfYvpEYnw  [0.0642083528843, 0.0499467672035, 0.004340375...\n",
       "2  cLsE6jJmByJnWisWv8QH_A  [0.0466506388178, 0.124947376978, 0.0077227884...\n",
       "3  w0ArxcJ0XsyK1ZwrIf3gpA  [0.0909539147821, 0.0605304184206, 0.005805497...\n",
       "4  5G0cEcOxAwoPOhGV_B5VlA  [0.0543127966367, 0.101446777815, 0.0059598480..."
      ]
     },
     "execution_count": 78,
     "metadata": {},
     "output_type": "execute_result"
    }
   ],
   "source": [
    "embedding = pd.DataFrame(db)\n",
    "embedding.to_csv('nmf_embedding.csv', index = False)\n",
    "embedding.head()"
   ]
  },
  {
   "cell_type": "markdown",
   "metadata": {},
   "source": [
    "## Define the similarity of 2 business by cosine similarity"
   ]
  },
  {
   "cell_type": "code",
   "execution_count": 79,
   "metadata": {
    "collapsed": true
   },
   "outputs": [],
   "source": [
    "from sklearn.metrics.pairwise import linear_kernel\n",
    "from sklearn.metrics.pairwise import cosine_similarity"
   ]
  },
  {
   "cell_type": "code",
   "execution_count": 80,
   "metadata": {
    "collapsed": true
   },
   "outputs": [],
   "source": [
    "mat = []\n",
    "for e in embedding['embedding'].values:\n",
    "    mat.append(e)\n",
    "x = np.matrix(mat)"
   ]
  },
  {
   "cell_type": "code",
   "execution_count": 81,
   "metadata": {},
   "outputs": [],
   "source": [
    "y = cosine_similarity(x)"
   ]
  },
  {
   "cell_type": "code",
   "execution_count": 82,
   "metadata": {},
   "outputs": [
    {
     "name": "stdout",
     "output_type": "stream",
     "text": [
      "[ 1.          0.95908088  0.95049513  0.92973078  0.92779383  0.9270727\n",
      "  0.92418777  0.92182696  0.91861594]\n"
     ]
    },
    {
     "data": {
      "text/plain": [
       "array(['Ki4aSG30_W_2KPjqT50o1w', 'ogcWPQvYDGlCHLkGOBjv4A'], \n",
       "      dtype='<U22')"
      ]
     },
     "execution_count": 82,
     "metadata": {},
     "output_type": "execute_result"
    }
   ],
   "source": [
    "print (y[0][y[0].argsort()[:-10:-1]])\n",
    "np.array(random_busi)[[y[0].argsort()[:-10:-1][0], y[0].argsort()[:-10:-1][1]]]"
   ]
  },
  {
   "cell_type": "code",
   "execution_count": 83,
   "metadata": {
    "collapsed": true
   },
   "outputs": [],
   "source": [
    "pair = np.array(random_busi)[[y[0].argsort()[:-10:-1][0:10]]]"
   ]
  },
  {
   "cell_type": "code",
   "execution_count": 239,
   "metadata": {},
   "outputs": [
    {
     "data": {
      "text/plain": [
       "4316    Das Buffet ist sehr groß mit viel Auswahl, das...\n",
       "4317    Allgemein\\nSehr grosser Esstempel. Der vordere...\n",
       "4318    Absolute Massenabfertigung.\\nIdeal für Vieless...\n",
       "4319    Das All-you-can-eat ist meiner Meinung nach im...\n",
       "4320    Allgemein\\nNicht weiter zu empfehlen.Manche Sp...\n",
       "4321    Viele Besuche später muss ich meine Meinung be...\n",
       "4322    Heute war ich \"wieder mal\" -seit fast 8 Wochen...\n",
       "4323    Allgemein\\nWir waren schon öfters in dem Lokal...\n",
       "4324    Haben am Silvester kurzfristig noch einen Plat...\n",
       "4325    Riesig groß und übersatt!\\n\\n\\n Hier gibt es e...\n",
       "Name: text, dtype: object"
      ]
     },
     "execution_count": 239,
     "metadata": {},
     "output_type": "execute_result"
    }
   ],
   "source": [
    "review_chinese[review_chinese['business_id'].isin(pair)]['text'][:10]"
   ]
  },
  {
   "cell_type": "code",
   "execution_count": 240,
   "metadata": {},
   "outputs": [
    {
     "data": {
      "text/plain": [
       "68     [0.00664170959894, 0.00441037498269, 0.0004523...\n",
       "790    [0.0168769016179, 0.0025653871593, 0.001847720...\n",
       "Name: embedding, dtype: object"
      ]
     },
     "execution_count": 240,
     "metadata": {},
     "output_type": "execute_result"
    }
   ],
   "source": [
    "embedding[embedding['business_id'].isin(pair)]['embedding']"
   ]
  },
  {
   "cell_type": "code",
   "execution_count": 86,
   "metadata": {},
   "outputs": [
    {
     "data": {
      "text/html": [
       "<div>\n",
       "<style>\n",
       "    .dataframe thead tr:only-child th {\n",
       "        text-align: right;\n",
       "    }\n",
       "\n",
       "    .dataframe thead th {\n",
       "        text-align: left;\n",
       "    }\n",
       "\n",
       "    .dataframe tbody tr th {\n",
       "        vertical-align: top;\n",
       "    }\n",
       "</style>\n",
       "<table border=\"1\" class=\"dataframe\">\n",
       "  <thead>\n",
       "    <tr style=\"text-align: right;\">\n",
       "      <th></th>\n",
       "      <th>address</th>\n",
       "      <th>attributes</th>\n",
       "      <th>business_id</th>\n",
       "      <th>categories</th>\n",
       "      <th>city</th>\n",
       "      <th>hours</th>\n",
       "      <th>is_open</th>\n",
       "      <th>latitude</th>\n",
       "      <th>longitude</th>\n",
       "      <th>name</th>\n",
       "      <th>neighborhood</th>\n",
       "      <th>postal_code</th>\n",
       "      <th>review_count</th>\n",
       "      <th>stars</th>\n",
       "      <th>state</th>\n",
       "    </tr>\n",
       "  </thead>\n",
       "  <tbody>\n",
       "    <tr>\n",
       "      <th>7368</th>\n",
       "      <td>2379 Queen Street E</td>\n",
       "      <td>{'RestaurantsTableService': True, 'GoodForMeal...</td>\n",
       "      <td>tisVBZM6OFh1ih4x6rGtDw</td>\n",
       "      <td>[Chinese, Ethnic Food, Specialty Food, Importe...</td>\n",
       "      <td>Toronto</td>\n",
       "      <td>{'Monday': '8:00-0:00', 'Tuesday': '8:00-0:00'...</td>\n",
       "      <td>1</td>\n",
       "      <td>43.672499</td>\n",
       "      <td>-79.287349</td>\n",
       "      <td>Garden Gate Restaurant</td>\n",
       "      <td>The Beach</td>\n",
       "      <td>M4E 1H5</td>\n",
       "      <td>41</td>\n",
       "      <td>3.5</td>\n",
       "      <td>ON</td>\n",
       "    </tr>\n",
       "    <tr>\n",
       "      <th>24102</th>\n",
       "      <td>9623 E Independence Blvd, Ste N</td>\n",
       "      <td>{'RestaurantsTableService': True, 'GoodForMeal...</td>\n",
       "      <td>ffXOeotInfX8G_dK5_s6Ag</td>\n",
       "      <td>[Chinese, Restaurants]</td>\n",
       "      <td>Matthews</td>\n",
       "      <td>{'Monday': '11:00-21:30', 'Tuesday': '11:00-21...</td>\n",
       "      <td>1</td>\n",
       "      <td>35.135712</td>\n",
       "      <td>-80.712673</td>\n",
       "      <td>Chen-Fu Fast Chinese Food</td>\n",
       "      <td></td>\n",
       "      <td>28105</td>\n",
       "      <td>20</td>\n",
       "      <td>4.0</td>\n",
       "      <td>NC</td>\n",
       "    </tr>\n",
       "    <tr>\n",
       "      <th>33153</th>\n",
       "      <td>1721 E Warner Rd</td>\n",
       "      <td>{'GoodForMeal': {'dessert': False, 'latenight'...</td>\n",
       "      <td>ogcWPQvYDGlCHLkGOBjv4A</td>\n",
       "      <td>[Restaurants, Chinese]</td>\n",
       "      <td>Tempe</td>\n",
       "      <td>{'Monday': '11:00-21:00', 'Tuesday': '11:00-21...</td>\n",
       "      <td>0</td>\n",
       "      <td>33.333374</td>\n",
       "      <td>-111.912269</td>\n",
       "      <td>The Magic Wok</td>\n",
       "      <td></td>\n",
       "      <td>85284</td>\n",
       "      <td>7</td>\n",
       "      <td>4.0</td>\n",
       "      <td>AZ</td>\n",
       "    </tr>\n",
       "    <tr>\n",
       "      <th>45215</th>\n",
       "      <td>785 University Ave</td>\n",
       "      <td>{'Alcohol': 'beer_and_wine', 'HasTV': True, 'N...</td>\n",
       "      <td>NlzU1RxfXaWF6ir-ZWfrLg</td>\n",
       "      <td>[American (Traditional), Japanese, Chinese, Re...</td>\n",
       "      <td>Madison</td>\n",
       "      <td>{'Monday': '10:00-22:00', 'Tuesday': '10:00-22...</td>\n",
       "      <td>1</td>\n",
       "      <td>43.073015</td>\n",
       "      <td>-89.398402</td>\n",
       "      <td>Madison Cuisine</td>\n",
       "      <td>Capitol</td>\n",
       "      <td>53715</td>\n",
       "      <td>7</td>\n",
       "      <td>4.0</td>\n",
       "      <td>WI</td>\n",
       "    </tr>\n",
       "    <tr>\n",
       "      <th>74637</th>\n",
       "      <td>100 Wellington Street West</td>\n",
       "      <td>{'GoodForMeal': {'dessert': False, 'latenight'...</td>\n",
       "      <td>Ki4aSG30_W_2KPjqT50o1w</td>\n",
       "      <td>[Chinese, Restaurants]</td>\n",
       "      <td>Toronto</td>\n",
       "      <td>{'Friday': '10:00-18:00', 'Tuesday': '10:00-18...</td>\n",
       "      <td>1</td>\n",
       "      <td>43.646954</td>\n",
       "      <td>-79.382159</td>\n",
       "      <td>Eat Canteen</td>\n",
       "      <td>Financial District</td>\n",
       "      <td>M5K 1A1</td>\n",
       "      <td>9</td>\n",
       "      <td>4.0</td>\n",
       "      <td>ON</td>\n",
       "    </tr>\n",
       "    <tr>\n",
       "      <th>94351</th>\n",
       "      <td>125 Oakland Ave</td>\n",
       "      <td>{'RestaurantsTableService': False, 'GoodForMea...</td>\n",
       "      <td>MBirSnTW4pt2k7Ny6KC72w</td>\n",
       "      <td>[Chinese, Szechuan, Restaurants]</td>\n",
       "      <td>Pittsburgh</td>\n",
       "      <td>{'Monday': '10:30-22:00', 'Tuesday': '10:30-22...</td>\n",
       "      <td>1</td>\n",
       "      <td>40.441793</td>\n",
       "      <td>-79.957143</td>\n",
       "      <td>Szechuan Express</td>\n",
       "      <td>Oakland</td>\n",
       "      <td>15213</td>\n",
       "      <td>61</td>\n",
       "      <td>3.0</td>\n",
       "      <td>PA</td>\n",
       "    </tr>\n",
       "    <tr>\n",
       "      <th>106562</th>\n",
       "      <td>1550 S Gateway Road</td>\n",
       "      <td>{'RestaurantsTableService': False, 'GoodForMea...</td>\n",
       "      <td>xk4QOTqQHb8FQjge04x_tw</td>\n",
       "      <td>[Restaurants, Imported Food, Chinese, Specialt...</td>\n",
       "      <td>Mississauga</td>\n",
       "      <td>{}</td>\n",
       "      <td>1</td>\n",
       "      <td>43.631962</td>\n",
       "      <td>-79.614444</td>\n",
       "      <td>Dynasty BBQ</td>\n",
       "      <td></td>\n",
       "      <td>L4W 5J1</td>\n",
       "      <td>11</td>\n",
       "      <td>3.5</td>\n",
       "      <td>ON</td>\n",
       "    </tr>\n",
       "    <tr>\n",
       "      <th>141795</th>\n",
       "      <td>446 Hollandview Trail</td>\n",
       "      <td>{'RestaurantsTableService': False, 'GoodForMea...</td>\n",
       "      <td>ZhoIDHg1tDSgY2FJHYwX1Q</td>\n",
       "      <td>[Specialty Food, Restaurants, Chinese, Asian F...</td>\n",
       "      <td>Aurora</td>\n",
       "      <td>{'Monday': '11:30-21:30', 'Friday': '11:30-22:...</td>\n",
       "      <td>1</td>\n",
       "      <td>44.015879</td>\n",
       "      <td>-79.447527</td>\n",
       "      <td>Citi Wok</td>\n",
       "      <td></td>\n",
       "      <td>L4G 7Z9</td>\n",
       "      <td>9</td>\n",
       "      <td>3.5</td>\n",
       "      <td>ON</td>\n",
       "    </tr>\n",
       "    <tr>\n",
       "      <th>147632</th>\n",
       "      <td>739 Queen St E</td>\n",
       "      <td>{'RestaurantsTableService': False, 'GoodForMea...</td>\n",
       "      <td>TIu83s4sWMdhbwimzdfzIQ</td>\n",
       "      <td>[Restaurants, Chinese]</td>\n",
       "      <td>Toronto</td>\n",
       "      <td>{}</td>\n",
       "      <td>1</td>\n",
       "      <td>43.659188</td>\n",
       "      <td>-79.348408</td>\n",
       "      <td>Lucky Star Restaurant</td>\n",
       "      <td>Riverdale</td>\n",
       "      <td>M4M 1H3</td>\n",
       "      <td>16</td>\n",
       "      <td>4.0</td>\n",
       "      <td>ON</td>\n",
       "    </tr>\n",
       "  </tbody>\n",
       "</table>\n",
       "</div>"
      ],
      "text/plain": [
       "                                address  \\\n",
       "7368                2379 Queen Street E   \n",
       "24102   9623 E Independence Blvd, Ste N   \n",
       "33153                  1721 E Warner Rd   \n",
       "45215                785 University Ave   \n",
       "74637        100 Wellington Street West   \n",
       "94351                   125 Oakland Ave   \n",
       "106562              1550 S Gateway Road   \n",
       "141795            446 Hollandview Trail   \n",
       "147632                   739 Queen St E   \n",
       "\n",
       "                                               attributes  \\\n",
       "7368    {'RestaurantsTableService': True, 'GoodForMeal...   \n",
       "24102   {'RestaurantsTableService': True, 'GoodForMeal...   \n",
       "33153   {'GoodForMeal': {'dessert': False, 'latenight'...   \n",
       "45215   {'Alcohol': 'beer_and_wine', 'HasTV': True, 'N...   \n",
       "74637   {'GoodForMeal': {'dessert': False, 'latenight'...   \n",
       "94351   {'RestaurantsTableService': False, 'GoodForMea...   \n",
       "106562  {'RestaurantsTableService': False, 'GoodForMea...   \n",
       "141795  {'RestaurantsTableService': False, 'GoodForMea...   \n",
       "147632  {'RestaurantsTableService': False, 'GoodForMea...   \n",
       "\n",
       "                   business_id  \\\n",
       "7368    tisVBZM6OFh1ih4x6rGtDw   \n",
       "24102   ffXOeotInfX8G_dK5_s6Ag   \n",
       "33153   ogcWPQvYDGlCHLkGOBjv4A   \n",
       "45215   NlzU1RxfXaWF6ir-ZWfrLg   \n",
       "74637   Ki4aSG30_W_2KPjqT50o1w   \n",
       "94351   MBirSnTW4pt2k7Ny6KC72w   \n",
       "106562  xk4QOTqQHb8FQjge04x_tw   \n",
       "141795  ZhoIDHg1tDSgY2FJHYwX1Q   \n",
       "147632  TIu83s4sWMdhbwimzdfzIQ   \n",
       "\n",
       "                                               categories         city  \\\n",
       "7368    [Chinese, Ethnic Food, Specialty Food, Importe...      Toronto   \n",
       "24102                              [Chinese, Restaurants]     Matthews   \n",
       "33153                              [Restaurants, Chinese]        Tempe   \n",
       "45215   [American (Traditional), Japanese, Chinese, Re...      Madison   \n",
       "74637                              [Chinese, Restaurants]      Toronto   \n",
       "94351                    [Chinese, Szechuan, Restaurants]   Pittsburgh   \n",
       "106562  [Restaurants, Imported Food, Chinese, Specialt...  Mississauga   \n",
       "141795  [Specialty Food, Restaurants, Chinese, Asian F...       Aurora   \n",
       "147632                             [Restaurants, Chinese]      Toronto   \n",
       "\n",
       "                                                    hours  is_open   latitude  \\\n",
       "7368    {'Monday': '8:00-0:00', 'Tuesday': '8:00-0:00'...        1  43.672499   \n",
       "24102   {'Monday': '11:00-21:30', 'Tuesday': '11:00-21...        1  35.135712   \n",
       "33153   {'Monday': '11:00-21:00', 'Tuesday': '11:00-21...        0  33.333374   \n",
       "45215   {'Monday': '10:00-22:00', 'Tuesday': '10:00-22...        1  43.073015   \n",
       "74637   {'Friday': '10:00-18:00', 'Tuesday': '10:00-18...        1  43.646954   \n",
       "94351   {'Monday': '10:30-22:00', 'Tuesday': '10:30-22...        1  40.441793   \n",
       "106562                                                 {}        1  43.631962   \n",
       "141795  {'Monday': '11:30-21:30', 'Friday': '11:30-22:...        1  44.015879   \n",
       "147632                                                 {}        1  43.659188   \n",
       "\n",
       "         longitude                       name        neighborhood postal_code  \\\n",
       "7368    -79.287349     Garden Gate Restaurant           The Beach     M4E 1H5   \n",
       "24102   -80.712673  Chen-Fu Fast Chinese Food                           28105   \n",
       "33153  -111.912269              The Magic Wok                           85284   \n",
       "45215   -89.398402            Madison Cuisine             Capitol       53715   \n",
       "74637   -79.382159                Eat Canteen  Financial District     M5K 1A1   \n",
       "94351   -79.957143           Szechuan Express             Oakland       15213   \n",
       "106562  -79.614444                Dynasty BBQ                         L4W 5J1   \n",
       "141795  -79.447527                   Citi Wok                         L4G 7Z9   \n",
       "147632  -79.348408      Lucky Star Restaurant           Riverdale     M4M 1H3   \n",
       "\n",
       "        review_count  stars state  \n",
       "7368              41    3.5    ON  \n",
       "24102             20    4.0    NC  \n",
       "33153              7    4.0    AZ  \n",
       "45215              7    4.0    WI  \n",
       "74637              9    4.0    ON  \n",
       "94351             61    3.0    PA  \n",
       "106562            11    3.5    ON  \n",
       "141795             9    3.5    ON  \n",
       "147632            16    4.0    ON  "
      ]
     },
     "execution_count": 86,
     "metadata": {},
     "output_type": "execute_result"
    }
   ],
   "source": [
    "business[business['business_id'].isin(pair)]"
   ]
  },
  {
   "cell_type": "markdown",
   "metadata": {},
   "source": [
    "I discovered the similarity in Canadian Chinese restrant reviews"
   ]
  },
  {
   "cell_type": "markdown",
   "metadata": {},
   "source": [
    "## Investigate with different samples"
   ]
  },
  {
   "cell_type": "code",
   "execution_count": 101,
   "metadata": {},
   "outputs": [],
   "source": [
    "pair = np.array(random_busi)[[y[3].argsort()[:-3:-1]]]"
   ]
  },
  {
   "cell_type": "code",
   "execution_count": 102,
   "metadata": {},
   "outputs": [
    {
     "data": {
      "text/html": [
       "<div>\n",
       "<style>\n",
       "    .dataframe thead tr:only-child th {\n",
       "        text-align: right;\n",
       "    }\n",
       "\n",
       "    .dataframe thead th {\n",
       "        text-align: left;\n",
       "    }\n",
       "\n",
       "    .dataframe tbody tr th {\n",
       "        vertical-align: top;\n",
       "    }\n",
       "</style>\n",
       "<table border=\"1\" class=\"dataframe\">\n",
       "  <thead>\n",
       "    <tr style=\"text-align: right;\">\n",
       "      <th></th>\n",
       "      <th>address</th>\n",
       "      <th>attributes</th>\n",
       "      <th>business_id</th>\n",
       "      <th>categories</th>\n",
       "      <th>city</th>\n",
       "      <th>hours</th>\n",
       "      <th>is_open</th>\n",
       "      <th>latitude</th>\n",
       "      <th>longitude</th>\n",
       "      <th>name</th>\n",
       "      <th>neighborhood</th>\n",
       "      <th>postal_code</th>\n",
       "      <th>review_count</th>\n",
       "      <th>stars</th>\n",
       "      <th>state</th>\n",
       "    </tr>\n",
       "  </thead>\n",
       "  <tbody>\n",
       "    <tr>\n",
       "      <th>17624</th>\n",
       "      <td>7777 W Sahara Ave</td>\n",
       "      <td>{'Alcohol': 'full_bar', 'HasTV': True, 'NoiseL...</td>\n",
       "      <td>w0ArxcJ0XsyK1ZwrIf3gpA</td>\n",
       "      <td>[Nightlife, Chinese, Restaurants, Bars, Sports...</td>\n",
       "      <td>Las Vegas</td>\n",
       "      <td>{'Monday': '0:00-0:00', 'Tuesday': '0:00-0:00'...</td>\n",
       "      <td>1</td>\n",
       "      <td>36.143312</td>\n",
       "      <td>-115.260082</td>\n",
       "      <td>Four Sevens Sports Bar &amp; Restaurant</td>\n",
       "      <td>Westside</td>\n",
       "      <td>89117</td>\n",
       "      <td>76</td>\n",
       "      <td>4.0</td>\n",
       "      <td>NV</td>\n",
       "    </tr>\n",
       "    <tr>\n",
       "      <th>20324</th>\n",
       "      <td>10A Edward Street, Second Floor</td>\n",
       "      <td>{'Alcohol': 'full_bar', 'HasTV': True, 'NoiseL...</td>\n",
       "      <td>joMyW9KcBEsHJxQuAMulaQ</td>\n",
       "      <td>[Arts &amp; Entertainment, Lounges, Asian Fusion, ...</td>\n",
       "      <td>Toronto</td>\n",
       "      <td>{'Monday': '17:00-2:00', 'Tuesday': '17:00-2:0...</td>\n",
       "      <td>0</td>\n",
       "      <td>43.656977</td>\n",
       "      <td>-79.381554</td>\n",
       "      <td>Roll Play</td>\n",
       "      <td>Downtown Core</td>\n",
       "      <td>M5G 1C9</td>\n",
       "      <td>111</td>\n",
       "      <td>3.5</td>\n",
       "      <td>ON</td>\n",
       "    </tr>\n",
       "  </tbody>\n",
       "</table>\n",
       "</div>"
      ],
      "text/plain": [
       "                               address  \\\n",
       "17624                7777 W Sahara Ave   \n",
       "20324  10A Edward Street, Second Floor   \n",
       "\n",
       "                                              attributes  \\\n",
       "17624  {'Alcohol': 'full_bar', 'HasTV': True, 'NoiseL...   \n",
       "20324  {'Alcohol': 'full_bar', 'HasTV': True, 'NoiseL...   \n",
       "\n",
       "                  business_id  \\\n",
       "17624  w0ArxcJ0XsyK1ZwrIf3gpA   \n",
       "20324  joMyW9KcBEsHJxQuAMulaQ   \n",
       "\n",
       "                                              categories       city  \\\n",
       "17624  [Nightlife, Chinese, Restaurants, Bars, Sports...  Las Vegas   \n",
       "20324  [Arts & Entertainment, Lounges, Asian Fusion, ...    Toronto   \n",
       "\n",
       "                                                   hours  is_open   latitude  \\\n",
       "17624  {'Monday': '0:00-0:00', 'Tuesday': '0:00-0:00'...        1  36.143312   \n",
       "20324  {'Monday': '17:00-2:00', 'Tuesday': '17:00-2:0...        0  43.656977   \n",
       "\n",
       "        longitude                                 name   neighborhood  \\\n",
       "17624 -115.260082  Four Sevens Sports Bar & Restaurant       Westside   \n",
       "20324  -79.381554                            Roll Play  Downtown Core   \n",
       "\n",
       "      postal_code  review_count  stars state  \n",
       "17624       89117            76    4.0    NV  \n",
       "20324     M5G 1C9           111    3.5    ON  "
      ]
     },
     "execution_count": 102,
     "metadata": {},
     "output_type": "execute_result"
    }
   ],
   "source": [
    "business[business['business_id'].isin(pair)]"
   ]
  },
  {
   "cell_type": "code",
   "execution_count": 142,
   "metadata": {},
   "outputs": [
    {
     "name": "stdout",
     "output_type": "stream",
     "text": [
      "156\n",
      "547\n"
     ]
    }
   ],
   "source": [
    "closest = []\n",
    "idx = 0\n",
    "for i in range(1000):\n",
    "    close = y[i][y[i].argsort()[:-3:-1]][1]\n",
    "    if 0.99191131004994981 == close:\n",
    "        print (i)\n",
    "    closest.append(close)"
   ]
  },
  {
   "cell_type": "code",
   "execution_count": 120,
   "metadata": {},
   "outputs": [
    {
     "data": {
      "text/plain": [
       "[array([ 68, 790, 165, 423, 828, 789, 776, 846, 769])]"
      ]
     },
     "execution_count": 120,
     "metadata": {},
     "output_type": "execute_result"
    }
   ],
   "source": [
    "[y[68].argsort()[:-10:-1]]"
   ]
  },
  {
   "cell_type": "code",
   "execution_count": 125,
   "metadata": {},
   "outputs": [],
   "source": [
    "pair = np.array(random_busi)[[y[68].argsort()[:-3:-1]]]"
   ]
  },
  {
   "cell_type": "code",
   "execution_count": 126,
   "metadata": {},
   "outputs": [
    {
     "data": {
      "text/html": [
       "<div>\n",
       "<style>\n",
       "    .dataframe thead tr:only-child th {\n",
       "        text-align: right;\n",
       "    }\n",
       "\n",
       "    .dataframe thead th {\n",
       "        text-align: left;\n",
       "    }\n",
       "\n",
       "    .dataframe tbody tr th {\n",
       "        vertical-align: top;\n",
       "    }\n",
       "</style>\n",
       "<table border=\"1\" class=\"dataframe\">\n",
       "  <thead>\n",
       "    <tr style=\"text-align: right;\">\n",
       "      <th></th>\n",
       "      <th>address</th>\n",
       "      <th>attributes</th>\n",
       "      <th>business_id</th>\n",
       "      <th>categories</th>\n",
       "      <th>city</th>\n",
       "      <th>hours</th>\n",
       "      <th>is_open</th>\n",
       "      <th>latitude</th>\n",
       "      <th>longitude</th>\n",
       "      <th>name</th>\n",
       "      <th>neighborhood</th>\n",
       "      <th>postal_code</th>\n",
       "      <th>review_count</th>\n",
       "      <th>stars</th>\n",
       "      <th>state</th>\n",
       "    </tr>\n",
       "  </thead>\n",
       "  <tbody>\n",
       "    <tr>\n",
       "      <th>7259</th>\n",
       "      <td>Eltinger Str. 5</td>\n",
       "      <td>{'DogsAllowed': False, 'BusinessParking': {'ga...</td>\n",
       "      <td>kTkXjSLoJOUOOgaXT2uv6Q</td>\n",
       "      <td>[Chinese, Restaurants]</td>\n",
       "      <td>Leonberg</td>\n",
       "      <td>{'Tuesday': '17:30-23:00', 'Friday': '17:30-23...</td>\n",
       "      <td>1</td>\n",
       "      <td>48.799600</td>\n",
       "      <td>9.017070</td>\n",
       "      <td>China-Restaurant Jasmin</td>\n",
       "      <td></td>\n",
       "      <td>71229</td>\n",
       "      <td>4</td>\n",
       "      <td>4.0</td>\n",
       "      <td>BW</td>\n",
       "    </tr>\n",
       "    <tr>\n",
       "      <th>121600</th>\n",
       "      <td>Rennstr. 30</td>\n",
       "      <td>{'RestaurantsTableService': True, 'GoodForMeal...</td>\n",
       "      <td>FbodDIyA-3_i98ErrYDa4g</td>\n",
       "      <td>[Asian Fusion, Restaurants, Chinese, Sushi Bar...</td>\n",
       "      <td>Esslingen</td>\n",
       "      <td>{'Monday': '17:30-23:30', 'Tuesday': '17:30-23...</td>\n",
       "      <td>1</td>\n",
       "      <td>48.730734</td>\n",
       "      <td>9.322767</td>\n",
       "      <td>Asia Gourmet</td>\n",
       "      <td></td>\n",
       "      <td>73728</td>\n",
       "      <td>20</td>\n",
       "      <td>3.0</td>\n",
       "      <td>BW</td>\n",
       "    </tr>\n",
       "  </tbody>\n",
       "</table>\n",
       "</div>"
      ],
      "text/plain": [
       "                address                                         attributes  \\\n",
       "7259    Eltinger Str. 5  {'DogsAllowed': False, 'BusinessParking': {'ga...   \n",
       "121600      Rennstr. 30  {'RestaurantsTableService': True, 'GoodForMeal...   \n",
       "\n",
       "                   business_id  \\\n",
       "7259    kTkXjSLoJOUOOgaXT2uv6Q   \n",
       "121600  FbodDIyA-3_i98ErrYDa4g   \n",
       "\n",
       "                                               categories       city  \\\n",
       "7259                               [Chinese, Restaurants]   Leonberg   \n",
       "121600  [Asian Fusion, Restaurants, Chinese, Sushi Bar...  Esslingen   \n",
       "\n",
       "                                                    hours  is_open   latitude  \\\n",
       "7259    {'Tuesday': '17:30-23:00', 'Friday': '17:30-23...        1  48.799600   \n",
       "121600  {'Monday': '17:30-23:30', 'Tuesday': '17:30-23...        1  48.730734   \n",
       "\n",
       "        longitude                     name neighborhood postal_code  \\\n",
       "7259     9.017070  China-Restaurant Jasmin                    71229   \n",
       "121600   9.322767             Asia Gourmet                    73728   \n",
       "\n",
       "        review_count  stars state  \n",
       "7259               4    4.0    BW  \n",
       "121600            20    3.0    BW  "
      ]
     },
     "execution_count": 126,
     "metadata": {},
     "output_type": "execute_result"
    }
   ],
   "source": [
    "business[business['business_id'].isin(pair)]"
   ]
  },
  {
   "cell_type": "code",
   "execution_count": 149,
   "metadata": {},
   "outputs": [],
   "source": [
    "sample1 = reviews[reviews['business_id'] == np.array(random_busi)[y[156].argsort()[:-3:-1]][0]]"
   ]
  },
  {
   "cell_type": "code",
   "execution_count": 150,
   "metadata": {},
   "outputs": [],
   "source": [
    "sample2 = reviews[reviews['business_id'] == np.array(random_busi)[y[156].argsort()[:-3:-1]][1]]"
   ]
  },
  {
   "cell_type": "code",
   "execution_count": 147,
   "metadata": {},
   "outputs": [
    {
     "data": {
      "text/plain": [
       "(210, 9)"
      ]
     },
     "execution_count": 147,
     "metadata": {},
     "output_type": "execute_result"
    }
   ],
   "source": [
    "sample1.shape"
   ]
  },
  {
   "cell_type": "code",
   "execution_count": 148,
   "metadata": {},
   "outputs": [
    {
     "data": {
      "text/plain": [
       "(116, 9)"
      ]
     },
     "execution_count": 148,
     "metadata": {},
     "output_type": "execute_result"
    }
   ],
   "source": [
    "sample2.shape"
   ]
  },
  {
   "cell_type": "code",
   "execution_count": 174,
   "metadata": {},
   "outputs": [
    {
     "name": "stdout",
     "output_type": "stream",
     "text": [
      "[[ 0.13176707]]\n"
     ]
    }
   ],
   "source": [
    "for i,j in zip(sample1.head(1).values, sample2.head(1).values):\n",
    "    print (cosine_similarity(get_avg_k_index_for_doc(i[6],vec3,tm3).reshape(1, -1), get_avg_k_index_for_doc(j[6],vec3,tm3).reshape(1, -1)))"
   ]
  },
  {
   "cell_type": "markdown",
   "metadata": {},
   "source": [
    "## Find confidence interval by taking 20 samples"
   ]
  },
  {
   "cell_type": "code",
   "execution_count": 231,
   "metadata": {
    "collapsed": true
   },
   "outputs": [],
   "source": [
    "def topic_similarity_confidence_interval(reviews, id1, id2, alpha = 0.05, n = 20):\n",
    "    '''\n",
    "    build a confidence interval of k_index similarity \n",
    "    \n",
    "    Input:\n",
    "        reviews(dataframe) : dataframe of reviews\n",
    "        id1(str) : business_id for sample business 1\n",
    "        id2(str) : business_id for sample business 2\n",
    "        a\n",
    "    output:\n",
    "        k_index : the weight vector for each topic\n",
    "    '''\n",
    "    sample1 = reviews[reviews['business_id'] == id1]\n",
    "    sample2 = reviews[reviews['business_id'] == id2]\n",
    "    if sample1.shape[0] < n or sample2.shape[0] < n:\n",
    "        return None\n",
    "    else:\n",
    "        bins = []\n",
    "        rand1 = random.sample(range(sample1.shape[0]),n)        \n",
    "        rand2 = random.sample(range(sample2.shape[0]),n)\n",
    "        sample1 = sample1.iloc[rand1]\n",
    "        sample2 = sample2.iloc[rand2]\n",
    "        for i,j in zip(sample1.values, sample2.values):\n",
    "            sim = cosine_similarity(get_avg_k_index_for_doc(i[6],vec3,tm3).reshape(1, -1), get_avg_k_index_for_doc(j[6],vec3,tm3).reshape(1, -1))\n",
    "            bins.append(sim)\n",
    "        mu = np.array(bins).mean()        \n",
    "        sigma = np.var(np.array(bins), ddof = 1)\n",
    "        return mu - norm.ppf(1 - alpha/2)*np.sqrt(sigma)/np.sqrt(n), mu + norm.ppf(1 - alpha/2)*np.sqrt(sigma)/np.sqrt(n)"
   ]
  },
  {
   "cell_type": "code",
   "execution_count": 232,
   "metadata": {},
   "outputs": [
    {
     "data": {
      "text/plain": [
       "(0.39870939527539245, 0.54026800239267658)"
      ]
     },
     "execution_count": 232,
     "metadata": {},
     "output_type": "execute_result"
    }
   ],
   "source": [
    "topic_similarity_confidence_interval(reviews, np.array(random_busi)[y[3].argsort()[:-3:-1]][0], np.array(random_busi)[y[3].argsort()[:-3:-1]][1])"
   ]
  },
  {
   "cell_type": "code",
   "execution_count": 233,
   "metadata": {},
   "outputs": [
    {
     "name": "stdout",
     "output_type": "stream",
     "text": [
      "(0.38177451520125377, 0.54461843494557982)\n",
      "(0.4010228211599064, 0.55103626238774905)\n",
      "(0.30415087880980851, 0.44544987447367779)\n",
      "(0.30869657664824723, 0.47429023439115037)\n",
      "(0.36271312573149744, 0.53339694752447109)\n",
      "(0.3915969818922922, 0.53790532330914576)\n",
      "(0.31021878257528962, 0.48745838366220479)\n",
      "(0.30319100662879828, 0.41981671983256807)\n",
      "(0.3466797190055787, 0.49578252803176559)\n"
     ]
    }
   ],
   "source": [
    "for i in range(20):\n",
    "    mu = topic_similarity_confidence_interval(reviews, np.array(random_busi)[y[i].argsort()[:-3:-1]][0], np.array(random_busi)[y[i].argsort()[:-3:-1]][1])\n",
    "    if mu:\n",
    "        print (mu)"
   ]
  },
  {
   "cell_type": "markdown",
   "metadata": {},
   "source": [
    "Difference in topic distribution becomes much larger when I compare 2 reviews. This is becasue the topic in the review contains much more variance than the emperical distribution of all reviews in one business. "
   ]
  },
  {
   "cell_type": "code",
   "execution_count": null,
   "metadata": {
    "collapsed": true
   },
   "outputs": [],
   "source": []
  }
 ],
 "metadata": {
  "kernelspec": {
   "display_name": "Python 3",
   "language": "python",
   "name": "python3"
  },
  "language_info": {
   "codemirror_mode": {
    "name": "ipython",
    "version": 3
   },
   "file_extension": ".py",
   "mimetype": "text/x-python",
   "name": "python",
   "nbconvert_exporter": "python",
   "pygments_lexer": "ipython3",
   "version": "3.6.1"
  }
 },
 "nbformat": 4,
 "nbformat_minor": 2
}
