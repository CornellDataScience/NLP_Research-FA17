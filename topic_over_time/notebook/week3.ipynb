{
 "cells": [
  {
   "cell_type": "markdown",
   "metadata": {},
   "source": [
    "# LDA over Time"
   ]
  },
  {
   "cell_type": "code",
   "execution_count": 208,
   "metadata": {},
   "outputs": [],
   "source": [
    "from utils import * \n",
    "import plotly.plotly as py\n",
    "import plotly \n",
    "import time\n",
    "import datetime\n",
    "import nltk\n",
    "from sklearn.feature_extraction.text import TfidfVectorizer\n",
    "from sklearn.feature_extraction.text import CountVectorizer\n",
    "from statsmodels.tsa.seasonal import seasonal_decompose\n",
    "import matplotlib.pyplot as plt\n",
    "plotly.tools.set_credentials_file(username='kt426', api_key='GcKIXRGajqJ9KlQAcL2L')"
   ]
  },
  {
   "cell_type": "markdown",
   "metadata": {},
   "source": [
    "### Load dataframe"
   ]
  },
  {
   "cell_type": "code",
   "execution_count": 6,
   "metadata": {
    "collapsed": true
   },
   "outputs": [],
   "source": [
    "DATAPASS = '../../../yelp10/dataset/business.json'\n",
    "business = load_json_to_df(DATAPASS)"
   ]
  },
  {
   "cell_type": "code",
   "execution_count": 7,
   "metadata": {
    "collapsed": true
   },
   "outputs": [],
   "source": [
    "DATAPASS2 = '../../../yelp10/dataset/review.json'\n",
    "review = load_json_to_df(DATAPASS2)"
   ]
  },
  {
   "cell_type": "code",
   "execution_count": 8,
   "metadata": {
    "collapsed": true
   },
   "outputs": [],
   "source": [
    "categories = {}\n",
    "for C in business.categories:\n",
    "    for c in C:\n",
    "        if c in categories:\n",
    "            categories[c] += 1\n",
    "        else:\n",
    "            categories[c] = 1"
   ]
  },
  {
   "cell_type": "code",
   "execution_count": 9,
   "metadata": {
    "collapsed": true
   },
   "outputs": [],
   "source": [
    "categories = sorted(categories.items(), key=lambda x: x[1], reverse = True)"
   ]
  },
  {
   "cell_type": "code",
   "execution_count": 19,
   "metadata": {},
   "outputs": [
    {
     "data": {
      "text/plain": [
       "[('Restaurants', 51613),\n",
       " ('Shopping', 24595),\n",
       " ('Food', 23014),\n",
       " ('Beauty & Spas', 15139),\n",
       " ('Home Services', 13202),\n",
       " ('Health & Medical', 12033),\n",
       " ('Nightlife', 11364),\n",
       " ('Bars', 9868),\n",
       " ('Automotive', 9476),\n",
       " ('Local Services', 9343),\n",
       " ('Event Planning & Services', 8038),\n",
       " ('Active Life', 7427),\n",
       " ('Fashion', 6299),\n",
       " ('Sandwiches', 5864),\n",
       " ('Fast Food', 5792),\n",
       " ('American (Traditional)', 5737),\n",
       " ('Pizza', 5652),\n",
       " ('Coffee & Tea', 5565),\n",
       " ('Hair Salons', 5395),\n",
       " ('Hotels & Travel', 5188),\n",
       " ('Arts & Entertainment', 5054),\n",
       " ('Home & Garden', 4584),\n",
       " ('Auto Repair', 4480),\n",
       " ('Italian', 4411),\n",
       " ('Burgers', 4236),\n",
       " ('Doctors', 4124),\n",
       " ('Breakfast & Brunch', 4103),\n",
       " ('Mexican', 3913),\n",
       " ('Nail Salons', 3884),\n",
       " ('Professional Services', 3865),\n",
       " ('American (New)', 3802),\n",
       " ('Chinese', 3775),\n",
       " ('Real Estate', 3729),\n",
       " ('Specialty Food', 3620),\n",
       " ('Fitness & Instruction', 3615),\n",
       " ('Pets', 3153),\n",
       " ('Grocery', 3044),\n",
       " ('Bakeries', 3014),\n",
       " ('Cafes', 2812),\n",
       " ('Hair Removal', 2704)]"
      ]
     },
     "execution_count": 19,
     "metadata": {},
     "output_type": "execute_result"
    }
   ],
   "source": [
    "categories[:40]"
   ]
  },
  {
   "cell_type": "code",
   "execution_count": 13,
   "metadata": {},
   "outputs": [
    {
     "data": {
      "text/html": [
       "<div>\n",
       "<style>\n",
       "    .dataframe thead tr:only-child th {\n",
       "        text-align: right;\n",
       "    }\n",
       "\n",
       "    .dataframe thead th {\n",
       "        text-align: left;\n",
       "    }\n",
       "\n",
       "    .dataframe tbody tr th {\n",
       "        vertical-align: top;\n",
       "    }\n",
       "</style>\n",
       "<table border=\"1\" class=\"dataframe\">\n",
       "  <thead>\n",
       "    <tr style=\"text-align: right;\">\n",
       "      <th></th>\n",
       "      <th>business_id</th>\n",
       "      <th>cool</th>\n",
       "      <th>date</th>\n",
       "      <th>funny</th>\n",
       "      <th>review_id</th>\n",
       "      <th>stars</th>\n",
       "      <th>text</th>\n",
       "      <th>useful</th>\n",
       "      <th>user_id</th>\n",
       "    </tr>\n",
       "  </thead>\n",
       "  <tbody>\n",
       "    <tr>\n",
       "      <th>0</th>\n",
       "      <td>uYHaNptLzDLoV_JZ_MuzUA</td>\n",
       "      <td>0</td>\n",
       "      <td>2016-07-12</td>\n",
       "      <td>0</td>\n",
       "      <td>VfBHSwC5Vz_pbFluy07i9Q</td>\n",
       "      <td>5</td>\n",
       "      <td>My girlfriend and I stayed here for 3 nights a...</td>\n",
       "      <td>0</td>\n",
       "      <td>cjpdDjZyprfyDG3RlkVG3w</td>\n",
       "    </tr>\n",
       "    <tr>\n",
       "      <th>1</th>\n",
       "      <td>uYHaNptLzDLoV_JZ_MuzUA</td>\n",
       "      <td>0</td>\n",
       "      <td>2016-10-02</td>\n",
       "      <td>0</td>\n",
       "      <td>3zRpneRKDsOPq92tq7ybAA</td>\n",
       "      <td>3</td>\n",
       "      <td>If you need an inexpensive place to stay for a...</td>\n",
       "      <td>0</td>\n",
       "      <td>bjTcT8Ty4cJZhEOEo01FGA</td>\n",
       "    </tr>\n",
       "    <tr>\n",
       "      <th>2</th>\n",
       "      <td>uYHaNptLzDLoV_JZ_MuzUA</td>\n",
       "      <td>0</td>\n",
       "      <td>2015-09-17</td>\n",
       "      <td>0</td>\n",
       "      <td>ne5WhI1jUFOcRn-b-gAzHA</td>\n",
       "      <td>3</td>\n",
       "      <td>Mittlerweile gibt es in Edinburgh zwei Ableger...</td>\n",
       "      <td>0</td>\n",
       "      <td>AXgRULmWcME7J6Ix3I--ww</td>\n",
       "    </tr>\n",
       "    <tr>\n",
       "      <th>3</th>\n",
       "      <td>uYHaNptLzDLoV_JZ_MuzUA</td>\n",
       "      <td>0</td>\n",
       "      <td>2016-08-21</td>\n",
       "      <td>0</td>\n",
       "      <td>llmdwOgDReucVoWEry61Lw</td>\n",
       "      <td>4</td>\n",
       "      <td>Location is everything and this hotel has it! ...</td>\n",
       "      <td>0</td>\n",
       "      <td>oU2SSOmsp_A8JYI7Z2JJ5w</td>\n",
       "    </tr>\n",
       "    <tr>\n",
       "      <th>4</th>\n",
       "      <td>uYHaNptLzDLoV_JZ_MuzUA</td>\n",
       "      <td>0</td>\n",
       "      <td>2013-11-20</td>\n",
       "      <td>0</td>\n",
       "      <td>DuffS87NaSMDmIfluvT83g</td>\n",
       "      <td>5</td>\n",
       "      <td>gute lage im stadtzentrum. shoppingmeile und s...</td>\n",
       "      <td>0</td>\n",
       "      <td>0xtbPEna2Kei11vsU-U2Mw</td>\n",
       "    </tr>\n",
       "  </tbody>\n",
       "</table>\n",
       "</div>"
      ],
      "text/plain": [
       "              business_id  cool        date  funny               review_id  \\\n",
       "0  uYHaNptLzDLoV_JZ_MuzUA     0  2016-07-12      0  VfBHSwC5Vz_pbFluy07i9Q   \n",
       "1  uYHaNptLzDLoV_JZ_MuzUA     0  2016-10-02      0  3zRpneRKDsOPq92tq7ybAA   \n",
       "2  uYHaNptLzDLoV_JZ_MuzUA     0  2015-09-17      0  ne5WhI1jUFOcRn-b-gAzHA   \n",
       "3  uYHaNptLzDLoV_JZ_MuzUA     0  2016-08-21      0  llmdwOgDReucVoWEry61Lw   \n",
       "4  uYHaNptLzDLoV_JZ_MuzUA     0  2013-11-20      0  DuffS87NaSMDmIfluvT83g   \n",
       "\n",
       "   stars                                               text  useful  \\\n",
       "0      5  My girlfriend and I stayed here for 3 nights a...       0   \n",
       "1      3  If you need an inexpensive place to stay for a...       0   \n",
       "2      3  Mittlerweile gibt es in Edinburgh zwei Ableger...       0   \n",
       "3      4  Location is everything and this hotel has it! ...       0   \n",
       "4      5  gute lage im stadtzentrum. shoppingmeile und s...       0   \n",
       "\n",
       "                  user_id  \n",
       "0  cjpdDjZyprfyDG3RlkVG3w  \n",
       "1  bjTcT8Ty4cJZhEOEo01FGA  \n",
       "2  AXgRULmWcME7J6Ix3I--ww  \n",
       "3  oU2SSOmsp_A8JYI7Z2JJ5w  \n",
       "4  0xtbPEna2Kei11vsU-U2Mw  "
      ]
     },
     "execution_count": 13,
     "metadata": {},
     "output_type": "execute_result"
    }
   ],
   "source": [
    "review.head()"
   ]
  },
  {
   "cell_type": "code",
   "execution_count": 14,
   "metadata": {
    "collapsed": true
   },
   "outputs": [],
   "source": [
    "def business_id_retrieval(cat, business):\n",
    "    '''\n",
    "    \n",
    "    Input:\n",
    "        cat(str) : category\n",
    "        business(dataframe) : the business data\n",
    "    Output:\n",
    "        id_list(set) : business ids of a particular category\n",
    "    '''\n",
    "    id_list = set()\n",
    "    idx = 0\n",
    "    for row in business.values:\n",
    "        categories = row[3]\n",
    "        if cat in categories:\n",
    "            id_list.add(row[2])\n",
    "    return id_list"
   ]
  },
  {
   "cell_type": "markdown",
   "metadata": {},
   "source": [
    "## Experiment with Pizza and Chinese"
   ]
  },
  {
   "cell_type": "code",
   "execution_count": 15,
   "metadata": {
    "collapsed": true
   },
   "outputs": [],
   "source": [
    "pizza = business_id_retrieval('Pizza', business)"
   ]
  },
  {
   "cell_type": "code",
   "execution_count": 16,
   "metadata": {
    "collapsed": true
   },
   "outputs": [],
   "source": [
    "review_pizza = review.loc[review['business_id'].isin(pizza)]"
   ]
  },
  {
   "cell_type": "code",
   "execution_count": 20,
   "metadata": {
    "collapsed": true
   },
   "outputs": [],
   "source": [
    "chinese = business_id_retrieval('Chinese', business)"
   ]
  },
  {
   "cell_type": "code",
   "execution_count": 21,
   "metadata": {
    "collapsed": true
   },
   "outputs": [],
   "source": [
    "review_chinese = review.loc[review['business_id'].isin(chinese)]"
   ]
  },
  {
   "cell_type": "markdown",
   "metadata": {},
   "source": [
    "### Observe review count over time"
   ]
  },
  {
   "cell_type": "code",
   "execution_count": 17,
   "metadata": {
    "scrolled": false
   },
   "outputs": [
    {
     "data": {
      "text/html": [
       "<iframe id=\"igraph\" scrolling=\"no\" style=\"border:none;\" seamless=\"seamless\" src=\"https://plot.ly/~kt426/38.embed\" height=\"525px\" width=\"100%\"></iframe>"
      ],
      "text/plain": [
       "<plotly.tools.PlotlyDisplay object>"
      ]
     },
     "execution_count": 17,
     "metadata": {},
     "output_type": "execute_result"
    }
   ],
   "source": [
    "import plotly.graph_objs as go\n",
    "data = [go.Scatter(x=review_pizza.groupby('date').count()['review_id'].keys()\\\n",
    "                   ,y=review_pizza.groupby('date').count()['review_id'].values)]\n",
    "layout = go.Layout( title='Piazza Reviews',\n",
    "    xaxis={'title':'Date'},\n",
    "    yaxis={'title':'Number of reviews'},\n",
    ")\n",
    "fig = go.Figure(data=data, layout=layout)\n",
    "py.iplot(fig)"
   ]
  },
  {
   "cell_type": "markdown",
   "metadata": {},
   "source": [
    "### Apply STL Decomposition"
   ]
  },
  {
   "cell_type": "code",
   "execution_count": 278,
   "metadata": {},
   "outputs": [],
   "source": [
    "y = review_pizza.groupby('date').count()['review_id'].values\n",
    "result = seasonal_decompose(y, model='additive', freq = 10)"
   ]
  },
  {
   "cell_type": "code",
   "execution_count": 279,
   "metadata": {},
   "outputs": [
    {
     "data": {
      "image/png": "[encoded data removed]",
      "text/plain": [
       "<matplotlib.figure.Figure at 0x1206d2278>"
      ]
     },
     "metadata": {},
     "output_type": "display_data"
    }
   ],
   "source": [
    "plt.plot(result.observed)\n",
    "plt.plot(result.trend)\n",
    "plt.show()"
   ]
  },
  {
   "cell_type": "code",
   "execution_count": 280,
   "metadata": {},
   "outputs": [
    {
     "data": {
      "image/png": "[encoded data removed]",
      "text/plain": [
       "<matplotlib.figure.Figure at 0x1206d2400>"
      ]
     },
     "metadata": {},
     "output_type": "display_data"
    }
   ],
   "source": [
    "plt.plot(result.resid)\n",
    "plt.show()"
   ]
  },
  {
   "cell_type": "code",
   "execution_count": 281,
   "metadata": {
    "collapsed": true
   },
   "outputs": [],
   "source": [
    "y = review_pizza.groupby('date').count()['review_id'].values\n",
    "result = seasonal_decompose(y, model='multiplicative', freq = 10)"
   ]
  },
  {
   "cell_type": "code",
   "execution_count": 282,
   "metadata": {},
   "outputs": [
    {
     "data": {
      "image/png": "[encoded data removed]",
      "text/plain": [
       "<matplotlib.figure.Figure at 0x1208ef780>"
      ]
     },
     "metadata": {},
     "output_type": "display_data"
    }
   ],
   "source": [
    "plt.plot(result.observed)\n",
    "plt.plot(result.trend)\n",
    "plt.show()"
   ]
  },
  {
   "cell_type": "code",
   "execution_count": 288,
   "metadata": {},
   "outputs": [
    {
     "data": {
      "image/png": "[encoded data removed]",
      "text/plain": [
       "<matplotlib.figure.Figure at 0x120c4d278>"
      ]
     },
     "metadata": {},
     "output_type": "display_data"
    }
   ],
   "source": [
    "plt.plot(result.resid)\n",
    "plt.show()"
   ]
  },
  {
   "cell_type": "code",
   "execution_count": 22,
   "metadata": {},
   "outputs": [
    {
     "data": {
      "text/html": [
       "<iframe id=\"igraph\" scrolling=\"no\" style=\"border:none;\" seamless=\"seamless\" src=\"https://plot.ly/~kt426/40.embed\" height=\"525px\" width=\"100%\"></iframe>"
      ],
      "text/plain": [
       "<plotly.tools.PlotlyDisplay object>"
      ]
     },
     "execution_count": 22,
     "metadata": {},
     "output_type": "execute_result"
    }
   ],
   "source": [
    "data = [go.Scatter(x=review_chinese.groupby('date').count()['review_id'].keys()\\\n",
    "                   ,y=review_chinese.groupby('date').count()['review_id'].values)]\n",
    "layout = go.Layout( title='Chinese Reviews',\n",
    "    xaxis={'title':'Date'},\n",
    "    yaxis={'title':'Number of reviews'},\n",
    ")\n",
    "fig = go.Figure(data=data, layout=layout)\n",
    "py.iplot(fig)"
   ]
  },
  {
   "cell_type": "code",
   "execution_count": 240,
   "metadata": {
    "collapsed": true
   },
   "outputs": [],
   "source": [
    "y = review_chinese.groupby('date').count()['review_id'].values\n",
    "result = seasonal_decompose(y, model='additive', freq = 10)"
   ]
  },
  {
   "cell_type": "code",
   "execution_count": 241,
   "metadata": {},
   "outputs": [
    {
     "data": {
      "image/png": "[encoded data removed]",
      "text/plain": [
       "<matplotlib.figure.Figure at 0x1204b6358>"
      ]
     },
     "metadata": {},
     "output_type": "display_data"
    }
   ],
   "source": [
    "plt.plot(result.observed)\n",
    "plt.plot(result.trend)\n",
    "plt.show()"
   ]
  },
  {
   "cell_type": "code",
   "execution_count": 242,
   "metadata": {},
   "outputs": [
    {
     "data": {
      "image/png": "[encoded data removed]",
      "text/plain": [
       "<matplotlib.figure.Figure at 0x1200bedd8>"
      ]
     },
     "metadata": {},
     "output_type": "display_data"
    }
   ],
   "source": [
    "plt.plot(result.resid)\n",
    "plt.show()"
   ]
  },
  {
   "cell_type": "code",
   "execution_count": 253,
   "metadata": {
    "collapsed": true
   },
   "outputs": [],
   "source": [
    "y = review_chinese.groupby('date').count()['review_id'].values\n",
    "result = seasonal_decompose(y, model='multiplicative', freq = 30)"
   ]
  },
  {
   "cell_type": "code",
   "execution_count": 254,
   "metadata": {},
   "outputs": [
    {
     "data": {
      "image/png": "[encoded data removed]",
      "text/plain": [
       "<matplotlib.figure.Figure at 0x121792470>"
      ]
     },
     "metadata": {},
     "output_type": "display_data"
    }
   ],
   "source": [
    "plt.plot(result.observed)\n",
    "plt.plot(result.trend)\n",
    "plt.show()"
   ]
  },
  {
   "cell_type": "code",
   "execution_count": 255,
   "metadata": {},
   "outputs": [
    {
     "data": {
      "image/png": "[encoded data removed]",
      "text/plain": [
       "<matplotlib.figure.Figure at 0x121742940>"
      ]
     },
     "metadata": {},
     "output_type": "display_data"
    }
   ],
   "source": [
    "plt.plot(result.resid)\n",
    "plt.show()"
   ]
  },
  {
   "cell_type": "code",
   "execution_count": 270,
   "metadata": {},
   "outputs": [
    {
     "ename": "ValueError",
     "evalue": "This function does not handle missing values",
     "output_type": "error",
     "traceback": [
      "\u001b[0;31m---------------------------------------------------------------------------\u001b[0m",
      "\u001b[0;31mValueError\u001b[0m                                Traceback (most recent call last)",
      "\u001b[0;32m<ipython-input-270-55bb18f0a166>\u001b[0m in \u001b[0;36m<module>\u001b[0;34m()\u001b[0m\n\u001b[0;32m----> 1\u001b[0;31m \u001b[0mresult2\u001b[0m \u001b[0;34m=\u001b[0m \u001b[0mseasonal_decompose\u001b[0m\u001b[0;34m(\u001b[0m\u001b[0mresult\u001b[0m\u001b[0;34m.\u001b[0m\u001b[0mresid\u001b[0m\u001b[0;34m,\u001b[0m \u001b[0mmodel\u001b[0m\u001b[0;34m=\u001b[0m\u001b[0;34m'additive'\u001b[0m\u001b[0;34m,\u001b[0m \u001b[0mfreq\u001b[0m \u001b[0;34m=\u001b[0m \u001b[0;36m10\u001b[0m\u001b[0;34m)\u001b[0m\u001b[0;34m\u001b[0m\u001b[0m\n\u001b[0m",
      "\u001b[0;32m/Users/kentatakatsu/anaconda/lib/python3.6/site-packages/statsmodels/tsa/seasonal.py\u001b[0m in \u001b[0;36mseasonal_decompose\u001b[0;34m(x, model, filt, freq, two_sided)\u001b[0m\n\u001b[1;32m     71\u001b[0m \u001b[0;34m\u001b[0m\u001b[0m\n\u001b[1;32m     72\u001b[0m     \u001b[0;32mif\u001b[0m \u001b[0;32mnot\u001b[0m \u001b[0mnp\u001b[0m\u001b[0;34m.\u001b[0m\u001b[0mall\u001b[0m\u001b[0;34m(\u001b[0m\u001b[0mnp\u001b[0m\u001b[0;34m.\u001b[0m\u001b[0misfinite\u001b[0m\u001b[0;34m(\u001b[0m\u001b[0mx\u001b[0m\u001b[0;34m)\u001b[0m\u001b[0;34m)\u001b[0m\u001b[0;34m:\u001b[0m\u001b[0;34m\u001b[0m\u001b[0m\n\u001b[0;32m---> 73\u001b[0;31m         \u001b[0;32mraise\u001b[0m \u001b[0mValueError\u001b[0m\u001b[0;34m(\u001b[0m\u001b[0;34m\"This function does not handle missing values\"\u001b[0m\u001b[0;34m)\u001b[0m\u001b[0;34m\u001b[0m\u001b[0m\n\u001b[0m\u001b[1;32m     74\u001b[0m     \u001b[0;32mif\u001b[0m \u001b[0mmodel\u001b[0m\u001b[0;34m.\u001b[0m\u001b[0mstartswith\u001b[0m\u001b[0;34m(\u001b[0m\u001b[0;34m'm'\u001b[0m\u001b[0;34m)\u001b[0m\u001b[0;34m:\u001b[0m\u001b[0;34m\u001b[0m\u001b[0m\n\u001b[1;32m     75\u001b[0m         \u001b[0;32mif\u001b[0m \u001b[0mnp\u001b[0m\u001b[0;34m.\u001b[0m\u001b[0many\u001b[0m\u001b[0;34m(\u001b[0m\u001b[0mx\u001b[0m \u001b[0;34m<=\u001b[0m \u001b[0;36m0\u001b[0m\u001b[0;34m)\u001b[0m\u001b[0;34m:\u001b[0m\u001b[0;34m\u001b[0m\u001b[0m\n",
      "\u001b[0;31mValueError\u001b[0m: This function does not handle missing values"
     ]
    }
   ],
   "source": [
    "result2 = seasonal_decompose(result.resid, model='additive', freq = 10)"
   ]
  },
  {
   "cell_type": "markdown",
   "metadata": {},
   "source": [
    "Later, we need to normalize the growth factor"
   ]
  },
  {
   "cell_type": "markdown",
   "metadata": {},
   "source": [
    "### Investigate review text, tf-idf and LDA"
   ]
  },
  {
   "cell_type": "code",
   "execution_count": 23,
   "metadata": {
    "collapsed": true
   },
   "outputs": [],
   "source": [
    "vectorizer = CountVectorizer(max_df = 0.3)\n",
    "doc = vectorizer.fit_transform(review_pizza['text'])"
   ]
  },
  {
   "cell_type": "markdown",
   "metadata": {},
   "source": [
    "This takes forever, don't do it on your machine"
   ]
  },
  {
   "cell_type": "code",
   "execution_count": null,
   "metadata": {
    "collapsed": true
   },
   "outputs": [],
   "source": [
    "freqs1 = [(word, doc.getcol(idx).sum()) for word, idx in vectorizer.vocabulary_.items()]\n",
    "#sort from largest to smallest\n",
    "print (sorted (freqs1, key = lambda x: -x[1])[:20])"
   ]
  },
  {
   "cell_type": "code",
   "execution_count": 24,
   "metadata": {
    "collapsed": true
   },
   "outputs": [],
   "source": [
    "tfidf_vectorizer = TfidfVectorizer(max_df=0.95, min_df=2, max_features=1000, stop_words='english')\n",
    "tfidf = tfidf_vectorizer.fit_transform(review_pizza['text'])\n",
    "tfidf_feature_names = tfidf_vectorizer.get_feature_names()"
   ]
  },
  {
   "cell_type": "markdown",
   "metadata": {},
   "source": [
    "This also takes long time, we need an access to the server"
   ]
  },
  {
   "cell_type": "code",
   "execution_count": 25,
   "metadata": {
    "collapsed": true
   },
   "outputs": [],
   "source": [
    "from sklearn.decomposition import NMF\n",
    "nmf = NMF(n_components=50, random_state=1, alpha=.1, l1_ratio=.5, init='nndsvd').fit(tfidf)"
   ]
  },
  {
   "cell_type": "code",
   "execution_count": 26,
   "metadata": {
    "collapsed": true
   },
   "outputs": [],
   "source": [
    "'''\n",
    "Thanks Eric Ma\n",
    "'''\n",
    "def display_topics(model, feature_names, n_top_words):\n",
    "    for topic_index, topic in enumerate(model.components_):\n",
    "        print(\"Topic %d:\" % topic_index)\n",
    "        print(\" \".join([feature_names[i] for i in topic.argsort()[:-n_top_words:-1]]))"
   ]
  },
  {
   "cell_type": "code",
   "execution_count": 27,
   "metadata": {},
   "outputs": [
    {
     "name": "stdout",
     "output_type": "stream",
     "text": [
      "Topic 0:\n",
      "night late dinner went friday date saturday open wine\n",
      "Topic 1:\n",
      "pizza better hut places joint pepperoni price dough ny\n",
      "Topic 2:\n",
      "minutes table said wait came asked told server took\n",
      "Topic 3:\n",
      "order called phone online pick placed wrong customer told\n",
      "Topic 4:\n",
      "good pretty prices price overall bit decent value quite\n",
      "Topic 5:\n",
      "place eat looking clean people friends family favorite want\n",
      "Topic 6:\n",
      "ordered came large tasted half didn pepperoni wasn husband\n",
      "Topic 7:\n",
      "service customer slow fast horrible terrible bad friendly poor\n",
      "Topic 8:\n",
      "great atmosphere prices spot experience family fantastic service price\n",
      "Topic 9:\n",
      "staff friendly super helpful clean fast attentive wait family\n",
      "Topic 10:\n",
      "love favorite family absolutely kids coming come salads yummy\n",
      "Topic 11:\n",
      "fresh ingredients quality hot mozzarella tasty basil oven dough\n",
      "Topic 12:\n",
      "wings hot buffalo crispy ranch honey bbq fries medium\n",
      "Topic 13:\n",
      "und die der das ist sehr ich nicht war\n",
      "Topic 14:\n",
      "sauce garlic bread knots tomato red pasta marinara sweet\n",
      "Topic 15:\n",
      "food quality atmosphere better price prices drinks portions eat\n",
      "Topic 16:\n",
      "beer selection beers tap craft wine local list burger\n",
      "Topic 17:\n",
      "amazing absolutely perfect favorite server atmosphere thank wow experience\n",
      "Topic 18:\n",
      "slice slices pepperoni pie huge ny quick secret big\n",
      "Topic 19:\n",
      "time long second wait come times visit ll went\n",
      "Topic 20:\n",
      "new york style ny favorite spot authentic years real\n",
      "Topic 21:\n",
      "vegas las breakfast strip trip secret visit eat come\n",
      "Topic 22:\n",
      "salad dressing caesar house lettuce greek salads bread meal\n",
      "Topic 23:\n",
      "really enjoyed liked cool enjoy think didn bad wasn\n",
      "Topic 24:\n",
      "delicious absolutely loved perfect dessert wonderful favorite yummy super\n",
      "Topic 25:\n",
      "chicken bbq buffalo parm fried grilled alfredo pesto parmesan\n",
      "Topic 26:\n",
      "best town hands far phoenix valley area charlotte city\n",
      "Topic 27:\n",
      "free gluten options vegan menu offer option regular eat\n",
      "Topic 28:\n",
      "awesome super server cool loved thanks guys atmosphere huge\n",
      "Topic 29:\n",
      "delivery fast driver ordering delivered guy hot called deliver\n",
      "Topic 30:\n",
      "nice atmosphere patio super outside clean people inside decor\n",
      "Topic 31:\n",
      "like don feel know tasted think taste people didn\n",
      "Topic 32:\n",
      "just ok right bad say don way maybe know\n",
      "Topic 33:\n",
      "sandwich fries burger steak sandwiches beef bread burgers meat\n",
      "Topic 34:\n",
      "dish deep chicago style sausage beef wait stuffed home\n",
      "Topic 35:\n",
      "cheese mac steak pepperoni extra goat philly vegan blue\n",
      "Topic 36:\n",
      "lunch special dinner quick specials today went day work\n",
      "Topic 37:\n",
      "excellent service wine server wife atmosphere attentive meal experience\n",
      "Topic 38:\n",
      "recommend highly recommended fantastic looking friends trying restaurant wouldn\n",
      "Topic 39:\n",
      "happy hour half specials drinks menu appetizers prices wine\n",
      "Topic 40:\n",
      "pizzas la salads toppings different specialty large oven wood\n",
      "Topic 41:\n",
      "location locations scottsdale better original downtown parking years opened\n",
      "Topic 42:\n",
      "ve times tried years eaten twice better far couple\n",
      "Topic 43:\n",
      "bar area drinks bartender drink sports sit sat patio\n",
      "Topic 44:\n",
      "crust toppings crispy pie perfect chewy pizza sausage sauce\n",
      "Topic 45:\n",
      "got went home didn wasn husband pretty half came\n",
      "Topic 46:\n",
      "try menu decided items tried ll different disappointed did\n",
      "Topic 47:\n",
      "little bit worth pricey pretty small wait better overall\n",
      "Topic 48:\n",
      "definitely come worth coming ll return going loved recommend\n",
      "Topic 49:\n",
      "italian restaurant pasta family authentic dishes wine menu meal\n"
     ]
    }
   ],
   "source": [
    "display_topics(nmf, tfidf_feature_names, 10)"
   ]
  },
  {
   "cell_type": "code",
   "execution_count": 28,
   "metadata": {
    "collapsed": true
   },
   "outputs": [],
   "source": [
    "chinese_vectorizer = TfidfVectorizer(max_df=0.95, min_df=2, max_features=1000, stop_words='english')\n",
    "chinese_tfidf = chinese_vectorizer.fit_transform(review_chinese['text'])\n",
    "chinese_tfidf_feature_names = chinese_vectorizer.get_feature_names()"
   ]
  },
  {
   "cell_type": "code",
   "execution_count": 29,
   "metadata": {
    "collapsed": true
   },
   "outputs": [],
   "source": [
    "chinese_nmf = NMF(n_components=50, random_state=1, alpha=.1, l1_ratio=.5, init='nndsvd').fit(chinese_tfidf)"
   ]
  },
  {
   "cell_type": "code",
   "execution_count": 30,
   "metadata": {},
   "outputs": [
    {
     "name": "stdout",
     "output_type": "stream",
     "text": [
      "Topic 0:\n",
      "got table came minutes asked said didn went wait\n",
      "Topic 1:\n",
      "food fresh asian quality eat fast panda express court\n",
      "Topic 2:\n",
      "dim sum carts cart mai places har items vegas\n",
      "Topic 3:\n",
      "chicken orange general sweet kung tso sesame pao sour\n",
      "Topic 4:\n",
      "noodles hand broth dan pulled bowl noodle ramen singapore\n",
      "Topic 5:\n",
      "chinese authentic restaurants area american china typical real style\n",
      "Topic 6:\n",
      "good pretty overall prices little bit value pricey thing\n",
      "Topic 7:\n",
      "sushi roll fresh bar rolls sashimi tuna salmon fish\n",
      "Topic 8:\n",
      "egg rolls roll spring drop crab young soup puffs\n",
      "Topic 9:\n",
      "fried deep pan congee stir fish crab rice house\n",
      "Topic 10:\n",
      "dumplings dumpling steamed pan pancake lamb boiled onion shanghai\n",
      "Topic 11:\n",
      "delicious fresh absolutely favorite super perfect loved wonderful yummy\n",
      "Topic 12:\n",
      "lunch specials special dinner quick today went roll cheap\n",
      "Topic 13:\n",
      "rice white brown fried sticky steamed roll bowl curry\n",
      "Topic 14:\n",
      "soup noodle wonton bowl broth wontons base drop ton\n",
      "Topic 15:\n",
      "great awesome prices atmosphere value service spot experience fantastic\n",
      "Topic 16:\n",
      "hot sour pot soup fresh sweet stickers cold broth\n",
      "Topic 17:\n",
      "pho vietnamese broth vegas long bowl spring open rolls\n",
      "Topic 18:\n",
      "thai pad curry salad asian spice yum flavor favorite\n",
      "Topic 19:\n",
      "place try clean looking eat new awesome cheap people\n",
      "Topic 20:\n",
      "love favorite family coming absolutely awesome years yummy kids\n",
      "Topic 21:\n",
      "und die das ist der war man im super\n",
      "Topic 22:\n",
      "friendly staff clean super helpful attentive wait fast fresh\n",
      "Topic 23:\n",
      "time long times second wait ve visit went try\n",
      "Topic 24:\n",
      "tea milk bubble ice boba drink green hk drinks\n",
      "Topic 25:\n",
      "service customer fast bad slow quick horrible terrible poor\n",
      "Topic 26:\n",
      "really enjoyed liked enjoy lot wasn think big cool\n",
      "Topic 27:\n",
      "beef mongolian broccoli tender brisket crispy noodle fun chow\n",
      "Topic 28:\n",
      "best ve far vegas years town times tried eaten\n",
      "Topic 29:\n",
      "pork bbq buns belly ramen bun bao chop sweet\n",
      "Topic 30:\n",
      "price portions quality prices reasonable decent large small cheap\n",
      "Topic 31:\n",
      "order minutes called pick phone ready online wrong placed\n",
      "Topic 32:\n",
      "buffet selection crab buffets legs seafood variety cream items\n",
      "Topic 33:\n",
      "restaurant clean family favorite new asian vegas restaurants decor\n",
      "Topic 34:\n",
      "delivery fast ordering quick delivered minutes deliver hour guy\n",
      "Topic 35:\n",
      "ordered came tasted wasn didn dish disappointed bland flavor\n",
      "Topic 36:\n",
      "menu items try options new different things tried vegetarian\n",
      "Topic 37:\n",
      "like taste tasted feel didn looks tastes looked felt\n",
      "Topic 38:\n",
      "nice clean atmosphere little decor people super inside bit\n",
      "Topic 39:\n",
      "amazing absolutely awesome favorite super atmosphere experience perfect wonderful\n",
      "Topic 40:\n",
      "shrimp walnut honey pepper salt wonton crab wontons lobster\n",
      "Topic 41:\n",
      "sauce dish tofu sweet soy meat flavor garlic bean\n",
      "Topic 42:\n",
      "spicy fish spice chili szechuan extra sichuan lamb level\n",
      "Topic 43:\n",
      "dishes dish authentic style fish different asian seafood variety\n",
      "Topic 44:\n",
      "excellent service wonderful atmosphere value dinner prices wife attentive\n",
      "Topic 45:\n",
      "mein chow lo fun house cantonese panda express vegetable\n",
      "Topic 46:\n",
      "definitely come try worth coming vegas ll visit friends\n",
      "Topic 47:\n",
      "just don know bad eat better think want ok\n",
      "Topic 48:\n",
      "duck peking roast crispy bbq roasted skin meat bao\n",
      "Topic 49:\n",
      "recommend highly recommended friends wouldn trying looking absolutely getting\n"
     ]
    }
   ],
   "source": [
    "display_topics(chinese_nmf, chinese_tfidf_feature_names, 10)"
   ]
  },
  {
   "cell_type": "code",
   "execution_count": 34,
   "metadata": {},
   "outputs": [
    {
     "name": "stdout",
     "output_type": "stream",
     "text": [
      "(178151, 1000)\n",
      "(268726, 1000)\n"
     ]
    }
   ],
   "source": [
    "print(chinese_tfidf.shape)\n",
    "print (tfidf.shape)"
   ]
  },
  {
   "cell_type": "markdown",
   "metadata": {},
   "source": [
    "## Split the review by nouns, verbs etc"
   ]
  },
  {
   "cell_type": "code",
   "execution_count": 36,
   "metadata": {},
   "outputs": [
    {
     "data": {
      "text/html": [
       "<div>\n",
       "<style>\n",
       "    .dataframe thead tr:only-child th {\n",
       "        text-align: right;\n",
       "    }\n",
       "\n",
       "    .dataframe thead th {\n",
       "        text-align: left;\n",
       "    }\n",
       "\n",
       "    .dataframe tbody tr th {\n",
       "        vertical-align: top;\n",
       "    }\n",
       "</style>\n",
       "<table border=\"1\" class=\"dataframe\">\n",
       "  <thead>\n",
       "    <tr style=\"text-align: right;\">\n",
       "      <th></th>\n",
       "      <th>business_id</th>\n",
       "      <th>cool</th>\n",
       "      <th>date</th>\n",
       "      <th>funny</th>\n",
       "      <th>review_id</th>\n",
       "      <th>stars</th>\n",
       "      <th>text</th>\n",
       "      <th>useful</th>\n",
       "      <th>user_id</th>\n",
       "    </tr>\n",
       "  </thead>\n",
       "  <tbody>\n",
       "    <tr>\n",
       "      <th>1105</th>\n",
       "      <td>cQSQi0YWTcpuw5WGJi9XMw</td>\n",
       "      <td>0</td>\n",
       "      <td>2012-06-08</td>\n",
       "      <td>0</td>\n",
       "      <td>_iw0IGlFZtPCqxP5xcsTIQ</td>\n",
       "      <td>3</td>\n",
       "      <td>Wie schon erwähnt, rustikales und eher altback...</td>\n",
       "      <td>0</td>\n",
       "      <td>-IbGzbx2qsGjJHm78fbj8w</td>\n",
       "    </tr>\n",
       "    <tr>\n",
       "      <th>1106</th>\n",
       "      <td>cQSQi0YWTcpuw5WGJi9XMw</td>\n",
       "      <td>0</td>\n",
       "      <td>2011-10-19</td>\n",
       "      <td>0</td>\n",
       "      <td>k2WNspTH6Mazkz4dxeIf4g</td>\n",
       "      <td>5</td>\n",
       "      <td>Bodenständige italienische Küche, eher rustika...</td>\n",
       "      <td>0</td>\n",
       "      <td>bVkNsrA6W0LwEIVIKhiV-w</td>\n",
       "    </tr>\n",
       "    <tr>\n",
       "      <th>1107</th>\n",
       "      <td>cQSQi0YWTcpuw5WGJi9XMw</td>\n",
       "      <td>0</td>\n",
       "      <td>2011-01-10</td>\n",
       "      <td>0</td>\n",
       "      <td>BWCCewfflc2wI6AdPT8-Fg</td>\n",
       "      <td>5</td>\n",
       "      <td>Eine kleine und gemütliche Pizzeria mit lecker...</td>\n",
       "      <td>0</td>\n",
       "      <td>7EpMV3KhqozTdG2qVE1-fw</td>\n",
       "    </tr>\n",
       "    <tr>\n",
       "      <th>1108</th>\n",
       "      <td>cQSQi0YWTcpuw5WGJi9XMw</td>\n",
       "      <td>0</td>\n",
       "      <td>2013-01-15</td>\n",
       "      <td>0</td>\n",
       "      <td>-R-OianhKSSuLiZ6mzR19g</td>\n",
       "      <td>5</td>\n",
       "      <td>Tolle italienische Küche in einer unscheinbare...</td>\n",
       "      <td>0</td>\n",
       "      <td>4xqaWaXGO0el_jmTkm3c0A</td>\n",
       "    </tr>\n",
       "    <tr>\n",
       "      <th>1109</th>\n",
       "      <td>cQSQi0YWTcpuw5WGJi9XMw</td>\n",
       "      <td>2</td>\n",
       "      <td>2015-10-07</td>\n",
       "      <td>0</td>\n",
       "      <td>bokbBFumrarDfaQwMoR9Bg</td>\n",
       "      <td>5</td>\n",
       "      <td>Ein Vorurteil verwandelte sich bei dieser Pizz...</td>\n",
       "      <td>2</td>\n",
       "      <td>natSObJ4-jEev6rJRta7jA</td>\n",
       "    </tr>\n",
       "  </tbody>\n",
       "</table>\n",
       "</div>"
      ],
      "text/plain": [
       "                 business_id  cool        date  funny               review_id  \\\n",
       "1105  cQSQi0YWTcpuw5WGJi9XMw     0  2012-06-08      0  _iw0IGlFZtPCqxP5xcsTIQ   \n",
       "1106  cQSQi0YWTcpuw5WGJi9XMw     0  2011-10-19      0  k2WNspTH6Mazkz4dxeIf4g   \n",
       "1107  cQSQi0YWTcpuw5WGJi9XMw     0  2011-01-10      0  BWCCewfflc2wI6AdPT8-Fg   \n",
       "1108  cQSQi0YWTcpuw5WGJi9XMw     0  2013-01-15      0  -R-OianhKSSuLiZ6mzR19g   \n",
       "1109  cQSQi0YWTcpuw5WGJi9XMw     2  2015-10-07      0  bokbBFumrarDfaQwMoR9Bg   \n",
       "\n",
       "      stars                                               text  useful  \\\n",
       "1105      3  Wie schon erwähnt, rustikales und eher altback...       0   \n",
       "1106      5  Bodenständige italienische Küche, eher rustika...       0   \n",
       "1107      5  Eine kleine und gemütliche Pizzeria mit lecker...       0   \n",
       "1108      5  Tolle italienische Küche in einer unscheinbare...       0   \n",
       "1109      5  Ein Vorurteil verwandelte sich bei dieser Pizz...       2   \n",
       "\n",
       "                     user_id  \n",
       "1105  -IbGzbx2qsGjJHm78fbj8w  \n",
       "1106  bVkNsrA6W0LwEIVIKhiV-w  \n",
       "1107  7EpMV3KhqozTdG2qVE1-fw  \n",
       "1108  4xqaWaXGO0el_jmTkm3c0A  \n",
       "1109  natSObJ4-jEev6rJRta7jA  "
      ]
     },
     "execution_count": 36,
     "metadata": {},
     "output_type": "execute_result"
    }
   ],
   "source": [
    "review_pizza.head()"
   ]
  },
  {
   "cell_type": "code",
   "execution_count": 119,
   "metadata": {
    "collapsed": true
   },
   "outputs": [],
   "source": [
    "def extract_word_type(s):\n",
    "    tagged = nltk.pos_tag(nltk.word_tokenize(s.lower()))\n",
    "    noun = [item[0] for item in tagged if item[1][0] == 'N']\n",
    "    verb = [item[0] for item in tagged if item[1][0] == 'V']\n",
    "    adjective = [item[0] for item in tagged if item[1][0] == 'J']\n",
    "    adverb = [item[0] for item in tagged if item[1][0] == 'R']\n",
    "    return ' '.join(noun), ' '.join(verb), ' '.join(adjective), ' '.join(adverb)"
   ]
  },
  {
   "cell_type": "code",
   "execution_count": 106,
   "metadata": {},
   "outputs": [],
   "source": [
    "x = review_pizza.head(10)"
   ]
  },
  {
   "cell_type": "code",
   "execution_count": 124,
   "metadata": {},
   "outputs": [
    {
     "data": {
      "text/plain": [
       "[('wie schon erwähnt altbackenes ist sehr freundlich wir pizza war kein zum schick essen gehen eine pizza zwischendurch eine empfehlung',\n",
       "  'rustikales aber die aber',\n",
       "  'eher gemütlich bedienung hatten recht passabel insgesamt laden für',\n",
       "  'ambiente'),\n",
       " ('bodenständige italienische küche rustikales unedles freundliche schnarchige kellner der chef da ist es liebenswert und gemütlich immer wieder gerne hin',\n",
       "  'aber',\n",
       "  'sehr manchmal wenn noch nicht finde gehe',\n",
       "  'ambiente'),\n",
       " ('kleine gemütliche pizzeria und gutes service',\n",
       "  'mit',\n",
       "  'eine leckeren pizzen preis-leistungsverhältnis freundlicher',\n",
       "  'nudelgerichten'),\n",
       " ('tolle italienische küche einer location west service als speisen sind preis-leistungs verhältnis als gutschein angenommen als es ein grapa aufs haus zu empfehlen',\n",
       "  'ist gut dankeschön',\n",
       "  'unscheinbaren stuttgart sowohl auch die super und mehr wurde gerne gab sehr',\n",
       "  ''),\n",
       " ('verwandelte bei dieser pizzeria absolute überraschung wir sind schon öfter dieser pizzeria vorbeigegangen habe über namen nase regenbogen klingt schlechter jahre taverne es dann im ein bisschen einer kleinen zeitreise allerdings die sondern die die mich und die einrichtung zurückversetzten aber sehr charmant fand wänden service war verunsichert der gute herr finster gucken konnte verbesserte im laufe abends jeder tisch kam war immer höflich und professionell getränke immer tisch als später sehr voll mir das war dann ein gedicht angefangen beim brotkorb mit frisch gebackenen pizzabrötchen bis hin zur nachspeise wieder zeigt dass man von äußerlichkeiten darf der gemischten vorspeisenplatte wir ein italienischer salami sowie exzellentem käse war ein halber pizzafladen mit frischen tomatenstückchen die mit garniert sehr lecker die hauptgerichte haben dann absolut überzeugt hatte frische von der tageskarte mit steinpilzen waren winzigen dente für meinen geschmack zogen noch nach steinpilze der soße mit frischen hervorragend highlight war die pizza wie italien hauchdünner hervorragender knuspriger trockener mit leckerem mozzarella der zieht belag der die anderen erstickt bin sonst von pizza nicht zu beeindrucken war einfach ein gedicht der tiramisu zum musste dann noch sein wir schon satt waren eindruck des unterstrichen der wein war hervorragend mit euro für liter besonders war das preis-leistung-verhältnis euro für die pizza euro für nudeln für die qualität absolut angebracht einer meiner lieblingsitaliener stuttgart als soll',\n",
       "  'etwas bei nicht gerade was die theaterfotografien am aber des der es am wahres was abschrecken gedicht frisch die einen tacken aber die aber aber zutaten aber er essens teuer die schick',\n",
       "  'vorurteil sich eine ich den die das nach drinnen ist ersten eindruck auch die lampen ich den beim ich etwas weil wirklich das sich merklich und unseren außerdem waren speisen unserem auch abend lob ich das essen sich nicht lassen auf fanden schinken bruschetta gebackener ordentlich knoblauch uns ich nudeln nudeln al sie etwas kräutern waren das absolute geschmacklich nicht teig ordentlich fäden frischem nicht ich leicht diese obwohl eigentlich den hervorragenden noch auch und auch nicht insgesamt gemütlich sein',\n",
       "  'ein so anfang so so'),\n",
       " ('war nicht von der pizzeria von unscheinbar als pizza bekam war sehr überrascht pizza super die bedienung immer freundlich hilfsbereit gehe auf jedenfalls hin',\n",
       "  'dann die wieder',\n",
       "  'erst ich überzeugt ich meine ich geschmacklich ich',\n",
       "  'so'),\n",
       " ('erster besuch leider müssen wir von einem der trattoria regenbogen st. westen abraten erfahrungen von heute aus dem nebenzimmer zog zu rüber wir fenster kurze zeit später stürmte der vorbei schloss es wieder der vorspeise vitello tonnato fand ein stück plastik gab das zurück weder eine entschuldigung einen teller ein oh war das fleisch durch und gut der hugo war sehr wässrig der holunderblütensirup war ganz nach dem dem kellner doch künftig bei solchen dingen wie plastik grappa oder cappuccino anzubieten antwort nein machen wir ist menschlich passieren',\n",
       "  'kippten entsprechend kellner plastikstück erhielt darüber schmeckte bezahlen das kann',\n",
       "  'unser letzter besuch im unsere rauch uns das uns und sich ich aber noch neuen lediglich hinaus nicht unten empfahl ich im zumindest einen die nicht doch',\n",
       "  'essen'),\n",
       " ('pizza night pizza location menu i people pizza',\n",
       "  \"had was called picked guys rock wait try has 've taken try agree 's\",\n",
       "  'favorite last great new different many best',\n",
       "  \"far ever just again ahead up n't\"),\n",
       " ('i view spinato april i visit restaurant pizza drinks friends walks man woman table feet waist band mm pistol gun rights dinner family establishment handguns patron waists distance gun clip restaurant establishment spinato man establishment arizona law feet stranger hilt matter minutes i pizza clip waists establishment i time i chance i rating food i environment i -makes compromise',\n",
       "  'have been forced change did enjoy were set was i am own i am is eating strapped had attached asked felt needed concluded was be feels is arm did allowed carry choose keep i loved spinato do feel sitting is armed take think is say enjoy strapped is arm come take miss i changed give give',\n",
       "  'weekly young young few i loaded other significant safe necessary comfortable random fair unsafe next i good',\n",
       "  \"well sadly just next fully as well however not not out i simply n't out unfortunately n't ever again definitely now\"),\n",
       " ('pizza phoenix i location i st. location times canolies weekend nights sundays mondays',\n",
       "  'is have been have been are amazing get think are closed',\n",
       "  'best bell/16th numerous busy plan i',\n",
       "  'only once too extremely so ahead too')]"
      ]
     },
     "execution_count": 124,
     "metadata": {},
     "output_type": "execute_result"
    }
   ],
   "source": [
    "[extract_word_type(t) for t in x['text'].values]"
   ]
  },
  {
   "cell_type": "markdown",
   "metadata": {},
   "source": [
    "This takes long time, too. "
   ]
  },
  {
   "cell_type": "code",
   "execution_count": 128,
   "metadata": {},
   "outputs": [],
   "source": [
    "w_type_chinese = review_chinese['text'].apply(lambda x : extract_word_type(x))"
   ]
  },
  {
   "cell_type": "code",
   "execution_count": 129,
   "metadata": {
    "collapsed": true
   },
   "outputs": [],
   "source": [
    "w_type_pizza = review_pizza['text'].apply(lambda x : extract_word_type(x))"
   ]
  },
  {
   "cell_type": "code",
   "execution_count": 133,
   "metadata": {},
   "outputs": [],
   "source": [
    "noun_p = [i[0] for i in w_type_pizza]\n",
    "verb_p = [i[1] for i in w_type_pizza]\n",
    "adj_p = [i[2] for i in w_type_pizza]\n",
    "adv_p = [i[3] for i in w_type_pizza]"
   ]
  },
  {
   "cell_type": "code",
   "execution_count": 138,
   "metadata": {},
   "outputs": [
    {
     "name": "stderr",
     "output_type": "stream",
     "text": [
      "/Users/kentatakatsu/anaconda/lib/python3.6/site-packages/pandas/core/indexing.py:517: SettingWithCopyWarning:\n",
      "\n",
      "\n",
      "A value is trying to be set on a copy of a slice from a DataFrame.\n",
      "Try using .loc[row_indexer,col_indexer] = value instead\n",
      "\n",
      "See the caveats in the documentation: http://pandas.pydata.org/pandas-docs/stable/indexing.html#indexing-view-versus-copy\n",
      "\n",
      "/Users/kentatakatsu/anaconda/lib/python3.6/site-packages/pandas/core/indexing.py:337: SettingWithCopyWarning:\n",
      "\n",
      "\n",
      "A value is trying to be set on a copy of a slice from a DataFrame.\n",
      "Try using .loc[row_indexer,col_indexer] = value instead\n",
      "\n",
      "See the caveats in the documentation: http://pandas.pydata.org/pandas-docs/stable/indexing.html#indexing-view-versus-copy\n",
      "\n"
     ]
    }
   ],
   "source": [
    "review_pizza.loc[:, 'text_noun'] = noun_p\n",
    "review_pizza.loc[:, 'text_verb'] = verb_p\n",
    "review_pizza.loc[:, 'text_adj'] = adj_p\n",
    "review_pizza.loc[:, 'text_adv'] = adv_p"
   ]
  },
  {
   "cell_type": "code",
   "execution_count": 140,
   "metadata": {},
   "outputs": [],
   "source": [
    "review_pizza.to_csv('pizza_reviews_by_wordtype.csv', index = False)\n",
    "# pd.read_csv('pizza_reviews_by_wordtype.csv', index_col = False)"
   ]
  },
  {
   "cell_type": "code",
   "execution_count": 146,
   "metadata": {},
   "outputs": [],
   "source": [
    "noun_c = [i[0] for i in w_type_chinese]\n",
    "verb_c = [i[1] for i in w_type_chinese]\n",
    "adj_c = [i[2] for i in w_type_chinese]\n",
    "adv_c = [i[3] for i in w_type_chinese]"
   ]
  },
  {
   "cell_type": "code",
   "execution_count": 147,
   "metadata": {},
   "outputs": [
    {
     "name": "stderr",
     "output_type": "stream",
     "text": [
      "/Users/kentatakatsu/anaconda/lib/python3.6/site-packages/pandas/core/indexing.py:517: SettingWithCopyWarning:\n",
      "\n",
      "\n",
      "A value is trying to be set on a copy of a slice from a DataFrame.\n",
      "Try using .loc[row_indexer,col_indexer] = value instead\n",
      "\n",
      "See the caveats in the documentation: http://pandas.pydata.org/pandas-docs/stable/indexing.html#indexing-view-versus-copy\n",
      "\n",
      "/Users/kentatakatsu/anaconda/lib/python3.6/site-packages/pandas/core/indexing.py:337: SettingWithCopyWarning:\n",
      "\n",
      "\n",
      "A value is trying to be set on a copy of a slice from a DataFrame.\n",
      "Try using .loc[row_indexer,col_indexer] = value instead\n",
      "\n",
      "See the caveats in the documentation: http://pandas.pydata.org/pandas-docs/stable/indexing.html#indexing-view-versus-copy\n",
      "\n"
     ]
    }
   ],
   "source": [
    "review_chinese.loc[:, 'text_noun'] = noun_c\n",
    "review_chinese.loc[:, 'text_verb'] = verb_c\n",
    "review_chinese.loc[:, 'text_adj'] = adj_c\n",
    "review_chinese.loc[:, 'text_adv'] = adv_c"
   ]
  },
  {
   "cell_type": "code",
   "execution_count": 148,
   "metadata": {
    "collapsed": true
   },
   "outputs": [],
   "source": [
    "review_chinese.to_csv('chinese_reviews_by_wordtype.csv', index = False)\n",
    "# pd.read_csv('chinese_reviews_by_wordtype.csv', index_col = False)"
   ]
  },
  {
   "cell_type": "markdown",
   "metadata": {},
   "source": [
    "## Topic Model by Nouns"
   ]
  },
  {
   "cell_type": "code",
   "execution_count": 149,
   "metadata": {
    "collapsed": true
   },
   "outputs": [],
   "source": [
    "tfidf_vec_pn = TfidfVectorizer(max_df=0.95, min_df=2, max_features=1000, stop_words='english')\n",
    "tfidf_pn = tfidf_vec_pn.fit_transform(review_pizza['text_noun'])\n",
    "tfidf_feature_names = tfidf_vec_pn.get_feature_names()"
   ]
  },
  {
   "cell_type": "code",
   "execution_count": 150,
   "metadata": {
    "collapsed": true
   },
   "outputs": [],
   "source": [
    "pn_nmf = NMF(n_components=50, random_state=1, alpha=.1, l1_ratio=.5, init='nndsvd').fit(tfidf_pn)"
   ]
  },
  {
   "cell_type": "code",
   "execution_count": 151,
   "metadata": {},
   "outputs": [
    {
     "name": "stdout",
     "output_type": "stream",
     "text": [
      "Topic 0:\n",
      "pizza places joint hut dough taste stars knots home\n",
      "Topic 1:\n",
      "food portions servers restaurants money ambiance home owners owner\n",
      "Topic 2:\n",
      "order phone online manager orders mins store person guy\n",
      "Topic 3:\n",
      "table meal waitress drinks waiter wine bit stars tables\n",
      "Topic 4:\n",
      "place reviews friends try owner yelp thing kind love\n",
      "Topic 5:\n",
      "wings ranch buffalo wing honey crispy bbq medium flavor\n",
      "Topic 6:\n",
      "service notch ambiance stars thanks smile la visit thank\n",
      "Topic 7:\n",
      "sauce tomato flavor marinara meat meatballs taste dough spaghetti\n",
      "Topic 8:\n",
      "beer selection beers craft tap wine brewery draft peaks\n",
      "Topic 9:\n",
      "time wait today visit money tonight review years year\n",
      "Topic 10:\n",
      "staff experience owner customers management environment wait fun spot\n",
      "Topic 11:\n",
      "salad dressing caesar house lettuce salads antipasto soup tomatoes\n",
      "Topic 12:\n",
      "slice slices drink counter line bite soda hallway oven\n",
      "Topic 13:\n",
      "delivery driver guy phone hours online hotel tip guys\n",
      "Topic 14:\n",
      "crust crispy flavor ingredients chewy pizza dish chicago crisp\n",
      "Topic 15:\n",
      "quality ingredients taste years dough places product flavor value\n",
      "Topic 16:\n",
      "location locations years hut store valley employees parking street\n",
      "Topic 17:\n",
      "pizzas salads specialty pastas wood size oven margherita variety\n",
      "Topic 18:\n",
      "lunch specials today spot slices work drink buffet deal\n",
      "Topic 19:\n",
      "chicken bbq buffalo parm pesto alfredo fingers parmesan marsala\n",
      "Topic 20:\n",
      "restaurant restaurants owner chain neighborhood decor dishes la ambiance\n",
      "Topic 21:\n",
      "pasta dishes dish shrimp meatballs seafood salads portions spaghetti\n",
      "Topic 22:\n",
      "family kids friends years business owners owner fun home\n",
      "Topic 23:\n",
      "bar bartender drinks sports drink bartenders game beers tv\n",
      "Topic 24:\n",
      "price size portions portion taste point deal value bit\n",
      "Topic 25:\n",
      "menu items options things variety choices item breakfast salads\n",
      "Topic 26:\n",
      "people lot line group reviews business party tables person\n",
      "Topic 27:\n",
      "bread sticks cheesy oil meatballs spaghetti butter marinara lasagna\n",
      "Topic 28:\n",
      "times couple week month years review wait year months\n",
      "Topic 29:\n",
      "night date spot friends music fun friday hours friend\n",
      "Topic 30:\n",
      "server experience manager dining servers thanks visit thank check\n",
      "Topic 31:\n",
      "prices portions bit strip specials portion slices selection places\n",
      "Topic 32:\n",
      "customer manager owner business customers phone employees guy money\n",
      "Topic 33:\n",
      "fries burger burgers bacon steak potato bun onion meat\n",
      "Topic 34:\n",
      "hour wait half hours specials appetizers min drinks driver\n",
      "Topic 35:\n",
      "cheese mac goat mozzarella dough meat tomatoes bacon peppers\n",
      "Topic 36:\n",
      "toppings dough options lots variety concept sauces size pizza\n",
      "Topic 37:\n",
      "area places options lot restaurants patio dining seating parking\n",
      "Topic 38:\n",
      "vegas las strip breakfast spot trip places hotel restaurants\n",
      "Topic 39:\n",
      "style york chicago dish ny home slices city coast\n",
      "Topic 40:\n",
      "way home business money work customers reviews review taste\n",
      "Topic 41:\n",
      "pie pies home ingredients oven pizzeria mozzarella joint concept\n",
      "Topic 42:\n",
      "atmosphere music patio fun date friends wine spot phoenix\n",
      "Topic 43:\n",
      "sandwich sandwiches beef meat steak meatball turkey sub pork\n",
      "Topic 44:\n",
      "day breakfast home week work days coffee eggs leftovers\n",
      "Topic 45:\n",
      "town places square years spot friends guests hands scottsdale\n",
      "Topic 46:\n",
      "minutes wait manager line phone table minute hostess hold\n",
      "Topic 47:\n",
      "pepperoni sausage mushroom mushrooms peppers onions half bacon spicy\n",
      "Topic 48:\n",
      "der die ist man war zu sehr mit das\n",
      "Topic 49:\n",
      "dinner husband birthday tonight dessert wife evening home appetizer\n"
     ]
    }
   ],
   "source": [
    "display_topics(pn_nmf, tfidf_feature_names, 10)"
   ]
  },
  {
   "cell_type": "code",
   "execution_count": 152,
   "metadata": {
    "collapsed": true
   },
   "outputs": [],
   "source": [
    "tfidf_vec_cn = TfidfVectorizer(max_df=0.95, min_df=2, max_features=1000, stop_words='english')\n",
    "tfidf_cn = tfidf_vec_cn.fit_transform(review_chinese['text_noun'])\n",
    "tfidf_feature_names = tfidf_vec_cn.get_feature_names()"
   ]
  },
  {
   "cell_type": "code",
   "execution_count": 153,
   "metadata": {
    "collapsed": true
   },
   "outputs": [],
   "source": [
    "cn_nmf = NMF(n_components=50, random_state=1, alpha=.1, l1_ratio=.5, init='nndsvd').fit(tfidf_cn)"
   ]
  },
  {
   "cell_type": "code",
   "execution_count": 154,
   "metadata": {},
   "outputs": [
    {
     "name": "stdout",
     "output_type": "stream",
     "text": [
      "Topic 0:\n",
      "point portion kinds interior drive takeout stars left hotel\n",
      "Topic 1:\n",
      "fries protein shell roast mountain appetite hotel past pass\n",
      "Topic 2:\n",
      "parents places pan markham parking moment sticks pittsburgh health\n",
      "Topic 3:\n",
      "szechuan menu visits eats vinegar weird bone stars table\n",
      "Topic 4:\n",
      "pork rolls game total pass yeah tendon lamb madison\n",
      "Topic 5:\n",
      "wine recommendation cake window hour cumin bf min fortune\n",
      "Topic 6:\n",
      "shop okay appetite stars tender sorry leftovers vermicelli tempura\n",
      "Topic 7:\n",
      "seats thought fortune meat mess mien takeout drive specials\n",
      "Topic 8:\n",
      "bite setting bites crispy tai weird buffet dumplings photos\n",
      "Topic 9:\n",
      "texture view things vermicelli mountain tip roll xiao wraps\n",
      "Topic 10:\n",
      "stairs fan pass dance market experience view garlic spots\n",
      "Topic 11:\n",
      "scallion eat case ice lines scallions appetizers spaghetti time\n",
      "Topic 12:\n",
      "smile snack eater coupon locations bones soups hey party\n",
      "Topic 13:\n",
      "desserts eel health places hype pan hunan thank heart\n",
      "Topic 14:\n",
      "curry cumin fortune jasmine chow point dollar choy cuisine\n",
      "Topic 15:\n",
      "ratio jasmine takeout xiao drive portion rangoon fortune type\n",
      "Topic 16:\n",
      "lots lotus xiao interior sticks tv establishment pearl stop\n",
      "Topic 17:\n",
      "points scallions spices pf wong slices party means und\n",
      "Topic 18:\n",
      "man spice things spots snack word eater cakes delight\n",
      "Topic 19:\n",
      "christmas bf cake pei pizza ambience food people medium\n",
      "Topic 20:\n",
      "road roast pass chef occasion design dollars leftovers appetite\n",
      "Topic 21:\n",
      "person dollars dollar singapore mien serve scallions protein specials\n",
      "Topic 22:\n",
      "favorite lady game xiao carrots past pass garlic hotel\n",
      "Topic 23:\n",
      "batter bean eats spot eater beans ginger bites treat\n",
      "Topic 24:\n",
      "quantity slices protein pros takeout pricey delight type bone\n",
      "Topic 25:\n",
      "minute kids paper teriyaki und closing kid buds scallions\n",
      "Topic 26:\n",
      "picture lunch locations hakkasan rolls carrots perfect table pittsburgh\n",
      "Topic 27:\n",
      "buck stew chop orders mien specials carts meat level\n",
      "Topic 28:\n",
      "thai court ways mouth xiao roll view wraps msg\n",
      "Topic 29:\n",
      "office deals spots game night garlic fusion hype future\n",
      "Topic 30:\n",
      "share fan markham dipping shell tender vermicelli tempura chinese\n",
      "Topic 31:\n",
      "queen protein bone store spice pros snack setting portion\n",
      "Topic 32:\n",
      "dan markham pass carrots dance places establishment health mountain\n",
      "Topic 33:\n",
      "garbage card cards bartender steak pudding california pad mess\n",
      "Topic 34:\n",
      "husband view help hype spice ask mix eats eel\n",
      "Topic 35:\n",
      "chips management grocery napkins drive mess time bartender pieces\n",
      "Topic 36:\n",
      "tofu drive paper machine und containers seaweed slices point\n",
      "Topic 37:\n",
      "atmosphere portion paper lunch roast pho dipping services pearl\n",
      "Topic 38:\n",
      "valley lettuce store buds spots tons portion hunan roast\n",
      "Topic 39:\n",
      "stuff yelp choy dollar online hotel snack cocktails com\n",
      "Topic 40:\n",
      "war hotel carrots mountain word dance rolls roll takeout\n",
      "Topic 41:\n",
      "plates plenty hotel jasmine party pop napkins kinds containers\n",
      "Topic 42:\n",
      "bacon night pho garlic deals game weird spots place\n",
      "Topic 43:\n",
      "seafood search bit mess steak middle tray style process\n",
      "Topic 44:\n",
      "decent buds hotel ways word decor combos entree light\n",
      "Topic 45:\n",
      "tongue portion squid xiao spots game har hill selections\n",
      "Topic 46:\n",
      "month view markham locations places szechuan money hubby hostess\n",
      "Topic 47:\n",
      "piece section needs neighborhood pieces palace help bartender spinach\n",
      "Topic 48:\n",
      "die diner juice manner walk yummy set montreal deal\n",
      "Topic 49:\n",
      "dirty inside bok tip dim weeks eye hotel asians\n"
     ]
    }
   ],
   "source": [
    "display_topics(pn_nmf, tfidf_feature_names, 10)"
   ]
  },
  {
   "cell_type": "code",
   "execution_count": null,
   "metadata": {
    "collapsed": true
   },
   "outputs": [],
   "source": []
  }
 ],
 "metadata": {
  "kernelspec": {
   "display_name": "Python 3",
   "language": "python",
   "name": "python3"
  },
  "language_info": {
   "codemirror_mode": {
    "name": "ipython",
    "version": 3
   },
   "file_extension": ".py",
   "mimetype": "text/x-python",
   "name": "python",
   "nbconvert_exporter": "python",
   "pygments_lexer": "ipython3",
   "version": "3.6.1"
  }
 },
 "nbformat": 4,
 "nbformat_minor": 2
}
