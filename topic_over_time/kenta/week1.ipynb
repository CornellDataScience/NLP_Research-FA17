{
 "cells": [
  {
   "cell_type": "markdown",
   "metadata": {},
   "source": [
    "## Week1 - Exploratory Analysis"
   ]
  },
  {
   "cell_type": "code",
   "execution_count": 1,
   "metadata": {
    "collapsed": true
   },
   "outputs": [],
   "source": [
    "%matplotlib inline\n",
    "import pandas as pd\n",
    "import json\n",
    "from pprint import pprint\n",
    "from random import sample\n",
    "from nltk.tokenize import word_tokenize\n",
    "import nltk\n",
    "import seaborn as sns\n",
    "import numpy as np\n",
    "import plotly.plotly as py\n",
    "\n",
    "import plotly \n",
    "plotly.tools.set_credentials_file(username='kt426', api_key='GcKIXRGajqJ9KlQAcL2L')"
   ]
  },
  {
   "cell_type": "code",
   "execution_count": 2,
   "metadata": {
    "collapsed": true
   },
   "outputs": [],
   "source": [
    "def load_json_to_df(datapass):\n",
    "    '''\n",
    "    Load the json file and parse the file to pandas dataframe format\n",
    "    \n",
    "    Input:\n",
    "        datapass(str) : directory to the json file\n",
    "    Output:\n",
    "        df(dataframe) : pandas dataframe object\n",
    "    '''\n",
    "    \n",
    "    data = [] \n",
    "    with open(datapass) as data_file: \n",
    "        for f in data_file:\n",
    "            data.append(json.loads(f))\n",
    "    df = pd.DataFrame(data)\n",
    "    return df"
   ]
  },
  {
   "cell_type": "code",
   "execution_count": 3,
   "metadata": {
    "collapsed": true
   },
   "outputs": [],
   "source": [
    "DATAPASS1 = '../../yelp10/dataset/business.json'\n",
    "business = load_json_to_df(DATAPASS1)"
   ]
  },
  {
   "cell_type": "code",
   "execution_count": 4,
   "metadata": {
    "collapsed": true
   },
   "outputs": [],
   "source": [
    "DATAPASS2 = '../../yelp10/dataset/user.json'\n",
    "user = load_json_to_df(DATAPASS2)"
   ]
  },
  {
   "cell_type": "code",
   "execution_count": 7,
   "metadata": {
    "collapsed": true
   },
   "outputs": [],
   "source": [
    "DATAPASS4 = '../../yelp10/dataset/checkin.json'\n",
    "checkin = load_json_to_df(DATAPASS4)"
   ]
  },
  {
   "cell_type": "code",
   "execution_count": 11,
   "metadata": {
    "collapsed": true
   },
   "outputs": [],
   "source": [
    "DATAPASS3 = '../../yelp10/dataset/tip.json'\n",
    "tip = load_json_to_df(DATAPASS3)"
   ]
  },
  {
   "cell_type": "markdown",
   "metadata": {},
   "source": [
    "### How large is the data?"
   ]
  },
  {
   "cell_type": "code",
   "execution_count": 9,
   "metadata": {},
   "outputs": [
    {
     "name": "stdout",
     "output_type": "stream",
     "text": [
      "156639 business\n",
      "1183362 users\n",
      "135148 checkin\n",
      "1028802 tips\n"
     ]
    }
   ],
   "source": [
    "print ('{} business'.format(business.shape[0]))\n",
    "print ('{} users'.format(user.shape[0]))\n",
    "print ('{} checkin'.format(checkin.shape[0]))\n",
    "print ('{} tips'.format(tip.shape[0]))"
   ]
  },
  {
   "cell_type": "code",
   "execution_count": 10,
   "metadata": {},
   "outputs": [
    {
     "name": "stdout",
     "output_type": "stream",
     "text": [
      "156639 business id\n",
      "1183362 users id\n"
     ]
    }
   ],
   "source": [
    "# duplicates?\n",
    "print ('{} business id'.format(len(set(business['business_id']))))\n",
    "print ('{} users id'.format(len(set(user['user_id']))))"
   ]
  },
  {
   "cell_type": "markdown",
   "metadata": {
    "collapsed": true
   },
   "source": [
    "### What does the data look like?"
   ]
  },
  {
   "cell_type": "markdown",
   "metadata": {},
   "source": [
    "### business"
   ]
  },
  {
   "cell_type": "code",
   "execution_count": 11,
   "metadata": {},
   "outputs": [
    {
     "name": "stdout",
     "output_type": "stream",
     "text": [
      "Index(['address', 'attributes', 'business_id', 'categories', 'city', 'hours',\n",
      "       'is_open', 'latitude', 'longitude', 'name', 'neighborhood',\n",
      "       'postal_code', 'review_count', 'stars', 'state'],\n",
      "      dtype='object')\n"
     ]
    }
   ],
   "source": [
    "# business\n",
    "print (business.columns)"
   ]
  },
  {
   "cell_type": "code",
   "execution_count": 12,
   "metadata": {},
   "outputs": [
    {
     "data": {
      "text/html": [
       "<div>\n",
       "<style>\n",
       "    .dataframe thead tr:only-child th {\n",
       "        text-align: right;\n",
       "    }\n",
       "\n",
       "    .dataframe thead th {\n",
       "        text-align: left;\n",
       "    }\n",
       "\n",
       "    .dataframe tbody tr th {\n",
       "        vertical-align: top;\n",
       "    }\n",
       "</style>\n",
       "<table border=\"1\" class=\"dataframe\">\n",
       "  <thead>\n",
       "    <tr style=\"text-align: right;\">\n",
       "      <th></th>\n",
       "      <th>address</th>\n",
       "      <th>attributes</th>\n",
       "      <th>business_id</th>\n",
       "      <th>categories</th>\n",
       "      <th>city</th>\n",
       "      <th>hours</th>\n",
       "      <th>is_open</th>\n",
       "      <th>latitude</th>\n",
       "      <th>longitude</th>\n",
       "      <th>name</th>\n",
       "      <th>neighborhood</th>\n",
       "      <th>postal_code</th>\n",
       "      <th>review_count</th>\n",
       "      <th>stars</th>\n",
       "      <th>state</th>\n",
       "    </tr>\n",
       "  </thead>\n",
       "  <tbody>\n",
       "    <tr>\n",
       "      <th>0</th>\n",
       "      <td>691 Richmond Rd</td>\n",
       "      <td>{'RestaurantsPriceRange2': 2, 'BusinessParking...</td>\n",
       "      <td>YDf95gJZaq05wvo7hTQbbQ</td>\n",
       "      <td>[Shopping, Shopping Centers]</td>\n",
       "      <td>Richmond Heights</td>\n",
       "      <td>{'Monday': '10:00-21:00', 'Tuesday': '10:00-21...</td>\n",
       "      <td>1</td>\n",
       "      <td>41.541716</td>\n",
       "      <td>-81.493116</td>\n",
       "      <td>Richmond Town Square</td>\n",
       "      <td></td>\n",
       "      <td>44143</td>\n",
       "      <td>17</td>\n",
       "      <td>2.0</td>\n",
       "      <td>OH</td>\n",
       "    </tr>\n",
       "    <tr>\n",
       "      <th>1</th>\n",
       "      <td>2824 Milton Rd</td>\n",
       "      <td>{'GoodForMeal': {'dessert': False, 'latenight'...</td>\n",
       "      <td>mLwM-h2YhXl2NCgdS84_Bw</td>\n",
       "      <td>[Food, Soul Food, Convenience Stores, Restaura...</td>\n",
       "      <td>Charlotte</td>\n",
       "      <td>{'Monday': '10:00-22:00', 'Tuesday': '10:00-22...</td>\n",
       "      <td>0</td>\n",
       "      <td>35.236870</td>\n",
       "      <td>-80.741976</td>\n",
       "      <td>South Florida Style Chicken &amp; Ribs</td>\n",
       "      <td>Eastland</td>\n",
       "      <td>28215</td>\n",
       "      <td>4</td>\n",
       "      <td>4.5</td>\n",
       "      <td>NC</td>\n",
       "    </tr>\n",
       "    <tr>\n",
       "      <th>2</th>\n",
       "      <td>337 Danforth Avenue</td>\n",
       "      <td>{'BusinessParking': {'garage': False, 'street'...</td>\n",
       "      <td>v2WhjAB3PIBA8J8VxG3wEg</td>\n",
       "      <td>[Food, Coffee &amp; Tea]</td>\n",
       "      <td>Toronto</td>\n",
       "      <td>{'Monday': '10:00-19:00', 'Tuesday': '10:00-19...</td>\n",
       "      <td>0</td>\n",
       "      <td>43.677126</td>\n",
       "      <td>-79.353285</td>\n",
       "      <td>The Tea Emporium</td>\n",
       "      <td>Riverdale</td>\n",
       "      <td>M4K 1N7</td>\n",
       "      <td>7</td>\n",
       "      <td>4.5</td>\n",
       "      <td>ON</td>\n",
       "    </tr>\n",
       "  </tbody>\n",
       "</table>\n",
       "</div>"
      ],
      "text/plain": [
       "               address                                         attributes  \\\n",
       "0      691 Richmond Rd  {'RestaurantsPriceRange2': 2, 'BusinessParking...   \n",
       "1       2824 Milton Rd  {'GoodForMeal': {'dessert': False, 'latenight'...   \n",
       "2  337 Danforth Avenue  {'BusinessParking': {'garage': False, 'street'...   \n",
       "\n",
       "              business_id                                         categories  \\\n",
       "0  YDf95gJZaq05wvo7hTQbbQ                       [Shopping, Shopping Centers]   \n",
       "1  mLwM-h2YhXl2NCgdS84_Bw  [Food, Soul Food, Convenience Stores, Restaura...   \n",
       "2  v2WhjAB3PIBA8J8VxG3wEg                               [Food, Coffee & Tea]   \n",
       "\n",
       "               city                                              hours  \\\n",
       "0  Richmond Heights  {'Monday': '10:00-21:00', 'Tuesday': '10:00-21...   \n",
       "1         Charlotte  {'Monday': '10:00-22:00', 'Tuesday': '10:00-22...   \n",
       "2           Toronto  {'Monday': '10:00-19:00', 'Tuesday': '10:00-19...   \n",
       "\n",
       "   is_open   latitude  longitude                                name  \\\n",
       "0        1  41.541716 -81.493116                Richmond Town Square   \n",
       "1        0  35.236870 -80.741976  South Florida Style Chicken & Ribs   \n",
       "2        0  43.677126 -79.353285                    The Tea Emporium   \n",
       "\n",
       "  neighborhood postal_code  review_count  stars state  \n",
       "0                    44143            17    2.0    OH  \n",
       "1     Eastland       28215             4    4.5    NC  \n",
       "2    Riverdale     M4K 1N7             7    4.5    ON  "
      ]
     },
     "execution_count": 12,
     "metadata": {},
     "output_type": "execute_result"
    }
   ],
   "source": [
    "business.head(3)"
   ]
  },
  {
   "cell_type": "code",
   "execution_count": 13,
   "metadata": {},
   "outputs": [
    {
     "name": "stdout",
     "output_type": "stream",
     "text": [
      "51 unique state\n",
      "1010 unique cities\n",
      "383 unique neighborhood\n",
      "\n",
      "132262 open business\n",
      "24377 close business\n"
     ]
    }
   ],
   "source": [
    "print ('{} unique state'.format(len(set(business['state']))))\n",
    "print ('{} unique cities'.format(len(set(business['city']))))\n",
    "print ('{} unique neighborhood\\n'.format(len(set(business['neighborhood']))))\n",
    "\n",
    "print ('{} open business'.format(business['is_open'].sum()))\n",
    "print ('{} close business'.format(business.shape[0] - business['is_open'].sum()))"
   ]
  },
  {
   "cell_type": "markdown",
   "metadata": {},
   "source": [
    "#### Review count"
   ]
  },
  {
   "cell_type": "code",
   "execution_count": 14,
   "metadata": {},
   "outputs": [
    {
     "name": "stdout",
     "output_type": "stream",
     "text": [
      "mean review count : 30.23815907915653\n",
      "std review count : 96.48663109957913\n"
     ]
    }
   ],
   "source": [
    "# review count and stars\n",
    "print ('mean review count : {}'.format(business['review_count'].mean()))\n",
    "print ('std review count : {}'.format(business['review_count'].std()))"
   ]
  },
  {
   "cell_type": "code",
   "execution_count": 15,
   "metadata": {},
   "outputs": [
    {
     "data": {
      "text/plain": [
       "<matplotlib.axes._subplots.AxesSubplot at 0x11f49f630>"
      ]
     },
     "execution_count": 15,
     "metadata": {},
     "output_type": "execute_result"
    },
    {
     "data": {
      "image/png": "[encoded data removed]",
      "text/plain": [
       "<matplotlib.figure.Figure at 0x11f524630>"
      ]
     },
     "metadata": {},
     "output_type": "display_data"
    }
   ],
   "source": [
    "sns.distplot(business['review_count'], kde=False)"
   ]
  },
  {
   "cell_type": "code",
   "execution_count": 16,
   "metadata": {},
   "outputs": [
    {
     "data": {
      "text/plain": [
       "<matplotlib.axes._subplots.AxesSubplot at 0x12131dcc0>"
      ]
     },
     "execution_count": 16,
     "metadata": {},
     "output_type": "execute_result"
    },
    {
     "data": {
      "image/png": "[encoded data removed]",
      "text/plain": [
       "<matplotlib.figure.Figure at 0x121634c18>"
      ]
     },
     "metadata": {},
     "output_type": "display_data"
    }
   ],
   "source": [
    "sns.distplot(np.log(business['review_count']), kde=False)"
   ]
  },
  {
   "cell_type": "markdown",
   "metadata": {},
   "source": [
    "#### Star counts"
   ]
  },
  {
   "cell_type": "code",
   "execution_count": 17,
   "metadata": {},
   "outputs": [
    {
     "name": "stdout",
     "output_type": "stream",
     "text": [
      "mean stars count : 3.6471536462822156\n",
      "std stars count : 0.9776404753138286\n"
     ]
    }
   ],
   "source": [
    "print ('mean stars count : {}'.format(business['stars'].mean()))\n",
    "print ('std stars count : {}'.format(business['stars'].std()))"
   ]
  },
  {
   "cell_type": "code",
   "execution_count": 18,
   "metadata": {},
   "outputs": [
    {
     "data": {
      "text/plain": [
       "<matplotlib.axes._subplots.AxesSubplot at 0x123196c50>"
      ]
     },
     "execution_count": 18,
     "metadata": {},
     "output_type": "execute_result"
    },
    {
     "data": {
      "image/png": "[encoded data removed]",
      "text/plain": [
       "<matplotlib.figure.Figure at 0x12347cd30>"
      ]
     },
     "metadata": {},
     "output_type": "display_data"
    }
   ],
   "source": [
    "sns.distplot(business['stars'], kde=False)"
   ]
  },
  {
   "cell_type": "markdown",
   "metadata": {},
   "source": [
    "#### Geological mapping"
   ]
  },
  {
   "cell_type": "code",
   "execution_count": 19,
   "metadata": {},
   "outputs": [
    {
     "data": {
      "text/plain": [
       "state\n",
       "AZ     47376\n",
       "NV     30571\n",
       "ON     26520\n",
       "NC     11299\n",
       "OH     10930\n",
       "PA      8916\n",
       "QC      7273\n",
       "WI      4190\n",
       "EDH     3561\n",
       "BW      3071\n",
       "Name: business_id, dtype: int64"
      ]
     },
     "execution_count": 19,
     "metadata": {},
     "output_type": "execute_result"
    }
   ],
   "source": [
    "business.groupby('state').count().sort_values(by = 'business_id', ascending = False)['business_id'][:10]"
   ]
  },
  {
   "cell_type": "code",
   "execution_count": 20,
   "metadata": {},
   "outputs": [
    {
     "data": {
      "text/plain": [
       "state\n",
       "NV     1650578\n",
       "AZ     1459409\n",
       "ON      570082\n",
       "NC      272977\n",
       "OH      219072\n",
       "PA      206301\n",
       "QC      129961\n",
       "WI       99828\n",
       "EDH      45495\n",
       "BW       34695\n",
       "Name: review_count, dtype: int64"
      ]
     },
     "execution_count": 20,
     "metadata": {},
     "output_type": "execute_result"
    }
   ],
   "source": [
    "business.groupby('state').sum().sort_values(by = 'review_count', ascending = False)['review_count'][:10]"
   ]
  },
  {
   "cell_type": "code",
   "execution_count": 23,
   "metadata": {},
   "outputs": [
    {
     "data": {
      "text/html": [
       "<iframe id=\"igraph\" scrolling=\"no\" style=\"border:none;\" seamless=\"seamless\" src=\"https://plot.ly/~kt426/26.embed\" height=\"525px\" width=\"100%\"></iframe>"
      ],
      "text/plain": [
       "<plotly.tools.PlotlyDisplay object>"
      ]
     },
     "execution_count": 23,
     "metadata": {},
     "output_type": "execute_result"
    }
   ],
   "source": [
    "data = [ dict(\n",
    "        type='choropleth',\n",
    "        autocolorscale = False,\n",
    "        locations = business.groupby('state').count().sort_values(by = 'business_id', ascending = False)['business_id'].keys(),\n",
    "        z = np.log(business.groupby('state').count().sort_values(by = 'business_id', ascending = False)['business_id'].values),\n",
    "        locationmode = 'USA-states',\n",
    "        marker = dict(\n",
    "            line = dict (\n",
    "                color = 'rgb(255,255,255)',\n",
    "                width = 2\n",
    "            ) ),\n",
    "        ) ]\n",
    "\n",
    "layout = dict(\n",
    "        geo = dict(\n",
    "            scope='usa',\n",
    "            projection=dict( type='albers usa' ),\n",
    "            showlakes = True,\n",
    "            lakecolor = 'rgb(255, 255, 255)'),\n",
    "             )\n",
    "    \n",
    "fig = dict( data=data, layout=layout )\n",
    "py.iplot(fig)"
   ]
  },
  {
   "cell_type": "code",
   "execution_count": 24,
   "metadata": {},
   "outputs": [
    {
     "data": {
      "text/html": [
       "<iframe id=\"igraph\" scrolling=\"no\" style=\"border:none;\" seamless=\"seamless\" src=\"https://plot.ly/~kt426/28.embed\" height=\"525px\" width=\"100%\"></iframe>"
      ],
      "text/plain": [
       "<plotly.tools.PlotlyDisplay object>"
      ]
     },
     "execution_count": 24,
     "metadata": {},
     "output_type": "execute_result"
    }
   ],
   "source": [
    "data = [ dict(\n",
    "        type='choropleth',\n",
    "        autocolorscale = False,\n",
    "        locations = business.groupby('state').sum().sort_values(by = 'review_count', ascending = False)['review_count'].keys(),\n",
    "        z = np.log(business.groupby('state').sum().sort_values(by = 'review_count', ascending = False)['review_count'].values),\n",
    "        locationmode = 'USA-states',\n",
    "        marker = dict(\n",
    "            line = dict (\n",
    "                color = 'rgb(255,255,255)',\n",
    "                width = 2\n",
    "            ) ),\n",
    "        ) ]\n",
    "\n",
    "layout = dict(\n",
    "        geo = dict(\n",
    "            scope='usa',\n",
    "            projection=dict( type='albers usa' ),\n",
    "            showlakes = True,\n",
    "            lakecolor = 'rgb(255, 255, 255)'),\n",
    "             )\n",
    "    \n",
    "fig = dict( data=data, layout=layout )\n",
    "py.iplot(fig)"
   ]
  },
  {
   "cell_type": "markdown",
   "metadata": {},
   "source": [
    "### User"
   ]
  },
  {
   "cell_type": "code",
   "execution_count": 25,
   "metadata": {},
   "outputs": [
    {
     "data": {
      "text/html": [
       "<div>\n",
       "<style>\n",
       "    .dataframe thead tr:only-child th {\n",
       "        text-align: right;\n",
       "    }\n",
       "\n",
       "    .dataframe thead th {\n",
       "        text-align: left;\n",
       "    }\n",
       "\n",
       "    .dataframe tbody tr th {\n",
       "        vertical-align: top;\n",
       "    }\n",
       "</style>\n",
       "<table border=\"1\" class=\"dataframe\">\n",
       "  <thead>\n",
       "    <tr style=\"text-align: right;\">\n",
       "      <th></th>\n",
       "      <th>average_stars</th>\n",
       "      <th>compliment_cool</th>\n",
       "      <th>compliment_cute</th>\n",
       "      <th>compliment_funny</th>\n",
       "      <th>compliment_hot</th>\n",
       "      <th>compliment_list</th>\n",
       "      <th>compliment_more</th>\n",
       "      <th>compliment_note</th>\n",
       "      <th>compliment_photos</th>\n",
       "      <th>compliment_plain</th>\n",
       "      <th>...</th>\n",
       "      <th>cool</th>\n",
       "      <th>elite</th>\n",
       "      <th>fans</th>\n",
       "      <th>friends</th>\n",
       "      <th>funny</th>\n",
       "      <th>name</th>\n",
       "      <th>review_count</th>\n",
       "      <th>useful</th>\n",
       "      <th>user_id</th>\n",
       "      <th>yelping_since</th>\n",
       "    </tr>\n",
       "  </thead>\n",
       "  <tbody>\n",
       "    <tr>\n",
       "      <th>0</th>\n",
       "      <td>3.80</td>\n",
       "      <td>5174</td>\n",
       "      <td>284</td>\n",
       "      <td>5174</td>\n",
       "      <td>5175</td>\n",
       "      <td>78</td>\n",
       "      <td>299</td>\n",
       "      <td>1435</td>\n",
       "      <td>7829</td>\n",
       "      <td>7397</td>\n",
       "      <td>...</td>\n",
       "      <td>16856</td>\n",
       "      <td>[2014, 2016, 2013, 2011, 2012, 2015, 2010, 2017]</td>\n",
       "      <td>209</td>\n",
       "      <td>[M19NwFwAXKRZzt8koF11hQ, QRcMZ8pJJBBZaKubHOoMD...</td>\n",
       "      <td>16605</td>\n",
       "      <td>Cin</td>\n",
       "      <td>272</td>\n",
       "      <td>17019</td>\n",
       "      <td>lsSiIjAKVl-QRxKjRErBeg</td>\n",
       "      <td>2010-07-13</td>\n",
       "    </tr>\n",
       "    <tr>\n",
       "      <th>1</th>\n",
       "      <td>3.94</td>\n",
       "      <td>1556</td>\n",
       "      <td>211</td>\n",
       "      <td>1556</td>\n",
       "      <td>1285</td>\n",
       "      <td>101</td>\n",
       "      <td>134</td>\n",
       "      <td>1295</td>\n",
       "      <td>162</td>\n",
       "      <td>2134</td>\n",
       "      <td>...</td>\n",
       "      <td>40110</td>\n",
       "      <td>[2014, 2017, 2011, 2012, 2015, 2009, 2013, 200...</td>\n",
       "      <td>835</td>\n",
       "      <td>[eoSSJzdprj3jxXyi94vDXg, QF0urZa-0bxga17ZeY-9l...</td>\n",
       "      <td>10882</td>\n",
       "      <td>Andrea</td>\n",
       "      <td>2559</td>\n",
       "      <td>83681</td>\n",
       "      <td>om5ZiponkpRqUNa3pVPiRg</td>\n",
       "      <td>2006-01-18</td>\n",
       "    </tr>\n",
       "    <tr>\n",
       "      <th>2</th>\n",
       "      <td>4.72</td>\n",
       "      <td>15</td>\n",
       "      <td>1</td>\n",
       "      <td>15</td>\n",
       "      <td>5</td>\n",
       "      <td>0</td>\n",
       "      <td>1</td>\n",
       "      <td>11</td>\n",
       "      <td>8</td>\n",
       "      <td>20</td>\n",
       "      <td>...</td>\n",
       "      <td>55</td>\n",
       "      <td>[]</td>\n",
       "      <td>17</td>\n",
       "      <td>[Oa84FFGBw1axX8O6uDkmqg, SRcWERSl4rhm-Bz9zN_J8...</td>\n",
       "      <td>4</td>\n",
       "      <td>Gabe</td>\n",
       "      <td>277</td>\n",
       "      <td>45</td>\n",
       "      <td>-lGwMGHMC_XihFJNKCJNRg</td>\n",
       "      <td>2014-10-31</td>\n",
       "    </tr>\n",
       "  </tbody>\n",
       "</table>\n",
       "<p>3 rows × 22 columns</p>\n",
       "</div>"
      ],
      "text/plain": [
       "   average_stars  compliment_cool  compliment_cute  compliment_funny  \\\n",
       "0           3.80             5174              284              5174   \n",
       "1           3.94             1556              211              1556   \n",
       "2           4.72               15                1                15   \n",
       "\n",
       "   compliment_hot  compliment_list  compliment_more  compliment_note  \\\n",
       "0            5175               78              299             1435   \n",
       "1            1285              101              134             1295   \n",
       "2               5                0                1               11   \n",
       "\n",
       "   compliment_photos  compliment_plain      ...         cool  \\\n",
       "0               7829              7397      ...        16856   \n",
       "1                162              2134      ...        40110   \n",
       "2                  8                20      ...           55   \n",
       "\n",
       "                                               elite  fans  \\\n",
       "0   [2014, 2016, 2013, 2011, 2012, 2015, 2010, 2017]   209   \n",
       "1  [2014, 2017, 2011, 2012, 2015, 2009, 2013, 200...   835   \n",
       "2                                                 []    17   \n",
       "\n",
       "                                             friends  funny    name  \\\n",
       "0  [M19NwFwAXKRZzt8koF11hQ, QRcMZ8pJJBBZaKubHOoMD...  16605     Cin   \n",
       "1  [eoSSJzdprj3jxXyi94vDXg, QF0urZa-0bxga17ZeY-9l...  10882  Andrea   \n",
       "2  [Oa84FFGBw1axX8O6uDkmqg, SRcWERSl4rhm-Bz9zN_J8...      4    Gabe   \n",
       "\n",
       "   review_count useful                 user_id  yelping_since  \n",
       "0           272  17019  lsSiIjAKVl-QRxKjRErBeg     2010-07-13  \n",
       "1          2559  83681  om5ZiponkpRqUNa3pVPiRg     2006-01-18  \n",
       "2           277     45  -lGwMGHMC_XihFJNKCJNRg     2014-10-31  \n",
       "\n",
       "[3 rows x 22 columns]"
      ]
     },
     "execution_count": 25,
     "metadata": {},
     "output_type": "execute_result"
    }
   ],
   "source": [
    "user.head(3)"
   ]
  },
  {
   "cell_type": "code",
   "execution_count": 26,
   "metadata": {},
   "outputs": [
    {
     "data": {
      "text/plain": [
       "Index(['average_stars', 'compliment_cool', 'compliment_cute',\n",
       "       'compliment_funny', 'compliment_hot', 'compliment_list',\n",
       "       'compliment_more', 'compliment_note', 'compliment_photos',\n",
       "       'compliment_plain', 'compliment_profile', 'compliment_writer', 'cool',\n",
       "       'elite', 'fans', 'friends', 'funny', 'name', 'review_count', 'useful',\n",
       "       'user_id', 'yelping_since'],\n",
       "      dtype='object')"
      ]
     },
     "execution_count": 26,
     "metadata": {},
     "output_type": "execute_result"
    }
   ],
   "source": [
    "user.keys()"
   ]
  },
  {
   "cell_type": "code",
   "execution_count": 27,
   "metadata": {
    "collapsed": true
   },
   "outputs": [],
   "source": [
    "import time\n",
    "import datetime\n",
    "\n",
    "user['joined_year'] = [datetime.datetime.strptime(t, \"%Y-%m-%d\").year for t in user['yelping_since']]"
   ]
  },
  {
   "cell_type": "code",
   "execution_count": 28,
   "metadata": {},
   "outputs": [
    {
     "data": {
      "text/plain": [
       "joined_year\n",
       "2004        73\n",
       "2005       959\n",
       "2006      5812\n",
       "2007     15950\n",
       "2008     31284\n",
       "2009     58336\n",
       "2010     94826\n",
       "2011    142915\n",
       "2012    150292\n",
       "2013    165652\n",
       "2014    181419\n",
       "2015    173071\n",
       "2016    121251\n",
       "2017     41522\n",
       "Name: user_id, dtype: int64"
      ]
     },
     "execution_count": 28,
     "metadata": {},
     "output_type": "execute_result"
    }
   ],
   "source": [
    "user.groupby('joined_year').count()['user_id']"
   ]
  },
  {
   "cell_type": "code",
   "execution_count": 29,
   "metadata": {},
   "outputs": [
    {
     "data": {
      "text/html": [
       "<iframe id=\"igraph\" scrolling=\"no\" style=\"border:none;\" seamless=\"seamless\" src=\"https://plot.ly/~kt426/30.embed\" height=\"525px\" width=\"100%\"></iframe>"
      ],
      "text/plain": [
       "<plotly.tools.PlotlyDisplay object>"
      ]
     },
     "execution_count": 29,
     "metadata": {},
     "output_type": "execute_result"
    }
   ],
   "source": [
    "import plotly.graph_objs as go\n",
    "data = [go.Scatter(x=user.groupby('joined_year').count()['user_id'].keys(), y=user.groupby('joined_year').count()['user_id'].values)]\n",
    "layout = go.Layout( title='New Yelp User',\n",
    "    xaxis={'title':'Year'},\n",
    "    yaxis={'title':'Number of new users'},\n",
    ")\n",
    "fig = go.Figure(data=data, layout=layout)\n",
    "py.iplot(fig)"
   ]
  },
  {
   "cell_type": "code",
   "execution_count": 30,
   "metadata": {},
   "outputs": [
    {
     "data": {
      "text/html": [
       "<iframe id=\"igraph\" scrolling=\"no\" style=\"border:none;\" seamless=\"seamless\" src=\"https://plot.ly/~kt426/32.embed\" height=\"525px\" width=\"100%\"></iframe>"
      ],
      "text/plain": [
       "<plotly.tools.PlotlyDisplay object>"
      ]
     },
     "execution_count": 30,
     "metadata": {},
     "output_type": "execute_result"
    }
   ],
   "source": [
    "data = [go.Scatter(x=user.groupby('yelping_since').count()['user_id'].keys()\\\n",
    "                   ,y=user.groupby('yelping_since').count()['user_id'].values)]\n",
    "layout = go.Layout( title='New Yelp User',\n",
    "    xaxis={'title':'Year'},\n",
    "    yaxis={'title':'Number of new users'},\n",
    ")\n",
    "fig = go.Figure(data=data, layout=layout)\n",
    "py.iplot(fig)"
   ]
  },
  {
   "cell_type": "code",
   "execution_count": 7,
   "metadata": {},
   "outputs": [
    {
     "data": {
      "text/plain": [
       "array([ {'RestaurantsPriceRange2': 2, 'BusinessParking': {'garage': False, 'street': False, 'validated': False, 'lot': True, 'valet': False}, 'BikeParking': True, 'WheelchairAccessible': True},\n",
       "       {'GoodForMeal': {'dessert': False, 'latenight': False, 'lunch': False, 'dinner': False, 'breakfast': False, 'brunch': False}, 'HasTV': False, 'RestaurantsGoodForGroups': True, 'NoiseLevel': 'average', 'RestaurantsAttire': 'casual', 'RestaurantsReservations': False, 'OutdoorSeating': False, 'BusinessAcceptsCreditCards': False, 'RestaurantsPriceRange2': 2, 'RestaurantsDelivery': True, 'Ambience': {'romantic': False, 'intimate': False, 'classy': False, 'hipster': False, 'divey': False, 'touristy': False, 'trendy': False, 'upscale': False, 'casual': False}, 'RestaurantsTakeOut': True, 'GoodForKids': True},\n",
       "       {'BusinessParking': {'garage': False, 'street': True, 'validated': False, 'lot': False, 'valet': False}, 'WiFi': 'no', 'OutdoorSeating': False, 'BusinessAcceptsCreditCards': True, 'RestaurantsPriceRange2': 2, 'BikeParking': True, 'WheelchairAccessible': True}], dtype=object)"
      ]
     },
     "execution_count": 7,
     "metadata": {},
     "output_type": "execute_result"
    }
   ],
   "source": [
    "business.head(1)['attributes'].values"
   ]
  },
  {
   "cell_type": "code",
   "execution_count": 9,
   "metadata": {},
   "outputs": [
    {
     "data": {
      "text/plain": [
       "address                                           691 Richmond Rd\n",
       "attributes      {'RestaurantsPriceRange2': 2, 'BusinessParking...\n",
       "business_id                                YDf95gJZaq05wvo7hTQbbQ\n",
       "categories                           [Shopping, Shopping Centers]\n",
       "city                                             Richmond Heights\n",
       "hours           {'Monday': '10:00-21:00', 'Tuesday': '10:00-21...\n",
       "is_open                                                         1\n",
       "latitude                                                  41.5417\n",
       "longitude                                                -81.4931\n",
       "name                                         Richmond Town Square\n",
       "neighborhood                                                     \n",
       "postal_code                                                 44143\n",
       "review_count                                                   17\n",
       "stars                                                           2\n",
       "state                                                          OH\n",
       "Name: 0, dtype: object"
      ]
     },
     "execution_count": 9,
     "metadata": {},
     "output_type": "execute_result"
    }
   ],
   "source": [
    "business.iloc[0]"
   ]
  },
  {
   "cell_type": "code",
   "execution_count": 13,
   "metadata": {},
   "outputs": [
    {
     "data": {
      "text/html": [
       "<div>\n",
       "<style>\n",
       "    .dataframe thead tr:only-child th {\n",
       "        text-align: right;\n",
       "    }\n",
       "\n",
       "    .dataframe thead th {\n",
       "        text-align: left;\n",
       "    }\n",
       "\n",
       "    .dataframe tbody tr th {\n",
       "        vertical-align: top;\n",
       "    }\n",
       "</style>\n",
       "<table border=\"1\" class=\"dataframe\">\n",
       "  <thead>\n",
       "    <tr style=\"text-align: right;\">\n",
       "      <th></th>\n",
       "      <th>business_id</th>\n",
       "      <th>date</th>\n",
       "      <th>likes</th>\n",
       "      <th>text</th>\n",
       "      <th>user_id</th>\n",
       "    </tr>\n",
       "  </thead>\n",
       "  <tbody>\n",
       "    <tr>\n",
       "      <th>0</th>\n",
       "      <td>tJRDll5yqpZwehenzE2cSg</td>\n",
       "      <td>2012-07-15</td>\n",
       "      <td>0</td>\n",
       "      <td>Get here early enough to have dinner.</td>\n",
       "      <td>zcTZk7OG8ovAmh_fenH21g</td>\n",
       "    </tr>\n",
       "    <tr>\n",
       "      <th>1</th>\n",
       "      <td>jH19V2I9fIslnNhDzPmdkA</td>\n",
       "      <td>2015-08-12</td>\n",
       "      <td>0</td>\n",
       "      <td>Great breakfast large portions and friendly wa...</td>\n",
       "      <td>ZcLKXikTHYOnYt5VYRO5sg</td>\n",
       "    </tr>\n",
       "    <tr>\n",
       "      <th>2</th>\n",
       "      <td>dAa0hB2yrnHzVmsCkN4YvQ</td>\n",
       "      <td>2014-06-20</td>\n",
       "      <td>0</td>\n",
       "      <td>Nice place. Great staff.  A fixture in the tow...</td>\n",
       "      <td>oaYhjqBbh18ZhU0bpyzSuw</td>\n",
       "    </tr>\n",
       "  </tbody>\n",
       "</table>\n",
       "</div>"
      ],
      "text/plain": [
       "              business_id        date  likes  \\\n",
       "0  tJRDll5yqpZwehenzE2cSg  2012-07-15      0   \n",
       "1  jH19V2I9fIslnNhDzPmdkA  2015-08-12      0   \n",
       "2  dAa0hB2yrnHzVmsCkN4YvQ  2014-06-20      0   \n",
       "\n",
       "                                                text                 user_id  \n",
       "0              Get here early enough to have dinner.  zcTZk7OG8ovAmh_fenH21g  \n",
       "1  Great breakfast large portions and friendly wa...  ZcLKXikTHYOnYt5VYRO5sg  \n",
       "2  Nice place. Great staff.  A fixture in the tow...  oaYhjqBbh18ZhU0bpyzSuw  "
      ]
     },
     "execution_count": 13,
     "metadata": {},
     "output_type": "execute_result"
    }
   ],
   "source": [
    "tip.head(3)"
   ]
  },
  {
   "cell_type": "code",
   "execution_count": null,
   "metadata": {
    "collapsed": true
   },
   "outputs": [],
   "source": []
  }
 ],
 "metadata": {
  "kernelspec": {
   "display_name": "Python 3",
   "language": "python",
   "name": "python3"
  },
  "language_info": {
   "codemirror_mode": {
    "name": "ipython",
    "version": 3
   },
   "file_extension": ".py",
   "mimetype": "text/x-python",
   "name": "python",
   "nbconvert_exporter": "python",
   "pygments_lexer": "ipython3",
   "version": "3.6.1"
  }
 },
 "nbformat": 4,
 "nbformat_minor": 2
}
