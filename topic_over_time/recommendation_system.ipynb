{
 "cells": [
  {
   "cell_type": "code",
   "execution_count": 44,
   "metadata": {},
   "outputs": [],
   "source": [
    "# import dependencies\n",
    "from lda_embedder.text_embedder import TextEmbedder\n",
    "from gensim import corpora, models\n",
    "import pandas as pd\n",
    "import pickle\n",
    "import numpy as np\n",
    "import matplotlib.pyplot as plt"
   ]
  },
  {
   "cell_type": "markdown",
   "metadata": {},
   "source": [
    "# Recommendation by Matrix Factorization"
   ]
  },
  {
   "cell_type": "markdown",
   "metadata": {},
   "source": [
    "The traditional approach to recommendation is collaborative fil-\n",
    "tering (CF), where items are recommended to a user based on other users with similar patterns of selected items.\n",
    "\n",
    "In matrix factorization, we represent users and items in a shared latent low-dimensional space of dimensionK—user i is represented\n",
    "by\n",
    "\n",
    "$r_{ij} = u_{i}^{T} v_{j}$\n",
    "\n",
    "Using this concept, we propose the recommendation system for the business to list most relevant reviews based on latent topics"
   ]
  },
  {
   "cell_type": "code",
   "execution_count": 13,
   "metadata": {
    "collapsed": true
   },
   "outputs": [],
   "source": [
    "# load file\n",
    "business = pd.read_csv('data/chinese_business_clean.csv')\n",
    "reviews = pd.read_csv('data/chinese_reviews_clean_offsets.csv')\n",
    "\n",
    "reviews['date_tuple'] = [eval(i) for i in reviews['date_tuple']]\n",
    "reviews['quarter'] = [eval(i) for i in reviews['quarter']]"
   ]
  },
  {
   "cell_type": "code",
   "execution_count": 14,
   "metadata": {},
   "outputs": [],
   "source": [
    "# load pretrained topic models\n",
    "lda =  models.LdaModel.load('data/gensim/lda.model')\n",
    "dictionary = corpora.Dictionary.load('data/gensim/chinsese_dict.dict')\n",
    "\n",
    "# load idf matrices\n",
    "with open('data/u_idf.pickle', 'rb') as f:\n",
    "    uidf_data = pickle.load(f)\n",
    "with open('data/b_idf.pickle', 'rb') as f:\n",
    "    bidf_data = pickle.load(f)\n",
    "with open('data/b_tfidf.pickle', 'rb') as f:\n",
    "    btfidf_data = pickle.load(f)"
   ]
  },
  {
   "cell_type": "code",
   "execution_count": 15,
   "metadata": {
    "collapsed": true
   },
   "outputs": [],
   "source": [
    "# initialize text embedding classs\n",
    "embedder = TextEmbedder(model = lda, dictionary = dictionary, user_idf = uidf_data, business_idf = bidf_data, business_tfidf = btfidf_data)"
   ]
  },
  {
   "cell_type": "code",
   "execution_count": 16,
   "metadata": {
    "collapsed": true
   },
   "outputs": [],
   "source": [
    "# use top2 growing, declining business for case study\n",
    "case2 = reviews[reviews['business_id'] == 'pH0BLkL4cbxKzu471VZnuA'] # growing \n",
    "case3 = reviews[reviews['business_id'] == 'X8c23dur0ll2D9XTu-I8Qg'] # declining"
   ]
  },
  {
   "cell_type": "code",
   "execution_count": 17,
   "metadata": {
    "collapsed": true
   },
   "outputs": [],
   "source": [
    "# embedding helper class\n",
    "def embed_by_enum(data, embedder, enum = 0, binary = False):\n",
    "    # select regions\n",
    "    if binary:\n",
    "        data = data[data['business_offset'] != 0]\n",
    "    label = data['business_offset']\n",
    "    # create labels\n",
    "    if enum == 2: \n",
    "        embed = np.array([embedder.augmented_embed_text(t) for t in data['text'].values])\n",
    "    elif enum == 3: \n",
    "        embed = np.array([embedder.user_tfidf_embed(t, u) for t, u in zip(data['text'].values, data['user_id'].values)])\n",
    "    elif enum == 4: \n",
    "        embed = np.array([embedder.user_tf_business_idf(t, b) for t, b in zip(data['text'].values, data['business_id'].values)])\n",
    "    elif enum == 5: \n",
    "        embed = np.array([embedder.user_tfidf_business_idf(t, u, b) for t, u, b in zip(data['text'].values, data['user_id'].values, data['business_id'].values)])\n",
    "    \n",
    "    elif enum == 0: \n",
    "        embed = np.array([embedder.embed(t) for t in data['text'].values])\n",
    "    elif enum == 1:\n",
    "        embed = np.array([embedder.embed_sent(t) for t in data['text'].values])\n",
    "    \n",
    "    elif enum == 6:\n",
    "        embed = np.array([embedder.augmented_tf_business_tfidf(t, b) for t, b in zip(data['text'].values, data['business_id'].values)])\n",
    "    else:\n",
    "        print ('enum {} is not supported'.format(enum))\n",
    "        return None\n",
    "    return embed, label"
   ]
  },
  {
   "cell_type": "markdown",
   "metadata": {},
   "source": [
    "## Method"
   ]
  },
  {
   "cell_type": "markdown",
   "metadata": {},
   "source": [
    "The matrix factorization is given by $r_{ij} = u_{i}^{T} v_{j}$  \n",
    "\n",
    "In our case, user vector $u$, is a characteristic vector of each business, and item vector $v$, is a latent embedding of each reviews.\n",
    "\n",
    "We substitute $u$ with pearson correlation between topics and offsets for each business;\n",
    "$u_{b} = [\\rho_{b0}, \\rho_{b1}, ..., \\rho_{bk}]$  \n",
    "where $\\rho_{bn}$ is a pearson correlation between performance offsets for business b and topic n.\n",
    "\n",
    "Also we substitute $v_{d}$ with topic embedding of review d, $\\theta_{d}$.\n",
    "\n",
    "Combining, \n",
    "$r_{bd} = [\\rho_{b0}, \\rho_{b1}, ..., \\rho_{bk}]^{T} \\theta_{d}$  "
   ]
  },
  {
   "cell_type": "code",
   "execution_count": 25,
   "metadata": {
    "collapsed": true
   },
   "outputs": [],
   "source": [
    "def characteristic_vector(embed, label):\n",
    "    coef = []\n",
    "    for i in range(len(embed[0])):\n",
    "        coef.append(np.corrcoef(embed[:,i], label)[0, 1])\n",
    "    coef = np.array(coef)\n",
    "    coef[np.isnan(coef)] = 0.0\n",
    "    return np.array(coef)"
   ]
  },
  {
   "cell_type": "markdown",
   "metadata": {},
   "source": [
    "Print top most 3 positive/negative reviews found by $r$"
   ]
  },
  {
   "cell_type": "code",
   "execution_count": 35,
   "metadata": {
    "collapsed": true
   },
   "outputs": [],
   "source": [
    "def positive_feedbacks(df, n, embed, label):\n",
    "    vector = characteristic_vector(embed, label)\n",
    "    dot = np.array([np.dot(d, vector) for d in embed])\n",
    "    \n",
    "    pos_idx = np.argsort(dot)[-n:]\n",
    "    for i in pos_idx[::-1]:\n",
    "        print ('Rate: {}\\n{}\\n'.format(df.iloc[i]['stars'], df.iloc[i]['text']))\n",
    "    return dot\n",
    "\n",
    "def negative_feedbacks(df, n, embed, label):\n",
    "    vector = characteristic_vector(embed, label)\n",
    "    dot = np.array([np.dot(d, vector) for d in embed])\n",
    "    \n",
    "    neg_idx = np.argsort(dot)[:n]\n",
    "    for i in neg_idx:\n",
    "        print ('Rate: {}\\n{}\\n'.format(df.iloc[i]['stars'], df.iloc[i]['text']))\n",
    "    return dot"
   ]
  },
  {
   "cell_type": "markdown",
   "metadata": {},
   "source": [
    "## Case 1 - SUSHISAMBA"
   ]
  },
  {
   "cell_type": "code",
   "execution_count": 67,
   "metadata": {},
   "outputs": [],
   "source": [
    "# embedding \n",
    "# baseline \n",
    "embed1, label1 = embed_by_enum(case2, embedder, enum = 1)\n",
    "# augmented\n",
    "embed2, label2 = embed_by_enum(case2, embedder, enum = 2)\n",
    "# business tfidf \n",
    "embed3, label3 = embed_by_enum(case2, embedder, enum = 6)"
   ]
  },
  {
   "cell_type": "markdown",
   "metadata": {},
   "source": [
    "### Embedding 1"
   ]
  },
  {
   "cell_type": "code",
   "execution_count": 68,
   "metadata": {},
   "outputs": [
    {
     "name": "stdout",
     "output_type": "stream",
     "text": [
      "Rate: 1\n",
      "*bites fist* \n",
      "\n",
      "I don't know where to begin... Let me just say I had the worst service by the rudest and most dismissive people at Sushi Samba - ever! \n",
      "\n",
      "- The edamame was cold\n",
      "- Sushi rolls were tasteless \n",
      "- Appetizers - tasteless \n",
      "\n",
      "I made the waiter aware that I have a shellfish allergy and then I asked questions and ordered my food. When one of my rolls came out the waiter said,\"The tempura is fried in the same oil as shellfish, but if you don't care we don't care either!\" \n",
      "\n",
      "Did you read what I just said he said to me?\n",
      "\n",
      "Okay, so very confused I handed the cups of tempura back and ate my food very disgusted in how he talked to me. The main waiter pretty much avoided our table. When I told him what was said to me he said,\"I don't know why he would say that to you.\" Wait a minute does basic customer service ever occur to you people? How about you apologize! So he says I'm going to get the manager I said no don't.\n",
      "\n",
      "He tells the manager anyway and the manager walks over in a drive by motion and drops the updated bill on the table and says we removed the roll and kept walking.\n",
      "\n",
      "Again NO apology or acknowledgment! I didn't need the roll taking off, I just needed a sincere apology and they made it clear they weren't going to give me one. \n",
      "\n",
      "I asked myself why did they behave the way they did? I realized it was because we weren't dressed up like the other patrons. They assumed we were poor, so they treated us in a dismissive manner. They assumed that I was only complaining about the roll, because we couldn't pay our bill - false! \n",
      "\n",
      "Sometimes all customers want is to know that you appreciate their business and whatever mistake took place won't happen again and just maybe an apology to go with. \n",
      "\n",
      "Terrible service...\n",
      "\n",
      "Rate: 2\n",
      "The sushi is pretty good here, but the service was terrible on my last visit. It took about 10 minutes for someone to even come to our table to get our drink orders,  20 mins after that to actually order, 3 times asking to get refills on water and another 20 mins to get the bill after we asked. This was at 2pm as well, not a busy time. It was very frustrating, and with so many other sushi places around, choose a different one!\n",
      "\n",
      "Rate: 2\n",
      "Made reservations last minute and didn't have to wait too long.  The drinks came promptly and the first 3 of 5 small plates came out.  Then it all went down hill!  The dish we wanted to try the most they forgot about, service got delayed, 3 of 5 were pretty good but nothing out of the ordinary and one MIA dish.  When I told the waitress she didn't even apologize and left it on the bill after I told her it was missing.  Gave my credit card and she came back 10min later advising it's going to take 15-30min because the system is down.  They could have apologized, offered to get the order right away, offered a drink... Ect.\n",
      "\n"
     ]
    }
   ],
   "source": [
    "n1 = negative_feedbacks(case2, 3, embed1, label1)"
   ]
  },
  {
   "cell_type": "code",
   "execution_count": 69,
   "metadata": {},
   "outputs": [
    {
     "name": "stdout",
     "output_type": "stream",
     "text": [
      "Rate: 5\n",
      "Love dining here every time I come to Vegas. The atmosphere is great and the food and drinks are worth coming. If you ever have a chance to dine here request Vanessa as your waitress she is incredibly nice and makes sure your dinner is an amazing experience.\n",
      "\n",
      "Rate: 5\n",
      "This place deserves 10 stars, by far my favorite restaurant ever, absolutely love it. Every time we go to visit, this is definitely where we go for dinner, it's not cheap but well worth every penny, everything is always so fresh and delicious, and I mean everything, we always try new things along with some of our favorites and we just love this place more and more each time. The service is impeccable, the servers are very professional and very knowledgeable about the menu and drinks, if you are not sure what to get , just let them how much you are willing to spend and they will create a tasting menu for you, believe you will not be disappointed!!!! Their sea bass skewers and Peruvian corn is a must have! I mean everything is amazing there, hope everyone gets a chance to try this place!\n",
      "\n",
      "Rate: 5\n",
      "Best sushi in Las Vegas!!!!! So fun and such amazing and unique flavors!! Amazing service and just so fresh!\n",
      "\n"
     ]
    }
   ],
   "source": [
    "p1 = positive_feedbacks(case2, 3, embed1, label1)"
   ]
  },
  {
   "cell_type": "markdown",
   "metadata": {},
   "source": [
    "### Embedding 2"
   ]
  },
  {
   "cell_type": "code",
   "execution_count": 70,
   "metadata": {},
   "outputs": [
    {
     "name": "stdout",
     "output_type": "stream",
     "text": [
      "Rate: 1\n",
      "Probably the worst sushi restaurant we've been to. Dirty, loud, the service is terrible and the food is even worse. Sent one dish back three times with no resolution. People next to us were complaining as well. Not cheap either, so best to avoid this experience altogether and go somewhere else.\n",
      "\n",
      "Rate: 3\n",
      "Not impressed with this Restaraunt. My fiancé food came out late and cold. The waiter mixed up all of the bills. We had to wait on drinks and we never saw our waiter. The water was not refilled and overall customer service experience was poor. However my sushi rolls were great, but a bit on the warm side. It's going to be hard for someone to persuade me to come back here.\n",
      "\n",
      "Rate: 2\n",
      "0 star for the food. \n",
      "2 stars for the ambiance\n",
      "0 star for the service\n",
      "\n",
      "I don't even know where to start. \n",
      "Honestly, the reviews are completely deceiving and I was highly disappointed! \n",
      "I was so bummed because we were on a really good streak of eating amazing food in Vegas too! \n",
      "\n",
      "Straight to the point.\n",
      "The entire experience was not at all what we were expecting. \n",
      "The ambiance is really nice however, it is pretty dim -and seemed more like a club/bar lounge than a restaurant. Honestly, I would go to a whole in the wall looking restaurant with delicious food than something that just \"looks\" nice. \n",
      "As an avid sushi consumer, please believe me when I say the food here is a complete disappointment! Save your winnings and go elsewhere-- McDonald's is not too far away you know. \n",
      "\n",
      "What we ordered: \n",
      "I'm so mad right now I don't even remember the names of the food we ordered! But we had a group 10 people. And NO ONE liked their food. The portions seemed to have been aimed for people that are about the size of a 3 yr old with the price of a pasta entree at an Italian restaurant. I mean, really- almost $20 for two less than 4 inch skewers of meat? What the hell is that? No sides- nothing. Just that. \n",
      "My sushi rolls were more bland than an infant's pureed cereal! \n",
      "We were all in disbelief. So much that traded of our sushi rolls with one another to see if it might have been what we ordered that wasn't tasty. \n",
      "\n",
      "Customer service:\n",
      "The waiter was set on how we should order when she came to our table. \n",
      "She heavily \"suggested\" that we order food as a \"family style\" in which every rolls, tempura, skewers and all are placed in the middle of the table and you grab what you eat kinda thing. Considering not everyone eats the same portion or even like the same things -how the hell are you going to split the bill fairly? We decided not to order that way and asked if she could place everyone's items on separate plates. Which didn't end up happening. They squeeze 4 rolls onto one plate which \n",
      "(1.) Looked messy \n",
      "(2.) We couldn't distinguish which roll belonged to who \n",
      "(3.) The flavors and sauce of each roll started to mix together.  \n",
      "\n",
      "We didn't even finish our food... we left hungry and went to Chipotle instead.\n",
      "\n",
      "Save yourself money & time and go elsewhere!\n",
      "\n"
     ]
    }
   ],
   "source": [
    "n2 = negative_feedbacks(case2, 3, embed2, label2)"
   ]
  },
  {
   "cell_type": "code",
   "execution_count": 71,
   "metadata": {},
   "outputs": [
    {
     "name": "stdout",
     "output_type": "stream",
     "text": [
      "Rate: 5\n",
      "Wow, what's totally cool Asian fusion sushi place! A Japanese and Spanish Peruvian mix. Service was excellent, attentive without being overbearing, and friendly.\n",
      "\n",
      "From the menu I tried the Gyoza wagyu beef dumplings. OMG so delicious. Though maybe now I need to try wagyu on it's own. The Kanpachi was simple, well presented and delicious. And the Neo Tokyo (tuna) roll was great as well. A little shochu to go along with it made for an excellent meal.\n",
      "\n",
      "Highly recommended!\n",
      "\n",
      "Rate: 4\n",
      "Came here for dinner last weekend and the hype is real: Sushi Samba is a true winner indeed!\n",
      "\n",
      "The group I was with ordered many different dishes, and the ones I got to try were the following: \n",
      "\n",
      "- Heirloom Salad: I gobbled this up, the dressing has the perfect kick to it. \n",
      "- Gyoza: I didn't like this at all, pass. \n",
      "- Neo Tokyo: This roll looks intimidating, but it's fabulous. \n",
      "- Sao Paolo - The scallop alone on this is mouthwatering. \n",
      "- El Topo - A sticky roll, but well worth it if you like cheese. Yum. \n",
      "- Samba Strip - Meh, not my fave. \n",
      "\n",
      "Great restaurant + atmosphere. Definitely recommend coming here for a fun dinner!\n",
      "\n",
      "Rate: 4\n",
      "Not a big fan of the name they have for this restaurant, but the rest of the experience was amazing.  The dining room is large and well designed (rumor has it the build-out cost $10M).  We had a large party of 12, which can always be a challenge for a packed restaurant, but not here.  Our waiter was terrific and recommended family style meal and provided two options - w/o Kobe would run around $60pp, and with Kobe would run around $80-90pp.  We opted to go without (which I suggest based on our experience).  Boom - out comes the food.  The meal was around 3-4 courses and included cooked appetizers, sushi rolls, and beef / pork proteins.  Each course was fresh - hot dishes hot, cold dishes cold and tasted great.  The ribeye was a bit overcooked, but given how many they crank out, it wasn't a huge disappointment.  The experience here was a thousand times better than Mastro's the night before in terms of level of service, food quality, and how fast the dishes came out.  Definitely recommend this place (especially for large parties).\n",
      "\n",
      "They did have a nice cocktail and sake menu.  Their mixed drinks were pretty good, but not stellar.  If you order shots here, they offer a very generous pour (which is great).\n",
      "\n"
     ]
    }
   ],
   "source": [
    "p2 = positive_feedbacks(case2, 3, embed2, label2)"
   ]
  },
  {
   "cell_type": "markdown",
   "metadata": {},
   "source": [
    "### Embedding 3"
   ]
  },
  {
   "cell_type": "code",
   "execution_count": 72,
   "metadata": {},
   "outputs": [
    {
     "name": "stdout",
     "output_type": "stream",
     "text": [
      "Rate: 3\n",
      "Not impressed with this Restaraunt. My fiancé food came out late and cold. The waiter mixed up all of the bills. We had to wait on drinks and we never saw our waiter. The water was not refilled and overall customer service experience was poor. However my sushi rolls were great, but a bit on the warm side. It's going to be hard for someone to persuade me to come back here.\n",
      "\n",
      "Rate: 2\n",
      "Mediocre food. Average service. Very very close seating (had to move tables to get to seat). Overpriced sushi for tiny pieces. Just expected more from such a nice looking place.\n",
      "\n",
      "Rate: 3\n",
      "I understand this place is pricey and expected it to be. I can afford a place like this... But apparently the service doesn't treat me like such. \n",
      "\n",
      "My friends came here to eat and I came to join them and they got seated at the sushi bar but it took forever for me to get water or anyone to take my order. I wore a cute dress, I have a nice bag, I am clean and freshly showered... But took awhile. They were nice when I ordered but come on... How long will it take? They really focused on the people who had tables. \n",
      "\n",
      "Food was good - overpriced which was expected. Got some rolls and a fish. 3 rolls and a fish. The fish (steamed) was eh... The rolls were good. I got plain salmon and yellowtail rolls which were actually on the cheaper end of the sushi price. \n",
      "\n",
      "Location\n",
      "Palazzo... Good location\n",
      "\n",
      "Ambiance\n",
      "Posh and high end\n",
      "But be careful smelling like baked fish because there is a dish that has lots of smoke that can cause you to smell like it.my gf was near a table with the dish and smelled like it afterward. \n",
      "\n",
      "Overall... Maybe I'd come back... If I had a table.\n",
      "\n"
     ]
    }
   ],
   "source": [
    "n3 = negative_feedbacks(case2, 3, embed3, label3)"
   ]
  },
  {
   "cell_type": "code",
   "execution_count": 73,
   "metadata": {},
   "outputs": [
    {
     "name": "stdout",
     "output_type": "stream",
     "text": [
      "Rate: 3\n",
      "This place has some unique flavors going on.  To be totally fair we only tried the appetizers.  The one that stood out in my mind was the duck confit tacos.  Our server was very helpful and attentive.  I think its a must try if you're looking for a quick late night sushi spot for light food.  Much better than the location that closed in Dallas....\n",
      "\n",
      "Rate: 5\n",
      "This place is amazing. I went here with a group of 10 and the waitstaff was extremely attentive.  Try the prime rib with truffles and the seabass with miso! I would definitely eat here again!\n",
      "\n",
      "Rate: 5\n",
      "The manager Allen was so amazing... I come here a lot! I'm a local and I must say I never get tired of it. On Date night I could eat here every time! My newest obsession is the El Topo! If you are in Vegas please try them out they do not disappoint!\n",
      "\n"
     ]
    }
   ],
   "source": [
    "p3 = positive_feedbacks(case2, 3, embed3, label3)"
   ]
  },
  {
   "cell_type": "code",
   "execution_count": 79,
   "metadata": {},
   "outputs": [
    {
     "data": {
      "image/png": "[encoded data removed]",
      "text/plain": [
       "<matplotlib.figure.Figure at 0x1a19332cf8>"
      ]
     },
     "metadata": {},
     "output_type": "display_data"
    }
   ],
   "source": [
    "# plt.hist(p1, alpha = 0.3)\n",
    "plt.hist(p2, alpha = 0.3, label=\"embedding 2\")\n",
    "plt.hist(p3, alpha = 0.3, label=\"embedding 3\")\n",
    "plt.legend()\n",
    "plt.show()"
   ]
  },
  {
   "cell_type": "markdown",
   "metadata": {},
   "source": [
    "## Analysis"
   ]
  },
  {
   "cell_type": "markdown",
   "metadata": {},
   "source": [
    "Embedding 1 resulted recommending the review with extreme sentiment (rating 1, rating 5). The contents of reviews seem to capture rather general feedbacks; this is because the embedding tends to become sensitive to the words like 'worst', 'best'. \n",
    "\n",
    "Embedding 3, on the other hands, contains more specific topics, such as specific menu, the name of the person etc \n",
    "\n",
    "Another interesting take-away is that both of most positive and negative reviews recommended by embedding is rating 3 -- This suggests the sentiment of reviews differ person to person, and the embedding was able to extract reviews based on contents, rather than the rating. "
   ]
  },
  {
   "cell_type": "markdown",
   "metadata": {},
   "source": [
    "# Case2 - Hakkasan Nightclub"
   ]
  },
  {
   "cell_type": "code",
   "execution_count": 94,
   "metadata": {
    "collapsed": true
   },
   "outputs": [],
   "source": [
    "# embedding \n",
    "# baseline \n",
    "embed1, label1 = embed_by_enum(case3, embedder, enum = 1)\n",
    "# augmented\n",
    "embed2, label2 = embed_by_enum(case3, embedder, enum = 2)\n",
    "# business tfidf \n",
    "embed3, label3 = embed_by_enum(case3, embedder, enum = 6)"
   ]
  },
  {
   "cell_type": "markdown",
   "metadata": {},
   "source": [
    "### Embedding 1"
   ]
  },
  {
   "cell_type": "code",
   "execution_count": 95,
   "metadata": {},
   "outputs": [
    {
     "name": "stdout",
     "output_type": "stream",
     "text": [
      "Rate: 1\n",
      "Experienced a racist encounter with the security staff. Waiting for a response for management. They have ignored and avoided all of my attempts to reach out to them, extremely unprofessional.\n",
      "\n",
      "Rate: 1\n",
      "I'm here right now and am sitting next to someone Who works here who told me if I continue to ask him where my credit card is, which has been gone for 30 minutes - that he  will kick me out. I cannot imagine a worse place to spend my night then a place where people people like this exist.\n",
      "\n",
      "Rate: 1\n",
      "The security staff's communication skills with each other is awful. They aren't aware of the events being taken place and they are rude when asked questions. I thought I could come and enjoy a good time with my friends and family only to be led on a goose chase. Everyone I was with was ultimately too frustrated to continue and we decided to go elsewhere.\n",
      "\n"
     ]
    }
   ],
   "source": [
    "n1 = negative_feedbacks(case3, 3, embed1, label1)"
   ]
  },
  {
   "cell_type": "code",
   "execution_count": 96,
   "metadata": {},
   "outputs": [
    {
     "name": "stdout",
     "output_type": "stream",
     "text": [
      "Rate: 2\n",
      "Hakkasan has good resident DJ's like Calvin Harris, but the layout of the club is meant for people with bottle service. The dance floor is tiny, and there is pretty much nowhere to sit for people who don't have a table (unless you go to the Ling Ling Lounge, where it's basically empty). If you're able to get a table to let you pass by them to get to the little stage-ish part in front of the dance floor, you can stand there and get a great view. Still had a great time, but wouldn't come back.\n",
      "\n",
      "Rate: 2\n",
      "This club's layout is such that unless you have a table(i.e bottle service), you're basically always kind of uncomfortable. The dance floor is too small for the crowd, the second floor's view to the dance floor is completely blocked by the tables there, so people kind of flow around narrow passage ways up and down the club, and look for somewhere to be able to stand. The layout gives you the feel of being in somewhat of a maze, and it basically is such that it gives the feeling of saying to you; if you didn't get bottle service, your bad!\n",
      "\n",
      "Rate: 3\n",
      "I just wanted to hit a dance club while in Vegas and this one was close in the MGM. I gotta thank my friends for paying for the bottle service and getting us ahead of all the long lines for the bachelor party. Not many clubs in Vegas wanting to let 6 guys in without any females these days! On that note, I had a great time and was glad for the experience. I would say this place was fun, but my favorites in Vegas are still XS and Surrender...\n",
      "\n"
     ]
    }
   ],
   "source": [
    "p1 = positive_feedbacks(case3, 3, embed1, label1)"
   ]
  },
  {
   "cell_type": "markdown",
   "metadata": {},
   "source": [
    "### Embedding 2"
   ]
  },
  {
   "cell_type": "code",
   "execution_count": 98,
   "metadata": {},
   "outputs": [
    {
     "name": "stdout",
     "output_type": "stream",
     "text": [
      "Rate: 1\n",
      "If I could give this establishment zero starts, I would. I don't know whether it's legal to charge customers $10 for water when they are drinking, but that's what happened! There was no option for tap water. They said verbatim in several occasions that it is not their policy to supply water free of cost. Someone is going to die.\n",
      "\n",
      "Rate: 1\n",
      "If I could give 0 stars i would!  Probably the WORST Club ive ever been to! The Amount of People they let in is Ridiculous to the point you cant even move. \n",
      "\n",
      "The Sorry excuse for Bartenders here will ignore you until you somehow manage to pull them your way, they are rude and unfriendly.  A trained monkey can pour a better Jack and Coke. Ordered a Gin and Monster and I got a Red Bull.. ONLY the bull and payed 20 bucks for it. I guess they serve Golden Red Bulls thats what that must have been. It had to be. Wrong! After complaining to the Bar Manager who was even more rude and unhelpful (I see where the \"Bartenders\" get their manners from) I finally got what i thought was my drink but it turned out to be just water. So they charged me $20 for a redbull and a glass of water. \n",
      "\n",
      "After further complaining they just decided to kick my friends and myself out because they didt wanna fix the problem they caused.  \n",
      "\n",
      "Long story short this place is NOTHING more than a piece of Garbage,  people who rave about it must like to be treated like crap.\n",
      "\n",
      "If youre looking to have a good fun time this is not the place! Dont come here unless you wanna be treated rudely.\n",
      "\n",
      "Rate: 1\n",
      "So....After my review, I was contacted by management. They were sorry to hear about my visit at HK and wanted me to come back and really \"experience\" the club with 5 floors, a restaurant, yada yada yada.  So they asked when I would be back.  I told them that I would be back on June 19.  The first manager then emailed a Manager in Customer Relations and she kept in contact with me over the next 3 months.  I was really impressed.  As the date grew near, I was then put in touch with the Director of Guest Services who would be on site that night - that person notified me that I would be given complimentary VIP entry and walked in. (In all honesty, we always use a VIP service that does that anyways.)   She also gave me the name of a contact at the door and a phone number.  I was curious how my new \"experience\" would be different from my old \"experience\", but it was a nice gesture...\n",
      "\n",
      "Anyways, we arrived at HK at 12:15 (not too late, and not too early).  When we arrived, there was a velvet rope out front with a mob of people around it. Nobody was lined up, just a crowd.  My husband and I finally worked our way to the front and said that we were guests of  So & So and showed him the email to prove that I wasn't just throwing a name around.  He looked at us with a blank face and said,  \"We don't have a guest list tonight and I don't know who those people are\".  REALLY????  So he didn't know that Director of Guest Relations?  If HK is trying to make a better name for themselves, they need to teach the door guys names of management....At this point  I was fed up with this place and didn't try to text my \"door contact\".  \n",
      "\n",
      "So, basically, nothing has changed.  Head down the strip to another club...unless you want a cr@ppy \"experience\".\n",
      "\n"
     ]
    }
   ],
   "source": [
    "n1 = negative_feedbacks(case3, 3, embed2, label2)"
   ]
  },
  {
   "cell_type": "code",
   "execution_count": 99,
   "metadata": {},
   "outputs": [
    {
     "name": "stdout",
     "output_type": "stream",
     "text": [
      "Rate: 4\n",
      "I don't know why Hakkasan only has 2.5 star. I had a great time there. Only down side was the over the top priced drinks.\n",
      "\n",
      "Rate: 5\n",
      "When in Vegas this is a must. We went when Lil Jon was the deejay he had the place lit. Great atmosphere and great music only complaint would be the drinks are a bit pricey but thats Vegas for you. I definitely recommend\n",
      "\n",
      "Rate: 5\n",
      "I love this place me and my hubby celebrated our third anniversary there and everyone is so nice and helpful. they also have different sections to the club incas you don't like the music not only that they have an awesome sounds system! awesome lighting \n",
      "I will definitely go back!\n",
      "\n"
     ]
    }
   ],
   "source": [
    "p1 = positive_feedbacks(case3, 3, embed2, label2)"
   ]
  },
  {
   "cell_type": "markdown",
   "metadata": {},
   "source": [
    "### Embedding 3"
   ]
  },
  {
   "cell_type": "code",
   "execution_count": 101,
   "metadata": {},
   "outputs": [
    {
     "name": "stdout",
     "output_type": "stream",
     "text": [
      "Rate: 1\n",
      "If I could give 0 stars i would!  Probably the WORST Club ive ever been to! The Amount of People they let in is Ridiculous to the point you cant even move. \n",
      "\n",
      "The Sorry excuse for Bartenders here will ignore you until you somehow manage to pull them your way, they are rude and unfriendly.  A trained monkey can pour a better Jack and Coke. Ordered a Gin and Monster and I got a Red Bull.. ONLY the bull and payed 20 bucks for it. I guess they serve Golden Red Bulls thats what that must have been. It had to be. Wrong! After complaining to the Bar Manager who was even more rude and unhelpful (I see where the \"Bartenders\" get their manners from) I finally got what i thought was my drink but it turned out to be just water. So they charged me $20 for a redbull and a glass of water. \n",
      "\n",
      "After further complaining they just decided to kick my friends and myself out because they didt wanna fix the problem they caused.  \n",
      "\n",
      "Long story short this place is NOTHING more than a piece of Garbage,  people who rave about it must like to be treated like crap.\n",
      "\n",
      "If youre looking to have a good fun time this is not the place! Dont come here unless you wanna be treated rudely.\n",
      "\n",
      "Rate: 1\n",
      "NEVER GO TO THIS PLACE!\n",
      "\n",
      " The worst experience ever!!! Once we got there we had been lead to the fast line, I was feeling pretty lucky at that moment! BUT the thing what happened next, makes me feel really BAD about this shitty club!!\n",
      "\n",
      "First, one security checked my ID. He couldn't believe the photo is mine, and I'm actually 21! He turned my ID to another security, which also checked it for several times, and asked me sign on a piece of paper for 3 times!!! And they still don't believe it, then the SUPERVISOR showed up, who was a TOTALLY ASSHOLE! I showed the supervisor my student ID, my credit cards and my passport. 4 documents, 3 pictures, and 3 signatures. HE STILL KEPT SAYING THAT I WAS USING AN FAKE ID! I asked him do I look like someone who make fake ID and credit card? He said Yes!!!!! This made me believe that he was being racist because I'm Chinese! Then he suddenly become angry, like I said he is a racist person actually offences him!!! OMG! Then he told me I feel free to leave, nobody asks me to stay here!!  Me and my friends just left at the end!\n",
      "\n",
      "I still can't believe this actually happened tonight. I've never be so humiliated in my life! I showed him bunch of IDs, and he just kept being an ASSHOLE!\n",
      "\n",
      "Rate: 1\n",
      "So....After my review, I was contacted by management. They were sorry to hear about my visit at HK and wanted me to come back and really \"experience\" the club with 5 floors, a restaurant, yada yada yada.  So they asked when I would be back.  I told them that I would be back on June 19.  The first manager then emailed a Manager in Customer Relations and she kept in contact with me over the next 3 months.  I was really impressed.  As the date grew near, I was then put in touch with the Director of Guest Services who would be on site that night - that person notified me that I would be given complimentary VIP entry and walked in. (In all honesty, we always use a VIP service that does that anyways.)   She also gave me the name of a contact at the door and a phone number.  I was curious how my new \"experience\" would be different from my old \"experience\", but it was a nice gesture...\n",
      "\n",
      "Anyways, we arrived at HK at 12:15 (not too late, and not too early).  When we arrived, there was a velvet rope out front with a mob of people around it. Nobody was lined up, just a crowd.  My husband and I finally worked our way to the front and said that we were guests of  So & So and showed him the email to prove that I wasn't just throwing a name around.  He looked at us with a blank face and said,  \"We don't have a guest list tonight and I don't know who those people are\".  REALLY????  So he didn't know that Director of Guest Relations?  If HK is trying to make a better name for themselves, they need to teach the door guys names of management....At this point  I was fed up with this place and didn't try to text my \"door contact\".  \n",
      "\n",
      "So, basically, nothing has changed.  Head down the strip to another club...unless you want a cr@ppy \"experience\".\n",
      "\n"
     ]
    }
   ],
   "source": [
    "n1 = negative_feedbacks(case3, 3, embed3, label3)"
   ]
  },
  {
   "cell_type": "code",
   "execution_count": 102,
   "metadata": {},
   "outputs": [
    {
     "name": "stdout",
     "output_type": "stream",
     "text": [
      "Rate: 4\n",
      "I don't know why Hakkasan only has 2.5 star. I had a great time there. Only down side was the over the top priced drinks.\n",
      "\n",
      "Rate: 5\n",
      "Fun and great place!\n",
      "\n",
      "Partied here recently in Vegas...what an amazing time.\n",
      "\n",
      "Great memories and dancing here.\n",
      "\n",
      "Rate: 5\n",
      "When in Vegas this is a must. We went when Lil Jon was the deejay he had the place lit. Great atmosphere and great music only complaint would be the drinks are a bit pricey but thats Vegas for you. I definitely recommend\n",
      "\n"
     ]
    }
   ],
   "source": [
    "p1 = positive_feedbacks(case3, 3, embed3, label3)"
   ]
  },
  {
   "cell_type": "code",
   "execution_count": 103,
   "metadata": {},
   "outputs": [
    {
     "data": {
      "image/png": "[encoded data removed]",
      "text/plain": [
       "<matplotlib.figure.Figure at 0x1a2949fc88>"
      ]
     },
     "metadata": {},
     "output_type": "display_data"
    }
   ],
   "source": [
    "# plt.hist(p1, alpha = 0.3)\n",
    "plt.hist(p2, alpha = 0.3, label=\"embedding 2\")\n",
    "plt.hist(p3, alpha = 0.3, label=\"embedding 3\")\n",
    "plt.legend()\n",
    "plt.show()"
   ]
  },
  {
   "cell_type": "markdown",
   "metadata": {},
   "source": [
    "## Analysis "
   ]
  },
  {
   "cell_type": "markdown",
   "metadata": {},
   "source": [
    "The embedding 1 failed to extract reviews with positive sentiment while other embeddings were able to filter positive reviews."
   ]
  },
  {
   "cell_type": "code",
   "execution_count": null,
   "metadata": {
    "collapsed": true
   },
   "outputs": [],
   "source": []
  }
 ],
 "metadata": {
  "kernelspec": {
   "display_name": "Python 3",
   "language": "python",
   "name": "python3"
  },
  "language_info": {
   "codemirror_mode": {
    "name": "ipython",
    "version": 3
   },
   "file_extension": ".py",
   "mimetype": "text/x-python",
   "name": "python",
   "nbconvert_exporter": "python",
   "pygments_lexer": "ipython3",
   "version": "3.6.1"
  }
 },
 "nbformat": 4,
 "nbformat_minor": 2
}
