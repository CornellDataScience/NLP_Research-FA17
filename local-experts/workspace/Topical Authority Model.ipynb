{
 "cells": [
  {
   "cell_type": "markdown",
   "metadata": {},
   "source": [
    "# Topical Authority Model"
   ]
  },
  {
   "cell_type": "code",
   "execution_count": 1,
   "metadata": {},
   "outputs": [
    {
     "name": "stdout",
     "output_type": "stream",
     "text": [
      "/Users/Brandon/Yelp Dataset/Yelp-FA17/local-elites/workspace\n",
      "['.DS_Store', 'business.json', 'checkin.json', 'photos.json', 'Pizza Clusters.png', 'review.json', 'review5000.json', 'tip.json', 'user.json', 'user5000.json']\n"
     ]
    }
   ],
   "source": [
    "import pandas as pd\n",
    "import numpy as np\n",
    "import nltk\n",
    "from nltk.corpus import stopwords\n",
    "import operator\n",
    "import os\n",
    "print(os.getcwd())\n",
    "print(os.listdir('/Users/Brandon/Yelp Dataset/dataset'))\n",
    "import json\n",
    "import glob\n",
    "from datetime import datetime\n",
    "from pandas import HDFStore,DataFrame\n",
    "import operator\n",
    "import pylab as pl\n",
    "import json\n",
    "\n",
    "import matplotlib.pyplot as plt; plt.rcdefaults()\n",
    "import matplotlib.pyplot as plt\n",
    "import matplotlib"
   ]
  },
  {
   "cell_type": "code",
   "execution_count": 2,
   "metadata": {
    "collapsed": true
   },
   "outputs": [],
   "source": [
    "#Copied from Kenta\n",
    "def load_json_to_df(datapass):\n",
    "    '''\n",
    "    Load the json file and parse the file to pandas dataframe format\n",
    "    \n",
    "    Input:\n",
    "        datapass(str) : directory to the json file\n",
    "    Output:\n",
    "        df(dataframe) : pandas dataframe object\n",
    "    '''\n",
    "    \n",
    "    data = [] \n",
    "    with open(datapass) as data_file: \n",
    "        for f in data_file:\n",
    "            data.append(json.loads(f))\n",
    "    df = pd.DataFrame(data)\n",
    "    return df"
   ]
  },
  {
   "cell_type": "markdown",
   "metadata": {},
   "source": [
    "LOAD THE DATA"
   ]
  },
  {
   "cell_type": "code",
   "execution_count": 3,
   "metadata": {},
   "outputs": [
    {
     "name": "stdout",
     "output_type": "stream",
     "text": [
      "CPU times: user 1min 5s, sys: 18.9 s, total: 1min 24s\n",
      "Wall time: 1min 30s\n"
     ]
    }
   ],
   "source": [
    "%%time\n",
    "import_file = \"/Users/Brandon/Yelp Dataset/dataset/review.json\"\n",
    "review = load_json_to_df(import_file)\n",
    "review = review.drop('text', 1)"
   ]
  },
  {
   "cell_type": "code",
   "execution_count": 4,
   "metadata": {},
   "outputs": [
    {
     "name": "stdout",
     "output_type": "stream",
     "text": [
      "CPU times: user 4.8 s, sys: 329 ms, total: 5.13 s\n",
      "Wall time: 5.19 s\n"
     ]
    }
   ],
   "source": [
    "%%time\n",
    "import_file = \"/Users/Brandon/Yelp Dataset/dataset/business.json\"\n",
    "business = load_json_to_df(import_file)"
   ]
  },
  {
   "cell_type": "code",
   "execution_count": 5,
   "metadata": {},
   "outputs": [
    {
     "name": "stdout",
     "output_type": "stream",
     "text": [
      "CPU times: user 47.3 s, sys: 5.8 s, total: 53.1 s\n",
      "Wall time: 56 s\n"
     ]
    }
   ],
   "source": [
    "%%time\n",
    "import_file = \"/Users/Brandon/Yelp Dataset/dataset/user.json\"\n",
    "user = load_json_to_df(import_file)"
   ]
  },
  {
   "cell_type": "markdown",
   "metadata": {},
   "source": [
    "Sort by category"
   ]
  },
  {
   "cell_type": "code",
   "execution_count": 6,
   "metadata": {
    "collapsed": true
   },
   "outputs": [],
   "source": [
    "def categoryFind(df, cat):\n",
    "    return [cat in i for i in df['categories']]\n",
    "\n",
    "def category_counts_subset(df, cat):\n",
    "    df = df.iloc[list(np.where(categoryFind(df, cat))[0])]\n",
    "    return(category_counts(df))\n",
    "\n",
    "def category_counts(df):\n",
    "    all_cats = []\n",
    "    for i in df['categories']:\n",
    "        for j in i:\n",
    "            all_cats.append(j)\n",
    "    categories = set(all_cats)\n",
    "    category_counts = {}\n",
    "    for cat in categories:\n",
    "        category_counts[cat] = all_cats.count(cat)\n",
    "    return len(categories), category_counts\n",
    "\n",
    "def top_categories(counts, n):\n",
    "    top_categories = sorted(counts.keys(), key=(lambda k: counts[k]),reverse=True)[:n]\n",
    "    return top_categories\n",
    "\n",
    "def top_cats_counts(df, cat, n):\n",
    "    if not cat=='':\n",
    "        num_cats, cat_counts = category_counts_subset(df, cat)\n",
    "    else:\n",
    "        num_cats, cat_counts = category_counts(df)\n",
    "    top_cats = top_categories(cat_counts, n)\n",
    "    counts = []\n",
    "    for i in range(0,len(top_cats)):\n",
    "        counts.append(cat_counts[top_cats[i]])\n",
    "    return pd.DataFrame({'Category' : top_cats, 'No. of Businesses' : counts})"
   ]
  },
  {
   "cell_type": "code",
   "execution_count": 7,
   "metadata": {
    "scrolled": true
   },
   "outputs": [
    {
     "name": "stdout",
     "output_type": "stream",
     "text": [
      "\\begin{tabular}{llr}\n",
      "\\toprule\n",
      "{} &          Category &  No. of Businesses \\\\\n",
      "\\midrule\n",
      "0 &       Restaurants &              51613 \\\\\n",
      "1 &          Shopping &              24595 \\\\\n",
      "2 &              Food &              23014 \\\\\n",
      "3 &     Beauty \\& Spas &              15139 \\\\\n",
      "4 &     Home Services &              13202 \\\\\n",
      "5 &  Health \\& Medical &              12033 \\\\\n",
      "6 &         Nightlife &              11364 \\\\\n",
      "7 &              Bars &               9868 \\\\\n",
      "8 &        Automotive &               9476 \\\\\n",
      "9 &    Local Services &               9343 \\\\\n",
      "\\bottomrule\n",
      "\\end{tabular}\n",
      "\n"
     ]
    }
   ],
   "source": [
    "print(top_cats_counts(business, '', 10).to_latex(index_names=False))"
   ]
  },
  {
   "cell_type": "code",
   "execution_count": 8,
   "metadata": {
    "collapsed": true
   },
   "outputs": [],
   "source": [
    "top_cats = top_cats_counts(business, 'Restaurants', 100)"
   ]
  },
  {
   "cell_type": "code",
   "execution_count": 9,
   "metadata": {},
   "outputs": [
    {
     "data": {
      "text/html": [
       "<div>\n",
       "<style>\n",
       "    .dataframe thead tr:only-child th {\n",
       "        text-align: right;\n",
       "    }\n",
       "\n",
       "    .dataframe thead th {\n",
       "        text-align: left;\n",
       "    }\n",
       "\n",
       "    .dataframe tbody tr th {\n",
       "        vertical-align: top;\n",
       "    }\n",
       "</style>\n",
       "<table border=\"1\" class=\"dataframe\">\n",
       "  <thead>\n",
       "    <tr style=\"text-align: right;\">\n",
       "      <th></th>\n",
       "      <th>Category</th>\n",
       "      <th>No. of Businesses</th>\n",
       "    </tr>\n",
       "  </thead>\n",
       "  <tbody>\n",
       "    <tr>\n",
       "      <th>1</th>\n",
       "      <td>Food</td>\n",
       "      <td>9599</td>\n",
       "    </tr>\n",
       "    <tr>\n",
       "      <th>2</th>\n",
       "      <td>Nightlife</td>\n",
       "      <td>6969</td>\n",
       "    </tr>\n",
       "    <tr>\n",
       "      <th>3</th>\n",
       "      <td>Bars</td>\n",
       "      <td>6690</td>\n",
       "    </tr>\n",
       "    <tr>\n",
       "      <th>4</th>\n",
       "      <td>Sandwiches</td>\n",
       "      <td>5864</td>\n",
       "    </tr>\n",
       "    <tr>\n",
       "      <th>5</th>\n",
       "      <td>Fast Food</td>\n",
       "      <td>5792</td>\n",
       "    </tr>\n",
       "    <tr>\n",
       "      <th>6</th>\n",
       "      <td>American (Traditional)</td>\n",
       "      <td>5737</td>\n",
       "    </tr>\n",
       "    <tr>\n",
       "      <th>7</th>\n",
       "      <td>Pizza</td>\n",
       "      <td>5652</td>\n",
       "    </tr>\n",
       "    <tr>\n",
       "      <th>8</th>\n",
       "      <td>Italian</td>\n",
       "      <td>4411</td>\n",
       "    </tr>\n",
       "    <tr>\n",
       "      <th>9</th>\n",
       "      <td>Burgers</td>\n",
       "      <td>4236</td>\n",
       "    </tr>\n",
       "    <tr>\n",
       "      <th>10</th>\n",
       "      <td>Breakfast &amp; Brunch</td>\n",
       "      <td>4103</td>\n",
       "    </tr>\n",
       "    <tr>\n",
       "      <th>11</th>\n",
       "      <td>Mexican</td>\n",
       "      <td>3913</td>\n",
       "    </tr>\n",
       "    <tr>\n",
       "      <th>12</th>\n",
       "      <td>American (New)</td>\n",
       "      <td>3802</td>\n",
       "    </tr>\n",
       "    <tr>\n",
       "      <th>13</th>\n",
       "      <td>Chinese</td>\n",
       "      <td>3775</td>\n",
       "    </tr>\n",
       "    <tr>\n",
       "      <th>14</th>\n",
       "      <td>Cafes</td>\n",
       "      <td>2812</td>\n",
       "    </tr>\n",
       "    <tr>\n",
       "      <th>15</th>\n",
       "      <td>Coffee &amp; Tea</td>\n",
       "      <td>2365</td>\n",
       "    </tr>\n",
       "    <tr>\n",
       "      <th>16</th>\n",
       "      <td>Japanese</td>\n",
       "      <td>2186</td>\n",
       "    </tr>\n",
       "    <tr>\n",
       "      <th>17</th>\n",
       "      <td>Chicken Wings</td>\n",
       "      <td>2019</td>\n",
       "    </tr>\n",
       "    <tr>\n",
       "      <th>18</th>\n",
       "      <td>Seafood</td>\n",
       "      <td>1981</td>\n",
       "    </tr>\n",
       "    <tr>\n",
       "      <th>19</th>\n",
       "      <td>Event Planning &amp; Services</td>\n",
       "      <td>1860</td>\n",
       "    </tr>\n",
       "    <tr>\n",
       "      <th>20</th>\n",
       "      <td>Salad</td>\n",
       "      <td>1850</td>\n",
       "    </tr>\n",
       "    <tr>\n",
       "      <th>21</th>\n",
       "      <td>Sushi Bars</td>\n",
       "      <td>1833</td>\n",
       "    </tr>\n",
       "    <tr>\n",
       "      <th>22</th>\n",
       "      <td>Delis</td>\n",
       "      <td>1564</td>\n",
       "    </tr>\n",
       "    <tr>\n",
       "      <th>23</th>\n",
       "      <td>Asian Fusion</td>\n",
       "      <td>1554</td>\n",
       "    </tr>\n",
       "    <tr>\n",
       "      <th>24</th>\n",
       "      <td>Mediterranean</td>\n",
       "      <td>1482</td>\n",
       "    </tr>\n",
       "    <tr>\n",
       "      <th>25</th>\n",
       "      <td>Sports Bars</td>\n",
       "      <td>1427</td>\n",
       "    </tr>\n",
       "    <tr>\n",
       "      <th>26</th>\n",
       "      <td>Barbeque</td>\n",
       "      <td>1413</td>\n",
       "    </tr>\n",
       "    <tr>\n",
       "      <th>27</th>\n",
       "      <td>Canadian (New)</td>\n",
       "      <td>1357</td>\n",
       "    </tr>\n",
       "    <tr>\n",
       "      <th>28</th>\n",
       "      <td>Specialty Food</td>\n",
       "      <td>1327</td>\n",
       "    </tr>\n",
       "    <tr>\n",
       "      <th>29</th>\n",
       "      <td>Steakhouses</td>\n",
       "      <td>1311</td>\n",
       "    </tr>\n",
       "    <tr>\n",
       "      <th>30</th>\n",
       "      <td>Thai</td>\n",
       "      <td>1291</td>\n",
       "    </tr>\n",
       "    <tr>\n",
       "      <th>...</th>\n",
       "      <td>...</td>\n",
       "      <td>...</td>\n",
       "    </tr>\n",
       "    <tr>\n",
       "      <th>70</th>\n",
       "      <td>Pakistani</td>\n",
       "      <td>349</td>\n",
       "    </tr>\n",
       "    <tr>\n",
       "      <th>71</th>\n",
       "      <td>Venues &amp; Event Spaces</td>\n",
       "      <td>347</td>\n",
       "    </tr>\n",
       "    <tr>\n",
       "      <th>72</th>\n",
       "      <td>Shopping</td>\n",
       "      <td>334</td>\n",
       "    </tr>\n",
       "    <tr>\n",
       "      <th>73</th>\n",
       "      <td>British</td>\n",
       "      <td>318</td>\n",
       "    </tr>\n",
       "    <tr>\n",
       "      <th>74</th>\n",
       "      <td>Tapas Bars</td>\n",
       "      <td>310</td>\n",
       "    </tr>\n",
       "    <tr>\n",
       "      <th>75</th>\n",
       "      <td>Hotels &amp; Travel</td>\n",
       "      <td>309</td>\n",
       "    </tr>\n",
       "    <tr>\n",
       "      <th>76</th>\n",
       "      <td>Music Venues</td>\n",
       "      <td>302</td>\n",
       "    </tr>\n",
       "    <tr>\n",
       "      <th>77</th>\n",
       "      <td>Fish &amp; Chips</td>\n",
       "      <td>300</td>\n",
       "    </tr>\n",
       "    <tr>\n",
       "      <th>78</th>\n",
       "      <td>Noodles</td>\n",
       "      <td>263</td>\n",
       "    </tr>\n",
       "    <tr>\n",
       "      <th>79</th>\n",
       "      <td>Food Stands</td>\n",
       "      <td>255</td>\n",
       "    </tr>\n",
       "    <tr>\n",
       "      <th>80</th>\n",
       "      <td>Hotels</td>\n",
       "      <td>252</td>\n",
       "    </tr>\n",
       "    <tr>\n",
       "      <th>81</th>\n",
       "      <td>Hawaiian</td>\n",
       "      <td>249</td>\n",
       "    </tr>\n",
       "    <tr>\n",
       "      <th>82</th>\n",
       "      <td>Imported Food</td>\n",
       "      <td>236</td>\n",
       "    </tr>\n",
       "    <tr>\n",
       "      <th>83</th>\n",
       "      <td>Soul Food</td>\n",
       "      <td>235</td>\n",
       "    </tr>\n",
       "    <tr>\n",
       "      <th>84</th>\n",
       "      <td>Cajun/Creole</td>\n",
       "      <td>230</td>\n",
       "    </tr>\n",
       "    <tr>\n",
       "      <th>85</th>\n",
       "      <td>Dim Sum</td>\n",
       "      <td>230</td>\n",
       "    </tr>\n",
       "    <tr>\n",
       "      <th>86</th>\n",
       "      <td>Portuguese</td>\n",
       "      <td>221</td>\n",
       "    </tr>\n",
       "    <tr>\n",
       "      <th>87</th>\n",
       "      <td>Modern European</td>\n",
       "      <td>216</td>\n",
       "    </tr>\n",
       "    <tr>\n",
       "      <th>88</th>\n",
       "      <td>Breweries</td>\n",
       "      <td>211</td>\n",
       "    </tr>\n",
       "    <tr>\n",
       "      <th>89</th>\n",
       "      <td>Creperies</td>\n",
       "      <td>210</td>\n",
       "    </tr>\n",
       "    <tr>\n",
       "      <th>90</th>\n",
       "      <td>Dive Bars</td>\n",
       "      <td>206</td>\n",
       "    </tr>\n",
       "    <tr>\n",
       "      <th>91</th>\n",
       "      <td>Chicken Shop</td>\n",
       "      <td>204</td>\n",
       "    </tr>\n",
       "    <tr>\n",
       "      <th>92</th>\n",
       "      <td>Active Life</td>\n",
       "      <td>199</td>\n",
       "    </tr>\n",
       "    <tr>\n",
       "      <th>93</th>\n",
       "      <td>Swabian</td>\n",
       "      <td>196</td>\n",
       "    </tr>\n",
       "    <tr>\n",
       "      <th>94</th>\n",
       "      <td>Spanish</td>\n",
       "      <td>186</td>\n",
       "    </tr>\n",
       "    <tr>\n",
       "      <th>95</th>\n",
       "      <td>Filipino</td>\n",
       "      <td>176</td>\n",
       "    </tr>\n",
       "    <tr>\n",
       "      <th>96</th>\n",
       "      <td>Beer Bar</td>\n",
       "      <td>175</td>\n",
       "    </tr>\n",
       "    <tr>\n",
       "      <th>97</th>\n",
       "      <td>Street Vendors</td>\n",
       "      <td>175</td>\n",
       "    </tr>\n",
       "    <tr>\n",
       "      <th>98</th>\n",
       "      <td>Irish</td>\n",
       "      <td>174</td>\n",
       "    </tr>\n",
       "    <tr>\n",
       "      <th>99</th>\n",
       "      <td>Cheesesteaks</td>\n",
       "      <td>173</td>\n",
       "    </tr>\n",
       "  </tbody>\n",
       "</table>\n",
       "<p>99 rows × 2 columns</p>\n",
       "</div>"
      ],
      "text/plain": [
       "                     Category  No. of Businesses\n",
       "1                        Food               9599\n",
       "2                   Nightlife               6969\n",
       "3                        Bars               6690\n",
       "4                  Sandwiches               5864\n",
       "5                   Fast Food               5792\n",
       "6      American (Traditional)               5737\n",
       "7                       Pizza               5652\n",
       "8                     Italian               4411\n",
       "9                     Burgers               4236\n",
       "10         Breakfast & Brunch               4103\n",
       "11                    Mexican               3913\n",
       "12             American (New)               3802\n",
       "13                    Chinese               3775\n",
       "14                      Cafes               2812\n",
       "15               Coffee & Tea               2365\n",
       "16                   Japanese               2186\n",
       "17              Chicken Wings               2019\n",
       "18                    Seafood               1981\n",
       "19  Event Planning & Services               1860\n",
       "20                      Salad               1850\n",
       "21                 Sushi Bars               1833\n",
       "22                      Delis               1564\n",
       "23               Asian Fusion               1554\n",
       "24              Mediterranean               1482\n",
       "25                Sports Bars               1427\n",
       "26                   Barbeque               1413\n",
       "27             Canadian (New)               1357\n",
       "28             Specialty Food               1327\n",
       "29                Steakhouses               1311\n",
       "30                       Thai               1291\n",
       "..                        ...                ...\n",
       "70                  Pakistani                349\n",
       "71      Venues & Event Spaces                347\n",
       "72                   Shopping                334\n",
       "73                    British                318\n",
       "74                 Tapas Bars                310\n",
       "75            Hotels & Travel                309\n",
       "76               Music Venues                302\n",
       "77               Fish & Chips                300\n",
       "78                    Noodles                263\n",
       "79                Food Stands                255\n",
       "80                     Hotels                252\n",
       "81                   Hawaiian                249\n",
       "82              Imported Food                236\n",
       "83                  Soul Food                235\n",
       "84               Cajun/Creole                230\n",
       "85                    Dim Sum                230\n",
       "86                 Portuguese                221\n",
       "87            Modern European                216\n",
       "88                  Breweries                211\n",
       "89                  Creperies                210\n",
       "90                  Dive Bars                206\n",
       "91               Chicken Shop                204\n",
       "92                Active Life                199\n",
       "93                    Swabian                196\n",
       "94                    Spanish                186\n",
       "95                   Filipino                176\n",
       "96                   Beer Bar                175\n",
       "97             Street Vendors                175\n",
       "98                      Irish                174\n",
       "99               Cheesesteaks                173\n",
       "\n",
       "[99 rows x 2 columns]"
      ]
     },
     "execution_count": 9,
     "metadata": {},
     "output_type": "execute_result"
    }
   ],
   "source": [
    "top_cats[1:]"
   ]
  },
  {
   "cell_type": "code",
   "execution_count": 10,
   "metadata": {},
   "outputs": [
    {
     "name": "stdout",
     "output_type": "stream",
     "text": [
      "CPU times: user 41.5 s, sys: 8.63 s, total: 50.1 s\n",
      "Wall time: 53 s\n"
     ]
    }
   ],
   "source": [
    "%%time\n",
    "businessReviews = pd.merge(review, business,on='business_id',right_index=True,sort=False)[['business_id', 'cool', 'funny', 'review_id', 'stars_x', 'useful', 'user_id', 'categories', 'review_count', 'stars_y']]\n",
    "bus_rev_users = pd.merge(businessReviews, user,on='user_id',right_index=True,sort=False)[['business_id', 'cool_x', 'funny_x', 'review_id', 'stars_x', 'useful_x', 'user_id', 'categories', 'stars_y', 'average_stars', 'cool_y', 'elite', 'fans', 'friends', 'name', 'review_count_y', 'yelping_since']]"
   ]
  },
  {
   "cell_type": "markdown",
   "metadata": {},
   "source": [
    "## Feature Extraction From Yelp Data"
   ]
  },
  {
   "cell_type": "code",
   "execution_count": 11,
   "metadata": {
    "collapsed": true
   },
   "outputs": [],
   "source": [
    "def category_choose(df, categories):\n",
    "    cats = np.array([True] * len(df['categories']))\n",
    "    for cat in categories:\n",
    "        cats= cats & np.array(categoryFind(df,cat))\n",
    "    return df[cats]\n",
    "\n",
    "def numCategoryReviews(businessReviews):\n",
    "    return businessReviews[['business_id','user_id']].groupby('user_id',as_index=False).count()\n",
    "\n",
    "def uniqueCategoryReviews(businessReviews):\n",
    "    return businessReviews[['business_id','user_id']].drop_duplicates().groupby('user_id',as_index=False).count()\n",
    "\n",
    "def average_star_category_rating(businessReviews):\n",
    "    return businessReviews[['user_id','stars_x']].groupby('user_id',as_index=False).mean()\n",
    "\n",
    "def std_star_category_rating(businessReviews):\n",
    "    busRev = businessReviews[['user_id','stars_x']].groupby('user_id',as_index=False).agg(np.var)\n",
    "    busRev['stars_x'] = busRev['stars_x'].pow(1./2)\n",
    "    return busRev\n",
    "\n",
    "def funny_useful_cool(businessReviews):\n",
    "    return businessReviews[['user_id','funny','useful','cool']].groupby('user_id',as_index=False).sum()\n",
    "\n",
    "def months_yelping(businessReviews):\n",
    "    user_dates = businessReviews[['user_id','yelping_since']].drop_duplicates('user_id')\n",
    "    curr_date = datetime(2017,10,17)\n",
    "    uyelp_dates = [datetime.strptime(i, \"%Y-%m-%d\") for i in user_dates['yelping_since']]\n",
    "    months_yelping = [(curr_date.year - i.year) * 12 + curr_date.month - i.month for i in uyelp_dates]\n",
    "    user_dates['yelping_since'] = months_yelping\n",
    "    return user_dates\n",
    "\n",
    "def get_elite_users(df):\n",
    "    temp = []\n",
    "    for i in df['elite'].index.values:\n",
    "        if df['elite'][i]:\n",
    "            temp.append(i)\n",
    "    return temp, df.loc[temp]"
   ]
  },
  {
   "cell_type": "markdown",
   "metadata": {},
   "source": [
    "## Define the first feature model to be analyzed\n",
    "Features: Total Reviews by User, Number of Category Reviews, Average Rating in Category, Std Dev of Ratings in Category, Funny, Useful, and Cool Votes, Number of Months since joining Yelp."
   ]
  },
  {
   "cell_type": "code",
   "execution_count": 12,
   "metadata": {
    "collapsed": true
   },
   "outputs": [],
   "source": [
    "def feature1(df, df1, categories):\n",
    "    if( not categories == \"All\"):\n",
    "        df = category_choose(df, categories)\n",
    "        df1 = category_choose(df1, categories)\n",
    "    \n",
    "    tot_reviews = df1[['user_id','review_count_y']]\n",
    "    tot_reviews.columns = ['user_id','Total Reviews by User']\n",
    "    tot_reviews.drop_duplicates('user_id')\n",
    "    \n",
    "    catRev = numCategoryReviews(df)\n",
    "    catRev.columns = ['user_id','Num Category Reviews']\n",
    "    \n",
    "    uniqueRev = uniqueCategoryReviews(df)\n",
    "    uniqueRev.columns = ['user_id','Unique Category Reviews']\n",
    "    \n",
    "    averageCat = average_star_category_rating(df)\n",
    "    averageCat.columns = ['user_id','Average Rating in Category']\n",
    "    \n",
    "    stdCat = std_star_category_rating(df)\n",
    "    stdCat.columns = ['user_id','Std Dev of Ratings in Category']\n",
    "    \n",
    "    fuc = funny_useful_cool(df)\n",
    "    \n",
    "    monthsYelp = months_yelping(df1)\n",
    "    monthsYelp.columns = ['user_id', 'Months Yelping']\n",
    "    \n",
    "    is_elite = df1[['user_id','elite']]\n",
    "    \n",
    "    features = tot_reviews.merge(catRev,on='user_id').merge(uniqueRev,on='user_id').merge(averageCat,on='user_id').merge(stdCat,on='user_id').merge(fuc,on='user_id').merge(monthsYelp,on='user_id').merge(is_elite,on='user_id')\n",
    "    features = features.drop_duplicates('user_id')\n",
    "    features.index = range(len(features))\n",
    "    \n",
    "    elite_ind, elite_users = get_elite_users(features)\n",
    "    expertClassifier = [0]*len(features)\n",
    "    for i in elite_ind:\n",
    "        expertClassifier[i]=1\n",
    "    features = pd.concat([features, pd.DataFrame(expertClassifier,columns=['is_expert'])],axis=1)\n",
    "    return features.fillna(0)\n",
    "\n",
    "# Feature 2 has all of feature 1 plus the number of friends for each user\n",
    "def feature2(df, df1, categories, features1 = pd.DataFrame()):\n",
    "    if features1.empty:\n",
    "        features1= feature1(df,df1,categories)\n",
    "    \n",
    "    friends = pd.DataFrame([len(i) for i in df1['friends']], columns = ['Num_Friends'])\n",
    "    users = pd.DataFrame(df1['user_id'].values,columns=['user_id'])\n",
    "    num_friends = pd.concat([users, friends],axis=1)\n",
    "    features1= features1.merge(num_friends,on='user_id').drop_duplicates('user_id')\n",
    "    features1.index = range(len(features1))\n",
    "    return features1"
   ]
  },
  {
   "cell_type": "markdown",
   "metadata": {},
   "source": [
    "# Unsupervised Learning\n",
    "## Kmeans Cluster"
   ]
  },
  {
   "cell_type": "code",
   "execution_count": 13,
   "metadata": {
    "collapsed": true
   },
   "outputs": [],
   "source": [
    "'''Runs the model specified by the clf (classifier), and features.\n",
    "Features is assumed to have an 'is_expert' column which gives comparisons to unsupervised learning'''\n",
    "from sklearn.cluster import KMeans\n",
    "def run_unsup_model(clf, features):\n",
    "    train = features.drop('is_expert',axis=1)\n",
    "    clf.fit(train)\n",
    "    rf_pred = clf.predict(train)\n",
    "    model_perf= {'Model_Score' : clf.score(train),\n",
    "                'Predictions' : rf_pred,\n",
    "                'Total_Tested' : len(rf_pred),\n",
    "                'Num_Experts_Predicted' : sum(rf_pred),\n",
    "                'Num_Non_Experts' : sum(1-rf_pred),\n",
    "                'Cluster_Centers' : clf.cluster_centers_,\n",
    "                'Cluster_Points' : clf.transform(train)} \n",
    "    return model_perf\n",
    "\n",
    "def graph_clusters(model):\n",
    "    x = model['Cluster_Points'][:,0]\n",
    "    y = model['Cluster_Points'][:,1]\n",
    "    labels = model['Predictions']\n",
    "    plt.scatter(x, y, c=[matplotlib.cm.spectral(float(i) /10) for i in labels]);   \n",
    "    plt.show()\n",
    "\n",
    "def add_pred_column(model, features):\n",
    "    return features.assign(preds=pd.Series(model['Predictions']).values)\n",
    "\n",
    "def unsup_statistics(model, features):\n",
    "    features = add_pred_column(model, features)\n",
    "    return {'Num_Experts' : sum(features.is_expert),\n",
    "            'Num_Experts_Predicted' : sum(features.preds),\n",
    "            'Intersection' : sum(features.is_expert & features.preds)}\n",
    "\n",
    "def kmeans_model(n_clusters, X, feature_set):\n",
    "    clf_KMeans = KMeans(n_clusters=n_clusters)\n",
    "    model_test = run_unsup_model(clf_KMeans, X)\n",
    "    display(graph_clusters(model_test))\n",
    "    display(unsup_statistics(model_test, X))\n",
    "    predictions = add_pred_column(model_test, feature_set)\n",
    "    return predictions"
   ]
  },
  {
   "cell_type": "markdown",
   "metadata": {},
   "source": [
    "## Evaluation Model"
   ]
  },
  {
   "cell_type": "code",
   "execution_count": 14,
   "metadata": {
    "collapsed": true
   },
   "outputs": [],
   "source": [
    "from sklearn.metrics import mean_squared_error\n",
    "def evaluate_category(businessReviews, categories, category_features):\n",
    "    bus_revs = category_choose(businessReviews, categories)[['business_id', 'review_id', 'user_id', 'stars_x', 'stars_y',]]\n",
    "    \n",
    "    cat_feat = category_features[['user_id', 'preds']]\n",
    "    \n",
    "    bus_revs_preds = pd.merge(bus_revs, cat_feat, on='user_id',right_index=True,sort=False).sort_values('business_id')\n",
    "    bus_revs_preds.index = range(len(bus_revs_preds['business_id']))\n",
    "    \n",
    "    topic_evaluate = pd.DataFrame(columns=[['business_id', 'expert_stars','num_experts', 'avg_exp_stars', 'user_stars','num_users', 'avg_user_stars']])\n",
    "    topic_evaluate['business_id']= bus_revs_preds.drop_duplicates('business_id')['business_id']\n",
    "    topic_evaluate.index = range(len(topic_evaluate['business_id']))\n",
    "    \n",
    "    for i in range(0, len(topic_evaluate)):\n",
    "        temp_bid = topic_evaluate['business_id'][i]\n",
    "        temp_bus = bus_revs_preds[bus_revs_preds.business_id.isin([temp_bid])]\n",
    "        temp_experts = temp_bus[temp_bus.preds==1]\n",
    "        temp_users = temp_bus[temp_bus.preds==0]\n",
    "        topic_evaluate['expert_stars'][i] = temp_experts['stars_x'].sum()\n",
    "        topic_evaluate['num_experts'][i] = len(temp_experts)\n",
    "        topic_evaluate['avg_exp_stars'][i] = temp_experts['stars_x'].mean()\n",
    "        topic_evaluate['user_stars'][i] = temp_users['stars_x'].sum()\n",
    "        topic_evaluate['num_users'][i] = len(temp_users)\n",
    "        topic_evaluate['avg_user_stars'][i] = temp_users['stars_x'].mean()\n",
    "    return topic_evaluate\n",
    "\n",
    "def evaluate_category_stats(cat_evals, categories, plot):\n",
    "    num_bus = len(cat_evals)\n",
    "    cat_evals = cat_evals.dropna()\n",
    "    diffs = (cat_evals['avg_exp_stars'] - cat_evals['avg_user_stars'])\n",
    "    if(plot):\n",
    "        diffs.plot(kind='hist')\n",
    "        plt.show()\n",
    "        \n",
    "        tmp1 = []\n",
    "        for i in range(1,30):\n",
    "            tmp1.append(len(cat_evals[cat_evals.num_experts==i]))\n",
    "        pd.DataFrame(tmp1,columns=['Frequency']).plot(y='Frequency')\n",
    "        plt.show()\n",
    "        \n",
    "    num_bus_with_experts = len(diffs)\n",
    "    mean_diff = abs(diffs).mean()\n",
    "    avg_user_stars = cat_evals['avg_user_stars'].mean()\n",
    "    if not cat_evals['avg_exp_stars'].empty:\n",
    "        MSE = mean_squared_error(cat_evals['avg_user_stars'], cat_evals['avg_exp_stars'])\n",
    "        avg_expert_stars = cat_evals['avg_exp_stars'].mean() \n",
    "    else:\n",
    "        MSE = np.nan\n",
    "        avg_expert_stars = np.nan\n",
    "    cat_dict = {'Categories': categories, \n",
    "                'Number of Businesses' : num_bus, \n",
    "                'Number of Businesses with Experts' : num_bus_with_experts,\n",
    "                'MAE' : mean_diff, \n",
    "                'MSE' : MSE, \n",
    "                'Average Expert Stars' : avg_expert_stars, \n",
    "                'Average User Stars': avg_user_stars}\n",
    "    return cat_dict\n",
    "    \n",
    "def evaluate_category_single(businessReviews, categories, category_features, plot):\n",
    "    return evaluate_category_stats(evaluate_category(businessReviews, categories, category_features), categories, plot)\n",
    "\n",
    "def evaluate_categories(businessReviews, bus_rev_users, categories, plot):\n",
    "    evaluation = pd.DataFrame()\n",
    "    if type(categories) == str:\n",
    "        categories = [categories]\n",
    "    for cat in categories:\n",
    "        if type(cat) == str:\n",
    "            cat = [cat]\n",
    "        feature_set = feature1(businessReviews, bus_rev_users, cat)\n",
    "        if feature_set.empty:\n",
    "            continue\n",
    "        X = feature_set.drop('user_id',axis=1).drop('elite',axis=1)\n",
    "        cat_features = kmeans_model(n_clusters = 2, X=X, feature_set = feature_set)\n",
    "        this_eval = evaluate_category_single(businessReviews, cat, cat_features, plot)\n",
    "        display(this_eval)\n",
    "        evaluation = evaluation.append(pd.DataFrame(pd.Series(this_eval)).transpose())\n",
    "    return evaluation"
   ]
  },
  {
   "cell_type": "code",
   "execution_count": 15,
   "metadata": {
    "scrolled": false
   },
   "outputs": [
    {
     "data": {
      "image/png": "[encoded data removed]",
      "text/plain": [
       "<matplotlib.figure.Figure at 0x1a13b718d0>"
      ]
     },
     "metadata": {},
     "output_type": "display_data"
    },
    {
     "data": {
      "text/plain": [
       "None"
      ]
     },
     "metadata": {},
     "output_type": "display_data"
    },
    {
     "data": {
      "text/plain": [
       "{'Intersection': 3296, 'Num_Experts': 17405, 'Num_Experts_Predicted': 3644}"
      ]
     },
     "metadata": {},
     "output_type": "display_data"
    },
    {
     "data": {
      "image/png": "[encoded data removed]",
      "text/plain": [
       "<matplotlib.figure.Figure at 0x1b5a2b7eb8>"
      ]
     },
     "metadata": {},
     "output_type": "display_data"
    },
    {
     "data": {
      "image/png": "[encoded data removed]",
      "text/plain": [
       "<matplotlib.figure.Figure at 0x1aab99c7b8>"
      ]
     },
     "metadata": {},
     "output_type": "display_data"
    },
    {
     "data": {
      "text/plain": [
       "{'Average Expert Stars': 3.4850418984767457,\n",
       " 'Average User Stars': 3.4265188576815748,\n",
       " 'Categories': ['Pizza', 'Restaurants'],\n",
       " 'MAE': 0.6634629823608873,\n",
       " 'MSE': 0.7927006022998444,\n",
       " 'Number of Businesses': 5652,\n",
       " 'Number of Businesses with Experts': 3179}"
      ]
     },
     "metadata": {},
     "output_type": "display_data"
    }
   ],
   "source": [
    "single_cat = evaluate_categories(businessReviews, bus_rev_users, [['Pizza','Restaurants']], True)"
   ]
  },
  {
   "cell_type": "code",
   "execution_count": 25,
   "metadata": {},
   "outputs": [
    {
     "data": {
      "text/html": [
       "<div>\n",
       "<style>\n",
       "    .dataframe thead tr:only-child th {\n",
       "        text-align: right;\n",
       "    }\n",
       "\n",
       "    .dataframe thead th {\n",
       "        text-align: left;\n",
       "    }\n",
       "\n",
       "    .dataframe tbody tr th {\n",
       "        vertical-align: top;\n",
       "    }\n",
       "</style>\n",
       "<table border=\"1\" class=\"dataframe\">\n",
       "  <thead>\n",
       "    <tr style=\"text-align: right;\">\n",
       "      <th></th>\n",
       "      <th>Average Expert Stars</th>\n",
       "      <th>Average User Stars</th>\n",
       "      <th>Categories</th>\n",
       "      <th>MAE</th>\n",
       "      <th>MSE</th>\n",
       "      <th>Number of Businesses</th>\n",
       "      <th>Number of Businesses with Experts</th>\n",
       "    </tr>\n",
       "  </thead>\n",
       "  <tbody>\n",
       "    <tr>\n",
       "      <th>0</th>\n",
       "      <td>3.48504</td>\n",
       "      <td>3.42652</td>\n",
       "      <td>[Pizza, Restaurants]</td>\n",
       "      <td>0.663463</td>\n",
       "      <td>0.792701</td>\n",
       "      <td>5652</td>\n",
       "      <td>3179</td>\n",
       "    </tr>\n",
       "  </tbody>\n",
       "</table>\n",
       "</div>"
      ],
      "text/plain": [
       "  Average Expert Stars Average User Stars            Categories       MAE  \\\n",
       "0              3.48504            3.42652  [Pizza, Restaurants]  0.663463   \n",
       "\n",
       "        MSE Number of Businesses Number of Businesses with Experts  \n",
       "0  0.792701                 5652                              3179  "
      ]
     },
     "metadata": {},
     "output_type": "display_data"
    }
   ],
   "source": [
    "display(single_cat)"
   ]
  },
  {
   "cell_type": "code",
   "execution_count": 30,
   "metadata": {},
   "outputs": [
    {
     "name": "stdout",
     "output_type": "stream",
     "text": [
      "\\begin{tabular}{llllll}\n",
      "\\toprule\n",
      "{} &            Categories &       MAE &       MSE & Number of Businesses & Number of Businesses with Experts \\\\\n",
      "\\midrule\n",
      "0 &  [Pizza, Restaurants] &  0.663463 &  0.792701 &                 5652 &                              3179 \\\\\n",
      "\\bottomrule\n",
      "\\end{tabular}\n",
      "\n"
     ]
    }
   ],
   "source": [
    "print(single_cat[['Categories','MAE','MSE','Number of Businesses','Number of Businesses with Experts']].to_latex())"
   ]
  },
  {
   "cell_type": "code",
   "execution_count": 17,
   "metadata": {},
   "outputs": [
    {
     "name": "stdout",
     "output_type": "stream",
     "text": [
      "CPU times: user 4 µs, sys: 0 ns, total: 4 µs\n",
      "Wall time: 6.91 µs\n"
     ]
    }
   ],
   "source": [
    "%%time\n",
    "#EVALUATION = evaluate_categories(businessReviews, bus_rev_users, list(top_cats[1:].Category), False)"
   ]
  },
  {
   "cell_type": "code",
   "execution_count": 18,
   "metadata": {
    "collapsed": true
   },
   "outputs": [],
   "source": [
    "#EVALUATION"
   ]
  },
  {
   "cell_type": "code",
   "execution_count": 19,
   "metadata": {
    "collapsed": true
   },
   "outputs": [],
   "source": [
    "#out = EVALUATION.to_json(orient='records', lines=True)"
   ]
  },
  {
   "cell_type": "code",
   "execution_count": 20,
   "metadata": {
    "collapsed": true
   },
   "outputs": [],
   "source": [
    "#with open('../evaluation/category_evaluation.txt', 'w') as f:\n",
    "    #f.write(out)"
   ]
  },
  {
   "cell_type": "code",
   "execution_count": 42,
   "metadata": {
    "collapsed": true
   },
   "outputs": [
    {
     "name": "stdout",
     "output_type": "stream",
     "text": [
      "\\begin{tabular}{llrrrr}\n",
      "\\toprule\n",
      "{} &                   Categories &       MAE &       MSE &  Number of Businesses &  Number of Businesses with Experts \\\\\n",
      "\\midrule\n",
      "0  &                       [Food] &  0.621355 &  0.728023 &                 23014 &                              16780 \\\\\n",
      "1  &                  [Nightlife] &  0.529098 &  0.553666 &                 11364 &                               8664 \\\\\n",
      "2  &                       [Bars] &  0.517141 &  0.530943 &                  9868 &                               7610 \\\\\n",
      "3  &                 [Sandwiches] &  0.626472 &  0.721940 &                  5864 &                               3917 \\\\\n",
      "4  &                  [Fast Food] &  0.785715 &  1.037209 &                  5792 &                               3375 \\\\\n",
      "5  &     [American (Traditional)] &  0.552084 &  0.577423 &                  5737 &                               4428 \\\\\n",
      "6  &                      [Pizza] &  0.663463 &  0.792701 &                  5652 &                               3179 \\\\\n",
      "7  &                    [Italian] &  0.586844 &  0.637572 &                  4411 &                               2828 \\\\\n",
      "8  &                    [Burgers] &  0.668778 &  0.822420 &                  4236 &                               2920 \\\\\n",
      "9  &         [Breakfast \\& Brunch] &  0.520828 &  0.537614 &                  4103 &                               3180 \\\\\n",
      "10 &                    [Mexican] &  0.612205 &  0.681817 &                  3913 &                               2751 \\\\\n",
      "11 &             [American (New)] &  0.476821 &  0.460479 &                  3802 &                               3093 \\\\\n",
      "12 &                    [Chinese] &  0.584842 &  0.633067 &                  3775 &                               2478 \\\\\n",
      "13 &                      [Cafes] &  0.577827 &  0.638674 &                  2812 &                               1749 \\\\\n",
      "14 &               [Coffee \\& Tea] &  0.616216 &  0.685857 &                  5565 &                               3860 \\\\\n",
      "15 &                   [Japanese] &  0.521920 &  0.495257 &                  2186 &                               1658 \\\\\n",
      "16 &              [Chicken Wings] &  0.740284 &  0.934404 &                  2019 &                               1136 \\\\\n",
      "17 &                    [Seafood] &  0.506835 &  0.478674 &                  1981 &                               1487 \\\\\n",
      "18 &  [Event Planning \\& Services] &  0.605917 &  0.706447 &                  8038 &                               4503 \\\\\n",
      "19 &                      [Salad] &  0.571266 &  0.584189 &                  1850 &                               1275 \\\\\n",
      "20 &                 [Sushi Bars] &  0.517792 &  0.508354 &                  1833 &                               1332 \\\\\n",
      "21 &                      [Delis] &  0.612368 &  0.681249 &                  1564 &                                984 \\\\\n",
      "22 &               [Asian Fusion] &  0.520482 &  0.508863 &                  1554 &                               1115 \\\\\n",
      "23 &              [Mediterranean] &  0.580983 &  0.625337 &                  1482 &                                939 \\\\\n",
      "24 &                [Sports Bars] &  0.548548 &  0.542362 &                  1781 &                               1252 \\\\\n",
      "25 &                   [Barbeque] &  0.580198 &  0.618040 &                  1413 &                                982 \\\\\n",
      "26 &             [Canadian (New)] &  0.540431 &  0.515630 &                  1357 &                                749 \\\\\n",
      "27 &             [Specialty Food] &  0.557530 &  0.600614 &                  3620 &                               2186 \\\\\n",
      "28 &                [Steakhouses] &  0.492998 &  0.456563 &                  1311 &                               1013 \\\\\n",
      "29 &                       [Thai] &  0.561244 &  0.568897 &                  1291 &                                855 \\\\\n",
      "30 &                     [Indian] &  0.580127 &  0.596135 &                  1289 &                                661 \\\\\n",
      "31 &                       [Pubs] &  0.497740 &  0.483507 &                  2024 &                               1485 \\\\\n",
      "32 &                   [Caterers] &  0.585989 &  0.637740 &                  1714 &                               1005 \\\\\n",
      "33 &                   [Bakeries] &  0.575669 &  0.632179 &                  3014 &                               1948 \\\\\n",
      "34 &                   [Desserts] &  0.515023 &  0.512716 &                  2419 &                               1718 \\\\\n",
      "35 &                     [Diners] &  0.559957 &  0.560445 &                  1132 &                                783 \\\\\n",
      "36 &             [Middle Eastern] &  0.637157 &  0.711357 &                   958 &                                587 \\\\\n",
      "37 &                      [Greek] &  0.586468 &  0.608289 &                   956 &                                586 \\\\\n",
      "38 &                     [French] &  0.498166 &  0.475922 &                   952 &                                603 \\\\\n",
      "39 &                 [Vietnamese] &  0.559550 &  0.555898 &                   928 &                                625 \\\\\n",
      "40 &                 [Vegetarian] &  0.478209 &  0.447760 &                   889 &                                662 \\\\\n",
      "41 &                  [Wine Bars] &  0.454947 &  0.425366 &                   978 &                                717 \\\\\n",
      "42 &                       [Beer] &  0.529093 &  0.535560 &                  1657 &                               1197 \\\\\n",
      "43 &             [Wine \\& Spirits] &  0.529093 &  0.535560 &                  1657 &                               1197 \\\\\n",
      "44 &                    [Buffets] &  0.583744 &  0.619237 &                   743 &                                547 \\\\\n",
      "45 &       [Arts \\& Entertainment] &  0.551997 &  0.611507 &                  5054 &                               3451 \\\\\n",
      "46 &                     [Korean] &  0.542197 &  0.545643 &                   697 &                                540 \\\\\n",
      "47 &                    [Lounges] &  0.533867 &  0.560422 &                  1346 &                                968 \\\\\n",
      "48 &              [Cocktail Bars] &  0.479695 &  0.462479 &                   894 &                                667 \\\\\n",
      "49 &                    [Tex-Mex] &  0.643292 &  0.740124 &                   644 &                                405 \\\\\n",
      "\\bottomrule\n",
      "\\end{tabular}\n",
      "\n"
     ]
    }
   ],
   "source": [
    "fh = load_json_to_df('../evaluation/Top100RestaurantCats.txt')\n",
    "print(fh[['Categories','MAE','MSE','Number of Businesses','Number of Businesses with Experts']][0:50].to_latex())"
   ]
  },
  {
   "cell_type": "code",
   "execution_count": 55,
   "metadata": {},
   "outputs": [
    {
     "data": {
      "text/plain": [
       "0.78196384384949591"
      ]
     },
     "metadata": {},
     "output_type": "display_data"
    },
    {
     "data": {
      "text/plain": [
       "0.5716681009646466"
      ]
     },
     "metadata": {},
     "output_type": "display_data"
    }
   ],
   "source": [
    "display(np.sqrt(fh['MSE'].mean()))\n",
    "display(fh['MAE'].mean())\n"
   ]
  }
 ],
 "metadata": {
  "kernelspec": {
   "display_name": "Python 3",
   "language": "python",
   "name": "python3"
  },
  "language_info": {
   "codemirror_mode": {
    "name": "ipython",
    "version": 3
   },
   "file_extension": ".py",
   "mimetype": "text/x-python",
   "name": "python",
   "nbconvert_exporter": "python",
   "pygments_lexer": "ipython3",
   "version": "3.6.2"
  }
 },
 "nbformat": 4,
 "nbformat_minor": 2
}
