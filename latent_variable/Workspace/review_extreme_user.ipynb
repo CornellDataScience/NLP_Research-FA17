{
 "cells": [
  {
   "cell_type": "code",
   "execution_count": 2,
   "metadata": {},
   "outputs": [],
   "source": [
    "%matplotlib inline\n",
    "import pandas as pd\n",
    "import numpy as np\n",
    "import nltk\n",
    "from nltk.corpus import stopwords\n",
    "import operator\n",
    "import seaborn as sns\n",
    "import json\n",
    "import matplotlib.pyplot as plt"
   ]
  },
  {
   "cell_type": "code",
   "execution_count": 3,
   "metadata": {
    "collapsed": true
   },
   "outputs": [],
   "source": [
    "def load_json_to_df(datapass):\n",
    "    data = [] \n",
    "    with open(datapass) as data_file: \n",
    "        for f in data_file:\n",
    "            data.append(json.loads(f))\n",
    "    df = pd.DataFrame(data)\n",
    "    return df"
   ]
  },
  {
   "cell_type": "code",
   "execution_count": 5,
   "metadata": {},
   "outputs": [],
   "source": [
    "business = load_json_to_df(\"business.json\")"
   ]
  },
  {
   "cell_type": "code",
   "execution_count": 6,
   "metadata": {
    "collapsed": true
   },
   "outputs": [],
   "source": [
    "review = load_json_to_df(\"review.json\")"
   ]
  },
  {
   "cell_type": "code",
   "execution_count": 7,
   "metadata": {
    "collapsed": true
   },
   "outputs": [],
   "source": [
    "user = load_json_to_df(\"user.json\")"
   ]
  },
  {
   "cell_type": "code",
   "execution_count": 8,
   "metadata": {},
   "outputs": [
    {
     "data": {
      "text/html": [
       "<div>\n",
       "<style>\n",
       "    .dataframe thead tr:only-child th {\n",
       "        text-align: right;\n",
       "    }\n",
       "\n",
       "    .dataframe thead th {\n",
       "        text-align: left;\n",
       "    }\n",
       "\n",
       "    .dataframe tbody tr th {\n",
       "        vertical-align: top;\n",
       "    }\n",
       "</style>\n",
       "<table border=\"1\" class=\"dataframe\">\n",
       "  <thead>\n",
       "    <tr style=\"text-align: right;\">\n",
       "      <th></th>\n",
       "      <th>address</th>\n",
       "      <th>attributes</th>\n",
       "      <th>business_id</th>\n",
       "      <th>categories</th>\n",
       "      <th>city</th>\n",
       "      <th>hours</th>\n",
       "      <th>is_open</th>\n",
       "      <th>latitude</th>\n",
       "      <th>longitude</th>\n",
       "      <th>name</th>\n",
       "      <th>neighborhood</th>\n",
       "      <th>postal_code</th>\n",
       "      <th>review_count</th>\n",
       "      <th>stars</th>\n",
       "      <th>state</th>\n",
       "    </tr>\n",
       "  </thead>\n",
       "  <tbody>\n",
       "    <tr>\n",
       "      <th>0</th>\n",
       "      <td>691 Richmond Rd</td>\n",
       "      <td>{'RestaurantsPriceRange2': 2, 'BusinessParking...</td>\n",
       "      <td>YDf95gJZaq05wvo7hTQbbQ</td>\n",
       "      <td>[Shopping, Shopping Centers]</td>\n",
       "      <td>Richmond Heights</td>\n",
       "      <td>{'Monday': '10:00-21:00', 'Tuesday': '10:00-21...</td>\n",
       "      <td>1</td>\n",
       "      <td>41.541716</td>\n",
       "      <td>-81.493116</td>\n",
       "      <td>Richmond Town Square</td>\n",
       "      <td></td>\n",
       "      <td>44143</td>\n",
       "      <td>17</td>\n",
       "      <td>2.0</td>\n",
       "      <td>OH</td>\n",
       "    </tr>\n",
       "    <tr>\n",
       "      <th>1</th>\n",
       "      <td>2824 Milton Rd</td>\n",
       "      <td>{'GoodForMeal': {'dessert': False, 'latenight'...</td>\n",
       "      <td>mLwM-h2YhXl2NCgdS84_Bw</td>\n",
       "      <td>[Food, Soul Food, Convenience Stores, Restaura...</td>\n",
       "      <td>Charlotte</td>\n",
       "      <td>{'Monday': '10:00-22:00', 'Tuesday': '10:00-22...</td>\n",
       "      <td>0</td>\n",
       "      <td>35.236870</td>\n",
       "      <td>-80.741976</td>\n",
       "      <td>South Florida Style Chicken &amp; Ribs</td>\n",
       "      <td>Eastland</td>\n",
       "      <td>28215</td>\n",
       "      <td>4</td>\n",
       "      <td>4.5</td>\n",
       "      <td>NC</td>\n",
       "    </tr>\n",
       "  </tbody>\n",
       "</table>\n",
       "</div>"
      ],
      "text/plain": [
       "           address                                         attributes  \\\n",
       "0  691 Richmond Rd  {'RestaurantsPriceRange2': 2, 'BusinessParking...   \n",
       "1   2824 Milton Rd  {'GoodForMeal': {'dessert': False, 'latenight'...   \n",
       "\n",
       "              business_id                                         categories  \\\n",
       "0  YDf95gJZaq05wvo7hTQbbQ                       [Shopping, Shopping Centers]   \n",
       "1  mLwM-h2YhXl2NCgdS84_Bw  [Food, Soul Food, Convenience Stores, Restaura...   \n",
       "\n",
       "               city                                              hours  \\\n",
       "0  Richmond Heights  {'Monday': '10:00-21:00', 'Tuesday': '10:00-21...   \n",
       "1         Charlotte  {'Monday': '10:00-22:00', 'Tuesday': '10:00-22...   \n",
       "\n",
       "   is_open   latitude  longitude                                name  \\\n",
       "0        1  41.541716 -81.493116                Richmond Town Square   \n",
       "1        0  35.236870 -80.741976  South Florida Style Chicken & Ribs   \n",
       "\n",
       "  neighborhood postal_code  review_count  stars state  \n",
       "0                    44143            17    2.0    OH  \n",
       "1     Eastland       28215             4    4.5    NC  "
      ]
     },
     "execution_count": 8,
     "metadata": {},
     "output_type": "execute_result"
    }
   ],
   "source": [
    "business.head(2)"
   ]
  },
  {
   "cell_type": "code",
   "execution_count": 9,
   "metadata": {},
   "outputs": [
    {
     "data": {
      "text/html": [
       "<div>\n",
       "<style>\n",
       "    .dataframe thead tr:only-child th {\n",
       "        text-align: right;\n",
       "    }\n",
       "\n",
       "    .dataframe thead th {\n",
       "        text-align: left;\n",
       "    }\n",
       "\n",
       "    .dataframe tbody tr th {\n",
       "        vertical-align: top;\n",
       "    }\n",
       "</style>\n",
       "<table border=\"1\" class=\"dataframe\">\n",
       "  <thead>\n",
       "    <tr style=\"text-align: right;\">\n",
       "      <th></th>\n",
       "      <th>business_id</th>\n",
       "      <th>cool</th>\n",
       "      <th>date</th>\n",
       "      <th>funny</th>\n",
       "      <th>review_id</th>\n",
       "      <th>stars</th>\n",
       "      <th>text</th>\n",
       "      <th>useful</th>\n",
       "      <th>user_id</th>\n",
       "    </tr>\n",
       "  </thead>\n",
       "  <tbody>\n",
       "    <tr>\n",
       "      <th>0</th>\n",
       "      <td>uYHaNptLzDLoV_JZ_MuzUA</td>\n",
       "      <td>0</td>\n",
       "      <td>2016-07-12</td>\n",
       "      <td>0</td>\n",
       "      <td>VfBHSwC5Vz_pbFluy07i9Q</td>\n",
       "      <td>5</td>\n",
       "      <td>My girlfriend and I stayed here for 3 nights a...</td>\n",
       "      <td>0</td>\n",
       "      <td>cjpdDjZyprfyDG3RlkVG3w</td>\n",
       "    </tr>\n",
       "    <tr>\n",
       "      <th>1</th>\n",
       "      <td>uYHaNptLzDLoV_JZ_MuzUA</td>\n",
       "      <td>0</td>\n",
       "      <td>2016-10-02</td>\n",
       "      <td>0</td>\n",
       "      <td>3zRpneRKDsOPq92tq7ybAA</td>\n",
       "      <td>3</td>\n",
       "      <td>If you need an inexpensive place to stay for a...</td>\n",
       "      <td>0</td>\n",
       "      <td>bjTcT8Ty4cJZhEOEo01FGA</td>\n",
       "    </tr>\n",
       "  </tbody>\n",
       "</table>\n",
       "</div>"
      ],
      "text/plain": [
       "              business_id  cool        date  funny               review_id  \\\n",
       "0  uYHaNptLzDLoV_JZ_MuzUA     0  2016-07-12      0  VfBHSwC5Vz_pbFluy07i9Q   \n",
       "1  uYHaNptLzDLoV_JZ_MuzUA     0  2016-10-02      0  3zRpneRKDsOPq92tq7ybAA   \n",
       "\n",
       "   stars                                               text  useful  \\\n",
       "0      5  My girlfriend and I stayed here for 3 nights a...       0   \n",
       "1      3  If you need an inexpensive place to stay for a...       0   \n",
       "\n",
       "                  user_id  \n",
       "0  cjpdDjZyprfyDG3RlkVG3w  \n",
       "1  bjTcT8Ty4cJZhEOEo01FGA  "
      ]
     },
     "execution_count": 9,
     "metadata": {},
     "output_type": "execute_result"
    }
   ],
   "source": [
    "review.head(2)"
   ]
  },
  {
   "cell_type": "code",
   "execution_count": 10,
   "metadata": {},
   "outputs": [
    {
     "data": {
      "text/html": [
       "<div>\n",
       "<style>\n",
       "    .dataframe thead tr:only-child th {\n",
       "        text-align: right;\n",
       "    }\n",
       "\n",
       "    .dataframe thead th {\n",
       "        text-align: left;\n",
       "    }\n",
       "\n",
       "    .dataframe tbody tr th {\n",
       "        vertical-align: top;\n",
       "    }\n",
       "</style>\n",
       "<table border=\"1\" class=\"dataframe\">\n",
       "  <thead>\n",
       "    <tr style=\"text-align: right;\">\n",
       "      <th></th>\n",
       "      <th>average_stars</th>\n",
       "      <th>compliment_cool</th>\n",
       "      <th>compliment_cute</th>\n",
       "      <th>compliment_funny</th>\n",
       "      <th>compliment_hot</th>\n",
       "      <th>compliment_list</th>\n",
       "      <th>compliment_more</th>\n",
       "      <th>compliment_note</th>\n",
       "      <th>compliment_photos</th>\n",
       "      <th>compliment_plain</th>\n",
       "      <th>...</th>\n",
       "      <th>cool</th>\n",
       "      <th>elite</th>\n",
       "      <th>fans</th>\n",
       "      <th>friends</th>\n",
       "      <th>funny</th>\n",
       "      <th>name</th>\n",
       "      <th>review_count</th>\n",
       "      <th>useful</th>\n",
       "      <th>user_id</th>\n",
       "      <th>yelping_since</th>\n",
       "    </tr>\n",
       "  </thead>\n",
       "  <tbody>\n",
       "    <tr>\n",
       "      <th>0</th>\n",
       "      <td>3.80</td>\n",
       "      <td>5174</td>\n",
       "      <td>284</td>\n",
       "      <td>5174</td>\n",
       "      <td>5175</td>\n",
       "      <td>78</td>\n",
       "      <td>299</td>\n",
       "      <td>1435</td>\n",
       "      <td>7829</td>\n",
       "      <td>7397</td>\n",
       "      <td>...</td>\n",
       "      <td>16856</td>\n",
       "      <td>[2014, 2016, 2013, 2011, 2012, 2015, 2010, 2017]</td>\n",
       "      <td>209</td>\n",
       "      <td>[M19NwFwAXKRZzt8koF11hQ, QRcMZ8pJJBBZaKubHOoMD...</td>\n",
       "      <td>16605</td>\n",
       "      <td>Cin</td>\n",
       "      <td>272</td>\n",
       "      <td>17019</td>\n",
       "      <td>lsSiIjAKVl-QRxKjRErBeg</td>\n",
       "      <td>2010-07-13</td>\n",
       "    </tr>\n",
       "    <tr>\n",
       "      <th>1</th>\n",
       "      <td>3.94</td>\n",
       "      <td>1556</td>\n",
       "      <td>211</td>\n",
       "      <td>1556</td>\n",
       "      <td>1285</td>\n",
       "      <td>101</td>\n",
       "      <td>134</td>\n",
       "      <td>1295</td>\n",
       "      <td>162</td>\n",
       "      <td>2134</td>\n",
       "      <td>...</td>\n",
       "      <td>40110</td>\n",
       "      <td>[2014, 2017, 2011, 2012, 2015, 2009, 2013, 200...</td>\n",
       "      <td>835</td>\n",
       "      <td>[eoSSJzdprj3jxXyi94vDXg, QF0urZa-0bxga17ZeY-9l...</td>\n",
       "      <td>10882</td>\n",
       "      <td>Andrea</td>\n",
       "      <td>2559</td>\n",
       "      <td>83681</td>\n",
       "      <td>om5ZiponkpRqUNa3pVPiRg</td>\n",
       "      <td>2006-01-18</td>\n",
       "    </tr>\n",
       "  </tbody>\n",
       "</table>\n",
       "<p>2 rows × 22 columns</p>\n",
       "</div>"
      ],
      "text/plain": [
       "   average_stars  compliment_cool  compliment_cute  compliment_funny  \\\n",
       "0           3.80             5174              284              5174   \n",
       "1           3.94             1556              211              1556   \n",
       "\n",
       "   compliment_hot  compliment_list  compliment_more  compliment_note  \\\n",
       "0            5175               78              299             1435   \n",
       "1            1285              101              134             1295   \n",
       "\n",
       "   compliment_photos  compliment_plain      ...         cool  \\\n",
       "0               7829              7397      ...        16856   \n",
       "1                162              2134      ...        40110   \n",
       "\n",
       "                                               elite  fans  \\\n",
       "0   [2014, 2016, 2013, 2011, 2012, 2015, 2010, 2017]   209   \n",
       "1  [2014, 2017, 2011, 2012, 2015, 2009, 2013, 200...   835   \n",
       "\n",
       "                                             friends  funny    name  \\\n",
       "0  [M19NwFwAXKRZzt8koF11hQ, QRcMZ8pJJBBZaKubHOoMD...  16605     Cin   \n",
       "1  [eoSSJzdprj3jxXyi94vDXg, QF0urZa-0bxga17ZeY-9l...  10882  Andrea   \n",
       "\n",
       "   review_count useful                 user_id  yelping_since  \n",
       "0           272  17019  lsSiIjAKVl-QRxKjRErBeg     2010-07-13  \n",
       "1          2559  83681  om5ZiponkpRqUNa3pVPiRg     2006-01-18  \n",
       "\n",
       "[2 rows x 22 columns]"
      ]
     },
     "execution_count": 10,
     "metadata": {},
     "output_type": "execute_result"
    }
   ],
   "source": [
    "user.head(2)"
   ]
  },
  {
   "cell_type": "code",
   "execution_count": 12,
   "metadata": {},
   "outputs": [
    {
     "data": {
      "text/plain": [
       "<matplotlib.axes._subplots.AxesSubplot at 0x1121c4208>"
      ]
     },
     "execution_count": 12,
     "metadata": {},
     "output_type": "execute_result"
    },
    {
     "data": {
      "image/png": "[encoded data removed]",
      "text/plain": [
       "<matplotlib.figure.Figure at 0x1121b4240>"
      ]
     },
     "metadata": {},
     "output_type": "display_data"
    }
   ],
   "source": [
    "sns.distplot(user[\"average_stars\"])"
   ]
  },
  {
   "cell_type": "code",
   "execution_count": 19,
   "metadata": {},
   "outputs": [
    {
     "data": {
      "text/plain": [
       "<matplotlib.axes._subplots.AxesSubplot at 0x112b163c8>"
      ]
     },
     "execution_count": 19,
     "metadata": {},
     "output_type": "execute_result"
    },
    {
     "data": {
      "image/png": "[encoded data removed]",
      "text/plain": [
       "<matplotlib.figure.Figure at 0x1125e8c88>"
      ]
     },
     "metadata": {},
     "output_type": "display_data"
    }
   ],
   "source": [
    "user_10 = user.loc[user['fans']>10]\n",
    "user_10_250 = user_10.loc[user_10['fans']<250]\n",
    "sns.distplot(user_10_250[\"fans\"])"
   ]
  },
  {
   "cell_type": "code",
   "execution_count": 26,
   "metadata": {},
   "outputs": [
    {
     "name": "stderr",
     "output_type": "stream",
     "text": [
      "/Users/xuwenshen/anaconda/lib/python3.6/site-packages/ipykernel_launcher.py:2: UserWarning: Boolean Series key will be reindexed to match DataFrame index.\n",
      "  \n"
     ]
    }
   ],
   "source": [
    "user_1 = user.loc[user[\"average_stars\"]<1.5]\n",
    "user_1_4 = user_1[user[\"average_stars\"] > 4.5]\n",
    "user_filtered = user_1_4[\"user_id\"]"
   ]
  },
  {
   "cell_type": "code",
   "execution_count": 29,
   "metadata": {},
   "outputs": [],
   "source": [
    "# Review posted by users who always give positive or \n",
    "#negative reviews\n",
    "review_1_5_user = review.loc[review[\"user_id\"].isin(user_filtered)]"
   ]
  },
  {
   "cell_type": "code",
   "execution_count": 30,
   "metadata": {
    "collapsed": true
   },
   "outputs": [],
   "source": [
    "# filter all the restaurants\n",
    "is_rest = []\n",
    "for i in business['categories']:\n",
    "    \n",
    "    if 'Restaurants' in i or 'Food' in i:\n",
    "        is_rest.append(True)\n",
    "    else:\n",
    "        is_rest.append(False)\n",
    "restaurants = business.loc[is_rest]"
   ]
  },
  {
   "cell_type": "code",
   "execution_count": 32,
   "metadata": {},
   "outputs": [],
   "source": [
    "# reviews for only restaurants\n",
    "rest_id = restaurants['business_id']\n",
    "rest_review = review.loc[review['business_id'].isin(rest_id)]"
   ]
  },
  {
   "cell_type": "code",
   "execution_count": 34,
   "metadata": {},
   "outputs": [
    {
     "data": {
      "text/html": [
       "<div>\n",
       "<style>\n",
       "    .dataframe thead tr:only-child th {\n",
       "        text-align: right;\n",
       "    }\n",
       "\n",
       "    .dataframe thead th {\n",
       "        text-align: left;\n",
       "    }\n",
       "\n",
       "    .dataframe tbody tr th {\n",
       "        vertical-align: top;\n",
       "    }\n",
       "</style>\n",
       "<table border=\"1\" class=\"dataframe\">\n",
       "  <thead>\n",
       "    <tr style=\"text-align: right;\">\n",
       "      <th></th>\n",
       "      <th>address</th>\n",
       "      <th>attributes</th>\n",
       "      <th>business_id</th>\n",
       "      <th>categories</th>\n",
       "      <th>city</th>\n",
       "      <th>hours</th>\n",
       "      <th>is_open</th>\n",
       "      <th>latitude</th>\n",
       "      <th>longitude</th>\n",
       "      <th>name</th>\n",
       "      <th>neighborhood</th>\n",
       "      <th>postal_code</th>\n",
       "      <th>review_count</th>\n",
       "      <th>stars</th>\n",
       "      <th>state</th>\n",
       "    </tr>\n",
       "  </thead>\n",
       "  <tbody>\n",
       "    <tr>\n",
       "      <th>103325</th>\n",
       "      <td>3655 Las Vegas Blvd S</td>\n",
       "      <td>{'Alcohol': 'full_bar', 'HasTV': False, 'Noise...</td>\n",
       "      <td>4JNXUYY8wbaaDmk3BPzlWw</td>\n",
       "      <td>[French, Steakhouses, Breakfast &amp; Brunch, Rest...</td>\n",
       "      <td>Las Vegas</td>\n",
       "      <td>{'Monday': '7:00-23:00', 'Tuesday': '7:00-23:0...</td>\n",
       "      <td>1</td>\n",
       "      <td>36.112827</td>\n",
       "      <td>-115.172581</td>\n",
       "      <td>Mon Ami Gabi</td>\n",
       "      <td>The Strip</td>\n",
       "      <td>89109</td>\n",
       "      <td>6979</td>\n",
       "      <td>4.0</td>\n",
       "      <td>NV</td>\n",
       "    </tr>\n",
       "    <tr>\n",
       "      <th>125404</th>\n",
       "      <td>3570 S Las Vegas Blvd</td>\n",
       "      <td>{'RestaurantsTableService': True, 'GoodForMeal...</td>\n",
       "      <td>RESDUcs7fIiihp38-d6_6g</td>\n",
       "      <td>[Food, Restaurants, Buffets, Breakfast &amp; Brunc...</td>\n",
       "      <td>Las Vegas</td>\n",
       "      <td>{'Monday': '7:30-22:00', 'Tuesday': '7:30-22:0...</td>\n",
       "      <td>1</td>\n",
       "      <td>36.116113</td>\n",
       "      <td>-115.176222</td>\n",
       "      <td>Bacchanal Buffet</td>\n",
       "      <td>The Strip</td>\n",
       "      <td>89109</td>\n",
       "      <td>6417</td>\n",
       "      <td>4.0</td>\n",
       "      <td>NV</td>\n",
       "    </tr>\n",
       "  </tbody>\n",
       "</table>\n",
       "</div>"
      ],
      "text/plain": [
       "                      address  \\\n",
       "103325  3655 Las Vegas Blvd S   \n",
       "125404  3570 S Las Vegas Blvd   \n",
       "\n",
       "                                               attributes  \\\n",
       "103325  {'Alcohol': 'full_bar', 'HasTV': False, 'Noise...   \n",
       "125404  {'RestaurantsTableService': True, 'GoodForMeal...   \n",
       "\n",
       "                   business_id  \\\n",
       "103325  4JNXUYY8wbaaDmk3BPzlWw   \n",
       "125404  RESDUcs7fIiihp38-d6_6g   \n",
       "\n",
       "                                               categories       city  \\\n",
       "103325  [French, Steakhouses, Breakfast & Brunch, Rest...  Las Vegas   \n",
       "125404  [Food, Restaurants, Buffets, Breakfast & Brunc...  Las Vegas   \n",
       "\n",
       "                                                    hours  is_open   latitude  \\\n",
       "103325  {'Monday': '7:00-23:00', 'Tuesday': '7:00-23:0...        1  36.112827   \n",
       "125404  {'Monday': '7:30-22:00', 'Tuesday': '7:30-22:0...        1  36.116113   \n",
       "\n",
       "         longitude              name neighborhood postal_code  review_count  \\\n",
       "103325 -115.172581      Mon Ami Gabi    The Strip       89109          6979   \n",
       "125404 -115.176222  Bacchanal Buffet    The Strip       89109          6417   \n",
       "\n",
       "        stars state  \n",
       "103325    4.0    NV  \n",
       "125404    4.0    NV  "
      ]
     },
     "execution_count": 34,
     "metadata": {},
     "output_type": "execute_result"
    }
   ],
   "source": [
    "# Restaurant with most reviews\n",
    "rest_top1review = restaurants.sort_values(by ='review_count', ascending=False)\n",
    "rest_top1review[:2]"
   ]
  },
  {
   "cell_type": "code",
   "execution_count": 39,
   "metadata": {},
   "outputs": [],
   "source": [
    "top1_res_review = rest_review.loc[rest_review['business_id']==\"4JNXUYY8wbaaDmk3BPzlWw\"].head(2)"
   ]
  },
  {
   "cell_type": "code",
   "execution_count": 42,
   "metadata": {},
   "outputs": [],
   "source": [
    "# reviews with extreme low rating\n",
    "top1_res_review_1star = top1_res_review.loc[top1_res_review[\"stars\"]<=1]"
   ]
  },
  {
   "cell_type": "code",
   "execution_count": 44,
   "metadata": {},
   "outputs": [
    {
     "data": {
      "text/html": [
       "<div>\n",
       "<style>\n",
       "    .dataframe thead tr:only-child th {\n",
       "        text-align: right;\n",
       "    }\n",
       "\n",
       "    .dataframe thead th {\n",
       "        text-align: left;\n",
       "    }\n",
       "\n",
       "    .dataframe tbody tr th {\n",
       "        vertical-align: top;\n",
       "    }\n",
       "</style>\n",
       "<table border=\"1\" class=\"dataframe\">\n",
       "  <thead>\n",
       "    <tr style=\"text-align: right;\">\n",
       "      <th></th>\n",
       "      <th>business_id</th>\n",
       "      <th>cool</th>\n",
       "      <th>date</th>\n",
       "      <th>funny</th>\n",
       "      <th>review_id</th>\n",
       "      <th>stars</th>\n",
       "      <th>text</th>\n",
       "      <th>useful</th>\n",
       "      <th>user_id</th>\n",
       "    </tr>\n",
       "  </thead>\n",
       "  <tbody>\n",
       "    <tr>\n",
       "      <th>1366372</th>\n",
       "      <td>4JNXUYY8wbaaDmk3BPzlWw</td>\n",
       "      <td>0</td>\n",
       "      <td>2011-02-22</td>\n",
       "      <td>0</td>\n",
       "      <td>WE9eUYf5EV8AxJjl8QZRtA</td>\n",
       "      <td>5</td>\n",
       "      <td>Very chic. Although, the menu items doesnt SCR...</td>\n",
       "      <td>0</td>\n",
       "      <td>K6FpHYwcJYznoXXu8ySZHw</td>\n",
       "    </tr>\n",
       "  </tbody>\n",
       "</table>\n",
       "</div>"
      ],
      "text/plain": [
       "                    business_id  cool        date  funny  \\\n",
       "1366372  4JNXUYY8wbaaDmk3BPzlWw     0  2011-02-22      0   \n",
       "\n",
       "                      review_id  stars  \\\n",
       "1366372  WE9eUYf5EV8AxJjl8QZRtA      5   \n",
       "\n",
       "                                                      text  useful  \\\n",
       "1366372  Very chic. Although, the menu items doesnt SCR...       0   \n",
       "\n",
       "                        user_id  \n",
       "1366372  K6FpHYwcJYznoXXu8ySZHw  "
      ]
     },
     "execution_count": 44,
     "metadata": {},
     "output_type": "execute_result"
    }
   ],
   "source": [
    "# reviews with extreme high rating\n",
    "top1_res_review_1star = top1_res_review.loc[top1_res_review[\"stars\"]>=4.5]\n",
    "top1_res_review_1star.head(2)"
   ]
  },
  {
   "cell_type": "code",
   "execution_count": 48,
   "metadata": {},
   "outputs": [],
   "source": [
    "top1_res_review_1star_text = top1_res_review_1star['text']\n",
    "documents = top1_res_review_1star_text.tolist()"
   ]
  },
  {
   "cell_type": "code",
   "execution_count": 63,
   "metadata": {},
   "outputs": [],
   "source": [
    "\n",
    "from sklearn.feature_extraction.text import TfidfVectorizer, CountVectorizer\n",
    "\n",
    "no_features = 1000\n",
    "\n",
    "# LDA can only use raw term counts for LDA because it is a probabilistic graphical model\n",
    "tf_vectorizer = CountVectorizer(max_features=no_features, stop_words='english')\n",
    "tf = tf_vectorizer.fit_transform(documents)\n",
    "tf_feature_names = tf_vectorizer.get_feature_names()"
   ]
  },
  {
   "cell_type": "code",
   "execution_count": 64,
   "metadata": {},
   "outputs": [],
   "source": [
    "from sklearn.decomposition import NMF, LatentDirichletAllocation\n",
    "\n",
    "no_topics = 100\n",
    "\n",
    "# # Run NMF\n",
    "# nmf = NMF(n_components=no_topics, random_state=1, alpha=.1, l1_ratio=.5, init='nndsvd').fit(tfidf)\n",
    "\n",
    "# # Run LDA\n",
    "lda = LatentDirichletAllocation(n_topics=no_topics, max_iter=5, learning_method='online', learning_offset=50.,random_state=0).fit(tf)"
   ]
  },
  {
   "cell_type": "code",
   "execution_count": 65,
   "metadata": {
    "collapsed": true
   },
   "outputs": [],
   "source": [
    "def display_topics(model, feature_names, no_top_words):\n",
    "    for topic_idx, topic in enumerate(model.components_):\n",
    "        print (\"Topic %d:\" % (topic_idx))\n",
    "        print (\" \".join([feature_names[i]\n",
    "                        for i in topic.argsort()[:-no_top_words - 1:-1]]))\n",
    "\n",
    "no_top_words = 100"
   ]
  },
  {
   "cell_type": "code",
   "execution_count": 66,
   "metadata": {
    "scrolled": false
   },
   "outputs": [
    {
     "name": "stdout",
     "output_type": "stream",
     "text": [
      "Topic 0:\n",
      "choice smoked alright absolutely cream casual cuisine doesnt salmon enjoy proper shreds view sun plate super bellagio noon satisfied chic uncle platter need business just bagel outside service actually hurts water sat capers ordered scream brainwashed places items awesome relax caught gallop sunglasses place looks right simple fountain foods like pile simply love delish high american enjoyed plain shows food come pricing french mind menu didnt cheese\n",
      "Topic 1:\n",
      "shreds places enjoyed awesome cream plain alright choice pricing gallop satisfied foods items business proper cheese menu bellagio pile smoked water capers high scream actually salmon outside sunglasses caught sun noon relax simple come sat cuisine place platter looks plate shows american doesnt simply uncle enjoy view brainwashed delish like right bagel just chic service fountain hurts casual absolutely need didnt food ordered love super french mind\n",
      "Topic 2:\n",
      "like fountain doesnt gallop hurts bellagio brainwashed plate smoked service actually shows caught place casual american chic menu business enjoyed simply alright enjoy need right cuisine love didnt pricing come proper relax food noon awesome plain places view bagel delish satisfied water platter mind uncle sun just capers choice items ordered sunglasses french scream salmon high looks absolutely sat shreds super outside pile cheese simple cream foods\n",
      "Topic 3:\n",
      "sunglasses menu noon enjoy need french brainwashed ordered salmon plate fountain chic pricing just love mind come bellagio outside service delish items business shows platter plain uncle enjoyed casual absolutely place like didnt proper capers scream sat pile choice caught view food relax shreds bagel sun simply awesome places gallop american water actually satisfied smoked high cheese right alright looks cream foods doesnt cuisine hurts simple super\n",
      "Topic 4:\n",
      "cheese fountain bellagio enjoy absolutely caught plate like outside casual cream american place doesnt just awesome sun alright service brainwashed uncle satisfied super view water foods high capers mind salmon proper food looks scream sat business chic come menu sunglasses cuisine love places noon ordered pile simply enjoyed plain right pricing shows actually hurts gallop choice shreds smoked need platter didnt delish french relax simple items bagel\n",
      "Topic 5:\n",
      "right foods platter simple shows fountain gallop plain simply casual sunglasses chic capers didnt like awesome absolutely outside cheese hurts enjoyed just caught service brainwashed delish smoked relax cuisine high food alright uncle satisfied doesnt looks come business choice need water actually bellagio plate noon pricing super sun shreds scream view place enjoy menu places love french cream mind bagel salmon american sat pile ordered items proper\n",
      "Topic 6:\n",
      "business super didnt service love platter places sat view proper awesome pricing foods doesnt bagel casual come menu mind delish relax sunglasses uncle cuisine just need plain water enjoyed fountain shreds hurts gallop simply simple ordered pile like french salmon looks absolutely high bellagio actually sun satisfied scream enjoy outside choice brainwashed smoked shows american place items plate chic cheese caught noon food alright right cream capers\n",
      "Topic 7:\n",
      "right awesome like simple satisfied sat sunglasses proper chic didnt american plain gallop absolutely bagel enjoy view items actually need sun salmon plate alright delish uncle noon choice cream fountain food relax business come super cuisine water platter french scream service capers cheese ordered high smoked bellagio doesnt hurts mind brainwashed simply pile shows looks shreds enjoyed outside places pricing casual place just menu love caught foods\n",
      "Topic 8:\n",
      "looks absolutely caught shreds relax plate service bagel alright capers plain didnt business proper items doesnt right cuisine super food platter sun choice enjoyed sunglasses high casual mind simple hurts enjoy places gallop smoked need water uncle brainwashed come scream fountain awesome delish cheese actually noon french bellagio salmon sat place love american chic satisfied menu cream like outside pile ordered foods simply shows view pricing just\n",
      "Topic 9:\n",
      "shreds pricing food cuisine pile water uncle smoked absolutely relax gallop salmon service need caught didnt right brainwashed plain delish enjoyed alright sat platter super satisfied looks places scream love plate business items choice cheese simple just shows high outside enjoy ordered foods place noon like view sun cream awesome sunglasses bagel american come french simply casual bellagio actually fountain chic hurts mind menu doesnt proper capers\n",
      "Topic 10:\n",
      "places pricing fountain proper sunglasses simply alright ordered mind american scream french come casual enjoy cream need bagel cuisine salmon satisfied looks cheese items service plain smoked like right chic plate water just food delish gallop choice uncle simple doesnt absolutely love place didnt pile actually high super outside shows enjoyed foods relax sun caught bellagio hurts business shreds capers sat platter menu view brainwashed awesome noon\n",
      "Topic 11:\n",
      "shreds high sun like plain doesnt platter chic view proper right places love scream fountain outside need enjoy american gallop french food plate mind choice just noon relax cream salmon come place absolutely water simple cheese bagel capers simply bellagio actually items hurts menu alright satisfied service pile ordered business pricing shows awesome cuisine enjoyed casual smoked looks caught brainwashed delish foods didnt uncle sunglasses sat super\n",
      "Topic 12:\n",
      "mind cheese shreds delish uncle simply salmon actually french water sun sat bellagio food didnt caught love alright come items casual bagel pile chic looks platter choice fountain absolutely satisfied relax business just doesnt proper enjoyed menu scream high foods service simple plate shows need place places gallop sunglasses view hurts outside pricing enjoy ordered right capers cuisine noon cream plain super brainwashed like awesome smoked american\n",
      "Topic 13:\n",
      "french like capers simple platter right shows doesnt smoked view items cheese sun places looks hurts salmon enjoyed come proper foods uncle scream bagel bellagio enjoy plain mind shreds american business sat love simply service choice awesome didnt brainwashed high chic alright actually pricing sunglasses need fountain place casual pile plate cream satisfied just food water gallop outside caught relax delish noon menu cuisine super ordered absolutely\n",
      "Topic 14:\n",
      "place chic fountain right sun places mind cuisine simply uncle sat super hurts didnt enjoy proper brainwashed american caught outside shows view plain absolutely actually choice alright ordered simple delish capers casual cheese water doesnt french service awesome shreds just bagel like sunglasses salmon scream come pile plate food gallop noon smoked love pricing need platter foods business looks items menu satisfied enjoyed cream relax high bellagio\n",
      "Topic 15:\n",
      "absolutely sunglasses simple cheese caught pile smoked awesome love service water food pricing salmon bellagio shows shreds place alright view satisfied casual super need french ordered fountain relax gallop plain cream just sat uncle menu delish proper foods bagel hurts outside chic noon capers places business actually choice plate scream right didnt enjoyed looks items high brainwashed platter enjoy mind doesnt cuisine simply come like sun american\n",
      "Topic 16:\n",
      "chic menu just looks bellagio scream sat cuisine outside awesome enjoy mind sun items doesnt uncle smoked super cream sunglasses food choice business view proper capers love service hurts alright caught brainwashed enjoyed noon salmon places ordered relax simple absolutely casual platter like american satisfied place cheese delish gallop high simply pile plain pricing didnt foods fountain come plate actually right shows need shreds water bagel french\n",
      "Topic 17:\n",
      "enjoy menu shreds plain brainwashed places casual right french salmon smoked water delish bagel cream shows absolutely business sunglasses items gallop ordered simply scream place just looks chic enjoyed bellagio cheese sat like choice american pile need service high pricing actually view noon awesome hurts relax sun capers foods uncle fountain plate platter doesnt super simple alright cuisine outside didnt satisfied caught food love proper mind come\n",
      "Topic 18:\n",
      "caught noon gallop sat outside pricing enjoy shreds cuisine brainwashed choice chic super satisfied like cheese simply shows hurts places view foods service looks menu salmon sunglasses relax casual proper actually food alright cream scream water ordered love simple need smoked business sun just right place french bellagio plain awesome mind items capers didnt pile doesnt enjoyed come high plate absolutely delish fountain bagel uncle american platter\n",
      "Topic 19:\n",
      "pile enjoy scream smoked come view plate awesome items simple uncle cheese proper hurts bagel need just looks american outside didnt like chic places gallop sun foods noon casual actually doesnt fountain place alright high ordered choice water super cuisine caught simply food satisfied shreds delish pricing bellagio cream menu salmon enjoyed french sunglasses capers business plain right shows absolutely platter love brainwashed sat mind service relax\n",
      "Topic 20:\n",
      "caught items simple sat just pricing satisfied noon smoked service cheese right high brainwashed cuisine salmon shows actually platter scream foods bagel awesome mind love pile alright delish menu sunglasses capers casual american enjoyed french uncle plain gallop hurts super absolutely doesnt come water looks cream bellagio fountain plate didnt like relax business simply places shreds chic choice food view outside proper need enjoy ordered sun place\n",
      "Topic 21:\n",
      "smoked super outside service sun chic scream casual water pile come cream enjoy doesnt simply hurts choice like high alright uncle awesome food view bellagio capers need sunglasses pricing didnt actually noon ordered bagel just love delish relax caught foods shreds plain french fountain cuisine enjoyed american places simple shows satisfied right brainwashed plate sat salmon cheese business platter gallop looks absolutely menu items mind place proper\n",
      "Topic 22:\n",
      "didnt simple service love enjoyed bellagio sun smoked casual cheese platter water gallop right sat foods delish pricing places shows cuisine awesome hurts like place uncle capers just business enjoy alright satisfied absolutely chic menu proper bagel need pile caught scream cream come items looks choice outside doesnt view fountain high relax sunglasses simply noon plate ordered actually french brainwashed shreds plain food mind american super salmon\n",
      "Topic 23:\n",
      "delish items outside sun awesome brainwashed places cuisine cream ordered high didnt relax right salmon sunglasses chic foods cheese gallop view mind caught actually place french choice like hurts capers enjoy menu sat fountain platter plain satisfied uncle noon enjoyed simple shreds pricing need just alright american love business doesnt super looks come pile scream plate absolutely casual proper service shows bagel water bellagio food simply smoked\n",
      "Topic 24:\n",
      "super simple satisfied capers casual awesome didnt enjoyed platter love bellagio business menu high gallop looks items foods places simply plate sunglasses plain pile caught sat ordered french view water place pricing right actually hurts doesnt need absolutely smoked bagel salmon chic relax just scream brainwashed service alright cuisine cream delish outside proper choice fountain shreds food enjoy uncle sun cheese mind noon come like shows american\n",
      "Topic 25:\n",
      "super places foods uncle outside water doesnt choice menu love proper capers come cuisine items smoked delish high enjoy enjoyed awesome satisfied absolutely chic cream plate sun view alright actually simply bagel business fountain service casual relax cheese just sunglasses place pile ordered pricing salmon caught like simple hurts noon right brainwashed french shreds scream food gallop mind didnt sat looks bellagio plain american need shows platter\n",
      "Topic 26:\n",
      "simple love need noon enjoy uncle business doesnt fountain proper cream shows like shreds ordered hurts didnt casual food cuisine places plate satisfied smoked french platter sun alright right scream enjoyed pile cheese bagel capers menu water mind bellagio delish items outside chic choice american awesome come simply gallop just pricing super high plain sat actually sunglasses looks brainwashed place relax view salmon service foods caught absolutely\n",
      "Topic 27:\n",
      "french awesome salmon alright doesnt sat scream ordered outside cream plain service hurts absolutely shows foods chic business need food proper like cuisine platter enjoyed shreds fountain noon love relax smoked american capers menu just plate places satisfied delish bellagio pile bagel view choice water sun pricing right didnt simple cheese caught high simply sunglasses items uncle come brainwashed looks enjoy place super casual gallop actually mind\n",
      "Topic 28:\n",
      "satisfied pricing actually just pile looks american need cuisine service high sat gallop sunglasses shreds chic love enjoyed doesnt right plate didnt foods outside brainwashed noon casual delish uncle come bagel bellagio platter salmon fountain caught super relax simply simple scream smoked food hurts place cream places ordered choice items alright enjoy absolutely business awesome sun water menu cheese capers mind shows like french view plain proper\n",
      "Topic 29:\n",
      "fountain super enjoyed gallop business enjoy alright service awesome items ordered smoked bellagio come plate absolutely cheese water doesnt proper delish like choice uncle outside just shreds casual satisfied american brainwashed noon cuisine caught simply mind salmon cream looks view pricing pile actually plain foods sun love shows places hurts platter need high menu sunglasses scream capers chic right food bagel place french sat relax didnt simple\n",
      "Topic 30:\n",
      "place enjoyed sunglasses come places bagel shreds capers uncle alright foods absolutely cuisine plain american menu proper bellagio satisfied salmon noon food didnt shows delish doesnt cheese service pricing sun love fountain cream smoked gallop choice outside brainwashed business high hurts items relax pile water chic ordered like enjoy just plate platter actually caught super scream simple looks right view french awesome simply mind sat casual need\n",
      "Topic 31:\n",
      "shreds simple capers pile mind sun super food salmon enjoy looks alright pricing absolutely business sunglasses delish hurts sat cuisine view water shows foods bagel american satisfied relax choice service high plain items caught noon didnt proper ordered chic love places cheese brainwashed doesnt outside scream actually enjoyed simply platter smoked just french come cream fountain casual plate right like menu gallop place bellagio awesome need uncle\n",
      "Topic 32:\n",
      "view pile actually didnt super awesome casual alright plain mind menu gallop love proper satisfied bellagio cheese platter sun cream french brainwashed water uncle scream items noon choice relax caught foods fountain service shows need enjoy chic looks outside plate pricing shreds right salmon sunglasses enjoyed american place food cuisine come hurts absolutely delish simple simply sat like doesnt capers bagel places ordered just smoked high business\n",
      "Topic 33:\n",
      "bagel high chic like awesome relax actually cream foods place enjoyed bellagio american menu need delish plate casual hurts pile gallop just scream caught outside shows come mind french pricing brainwashed proper cuisine salmon uncle satisfied sat love places right fountain food smoked plain view didnt cheese items noon doesnt water simply choice simple alright business shreds platter enjoy absolutely super service capers ordered looks sun sunglasses\n",
      "Topic 34:\n",
      "actually noon capers proper alright chic doesnt simply delish places gallop right casual items satisfied super brainwashed absolutely pile just smoked scream uncle sun service water salmon menu cheese view fountain didnt sunglasses food outside bagel enjoyed american enjoy hurts french come platter place looks shows plate foods simple caught like plain sat need pricing shreds relax choice ordered bellagio high love business cream awesome mind cuisine\n",
      "Topic 35:\n",
      "doesnt looks water gallop shreds delish sunglasses menu view bagel satisfied proper mind cuisine service absolutely caught pricing business place sun need platter relax actually super alright fountain cheese ordered foods salmon high hurts brainwashed casual scream items chic outside sat plate simply shows simple like bellagio food noon plain come smoked enjoyed pile enjoy uncle love capers choice american didnt french cream places just awesome right\n",
      "Topic 36:\n",
      "super delish salmon simple business enjoy mind actually bellagio ordered service right american cuisine doesnt capers place foods satisfied noon shreds platter alright plate food high water come enjoyed french awesome fountain sun pricing absolutely chic need didnt casual hurts pile bagel cheese outside smoked caught sat simply shows scream menu plain places like items proper cream uncle brainwashed gallop love sunglasses relax just choice view looks\n",
      "Topic 37:\n",
      "caught uncle right satisfied bagel pile places proper sunglasses salmon choice gallop mind american brainwashed absolutely actually chic awesome noon food come shreds ordered love need plate shows relax scream cheese fountain enjoyed service pricing french hurts simple delish sun items business view cream place sat enjoy alright high plain simply cuisine casual just foods menu water platter looks outside smoked didnt like super bellagio doesnt capers\n",
      "Topic 38:\n",
      "brainwashed relax looks fountain food service come actually ordered foods platter proper right satisfied outside uncle plate super enjoy high choice capers noon water sat salmon pile french view place items menu awesome alright need absolutely places mind doesnt just delish didnt simple like american smoked enjoyed love scream shows cheese gallop caught pricing bellagio bagel hurts chic cuisine sun casual simply shreds cream plain sunglasses business\n",
      "Topic 39:\n",
      "foods brainwashed menu high simple platter satisfied ordered delish gallop like outside plain scream cuisine food looks shows need sat didnt place water enjoy business doesnt view simply sun salmon sunglasses just actually pile love casual enjoyed items choice bagel caught cream relax proper noon shreds uncle awesome mind cheese american right absolutely fountain chic super alright service french pricing smoked bellagio places hurts capers plate come\n",
      "Topic 40:\n",
      "alright sat salmon doesnt shreds cream choice fountain didnt actually pricing foods casual proper awesome love hurts simple place brainwashed french places bagel platter delish capers scream high sunglasses american like super enjoy items business absolutely ordered water need right smoked looks menu noon bellagio outside satisfied view plate caught enjoyed food just chic mind come pile gallop plain service uncle cheese cuisine simply relax sun shows\n",
      "Topic 41:\n",
      "pile just sunglasses hurts casual caught french foods chic water capers places view place uncle sun absolutely smoked sat actually doesnt pricing business bellagio cheese service cuisine love noon choice scream need food salmon proper alright like satisfied mind shreds fountain simple enjoy awesome brainwashed enjoyed outside items platter looks plain high super gallop simply cream delish bagel plate american didnt shows come ordered menu relax right\n",
      "Topic 42:\n",
      "outside brainwashed service plain french enjoy super simply just caught salmon pile looks alright absolutely mind come sunglasses delish food enjoyed proper scream love fountain choice casual need water like awesome relax didnt place shreds shows satisfied cheese sat capers hurts gallop chic platter simple high cream plate noon pricing business menu doesnt sun ordered uncle smoked cuisine items bagel actually foods bellagio places right american view\n",
      "Topic 43:\n",
      "awesome choice ordered menu right delish simple cheese places hurts gallop noon plain bellagio smoked sat need scream simply mind business enjoy casual absolutely brainwashed service platter foods place fountain just super chic salmon french food plate outside love looks bagel sunglasses proper cream relax come view satisfied uncle items alright capers american high caught didnt shows shreds actually pile doesnt cuisine enjoyed pricing water sun like\n",
      "Topic 44:\n",
      "relax hurts chic delish enjoy cream service plate cuisine view super casual business menu mind awesome looks simple pricing sunglasses smoked right sun gallop sat outside foods high water scream just platter ordered place choice proper capers come love brainwashed caught like alright bagel food fountain plain uncle pile shows actually enjoyed cheese absolutely shreds satisfied simply places need french american bellagio noon didnt salmon doesnt items\n",
      "Topic 45:\n",
      "hurts caught plain french ordered alright looks platter simple like simply brainwashed chic scream bellagio sat noon american pricing service cheese proper delish plate outside absolutely view place come pile shreds smoked bagel love foods places food cuisine sun choice need capers didnt casual satisfied super enjoy enjoyed cream uncle salmon actually gallop fountain business sunglasses menu water relax items high doesnt shows right awesome just mind\n",
      "Topic 46:\n",
      "relax satisfied chic choice just simple plain fountain simply cream place cuisine business menu ordered uncle places brainwashed food super service smoked enjoy scream french sun looks casual platter capers absolutely mind sunglasses pricing view sat high plate proper actually need salmon american awesome hurts delish pile enjoyed shreds foods cheese items bellagio right gallop didnt doesnt shows water outside bagel alright love like come noon caught\n",
      "Topic 47:\n",
      "choice enjoyed super place items doesnt sunglasses fountain brainwashed caught bellagio food right simple view noon awesome scream bagel shows outside cream water ordered enjoy pricing like platter cheese absolutely places american satisfied high french business plain salmon actually service need plate uncle delish chic sat sun love pile menu just relax gallop capers alright smoked come proper casual mind hurts shreds didnt looks simply cuisine foods\n",
      "Topic 48:\n",
      "proper menu didnt bellagio places salmon doesnt gallop french uncle alright need pricing just food like enjoyed american looks love relax hurts simply cheese mind sun choice sunglasses satisfied pile ordered plate cuisine smoked brainwashed simple business capers chic plain outside service sat high place cream fountain scream view shows enjoy platter absolutely shreds come delish caught awesome noon right foods actually bagel water items super casual\n",
      "Topic 49:\n",
      "brainwashed shreds didnt places menu simple simply noon actually love doesnt enjoy super cuisine high proper uncle french salmon pile service casual view capers american right cream delish bellagio smoked mind choice cheese outside relax foods water hurts plate items awesome scream enjoyed chic sun platter shows looks pricing just food business come place bagel caught like gallop alright plain ordered satisfied sat need sunglasses absolutely fountain\n",
      "Topic 50:\n",
      "outside view sunglasses sun platter places pricing awesome scream proper plate shows menu american noon simply foods like looks brainwashed mind just cheese uncle fountain chic need delish food simple choice salmon ordered alright super plain satisfied enjoyed caught gallop cuisine doesnt enjoy business capers casual place french shreds come cream didnt hurts items bellagio water relax right pile smoked absolutely service sat love actually bagel high\n",
      "Topic 51:\n",
      "capers simply uncle like cheese outside shows gallop high salmon view foods american enjoy sun pile proper need satisfied sunglasses brainwashed fountain service water caught noon plate super simple looks actually places food cream doesnt love casual mind business pricing right place awesome enjoyed french smoked bellagio chic just plain menu alright bagel come scream items choice platter sat cuisine hurts absolutely shreds delish relax didnt ordered\n",
      "Topic 52:\n",
      "fountain like looks food business choice awesome american bagel proper sunglasses view plain uncle caught chic cuisine simply gallop bellagio relax right platter ordered french love just noon sun high come doesnt scream sat hurts simple casual pile plate didnt alright enjoy enjoyed absolutely outside need capers shows places place foods delish mind cream cheese smoked items salmon pricing actually shreds satisfied brainwashed menu water super service\n",
      "Topic 53:\n",
      "hurts looks foods place shreds menu like business caught alright american pricing bellagio proper simply french places choice chic satisfied sunglasses doesnt platter scream smoked relax delish outside mind ordered enjoyed brainwashed enjoy cream didnt gallop service salmon plain sun casual water absolutely just need shows plate simple right come uncle super awesome fountain cheese actually love view pile food bagel noon high items cuisine capers sat\n",
      "Topic 54:\n",
      "platter super shows cream sun satisfied fountain enjoy shreds chic caught high relax alright love hurts noon looks cuisine items salmon actually american business cheese need simply just smoked come enjoyed uncle delish menu service plate sat proper right capers simple plain foods pile awesome mind like casual place bellagio outside ordered doesnt food sunglasses brainwashed view choice absolutely pricing french didnt places gallop bagel scream water\n",
      "Topic 55:\n",
      "enjoyed love food pile right casual simply view place french looks service shows fountain doesnt platter shreds business menu actually mind cheese cream ordered places foods scream alright chic choice enjoy simple delish high proper bagel salmon sun caught outside capers come hurts plate like sat just super noon need plain uncle sunglasses american relax bellagio awesome water didnt cuisine absolutely brainwashed gallop pricing satisfied items smoked\n",
      "Topic 56:\n",
      "shreds menu french sunglasses american place places love high gallop smoked brainwashed like doesnt choice cheese water enjoy plate business shows pile cuisine chic caught looks awesome sun relax view simply scream super noon plain delish didnt service actually right items come sat just fountain mind need satisfied pricing foods enjoyed outside bagel capers salmon uncle cream platter proper ordered hurts casual alright simple bellagio food absolutely\n",
      "Topic 57:\n",
      "service plate scream outside right love caught relax sun bagel gallop smoked platter come didnt actually menu places water brainwashed sunglasses foods casual bellagio need french awesome american capers cheese simply cream simple satisfied like ordered shreds choice shows hurts place uncle items pile fountain business food noon view sat plain cuisine alright high chic absolutely enjoyed looks mind enjoy pricing salmon just delish doesnt proper super\n",
      "Topic 58:\n",
      "outside satisfied need pile cheese high platter water uncle brainwashed doesnt relax super sun enjoyed french ordered salmon plain business plate simply shreds right pricing awesome casual smoked fountain looks like mind gallop scream noon proper delish view bagel cuisine service foods bellagio sunglasses actually caught just items menu alright food choice capers place cream chic sat places absolutely didnt enjoy hurts american love shows simple come\n",
      "Topic 59:\n",
      "simply enjoy american water relax doesnt bellagio plate uncle outside places cheese smoked mind looks shows brainwashed bagel choice scream super come absolutely cuisine casual platter french shreds place business sunglasses satisfied menu sat foods simple awesome pricing salmon actually proper just chic service high didnt plain items pile sun view food right noon love delish fountain hurts alright need capers caught cream enjoyed gallop like ordered\n",
      "Topic 60:\n",
      "need casual simply sat come service sun super capers scream uncle love ordered chic items place simple satisfied choice bellagio bagel food relax outside cheese looks business cream didnt delish hurts pricing salmon fountain awesome brainwashed cuisine doesnt caught enjoyed like menu shows enjoy right sunglasses proper noon smoked just gallop french plate foods shreds plain pile high platter absolutely american view actually water mind alright places\n",
      "Topic 61:\n",
      "cheese noon actually plain proper gallop plate caught love bagel uncle simply sunglasses cuisine items hurts water awesome ordered sat high service right need mind satisfied doesnt casual enjoyed french bellagio come like chic choice places alright foods pile business absolutely view salmon didnt pricing sun super american fountain cream shows looks simple enjoy menu brainwashed place platter food delish just capers outside shreds smoked relax scream\n",
      "Topic 62:\n",
      "choice cuisine places looks uncle french simple didnt water cheese pile like service right foods hurts enjoyed food love super enjoy sat view ordered noon capers business alright american plain caught shows doesnt casual fountain actually delish smoked items scream plate absolutely cream simply platter bagel shreds come outside menu awesome pricing high need place relax sunglasses chic salmon satisfied sun brainwashed proper gallop bellagio mind just\n",
      "Topic 63:\n",
      "hurts cuisine sunglasses chic right food enjoyed gallop shows simple sun uncle choice high water relax satisfied bellagio awesome items platter enjoy need absolutely brainwashed shreds ordered plain places cream place scream menu sat proper simply foods casual delish outside looks bagel mind smoked plate business doesnt pricing pile didnt french capers caught come view noon service alright like fountain salmon actually american love cheese super just\n",
      "Topic 64:\n",
      "just enjoy need platter water delish capers food right business cream relax salmon foods proper scream high sunglasses didnt plate super outside sun items caught plain bellagio place fountain sat actually menu service choice casual awesome ordered mind looks brainwashed pile french absolutely american cheese enjoyed simple hurts uncle come doesnt bagel alright love smoked chic gallop shreds view pricing like places cuisine shows noon simply satisfied\n",
      "Topic 65:\n",
      "smoked sun choice shows awesome alright hurts plain ordered bellagio french foods service places items cuisine brainwashed simply like looks enjoy casual business menu place super fountain bagel capers caught gallop food platter high pricing enjoyed noon shreds didnt just mind cheese american doesnt water right chic come uncle cream salmon sunglasses satisfied view scream outside need actually pile proper absolutely relax sat love simple plate delish\n",
      "Topic 66:\n",
      "simply hurts plate enjoy capers brainwashed choice looks chic cheese delish doesnt super salmon places pricing bagel simple shows service gallop uncle love platter shreds satisfied ordered noon american high outside water didnt come sun business absolutely like items cream sat caught scream fountain casual enjoyed smoked alright bellagio view mind relax just sunglasses cuisine need french proper actually right place plain pile menu awesome food foods\n",
      "Topic 67:\n",
      "love sat smoked shreds enjoy items just like french chic scream american awesome menu place bagel water pricing simply enjoyed relax absolutely doesnt satisfied places gallop brainwashed mind cream view alright need capers cheese caught hurts plate come looks salmon delish simple bellagio food high fountain shows plain right proper uncle sun outside noon ordered sunglasses choice business super actually platter service didnt foods pile cuisine casual\n",
      "Topic 68:\n",
      "sat alright come absolutely need plain sunglasses items simply ordered chic smoked pricing scream hurts shreds actually relax awesome looks foods simple shows capers business enjoy delish places noon place satisfied brainwashed doesnt love platter french casual enjoyed fountain salmon view like choice right food pile cheese caught menu just service plate outside high bagel proper american didnt uncle mind gallop cream water sun super cuisine bellagio\n",
      "Topic 69:\n",
      "actually salmon shows sat items fountain plate plain looks foods cuisine pricing didnt caught right chic gallop relax simply food pile capers awesome casual absolutely love french choice shreds doesnt ordered noon just american smoked simple scream bagel brainwashed menu uncle enjoyed view cream bellagio places mind alright cheese outside like place enjoy hurts need business sun delish super high proper service satisfied sunglasses water platter come\n",
      "Topic 70:\n",
      "simply fountain looks plate love gallop actually service awesome smoked pile simple casual pricing capers alright hurts plain doesnt salmon business right super scream sunglasses brainwashed food satisfied shreds water uncle outside just bagel mind ordered absolutely caught like cheese cuisine items sat view come chic bellagio places sun delish place didnt shows proper platter enjoyed choice noon american menu french high need relax foods enjoy cream\n",
      "Topic 71:\n",
      "water french enjoy absolutely didnt foods smoked place satisfied business relax hurts outside pile sun cream delish proper plate plain american gallop like casual high service brainwashed need alright sat cuisine salmon right love menu simply awesome fountain shreds bellagio bagel caught simple sunglasses capers scream chic shows come super noon uncle items actually mind just food view ordered choice cheese doesnt places platter enjoyed looks pricing\n",
      "Topic 72:\n",
      "french uncle satisfied didnt just items absolutely bellagio american mind menu place looks cheese cuisine relax high casual pile ordered brainwashed plain sunglasses smoked outside super shreds noon come enjoy shows platter love hurts awesome capers sat water right foods bagel sun simply caught alright need cream choice places proper actually delish salmon business simple doesnt food chic gallop scream like view plate service fountain enjoyed pricing\n",
      "Topic 73:\n",
      "simply service shows outside proper high actually come mind foods awesome chic caught right menu hurts relax bagel looks bellagio just water capers gallop need american scream plain food doesnt cuisine satisfied sun items uncle pile sat delish ordered alright smoked enjoy fountain brainwashed casual shreds like french pricing absolutely noon places enjoyed business cheese sunglasses view simple place love cream choice plate super platter salmon didnt\n",
      "Topic 74:\n",
      "place sat outside food choice shows water delish cream cheese noon capers service proper chic doesnt gallop cuisine casual plate looks pile sun alright satisfied american business platter enjoy love menu french just relax simple awesome absolutely need enjoyed super scream bellagio caught didnt simply mind foods ordered view sunglasses brainwashed fountain uncle hurts actually come high pricing right places bagel shreds items plain like smoked salmon\n",
      "Topic 75:\n",
      "water relax french enjoy brainwashed mind doesnt bellagio menu chic casual awesome sat need places like simply sun simple salmon american enjoyed ordered shows scream gallop delish didnt high come choice pile pricing satisfied shreds proper cream smoked view hurts looks outside love food fountain absolutely alright super business caught service items uncle platter plain foods place plate sunglasses cheese bagel noon actually right just capers cuisine\n",
      "Topic 76:\n",
      "hurts super view simply shreds cream simple enjoyed looks gallop delish outside water foods smoked bellagio american salmon satisfied places service platter food items need brainwashed love scream doesnt business menu uncle just sunglasses alright actually capers bagel caught cheese proper pile place pricing sun relax plain french enjoy casual choice absolutely didnt noon right mind cuisine ordered sat awesome plate come chic shows like high fountain\n",
      "Topic 77:\n",
      "place french come brainwashed like food cuisine salmon places sat relax mind enjoy high items smoked water business platter outside bagel plate cream shreds delish love caught noon foods view bellagio looks menu american uncle sun doesnt proper shows simple absolutely simply chic need right super actually awesome satisfied capers pile alright gallop casual service enjoyed ordered choice just didnt cheese hurts pricing sunglasses plain scream fountain\n",
      "Topic 78:\n",
      "like salmon love capers satisfied choice looks food cuisine simply american plate foods gallop relax casual proper just need actually place view pile pricing absolutely french sat enjoyed noon caught brainwashed delish awesome chic sunglasses smoked scream high uncle bellagio platter doesnt fountain simple bagel shows mind hurts come ordered super didnt shreds water right cheese items plain outside business enjoy service places sun alright cream menu\n",
      "Topic 79:\n",
      "love relax casual fountain like items didnt sunglasses platter foods shreds super view gallop sat enjoy scream shows place caught capers hurts food need business looks plain simple service high bagel salmon choice uncle pile actually satisfied delish american simply sun places brainwashed proper absolutely plate awesome noon french just alright menu pricing ordered enjoyed cheese bellagio outside cuisine chic water smoked doesnt cream come right mind\n",
      "Topic 80:\n",
      "water sun awesome love didnt relax proper cuisine capers bellagio items bagel noon shows caught doesnt gallop choice need satisfied outside mind looks scream french shreds absolutely actually plain place simply pricing menu salmon food places hurts smoked cheese sat enjoy delish brainwashed high pile chic alright enjoyed platter view right simple just service plate casual fountain like super american ordered uncle sunglasses business cream foods come\n",
      "Topic 81:\n",
      "sun smoked water service capers fountain view awesome sat pricing hurts cheese business doesnt enjoy brainwashed simple satisfied just ordered platter delish gallop relax menu shows enjoyed uncle right plain sunglasses proper scream plate mind american caught cuisine love absolutely bagel outside high food didnt need places casual actually noon cream items shreds come looks choice french pile super foods salmon place bellagio alright like chic simply\n",
      "Topic 82:\n",
      "pile food didnt sunglasses absolutely business salmon proper brainwashed right mind cheese place platter just alright doesnt high fountain outside american menu view bagel casual enjoyed like love choice ordered smoked shows noon relax gallop super delish chic water foods plate service caught cuisine french looks capers cream awesome scream uncle sun places need simply pricing hurts satisfied simple sat bellagio items actually shreds come enjoy plain\n",
      "Topic 83:\n",
      "american fountain satisfied cuisine ordered food proper salmon hurts didnt place awesome sun platter love simple mind items plain noon smoked sat doesnt need enjoy shreds brainwashed alright outside right high water simply pricing scream bellagio cream like uncle absolutely delish menu shows casual business actually cheese just french choice plate pile foods looks chic relax enjoyed capers places view gallop super sunglasses caught come bagel service\n",
      "Topic 84:\n",
      "mind didnt satisfied hurts plain awesome sun cream simply absolutely place actually places come cheese just doesnt gallop smoked need business right cuisine french noon ordered delish food fountain super shreds love sat brainwashed items view simple enjoy outside chic service shows uncle foods high american caught scream sunglasses platter bellagio proper enjoyed like capers alright pricing looks salmon casual water bagel pile choice plate menu relax\n",
      "Topic 85:\n",
      "plate relax place cream looks alright bagel service gallop like enjoy absolutely right view water delish uncle french super scream satisfied items noon awesome hurts cheese just foods menu choice didnt simply outside chic platter high smoked need sat food capers sun shreds places plain fountain proper doesnt american ordered cuisine mind pile bellagio love sunglasses actually caught come brainwashed salmon shows business casual enjoyed pricing simple\n",
      "Topic 86:\n",
      "proper satisfied enjoyed gallop platter need service places shows pile chic cream enjoy capers caught items smoked view hurts super plate salmon water outside delish absolutely mind high noon love foods french bagel american cuisine sat alright relax simple right awesome ordered looks like brainwashed didnt fountain scream sunglasses pricing bellagio doesnt choice uncle food menu actually just simply business cheese come plain place sun casual shreds\n",
      "Topic 87:\n",
      "actually simple love outside pricing place menu fountain american shows delish cuisine doesnt sun bellagio high plain bagel shreds service chic salmon casual sunglasses relax choice pile gallop come capers caught items view looks alright absolutely enjoyed food cream didnt just business cheese uncle enjoy super smoked awesome water satisfied like sat proper platter need hurts foods noon french scream plate mind right places brainwashed ordered simply\n",
      "Topic 88:\n",
      "enjoyed shreds fountain doesnt pile salmon french platter sat chic sunglasses cuisine cheese looks capers right gallop simple place bellagio business high super pricing plate satisfied like choice absolutely casual smoked hurts menu plain sun love ordered brainwashed service cream scream view outside awesome relax delish just didnt water caught alright noon actually uncle need items simply foods enjoy food places proper mind american shows bagel come\n",
      "Topic 89:\n",
      "mind high cream business plain actually view casual hurts cuisine uncle french come shows chic smoked alright scream pricing enjoy sun absolutely awesome simply didnt choice place caught proper items doesnt capers foods sunglasses super gallop just right noon looks bagel sat service salmon brainwashed enjoyed relax simple satisfied ordered need american delish menu shreds cheese outside like places platter fountain pile bellagio love plate food water\n",
      "Topic 90:\n",
      "cream uncle places super relax mind actually plate american salmon alright doesnt shreds plain french outside caught cuisine shows high love foods gallop like hurts cheese view smoked casual enjoy pile delish capers didnt business platter right proper need brainwashed scream pricing satisfied enjoyed place ordered sat awesome choice come bellagio sunglasses looks fountain simply just sun items noon absolutely water bagel simple food chic menu service\n",
      "Topic 91:\n",
      "mind caught enjoy absolutely choice items shows view didnt french platter come casual sat pile actually relax hurts super high bellagio menu awesome right service simple alright ordered capers gallop plain uncle cheese enjoyed smoked plate love outside salmon satisfied proper water doesnt pricing place need noon foods places business simply food fountain bagel like sunglasses cream chic american shreds just brainwashed cuisine scream delish looks sun\n",
      "Topic 92:\n",
      "right come relax items caught love simply service brainwashed cream smoked choice fountain mind enjoy view looks casual pricing need simple awesome pile food sat plain american outside sun scream foods french cheese salmon enjoyed places absolutely uncle proper water chic satisfied alright shows bagel plate business gallop platter capers didnt actually menu just doesnt sunglasses hurts super cuisine noon shreds bellagio like place delish high ordered\n",
      "Topic 93:\n",
      "delish brainwashed foods alright place menu need chic ordered looks service outside cuisine places salmon simple sat like american actually plain plate love bellagio absolutely cheese didnt view sun caught noon high cream satisfied enjoy proper bagel items mind right shreds gallop casual platter french pricing just business scream doesnt relax capers food uncle fountain simply super hurts shows awesome sunglasses water come choice smoked enjoyed pile\n",
      "Topic 94:\n",
      "business proper foods capers doesnt high sun platter like pricing just casual relax brainwashed view cuisine didnt shows noon places alright love salmon chic cheese water sunglasses need food fountain right scream enjoy french super delish choice items service awesome sat outside bagel come ordered smoked pile bellagio actually plate absolutely shreds plain satisfied mind simple american place caught gallop hurts menu cream uncle looks simply enjoyed\n",
      "Topic 95:\n",
      "need shreds caught salmon simple american plain didnt enjoy right chic proper outside simply service bagel french cheese just actually sat fountain view pricing ordered capers mind doesnt pile items hurts food like enjoyed foods sunglasses place cuisine absolutely uncle looks come awesome bellagio delish choice noon smoked brainwashed super plate places casual shows business love cream satisfied relax high platter menu alright scream gallop sun water\n",
      "Topic 96:\n",
      "looks like uncle pricing shreds sat choice service cuisine bagel outside plain cream pile love plate smoked super business casual food awesome doesnt foods cheese caught salmon need actually delish alright simple didnt fountain capers brainwashed places sun bellagio platter shows items noon relax sunglasses american satisfied scream chic french menu high hurts view right just gallop absolutely ordered simply enjoy enjoyed come place water mind proper\n",
      "Topic 97:\n",
      "cheese place enjoy fountain shows delish actually high outside sun business awesome foods simply pricing sunglasses caught cuisine casual plain smoked absolutely right service choice come alright love shreds relax looks salmon american plate french capers cream menu need platter simple pile satisfied food ordered items hurts doesnt places gallop noon just water chic enjoyed view bellagio scream mind uncle bagel proper super like sat didnt brainwashed\n",
      "Topic 98:\n",
      "awesome come satisfied water just high sun french absolutely sunglasses caught delish shreds plain menu items relax outside plate capers gallop uncle places brainwashed mind food need pile super business view proper noon simply smoked cuisine pricing place looks right alright simple ordered service cream love fountain bagel like bellagio doesnt sat hurts choice scream didnt actually salmon chic shows american platter cheese enjoyed enjoy foods casual\n",
      "Topic 99:\n",
      "mind places alright service come right sunglasses awesome didnt french proper caught platter relax ordered delish super scream sat chic cream doesnt shows love plain hurts pricing like actually satisfied view gallop items sun cheese looks need brainwashed water high bagel noon cuisine choice smoked outside foods menu pile enjoyed capers plate bellagio shreds simply american place business food casual fountain simple uncle enjoy just absolutely salmon\n"
     ]
    }
   ],
   "source": [
    "# LDA topic\n",
    "display_topics(lda, tf_feature_names, no_top_words)"
   ]
  },
  {
   "cell_type": "code",
   "execution_count": 68,
   "metadata": {},
   "outputs": [],
   "source": [
    "# Import svd\n",
    "from sklearn.decomposition import TruncatedSVD\n",
    "\n",
    "no_topics = 20\n",
    "\n",
    "\n",
    "sa = TruncatedSVD(n_components=60, n_iter=20).fit(tf)"
   ]
  },
  {
   "cell_type": "code",
   "execution_count": 69,
   "metadata": {},
   "outputs": [
    {
     "name": "stdout",
     "output_type": "stream",
     "text": [
      "Topic 0:\n",
      "like looks salmon capers foods love absolutely simply simple gallop french fountain super food enjoyed enjoy doesnt didnt delish cuisine cream come choice chic cheese caught casual uncle business brainwashed bellagio bagel awesome american alright actually high hurts items plate shreds shows service scream satisfied sat smoked right relax proper pricing platter plain just places place pile outside ordered noon need mind menu sun view sunglasses water\n"
     ]
    }
   ],
   "source": [
    "# print SVD topics\n",
    "display_topics(sa, tf_feature_names, no_top_words)"
   ]
  },
  {
   "cell_type": "code",
   "execution_count": null,
   "metadata": {
    "collapsed": true
   },
   "outputs": [],
   "source": []
  },
  {
   "cell_type": "code",
   "execution_count": null,
   "metadata": {
    "collapsed": true
   },
   "outputs": [],
   "source": []
  },
  {
   "cell_type": "code",
   "execution_count": null,
   "metadata": {
    "collapsed": true
   },
   "outputs": [],
   "source": []
  },
  {
   "cell_type": "code",
   "execution_count": null,
   "metadata": {
    "collapsed": true
   },
   "outputs": [],
   "source": []
  },
  {
   "cell_type": "code",
   "execution_count": 53,
   "metadata": {},
   "outputs": [],
   "source": [
    "# doc = token_nize_part_speach(documents)\n",
    "# doc[:10]"
   ]
  },
  {
   "cell_type": "code",
   "execution_count": 54,
   "metadata": {
    "collapsed": true
   },
   "outputs": [],
   "source": [
    "\n",
    "from sklearn.feature_extraction.text import TfidfVectorizer, CountVectorizer\n",
    "\n",
    "no_features = 1000\n",
    "def vectorize(inp):\n",
    "    count_vectorizer = CountVectorizer(max_df=0.95, max_features=no_features, stop_words=stop_words)\n",
    "    cvec = count_vectorizer.fit_transform(inp)\n",
    "    count_feature_names = count_vectorizer.get_feature_names()\n",
    "    return cvec, count_feature_names"
   ]
  },
  {
   "cell_type": "code",
   "execution_count": 55,
   "metadata": {
    "collapsed": true
   },
   "outputs": [],
   "source": [
    "def display_topics(model, feature_names, no_top_words):\n",
    "    for topic_idx, topic in enumerate(model.components_):\n",
    "        print (\"Topic %d:\" % (topic_idx))\n",
    "        print (\" \".join([feature_names[i]\n",
    "                        for i in topic.argsort()[:-no_top_words - 1:-1]]))"
   ]
  },
  {
   "cell_type": "code",
   "execution_count": 56,
   "metadata": {
    "collapsed": true
   },
   "outputs": [],
   "source": [
    "from sklearn.decomposition import LatentDirichletAllocation\n",
    "no_topics = 40\n",
    "no_top_words = 20\n",
    "def run_lda(cvec, count_feature_names):\n",
    "    lda = LatentDirichletAllocation(n_topics=no_topics, max_iter=5, learning_method='online', learning_offset=50.,random_state=0).fit(cvec)\n",
    "    display_topics(lda, count_feature_names, no_top_words)\n",
    "    return lda"
   ]
  },
  {
   "cell_type": "code",
   "execution_count": 58,
   "metadata": {},
   "outputs": [
    {
     "ename": "NameError",
     "evalue": "name 'stop_words' is not defined",
     "output_type": "error",
     "traceback": [
      "\u001b[0;31m---------------------------------------------------------------------------\u001b[0m",
      "\u001b[0;31mNameError\u001b[0m                                 Traceback (most recent call last)",
      "\u001b[0;32m<ipython-input-58-8deac1dbc42c>\u001b[0m in \u001b[0;36m<module>\u001b[0;34m()\u001b[0m\n\u001b[0;32m----> 1\u001b[0;31m \u001b[0moriginal_doc_vec\u001b[0m \u001b[0;34m=\u001b[0m \u001b[0mvectorize\u001b[0m\u001b[0;34m(\u001b[0m\u001b[0mdocuments\u001b[0m\u001b[0;34m)\u001b[0m\u001b[0;34m\u001b[0m\u001b[0m\n\u001b[0m\u001b[1;32m      2\u001b[0m \u001b[0mpart_speech_vec\u001b[0m \u001b[0;34m=\u001b[0m \u001b[0mvectorize\u001b[0m\u001b[0;34m(\u001b[0m\u001b[0mdoc\u001b[0m\u001b[0;34m)\u001b[0m\u001b[0;34m\u001b[0m\u001b[0m\n\u001b[1;32m      3\u001b[0m \u001b[0mhype_vec\u001b[0m \u001b[0;34m=\u001b[0m \u001b[0mvectorize\u001b[0m\u001b[0;34m(\u001b[0m\u001b[0mhypered\u001b[0m\u001b[0;34m)\u001b[0m\u001b[0;34m\u001b[0m\u001b[0m\n\u001b[1;32m      4\u001b[0m \u001b[0mori\u001b[0m \u001b[0;34m=\u001b[0m \u001b[0mrun_lda\u001b[0m\u001b[0;34m(\u001b[0m\u001b[0moriginal_doc_vec\u001b[0m\u001b[0;34m[\u001b[0m\u001b[0;36m0\u001b[0m\u001b[0;34m]\u001b[0m\u001b[0;34m,\u001b[0m \u001b[0moriginal_doc_vec\u001b[0m\u001b[0;34m[\u001b[0m\u001b[0;36m1\u001b[0m\u001b[0;34m]\u001b[0m\u001b[0;34m)\u001b[0m\u001b[0;34m\u001b[0m\u001b[0m\n",
      "\u001b[0;32m<ipython-input-54-f57e7d685e8c>\u001b[0m in \u001b[0;36mvectorize\u001b[0;34m(inp)\u001b[0m\n\u001b[1;32m      4\u001b[0m \u001b[0mno_features\u001b[0m \u001b[0;34m=\u001b[0m \u001b[0;36m1000\u001b[0m\u001b[0;34m\u001b[0m\u001b[0m\n\u001b[1;32m      5\u001b[0m \u001b[0;32mdef\u001b[0m \u001b[0mvectorize\u001b[0m\u001b[0;34m(\u001b[0m\u001b[0minp\u001b[0m\u001b[0;34m)\u001b[0m\u001b[0;34m:\u001b[0m\u001b[0;34m\u001b[0m\u001b[0m\n\u001b[0;32m----> 6\u001b[0;31m     \u001b[0mcount_vectorizer\u001b[0m \u001b[0;34m=\u001b[0m \u001b[0mCountVectorizer\u001b[0m\u001b[0;34m(\u001b[0m\u001b[0mmax_df\u001b[0m\u001b[0;34m=\u001b[0m\u001b[0;36m0.95\u001b[0m\u001b[0;34m,\u001b[0m \u001b[0mmax_features\u001b[0m\u001b[0;34m=\u001b[0m\u001b[0mno_features\u001b[0m\u001b[0;34m,\u001b[0m \u001b[0mstop_words\u001b[0m\u001b[0;34m=\u001b[0m\u001b[0mstop_words\u001b[0m\u001b[0;34m)\u001b[0m\u001b[0;34m\u001b[0m\u001b[0m\n\u001b[0m\u001b[1;32m      7\u001b[0m     \u001b[0mcvec\u001b[0m \u001b[0;34m=\u001b[0m \u001b[0mcount_vectorizer\u001b[0m\u001b[0;34m.\u001b[0m\u001b[0mfit_transform\u001b[0m\u001b[0;34m(\u001b[0m\u001b[0minp\u001b[0m\u001b[0;34m)\u001b[0m\u001b[0;34m\u001b[0m\u001b[0m\n\u001b[1;32m      8\u001b[0m     \u001b[0mcount_feature_names\u001b[0m \u001b[0;34m=\u001b[0m \u001b[0mcount_vectorizer\u001b[0m\u001b[0;34m.\u001b[0m\u001b[0mget_feature_names\u001b[0m\u001b[0;34m(\u001b[0m\u001b[0;34m)\u001b[0m\u001b[0;34m\u001b[0m\u001b[0m\n",
      "\u001b[0;31mNameError\u001b[0m: name 'stop_words' is not defined"
     ]
    }
   ],
   "source": [
    "original_doc_vec = vectorize(documents)\n",
    "part_speech_vec = vectorize(doc)\n",
    "hype_vec = vectorize(hypered)\n",
    "ori = run_lda(original_doc_vec[0], original_doc_vec[1])"
   ]
  },
  {
   "cell_type": "code",
   "execution_count": null,
   "metadata": {
    "collapsed": true
   },
   "outputs": [],
   "source": []
  }
 ],
 "metadata": {
  "kernelspec": {
   "display_name": "Python 3",
   "language": "python",
   "name": "python3"
  },
  "language_info": {
   "codemirror_mode": {
    "name": "ipython",
    "version": 3
   },
   "file_extension": ".py",
   "mimetype": "text/x-python",
   "name": "python",
   "nbconvert_exporter": "python",
   "pygments_lexer": "ipython3",
   "version": "3.6.2"
  }
 },
 "nbformat": 4,
 "nbformat_minor": 2
}
