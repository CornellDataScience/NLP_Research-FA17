{
 "cells": [
  {
   "cell_type": "code",
   "execution_count": 1,
   "metadata": {
    "collapsed": true
   },
   "outputs": [],
   "source": [
    "import pickle\n",
    "with open(\"review_user_top10_list.txt\", \"rb\") as f:\n",
    "    review_user_top10_list = pickle.load(f)"
   ]
  },
  {
   "cell_type": "code",
   "execution_count": 2,
   "metadata": {},
   "outputs": [
    {
     "data": {
      "text/plain": [
       "[\"Convenient subway system. Service now extends all the way to Laval, which you can't beat.\\n\\nFast. During normal hours, trains come by quite often, unlike other cities I could name.\\n\\nClean. Once I asked a janitor (in English) how to buy a metro ticket, whereupon he directed me (in French) to a kiosk where I could buy bus tickets. At least he kept the station clean. Luckily I was able to call my lifeline for directions on how to properly buy tickets. Bonus: They weren't expensive.\\n\\nCan't speak for the buses, but I love not having to drive.\",\n",
       " \"The drive-thru waitresses Cindy E. and Rosa have very good customer service. They are very good at taking your order and getting it right the first time, all the time. The food is always hot with no errors. This Panda Express is one of the better I've experienced. I'd recommend anyone passing through and wanting a good experience to visit this Panda Express location.\",\n",
       " '**MAIL ORDER REVIEW**\\nhttp://www.yelp.com/biz_photos/OGQ_6nIn4QQL2U6t0XeHtA?select=blLLKuO1g4MrD4tQCgzh0g\\n\\nCraig R. wrote a review for Popped when he visited their shop in Las Vegas.  He said it was awesome and worth trying.  He peaked my interest with the fact they have dill pickle flavored popcorn.  This I had to try so I went online to their website and ordered a nice variety.  Prices are cheap until you add fedex shipping charge to it.  \\n\\nTheir popcorn tastes extremely fresh, has a nice texture, zero unpopped kernels, and there\\'s hardly any remnants of the popcorn hulls.  All the ingredients used tasted very high quality.  Popcornopolis should find out what type of corn they use and change because they have way too many hulls in their popcorn.  \\n\\nI\\'ve ranked flavors below from most to least favorite.\\n\\n505: Caramel corn with white chocolate, fresh green hatch chilies, and powdered red hatch chilies.  Holy mother of God is this amazing.  Craig says it\\'s the \"best damn popcorn I\\'ve ever had\" and I have to agree.  Hatch chilies are my favorite chili and unlike other products I\\'ve had the hatch is the main star of the show.  It stands out front and center slapping you in the face and sending you to New Mexico for it\\'s chili goodness. It\\'s spicy enough to cause you to cough and choke while eating it and the sweetness of the caramel and chocolate turn the choking into groaning while you slam more into your word hole.\\n\\nDilly Pickle:  Best pickle tasting snack item I\\'ve had.  It\\'s sweet popcorn with a super sour, vinegar biting, fresh dill flavor to it.  Tastes just like a sour dill pickle.  Loved it!\\n\\nSmore\\'s:  Caramel corn with mini marshmallows, graham crackers, and chocolate.  My wife and I really liked this combo of flavors but I wish they\\'d mix it a bit better.  Most of the graham crackers were at the bottom of the bag and there wasn\\'t enough marshmallow... but....  the overall taste was fantastic.\\n\\nGet Toasted: Tastes like cinnamon and sugar.  If you like these two ingredients then this flavor is for you.  Yum!\\n\\nBling Bling Cookies & Cream: Caramel corn rolled in crushed Oreo cookies and dusted with metallic edible sparkly glittery things(bling bling).  As soon as you open the bag you get the aroma of Oreo cookies.  It tasted just like it\\'s namesake sans the cream.  I really didn\\'t\\' taste the cream part, but....  still a great popcorn if you\\'re a fan of oreo cookies.\\n\\nChicago:  It\\'s a mix of caramel, white cheddar, and nacho.  It\\'s sweet, salty, and cheesy.  It works.\\n\\nSalt & Vinegar:  Kettle corn tasting popcorn tossed with vinegar.  Oddly enough it works unlike the buffalo wing flavor below.  Not as acidic as the dill pickle flavor, more mellowed out.  Not my favorite Salt & Vinegar snack but tasty none the less.\\n\\nBuffalo Hot:  This flavor was disappointing.  It had a nice kick of heat but barely any wing flavor.  I wish it had the flavor intensity of their dill pickle one.  Needs more buffalo wing taste.  Also the base flavor of the popcorn is kettle corn which doesn\\'t really work with buffalo wing.',\n",
       " 'The skating floor is great and some days the atmosphere is ok. But unfortunately this place lacks in having an Adult Night for those that would like to skate without having to skate into kids all the time. I\\'ve seen some crazy collisions with kids not looking or just playing games like \"Tag\" with other kids, cutting off people and pushing each other or going in the wrong directions of the flow of the skating. Refs really don\\'t do much about it either. Thinking about what\\'s best for business is if both locations should really consider at least 1 day out of the week, to have an Adult Night...I\\'m sure business would not suffer, I believe it would actually pick up More.',\n",
       " \"Pho Little Saigon is a very good place to eat some good Pho among other goodies they have on their menu. For this visit our table was lined up with Ga Chua Ngot, Heo Xao Chua Ngot, Pho Dac Biet, and I had some good Tra Thai for a nice beverage selection. \\n\\nThe Ga Chua Ngot was really good! The chicken was nice and tender with every bite, the sauce was just right. The Heo Xao Chua Ngot was also really good with fried pork not so chewy, like I've had at other places, and the sauce was delicious.\\n\\nPho Dac Biet  was really good too. This was my first Pho type experience so I was excited to jump right in and let my taste buds go to work. With the Steak, Brisket, Flank, and Tripe mixture it was all very good and well put together in the soup with the broth it made it all a pleasant first experience. I will definitely come back for more in the future!\\n\\nAnd to finish up the service was good! The waiter made frequent checks on us, gave us the menu just in case we wanted to order more and waited patiently for us to finish up the meal. They have so much food on the menu I will need to come back to see what other good foods they have to offer. Good Place!\",\n",
       " \"Old Port is a pleasant place to visit and walk through, full of eateries, historical sights, and locals and tourists alike. It's nothing out of the ordinary, so if you've never been, you might have a better time heading up to Mont Royal and checking out the park. If you're a local, or have time to kill, why not check out Old Port? Get yourself a nice book and relax.\\n\\nWe saw a random event going on where folks were passing one another boxes in a long line - never quite figured that out.\",\n",
       " 'We had dinner at Rosemary\\'s on a Sunday last month.\\n\\nI arrived early and peppered the hostesses with questions on dishes they would recommend, the art on the walls (from local independent artists and available for purchase), and the age of the restaurant. I also found out they offer full-service catering. The hostesses were friendly (they put up with me) and knowledgeable.\\n\\nThe place eventually became crowded. It was somewhat hilarious (and a little offensive) how one kid was watching a DVD at the table (who brings their kid - and their personal player - to a place like Rosemary\\'s?). It was all the more obvious since the room was dim (relatively speaking: the tables in the front bar area were better lit). Our dining room suffered from \"mood lighting\" and would benefit from seat or table spotlights; I like to see what I\\'m eating. Others may argue that they don\\'t want to see their date, so this place may be good for you!\\n\\nService was outstanding. Our primary server and his assistant explained every dish (even the beer selections). Like Perrier\\'s Le Bec-Fin, the servers were enthusiastic and placed the dishes on the table in unison. Unlike LBF, the servers didn\\'t buzz around the table like insects.\\n\\nI was running on an hour of sleep, so I (wisely) refrained from having alcohol but a friend had the beer-meal pairings, which he enjoyed.\\n\\nA few of us ordered the chef\\'s tasting menu ($70). Compared to typical tasting menus, the overall package was a generous size and we weren\\'t able to finish it all. The courses which grabbed my attention (even through my sleepy stupor) were:\\n- l\\'amuse bouche (I was amused)\\n- First course: salmon tartar appetizer with watercress, caviar, crackers and a saffron sauce\\n- Fourth course: rack of lamb with Kalamata olive mashed potatoes, fried arugula, and a rosemary bordelaise sauce (mmmmmm - quite savory and the lamb was oh-so-tender)\\n\\nLackluster courses:\\n- Second course: Panko crab boulettes with marinated cucumbers (flavorless)\\n- Third course: Crispy skin striped bass with hushpuppies and a creole meuniere sauce (not too much flavor, and not a fan of fish)\\n- Dessert: I don\\'t remember the dessert - not my thing anyway.\\n\\nRosemary\\'s is 30-40 minutes from the Strip, but worth the cab ride there. It\\'s popular and is booked quickly, so reserve your table in advance!',\n",
       " 'This Lowe\\'s Home Improvement location is pretty good for your typical Lowe\\'s hardware store. It\\'s usually not that busy here, unless there\\'s some sort of deal or something going on. Every time I\\'ve come here, so far, it\\'s been a decent experience for the most part. The times I needed assistance someone was willing to help and guide me in the right direction. There\\'s times where I guess I have that \"lost\" look on my face and staff approached me and asked if I needed assistance with something, the guy (forgot his name) that works in the electrical/lighting area is pretty helpful and cool.\\n\\nParking is usually ok, you can always find a spot not necessarily always up front near the store but I definitely don\\'t mind the exercise. The parking lot has security riding around in a car, I guess they possibly have security issues their but it\\'s all good for the protection of looking over cars and keeping them safe. Lol',\n",
       " '\"Classy\" and \"buffet\" usually don\\'t go together, but the Wynn nails it: their buffet is the best dinner buffet on the Strip I\\'ve had thus far. It ought to be, for the price ($40).\\n\\nStations represent different \"ethnic\" foods, your typical Indian, typical Chinese, some Thai. The salad bar was fresh and inventive. The lamb was amazingly moist, the highlight of the meat offerings. The charcuterie was an unexpected treat, little pickles and all, and the dessert area impressed me, even without a sweet tooth. Of course, king crab legs never disappoint.\\n\\nFriends and I decided to celebrate a birthday here, so after we let our server know, we were provided a dessert assortment, complete with candle, while waiters sang \"Happy Birthday\". Thoughtful!\\n\\nThe buffet has a ton of seating, and you don\\'t feel like you\\'re on a farm thanks to strategically-placed partitions which provide a sense of privacy. The ambiance is money - one should expect nothing less from the Wynn.',\n",
       " \"Boulder Station is ok kind of a smokey casino that could use a bigger area to navigate through the casino floor. I've ate at the cafe and the buffet there once before. If you're looking to go to the breakfast buffet either get there 1+ early to get in line or else you will be waiting in a very long line for quite some time. Seem like every time I went early the line for the breakfast buffet was horribly long, thankfully the Grand Cafe is always conveniently available for a very good second option right next to the buffet. Also, just f.y.i Boulder Station's location is in a not so good area so make sure you always lock your car doors and be alert.\"]"
      ]
     },
     "execution_count": 2,
     "metadata": {},
     "output_type": "execute_result"
    }
   ],
   "source": [
    "review_user_top10_list[:10]"
   ]
  },
  {
   "cell_type": "code",
   "execution_count": 26,
   "metadata": {},
   "outputs": [
    {
     "name": "stdout",
     "output_type": "stream",
     "text": [
      "Topic 0:\n",
      "pretty chicken lunch leave thing time review end drink word\n",
      "Topic 1:\n",
      "und der das vegas die las hotel mit man ist\n",
      "Topic 2:\n",
      "bbq lettuce korean spicy burger king man recommended prices sho\n",
      "Topic 3:\n",
      "hotel night und time kids mit das like thai roy\n",
      "Topic 4:\n",
      "duck perfect tasted bottles sure conveniently work accommodating crowd sandwich\n",
      "Topic 5:\n",
      "thai place table like 95 sauce don menu circus good\n",
      "Topic 6:\n",
      "incline car cost change station historic wash gas road views\n",
      "Topic 7:\n",
      "ordered did right like onion soup vegas available make trip\n",
      "Topic 8:\n",
      "lighthouse der die man history und house didn west historic\n",
      "Topic 9:\n",
      "good casino bar just area place friend food vegas know\n",
      "Topic 10:\n",
      "food chicken lunch hot good dishes didn interesting 95 service\n",
      "Topic 11:\n",
      "good location ve food just store service right like place\n",
      "Topic 12:\n",
      "lighthouse like just places old know history plenty time petit\n",
      "Topic 13:\n",
      "toast french le pool water make caesar salad ve especially\n",
      "Topic 14:\n",
      "check fi lots wi okay affordable hit simple sandwich smoothie\n",
      "Topic 15:\n",
      "buy tickets clean beat chicken service expensive convenient fast able\n",
      "Topic 16:\n",
      "caesars ve did palace mat large conference vegas just sandwich\n",
      "Topic 17:\n",
      "good like buffet place line hot food pho long try\n",
      "Topic 18:\n",
      "park popcorn flavor just ve pickle corn dill caramel nice\n",
      "Topic 19:\n",
      "time like hotel casino good ve service food strip vegas\n"
     ]
    }
   ],
   "source": [
    "from sklearn.feature_extraction.text import TfidfVectorizer, CountVectorizer\n",
    "from sklearn.decomposition import LatentDirichletAllocation\n",
    "no_features = 1000\n",
    "# Compare with traditional LDA\n",
    "# LDA can only use raw term counts for LDA because it is a probabilistic graphical model\n",
    "tf_vectorizer = CountVectorizer(max_features=no_features, stop_words='english')\n",
    "tf = tf_vectorizer.fit_transform(review_user_top10_list)\n",
    "tf_feature_names = tf_vectorizer.get_feature_names()\n",
    "\n",
    "no_topics = 20\n",
    "no_top_words = 10\n",
    "lda = LatentDirichletAllocation(n_topics=no_topics, max_iter=5, learning_method='online', learning_offset=50.,random_state=0).fit(tf)\n",
    "# topic words = 10\n",
    "def display_topics(model, feature_names, no_top_words):\n",
    "    for topic_idx, topic in enumerate(model.components_):\n",
    "        print (\"Topic %d:\" % (topic_idx))\n",
    "        print (\" \".join([feature_names[i]\n",
    "                        for i in topic.argsort()[:-no_top_words - 1:-1]]))\n",
    "\n",
    "\n",
    "display_topics(lda, tf_feature_names, no_top_words)\n",
    "# def get_topics(model, feature_names, no_top_words):\n",
    "#     topic_lists = []\n",
    "#     for topic_idx, topic in enumerate(model.components_):\n",
    "#         topic_list = []\n",
    "#         for i in topic.argsort()[:-no_top_words - 1:-1]:\n",
    "#             topic_list += [feature_names[i]]\n",
    "#         topic_lists.append(topic_list)\n",
    "#     return topic_lists\n",
    "# d = get_topics(lda, tf_feature_names, no_top_words)\n",
    "\n",
    "\n",
    "# import texttable as tt\n",
    "# tab = tt.Texttable()\n",
    "# headings = ['food','order','service','price','environment','place']\n",
    "# tab.header(headings)\n",
    "# d0 = d[0]\n",
    "# d1 = d[1]\n",
    "# d2 = d[2]\n",
    "# d3 = d[3]\n",
    "# d4 = d[4]\n",
    "# d5 = d[5]\n",
    "# for row in zip(d0,d1,d2,d3,d4,d5):\n",
    "#     tab.add_row(row)\n",
    "\n",
    "# s = tab.draw()\n",
    "# print (s)"
   ]
  },
  {
   "cell_type": "code",
   "execution_count": 24,
   "metadata": {},
   "outputs": [
    {
     "data": {
      "text/plain": [
       "array([[ 0.00114101,  0.00100498,  0.00115182, ...,  0.00109311,\n",
       "         0.00091689,  0.00117244],\n",
       "       [ 0.00617627,  0.00277089,  0.00217438, ...,  0.00168376,\n",
       "         0.00171006,  0.00364717],\n",
       "       [ 0.00086001,  0.00069024,  0.00084302, ...,  0.00129601,\n",
       "         0.00092718,  0.00099737],\n",
       "       ..., \n",
       "       [ 0.00056811,  0.00052393,  0.00148134, ...,  0.00065805,\n",
       "         0.00061423,  0.00079779],\n",
       "       [ 0.00117369,  0.00083935,  0.00156531, ...,  0.00077063,\n",
       "         0.00099632,  0.00109062],\n",
       "       [ 0.00038612,  0.00057464,  0.00127539, ...,  0.00035749,\n",
       "         0.00039617,  0.00039228]])"
      ]
     },
     "execution_count": 24,
     "metadata": {},
     "output_type": "execute_result"
    }
   ],
   "source": [
    "import numpy as np\n",
    "# components_[i, j] can be viewed \n",
    "# pseudocount that represents the number of times word j was assigned to topic i.\n",
    "np.shape(lda.components_)\n",
    "# it can also be viewed as distribution over the words for each topic after normalization\n",
    "lda_word_distribution = lda.components_ / lda.components_.sum(axis=1)[:, np.newaxis]\n",
    "lda_word_distribution"
   ]
  },
  {
   "cell_type": "code",
   "execution_count": 33,
   "metadata": {
    "collapsed": true
   },
   "outputs": [],
   "source": [
    "# LDA by gensim\n",
    "from gensim import corpora\n",
    "# remove common words and tokenize\n",
    "stoplist = set('for a of the and to in'.split())\n",
    "texts = [[word for word in document.lower().split() if word not in stoplist]\n",
    "          for document in review_user_top10_list]\n",
    "\n",
    " # remove words that appear only once\n",
    "from collections import defaultdict\n",
    "frequency = defaultdict(int)\n",
    "for text in texts:\n",
    "    for token in text:\n",
    "        frequency[token] += 1\n",
    "\n",
    "texts = [[token for token in text if frequency[token] > 1]\n",
    "         for text in texts]"
   ]
  },
  {
   "cell_type": "code",
   "execution_count": 44,
   "metadata": {},
   "outputs": [],
   "source": [
    "from gensim import corpora, models, similarities\n",
    "dictionary = corpora.Dictionary(texts)\n",
    "corpus = [dictionary.doc2bow(text) for text in texts]\n",
    "\n",
    "tfidf = gensim.models.TfidfModel(corpus) # step 1 -- initialize a model\n",
    "corpus_tfidf = tfidf[corpus]\n",
    "lda = gensim.models.ldamodel.LdaModel(corpus_tfidf, num_topics=10)"
   ]
  },
  {
   "cell_type": "code",
   "execution_count": 47,
   "metadata": {},
   "outputs": [
    {
     "data": {
      "text/plain": [
       "[(0,\n",
       "  '-0.375*\"und\" + -0.281*\"der\" + -0.274*\"das\" + -0.255*\"die\" + -0.180*\"mit\" + -0.176*\"den\" + -0.154*\"man\" + -0.150*\"von\" + -0.149*\"ist\" + -0.133*\"es\"'),\n",
       " (1,\n",
       "  '-0.158*\"und\" + 0.142*\"was\" + 0.136*\"i\" + 0.125*\"we\" + -0.120*\"der\" + 0.119*\"good\" + -0.115*\"das\" + 0.110*\"-\" + -0.107*\"die\" + 0.105*\"as\"'),\n",
       " (2,\n",
       "  '0.207*\"good\" + -0.183*\"-\" + 0.176*\"very\" + -0.176*\"we\" + -0.154*\"our\" + 0.144*\"park\" + 0.142*\"location\" + -0.133*\"were\" + -0.123*\"was\" + 0.110*\"your\"'),\n",
       " (3,\n",
       "  '-0.280*\"wash\" + -0.254*\"pumps\" + -0.234*\"car\" + -0.138*\"stations.\" + -0.138*\"gas,\" + -0.138*\"pump/water\" + -0.138*\"bays\" + -0.138*\"2-3\" + -0.138*\"diesel\" + -0.138*\"vacuum\"'),\n",
       " (4,\n",
       "  '-0.177*\"drive-thru\" + -0.164*\"very\" + -0.151*\"food\" + 0.148*\"wash\" + 0.140*\"pumps\" + 0.140*\"car\" + 0.117*\"hotel\" + -0.111*\"good\" + -0.109*\"panda\" + -0.108*\"fast\"'),\n",
       " (5,\n",
       "  '-0.339*\"(\" + -0.326*\")\" + 0.218*\"-\" + -0.199*\"pizza\" + -0.095*\"was\" + 0.094*\"their\" + -0.094*\"caesars\" + -0.091*\"would\" + 0.089*\"vietnamese\" + -0.086*\"section\"'),\n",
       " (6,\n",
       "  '-0.586*\"park\" + -0.182*\"has\" + -0.137*\"baseball\" + -0.137*\"playground,\" + -0.137*\"slides..etc.\" + -0.136*\"hang\" + -0.134*\"picnic\" + -0.125*\"usual\" + -0.113*\"that.\" + -0.111*\"amenities\"'),\n",
       " (7,\n",
       "  '-0.273*\"hotel\" + -0.187*\"mit\" + -0.179*\"das\" + -0.169*\"dem\" + 0.168*\"der\" + 0.147*\"man\" + -0.127*\"players\" + 0.125*\"lake\" + 0.123*\"auf\" + 0.122*\"ich\"'),\n",
       " (8,\n",
       "  '0.206*\"drive-thru\" + -0.198*\"pizza\" + -0.178*\"grocery\" + -0.163*\"vons\" + -0.147*\"good\" + -0.142*\"buffet\" + -0.117*\"organic\" + -0.116*\"places\" + 0.110*\"his\" + -0.110*\"some\"'),\n",
       " (9,\n",
       "  '0.159*\"his\" + 0.133*\"he\" + 0.129*\"grocery\" + 0.121*\"-\" + 0.111*\"location\" + -0.108*\"drive-thru\" + 0.100*\"area\" + 0.099*\"friend\" + -0.098*\"what\" + 0.098*\"pizza\"')]"
      ]
     },
     "execution_count": 47,
     "metadata": {},
     "output_type": "execute_result"
    }
   ],
   "source": [
    "\n",
    "lsi = models.LsiModel(corpus_tfidf, id2word=dictionary, num_topics=10)\n",
    "corpus_lsi = lsi[corpus_tfidf]\n",
    "lsi.print_topics(20)"
   ]
  },
  {
   "cell_type": "code",
   "execution_count": 48,
   "metadata": {},
   "outputs": [
    {
     "name": "stdout",
     "output_type": "stream",
     "text": [
      "[(0, -0.052941729409481685), (1, 0.13620408280632612), (2, -0.01140446797152277), (3, 0.026602861448545574), (4, 0.068885499004260123), (5, -0.0045745596906245538), (6, 0.066475667705673355), (7, 0.055539868805046251), (8, 0.022880915329761619), (9, 0.081113280192189177)]\n",
      "[(0, -0.077651180503146983), (1, 0.20284598058245243), (2, 0.20463934506666162), (3, 0.0018353286530534876), (4, -0.27100824417609121), (5, -0.015948310567770945), (6, 0.070774761714645071), (7, -0.11224052143547243), (8, 0.21557359231833778), (9, -0.10268610044292664)]\n",
      "[(0, -0.07542896182163808), (1, 0.17971118182407866), (2, -0.018899512467136649), (3, 0.0092929874453543445), (4, 0.0040354145551849564), (5, -0.020863020563312351), (6, 0.013246032318094444), (7, 0.040556439969869539), (8, -0.040956113394541235), (9, -0.060374424960133205)]\n",
      "[(0, -0.076796147882331328), (1, 0.19697379554575214), (2, 0.03070305273559144), (3, -0.011473781715391665), (4, 0.1111421870001591), (5, -0.054828024397519395), (6, -0.0097513906502259898), (7, 0.020014045456828972), (8, -0.055922214904613375), (9, -0.16634447277626449)]\n",
      "[(0, -0.086864348463304597), (1, 0.22105663527312661), (2, 0.044496280284090528), (3, -0.089967297577269595), (4, -0.16950063122980208), (5, -0.067143727931234007), (6, -0.041870439522746945), (7, -0.055321825751966196), (8, -0.065090341222019024), (9, -0.11733167953888361)]\n",
      "[(0, -0.074619733143724234), (1, 0.18735985684028214), (2, 0.0031372970021826801), (3, 0.021835822488548526), (4, 0.025248393964213502), (5, 0.038804758859065702), (6, -0.034476243973349086), (7, 0.060354734023610621), (8, 0.048654630569216754), (9, 0.025407351229803352)]\n",
      "[(0, -0.11365594049404726), (1, 0.28017577058430493), (2, -0.19831160138553458), (3, -0.074932909295107458), (4, -0.039860792952122609), (5, 0.089975270815211561), (6, -0.069648467586414103), (7, 0.0052785678981772544), (8, -0.045981304075472039), (9, 0.096155672348690865)]\n",
      "[(0, -0.09943457389004777), (1, 0.2567986099733191), (2, 0.20846205076294005), (3, 0.14868420898863272), (4, 0.033805678221898922), (5, 0.060435455892864046), (6, 0.094347628720460569), (7, 0.001494117617772658), (8, -0.0017492683530400041), (9, 0.17442729854652289)]\n",
      "[(0, -0.088185310722296545), (1, 0.1986034179994309), (2, -0.080907592858412383), (3, -0.015824578819757688), (4, -0.029889836571377577), (5, 0.067190868743722251), (6, -0.00076326244721802163), (7, -0.043888389180809506), (8, -0.16742579410985306), (9, -0.035866400712073351)]\n",
      "[(0, -0.11069316849510577), (1, 0.23257562076649477), (2, 0.18537755543169451), (3, -0.026450952253108697), (4, -0.010637039644991152), (5, -0.022528618192031048), (6, 0.0026442835521177941), (7, -0.064537262912272131), (8, -0.046007799925386575), (9, 0.065015321953813404)]\n",
      "[(0, -0.096694081782871658), (1, 0.24517661576410049), (2, 0.10855374908740273), (3, -0.012202498104673576), (4, -0.066550123873788503), (5, -0.017259787231547231), (6, 0.0078046782918318259), (7, -0.010817818898587919), (8, -0.0073047513608952156), (9, -0.083675838705752015)]\n",
      "[(0, -0.096953952853889511), (1, 0.24103118040048899), (2, -0.13884277491033462), (3, -0.059426060940514155), (4, -0.046566402466651342), (5, 0.040401602517473927), (6, -0.030632334117889681), (7, 0.0011736958959503857), (8, 0.031244850491979378), (9, 0.043887884244616017)]\n",
      "[(0, -0.069054576028239223), (1, 0.18086945175422384), (2, 0.18710750366504519), (3, 0.029721774735748926), (4, -0.09232607675382018), (5, -0.012975368177992906), (6, 0.0038373390599791535), (7, -0.043219616543824328), (8, -0.075174563648656975), (9, 0.11561051272533862)]\n",
      "[(0, -0.08136571420130731), (1, 0.19539669220636635), (2, 0.20931551149334315), (3, 0.14608920183881127), (4, 0.069388845460767123), (5, -0.024236220355694567), (6, -0.5216894857803146), (7, 0.059722505886055939), (8, 0.13044100707160458), (9, -0.055324196557724678)]\n",
      "[(0, -0.077819372143328389), (1, 0.20225023492971658), (2, 0.05549380142750817), (3, 0.0061892358360956419), (4, -0.095680322996760325), (5, -0.0091393861580165818), (6, 0.03567742201803778), (7, -0.030484130638296341), (8, -0.065078828928881491), (9, -0.13349008851269337)]\n",
      "[(0, -0.099677021954528613), (1, 0.24326228823255797), (2, -0.00033269572151112367), (3, -0.020411692305152815), (4, 0.0041313130490142347), (5, -0.014038791436019993), (6, 0.012730053868155344), (7, 0.00024651392002634234), (8, -0.057814581727602066), (9, -0.15684339144250975)]\n",
      "[(0, -0.078647667586754302), (1, 0.19555133276486728), (2, -0.064648115302719661), (3, -0.0015812559784034012), (4, 0.024597560744464016), (5, 0.0076342513917593341), (6, -0.018936525533164019), (7, 0.032696740693326655), (8, -0.045753587891989224), (9, -0.05572716954214476)]\n",
      "[(0, -0.079548333626038942), (1, 0.19821000903924899), (2, 0.0062248342177437833), (3, 0.035555474975735267), (4, -0.00363150756054798), (5, 0.13099853817447885), (6, 0.010260732502325169), (7, -0.011766295781266886), (8, -0.040915446316600497), (9, -0.015723857658553993)]\n",
      "[(0, -0.096329462998901258), (1, 0.24481997872708536), (2, 0.17641804075245532), (3, 0.042051563084770496), (4, -0.18598577281962603), (5, -0.029689781801609173), (6, 0.09132739534321295), (7, -0.022180923510888181), (8, 0.15479748699487672), (9, -0.083311047026176241)]\n",
      "[(0, -0.10954688829209214), (1, 0.27565575997769282), (2, -0.11291760475959238), (3, 0.034073473133297082), (4, 0.019196467912136139), (5, 0.01338321534307718), (6, -0.011995149135964726), (7, 0.021388621052049209), (8, 0.020267070954972856), (9, -0.11029477137791234)]\n",
      "[(0, -0.14096522793289115), (1, 0.2946724309609185), (2, -0.021492246617030933), (3, 0.13892519184162044), (4, 0.15851903611588539), (5, 0.0012947420036722493), (6, 0.090124968363103158), (7, -0.0070919343868574118), (8, 0.0088093125537628495), (9, -0.10874746812615123)]\n",
      "[(0, -0.089314368102863195), (1, 0.20230854618392063), (2, -0.013918394734090562), (3, -0.051438650949019935), (4, -0.055457885821697361), (5, -0.05527205108762033), (6, -0.029658320755079452), (7, -0.034419805370210513), (8, -0.06587068758816296), (9, -0.11896456608678999)]\n",
      "[(0, -0.43924856539968465), (1, -0.16905607663855721), (2, 0.043080473576695998), (3, -0.036538045773336636), (4, -0.12432665298551358), (5, 0.036065345420403773), (6, 0.010687627725286794), (7, 0.35289472400579008), (8, 0.010621233574947767), (9, -0.03832321110386238)]\n",
      "[(0, -0.064302708523961472), (1, 0.15211557397621681), (2, -0.020275069614538472), (3, 0.081847940741686401), (4, 0.06900800298524648), (5, 0.068091158663402332), (6, 0.02269367664910249), (7, 0.043340053971367032), (8, -0.020466094260667846), (9, -0.091431192729942129)]\n",
      "[(0, -0.098772987481348301), (1, 0.24145305511912285), (2, -0.025050419695913845), (3, 0.068084646916076241), (4, 0.05791037200093755), (5, 0.094766764674099335), (6, 0.064195568561948468), (7, 0.021619501971260547), (8, -0.073949579712054139), (9, -0.18367052394587247)]\n",
      "[(0, -0.060030245895166846), (1, 0.1531057749359537), (2, 0.12542260639993166), (3, 0.02035424300326814), (4, 0.011469596292020972), (5, 0.067183045617239978), (6, 0.019239220355655132), (7, 0.01392039857692895), (8, 0.002024841544144776), (9, 0.081655487765868603)]\n",
      "[(0, -0.10320152816251808), (1, 0.23168430467177278), (2, 0.11907648151964877), (3, 0.042924953178011482), (4, 0.041567241797464967), (5, -0.11795632015789372), (6, -0.031689344002122574), (7, 0.027989180036536686), (8, 0.042006119216569701), (9, -0.021852934251756551)]\n",
      "[(0, -0.076564495603395274), (1, 0.18129338572656159), (2, -0.13266418224010784), (3, -0.050014597203181348), (4, -0.081011200245641568), (5, 0.013408464361215731), (6, -0.030592151619582696), (7, -0.0029346696906974992), (8, 0.060714612681282303), (9, 0.10021613494789403)]\n",
      "[(0, -0.060558999842466439), (1, 0.15071617826892822), (2, -0.055340500403723555), (3, 0.040789660491129837), (4, 0.015109123799470103), (5, 0.04726390144254123), (6, -0.065075241880968179), (7, -0.0098424286283748403), (8, 0.012382126453301353), (9, -0.012462165143209048)]\n",
      "[(0, -0.53260245998273859), (1, -0.21845596284215987), (2, 0.017195137436029326), (3, -0.049638682787584737), (4, -0.072056063603160234), (5, 0.038341438255069485), (6, -0.0032304524364492808), (7, 0.12259845904785993), (8, -0.02462566299254032), (9, 0.0015919826176428085)]\n",
      "[(0, -0.074155002306772771), (1, 0.18558120673675416), (2, 0.11115425068857072), (3, 0.023514897229751374), (4, 0.061845713102656581), (5, 0.025926148142559738), (6, -0.082413625450431849), (7, 0.0084051676830136958), (8, -0.070974949541431201), (9, -0.0090706738289623549)]\n",
      "[(0, -0.070635853495868373), (1, 0.1703316852757023), (2, -0.08421051984624324), (3, -0.02176215027367551), (4, 0.045229867044085492), (5, 0.055663904591671594), (6, 0.006923634643695476), (7, 0.035734428826499839), (8, -0.013721928095827302), (9, -0.073069549283490159)]\n",
      "[(0, -0.10634537854039408), (1, 0.2594437994601877), (2, 0.064757538978649248), (3, 0.021147221384769758), (4, 0.075614342621524777), (5, -0.027496476361339908), (6, 0.10458341882233198), (7, 0.025482776610068255), (8, 0.054184744704319547), (9, -0.057545795767146898)]\n",
      "[(0, -0.069045166219576473), (1, 0.16174132628999671), (2, -0.0037785980207818912), (3, 0.026652423487904461), (4, 0.125922374248051), (5, 0.075177393231382478), (6, 0.055128893080077949), (7, 0.057094503789617432), (8, 0.024650584935797193), (9, 0.0338330089857811)]\n",
      "[(0, -0.08396488073144899), (1, 0.21088499141585199), (2, -0.015574476413393431), (3, 0.00065241297332009444), (4, 0.075432240159901479), (5, 0.027929713917599349), (6, 0.028916573463725729), (7, 0.039905647318663813), (8, -0.030263690291450148), (9, -0.15111099161815664)]\n",
      "[(0, -0.098676909836281065), (1, 0.19905409424870671), (2, -0.072368033819256383), (3, 0.011085759536744554), (4, 0.086341015013690972), (5, -0.3226304250422215), (6, 0.075191707009704983), (7, 0.061761963188428907), (8, -0.081453270866410965), (9, 0.055138894277307046)]\n",
      "[(0, -0.56357703292604355), (1, -0.22557578588509497), (2, 0.00070671995297729839), (3, -0.031109394877046601), (4, -0.06169058398166944), (5, 0.0050560837323104712), (6, 0.0097777627501090345), (7, 0.17686321373607936), (8, -0.025635739039107933), (9, -0.011164086517097658)]\n",
      "[(0, -0.095531626289702298), (1, 0.2382220251756812), (2, -0.039097056458854237), (3, -0.0076070964749578619), (4, -0.10608794193443578), (5, -0.10829827983196025), (6, 0.0068907772243616281), (7, 0.016060437641973353), (8, 0.087548954448669447), (9, 0.015813306622086801)]\n",
      "[(0, -0.051885870315558684), (1, 0.1166551874260611), (2, 0.018938387844892643), (3, 0.046756715864351858), (4, 0.074219286651260319), (5, 0.095422571851367377), (6, -0.016979361457792053), (7, 0.008859891410208872), (8, 0.013047473874199989), (9, 0.044403563175975949)]\n",
      "[(0, -0.07137398707691496), (1, 0.17433968409267506), (2, -0.087675415369953574), (3, -0.016711924451093388), (4, -0.041824439688746204), (5, 0.046351827027859831), (6, 0.014486097894443892), (7, 0.00096268375037191823), (8, -0.0641299501284643), (9, -0.064076529640513427)]\n",
      "[(0, -0.059101905230450225), (1, 0.14960398092261495), (2, 0.21272570811979319), (3, -0.08887110178254401), (4, 0.070170237181560347), (5, 0.07928928681096177), (6, -0.025465494096029124), (7, -0.0019252821718915827), (8, -0.13497774168610452), (9, 0.21133890302506272)]\n",
      "[(0, -0.053878165167970359), (1, 0.14030502021845473), (2, 0.023851522019672663), (3, 0.0067621084603818656), (4, 0.029888853960918844), (5, -0.054635285617347033), (6, 0.061170750255157273), (7, 0.024739346420297174), (8, 0.12801933370767304), (9, -0.045356463129872342)]\n",
      "[(0, -0.054941003369432764), (1, 0.13445066958045832), (2, -0.051306335600674616), (3, 0.018580664701025134), (4, 0.036671993398188031), (5, 0.014048422943378354), (6, 0.044916310491124323), (7, 0.029437555032239753), (8, 0.0077813528099567927), (9, -0.082610209775813404)]\n",
      "[(0, -0.048306175276675467), (1, 0.11236433725390874), (2, -0.074239003096408851), (3, 0.0032181204803037413), (4, -0.010571621404417616), (5, 0.087138786797104753), (6, 0.015405209179107629), (7, 0.020336001523712746), (8, 0.10124381325373495), (9, 0.069392454794064196)]\n",
      "[(0, -0.47229584781168799), (1, -0.19604521117238849), (2, 0.0109137586184389), (3, -0.0098420240018613405), (4, -0.035581328376818204), (5, 0.035843194922216708), (6, 0.0014026230473617599), (7, 0.081323107844804024), (8, -0.0074316999167973793), (9, 0.013579102922699229)]\n",
      "[(0, -0.060717979964821985), (1, 0.14756055121062789), (2, 0.29582667611405183), (3, -0.78569416948647075), (4, 0.41227746653552633), (5, 0.060533783545114218), (6, 0.02111998993963965), (7, 0.0078838766737274312), (8, 0.11445409387890099), (9, -0.0098127527236527897)]\n",
      "[(0, -0.078899775109301504), (1, 0.18738607508602284), (2, 0.021576158649931794), (3, -0.01509942359946332), (4, -0.026242111738878689), (5, -0.097786098776404096), (6, 0.021481663509887859), (7, -0.005716039617092176), (8, -0.040468569883642717), (9, 0.071704863774395458)]\n",
      "[(0, -0.058172110872261804), (1, 0.13853938510920358), (2, 0.22876900758897808), (3, 0.11717003106924655), (4, 0.10705451187397026), (5, -0.024260814788563342), (6, -0.71943290492894152), (7, 0.056079275074983788), (8, -0.010668082821534353), (9, -0.11573292237901583)]\n",
      "[(0, -0.085955988785916843), (1, 0.17101650867956497), (2, -0.12544275343322397), (3, 0.023756877689107975), (4, 0.056055890703837208), (5, -0.11752964937997219), (6, -0.026943600260765557), (7, 0.076899359910650625), (8, 0.11432185388479381), (9, 0.15054524495244917)]\n",
      "[(0, -0.075114207246468667), (1, 0.1893467411606129), (2, -0.030058304814350213), (3, 0.017360297138168803), (4, 0.011699021887993898), (5, -0.010907323505784728), (6, 0.031566719962619283), (7, 0.025833563231382202), (8, -0.093351935093974645), (9, -0.084790955314161601)]\n",
      "[(0, -0.10579148702188503), (1, 0.25325763972340398), (2, -0.13412103959737942), (3, 0.032006734439544077), (4, 0.011903779587922894), (5, -0.0055689522307967622), (6, 0.024836227312126896), (7, 0.038240262062392054), (8, 0.13097555465055549), (9, 0.1408467907904529)]\n",
      "[(0, -0.071759647985744801), (1, 0.17351053594413585), (2, -0.087803710162625906), (3, 0.032468989636001831), (4, 0.051307668440945364), (5, 0.053444842342466117), (6, 0.019142864228950191), (7, 0.053902580405840173), (8, 0.0093939858858982078), (9, -0.031845536956667989)]\n",
      "[(0, -0.081660720141227827), (1, 0.20056654070229216), (2, 0.18910902021968934), (3, 0.069989156707285893), (4, -0.016542129720302529), (5, -0.021237373126457196), (6, 0.013743602620546335), (7, -0.0076948293568490367), (8, 0.062787437207032101), (9, 0.091507527237631253)]\n",
      "[(0, -0.067413240904418539), (1, 0.17321541978814739), (2, 0.1207749519852504), (3, -0.036996087692306806), (4, -0.29778456550140275), (5, -0.073250363743174299), (6, 0.060362863044729195), (7, -0.075280026047130258), (8, 0.29457349283796619), (9, -0.20664187112515689)]\n",
      "[(0, -0.076714931732491054), (1, 0.18909297017473065), (2, -0.11946175025548568), (3, -0.041708366314330274), (4, -0.084581295112915317), (5, 0.082940786938631286), (6, -0.026661985093966591), (7, -0.039558235152898399), (8, -0.096689532801229272), (9, 0.032682587117540851)]\n",
      "[(0, -0.040034177186324439), (1, 0.10007449057747748), (2, 0.10148649411738456), (3, -0.0072939192737756318), (4, -0.23883482364325531), (5, -0.031686295032863576), (6, 0.067786565830293466), (7, -0.077159979393276748), (8, 0.24094264455089354), (9, -0.11585117152863605)]\n",
      "[(0, -0.069921769897903566), (1, 0.17589603739614348), (2, 0.0062250301720003813), (3, 0.10283747715281694), (4, 0.070863890059013779), (5, 0.068976401250370328), (6, 0.053280756592735172), (7, 0.063143943952763112), (8, 0.0042880480051892683), (9, -0.12421702528036228)]\n",
      "[(0, -0.084631701711103624), (1, 0.21689334141528507), (2, -0.031044433526529865), (3, 0.0023569219982372694), (4, 0.13187152170709787), (5, 0.0093844241579832295), (6, 0.04069642474282581), (7, 0.055868073759767406), (8, 0.035173696032762179), (9, -0.076327402898843141)]\n",
      "[(0, -0.12150513601993833), (1, 0.26500390597443885), (2, -0.056763519467681815), (3, 0.10212426132525922), (4, 0.096472542343096837), (5, 0.05065971205831344), (6, 0.056895756155740093), (7, -0.035969856264709277), (8, -0.060313732491852665), (9, -0.08423744277557059)]\n",
      "[(0, -0.03929724852150393), (1, 0.1019974363109582), (2, -0.085666213264091601), (3, -0.014904332316183015), (4, -0.0063497309457040867), (5, -0.0040848280520183675), (6, 0.019356430121605137), (7, 0.0011255281558401877), (8, 0.089260473600553572), (9, 0.087743805037053979)]\n",
      "[(0, -0.03842219333066961), (1, 0.093375384714361354), (2, -0.0068605033113045607), (3, 0.025335219893340567), (4, 0.092121945647401102), (5, 0.059865059083862852), (6, -0.0064248849799148954), (7, 0.047083616418247695), (8, 0.00037880222667513517), (9, -0.0049025381238963642)]\n",
      "[(0, -0.35660182661784939), (1, -0.1460742982989946), (2, 0.0039949987323600568), (3, -0.039288630772333029), (4, -0.087129084872832233), (5, 0.035771850551676192), (6, -0.0060909119952633466), (7, 0.15882928064222027), (8, -0.04362870507191375), (9, 0.020460328971868461)]\n",
      "[(0, -0.67464563084805651), (1, -0.26837447240526452), (2, 0.0047534174164997481), (3, -0.0029767568301690057), (4, -0.011182753860001941), (5, -0.0051276238739045672), (6, 0.010793183155319346), (7, 0.017090257364363724), (8, -0.014288415420121429), (9, -0.003458322082255192)]\n",
      "[(0, -0.080630621202599617), (1, 0.20420633876107475), (2, 0.10450790038317542), (3, 0.071560015735810181), (4, -0.050248255721565029), (5, -0.012811922655099799), (6, 0.090920204820907985), (7, 0.0053816078296629339), (8, 0.0668187955939369), (9, 0.080885460660800865)]\n",
      "[(0, -0.12190510004084246), (1, 0.28398210188026918), (2, -0.1678901875802552), (3, 0.047559885837247524), (4, 0.027784507539355494), (5, 0.057104994164001638), (6, -0.067449127799470529), (7, 0.0021995093343775036), (8, 0.12691766229878632), (9, 0.23172663345910663)]\n",
      "[(0, -0.095445428955984485), (1, 0.2442542453767684), (2, 0.23254383179473279), (3, -0.010317575818438406), (4, -0.016861292552966263), (5, -0.016949752807593779), (6, 0.11272927478232719), (7, -0.026236998233878105), (8, -0.0067580383495693726), (9, 0.081838724143573391)]\n",
      "[(0, -0.096671366778479734), (1, 0.24532270659689653), (2, -0.10845972649011838), (3, -0.14199588980541369), (4, -0.14570857855822805), (5, 0.13333806103287171), (6, -0.036259409255868874), (7, -0.054349990050335119), (8, -0.082390847981077098), (9, -0.087230545161528367)]\n",
      "[(0, -0.14900884235285616), (1, 0.30265381234105859), (2, -0.20159205184883072), (3, -0.033908387204377229), (4, 0.072169277779841987), (5, -0.44158889620361835), (6, 0.020021987779113865), (7, 0.064831854254892768), (8, 0.050990940235339483), (9, 0.019753442631161112)]\n",
      "[(0, -0.1061546040871772), (1, 0.20451450644855326), (2, -0.0753324403512622), (3, 0.037428047524550465), (4, 0.058826669985744352), (5, 0.064720681776829908), (6, -0.0024990759753149858), (7, -0.045310769291419403), (8, 0.047981294464608248), (9, 0.036362364759260045)]\n",
      "[(0, -0.082550223904418435), (1, 0.20814586861468337), (2, -0.16699517444657874), (3, -0.092668872974476332), (4, -0.13575329111312467), (5, 0.097022046472197157), (6, -0.087479422687740491), (7, -0.050898459298773874), (8, -0.029686399676725757), (9, 0.060172280022895749)]\n",
      "[(0, -0.1041111192065589), (1, 0.24992554584169502), (2, -0.064305458449313846), (3, 0.059280524596797911), (4, 0.060896062086048697), (5, 0.02295463038495299), (6, 0.077366357381769071), (7, 0.053782285644710992), (8, 0.056628173250833747), (9, -0.1099327417577472)]\n",
      "[(0, -0.097655980078322255), (1, 0.19607009489526292), (2, -0.057147918552463157), (3, 0.086743987565158845), (4, 0.099218708660074803), (5, 0.059303970485057901), (6, -0.042903090755386716), (7, -0.077014190537152902), (8, 0.02011835724779449), (9, 0.015455539744985126)]\n",
      "[(0, -0.078038170602626689), (1, 0.16274179724466251), (2, -0.010426839372553745), (3, -0.050821196862992718), (4, -0.047935323191652057), (5, 0.045415611249265936), (6, -0.029121304897832028), (7, -0.052295283749057869), (8, -0.19134422614837607), (9, -0.0023871671423152923)]\n",
      "[(0, -0.069402511448049278), (1, 0.17177768591365636), (2, -0.1432758954220141), (3, -0.085202125236346307), (4, -0.086455751112825982), (5, 0.079077287262042509), (6, -0.065707973260188859), (7, -0.056303605034909623), (8, -0.0049165592307197775), (9, 0.056972740442265087)]\n",
      "[(0, -0.066426366870343437), (1, 0.15550447169278461), (2, -0.027068232964746905), (3, 0.077578414823686395), (4, 0.092992619804369236), (5, 0.076462795481798893), (6, 0.048384961954900524), (7, 0.042915107328742735), (8, -0.046387880001914239), (9, -0.052200039753029434)]\n",
      "[(0, -0.052686536105851278), (1, 0.13373459578267621), (2, -0.037695365783226457), (3, -0.027498288963399654), (4, -0.0052965078152815998), (5, 0.053582150198545411), (6, -0.068921974591260232), (7, -0.010774553222293818), (8, -0.03013195240363525), (9, 0.022124535837174057)]\n",
      "[(0, -0.069705682684665746), (1, 0.17542052691442153), (2, -0.078049769278390871), (3, -0.0065670876387728724), (4, -0.021189146718209532), (5, 0.062641732153631349), (6, 0.023739780443774079), (7, 0.027307070796822323), (8, 0.10406211876547203), (9, -0.12135489227380586)]\n",
      "[(0, -0.1047619266152232), (1, 0.26614381785864499), (2, 0.023400717980407854), (3, -0.11208549681750246), (4, -0.13733456640713346), (5, -0.15865032218536856), (6, -0.056047162275544009), (7, -0.042094005690487955), (8, -0.14614015321714044), (9, 0.0080434753864749593)]\n",
      "[(0, -0.084741779409809911), (1, 0.21521385227800888), (2, -0.14226901166128689), (3, -0.026122208726388964), (4, -0.041489442048665864), (5, 0.0080208081900125152), (6, -0.049516162853636761), (7, 0.0086297465329944079), (8, 0.062018988446921094), (9, 0.085723936619608379)]\n",
      "[(0, -0.079358892051134888), (1, 0.20226157438848594), (2, -0.0091043695465887753), (3, -0.045863790642919934), (4, -0.079611059024752545), (5, 0.12930012897069057), (6, 0.051705101299664019), (7, -0.042857864215995543), (8, -0.10533629070301564), (9, -0.046751377552535993)]\n",
      "[(0, -0.064297941685135154), (1, 0.095499664299408371), (2, -0.031885950935105989), (3, 0.035173030420712466), (4, 0.10882232038726987), (5, 0.035696645776578446), (6, 0.00091731645491591499), (7, 0.009368413407775002), (8, -0.0076469222326870012), (9, 0.00084080437737407687)]\n",
      "[(0, -0.085687579943435691), (1, 0.20462273285711391), (2, -0.14787213800560864), (3, -0.021851026322171698), (4, -0.066289389679525426), (5, 0.0026433504115364196), (6, -0.031640328226432229), (7, -0.040324431678324293), (8, 0.049529848125743112), (9, 0.021888720922346103)]\n",
      "[(0, -0.10341801513751134), (1, 0.24984803807646677), (2, -0.0062763205280455571), (3, -0.14804997500917419), (4, -0.19717314459134513), (5, -0.10086962016971161), (6, -0.022196356138559463), (7, -0.078530049241738342), (8, 0.072941157258097605), (9, -0.053917520237518966)]\n",
      "[(0, -0.061426031566935352), (1, 0.15714378135188628), (2, -0.036676875402846906), (3, -0.16043356587864702), (4, -0.092954395761721875), (5, 0.15566504642621598), (6, -0.053121083949558327), (7, -0.053269024831102463), (8, -0.068755464438170391), (9, -0.14446916766895618)]\n",
      "[(0, -0.061879042442131549), (1, 0.14955772631305739), (2, -0.10634274895073284), (3, -0.03418007867674111), (4, -0.027040520344861575), (5, 0.042884817027495734), (6, -0.046262506419100784), (7, -0.0051756187609777876), (8, -0.038407215115815234), (9, 0.024407018311655405)]\n",
      "[(0, -0.064409501359890514), (1, 0.16255385854996643), (2, -0.051939162899769672), (3, -0.06673363274455664), (4, -0.065019429331399842), (5, 0.15649895203802994), (6, -0.036560403501230035), (7, -0.052106392187406279), (8, -0.1009114072127151), (9, 0.033933513394572699)]\n",
      "[(0, -0.11244079094809929), (1, 0.23824619050058474), (2, -0.089811892834294346), (3, 0.079771836375985616), (4, 0.12383299088768754), (5, -0.1840199986013315), (6, 0.046283310944395958), (7, 0.10878153126144566), (8, 0.10297237224183579), (9, 0.17026152196750297)]\n",
      "[(0, -0.073473974452136298), (1, 0.18805758470771114), (2, -0.19508458900480083), (3, -0.090781674793638176), (4, -0.10612449854749809), (5, -0.040702525252526295), (6, -0.06938596426606157), (7, -0.0080814225733930514), (8, 0.047315289034851667), (9, 0.058130353529492522)]\n",
      "[(0, -0.094505955666381466), (1, 0.23719774853331704), (2, 0.011398017781635857), (3, 0.01583609724107676), (4, 0.021855426771823273), (5, 0.033783113180317306), (6, -0.037292337728928392), (7, -0.0089445583825073487), (8, -0.001139774892995851), (9, -0.10886917900073599)]\n",
      "[(0, -0.10294248955489475), (1, 0.2447297210903471), (2, -0.14121369590802324), (3, 0.05579240328963056), (4, 0.089358552408062744), (5, 0.045425109640133701), (6, -0.017358652724266149), (7, 0.060497414833907748), (8, 0.1098226846852863), (9, 0.11386910771027073)]\n",
      "[(0, -0.088293830148513927), (1, 0.22312474874855601), (2, -0.070629477908904961), (3, -0.073675721092328228), (4, -0.13592866367750153), (5, -0.12275309165774753), (6, -0.047657055452966404), (7, -0.06015151321556992), (8, 0.046048485085910584), (9, -0.059798621681333666)]\n",
      "[(0, -0.075218316722153469), (1, 0.16626794996893279), (2, 0.021582656391974132), (3, 0.045310469633693708), (4, 0.069478438508645046), (5, -0.052108839710061548), (6, 0.03048888105846053), (7, 0.049937175134088442), (8, 0.014904552117867717), (9, 0.039267170280577669)]\n",
      "[(0, -0.085695590407714642), (1, 0.20326213685512765), (2, -0.014936095751200362), (3, 0.0093766386120449682), (4, 0.085045457770834984), (5, -0.0040572898478538309), (6, -0.011591008504329703), (7, 0.078898338029457032), (8, -0.033856492823918373), (9, -0.011121639224233374)]\n",
      "[(0, -0.14214083728338969), (1, 0.33790354034926612), (2, -0.0046104037862793722), (3, 0.00081215225792531296), (4, 0.14812880213644658), (5, -0.065079005731186551), (6, -0.034416686507640071), (7, 0.086499769066275212), (8, 0.087134089285426791), (9, -0.019344950111559508)]\n",
      "[(0, -0.10222921417942626), (1, 0.21126059710665485), (2, -0.088762202447594016), (3, 0.055854097228245324), (4, 0.09973976959430908), (5, 0.063103834305606232), (6, 0.017510136868231146), (7, -0.070256441636507544), (8, 0.026792307406828565), (9, 0.022792819177073216)]\n",
      "[(0, -0.67324767752678694), (1, -0.25652757908932), (2, -0.013251458516575627), (3, 0.045459693807319027), (4, 0.088159296445359692), (5, -0.054361214314239237), (6, 0.013278324557166522), (7, -0.23950657842942186), (8, 0.01159361904320438), (9, -0.0034949782235085473)]\n",
      "[(0, -0.076646600296030057), (1, 0.17011596625919154), (2, -0.030207119475563225), (3, 0.033164032662737153), (4, 0.048811361880768157), (5, 0.089562423555851783), (6, 0.043950979995044284), (7, 0.011194122537792579), (8, -0.041192433732120795), (9, 0.02821651719086668)]\n",
      "[(0, -0.071621692667508383), (1, 0.17886007233337081), (2, -0.028925894371715964), (3, 0.023568723681387526), (4, -0.0094608003643542188), (5, 0.10242790512455217), (6, 0.0037044830416958375), (7, 0.0065400137284862027), (8, 0.035920771065054938), (9, -0.098979777629661592)]\n",
      "[(0, -0.091632517301671948), (1, 0.21834424679676775), (2, 0.17972747678804926), (3, -0.09772629504083008), (4, -0.15977026129506336), (5, -0.00092457900138507372), (6, -0.055352323132205644), (7, -0.10357953565404973), (8, -0.015479318900792327), (9, 0.018998072293316497)]\n",
      "[(0, -0.0320027650816413), (1, 0.081249863910169015), (2, 0.026584695663102328), (3, 0.030111427479130762), (4, 0.055526622244419427), (5, 0.066981351953205287), (6, 0.011208194805032788), (7, 0.035215886619075251), (8, 0.014515336796591104), (9, 0.01072169732769818)]\n",
      "[(0, -0.11888001107888309), (1, 0.21864293989506622), (2, -0.066971683264040571), (3, 0.090253881062040117), (4, 0.12972081817904474), (5, 0.021098352991261005), (6, -0.012899528572205611), (7, -0.085718205172487558), (8, 0.046338896705576553), (9, 0.067153845597856504)]\n",
      "[(0, -0.083615824751030202), (1, 0.19544190758320426), (2, -0.12602967493050318), (3, -0.037270494911655808), (4, 0.039786879609151359), (5, 0.06748693350699933), (6, -0.038087757695883899), (7, 0.026362149789802832), (8, 0.071394720668089218), (9, 0.058179690117782373)]\n",
      "[(0, -0.089109885064661998), (1, 0.21979538117833347), (2, -0.0020679431777693696), (3, 0.072946888589408607), (4, 0.14598312751414594), (5, 0.07908632613990893), (6, 0.085342294553866202), (7, 0.023817243614541475), (8, -0.22573021470713814), (9, -0.14972663229498756)]\n",
      "[(0, -0.097187756525294544), (1, 0.2238357334791472), (2, -0.092883367983437978), (3, 0.0083516694899058736), (4, 0.021771308549961441), (5, 0.049555439567419785), (6, -0.022287977867463449), (7, 0.022424943489133181), (8, 0.12388074854179332), (9, 0.056233948037212204)]\n",
      "[(0, -0.071956602289359448), (1, 0.18814927171908444), (2, 0.17976310140730747), (3, 0.043922108660405301), (4, -0.060814734724942622), (5, -0.024336678440718133), (6, 0.065103430847285246), (7, -0.037961945977297275), (8, -0.044594915545512363), (9, 0.049289814478240164)]\n",
      "[(0, -0.45395728239887939), (1, -0.18594397655205167), (2, 0.0072901197393755064), (3, -0.032648854818494055), (4, -0.049095902131849542), (5, 0.014734684368725378), (6, -0.0050673201801622776), (7, 0.086211985220168555), (8, -0.028862762486614006), (9, 0.0069270558625844445)]\n",
      "[(0, -0.070428854455600959), (1, 0.14454684674223134), (2, -0.051211864293829838), (3, 0.03369264732512442), (4, 0.048098978727507243), (5, 0.07678320216757141), (6, -0.021177844118724247), (7, 0.024413365367107535), (8, 0.068123608543809278), (9, 0.0014724477313566209)]\n",
      "[(0, -0.54504302485055767), (1, -0.21504967001117203), (2, 0.0017831644973791544), (3, -0.0097900009021552326), (4, -0.031905944753184076), (5, 0.00022536451253519959), (6, -0.0053425062845982463), (7, 0.098281020066029831), (8, -0.0041345343387910382), (9, 0.010599382804147335)]\n",
      "[(0, -0.094143490363406065), (1, 0.23917915224302674), (2, -0.18107457271684307), (3, -0.11801315380755761), (4, -0.13930821527281326), (5, 0.1347862202132207), (6, -0.085688042579865467), (7, -0.043028851939017967), (8, -0.07313349003154343), (9, 0.11007564245940868)]\n",
      "[(0, -0.083921614160238661), (1, 0.19373830704905506), (2, 0.12213628377280052), (3, 0.039197584312469572), (4, 0.078622672983162653), (5, -0.03282894871731442), (6, 0.019954154280223853), (7, -0.01924421854546236), (8, -0.002515461831038208), (9, 0.0044297555301674374)]\n",
      "[(0, -0.11490901644418043), (1, 0.26207377865346559), (2, -0.0050080002927373243), (3, 0.03652548054639411), (4, 0.032243370752959528), (5, 0.022901545008955269), (6, -0.010556290016104565), (7, -0.059890872591449991), (8, 0.025936979686751307), (9, -0.051882380466248303)]\n",
      "[(0, -0.4741909804653161), (1, -0.1942003098645555), (2, 0.011551402912231123), (3, -0.031392031657232845), (4, -0.083069483067562108), (5, 0.03563706307885723), (6, -0.005850090870076612), (7, 0.21074301773807394), (8, -0.034928837357923348), (9, 0.0033845185444060753)]\n",
      "[(0, -0.10739002932618338), (1, 0.24299735494384947), (2, -0.17194934263615039), (3, -0.090453868749938868), (4, -0.1074321666126923), (5, 0.0078410088107625699), (6, -0.047691952511025162), (7, -0.012319957047335099), (8, 0.096263084779809119), (9, 0.043075183682966103)]\n",
      "[(0, -0.085252362990594188), (1, 0.20290937082559188), (2, -0.0067487679716540967), (3, 0.065130235878311696), (4, 0.13639441707568881), (5, 0.050102902989408386), (6, 0.07469639662271263), (7, 0.029762901851815314), (8, -0.25019839420849493), (9, -0.19077407381703809)]\n",
      "[(0, -0.67208067700375007), (1, -0.25839075378333859), (2, -0.0076879767786358407), (3, 0.0099974324953046589), (4, 0.014134078965429944), (5, -0.01073396133090186), (6, -0.00089578070083126541), (7, -0.10689668669318761), (8, -0.0028973087965652377), (9, -0.0089530395552962824)]\n",
      "[(0, -0.07445114113140934), (1, 0.18328289358977712), (2, -0.094807588998787662), (3, 0.016426448152771438), (4, 0.062480365407349199), (5, 0.0066323270987688728), (6, -0.041670181807674622), (7, 0.052435363416305496), (8, 0.11785580754362987), (9, 0.10383868985932253)]\n",
      "[(0, -0.065631818130017811), (1, 0.16604269281130449), (2, 0.091314090266642847), (3, -0.033058679696412512), (4, -0.076277709335296789), (5, -0.18447986427625368), (6, -0.044007110916000756), (7, -0.025912325446002894), (8, -0.29559697297018861), (9, 0.13471053952473219)]\n",
      "[(0, -0.1059536884269886), (1, 0.26980204957897619), (2, 0.29085714489344089), (3, 0.10262458532938465), (4, -0.10511250639758252), (5, 0.031165203104258913), (6, 0.13007269737367866), (7, -0.022621964456595436), (8, 0.037046106746455795), (9, 0.040468788569202246)]\n",
      "[(0, -0.036238022929485539), (1, 0.068903866888961524), (2, -0.016588358614739063), (3, -0.0049135955971346644), (4, -0.052064495923460456), (5, 0.0034764371879227171), (6, 0.0184126410229234), (7, -0.011865785390499607), (8, -0.027238935874021115), (9, 0.056952883669989102)]\n",
      "[(0, -0.066773468093478269), (1, 0.1580212250408721), (2, -0.046356206438612262), (3, 0.0095093141200603051), (4, -0.06392136804387348), (5, 0.095570062802106448), (6, 0.014433800461987948), (7, -0.033062250058076212), (8, 0.099802326449946299), (9, 0.03845146247601533)]\n",
      "[(0, -0.068743050358725841), (1, 0.18112789593314049), (2, 0.18067297518765058), (3, -0.072819997046852727), (4, -0.089184335883086926), (5, -0.045208736509926094), (6, 0.032463661637518612), (7, -0.06213878194422473), (8, -0.038071053846720888), (9, 0.012733686314094585)]\n",
      "[(0, -0.086605997686654973), (1, 0.22410331263838545), (2, 0.21594629063649817), (3, 0.088310369311449061), (4, 0.033772778416712251), (5, 0.014546679372348326), (6, 0.010128557668261765), (7, 0.032373755451057841), (8, -0.037476713295309348), (9, 0.10701259977545459)]\n",
      "[(0, -0.087440834581658244), (1, 0.21836426302185688), (2, -0.024865131361314234), (3, 0.025497463281388896), (4, 0.079583022953126234), (5, 0.05166760341146865), (6, 0.092630501867826842), (7, 0.03753168639447154), (8, -0.0099044268858740261), (9, -0.11493687741220637)]\n",
      "[(0, -0.050681711199404525), (1, 0.1269168113603355), (2, 0.12551105843969754), (3, 0.050934750338330947), (4, 0.0036598021596447889), (5, 0.049989468996750185), (6, -0.0072912832251628076), (7, 0.010274283777112156), (8, -0.36158914316339608), (9, 0.17749020641079583)]\n",
      "[(0, -0.076027711739667977), (1, 0.19092108811508676), (2, -0.053643396067377065), (3, -0.038865436702526054), (4, -0.046130174833244234), (5, 0.068011174874692867), (6, -0.01020933711655397), (7, -0.025524982394024953), (8, 0.099634070051255755), (9, 0.069507306086530413)]\n",
      "[(0, -0.091535988628154805), (1, 0.23579933301518241), (2, -0.12379413920091836), (3, -0.026214876373494414), (4, -0.036640891162335834), (5, 0.10542648863078891), (6, -0.01922961987166159), (7, 0.012304657949648683), (8, -0.052848100664080633), (9, 0.0570739765976584)]\n",
      "[(0, -0.09224983475308296), (1, 0.22277399880843016), (2, 0.041673500244938447), (3, 0.085522264493158043), (4, 0.070816719073680132), (5, 0.046387900518915996), (6, 0.071867426004656648), (7, 0.028715454535273931), (8, -0.037428481658655886), (9, 0.01780826894063945)]\n",
      "[(0, -0.59000075297503207), (1, -0.22655528235958852), (2, 0.0015142048341201394), (3, -0.030572698636550162), (4, -0.036984867619627472), (5, -0.005114422028077872), (6, 0.006503019401418399), (7, 0.17556221351345502), (8, -0.0028588880918156787), (9, 0.0058142891838565414)]\n",
      "[(0, -0.16141540309872107), (1, 0.27837147051751437), (2, -0.10652815114290866), (3, 0.041458242073945967), (4, 0.1321698133209826), (5, -0.28987389655038959), (6, 0.043273683537617125), (7, 0.0232309830006702), (8, 0.061350290580861035), (9, 0.049802030503444193)]\n",
      "[(0, -0.068941372430853479), (1, 0.17730248112612615), (2, 0.13449574395067837), (3, 0.032222534248383394), (4, 0.01730779373003535), (5, -0.0083848663213370884), (6, -0.033120725800663255), (7, 0.010965990966877519), (8, -0.0029805153239499415), (9, -0.044482799916823676)]\n",
      "[(0, -0.049324468155301247), (1, 0.10708131900989916), (2, 0.011060412592974115), (3, -0.02667336836792273), (4, 0.076124013916801542), (5, 0.052919852878344789), (6, -0.058188312753873449), (7, -0.019731043990287789), (8, -0.076063891293065636), (9, 0.011884092186493899)]\n",
      "[(0, -0.076105844902599196), (1, 0.18670922480065213), (2, 0.15220552126435405), (3, 0.037207038830745984), (4, 0.012636931693858728), (5, 0.017057539124454405), (6, 0.05569375606748591), (7, 0.0017957669184232652), (8, -0.015162246589352665), (9, 0.027103144137798095)]\n",
      "[(0, -0.060717979964821985), (1, 0.14756055121062789), (2, 0.29582667611405183), (3, -0.78569416948647075), (4, 0.41227746653552633), (5, 0.060533783545114218), (6, 0.02111998993963965), (7, 0.0078838766737274312), (8, 0.11445409387890099), (9, -0.0098127527236527897)]\n",
      "[(0, -0.6689078208407887), (1, -0.25571018593301587), (2, -0.0089027836469541301), (3, 0.029336950404686493), (4, 0.063768621420463856), (5, -0.010875555972557821), (6, -0.0071713380680454583), (7, -0.25420145301514568), (8, 0.026135205782091088), (9, 0.0079552167377022302)]\n",
      "[(0, -0.10685726049758079), (1, 0.25926517812950484), (2, 0.10826273355074939), (3, 0.13646324250537073), (4, 0.055984595950375797), (5, -0.011826848939996169), (6, -0.10690595375969371), (7, 0.07476343112842132), (8, 0.14956583224267125), (9, 0.11555026972727309)]\n",
      "[(0, -0.11199059505075376), (1, 0.20616966223385014), (2, -0.017021687514373496), (3, 0.066897295453403408), (4, 0.11803441050762756), (5, 0.1493182869142366), (6, 0.026724386755899842), (7, -0.082590045489273275), (8, -0.052812568490133376), (9, 0.067729994484689471)]\n",
      "[(0, -0.085045207052666674), (1, 0.21744935069086974), (2, 0.22863894172602892), (3, 0.070590975081440563), (4, -0.053134026131015637), (5, -0.036321490210972966), (6, -0.11141813486264018), (7, -0.031911503715667207), (8, 0.029247376182315599), (9, 0.071796796240444272)]\n",
      "[(0, -0.039411646828318506), (1, 0.1009777480627246), (2, -0.058428349227249217), (3, -0.07373412070949481), (4, -0.065028923049180079), (5, 0.15870599058755483), (6, 0.0063220240228876708), (7, -0.016088276963173394), (8, -0.04561780441324189), (9, -0.15988013435019444)]\n",
      "[(0, -0.071298260154794638), (1, 0.18133278943232933), (2, 0.10347871416426399), (3, 0.071223516222481936), (4, -0.032910646282442516), (5, -0.039949951374287494), (6, 0.14694843109320618), (7, -0.020660772693021849), (8, -0.058615445489609924), (9, 0.0053200690896161524)]\n",
      "[(0, -0.10621975199782824), (1, 0.2702164730380423), (2, -0.17750036465778216), (3, -0.097491588712806568), (4, -0.10205143310867815), (5, 0.20965959246190216), (6, -0.071532329958594529), (7, -0.034733796172329287), (8, -0.11173269733883694), (9, 0.05180346245298071)]\n",
      "[(0, -0.10086546984416274), (1, 0.22732078399924857), (2, -0.038035498157277178), (3, -0.062481017699930724), (4, -0.04518076795439413), (5, 0.018220247562013188), (6, -0.01566140263242365), (7, -0.065614896474667644), (8, -0.15544349199682697), (9, 0.00027796769654690311)]\n",
      "[(0, -0.057215063643285553), (1, 0.14668094757756545), (2, 0.059574479637245888), (3, -0.0053853982015050796), (4, 0.033598606884372398), (5, 0.001720944980483677), (6, 0.04675273452761218), (7, 0.004057374010167928), (8, -0.097122577842725585), (9, 0.12986298553177289)]\n",
      "[(0, -0.069834799998137964), (1, 0.13335459313758613), (2, 0.044161676937682512), (3, 0.12214468815425569), (4, 0.088501900521055027), (5, -0.057516007589568423), (6, -0.074118945700886077), (7, -0.03922788332613901), (8, 0.016385393513067607), (9, -0.12577275456107773)]\n",
      "[(0, -0.1062006800617757), (1, 0.27385240441828751), (2, 0.32769004821194708), (3, 0.06357548745615435), (4, -0.052561305216985953), (5, 0.013919214513403607), (6, 0.13488134642807378), (7, -0.020589221056521979), (8, -0.028557698965427605), (9, 0.13522596554382932)]\n",
      "[(0, -0.089327401129423625), (1, 0.22729631170710562), (2, -0.061453753648274434), (3, 0.043540061967264648), (4, 0.0092451914507198415), (5, 0.015037904002982043), (6, -0.018480467369019721), (7, 0.012792037783261122), (8, 0.018170589421108139), (9, 0.1388988484197545)]\n",
      "[(0, -0.094250452788026629), (1, 0.19903586993517319), (2, -0.0070497831101409471), (3, 0.066022334675591376), (4, 0.039340685332869149), (5, 0.083914644011697237), (6, -0.022212227450128574), (7, -0.01593794036813146), (8, 0.015745814726428234), (9, 0.02584254139922805)]\n",
      "[(0, -0.10977421358606143), (1, 0.2819755959589953), (2, 0.23431644156812165), (3, -0.046615441311322094), (4, 0.084697018557551518), (5, 0.093382394114494296), (6, 0.023342469058458507), (7, 0.050557135537894274), (8, 0.012137336177797149), (9, 0.066641939269021067)]\n",
      "[(0, -0.10528942250819023), (1, 0.26888297679145079), (2, -0.027826462136508138), (3, -0.092847920788852512), (4, -0.13717644633545639), (5, -0.077349829764289377), (6, -0.051525225171446878), (7, -0.050963213484129313), (8, -0.086264168117756612), (9, -0.14259518977626734)]\n",
      "[(0, -0.092900057475771181), (1, 0.21627592736186285), (2, -0.17399460623820037), (3, -0.036896375727955295), (4, -0.082105137876497064), (5, 0.016231523395553477), (6, -0.049248020901484529), (7, -0.032743687033903145), (8, 0.03736851076172111), (9, 0.10653727505860684)]\n",
      "[(0, -0.065498549238658443), (1, 0.16517780203533722), (2, -0.12148798968692082), (3, -0.050978864512395465), (4, -0.010583533480291632), (5, 0.050395954853732786), (6, -0.033194007092443349), (7, 0.020615045910132048), (8, 0.048930673403792382), (9, 0.045680576174998946)]\n",
      "[(0, -0.087121810775776673), (1, 0.21761789753868002), (2, 0.033430286687106223), (3, -0.044841862376008228), (4, -0.07917976976814381), (5, 0.0083873859452807641), (6, 0.04144818659785153), (7, -0.037214412574282783), (8, 0.033183231135620515), (9, -0.029560880662179968)]\n",
      "[(0, -0.15203049406142435), (1, 0.35414857040226838), (2, 0.0011265658362071898), (3, -0.050984749783112987), (4, 0.047722217048158849), (5, -0.13756500642042516), (6, -0.021494949646003635), (7, -0.019630376770444501), (8, -0.07933402141022676), (9, 0.017017301953865395)]\n",
      "[(0, -0.62090802286538893), (1, -0.23447789972639638), (2, -0.013237596436427367), (3, 0.027395295148231007), (4, 0.05876039628468771), (5, -0.0094573662929477598), (6, -0.0043731151330805556), (7, -0.17201400707857628), (8, 0.0025367575567062707), (9, -0.012390293163923653)]\n",
      "[(0, -0.097099820656321736), (1, 0.22607537253267709), (2, -0.12162368396223362), (3, 0.055462839902143714), (4, 0.065508513953647166), (5, 0.020512882607959883), (6, -0.02585979104165476), (7, 0.059882595263789452), (8, 0.17456109237994785), (9, 0.14404238350417059)]\n",
      "[(0, -0.081173816549020741), (1, 0.20795617425324014), (2, 0.21512198995914733), (3, 0.003779903014932519), (4, -0.16207226966967672), (5, -0.021578664817976614), (6, 0.049381022475774403), (7, -0.026463204170205437), (8, 0.051966582175164318), (9, 0.0011849298486056436)]\n",
      "[(0, -0.1017461892558733), (1, 0.25613059536153959), (2, 0.20048031379207332), (3, 0.014824707311956054), (4, 0.076572341439779604), (5, 0.03417749066250677), (6, 0.06029742906220284), (7, 0.066720537685053344), (8, 0.061023499832941704), (9, 0.0013307903043494557)]\n",
      "[(0, -0.073642735909627458), (1, 0.19370626708190192), (2, 0.23313449823676363), (3, 0.03083330679604139), (4, -0.050929413897338779), (5, 0.0071520071411853084), (6, -0.0098465999911242445), (7, -0.037525597387720822), (8, -0.39225563901550037), (9, 0.23462111700559457)]\n",
      "[(0, -0.10859365775475807), (1, 0.27728434300343996), (2, 0.14481739470808405), (3, 0.095922975981275471), (4, 0.01536300152455696), (5, -0.018051289953473007), (6, 0.14062303185766051), (7, 0.044561428934347454), (8, 0.055863844718603076), (9, -0.023230354606360259)]\n",
      "[(0, -0.59443902853455421), (1, -0.21666170180708333), (2, 0.012921319326065413), (3, 0.043244922773521752), (4, 0.087494261578368343), (5, -0.0076162001881918927), (6, -0.050160487689402046), (7, -0.21114996486346488), (8, 0.012173438226141017), (9, -0.015028328334876407)]\n",
      "[(0, -0.061716670063905715), (1, 0.14901092058391061), (2, 0.261969967341522), (3, 0.1507222845878721), (4, 0.10180769853734582), (5, -0.04389674385372095), (6, -0.73747075750077773), (7, 0.064526669084297009), (8, 0.012372131171058049), (9, -0.092232683886476763)]\n",
      "[(0, -0.082225300596211484), (1, 0.21030434575416568), (2, 0.048313228567776478), (3, 0.024372897127260009), (4, -0.013277421798071044), (5, 0.11862267460742533), (6, 0.030011448206368717), (7, 0.018934241168622901), (8, 0.014743211470039418), (9, 0.1830702568183348)]\n",
      "[(0, -0.075913968791722131), (1, 0.18515945642014364), (2, -0.13498434378652019), (3, -0.08473673544476823), (4, -0.029544487679374187), (5, 0.01133055788871694), (6, -0.026252951405865387), (7, -0.010149836178377385), (8, -0.014081849209482293), (9, -0.04088114331941204)]\n",
      "[(0, -0.086179153151039675), (1, 0.19059843426727793), (2, -0.12221581632255984), (3, -0.077426977836984018), (4, -0.12547938677358908), (5, 0.024628060996844822), (6, -0.068976248876642818), (7, -0.030338408974408586), (8, -0.069124324762380757), (9, 0.065417341510123281)]\n",
      "[(0, -0.10475338502314718), (1, 0.26068564922592125), (2, -0.039410349148812925), (3, -0.035215693034640408), (4, 0.013173244636691433), (5, 0.0074656325298885409), (6, 0.023383234531861787), (7, 0.0067048398039954767), (8, -0.012374284442569208), (9, -0.15341090951701614)]\n",
      "[(0, -0.075138318000633489), (1, 0.15139193246055815), (2, -0.036539967041362198), (3, 0.024155956497415011), (4, 0.037611578531390417), (5, 0.078076964340188543), (6, -0.012730351893488961), (7, 0.083982163064096407), (8, 0.029453123855439717), (9, 0.1075049906809469)]\n",
      "[(0, -0.089225455658675831), (1, 0.21782832535710761), (2, 0.21105001536305068), (3, 0.034642525295550501), (4, -0.10658319025228552), (5, 0.014826472740395174), (6, 0.0042235695488444368), (7, -0.011222101716960991), (8, 0.089116630397383684), (9, 0.045875583039430803)]\n",
      "[(0, -0.068309026000233392), (1, 0.16442653049915903), (2, -0.044521794133743603), (3, -0.0093070380137311431), (4, 0.032016501421389891), (5, 0.086977623375532734), (6, -0.02103774185898194), (7, 0.0013979332114949193), (8, -0.11744094027185811), (9, -0.011415800758771856)]\n",
      "[(0, -0.049230988872205173), (1, 0.12960171534036785), (2, 0.13837481074580349), (3, 0.026716372357751636), (4, -0.10406470395259422), (5, -0.023880947798187946), (6, 0.0019434888302868338), (7, -0.071092542543942441), (8, -0.06819845348274757), (9, 0.057741821152065942)]\n",
      "[(0, -0.041704015451259881), (1, 0.10688661578591267), (2, 0.0018865435041066632), (3, 0.055770956094712422), (4, 0.0064754731996085804), (5, 0.05113604145939242), (6, 0.028204018739555383), (7, 0.039342954525004234), (8, 0.071542609191566228), (9, 0.15132072294625282)]\n",
      "[(0, -0.040079040514324524), (1, 0.084292668456814393), (2, -0.0092390178500746083), (3, 0.056140391364991875), (4, 0.05481505264697023), (5, 0.063894401920853466), (6, 0.049193714479847231), (7, 0.0015161897712665563), (8, -0.03691592156453926), (9, 0.023893974201601414)]\n",
      "[(0, -0.063098964422477657), (1, 0.1569724323629087), (2, -0.062551662235140762), (3, -0.044563234358666964), (4, -0.02865690026241775), (5, 0.018728563480210025), (6, -0.011933760879299492), (7, -0.010152590394935948), (8, 0.013017208424579372), (9, -0.027700454497905543)]\n",
      "[(0, -0.1194041831341953), (1, 0.27910255106364312), (2, -0.10024296262543705), (3, -0.10101651877104827), (4, -0.009539921900271281), (5, -0.48020589035136219), (6, -0.01339633212988043), (7, 0.04680084886876696), (8, -0.19280254120829016), (9, 0.11186880798174903)]\n",
      "[(0, -0.57800050940841174), (1, -0.21782130566340682), (2, 0.0018694394351796188), (3, -0.0053120881705609824), (4, -0.0170339763505667), (5, 0.010841553320993588), (6, 0.0037087141121341363), (7, 0.18380593008947665), (8, -0.024903002364593696), (9, 0.034396473382652899)]\n",
      "[(0, -0.55372134670523998), (1, -0.22170210278972599), (2, 0.012240307591714667), (3, -0.02993329069230289), (4, -0.046143559082310139), (5, -0.0032525815806737765), (6, 0.0093084289327958359), (7, 0.1151964461338543), (8, -0.0050618463649564896), (9, -0.014714461139427735)]\n",
      "[(0, -0.084668220114506948), (1, 0.15007459616651225), (2, -0.016142861337537076), (3, 0.072662318388067068), (4, 0.098847590084856649), (5, 0.069859814997524097), (6, 0.043408470174483522), (7, 0.091946917351160978), (8, 0.038226990597751968), (9, 0.067581338345771014)]\n",
      "[(0, -0.066459230507960959), (1, 0.16357876817670769), (2, 0.076848128406373215), (3, 0.013157222042115063), (4, -0.12261317607332063), (5, -0.064874180140467336), (6, -0.10589359091684621), (7, -0.048955771877329093), (8, 0.020578790794629792), (9, -0.07718928359854621)]\n",
      "[(0, -0.094150971864441435), (1, 0.2251445154621676), (2, -0.048420115542634784), (3, 0.0016859673413560472), (4, 0.012722408398062659), (5, -0.077253813985968839), (6, 0.036498732521787175), (7, 0.052400627636942358), (8, 0.016416830807330439), (9, -0.095962468467767223)]\n",
      "[(0, -0.12060766687319203), (1, 0.27600997190592547), (2, -0.17618780132819323), (3, 0.022632357642567671), (4, 0.027875580430565407), (5, 0.0083592374955752408), (6, -0.014839480549227027), (7, 0.012914173697159673), (8, 0.13194779943892485), (9, 0.055604030167741042)]\n",
      "[(0, -0.57064980400277876), (1, -0.23132327391047675), (2, 0.03400941487636009), (3, -0.032556756596746464), (4, -0.10215195222528564), (5, 0.03276541706462073), (6, 0.00027951613273682354), (7, 0.28226643543212954), (8, 0.010937709023391444), (9, -0.011456345875519065)]\n",
      "[(0, -0.60501665376588121), (1, -0.23237094492157806), (2, -0.01249557049208362), (3, 0.043956608953930783), (4, 0.078342725420284115), (5, -0.014999980907908142), (6, 0.0071171733498225781), (7, -0.28197510957091865), (8, 0.035369677474297097), (9, -0.0046169292169796492)]\n",
      "[(0, -0.5308383664187093), (1, -0.19714658431383161), (2, -0.0025796628406133506), (3, 0.00069787073423735176), (4, -0.0017741939333178324), (5, -0.0055361741192038478), (6, 0.01841591216832952), (7, 0.12691315239703113), (8, -0.014139221897428049), (9, 0.0087459018361688533)]\n",
      "[(0, -0.35338356488967548), (1, -0.15000251762629388), (2, 0.0091442424986464786), (3, -0.036255677959518125), (4, -0.10064383268318475), (5, 0.045838061210597504), (6, -0.00036867879874129489), (7, 0.22100743563002348), (8, -0.043028390372667397), (9, 0.016833185842208775)]\n",
      "[(0, -0.076706456414942378), (1, 0.16478528547416976), (2, -0.1122927603194073), (3, -0.034538206077510826), (4, -0.062899201470986002), (5, 0.03034195878072176), (6, -0.024526716043513998), (7, -0.037851404588269771), (8, 0.024649121055811192), (9, -0.12201643403434656)]\n",
      "[(0, -0.059224904253853621), (1, 0.1376140951967274), (2, -0.049205223672436231), (3, 0.053476808238720003), (4, 0.076872896743619704), (5, 0.10433623561563916), (6, -0.029628305941155494), (7, -0.00065990571029299512), (8, -0.028501516334506503), (9, 0.0087597413406765197)]\n",
      "[(0, -0.10987804614411137), (1, 0.26440362824100871), (2, -0.043928156222100008), (3, -0.022553301100204287), (4, -0.055324330573921172), (5, -0.036235080419627946), (6, -0.0074740610877467549), (7, 0.016977469242422674), (8, -0.010762762816160495), (9, -0.13560182598562096)]\n",
      "[(0, -0.12135502256505816), (1, 0.30529427067359854), (2, -0.077083881558943745), (3, -0.042376544280154908), (4, -0.1158681562802487), (5, 0.025263913960629686), (6, -0.015590561970267047), (7, -0.0069652168653633025), (8, 0.05654190096438011), (9, -0.049385776583120995)]\n",
      "[(0, -0.079301188321505386), (1, 0.18900805923492225), (2, -0.11989291935022682), (3, -0.0075181740552849093), (4, -0.041374774217554582), (5, 0.05694107006827271), (6, -0.0010889512613061281), (7, 0.022859327972609082), (8, 0.057706153140248649), (9, 0.045529626209244979)]\n",
      "[(0, -0.11332865276338566), (1, 0.27101972366803367), (2, -0.19685533449415804), (3, -0.057136824017924082), (4, -0.061420627626413746), (5, 0.073159377228685971), (6, -0.043418248558520237), (7, -0.049896163962225494), (8, -0.029288361549180564), (9, 0.12751511189274289)]\n",
      "[(0, -0.097719103401358282), (1, 0.22371451082009869), (2, 0.259947196051039), (3, -0.0045780592308749691), (4, -0.17045094571215619), (5, 0.036011168839685033), (6, 0.14238522489029293), (7, 0.035823366205290634), (8, 0.18534335989584461), (9, 0.026715030073692265)]\n",
      "[(0, -0.13263212535312235), (1, 0.315073773699796), (2, -0.15884179509460084), (3, -0.06259253183565916), (4, -0.0039707490353738592), (5, -0.41743914465773702), (6, 0.022264718048943536), (7, 0.057446655943043663), (8, -0.11723976605374826), (9, -0.03217271773991158)]\n",
      "[(0, -0.56387689325280854), (1, -0.22717888100662786), (2, 0.0037629475423505256), (3, -0.021337282708865105), (4, -0.045016137558490342), (5, 0.022689001882732623), (6, 0.0050169546118754467), (7, 0.10839948134091376), (8, -0.013656801575193805), (9, -0.0042213147258685782)]\n",
      "[(0, -0.088311640885729487), (1, 0.22641835401848973), (2, 0.23313270140848927), (3, 0.10454594794593018), (4, -0.068394766730305687), (5, 0.0050193663159608295), (6, 0.05977987554452896), (7, -0.013702392962623114), (8, -0.062781635322554097), (9, 0.1517760977178115)]\n",
      "[(0, -0.10364750083351081), (1, 0.24972230644523222), (2, 0.029417984020448758), (3, 0.0064527829250189414), (4, 0.05838685540495768), (5, -0.086510447774577615), (6, -0.027683891312467131), (7, 0.023974813493468746), (8, 0.095078170445869359), (9, 0.05036398147937228)]\n",
      "[(0, -0.10773123547959285), (1, 0.25853363214367009), (2, -0.035065228585083194), (3, 0.003800494284768482), (4, -0.0016126252260829114), (5, -0.073612172180419849), (6, 0.045833437421671196), (7, 0.010064178754182957), (8, 0.08338681061446962), (9, -0.084845479927979542)]\n",
      "[(0, -0.072749735223165954), (1, 0.17361681211711719), (2, -0.091692163203998991), (3, -0.087531302645196901), (4, -0.11094380937740857), (5, 0.15818513722312277), (6, -0.058660754308519539), (7, -0.067527324374275555), (8, -0.13025568703863397), (9, 0.053167302385394348)]\n",
      "[(0, -0.083296450588322066), (1, 0.19181070741181161), (2, -0.085569930338416478), (3, 0.014576027518572579), (4, 0.03373781473297649), (5, 0.017594614801632914), (6, -0.010572906686378848), (7, 0.02036429455814363), (8, 0.021886606553189275), (9, -0.077877837992471985)]\n",
      "[(0, -0.067060442794008454), (1, 0.15865723139803251), (2, -0.0028585788246427218), (3, 0.079548230559670544), (4, 0.072067844293181901), (5, 0.033666475440737961), (6, 0.078468222728319367), (7, 0.021339789924753057), (8, -0.014978054893952888), (9, -0.17759321065353104)]\n",
      "[(0, -0.58448466788118392), (1, -0.20722931272934925), (2, -0.025102382271234819), (3, 0.048010130797419039), (4, 0.11209854725199939), (5, -0.045008540402661015), (6, 0.0056136620583911679), (7, -0.34936519584757131), (8, 0.019691915700571976), (9, 0.0047100504757416114)]\n",
      "[(0, -0.49738798109494103), (1, -0.19579236984052223), (2, 0.047627564574922086), (3, -0.029314500955637587), (4, -0.11482093820080673), (5, 0.029058386098852827), (6, -0.031828764955147644), (7, 0.36703434199258156), (8, 0.013073444553148206), (9, -0.028983829959078632)]\n",
      "[(0, -0.088531596725464554), (1, 0.21849330462302294), (2, -0.023406596489763939), (3, 0.037104337959825227), (4, 0.077013224520819032), (5, 0.05506633618814858), (6, 0.063109636986982937), (7, 0.020644922368581772), (8, -0.11475806612583847), (9, -0.17209327899703331)]\n",
      "[(0, -0.067251087914994331), (1, 0.16343959851805967), (2, 0.096190727467452497), (3, -0.047867798148296371), (4, -0.10723866865940569), (5, -0.033422831099239825), (6, -0.0047945838191242813), (7, -0.035956628048795354), (8, -0.032843293923439022), (9, -0.16692026138133154)]\n",
      "[(0, -0.625263999656411), (1, -0.2453139077125488), (2, 0.0030913368205597773), (3, -0.018935430716053539), (4, 0.0012264052279442454), (5, -0.0029808835501602673), (6, -0.0026853121395731612), (7, -0.00082467539499616151), (8, 0.0065976913218903357), (9, -0.0024898616543033375)]\n",
      "[(0, -0.065797646247190131), (1, 0.13995486545112087), (2, 0.030469941812890654), (3, 0.0063826470163173728), (4, 0.080807718655273836), (5, 0.037849879598147437), (6, 0.018927608045405671), (7, 0.041491082304517174), (8, 0.012401634871939932), (9, 0.066871920882370955)]\n",
      "[(0, -0.095639801012987719), (1, 0.22151362017465781), (2, -0.064665987906649527), (3, 0.096706171197098095), (4, 0.076642037332497956), (5, 0.07048281952924762), (6, 0.020376603583477454), (7, -0.028202091530883381), (8, 0.019739191291124579), (9, -0.0056888621087512678)]\n",
      "[(0, -0.056864251597805497), (1, 0.11613717569357396), (2, -0.044409607233210108), (3, 0.079067857847286038), (4, 0.12356509902588392), (5, 0.058113796559914541), (6, 0.01775104756885966), (7, 0.048201621524645993), (8, -0.085169693626029538), (9, -0.13257895542438664)]\n",
      "[(0, -0.049315611246040454), (1, 0.11013297996093528), (2, -0.11277665247955031), (3, -0.009848391921947126), (4, 0.01008508804090783), (5, 0.17762861255786161), (6, -0.010919148600117666), (7, 0.006368579006968994), (8, -0.019046680633405165), (9, 0.06734114134316202)]\n",
      "[(0, -0.12172650149157546), (1, 0.27360811972453331), (2, 0.19587908477551766), (3, 0.078137108743018616), (4, -0.05169730391643939), (5, 0.033527990860293413), (6, 0.073554757005978078), (7, 0.029427373592577584), (8, 0.11969255759433754), (9, -0.10764926878151242)]\n",
      "[(0, -0.10478626697879936), (1, 0.25186675759349081), (2, -0.022956815234345396), (3, 0.11427160450206275), (4, 0.14886568097813183), (5, 0.04825353160755487), (6, 0.097653185038001772), (7, 0.07102731755447568), (8, -0.099834424118720358), (9, -0.15756042148780497)]\n",
      "[(0, -0.043712207611554574), (1, 0.11010427758031061), (2, -0.036000810616339342), (3, -0.023755111851193129), (4, -0.037787517608850893), (5, 0.052590127687410775), (6, -0.035987561416830266), (7, 0.0029079407818088381), (8, 0.034822713155054988), (9, 0.029502411961221574)]\n",
      "[(0, -0.067144142782575272), (1, 0.16909547364565242), (2, -0.0060874100655058019), (3, 0.0054840216353635564), (4, -0.073103573015136869), (5, 0.08673800115565368), (6, 0.068280736507175657), (7, -0.0064079746301815323), (8, -0.016798135991672711), (9, -0.024314362568858664)]\n",
      "[(0, -0.063834672424189332), (1, 0.16191541301075496), (2, -0.040366720880025513), (3, 0.026116786786064917), (4, 0.015390441264472362), (5, -0.045697810661210127), (6, 0.032043951397629444), (7, 0.010756156208113482), (8, 0.025756113535644123), (9, -0.062811957067811786)]\n",
      "[(0, -0.094998515037342426), (1, 0.24010953412585515), (2, 0.25069463251381985), (3, 0.081500843089229211), (4, -0.038748063110283705), (5, 0.015970845032495462), (6, 0.18126266368899394), (7, -0.015412161102335845), (8, -0.069517073684500705), (9, -0.029590091979340982)]\n",
      "[(0, -0.5695757276309954), (1, -0.21253783375217311), (2, -0.015573266691466853), (3, 0.057025273240536779), (4, 0.11629762422792568), (5, -0.037519368498273947), (6, -0.0010073389502352646), (7, -0.37602533574844627), (8, 0.032310523797188496), (9, 0.0034565254969597548)]\n",
      "[(0, -0.55250534972145959), (1, -0.19763534093043486), (2, -0.018556374150156766), (3, 0.033737917114007962), (4, 0.12152876945811686), (5, -0.027575307829193665), (6, -0.0018711105890224001), (7, -0.38371064801695465), (8, 0.021879759454229538), (9, 0.0024595930532779102)]\n",
      "[(0, -0.082011362605804106), (1, 0.20433014685953113), (2, -0.16819881553060237), (3, -0.098632887477402981), (4, -0.13568799120538536), (5, 0.087809764730861134), (6, -0.050834453021424121), (7, -0.023536716388188224), (8, -0.044939059604150317), (9, 0.031206816379376418)]\n",
      "[(0, -0.1090579871424696), (1, 0.24485529259320296), (2, -0.12685256913401219), (3, -0.012232947566667048), (4, 0.031420065816837296), (5, -0.003811675052383866), (6, 0.00020121212738721166), (7, 0.0065461590962862049), (8, 0.049839900665463094), (9, 0.012048113954616923)]\n",
      "[(0, -0.13527303934661036), (1, 0.18558534764874474), (2, -0.071703803468495864), (3, 0.078975025905164115), (4, 0.12473461763019159), (5, 0.01321830033513422), (6, 0.041543925498372644), (7, -0.08315402214449101), (8, 0.073365355986955857), (9, 0.06020781772838641)]\n",
      "[(0, -0.092519396864091594), (1, 0.19996642374265833), (2, -0.10122383290081691), (3, -0.068145334930579796), (4, -0.1753863338912372), (5, 0.026486641659312426), (6, -0.062418510927805107), (7, -0.11516056997943103), (8, 0.10761833567451358), (9, -0.004318590135480832)]\n",
      "[(0, -0.11637317693164514), (1, 0.27759839344866644), (2, -0.061806259992708237), (3, 0.097152853219200808), (4, 0.11057220274502821), (5, 0.053302281052082907), (6, 0.047989485864151651), (7, 0.073509990221251667), (8, 0.0085554490658954867), (9, -0.12298103429203788)]\n",
      "[(0, -0.6553475174142892), (1, -0.25545219743062958), (2, -0.0040015915149094628), (3, 0.026312242663127816), (4, 0.070297001494971589), (5, -0.016043163636688191), (6, 0.0018016209354494916), (7, -0.2322552012620166), (8, 0.030268404485281935), (9, 0.0017091385182276602)]\n",
      "[(0, -0.14506425922816263), (1, 0.33279180184989038), (2, -0.1658974990169336), (3, -0.099100352835713237), (4, 0.048043740895589451), (5, -0.47730668114950242), (6, 0.034061950099699499), (7, 0.047667232065878841), (8, -0.13785558705065229), (9, -0.0043554256753870549)]\n",
      "[(0, -0.039569569583913181), (1, 0.10436315452716001), (2, 0.10792128115660771), (3, 0.046826645790121371), (4, -0.03888746571411477), (5, 0.02985756270502516), (6, -0.036215625748630867), (7, -0.028544598945259913), (8, -0.049259300382839932), (9, 0.1219578288979751)]\n",
      "[(0, -0.55674801885332537), (1, -0.21149940328263564), (2, 0.007293409781343187), (3, -0.031851260636049906), (4, -0.078264212064319591), (5, 0.03193044122738091), (6, 0.014056507112733098), (7, 0.2415669987993182), (8, -0.025113175164040605), (9, 0.0038775826814903421)]\n",
      "[(0, -0.058906385829727612), (1, 0.15580355890582148), (2, 0.11400020938429692), (3, -0.054279077850704641), (4, -0.10191572189867709), (5, 0.0019214359265371777), (6, -0.099215463761203479), (7, -0.035571791925712068), (8, -0.052877229625356528), (9, -0.11698488896632736)]\n",
      "[(0, -0.065645295009004734), (1, 0.14159371088299602), (2, 0.18131190396008759), (3, -0.26337226171173822), (4, 0.12402827249206966), (5, 0.041717973771482411), (6, -0.028372284962489877), (7, -0.022780104971446471), (8, 0.080593713219692414), (9, 0.052314015228079921)]\n",
      "[(0, -0.073472304045563361), (1, 0.1907197140913674), (2, 0.13452828371480705), (3, -0.045765246145474114), (4, -0.19510302095147389), (5, -0.025372605492223907), (6, -0.053380294985861075), (7, -0.089204943091534691), (8, -0.008352299553374614), (9, -0.0041214153181024765)]\n",
      "[(0, -0.083131986802136223), (1, 0.18556592923000811), (2, 0.0043077494661285), (3, 0.067902364304070664), (4, 0.11374464888678747), (5, 0.049442003523531244), (6, 0.032768896422594319), (7, 0.019792116025006117), (8, 0.036824962188756111), (9, -0.059208592861531947)]\n"
     ]
    }
   ],
   "source": [
    "for doc in corpus_lsi:\n",
    "    print(doc)"
   ]
  },
  {
   "cell_type": "code",
   "execution_count": 49,
   "metadata": {
    "collapsed": true
   },
   "outputs": [],
   "source": [
    "model = models.TfidfModel(corpus, normalize=True)"
   ]
  },
  {
   "cell_type": "code",
   "execution_count": 51,
   "metadata": {},
   "outputs": [],
   "source": [
    "model = models.LsiModel(corpus_tfidf, id2word=dictionary, num_topics=300)"
   ]
  },
  {
   "cell_type": "code",
   "execution_count": 53,
   "metadata": {
    "collapsed": true
   },
   "outputs": [],
   "source": [
    "import logging\n",
    "logging.basicConfig(format='%(asctime)s : %(levelname)s : %(message)s', level=logging.INFO)"
   ]
  },
  {
   "cell_type": "code",
   "execution_count": 54,
   "metadata": {},
   "outputs": [
    {
     "name": "stderr",
     "output_type": "stream",
     "text": [
      "2017-11-03 01:00:03,130 : WARNING : scanning corpus to determine the number of features (consider setting `num_features` explicitly)\n",
      "2017-11-03 01:00:03,148 : INFO : creating matrix with 227 documents and 10 features\n"
     ]
    }
   ],
   "source": [
    "index = similarities.MatrixSimilarity(lsi[corpus])"
   ]
  },
  {
   "cell_type": "code",
   "execution_count": 65,
   "metadata": {},
   "outputs": [],
   "source": [
    "review_user_top10_text = \" \".join(review_user_top10_list[:1])"
   ]
  },
  {
   "cell_type": "code",
   "execution_count": 67,
   "metadata": {},
   "outputs": [
    {
     "name": "stdout",
     "output_type": "stream",
     "text": [
      "[(0, 1.0), (1, 0.34869328), (2, 0.85245013), (3, 0.71395826), (4, 0.54902458), (5, 0.90134001), (6, 0.76287186), (7, 0.80699676), (8, 0.69941252), (9, 0.63923585), (10, 0.75164193), (11, 0.85603136), (12, 0.50255549), (13, 0.3903358), (14, 0.68076038), (15, 0.79986286), (16, 0.85524768), (17, 0.75570714), (18, 0.69133854), (19, 0.8497327), (20, 0.89046001), (21, 0.7003305), (22, 0.033951882), (23, 0.80228961), (24, 0.77562869), (25, 0.73982167), (26, 0.78233749), (27, 0.70830983), (28, 0.83217865), (29, -0.023041731), (30, 0.70926303), (31, 0.85236502), (32, 0.89160025), (33, 0.93854541), (34, 0.81914419), (35, 0.83667624), (36, 0.007517565), (37, 0.78825748), (38, 0.82890368), (39, 0.78773946), (40, 0.47680023), (41, 0.86979353), (42, 0.87565029), (43, 0.84433007), (44, -0.014052775), (45, 0.2894398), (46, 0.78073663), (47, 0.13729274), (48, 0.86623883), (49, 0.82521325), (50, 0.89344794), (51, 0.8831265), (52, 0.77844024), (53, 0.34320223), (54, 0.71913469), (55, 0.22126162), (56, 0.83877736), (57, 0.90347397), (58, 0.87558043), (59, 0.82688326), (60, 0.83606333), (61, -0.012876771), (62, 0.001208799), (63, 0.82973331), (64, 0.83745319), (65, 0.68967217), (66, 0.6464591), (67, 0.74191564), (68, 0.88228935), (69, 0.62845504), (70, 0.90361559), (71, 0.84927899), (72, 0.58415765), (73, 0.7473411), (74, 0.82860225), (75, 0.76082355), (76, 0.79715884), (77, 0.58118606), (78, 0.81358123), (79, 0.65324217), (80, 0.85808992), (81, 0.75874192), (82, 0.59412098), (83, 0.41641477), (84, 0.75047398), (85, 0.58604455), (86, 0.95098275), (87, 0.6091792), (88, 0.81574726), (89, 0.93680584), (90, 0.61988151), (91, 0.95017701), (92, 0.91718715), (93, 0.92693782), (94, 0.88880795), (95, -0.0072665028), (96, 0.87162775), (97, 0.77980518), (98, 0.45102334), (99, 0.83735108), (100, 0.8913309), (101, 0.8554917), (102, 0.7048136), (103, 0.91140676), (104, 0.57988632), (105, -0.014775027), (106, 0.88912946), (107, 0.013873002), (108, 0.6089229), (109, 0.78259844), (110, 0.85549688), (111, 0.010484893), (112, 0.67211431), (113, 0.63721371), (114, -0.016694857), (115, 0.91285092), (116, 0.41774988), (117, 0.60703528), (118, 0.80034602), (119, 0.84990859), (120, 0.4757719), (121, 0.67404377), (122, 0.86929947), (123, 0.44606054), (124, 0.86696321), (125, 0.8175714), (126, 0.91226935), (127, 0.043082237), (128, 0.8892324), (129, 0.64230072), (130, 0.67993909), (131, 0.73493093), (132, 0.2894398), (133, -0.016609833), (134, 0.85307467), (135, 0.75545591), (136, 0.60358369), (137, 0.45154011), (138, 0.80632865), (139, 0.63735551), (140, 0.7008844), (141, 0.83015227), (142, 0.66128272), (143, 0.62083352), (144, 0.87134445), (145, 0.82876545), (146, 0.78932273), (147, 0.63434541), (148, 0.75442082), (149, 0.78850549), (150, 0.78607696), (151, 0.83950198), (152, -0.0076214839), (153, 0.9105587), (154, 0.54738951), (155, 0.77156264), (156, 0.4217982), (157, 0.83594656), (158, -0.016424906), (159, 0.12408563), (160, 0.82307887), (161, 0.75406224), (162, 0.61280113), (163, 0.84313482), (164, 0.91450375), (165, 0.61914897), (166, 0.80204487), (167, 0.44279698), (168, 0.87013429), (169, 0.84321332), (170, 0.82225275), (171, 0.6657179), (172, 0.047059994), (173, 0.008391534), (174, 0.94512749), (175, 0.38572282), (176, 0.89102536), (177, 0.88977283), (178, 0.013436191), (179, -0.019151904), (180, 0.058965899), (181, -0.0072029755), (182, 0.68370098), (183, 0.81672913), (184, 0.81926131), (185, 0.7904644), (186, 0.85563183), (187, 0.74637204), (188, 0.59820759), (189, 0.73166031), (190, -0.0026005991), (191, 0.63293725), (192, 0.90143991), (193, 0.84938383), (194, 0.52521032), (195, 0.86862534), (196, 0.70659781), (197, 0.0012859106), (198, 0.025389723), (199, 0.79479408), (200, 0.52117336), (201, -0.00096348114), (202, 0.93434554), (203, 0.90850383), (204, 0.68581241), (205, 0.49442497), (206, 0.7305758), (207, 0.83602101), (208, 0.75763315), (209, 0.7539587), (210, 0.87730014), (211, 0.61970055), (212, -0.027398925), (213, -0.023979347), (214, 0.63358206), (215, 0.88506562), (216, 0.90205312), (217, 0.63522553), (218, 0.88941938), (219, -0.020440495), (220, 0.7168985), (221, 0.43928942), (222, 0.04144831), (223, 0.326675), (224, 0.43219084), (225, 0.39839247), (226, 0.90212786)]\n"
     ]
    }
   ],
   "source": [
    "# Similarity \n",
    ">>> vec_bow = dictionary.doc2bow(review_user_top10_text.lower().split())\n",
    ">>> vec_lsi = lsi[vec_bow] # convert the query to LSI space\n",
    ">>> sims = index[vec_lsi] # perform a similarity query against the corpus\n",
    ">>> print(list(enumerate(sims))) # print (document_number, document_similarity) 2-tuples"
   ]
  },
  {
   "cell_type": "code",
   "execution_count": null,
   "metadata": {
    "collapsed": true
   },
   "outputs": [],
   "source": []
  }
 ],
 "metadata": {
  "kernelspec": {
   "display_name": "Python 3",
   "language": "python",
   "name": "python3"
  },
  "language_info": {
   "codemirror_mode": {
    "name": "ipython",
    "version": 3
   },
   "file_extension": ".py",
   "mimetype": "text/x-python",
   "name": "python",
   "nbconvert_exporter": "python",
   "pygments_lexer": "ipython3",
   "version": "3.6.2"
  }
 },
 "nbformat": 4,
 "nbformat_minor": 2
}
