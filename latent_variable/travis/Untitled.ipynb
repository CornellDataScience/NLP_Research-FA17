{
 "cells": [
  {
   "cell_type": "code",
   "execution_count": 4,
   "metadata": {
    "collapsed": true
   },
   "outputs": [],
   "source": [
    "import scipy.optimize as optimize\n",
    "import numpy as np"
   ]
  },
  {
   "cell_type": "code",
   "execution_count": 7,
   "metadata": {},
   "outputs": [
    {
     "name": "stdout",
     "output_type": "stream",
     "text": [
      "[ 1.  1.  1.  1.  1.  1.]\n",
      "[ 1.00000001  1.          1.          1.          1.          1.        ]\n",
      "[ 1.          1.00000001  1.          1.          1.          1.        ]\n",
      "[ 1.          1.          1.00000001  1.          1.          1.        ]\n",
      "[ 1.          1.          1.          1.00000001  1.          1.        ]\n",
      "[ 1.          1.          1.          1.          1.00000001  1.        ]\n",
      "[ 1.          1.          1.          1.          1.          1.00000001]\n",
      "[ 1.  1.  1.  1.  1.  1.]\n",
      "[ 0.58766923  0.58766923  0.58766923  0.58766923  0.58766923  0.58766923]\n",
      "[ 0.58766923  0.58766923  0.58766923  0.58766923  0.58766923  0.58766923]\n",
      "[ 0.58766924  0.58766923  0.58766923  0.58766923  0.58766923  0.58766923]\n",
      "[ 0.58766923  0.58766924  0.58766923  0.58766923  0.58766923  0.58766923]\n",
      "[ 0.58766923  0.58766923  0.58766924  0.58766923  0.58766923  0.58766923]\n",
      "[ 0.58766923  0.58766923  0.58766923  0.58766924  0.58766923  0.58766923]\n",
      "[ 0.58766923  0.58766923  0.58766923  0.58766923  0.58766924  0.58766923]\n",
      "[ 0.58766923  0.58766923  0.58766923  0.58766923  0.58766923  0.58766924]\n",
      "[ 0.58325285  0.58325285  0.58325285  0.58325285  0.58325285  0.58325285]\n",
      "[ 0.58325285  0.58325285  0.58325285  0.58325285  0.58325285  0.58325285]\n",
      "[ 0.58325287  0.58325285  0.58325285  0.58325285  0.58325285  0.58325285]\n",
      "[ 0.58325285  0.58325287  0.58325285  0.58325285  0.58325285  0.58325285]\n",
      "[ 0.58325285  0.58325285  0.58325287  0.58325285  0.58325285  0.58325285]\n",
      "[ 0.58325285  0.58325285  0.58325285  0.58325287  0.58325285  0.58325285]\n",
      "[ 0.58325285  0.58325285  0.58325285  0.58325285  0.58325287  0.58325285]\n",
      "[ 0.58325285  0.58325285  0.58325285  0.58325285  0.58325285  0.58325287]\n",
      "[ 0.57750349  0.57750349  0.57750349  0.57750349  0.57750349  0.57750349]\n",
      "[ 0.57750349  0.57750349  0.57750349  0.57750349  0.57750349  0.57750349]\n",
      "[ 0.57750351  0.57750349  0.57750349  0.57750349  0.57750349  0.57750349]\n",
      "[ 0.57750349  0.57750351  0.57750349  0.57750349  0.57750349  0.57750349]\n",
      "[ 0.57750349  0.57750349  0.57750351  0.57750349  0.57750349  0.57750349]\n",
      "[ 0.57750349  0.57750349  0.57750349  0.57750351  0.57750349  0.57750349]\n",
      "[ 0.57750349  0.57750349  0.57750349  0.57750349  0.57750351  0.57750349]\n",
      "[ 0.57750349  0.57750349  0.57750349  0.57750349  0.57750349  0.57750351]\n",
      "[ 0.57735259  0.57735259  0.57735259  0.57735259  0.57735259  0.57735259]\n",
      "[ 0.57735259  0.57735259  0.57735259  0.57735259  0.57735259  0.57735259]\n",
      "[ 0.5773526   0.57735259  0.57735259  0.57735259  0.57735259  0.57735259]\n",
      "[ 0.57735259  0.5773526   0.57735259  0.57735259  0.57735259  0.57735259]\n",
      "[ 0.57735259  0.57735259  0.5773526   0.57735259  0.57735259  0.57735259]\n",
      "[ 0.57735259  0.57735259  0.57735259  0.5773526   0.57735259  0.57735259]\n",
      "[ 0.57735259  0.57735259  0.57735259  0.57735259  0.5773526   0.57735259]\n",
      "[ 0.57735259  0.57735259  0.57735259  0.57735259  0.57735259  0.5773526 ]\n",
      "[ 0.57735259  0.57735259  0.57735259  0.57735259  0.57735259  0.57735259]\n"
     ]
    }
   ],
   "source": [
    "def f(a, b):\n",
    "    print(params)  # <-- you'll see that params is a NumPy array\n",
    "    a, b, c, d, e, f = params # <-- for readability you may wish to assign names to the component variables\n",
    "    return (a*b+ c*d + e*f - 1.0)**2\n",
    "\n",
    "initial_guess = [1,1,1,1,1,1]\n",
    "result = optimize.minimize(f, initial_guess)\n",
    "if result.success:\n",
    "    fitted_params = result.x\n",
    "    print(fitted_params)\n",
    "else:\n",
    "    raise ValueError(result.message)"
   ]
  },
  {
   "cell_type": "code",
   "execution_count": 76,
   "metadata": {},
   "outputs": [
    {
     "name": "stdout",
     "output_type": "stream",
     "text": [
      "[ 2.4320659   1.5004052   4.79993034  3.98533557  1.85211438  3.6111101\n",
      "  0.08253804  0.70215608  0.87946196  0.67656377  0.24235895  0.38189019]\n",
      "70.55789090956722\n",
      "6\n"
     ]
    }
   ],
   "source": [
    "dim = 6\n",
    "\n",
    "bound = []\n",
    "for i in range(0,dim):\n",
    "    bound.append((1.0,5.0))\n",
    "for i in range(0,dim):\n",
    "    bound.append((-np.inf,np.inf))\n",
    "bnds = tuple(bound)\n",
    "\n",
    "\n",
    "def f(x,s):\n",
    "    \n",
    "    return sum((np.dot(x[0],x[1]) - s)**2)\n",
    "s = np.array([4.0, 2.0, 1.0, 5.0, 2.5, 1.67, 1.25, 1.0,\n",
    "            8.33, 7.14, 6.25])\n",
    "initial_guess = [np.random.uniform(1.0,5.0,dim),np.random.uniform(0.0,1.0,dim)]\n",
    "result = optimize.minimize(f, initial_guess, args=(s,), method='SLSQP', bounds=bnds)\n",
    "if result.success:\n",
    "    fitted_params = result.x\n",
    "    print(fitted_params)\n",
    "    print(result.fun)\n",
    "    print(result.nit)\n",
    "else:\n",
    "    raise ValueError(result.message)"
   ]
  },
  {
   "cell_type": "code",
   "execution_count": 69,
   "metadata": {},
   "outputs": [
    {
     "ename": "ValueError",
     "evalue": "`bounds` must contain 2 elements.",
     "output_type": "error",
     "traceback": [
      "\u001b[0;31m---------------------------------------------------------------------------\u001b[0m",
      "\u001b[0;31mValueError\u001b[0m                                Traceback (most recent call last)",
      "\u001b[0;32m<ipython-input-69-e33cecb55bc6>\u001b[0m in \u001b[0;36m<module>\u001b[0;34m()\u001b[0m\n\u001b[1;32m     19\u001b[0m             8.33e-2, 7.14e-2, 6.25e-2])\n\u001b[1;32m     20\u001b[0m \u001b[0minitial_guess\u001b[0m \u001b[0;34m=\u001b[0m \u001b[0mnp\u001b[0m\u001b[0;34m.\u001b[0m\u001b[0marray\u001b[0m\u001b[0;34m(\u001b[0m\u001b[0;34m[\u001b[0m\u001b[0;36m1\u001b[0m\u001b[0;34m,\u001b[0m\u001b[0;36m2\u001b[0m\u001b[0;34m,\u001b[0m\u001b[0;36m3\u001b[0m\u001b[0;34m,\u001b[0m\u001b[0;36m24\u001b[0m\u001b[0;34m,\u001b[0m\u001b[0;36m12\u001b[0m\u001b[0;34m,\u001b[0m\u001b[0;36m1\u001b[0m\u001b[0;34m]\u001b[0m\u001b[0;34m)\u001b[0m\u001b[0;34m\u001b[0m\u001b[0m\n\u001b[0;32m---> 21\u001b[0;31m \u001b[0mres\u001b[0m \u001b[0;34m=\u001b[0m \u001b[0mleast_squares\u001b[0m\u001b[0;34m(\u001b[0m\u001b[0mfun\u001b[0m\u001b[0;34m,\u001b[0m \u001b[0minitial_guess\u001b[0m\u001b[0;34m,\u001b[0m \u001b[0mbounds\u001b[0m\u001b[0;34m=\u001b[0m\u001b[0mbnds\u001b[0m\u001b[0;34m,\u001b[0m \u001b[0margs\u001b[0m\u001b[0;34m=\u001b[0m\u001b[0;34m(\u001b[0m\u001b[0ms\u001b[0m\u001b[0;34m,\u001b[0m\u001b[0;34m)\u001b[0m\u001b[0;34m,\u001b[0m \u001b[0mverbose\u001b[0m\u001b[0;34m=\u001b[0m\u001b[0;36m1\u001b[0m\u001b[0;34m)\u001b[0m\u001b[0;34m\u001b[0m\u001b[0m\n\u001b[0m\u001b[1;32m     22\u001b[0m \u001b[0mres\u001b[0m\u001b[0;34m.\u001b[0m\u001b[0mx\u001b[0m\u001b[0;34m\u001b[0m\u001b[0m\n",
      "\u001b[0;32m/anaconda/lib/python3.6/site-packages/scipy/optimize/_lsq/least_squares.py\u001b[0m in \u001b[0;36mleast_squares\u001b[0;34m(fun, x0, jac, bounds, method, ftol, xtol, gtol, x_scale, loss, f_scale, diff_step, tr_solver, tr_options, jac_sparsity, max_nfev, verbose, args, kwargs)\u001b[0m\n\u001b[1;32m    759\u001b[0m \u001b[0;34m\u001b[0m\u001b[0m\n\u001b[1;32m    760\u001b[0m     \u001b[0;32mif\u001b[0m \u001b[0mlen\u001b[0m\u001b[0;34m(\u001b[0m\u001b[0mbounds\u001b[0m\u001b[0;34m)\u001b[0m \u001b[0;34m!=\u001b[0m \u001b[0;36m2\u001b[0m\u001b[0;34m:\u001b[0m\u001b[0;34m\u001b[0m\u001b[0m\n\u001b[0;32m--> 761\u001b[0;31m         \u001b[0;32mraise\u001b[0m \u001b[0mValueError\u001b[0m\u001b[0;34m(\u001b[0m\u001b[0;34m\"`bounds` must contain 2 elements.\"\u001b[0m\u001b[0;34m)\u001b[0m\u001b[0;34m\u001b[0m\u001b[0m\n\u001b[0m\u001b[1;32m    762\u001b[0m \u001b[0;34m\u001b[0m\u001b[0m\n\u001b[1;32m    763\u001b[0m     \u001b[0;32mif\u001b[0m \u001b[0mmax_nfev\u001b[0m \u001b[0;32mis\u001b[0m \u001b[0;32mnot\u001b[0m \u001b[0;32mNone\u001b[0m \u001b[0;32mand\u001b[0m \u001b[0mmax_nfev\u001b[0m \u001b[0;34m<=\u001b[0m \u001b[0;36m0\u001b[0m\u001b[0;34m:\u001b[0m\u001b[0;34m\u001b[0m\u001b[0m\n",
      "\u001b[0;31mValueError\u001b[0m: `bounds` must contain 2 elements."
     ]
    }
   ],
   "source": [
    "from scipy.optimize import least_squares\n",
    "dim = 6\n",
    "half = int(dim/2)\n",
    "\n",
    "bound = []\n",
    "for i in range(0,dim):\n",
    "    bound.append((1.0,5.0))\n",
    "for i in range(0,dim):\n",
    "    bound.append((-np.inf,np.inf))\n",
    "bnds = tuple(bound)\n",
    "\n",
    "def model(x):\n",
    "    return np.dot(x[:half],x[half:])\n",
    "    \n",
    "def fun(x,s):\n",
    "    return model(x)-s\n",
    "\n",
    "s = np.array([4.0, 2.0, 1.0, 5.0e-1, 2.5e-1, 1.67e-1, 1.25e-1, 1.0e-1,\n",
    "            8.33e-2, 7.14e-2, 6.25e-2])\n",
    "initial_guess = np.array([1,2,3,24,12,1])\n",
    "res = least_squares(fun, initial_guess, bounds=bnds, args=(s,), verbose=1)\n",
    "res.x"
   ]
  },
  {
   "cell_type": "code",
   "execution_count": 49,
   "metadata": {},
   "outputs": [
    {
     "name": "stdout",
     "output_type": "stream",
     "text": [
      "`ftol` termination condition is satisfied.\n",
      "Function evaluations 129, initial cost 4.4383e+00, final cost 1.5375e-04, first-order optimality 1.21e-05.\n"
     ]
    },
    {
     "data": {
      "text/plain": [
       "array([ 0.19280827,  0.19125228,  0.12305085,  0.13604842])"
      ]
     },
     "execution_count": 49,
     "metadata": {},
     "output_type": "execute_result"
    }
   ],
   "source": [
    "def model(x, u):\n",
    "    return x[0] * (u ** 2 + x[1] * u) / (u ** 2 + x[2] * u + x[3])\n",
    "def fun(x, u, y):\n",
    "    return model(x, u) - y\n",
    "u = np.array([4.0, 2.0, 1.0, 5.0e-1, 2.5e-1, 1.67e-1, 1.25e-1, 1.0e-1,\n",
    "              8.33e-2, 7.14e-2, 6.25e-2])\n",
    "y = np.array([1.957e-1, 1.947e-1, 1.735e-1, 1.6e-1, 8.44e-2, 6.27e-2,\n",
    "              4.56e-2, 3.42e-2, 3.23e-2, 2.35e-2, 2.46e-2])\n",
    "x0 = np.array([2.5, 3.9, 4.15, 3.9])\n",
    "res = least_squares(fun, x0, bounds=(0, 100), args=(u, y), verbose=1)\n",
    "\n",
    "\n",
    "res.x"
   ]
  },
  {
   "cell_type": "code",
   "execution_count": null,
   "metadata": {
    "collapsed": true
   },
   "outputs": [],
   "source": []
  }
 ],
 "metadata": {
  "kernelspec": {
   "display_name": "Python 3",
   "language": "python",
   "name": "python3"
  },
  "language_info": {
   "codemirror_mode": {
    "name": "ipython",
    "version": 3
   },
   "file_extension": ".py",
   "mimetype": "text/x-python",
   "name": "python",
   "nbconvert_exporter": "python",
   "pygments_lexer": "ipython3",
   "version": "3.6.1"
  }
 },
 "nbformat": 4,
 "nbformat_minor": 2
}
