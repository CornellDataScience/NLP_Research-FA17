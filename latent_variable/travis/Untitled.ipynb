{
 "cells": [
  {
   "cell_type": "code",
   "execution_count": 1,
   "metadata": {
    "collapsed": true
   },
   "outputs": [],
   "source": [
    "import scipy.optimize as optimize\n"
   ]
  },
  {
   "cell_type": "code",
   "execution_count": 10,
   "metadata": {},
   "outputs": [
    {
     "name": "stdout",
     "output_type": "stream",
     "text": [
      "[ -7.44960350e-09   2.56695976e+01]\n"
     ]
    }
   ],
   "source": [
    "def f(params):\n",
    "    # print(params)  # <-- you'll see that params is a NumPy array\n",
    "    a, b = params # <-- for readability you may wish to assign names to the component variables\n",
    "    return a**2 + b**(-3)\n",
    "\n",
    "initial_guess = [1,1]\n",
    "result = optimize.minimize(f, initial_guess)\n",
    "if result.success:\n",
    "    fitted_params = result.x\n",
    "    print(fitted_params)\n",
    "else:\n",
    "    raise ValueError(result.message)"
   ]
  },
  {
   "cell_type": "code",
   "execution_count": null,
   "metadata": {
    "collapsed": true
   },
   "outputs": [],
   "source": []
  }
 ],
 "metadata": {
  "kernelspec": {
   "display_name": "Python 3",
   "language": "python",
   "name": "python3"
  },
  "language_info": {
   "codemirror_mode": {
    "name": "ipython",
    "version": 3
   },
   "file_extension": ".py",
   "mimetype": "text/x-python",
   "name": "python",
   "nbconvert_exporter": "python",
   "pygments_lexer": "ipython3",
   "version": "3.6.1"
  }
 },
 "nbformat": 4,
 "nbformat_minor": 2
}
