{
 "cells": [
  {
   "cell_type": "code",
   "execution_count": 3,
   "metadata": {
    "collapsed": true
   },
   "outputs": [],
   "source": [
    "%matplotlib inline\n",
    "import pandas as pd\n",
    "import numpy as np\n",
    "import nltk\n",
    "from nltk.corpus import stopwords\n",
    "import operator\n",
    "import seaborn as sns\n",
    "import json\n",
    "import matplotlib.pyplot as plt"
   ]
  },
  {
   "cell_type": "code",
   "execution_count": null,
   "metadata": {
    "collapsed": true
   },
   "outputs": [],
   "source": [
    "def load_json_to_df(datapass):\n",
    "    data = [] \n",
    "    with open(datapass) as data_file: \n",
    "        for f in data_file:\n",
    "            data.append(json.loads(f))\n",
    "    df = pd.DataFrame(data)\n",
    "    return df"
   ]
  },
  {
   "cell_type": "code",
   "execution_count": 13,
   "metadata": {},
   "outputs": [],
   "source": [
    "from nltk.corpus import opinion_lexicon\n",
    "neg = list(opinion_lexicon.negative())\n",
    "pos = list(opinion_lexicon.positive())"
   ]
  },
  {
   "cell_type": "code",
   "execution_count": 37,
   "metadata": {},
   "outputs": [],
   "source": [
    "from nltk.stem import PorterStemmer\n",
    "from nltk.tokenize import sent_tokenize, word_tokenize\n",
    " \n",
    "ps = PorterStemmer()\n",
    "pos_stem = []\n",
    "neg_stem = []\n",
    "for i in pos:\n",
    "    s = ps.stem(i)\n",
    "    if s not in pos_stem:\n",
    "        pos_stem.append(s)\n",
    "for i in neg:\n",
    "    s = ps.stem(i)\n",
    "    if s not in neg_stem:\n",
    "        neg_stem.append(s)"
   ]
  },
  {
   "cell_type": "code",
   "execution_count": 36,
   "metadata": {},
   "outputs": [
    {
     "data": {
      "text/plain": [
       "['We',\n",
       " 'use',\n",
       " 'word',\n",
       " 'word',\n",
       " 'talk',\n",
       " 'lu',\n",
       " 'the',\n",
       " 'realiti',\n",
       " 'actual',\n",
       " 'rather',\n",
       " 'complex',\n",
       " 'when',\n",
       " 'say',\n",
       " 'word',\n",
       " 'bake',\n",
       " 'polysem',\n",
       " 'mean',\n",
       " 'lemma',\n",
       " 'bake',\n",
       " 'v',\n",
       " 'word',\n",
       " 'form',\n",
       " 'bake',\n",
       " 'bake',\n",
       " 'bake',\n",
       " 'bake',\n",
       " 'link',\n",
       " 'three',\n",
       " 'differ',\n",
       " 'frame']"
      ]
     },
     "execution_count": 36,
     "metadata": {},
     "output_type": "execute_result"
    }
   ],
   "source": [
    "from nltk.corpus import stopwords\n",
    "from nltk.tokenize import RegexpTokenizer\n",
    "\n",
    "tokenizer = RegexpTokenizer(r'\\w+')\n",
    "def preprocess(s):\n",
    "    #tokenize, remove punctunation\n",
    "    words = tokenizer.tokenize(s)\n",
    "    #remove stop words\n",
    "    filtered_words = [w for w in words if w not in stopwords.words('english')]\n",
    "    #stem\n",
    "    for i in range(len(filtered_words)):\n",
    "        filtered_words[i] = ps.stem(filtered_words[i])\n",
    "    return filtered_words\n",
    "preprocess(s)"
   ]
  },
  {
   "cell_type": "code",
   "execution_count": 35,
   "metadata": {},
   "outputs": [],
   "source": [
    "def codeword(words):\n",
    "    for i in range(len(words)):\n",
    "        if words[i] in pos_stem:\n",
    "            words.insert(i+1, \"GOODREVIEW\")\n",
    "        if words[i] in neg_stem:\n",
    "            words.insert(i+1, \"NEGREVIEW\")"
   ]
  },
  {
   "cell_type": "code",
   "execution_count": null,
   "metadata": {
    "collapsed": true
   },
   "outputs": [],
   "source": []
  }
 ],
 "metadata": {
  "kernelspec": {
   "display_name": "Python 3",
   "language": "python",
   "name": "python3"
  },
  "language_info": {
   "codemirror_mode": {
    "name": "ipython",
    "version": 3
   },
   "file_extension": ".py",
   "mimetype": "text/x-python",
   "name": "python",
   "nbconvert_exporter": "python",
   "pygments_lexer": "ipython3",
   "version": "3.6.1"
  }
 },
 "nbformat": 4,
 "nbformat_minor": 2
}
