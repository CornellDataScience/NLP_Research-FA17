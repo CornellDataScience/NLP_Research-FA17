{
 "cells": [
  {
   "cell_type": "code",
   "execution_count": 3,
   "metadata": {
    "collapsed": true
   },
   "outputs": [],
   "source": [
    "%matplotlib inline\n",
    "import pandas as pd\n",
    "import numpy as np\n",
    "import nltk\n",
    "from nltk.corpus import stopwords\n",
    "import operator\n",
    "import seaborn as sns\n",
    "import json\n",
    "import matplotlib.pyplot as plt"
   ]
  },
  {
   "cell_type": "code",
   "execution_count": null,
   "metadata": {
    "collapsed": true
   },
   "outputs": [],
   "source": [
    "def load_json_to_df(datapass):\n",
    "    data = [] \n",
    "    with open(datapass) as data_file: \n",
    "        for f in data_file:\n",
    "            data.append(json.loads(f))\n",
    "    df = pd.DataFrame(data)\n",
    "    return df"
   ]
  },
  {
   "cell_type": "code",
   "execution_count": 13,
   "metadata": {},
   "outputs": [],
   "source": [
    "from nltk.corpus import opinion_lexicon\n",
    "neg = list(opinion_lexicon.negative())\n",
    "pos = list(opinion_lexicon.positive())"
   ]
  },
  {
   "cell_type": "code",
   "execution_count": 37,
   "metadata": {},
   "outputs": [],
   "source": [
    "from nltk.stem import PorterStemmer\n",
    "from nltk.tokenize import sent_tokenize, word_tokenize\n",
    " \n",
    "ps = PorterStemmer()\n",
    "pos_stem = []\n",
    "neg_stem = []\n",
    "for i in pos:\n",
    "    s = ps.stem(i)\n",
    "    if s not in pos_stem:\n",
    "        pos_stem.append(s)\n",
    "for i in neg:\n",
    "    s = ps.stem(i)\n",
    "    if s not in neg_stem:\n",
    "        neg_stem.append(s)"
   ]
  },
  {
   "cell_type": "code",
   "execution_count": 38,
   "metadata": {},
   "outputs": [],
   "source": [
    "from nltk.corpus import stopwords\n",
    "from nltk.tokenize import RegexpTokenizer\n",
    "\n",
    "tokenizer = RegexpTokenizer(r'\\w+')\n",
    "def preprocess(s):\n",
    "    #tokenize, remove punctunation\n",
    "    words = tokenizer.tokenize(s)\n",
    "    #remove stop words\n",
    "    filtered_words = [w for w in words if w not in stopwords.words('english')]\n",
    "    #stem\n",
    "    for i in range(len(filtered_words)):\n",
    "        filtered_words[i] = ps.stem(filtered_words[i])\n",
    "    return filtered_words"
   ]
  },
  {
   "cell_type": "code",
   "execution_count": 41,
   "metadata": {},
   "outputs": [],
   "source": [
    "def codeword(words):\n",
    "    for i in range(len(words)):\n",
    "        if words[i] in pos_stem:\n",
    "            words.insert(i+1, \"GOODREVIEW\")\n",
    "        if words[i] in neg_stem:\n",
    "            words.insert(i+1, \"NEGREVIEW\")\n",
    "    return words"
   ]
  },
  {
   "cell_type": "code",
   "execution_count": 42,
   "metadata": {},
   "outputs": [
    {
     "name": "stdout",
     "output_type": "stream",
     "text": [
      "['the', 'air', 'forc', 'NEGREVIEW', 'treat', 'mishap', 'NEGREVIEW', 'isol', 'NEGREVIEW', 'incid', 'accord', 'spokesperson', 'maj', 'malinda', 'singleton', 'accord', 'investig', 'report', 'engin', 'improperli', 'NEGREVIEW', 'assembl', 'due', 'procedur', 'failur', 'NEGREVIEW', 'part', 'commod', 'mainten', 'squadron', 'air', 'logist', 'complex', 'NEGREVIEW', 'oklahoma', 'citi', 'oklahoma', 'the', 'engin', 'compon', 'sent', 'tinker', 'air', 'forc', 'NEGREVIEW', 'base', 'overhaul', 'squadron', 'but', 'mainten', 'group', 'fault', 'NEGREVIEW', 'report', 'inadequ', 'NEGREVIEW', 'procedur', 'keep', 'track', 'spare', 'part', 'describ', 'substanti', 'contribut', 'GOODREVIEW', 'factor', 'crash', 'NEGREVIEW', 'the', 'group', 'complet', 'full', 'end', 'end', 'process', 'audit', 'F', '16', 'main', 'engin', 'control', 'product', 'GOODREVIEW', 'line', 'follow', 'crash', 'april', 'air', 'forc', 'spokesperson', 'jerri', 'bryza', 'told', 'cnn']\n"
     ]
    }
   ],
   "source": [
    "s = 'The Air Force is treating the mishap as an isolated incident, according to spokesperson Maj. Malinda Singleton.According to the investigation report, the engine was improperly assembled due to procedural failures on the part of the Commodities Maintenance Squadron at the Air Logistics Complex in Oklahoma City, Oklahoma.The engine component was sent to Tinker Air Force Base to be overhauled by the squadron.But the maintenance group was faulted in the report for having inadequate procedures for keeping track of spare parts which was described as a substantially contributing factor in the crash.The group completed a full end-to-end process audit on the F-16 Main Engine Control production line following the crash in April, Air Force spokesperson Jerry Bryza told CNN.'\n",
    "\n",
    "\n",
    "print (codeword(preprocess(s)))\n"
   ]
  },
  {
   "cell_type": "code",
   "execution_count": null,
   "metadata": {
    "collapsed": true
   },
   "outputs": [],
   "source": []
  }
 ],
 "metadata": {
  "kernelspec": {
   "display_name": "Python 3",
   "language": "python",
   "name": "python3"
  },
  "language_info": {
   "codemirror_mode": {
    "name": "ipython",
    "version": 3
   },
   "file_extension": ".py",
   "mimetype": "text/x-python",
   "name": "python",
   "nbconvert_exporter": "python",
   "pygments_lexer": "ipython3",
   "version": "3.6.1"
  }
 },
 "nbformat": 4,
 "nbformat_minor": 2
}
