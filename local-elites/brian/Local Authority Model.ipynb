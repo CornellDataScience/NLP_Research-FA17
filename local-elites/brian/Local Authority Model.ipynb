{
 "cells": [
  {
   "cell_type": "code",
   "execution_count": 1,
   "metadata": {
    "collapsed": true
   },
   "outputs": [],
   "source": [
    "import pandas as pd"
   ]
  },
  {
   "cell_type": "code",
   "execution_count": null,
   "metadata": {
    "collapsed": true
   },
   "outputs": [],
   "source": [
    "import numpy as np\n",
    "import matplotlib.pyplot as plt\n",
    "from matplotlib.colors import LogNorm\n",
    "from sklearn import mixture"
   ]
  },
  {
   "cell_type": "code",
   "execution_count": null,
   "metadata": {
    "collapsed": true
   },
   "outputs": [],
   "source": [
    "import_file = 'userReviewDates.json'\n",
    "review = pd.read_json(import_file, lines=True)\n",
    "review = review.sort_values('user_id')"
   ]
  },
  {
   "cell_type": "code",
   "execution_count": null,
   "metadata": {
    "scrolled": true
   },
   "outputs": [],
   "source": [
    "review['user_latitude']=pd.Series()\n",
    "review['user_longitude']=pd.Series()\n",
    "review['user_city']=pd.Series()\n",
    "review['user_state']=pd.Series()"
   ]
  },
  {
   "cell_type": "code",
   "execution_count": null,
   "metadata": {},
   "outputs": [],
   "source": [
    "users = review['user_id'].drop_duplicates()\n",
    "users.index = range(len(users))\n",
    "users"
   ]
  },
  {
   "cell_type": "code",
   "execution_count": null,
   "metadata": {
    "collapsed": true
   },
   "outputs": [],
   "source": [
    "# Return array of latitudes and array of longitudes corresponding to given user\n",
    "def user_locations(user):\n",
    "    user = [user]\n",
    "    tmp = review.query('user_id == @user').reset_index(drop=True)\n",
    "    print('User: %s' % user)\n",
    "    print('Reviews Included: %d' % len(tmp))\n",
    "    print('Total Reviews: %d' % tmp['review_count'][0])\n",
    "    return tmp['latitude'], tmp['longitude']"
   ]
  },
  {
   "cell_type": "code",
   "execution_count": null,
   "metadata": {},
   "outputs": [],
   "source": [
    "import gmplot\n",
    "user = 'eqWEgMH-DCP74i82BEAZzw'\n",
    "loc = user_locations(user)\n",
    "gmap = gmplot.GoogleMapPlotter(36, -150, 16)\n",
    "gmap.scatter(loc[0], loc[1], 'cornflowerblue', edge_width=10)\n",
    "gmap.draw(\"%s.html\" % user)"
   ]
  },
  {
   "cell_type": "code",
   "execution_count": null,
   "metadata": {
    "collapsed": true
   },
   "outputs": [],
   "source": [
    "COORDINATE_DIFFERENCE = 0.4\n",
    "\n",
    "def same_city(a,b):\n",
    "    if abs(a[0]-b[0])<COORDINATE_DIFFERENCE and abs(a[1]-b[1])<COORDINATE_DIFFERENCE:\n",
    "        return True\n",
    "    else:\n",
    "        return False"
   ]
  },
  {
   "cell_type": "code",
   "execution_count": null,
   "metadata": {
    "collapsed": true
   },
   "outputs": [],
   "source": [
    "def estimate_clusters_number(locations):\n",
    "    i =1 \n",
    "    while i < len(locations):\n",
    "        if same_city(locations[0],locations[i]):\n",
    "            return i\n",
    "        i = i+1\n",
    "    return len(locations)"
   ]
  },
  {
   "cell_type": "code",
   "execution_count": null,
   "metadata": {
    "collapsed": true
   },
   "outputs": [],
   "source": [
    "def gmm(latitudes, longitudes):\n",
    "    X_train = []\n",
    "    for i in range(len(latitudes)):\n",
    "        X_train.append([latitudes[i],longitudes[i]])\n",
    "    X_train = np.array(X_train)\n",
    "    \n",
    "    if len(X_train) > 12:\n",
    "        components = 12\n",
    "    else:\n",
    "        components = len(X_train)\n",
    "        \n",
    "    # fit a Gaussian Mixture Model with one component\n",
    "    clf = mixture.GaussianMixture(n_components=components, covariance_type='full')\n",
    "    clf.fit(X_train)\n",
    "    components = estimate_clusters_number(clf.means_)\n",
    "    clusters = mixture.GaussianMixture(n_components=components, covariance_type='full')  \n",
    "    clusters.fit(X_train)\n",
    "    \n",
    "    return clusters"
   ]
  },
  {
   "cell_type": "code",
   "execution_count": null,
   "metadata": {
    "collapsed": true
   },
   "outputs": [],
   "source": [
    "def scatterplot(X_train, center, clf):\n",
    "    # display predicted scores by the model as a contour plot\n",
    "    x = np.linspace(center[0]-0.2, center[0]+0.2)\n",
    "    y = np.linspace(center[1]-0.2, center[1]+0.2)\n",
    "    X, Y = np.meshgrid(x, y)\n",
    "    XX = np.array([X.ravel(), Y.ravel()]).T\n",
    "    Z = -clf.score_samples(XX)\n",
    "    Z = Z.reshape(X.shape)\n",
    "\n",
    "    CS = plt.contour(X, Y, Z, norm=LogNorm(vmin=1.0, vmax=1000.0),\n",
    "                     levels=np.logspace(0, 3, 10))\n",
    "    CB = plt.colorbar(CS, shrink=0.8, extend='both')\n",
    "    plt.scatter(X_train[:, 0], X_train[:, 1], .9)\n",
    "\n",
    "    plt.title('Businesses Visited by User')\n",
    "    plt.axis('tight')\n",
    "    plt.show()"
   ]
  },
  {
   "cell_type": "code",
   "execution_count": null,
   "metadata": {
    "collapsed": true
   },
   "outputs": [],
   "source": [
    "import reverse_geocoder as rg\n",
    "def locate(latitudes, longitudes):\n",
    "    # create training set\n",
    "    X_train = []\n",
    "    for i in range(len(latitudes)):\n",
    "        X_train.append([latitudes[i],longitudes[i]])\n",
    "    X_train = np.array(X_train)\n",
    "\n",
    "    # fit a Gaussian Mixture Model with one component\n",
    "    clf = gmm(latitudes, longitudes)\n",
    "    center = clf.means_[0]\n",
    "    \n",
    "    # print location\n",
    "    coordinates = (center[0], center[1])\n",
    "    results = rg.search(coordinates)[0]    \n",
    "    #print('User is located at: %s, %s' % (center[0],center[1]))\n",
    "    #print('%s, %s' % (results['name'],results['admin1']))\n",
    "    \n",
    "    # plot users reviews on scatterplot\n",
    "    #scatterplot(X_train, center, clf)\n",
    "    \n",
    "    return center[0], center[1], results['name'], results['admin1']"
   ]
  },
  {
   "cell_type": "code",
   "execution_count": null,
   "metadata": {
    "collapsed": true
   },
   "outputs": [],
   "source": [
    "def locate_user(user):\n",
    "    loc = user_locations(user)\n",
    "    return locate(loc[0], loc[1])"
   ]
  },
  {
   "cell_type": "code",
   "execution_count": null,
   "metadata": {},
   "outputs": [],
   "source": [
    "locations= [] \n",
    "for i in range(1000): \n",
    "    new = [] \n",
    "    loc = locate_user(users[i]) \n",
    "    for value in loc: \n",
    "        new.append(value) \n",
    "        locations.append(new)"
   ]
  },
  {
   "cell_type": "code",
   "execution_count": null,
   "metadata": {},
   "outputs": [],
   "source": [
    "locations"
   ]
  },
  {
   "cell_type": "code",
   "execution_count": null,
   "metadata": {
    "collapsed": true
   },
   "outputs": [],
   "source": [
    "location_dict = dict(zip(users, locations))"
   ]
  },
  {
   "cell_type": "code",
   "execution_count": null,
   "metadata": {},
   "outputs": [],
   "source": [
    "location_dict['cjpdDjZyprfyDG3RlkVG3w']"
   ]
  },
  {
   "cell_type": "code",
   "execution_count": null,
   "metadata": {},
   "outputs": [],
   "source": [
    "for i in range(1000):\n",
    "    user = review['user_id'][i]\n",
    "    review['user_latitude'][i]=location_dict[user][0]\n",
    "    review['user_longitude'][i]=location_dict[user][1]\n",
    "    review['user_city'][i]=location_dict[user][2]\n",
    "    review['user_state'][i]=location_dict[user][3]"
   ]
  },
  {
   "cell_type": "code",
   "execution_count": null,
   "metadata": {},
   "outputs": [],
   "source": [
    "review"
   ]
  },
  {
   "cell_type": "code",
   "execution_count": null,
   "metadata": {
    "collapsed": true
   },
   "outputs": [],
   "source": [
    "import gmplot\n",
    "def plot_user(user):\n",
    "    loc = user_locations(user)\n",
    "    prediction = location_dict[user]\n",
    "    latitudes = []\n",
    "    longitudes = []\n",
    "    latitudes.append(prediction[0])\n",
    "    longitudes.append(prediction[1])\n",
    "    gmap = gmplot.GoogleMapPlotter(latitudes[0], longitudes[0], 13)\n",
    "    gmap.scatter(loc[0], loc[1], 'cornflowerblue', edge_width=10)\n",
    "    gmap.scatter(latitudes, longitudes, 'red', edge_width=20)\n",
    "    gmap.draw(\"maps/%s.html\" % user)"
   ]
  },
  {
   "cell_type": "code",
   "execution_count": null,
   "metadata": {},
   "outputs": [],
   "source": [
    "plot_user('rW8q706dz5-NnXDzMwVkiw')"
   ]
  },
  {
   "cell_type": "code",
   "execution_count": null,
   "metadata": {
    "collapsed": true
   },
   "outputs": [],
   "source": []
  }
 ],
 "metadata": {
  "kernelspec": {
   "display_name": "Python 2",
   "language": "python",
   "name": "python2"
  },
  "language_info": {
   "codemirror_mode": {
    "name": "ipython",
    "version": 2
   },
   "file_extension": ".py",
   "mimetype": "text/x-python",
   "name": "python",
   "nbconvert_exporter": "python",
   "pygments_lexer": "ipython2",
   "version": "2.7.13"
  }
 },
 "nbformat": 4,
 "nbformat_minor": 2
}
