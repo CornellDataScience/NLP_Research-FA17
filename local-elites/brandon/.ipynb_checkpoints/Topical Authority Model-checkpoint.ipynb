{
 "cells": [
  {
   "cell_type": "code",
   "execution_count": 4,
   "metadata": {},
   "outputs": [
    {
     "name": "stdout",
     "output_type": "stream",
     "text": [
      "/Users/Brandon/Yelp Dataset/Yelp-FA17/local-elites/brandon\n",
      "['.DS_Store', 'business.json', 'checkin.json', 'photos.json', 'review.json', 'review5000.json', 'tip.json', 'user.json', 'user5000.json']\n"
     ]
    }
   ],
   "source": [
    "import pandas as pd\n",
    "import numpy as np\n",
    "import nltk\n",
    "from nltk.corpus import stopwords\n",
    "import operator\n",
    "import os\n",
    "print(os.getcwd())\n",
    "print(os.listdir('/Users/Brandon/Yelp Dataset/dataset'))\n",
    "import json\n",
    "import glob\n",
    "from datetime import datetime\n",
    "from pandas import HDFStore,DataFrame"
   ]
  },
  {
   "cell_type": "code",
   "execution_count": 5,
   "metadata": {
    "collapsed": true
   },
   "outputs": [],
   "source": [
    "def load_json_to_df(datapass):\n",
    "    '''\n",
    "    Load the json file and parse the file to pandas dataframe format\n",
    "    \n",
    "    Input:\n",
    "        datapass(str) : directory to the json file\n",
    "    Output:\n",
    "        df(dataframe) : pandas dataframe object\n",
    "    '''\n",
    "    \n",
    "    data = [] \n",
    "    with open(datapass) as data_file: \n",
    "        for f in data_file:\n",
    "            data.append(json.loads(f))\n",
    "    df = pd.DataFrame(data)\n",
    "    return df"
   ]
  },
  {
   "cell_type": "markdown",
   "metadata": {},
   "source": [
    "LOAD THE DATA"
   ]
  },
  {
   "cell_type": "code",
   "execution_count": 6,
   "metadata": {},
   "outputs": [
    {
     "name": "stdout",
     "output_type": "stream",
     "text": [
      "CPU times: user 1min 4s, sys: 20.6 s, total: 1min 24s\n",
      "Wall time: 1min 33s\n"
     ]
    }
   ],
   "source": [
    "%%time\n",
    "import_file = \"/Users/Brandon/Yelp Dataset/dataset/review.json\"\n",
    "review = load_json_to_df(import_file)"
   ]
  },
  {
   "cell_type": "code",
   "execution_count": 7,
   "metadata": {},
   "outputs": [
    {
     "name": "stdout",
     "output_type": "stream",
     "text": [
      "CPU times: user 5.15 s, sys: 471 ms, total: 5.62 s\n",
      "Wall time: 6.01 s\n"
     ]
    }
   ],
   "source": [
    "%%time\n",
    "import_file = \"/Users/Brandon/Yelp Dataset/dataset/business.json\"\n",
    "business = load_json_to_df(import_file)"
   ]
  },
  {
   "cell_type": "code",
   "execution_count": 8,
   "metadata": {},
   "outputs": [
    {
     "name": "stdout",
     "output_type": "stream",
     "text": [
      "CPU times: user 1min, sys: 26.7 s, total: 1min 26s\n",
      "Wall time: 1min 41s\n"
     ]
    }
   ],
   "source": [
    "%%time\n",
    "import_file = \"/Users/Brandon/Yelp Dataset/dataset/user.json\"\n",
    "user = load_json_to_df(import_file)"
   ]
  },
  {
   "cell_type": "markdown",
   "metadata": {},
   "source": [
    "Sort by category"
   ]
  },
  {
   "cell_type": "code",
   "execution_count": 10,
   "metadata": {
    "collapsed": true
   },
   "outputs": [],
   "source": [
    "def categoryFind(x,cat):\n",
    "    return cat in x;\n",
    "restaurantIndex = business['categories'].apply(categoryFind,cat='Restaurants')\n",
    "restaurants = business[restaurantIndex]"
   ]
  },
  {
   "cell_type": "code",
   "execution_count": 11,
   "metadata": {},
   "outputs": [
    {
     "name": "stdout",
     "output_type": "stream",
     "text": [
      "CPU times: user 38.9 s, sys: 26.4 s, total: 1min 5s\n",
      "Wall time: 1min 27s\n"
     ]
    }
   ],
   "source": [
    "%%time\n",
    "businessReviews = pd.merge(review, restaurants,on='business_id',right_index=True,sort=False)[['business_id', 'cool', 'funny', 'review_id', 'stars_x', 'text', 'useful', 'user_id', 'categories', 'review_count', 'stars_y']]\n",
    "bus_rev_users = pd.merge(businessReviews, user,on='user_id',right_index=True,sort=False)[['business_id', 'cool_x', 'funny_x', 'review_id', 'stars_x', 'text', 'useful_x', 'user_id', 'categories', 'stars_y', 'average_stars', 'cool_y', 'elite', 'fans', 'friends', 'name', 'review_count_y', 'yelping_since']]\n"
   ]
  },
  {
   "cell_type": "code",
   "execution_count": 25,
   "metadata": {},
   "outputs": [
    {
     "name": "stdout",
     "output_type": "stream",
     "text": [
      "2927731\n",
      "2927731\n",
      "['business_id', 'cool_x', 'funny_x', 'review_id', 'stars_x', 'text', 'useful_x', 'user_id', 'categories', 'stars_y', 'average_stars', 'cool_y', 'elite', 'fans', 'friends', 'name', 'review_count_y', 'yelping_since']\n"
     ]
    }
   ],
   "source": [
    "print(len(businessReviews))\n",
    "print(len(bus_rev_users))\n",
    "print(list(bus_rev_users))"
   ]
  },
  {
   "cell_type": "markdown",
   "metadata": {},
   "source": [
    "Define the first feature model to be analyzed"
   ]
  },
  {
   "cell_type": "code",
   "execution_count": 117,
   "metadata": {},
   "outputs": [],
   "source": [
    "def numCategoryReviews(businessReviews):\n",
    "    return businessReviews[['business_id','user_id']].groupby('user_id',as_index=False).count()\n",
    "\n",
    "def average_star_category_rating(businessReviews):\n",
    "    return businessReviews[['user_id','stars_x']].groupby('user_id',as_index=False).mean()\n",
    "\n",
    "def std_star_category_rating(businessReviews):\n",
    "    busRev = businessReviews[['user_id','stars_x']].groupby('user_id',as_index=False).agg(np.var)\n",
    "    busRev['stars_x'] = busRev['stars_x'].pow(1./2)\n",
    "    return busRev\n",
    "\n",
    "def funny_useful_cool(businessReviews):\n",
    "    return businessReviews[['user_id','funny','useful','cool']].groupby('user_id',as_index=False).sum()\n",
    "\n",
    "def months_yelping(businessReviews):\n",
    "    user_dates = businessReviews[['user_id','yelping_since']].drop_duplicates()\n",
    "    curr_date = datetime(2017,10,17)\n",
    "    uyelp_dates = [datetime.strptime(i, \"%Y-%m-%d\") for i in user_dates['yelping_since']]\n",
    "    months_yelping = [(curr_date.year - i.year) * 12 + curr_date.month - i.month for i in uyelp_dates]\n",
    "    user_dates['yelping_since'] = months_yelping\n",
    "    return user_dates\n",
    "\n",
    "def get_elite_users(df):\n",
    "    temp = []\n",
    "    for i in df['elite'].index.values:\n",
    "        if df['elite'][i]:\n",
    "            temp.append(i)\n",
    "    return temp, df.loc[temp]\n",
    "\n",
    "def feature1(df, df1):\n",
    "    catRev = numCategoryReviews(df)\n",
    "    catRev.columns = ['user_id','Num Category Reviews']\n",
    "    averageCat = average_star_category_rating(df)\n",
    "    averageCat.columns = ['user_id','Average Rating in Category']\n",
    "    stdCat = std_star_category_rating(df)\n",
    "    stdCat.columns = ['user_id','Std Dev of Ratings in Category']\n",
    "    fuc = funny_useful_cool(df)\n",
    "    monthsYelp = months_yelping(df1)\n",
    "    monthsYelp.columns = ['user_id', 'Months Yelping']\n",
    "    is_elite = df1[['user_id','elite']]\n",
    "    features = catRev.merge(averageCat,on='user_id').merge(stdCat,on='user_id').merge(fuc,on='user_id').merge(monthsYelp,on='user_id').merge(is_elite,on='user_id')\n",
    "    features = features.drop_duplicates('user_id')\n",
    "    features.index = range(len(features))\n",
    "    elite_ind, elite_users = get_elite_users(features)\n",
    "    expertClassifier = [0]*len(feature_set_1)\n",
    "    for i in elite_ind:\n",
    "        expertClassifier[i]=1\n",
    "    features = pd.concat([features, pd.Series(expertClassifier,name='is_elite')],axis=1)\n",
    "    return features.fillna(0)\n",
    "    \n",
    "    "
   ]
  },
  {
   "cell_type": "code",
   "execution_count": null,
   "metadata": {},
   "outputs": [],
   "source": [
    "%%time\n",
    "feature_set_1 = feature1(businessReviews, bus_rev_users)"
   ]
  },
  {
   "cell_type": "code",
   "execution_count": null,
   "metadata": {},
   "outputs": [],
   "source": [
    "elite_ind, elite_users = get_elite_users(feature_set_1)"
   ]
  },
  {
   "cell_type": "code",
   "execution_count": 66,
   "metadata": {},
   "outputs": [
    {
     "data": {
      "text/plain": [
       "50679"
      ]
     },
     "execution_count": 66,
     "metadata": {},
     "output_type": "execute_result"
    }
   ],
   "source": [
    "#elite_users\n",
    "expertClassifier = [0]*len(feature_set_1)\n",
    "for i in elite_ind:\n",
    "    expertClassifier[i]=1\n",
    "sum(expertClassifier)"
   ]
  },
  {
   "cell_type": "markdown",
   "metadata": {},
   "source": [
    "Random Forests Classifier"
   ]
  },
  {
   "cell_type": "code",
   "execution_count": 67,
   "metadata": {
    "collapsed": true
   },
   "outputs": [],
   "source": [
    "from sklearn.model_selection import train_test_split\n",
    "from sklearn.ensemble import RandomForestClassifier\n",
    "from sklearn.metrics import accuracy_score\n",
    "from sklearn.metrics import confusion_matrix"
   ]
  },
  {
   "cell_type": "code",
   "execution_count": 109,
   "metadata": {},
   "outputs": [
    {
     "name": "stdout",
     "output_type": "stream",
     "text": [
      "617487\n",
      "205830\n",
      "823317\n"
     ]
    },
    {
     "data": {
      "text/plain": [
       "[        Num Category Reviews  Average Rating in Category  \\\n",
       " 294902                     1                    5.000000   \n",
       " 24853                      1                    2.000000   \n",
       " 113119                     4                    4.500000   \n",
       " 14636                      1                    5.000000   \n",
       " 24507                      1                    5.000000   \n",
       " 377442                     1                    5.000000   \n",
       " 402921                     1                    5.000000   \n",
       " 492202                     1                    5.000000   \n",
       " 726125                     6                    4.833333   \n",
       " 157828                     1                    4.000000   \n",
       " 214425                     1                    4.000000   \n",
       " 467935                     2                    3.500000   \n",
       " 455146                     1                    5.000000   \n",
       " 305956                     1                    4.000000   \n",
       " 370917                     1                    5.000000   \n",
       " 240574                     1                    3.000000   \n",
       " 606328                     1                    5.000000   \n",
       " 44280                      1                    1.000000   \n",
       " 243037                     4                    2.000000   \n",
       " 5933                       1                    5.000000   \n",
       " 343718                     1                    5.000000   \n",
       " 343401                     3                    2.333333   \n",
       " 606437                     1                    5.000000   \n",
       " 304617                     1                    5.000000   \n",
       " 323968                     1                    3.000000   \n",
       " 305686                     1                    5.000000   \n",
       " 524742                     1                    1.000000   \n",
       " 689378                     1                    5.000000   \n",
       " 520346                     1                    4.000000   \n",
       " 276056                     1                    4.000000   \n",
       " ...                      ...                         ...   \n",
       " 151288                     1                    2.000000   \n",
       " 100045                     1                    5.000000   \n",
       " 248815                     1                    4.000000   \n",
       " 524022                     1                    4.000000   \n",
       " 628179                     1                    5.000000   \n",
       " 647704                     2                    2.000000   \n",
       " 348102                     1                    1.000000   \n",
       " 587556                     1                    1.000000   \n",
       " 350601                     4                    5.000000   \n",
       " 463021                     1                    5.000000   \n",
       " 193956                     1                    5.000000   \n",
       " 585795                     1                    5.000000   \n",
       " 368748                     3                    4.333333   \n",
       " 481493                     2                    5.000000   \n",
       " 457245                     7                    3.714286   \n",
       " 173728                     1                    5.000000   \n",
       " 705736                     2                    3.500000   \n",
       " 451881                     5                    4.800000   \n",
       " 234083                     3                    1.000000   \n",
       " 393649                     1                    1.000000   \n",
       " 594393                     8                    4.125000   \n",
       " 186844                     1                    3.000000   \n",
       " 729353                    22                    3.772727   \n",
       " 183757                     2                    3.000000   \n",
       " 778610                     1                    3.000000   \n",
       " 475984                     2                    2.500000   \n",
       " 155028                     1                    2.000000   \n",
       " 777937                     5                    4.600000   \n",
       " 428575                     3                    4.333333   \n",
       " 796382                     1                    1.000000   \n",
       " \n",
       "         Std Dev of Ratings in Category  funny  useful  cool  Months Yelping  \n",
       " 294902                        0.000000      0       0     0              14  \n",
       " 24853                         0.000000      0       2     0              94  \n",
       " 113119                        0.577350      0       0     0              37  \n",
       " 14636                         0.000000      0       0     1              39  \n",
       " 24507                         0.000000      0       0     0              38  \n",
       " 377442                        0.000000      1       1     1              81  \n",
       " 402921                        0.000000      0       0     0              88  \n",
       " 492202                        0.000000      0       0     0              72  \n",
       " 726125                        0.408248      0       1     0              68  \n",
       " 157828                        0.000000      0       0     0              78  \n",
       " 214425                        0.000000      0       0     0               5  \n",
       " 467935                        2.121320      0       0     0              38  \n",
       " 455146                        0.000000      0       0     0              14  \n",
       " 305956                        0.000000      0       0     0             102  \n",
       " 370917                        0.000000      1       1     1              86  \n",
       " 240574                        0.000000      1       2     1              52  \n",
       " 606328                        0.000000      0       0     0              20  \n",
       " 44280                         0.000000      0       0     0              38  \n",
       " 243037                        0.816497      1       1     0              61  \n",
       " 5933                          0.000000      0       1     0              72  \n",
       " 343718                        0.000000      0       0     0              75  \n",
       " 343401                        2.309401      0       1     0              41  \n",
       " 606437                        0.000000      2       0     0              76  \n",
       " 304617                        0.000000      0       0     0              45  \n",
       " 323968                        0.000000      0       1     0              54  \n",
       " 305686                        0.000000      0       0     0              49  \n",
       " 524742                        0.000000      0       1     1             105  \n",
       " 689378                        0.000000      0       0     0              33  \n",
       " 520346                        0.000000      0       0     0              39  \n",
       " 276056                        0.000000      0       1     1              54  \n",
       " ...                                ...    ...     ...   ...             ...  \n",
       " 151288                        0.000000      0       0     0              67  \n",
       " 100045                        0.000000      0       0     0              24  \n",
       " 248815                        0.000000      0       0     0              51  \n",
       " 524022                        0.000000      0       0     0             102  \n",
       " 628179                        0.000000      0       0     0              16  \n",
       " 647704                        0.000000      0       4     0              81  \n",
       " 348102                        0.000000      0       0     0              82  \n",
       " 587556                        0.000000      1       1     1              42  \n",
       " 350601                        0.000000      0       1     0              62  \n",
       " 463021                        0.000000      0       0     0              51  \n",
       " 193956                        0.000000      0       0     0              10  \n",
       " 585795                        0.000000      0       0     0             102  \n",
       " 368748                        0.577350      1       1     1              32  \n",
       " 481493                        0.000000      0       0     0              12  \n",
       " 457245                        1.603567      0       0     0              27  \n",
       " 173728                        0.000000      0       0     0              59  \n",
       " 705736                        2.121320      0       1     0              28  \n",
       " 451881                        0.447214      0       3     1              63  \n",
       " 234083                        0.000000      3       2     1              57  \n",
       " 393649                        0.000000      1       4     1              62  \n",
       " 594393                        1.125992      1       4     1              71  \n",
       " 186844                        0.000000      0       0     0             118  \n",
       " 729353                        1.269864     60     107    79              36  \n",
       " 183757                        2.828427      0       0     1              15  \n",
       " 778610                        0.000000      0       0     0              97  \n",
       " 475984                        0.707107      0       1     1              44  \n",
       " 155028                        0.000000      2       1     0              95  \n",
       " 777937                        0.547723      1       2     0              49  \n",
       " 428575                        1.154701      0       1     0              40  \n",
       " 796382                        0.000000      0       0     0              17  \n",
       " \n",
       " [617487 rows x 7 columns],\n",
       "         Num Category Reviews  Average Rating in Category  \\\n",
       " 128687                     1                    4.000000   \n",
       " 796909                     1                    5.000000   \n",
       " 132944                     1                    3.000000   \n",
       " 277155                     1                    4.000000   \n",
       " 220927                     1                    5.000000   \n",
       " 81839                      4                    2.750000   \n",
       " 771833                     3                    5.000000   \n",
       " 96616                      1                    5.000000   \n",
       " 192370                     1                    3.000000   \n",
       " 235712                     1                    4.000000   \n",
       " 57964                      2                    1.000000   \n",
       " 559237                     2                    5.000000   \n",
       " 209036                     1                    1.000000   \n",
       " 799043                     1                    1.000000   \n",
       " 178906                     1                    2.000000   \n",
       " 289049                     2                    3.000000   \n",
       " 681332                     4                    4.000000   \n",
       " 761175                     1                    4.000000   \n",
       " 642219                     1                    4.000000   \n",
       " 258519                     5                    3.600000   \n",
       " 225439                     1                    5.000000   \n",
       " 232941                     1                    4.000000   \n",
       " 54175                      1                    5.000000   \n",
       " 451850                     1                    1.000000   \n",
       " 168804                     2                    4.500000   \n",
       " 755420                     5                    4.600000   \n",
       " 259405                     1                    4.000000   \n",
       " 44131                      1                    5.000000   \n",
       " 499881                     3                    4.333333   \n",
       " 288791                     1                    5.000000   \n",
       " ...                      ...                         ...   \n",
       " 322659                     1                    5.000000   \n",
       " 578756                     1                    5.000000   \n",
       " 656448                     1                    5.000000   \n",
       " 172212                     8                    4.000000   \n",
       " 351868                     1                    5.000000   \n",
       " 6305                       1                    5.000000   \n",
       " 337787                     1                    1.000000   \n",
       " 457037                     1                    4.000000   \n",
       " 695705                     3                    4.666667   \n",
       " 719050                     1                    5.000000   \n",
       " 622442                     1                    1.000000   \n",
       " 669670                     5                    4.200000   \n",
       " 730471                     1                    1.000000   \n",
       " 589312                    12                    4.166667   \n",
       " 218437                    10                    4.000000   \n",
       " 164160                     1                    5.000000   \n",
       " 164035                     1                    5.000000   \n",
       " 61118                      4                    4.000000   \n",
       " 537044                     6                    3.666667   \n",
       " 595929                     5                    5.000000   \n",
       " 657408                     1                    1.000000   \n",
       " 524920                     4                    4.000000   \n",
       " 241423                     1                    2.000000   \n",
       " 85002                      2                    3.000000   \n",
       " 410780                     3                    3.333333   \n",
       " 379000                     1                    4.000000   \n",
       " 467071                     1                    5.000000   \n",
       " 434880                     2                    5.000000   \n",
       " 550669                     1                    5.000000   \n",
       " 712797                     2                    4.500000   \n",
       " \n",
       "         Std Dev of Ratings in Category  funny  useful  cool  Months Yelping  \n",
       " 128687                        0.000000      0       0     0              97  \n",
       " 796909                        0.000000      0       0     0              37  \n",
       " 132944                        0.000000      0       0     0              38  \n",
       " 277155                        0.000000      0       0     1              34  \n",
       " 220927                        0.000000      0       1     1              61  \n",
       " 81839                         2.061553      1       0     1              64  \n",
       " 771833                        0.000000      0       2     0              60  \n",
       " 96616                         0.000000      0       0     0              29  \n",
       " 192370                        0.000000      0       0     0              35  \n",
       " 235712                        0.000000      0       0     0              74  \n",
       " 57964                         0.000000      0       0     0              52  \n",
       " 559237                        0.000000      0       0     0              53  \n",
       " 209036                        0.000000      0       1     0              61  \n",
       " 799043                        0.000000      0       0     0              63  \n",
       " 178906                        0.000000      0       0     0              26  \n",
       " 289049                        2.828427      0       0     0              23  \n",
       " 681332                        1.414214      0       0     0              58  \n",
       " 761175                        0.000000      0       0     0             103  \n",
       " 642219                        0.000000      0       0     0              48  \n",
       " 258519                        1.673320      2       5     1              61  \n",
       " 225439                        0.000000      0       1     0             102  \n",
       " 232941                        0.000000      4       1     0              52  \n",
       " 54175                         0.000000      0       0     0              17  \n",
       " 451850                        0.000000      0       0     0              18  \n",
       " 168804                        0.707107      0       2     2              89  \n",
       " 755420                        0.547723      2       3     1              87  \n",
       " 259405                        0.000000      0       0     0              24  \n",
       " 44131                         0.000000      0       0     0              97  \n",
       " 499881                        0.577350      0       0     0              60  \n",
       " 288791                        0.000000      0       2     0              66  \n",
       " ...                                ...    ...     ...   ...             ...  \n",
       " 322659                        0.000000      0       0     0              48  \n",
       " 578756                        0.000000      0       0     0              57  \n",
       " 656448                        0.000000      0       0     0              34  \n",
       " 172212                        1.195229      4       7     5              98  \n",
       " 351868                        0.000000      0       1     0              45  \n",
       " 6305                          0.000000      0       0     0              55  \n",
       " 337787                        0.000000      0       0     0              74  \n",
       " 457037                        0.000000      0       0     0              77  \n",
       " 695705                        0.577350      0       0     0              34  \n",
       " 719050                        0.000000      0       1     0              47  \n",
       " 622442                        0.000000      0       0     0              64  \n",
       " 669670                        1.788854      0       4     0              49  \n",
       " 730471                        0.000000      0       0     0              62  \n",
       " 589312                        1.114641      2       0     1              18  \n",
       " 218437                        0.666667      2       8     2              60  \n",
       " 164160                        0.000000      0       1     0              43  \n",
       " 164035                        0.000000      0       0     0              83  \n",
       " 61118                         2.000000      0       3     2              79  \n",
       " 537044                        2.065591      0       2     0              32  \n",
       " 595929                        0.000000      1       1     1              38  \n",
       " 657408                        0.000000      0       0     0              56  \n",
       " 524920                        1.154701      1       8     1              20  \n",
       " 241423                        0.000000      0       0     0              57  \n",
       " 85002                         2.828427      0       1     0              21  \n",
       " 410780                        2.081666      0       0     0              63  \n",
       " 379000                        0.000000      0       0     1              36  \n",
       " 467071                        0.000000      0       0     0              53  \n",
       " 434880                        0.000000      0       1     1              58  \n",
       " 550669                        0.000000      0       1     0              40  \n",
       " 712797                        0.707107      1       1     0              82  \n",
       " \n",
       " [205830 rows x 7 columns]]"
      ]
     },
     "execution_count": 109,
     "metadata": {},
     "output_type": "execute_result"
    }
   ],
   "source": [
    "X = feature_set_1.drop('user_id',axis=1).drop('elite',axis=1)\n",
    "train, test = train_test_split(X)"
   ]
  },
  {
   "cell_type": "code",
   "execution_count": null,
   "metadata": {
    "collapsed": true
   },
   "outputs": [],
   "source": [
    "clf = RandomForestClassifier(max_depth=4, random_state=0)\n",
    "clf.fit(X,y)"
   ]
  },
  {
   "cell_type": "code",
   "execution_count": 99,
   "metadata": {},
   "outputs": [
    {
     "data": {
      "text/plain": [
       "array([0])"
      ]
     },
     "execution_count": 99,
     "metadata": {},
     "output_type": "execute_result"
    }
   ],
   "source": [
    "clf.predict([[22,4.77,0.68,0,0,0,15]])"
   ]
  },
  {
   "cell_type": "code",
   "execution_count": 98,
   "metadata": {},
   "outputs": [
    {
     "data": {
      "text/html": [
       "<div>\n",
       "<style>\n",
       "    .dataframe thead tr:only-child th {\n",
       "        text-align: right;\n",
       "    }\n",
       "\n",
       "    .dataframe thead th {\n",
       "        text-align: left;\n",
       "    }\n",
       "\n",
       "    .dataframe tbody tr th {\n",
       "        vertical-align: top;\n",
       "    }\n",
       "</style>\n",
       "<table border=\"1\" class=\"dataframe\">\n",
       "  <thead>\n",
       "    <tr style=\"text-align: right;\">\n",
       "      <th></th>\n",
       "      <th>user_id</th>\n",
       "      <th>Num Category Reviews</th>\n",
       "      <th>Average Rating in Category</th>\n",
       "      <th>Std Dev of Ratings in Category</th>\n",
       "      <th>funny</th>\n",
       "      <th>useful</th>\n",
       "      <th>cool</th>\n",
       "      <th>Months Yelping</th>\n",
       "      <th>elite</th>\n",
       "    </tr>\n",
       "  </thead>\n",
       "  <tbody>\n",
       "    <tr>\n",
       "      <th>1</th>\n",
       "      <td>---PLwSf5gKdIoVnyRHgBA</td>\n",
       "      <td>1</td>\n",
       "      <td>3.000000</td>\n",
       "      <td>0.000000</td>\n",
       "      <td>0</td>\n",
       "      <td>0</td>\n",
       "      <td>0</td>\n",
       "      <td>27</td>\n",
       "      <td>[]</td>\n",
       "    </tr>\n",
       "    <tr>\n",
       "      <th>2</th>\n",
       "      <td>---cu1hq55BP9DWVXXKHZg</td>\n",
       "      <td>2</td>\n",
       "      <td>2.500000</td>\n",
       "      <td>2.121320</td>\n",
       "      <td>0</td>\n",
       "      <td>1</td>\n",
       "      <td>0</td>\n",
       "      <td>102</td>\n",
       "      <td>[]</td>\n",
       "    </tr>\n",
       "    <tr>\n",
       "      <th>3</th>\n",
       "      <td>---udAKDsn0yQXmzbWQNSw</td>\n",
       "      <td>1</td>\n",
       "      <td>4.000000</td>\n",
       "      <td>0.000000</td>\n",
       "      <td>0</td>\n",
       "      <td>0</td>\n",
       "      <td>0</td>\n",
       "      <td>39</td>\n",
       "      <td>[]</td>\n",
       "    </tr>\n",
       "    <tr>\n",
       "      <th>4</th>\n",
       "      <td>--0RtXvcOIE4XbErYca6Rw</td>\n",
       "      <td>1</td>\n",
       "      <td>4.000000</td>\n",
       "      <td>0.000000</td>\n",
       "      <td>0</td>\n",
       "      <td>0</td>\n",
       "      <td>0</td>\n",
       "      <td>53</td>\n",
       "      <td>[]</td>\n",
       "    </tr>\n",
       "    <tr>\n",
       "      <th>5</th>\n",
       "      <td>--0sXNBv6IizZXuV-nl0Aw</td>\n",
       "      <td>1</td>\n",
       "      <td>5.000000</td>\n",
       "      <td>0.000000</td>\n",
       "      <td>0</td>\n",
       "      <td>1</td>\n",
       "      <td>0</td>\n",
       "      <td>57</td>\n",
       "      <td>[]</td>\n",
       "    </tr>\n",
       "    <tr>\n",
       "      <th>6</th>\n",
       "      <td>--1av6NdbEbMiuBr7Aup9A</td>\n",
       "      <td>1</td>\n",
       "      <td>5.000000</td>\n",
       "      <td>0.000000</td>\n",
       "      <td>0</td>\n",
       "      <td>3</td>\n",
       "      <td>0</td>\n",
       "      <td>85</td>\n",
       "      <td>[]</td>\n",
       "    </tr>\n",
       "    <tr>\n",
       "      <th>7</th>\n",
       "      <td>--1mPJZdSY9KluaBYAGboQ</td>\n",
       "      <td>1</td>\n",
       "      <td>5.000000</td>\n",
       "      <td>0.000000</td>\n",
       "      <td>0</td>\n",
       "      <td>0</td>\n",
       "      <td>0</td>\n",
       "      <td>75</td>\n",
       "      <td>[]</td>\n",
       "    </tr>\n",
       "    <tr>\n",
       "      <th>8</th>\n",
       "      <td>--26jc8nCJBy4-7r3ZtmiQ</td>\n",
       "      <td>1</td>\n",
       "      <td>5.000000</td>\n",
       "      <td>0.000000</td>\n",
       "      <td>1</td>\n",
       "      <td>1</td>\n",
       "      <td>1</td>\n",
       "      <td>38</td>\n",
       "      <td>[]</td>\n",
       "    </tr>\n",
       "    <tr>\n",
       "      <th>9</th>\n",
       "      <td>--2HUmLkcNHZp0xw6AMBPg</td>\n",
       "      <td>22</td>\n",
       "      <td>4.772727</td>\n",
       "      <td>0.685344</td>\n",
       "      <td>0</td>\n",
       "      <td>0</td>\n",
       "      <td>0</td>\n",
       "      <td>15</td>\n",
       "      <td>[]</td>\n",
       "    </tr>\n",
       "  </tbody>\n",
       "</table>\n",
       "</div>"
      ],
      "text/plain": [
       "                  user_id  Num Category Reviews  Average Rating in Category  \\\n",
       "1  ---PLwSf5gKdIoVnyRHgBA                     1                    3.000000   \n",
       "2  ---cu1hq55BP9DWVXXKHZg                     2                    2.500000   \n",
       "3  ---udAKDsn0yQXmzbWQNSw                     1                    4.000000   \n",
       "4  --0RtXvcOIE4XbErYca6Rw                     1                    4.000000   \n",
       "5  --0sXNBv6IizZXuV-nl0Aw                     1                    5.000000   \n",
       "6  --1av6NdbEbMiuBr7Aup9A                     1                    5.000000   \n",
       "7  --1mPJZdSY9KluaBYAGboQ                     1                    5.000000   \n",
       "8  --26jc8nCJBy4-7r3ZtmiQ                     1                    5.000000   \n",
       "9  --2HUmLkcNHZp0xw6AMBPg                    22                    4.772727   \n",
       "\n",
       "   Std Dev of Ratings in Category  funny  useful  cool  Months Yelping elite  \n",
       "1                        0.000000      0       0     0              27    []  \n",
       "2                        2.121320      0       1     0             102    []  \n",
       "3                        0.000000      0       0     0              39    []  \n",
       "4                        0.000000      0       0     0              53    []  \n",
       "5                        0.000000      0       1     0              57    []  \n",
       "6                        0.000000      0       3     0              85    []  \n",
       "7                        0.000000      0       0     0              75    []  \n",
       "8                        0.000000      1       1     1              38    []  \n",
       "9                        0.685344      0       0     0              15    []  "
      ]
     },
     "execution_count": 98,
     "metadata": {},
     "output_type": "execute_result"
    }
   ],
   "source": [
    "feature_set_1[1:10]"
   ]
  }
 ],
 "metadata": {
  "kernelspec": {
   "display_name": "Python 3",
   "language": "python",
   "name": "python3"
  },
  "language_info": {
   "codemirror_mode": {
    "name": "ipython",
    "version": 3
   },
   "file_extension": ".py",
   "mimetype": "text/x-python",
   "name": "python",
   "nbconvert_exporter": "python",
   "pygments_lexer": "ipython3",
   "version": "3.6.2"
  }
 },
 "nbformat": 4,
 "nbformat_minor": 2
}
