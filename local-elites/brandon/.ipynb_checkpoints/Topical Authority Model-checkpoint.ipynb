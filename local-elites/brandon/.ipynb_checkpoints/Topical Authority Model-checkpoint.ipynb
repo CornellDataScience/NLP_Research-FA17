{
 "cells": [
  {
   "cell_type": "markdown",
   "metadata": {},
   "source": [
    "# Topical Expert Model"
   ]
  },
  {
   "cell_type": "code",
   "execution_count": 1,
   "metadata": {},
   "outputs": [
    {
     "name": "stdout",
     "output_type": "stream",
     "text": [
      "/Users/Brandon/Yelp Dataset/Yelp-FA17/local-elites/brandon\n",
      "['.DS_Store', 'business.json', 'checkin.json', 'photos.json', 'review.json', 'review5000.json', 'tip.json', 'user.json', 'user5000.json']\n"
     ]
    }
   ],
   "source": [
    "import pandas as pd\n",
    "import numpy as np\n",
    "import nltk\n",
    "from nltk.corpus import stopwords\n",
    "import operator\n",
    "import os\n",
    "print(os.getcwd())\n",
    "print(os.listdir('/Users/Brandon/Yelp Dataset/dataset'))\n",
    "import json\n",
    "import glob\n",
    "from datetime import datetime\n",
    "from pandas import HDFStore,DataFrame\n",
    "import operator"
   ]
  },
  {
   "cell_type": "code",
   "execution_count": 2,
   "metadata": {
    "collapsed": true
   },
   "outputs": [],
   "source": [
    "def load_json_to_df(datapass):\n",
    "    '''\n",
    "    Load the json file and parse the file to pandas dataframe format\n",
    "    \n",
    "    Input:\n",
    "        datapass(str) : directory to the json file\n",
    "    Output:\n",
    "        df(dataframe) : pandas dataframe object\n",
    "    '''\n",
    "    \n",
    "    data = [] \n",
    "    with open(datapass) as data_file: \n",
    "        for f in data_file:\n",
    "            data.append(json.loads(f))\n",
    "    df = pd.DataFrame(data)\n",
    "    return df"
   ]
  },
  {
   "cell_type": "markdown",
   "metadata": {},
   "source": [
    "LOAD THE DATA"
   ]
  },
  {
   "cell_type": "code",
   "execution_count": 3,
   "metadata": {},
   "outputs": [
    {
     "name": "stdout",
     "output_type": "stream",
     "text": [
      "CPU times: user 1min 3s, sys: 23.3 s, total: 1min 26s\n",
      "Wall time: 1min 38s\n"
     ]
    }
   ],
   "source": [
    "%%time\n",
    "import_file = \"/Users/Brandon/Yelp Dataset/dataset/review.json\"\n",
    "review = load_json_to_df(import_file)"
   ]
  },
  {
   "cell_type": "code",
   "execution_count": 4,
   "metadata": {},
   "outputs": [
    {
     "name": "stdout",
     "output_type": "stream",
     "text": [
      "CPU times: user 5.25 s, sys: 453 ms, total: 5.7 s\n",
      "Wall time: 6.06 s\n"
     ]
    }
   ],
   "source": [
    "%%time\n",
    "import_file = \"/Users/Brandon/Yelp Dataset/dataset/business.json\"\n",
    "business = load_json_to_df(import_file)"
   ]
  },
  {
   "cell_type": "code",
   "execution_count": 5,
   "metadata": {},
   "outputs": [
    {
     "name": "stdout",
     "output_type": "stream",
     "text": [
      "CPU times: user 53.3 s, sys: 17.5 s, total: 1min 10s\n",
      "Wall time: 1min 21s\n"
     ]
    }
   ],
   "source": [
    "%%time\n",
    "import_file = \"/Users/Brandon/Yelp Dataset/dataset/user.json\"\n",
    "user = load_json_to_df(import_file)"
   ]
  },
  {
   "cell_type": "markdown",
   "metadata": {},
   "source": [
    "Sort by category"
   ]
  },
  {
   "cell_type": "code",
   "execution_count": 7,
   "metadata": {},
   "outputs": [
    {
     "name": "stdout",
     "output_type": "stream",
     "text": [
      "CPU times: user 54 s, sys: 691 ms, total: 54.7 s\n",
      "Wall time: 57.3 s\n"
     ]
    }
   ],
   "source": [
    "def categoryFind(df, cat):\n",
    "    return [cat in i for i in df['categories']]\n",
    "\n",
    "def category_counts(df):\n",
    "    all_cats = []\n",
    "    for i in df['categories']:\n",
    "        for j in i:\n",
    "            all_cats.append(j)\n",
    "    categories = set(all_cats)\n",
    "    category_counts = {}\n",
    "    for cat in categories:\n",
    "        category_counts[cat] = all_cats.count(cat)\n",
    "    return len(categories), category_counts\n",
    "\n",
    "def top_categories(counts, n):\n",
    "    top_categories = sorted(counts.keys(), key=(lambda k: counts[k]),reverse=True)[:n]\n",
    "    return top_categories"
   ]
  },
  {
   "cell_type": "code",
   "execution_count": 8,
   "metadata": {},
   "outputs": [
    {
     "data": {
      "text/plain": [
       "['Restaurants',\n",
       " 'Shopping',\n",
       " 'Food',\n",
       " 'Beauty & Spas',\n",
       " 'Home Services',\n",
       " 'Health & Medical',\n",
       " 'Nightlife',\n",
       " 'Bars',\n",
       " 'Automotive',\n",
       " 'Local Services',\n",
       " 'Event Planning & Services',\n",
       " 'Active Life',\n",
       " 'Fashion',\n",
       " 'Sandwiches',\n",
       " 'Fast Food',\n",
       " 'American (Traditional)',\n",
       " 'Pizza',\n",
       " 'Coffee & Tea',\n",
       " 'Hair Salons',\n",
       " 'Hotels & Travel',\n",
       " 'Arts & Entertainment',\n",
       " 'Home & Garden',\n",
       " 'Auto Repair',\n",
       " 'Italian',\n",
       " 'Burgers',\n",
       " 'Doctors',\n",
       " 'Breakfast & Brunch',\n",
       " 'Mexican',\n",
       " 'Nail Salons',\n",
       " 'Professional Services',\n",
       " 'American (New)',\n",
       " 'Chinese',\n",
       " 'Real Estate',\n",
       " 'Specialty Food',\n",
       " 'Fitness & Instruction',\n",
       " 'Pets',\n",
       " 'Grocery',\n",
       " 'Bakeries',\n",
       " 'Cafes',\n",
       " 'Hair Removal',\n",
       " 'Dentists',\n",
       " 'Hotels',\n",
       " 'Desserts',\n",
       " 'Skin Care',\n",
       " \"Women's Clothing\",\n",
       " 'Education',\n",
       " 'Japanese',\n",
       " 'Ice Cream & Frozen Yogurt',\n",
       " 'Pet Services',\n",
       " 'Day Spas',\n",
       " 'Massage',\n",
       " 'General Dentistry',\n",
       " 'Financial Services',\n",
       " 'Pubs',\n",
       " 'Chicken Wings',\n",
       " 'Seafood',\n",
       " 'Contractors',\n",
       " 'Salad',\n",
       " 'Gyms',\n",
       " 'Sushi Bars',\n",
       " 'Sports Bars',\n",
       " 'Apartments',\n",
       " 'Caterers',\n",
       " 'Flowers & Gifts',\n",
       " 'Sporting Goods',\n",
       " 'Wine & Spirits',\n",
       " 'Beer',\n",
       " 'Cosmetics & Beauty Supply',\n",
       " 'Oil Change Stations',\n",
       " 'Tires',\n",
       " 'Accessories',\n",
       " 'Venues & Event Spaces',\n",
       " 'Delis',\n",
       " 'Hair Stylists',\n",
       " 'Asian Fusion',\n",
       " 'Barbers',\n",
       " 'Waxing',\n",
       " 'Mediterranean',\n",
       " 'Auto Parts & Supplies',\n",
       " 'Trainers',\n",
       " 'Car Dealers',\n",
       " 'Furniture Stores',\n",
       " 'Home Decor',\n",
       " 'Cosmetic Dentists',\n",
       " 'Drugstores',\n",
       " 'Barbeque',\n",
       " 'Department Stores',\n",
       " \"Men's Clothing\",\n",
       " 'Canadian (New)',\n",
       " 'Lounges',\n",
       " 'Arts & Crafts',\n",
       " 'Jewelry',\n",
       " 'Convenience Stores',\n",
       " 'Steakhouses',\n",
       " 'Thai',\n",
       " 'Indian',\n",
       " 'Juice Bars & Smoothies',\n",
       " 'Eyelash Service',\n",
       " 'Massage Therapy',\n",
       " 'Medical Centers']"
      ]
     },
     "execution_count": 8,
     "metadata": {},
     "output_type": "execute_result"
    }
   ],
   "source": [
    "num_cats, cat_counts = category_counts(business)\n",
    "top_cats = top_categories(cat_counts, 100)\n",
    "top_cats"
   ]
  },
  {
   "cell_type": "code",
   "execution_count": 9,
   "metadata": {},
   "outputs": [
    {
     "name": "stdout",
     "output_type": "stream",
     "text": [
      "CPU times: user 38 s, sys: 28.2 s, total: 1min 6s\n",
      "Wall time: 1min 37s\n"
     ]
    }
   ],
   "source": [
    "%%time\n",
    "businessReviews = pd.merge(review, restaurants,on='business_id',right_index=True,sort=False)[['business_id', 'cool', 'funny', 'review_id', 'stars_x', 'text', 'useful', 'user_id', 'categories', 'review_count', 'stars_y']]\n",
    "bus_rev_users = pd.merge(businessReviews, user,on='user_id',right_index=True,sort=False)[['business_id', 'cool_x', 'funny_x', 'review_id', 'stars_x', 'text', 'useful_x', 'user_id', 'categories', 'stars_y', 'average_stars', 'cool_y', 'elite', 'fans', 'friends', 'name', 'review_count_y', 'yelping_since']]"
   ]
  },
  {
   "cell_type": "code",
   "execution_count": 10,
   "metadata": {},
   "outputs": [
    {
     "name": "stdout",
     "output_type": "stream",
     "text": [
      "2927731\n",
      "2927731\n",
      "['business_id', 'cool', 'funny', 'review_id', 'stars_x', 'text', 'useful', 'user_id', 'categories', 'review_count', 'stars_y']\n",
      "['business_id', 'cool_x', 'funny_x', 'review_id', 'stars_x', 'text', 'useful_x', 'user_id', 'categories', 'stars_y', 'average_stars', 'cool_y', 'elite', 'fans', 'friends', 'name', 'review_count_y', 'yelping_since']\n"
     ]
    }
   ],
   "source": [
    "print(len(businessReviews))\n",
    "print(len(bus_rev_users))\n",
    "print(list(businessReviews))\n",
    "print(list(bus_rev_users))"
   ]
  },
  {
   "cell_type": "markdown",
   "metadata": {},
   "source": [
    "## Feature Extraction From Yelp Data"
   ]
  },
  {
   "cell_type": "code",
   "execution_count": 11,
   "metadata": {},
   "outputs": [],
   "source": [
    "def numCategoryReviews(businessReviews):\n",
    "    return businessReviews[['business_id','user_id']].groupby('user_id',as_index=False).count()\n",
    "\n",
    "def average_star_category_rating(businessReviews):\n",
    "    return businessReviews[['user_id','stars_x']].groupby('user_id',as_index=False).mean()\n",
    "\n",
    "def std_star_category_rating(businessReviews):\n",
    "    busRev = businessReviews[['user_id','stars_x']].groupby('user_id',as_index=False).agg(np.var)\n",
    "    busRev['stars_x'] = busRev['stars_x'].pow(1./2)\n",
    "    return busRev\n",
    "\n",
    "def funny_useful_cool(businessReviews):\n",
    "    return businessReviews[['user_id','funny','useful','cool']].groupby('user_id',as_index=False).sum()\n",
    "\n",
    "def months_yelping(businessReviews):\n",
    "    user_dates = businessReviews[['user_id','yelping_since']].drop_duplicates()\n",
    "    curr_date = datetime(2017,10,17)\n",
    "    uyelp_dates = [datetime.strptime(i, \"%Y-%m-%d\") for i in user_dates['yelping_since']]\n",
    "    months_yelping = [(curr_date.year - i.year) * 12 + curr_date.month - i.month for i in uyelp_dates]\n",
    "    user_dates['yelping_since'] = months_yelping\n",
    "    return user_dates\n",
    "\n",
    "def get_elite_users(df):\n",
    "    temp = []\n",
    "    for i in df['elite'].index.values:\n",
    "        if df['elite'][i]:\n",
    "            temp.append(i)\n",
    "    return temp, df.loc[temp]"
   ]
  },
  {
   "cell_type": "markdown",
   "metadata": {},
   "source": [
    "## Define the first feature model to be analyzed\n",
    "Features: Total Reviews by User, Number of Category Reviews, Average Rating in Category, Std Dev of Ratings in Category, Funny, Useful, and Cool Votes, Number of Months since joining Yelp."
   ]
  },
  {
   "cell_type": "code",
   "execution_count": 16,
   "metadata": {
    "collapsed": true
   },
   "outputs": [],
   "source": [
    "def feature1(df, df1):\n",
    "    tot_reviews = df1[['user_id','review_count_y']]\n",
    "    tot_reviews.columns = ['user_id','Total Reviews by User']\n",
    "    catRev = numCategoryReviews(df)\n",
    "    catRev.columns = ['user_id','Num Category Reviews']\n",
    "    averageCat = average_star_category_rating(df)\n",
    "    averageCat.columns = ['user_id','Average Rating in Category']\n",
    "    stdCat = std_star_category_rating(df)\n",
    "    stdCat.columns = ['user_id','Std Dev of Ratings in Category']\n",
    "    fuc = funny_useful_cool(df)\n",
    "    monthsYelp = months_yelping(df1)\n",
    "    monthsYelp.columns = ['user_id', 'Months Yelping']\n",
    "    is_elite = df1[['user_id','elite']]\n",
    "    features = tot_reviews.merge(catRev,on='user_id').merge(averageCat,on='user_id').merge(stdCat,on='user_id').merge(fuc,on='user_id').merge(monthsYelp,on='user_id').merge(is_elite,on='user_id')\n",
    "    features = features.drop_duplicates('user_id')\n",
    "    features.index = range(len(features))\n",
    "    elite_ind, elite_users = get_elite_users(features)\n",
    "    expertClassifier = [0]*len(features)\n",
    "    for i in elite_ind:\n",
    "        expertClassifier[i]=1\n",
    "    features = pd.concat([features, pd.DataFrame(expertClassifier,columns=['is_expert'])],axis=1)\n",
    "    return features.fillna(0)"
   ]
  },
  {
   "cell_type": "code",
   "execution_count": 13,
   "metadata": {},
   "outputs": [
    {
     "data": {
      "text/html": [
       "<div>\n",
       "<style>\n",
       "    .dataframe thead tr:only-child th {\n",
       "        text-align: right;\n",
       "    }\n",
       "\n",
       "    .dataframe thead th {\n",
       "        text-align: left;\n",
       "    }\n",
       "\n",
       "    .dataframe tbody tr th {\n",
       "        vertical-align: top;\n",
       "    }\n",
       "</style>\n",
       "<table border=\"1\" class=\"dataframe\">\n",
       "  <thead>\n",
       "    <tr style=\"text-align: right;\">\n",
       "      <th></th>\n",
       "      <th>user_id</th>\n",
       "      <th>business_id</th>\n",
       "    </tr>\n",
       "  </thead>\n",
       "  <tbody>\n",
       "    <tr>\n",
       "      <th>0</th>\n",
       "      <td>---1lKK3aKOuomHnwAkAow</td>\n",
       "      <td>53</td>\n",
       "    </tr>\n",
       "    <tr>\n",
       "      <th>1</th>\n",
       "      <td>---PLwSf5gKdIoVnyRHgBA</td>\n",
       "      <td>1</td>\n",
       "    </tr>\n",
       "    <tr>\n",
       "      <th>2</th>\n",
       "      <td>---cu1hq55BP9DWVXXKHZg</td>\n",
       "      <td>2</td>\n",
       "    </tr>\n",
       "    <tr>\n",
       "      <th>3</th>\n",
       "      <td>---udAKDsn0yQXmzbWQNSw</td>\n",
       "      <td>1</td>\n",
       "    </tr>\n",
       "    <tr>\n",
       "      <th>4</th>\n",
       "      <td>--0RtXvcOIE4XbErYca6Rw</td>\n",
       "      <td>1</td>\n",
       "    </tr>\n",
       "    <tr>\n",
       "      <th>5</th>\n",
       "      <td>--0sXNBv6IizZXuV-nl0Aw</td>\n",
       "      <td>1</td>\n",
       "    </tr>\n",
       "    <tr>\n",
       "      <th>6</th>\n",
       "      <td>--1av6NdbEbMiuBr7Aup9A</td>\n",
       "      <td>1</td>\n",
       "    </tr>\n",
       "    <tr>\n",
       "      <th>7</th>\n",
       "      <td>--1mPJZdSY9KluaBYAGboQ</td>\n",
       "      <td>1</td>\n",
       "    </tr>\n",
       "    <tr>\n",
       "      <th>8</th>\n",
       "      <td>--26jc8nCJBy4-7r3ZtmiQ</td>\n",
       "      <td>1</td>\n",
       "    </tr>\n",
       "    <tr>\n",
       "      <th>9</th>\n",
       "      <td>--2HUmLkcNHZp0xw6AMBPg</td>\n",
       "      <td>22</td>\n",
       "    </tr>\n",
       "    <tr>\n",
       "      <th>10</th>\n",
       "      <td>--2bpE5vyR-2hAP7sZZ4lA</td>\n",
       "      <td>1</td>\n",
       "    </tr>\n",
       "    <tr>\n",
       "      <th>11</th>\n",
       "      <td>--2vR0DIsmQ6WfcSzKWigw</td>\n",
       "      <td>5</td>\n",
       "    </tr>\n",
       "    <tr>\n",
       "      <th>12</th>\n",
       "      <td>--3WaS23LcIXtxyFULJHTA</td>\n",
       "      <td>10</td>\n",
       "    </tr>\n",
       "    <tr>\n",
       "      <th>13</th>\n",
       "      <td>--3l8wysfp49Z2TLnyT0vg</td>\n",
       "      <td>1</td>\n",
       "    </tr>\n",
       "    <tr>\n",
       "      <th>14</th>\n",
       "      <td>--3oMd6gjXpAzhjLBrsVCQ</td>\n",
       "      <td>2</td>\n",
       "    </tr>\n",
       "    <tr>\n",
       "      <th>15</th>\n",
       "      <td>--41c9Tl0C9OGewIR7Qyzg</td>\n",
       "      <td>3</td>\n",
       "    </tr>\n",
       "    <tr>\n",
       "      <th>16</th>\n",
       "      <td>--44NNdtngXMzsxyN7ju6Q</td>\n",
       "      <td>1</td>\n",
       "    </tr>\n",
       "    <tr>\n",
       "      <th>17</th>\n",
       "      <td>--4q8EyqThydQm-eKZpS-A</td>\n",
       "      <td>5</td>\n",
       "    </tr>\n",
       "    <tr>\n",
       "      <th>18</th>\n",
       "      <td>--4rAAfZnEIAKJE80aIiYg</td>\n",
       "      <td>12</td>\n",
       "    </tr>\n",
       "    <tr>\n",
       "      <th>19</th>\n",
       "      <td>--56mD0sm1eOogphi2FFLw</td>\n",
       "      <td>2</td>\n",
       "    </tr>\n",
       "    <tr>\n",
       "      <th>20</th>\n",
       "      <td>--56y1InAvNoQOD6YYrhVQ</td>\n",
       "      <td>1</td>\n",
       "    </tr>\n",
       "    <tr>\n",
       "      <th>21</th>\n",
       "      <td>--5XzJ2pRsVVJiJUfzZlgQ</td>\n",
       "      <td>2</td>\n",
       "    </tr>\n",
       "    <tr>\n",
       "      <th>22</th>\n",
       "      <td>--5ox2OhSAADcB_uAEOYFw</td>\n",
       "      <td>1</td>\n",
       "    </tr>\n",
       "    <tr>\n",
       "      <th>23</th>\n",
       "      <td>--66hzx80CeVZcrm4AKJtQ</td>\n",
       "      <td>2</td>\n",
       "    </tr>\n",
       "    <tr>\n",
       "      <th>24</th>\n",
       "      <td>--6Ke7_lBBM6XAramtPoWw</td>\n",
       "      <td>2</td>\n",
       "    </tr>\n",
       "    <tr>\n",
       "      <th>25</th>\n",
       "      <td>--6_wnx2sD1rqOQAQH96wg</td>\n",
       "      <td>1</td>\n",
       "    </tr>\n",
       "    <tr>\n",
       "      <th>26</th>\n",
       "      <td>--6kLBBsm0GPM9vIB2YBDw</td>\n",
       "      <td>1</td>\n",
       "    </tr>\n",
       "    <tr>\n",
       "      <th>27</th>\n",
       "      <td>--6u02ZqjZRnwtX3t9bZtQ</td>\n",
       "      <td>1</td>\n",
       "    </tr>\n",
       "    <tr>\n",
       "      <th>28</th>\n",
       "      <td>--7NmCl2zZVnGdzVMd_3HQ</td>\n",
       "      <td>1</td>\n",
       "    </tr>\n",
       "    <tr>\n",
       "      <th>29</th>\n",
       "      <td>--7gZYIAVGCaPT4k0qbbrw</td>\n",
       "      <td>1</td>\n",
       "    </tr>\n",
       "    <tr>\n",
       "      <th>...</th>\n",
       "      <td>...</td>\n",
       "      <td>...</td>\n",
       "    </tr>\n",
       "    <tr>\n",
       "      <th>823287</th>\n",
       "      <td>zzoNLUFml9D-FFSkDoGg2g</td>\n",
       "      <td>1</td>\n",
       "    </tr>\n",
       "    <tr>\n",
       "      <th>823288</th>\n",
       "      <td>zzpGgInpynAC9do60jTAsg</td>\n",
       "      <td>1</td>\n",
       "    </tr>\n",
       "    <tr>\n",
       "      <th>823289</th>\n",
       "      <td>zzpbqXAEAsoSToIDerh15g</td>\n",
       "      <td>1</td>\n",
       "    </tr>\n",
       "    <tr>\n",
       "      <th>823290</th>\n",
       "      <td>zzpglIm6I9kYwFjVkxwshw</td>\n",
       "      <td>1</td>\n",
       "    </tr>\n",
       "    <tr>\n",
       "      <th>823291</th>\n",
       "      <td>zzpxVxrXKjv_gjKWUe9PEA</td>\n",
       "      <td>1</td>\n",
       "    </tr>\n",
       "    <tr>\n",
       "      <th>823292</th>\n",
       "      <td>zzqHCOI0T71WcOWXOcCTJA</td>\n",
       "      <td>1</td>\n",
       "    </tr>\n",
       "    <tr>\n",
       "      <th>823293</th>\n",
       "      <td>zzqKFafizTSmzY6v2rzhcg</td>\n",
       "      <td>1</td>\n",
       "    </tr>\n",
       "    <tr>\n",
       "      <th>823294</th>\n",
       "      <td>zzr6MQqGgjkAEu6yTDK_TQ</td>\n",
       "      <td>2</td>\n",
       "    </tr>\n",
       "    <tr>\n",
       "      <th>823295</th>\n",
       "      <td>zzrDwXf7UcMWYBFnkKKPXg</td>\n",
       "      <td>1</td>\n",
       "    </tr>\n",
       "    <tr>\n",
       "      <th>823296</th>\n",
       "      <td>zzrZ8gFESj5pe-SFZ-h0lw</td>\n",
       "      <td>2</td>\n",
       "    </tr>\n",
       "    <tr>\n",
       "      <th>823297</th>\n",
       "      <td>zzrwygYbYs-NgFEe-YJwhg</td>\n",
       "      <td>1</td>\n",
       "    </tr>\n",
       "    <tr>\n",
       "      <th>823298</th>\n",
       "      <td>zzsN-eybXFjD2U_qQ2YHBg</td>\n",
       "      <td>1</td>\n",
       "    </tr>\n",
       "    <tr>\n",
       "      <th>823299</th>\n",
       "      <td>zzsPf8xNW11nd0B6MZqfRw</td>\n",
       "      <td>1</td>\n",
       "    </tr>\n",
       "    <tr>\n",
       "      <th>823300</th>\n",
       "      <td>zzsdiF8cexvBCdrdxVY8lw</td>\n",
       "      <td>1</td>\n",
       "    </tr>\n",
       "    <tr>\n",
       "      <th>823301</th>\n",
       "      <td>zztKtx3aOH1IAD2lzjoJcQ</td>\n",
       "      <td>1</td>\n",
       "    </tr>\n",
       "    <tr>\n",
       "      <th>823302</th>\n",
       "      <td>zzudnwbJ_W0wUl21WO-DNg</td>\n",
       "      <td>3</td>\n",
       "    </tr>\n",
       "    <tr>\n",
       "      <th>823303</th>\n",
       "      <td>zzvV3l9IqTRX7Db8nxThbA</td>\n",
       "      <td>1</td>\n",
       "    </tr>\n",
       "    <tr>\n",
       "      <th>823304</th>\n",
       "      <td>zzvm_VD3HjU6RMx8zq7g1g</td>\n",
       "      <td>1</td>\n",
       "    </tr>\n",
       "    <tr>\n",
       "      <th>823305</th>\n",
       "      <td>zzvqVZTYs5VKxPc-IkRQ4A</td>\n",
       "      <td>1</td>\n",
       "    </tr>\n",
       "    <tr>\n",
       "      <th>823306</th>\n",
       "      <td>zzw0Z6-_VDp9ShIRSKIsQw</td>\n",
       "      <td>5</td>\n",
       "    </tr>\n",
       "    <tr>\n",
       "      <th>823307</th>\n",
       "      <td>zzwP9jh8_W0RhemlxCv_1g</td>\n",
       "      <td>1</td>\n",
       "    </tr>\n",
       "    <tr>\n",
       "      <th>823308</th>\n",
       "      <td>zzwTJAgONYCTeJia4te47g</td>\n",
       "      <td>3</td>\n",
       "    </tr>\n",
       "    <tr>\n",
       "      <th>823309</th>\n",
       "      <td>zzx7k7JqCQNhhqL4VJxL0A</td>\n",
       "      <td>1</td>\n",
       "    </tr>\n",
       "    <tr>\n",
       "      <th>823310</th>\n",
       "      <td>zzxZoMmjbUjXcWZzrE3PIw</td>\n",
       "      <td>3</td>\n",
       "    </tr>\n",
       "    <tr>\n",
       "      <th>823311</th>\n",
       "      <td>zzyLd6p8pcNdkd4Hrv08bw</td>\n",
       "      <td>1</td>\n",
       "    </tr>\n",
       "    <tr>\n",
       "      <th>823312</th>\n",
       "      <td>zzyMMeUZzKAy7KQhM7lU2w</td>\n",
       "      <td>2</td>\n",
       "    </tr>\n",
       "    <tr>\n",
       "      <th>823313</th>\n",
       "      <td>zzyzP--p98zZtx359NvgGA</td>\n",
       "      <td>1</td>\n",
       "    </tr>\n",
       "    <tr>\n",
       "      <th>823314</th>\n",
       "      <td>zzzAgDDWe4PTnJuwhi3XQQ</td>\n",
       "      <td>2</td>\n",
       "    </tr>\n",
       "    <tr>\n",
       "      <th>823315</th>\n",
       "      <td>zzzTkKLFo9CaeZnfO4TvzA</td>\n",
       "      <td>1</td>\n",
       "    </tr>\n",
       "    <tr>\n",
       "      <th>823316</th>\n",
       "      <td>zzzmshdEWLFCApxETl1TGQ</td>\n",
       "      <td>1</td>\n",
       "    </tr>\n",
       "  </tbody>\n",
       "</table>\n",
       "<p>823317 rows × 2 columns</p>\n",
       "</div>"
      ],
      "text/plain": [
       "                       user_id  business_id\n",
       "0       ---1lKK3aKOuomHnwAkAow           53\n",
       "1       ---PLwSf5gKdIoVnyRHgBA            1\n",
       "2       ---cu1hq55BP9DWVXXKHZg            2\n",
       "3       ---udAKDsn0yQXmzbWQNSw            1\n",
       "4       --0RtXvcOIE4XbErYca6Rw            1\n",
       "5       --0sXNBv6IizZXuV-nl0Aw            1\n",
       "6       --1av6NdbEbMiuBr7Aup9A            1\n",
       "7       --1mPJZdSY9KluaBYAGboQ            1\n",
       "8       --26jc8nCJBy4-7r3ZtmiQ            1\n",
       "9       --2HUmLkcNHZp0xw6AMBPg           22\n",
       "10      --2bpE5vyR-2hAP7sZZ4lA            1\n",
       "11      --2vR0DIsmQ6WfcSzKWigw            5\n",
       "12      --3WaS23LcIXtxyFULJHTA           10\n",
       "13      --3l8wysfp49Z2TLnyT0vg            1\n",
       "14      --3oMd6gjXpAzhjLBrsVCQ            2\n",
       "15      --41c9Tl0C9OGewIR7Qyzg            3\n",
       "16      --44NNdtngXMzsxyN7ju6Q            1\n",
       "17      --4q8EyqThydQm-eKZpS-A            5\n",
       "18      --4rAAfZnEIAKJE80aIiYg           12\n",
       "19      --56mD0sm1eOogphi2FFLw            2\n",
       "20      --56y1InAvNoQOD6YYrhVQ            1\n",
       "21      --5XzJ2pRsVVJiJUfzZlgQ            2\n",
       "22      --5ox2OhSAADcB_uAEOYFw            1\n",
       "23      --66hzx80CeVZcrm4AKJtQ            2\n",
       "24      --6Ke7_lBBM6XAramtPoWw            2\n",
       "25      --6_wnx2sD1rqOQAQH96wg            1\n",
       "26      --6kLBBsm0GPM9vIB2YBDw            1\n",
       "27      --6u02ZqjZRnwtX3t9bZtQ            1\n",
       "28      --7NmCl2zZVnGdzVMd_3HQ            1\n",
       "29      --7gZYIAVGCaPT4k0qbbrw            1\n",
       "...                        ...          ...\n",
       "823287  zzoNLUFml9D-FFSkDoGg2g            1\n",
       "823288  zzpGgInpynAC9do60jTAsg            1\n",
       "823289  zzpbqXAEAsoSToIDerh15g            1\n",
       "823290  zzpglIm6I9kYwFjVkxwshw            1\n",
       "823291  zzpxVxrXKjv_gjKWUe9PEA            1\n",
       "823292  zzqHCOI0T71WcOWXOcCTJA            1\n",
       "823293  zzqKFafizTSmzY6v2rzhcg            1\n",
       "823294  zzr6MQqGgjkAEu6yTDK_TQ            2\n",
       "823295  zzrDwXf7UcMWYBFnkKKPXg            1\n",
       "823296  zzrZ8gFESj5pe-SFZ-h0lw            2\n",
       "823297  zzrwygYbYs-NgFEe-YJwhg            1\n",
       "823298  zzsN-eybXFjD2U_qQ2YHBg            1\n",
       "823299  zzsPf8xNW11nd0B6MZqfRw            1\n",
       "823300  zzsdiF8cexvBCdrdxVY8lw            1\n",
       "823301  zztKtx3aOH1IAD2lzjoJcQ            1\n",
       "823302  zzudnwbJ_W0wUl21WO-DNg            3\n",
       "823303  zzvV3l9IqTRX7Db8nxThbA            1\n",
       "823304  zzvm_VD3HjU6RMx8zq7g1g            1\n",
       "823305  zzvqVZTYs5VKxPc-IkRQ4A            1\n",
       "823306  zzw0Z6-_VDp9ShIRSKIsQw            5\n",
       "823307  zzwP9jh8_W0RhemlxCv_1g            1\n",
       "823308  zzwTJAgONYCTeJia4te47g            3\n",
       "823309  zzx7k7JqCQNhhqL4VJxL0A            1\n",
       "823310  zzxZoMmjbUjXcWZzrE3PIw            3\n",
       "823311  zzyLd6p8pcNdkd4Hrv08bw            1\n",
       "823312  zzyMMeUZzKAy7KQhM7lU2w            2\n",
       "823313  zzyzP--p98zZtx359NvgGA            1\n",
       "823314  zzzAgDDWe4PTnJuwhi3XQQ            2\n",
       "823315  zzzTkKLFo9CaeZnfO4TvzA            1\n",
       "823316  zzzmshdEWLFCApxETl1TGQ            1\n",
       "\n",
       "[823317 rows x 2 columns]"
      ]
     },
     "execution_count": 13,
     "metadata": {},
     "output_type": "execute_result"
    }
   ],
   "source": [
    "businessReviews[['business_id','user_id']].groupby('user_id',as_index=False).count()"
   ]
  },
  {
   "cell_type": "code",
   "execution_count": null,
   "metadata": {},
   "outputs": [],
   "source": [
    "%%time\n",
    "feature_set_1 = feature1(businessReviews, bus_rev_users)"
   ]
  },
  {
   "cell_type": "code",
   "execution_count": null,
   "metadata": {},
   "outputs": [],
   "source": [
    "print(len(feature_set_1))\n",
    "feature_set_1.head(5)"
   ]
  },
  {
   "cell_type": "markdown",
   "metadata": {},
   "source": [
    "## Classifier Setups (Sklearn Library)*"
   ]
  },
  {
   "cell_type": "code",
   "execution_count": null,
   "metadata": {
    "collapsed": true
   },
   "outputs": [],
   "source": [
    "from sklearn.model_selection import train_test_split\n",
    "from sklearn.ensemble import RandomForestClassifier\n",
    "from sklearn.metrics import accuracy_score\n",
    "from sklearn.metrics import confusion_matrix\n",
    "from sklearn import tree"
   ]
  },
  {
   "cell_type": "code",
   "execution_count": null,
   "metadata": {
    "collapsed": true
   },
   "outputs": [],
   "source": [
    "'''Runs the model specified by the clf (classifier), and features.\n",
    "Features is assumed to have an 'is_expert' column which gives the classifications'''\n",
    "def run_model(clf, features):\n",
    "    train, test = train_test_split(X)\n",
    "    train_classifier = train['is_expert'].values\n",
    "    test_classifier = test['is_expert'].values\n",
    "    train = train.drop('is_expert',axis=1)\n",
    "    test = test.drop('is_expert', axis=1)\n",
    "    clf.fit(train, train_classifier)\n",
    "    rf_pred = clf.predict(test)\n",
    "    model_perf= {'Model_Score' : clf.score(test, test_classifier),\n",
    "                'Predictions' : rf_pred,\n",
    "                'Prediction Probabilities' : clf.predict_proba(test),\n",
    "                'Total_Tested' : len(rf_pred),\n",
    "                'Num_Experts_Predicted' : sum(rf_pred),\n",
    "                'Num_Experts_Actual' : sum(test_classifier),\n",
    "                'Num_Experts_Training' : sum(train_classifier)} \n",
    "    return model_perf\n",
    "\n",
    "'''Runs the model n times, and prints out a dictionary with the statistics'''\n",
    "def bootstrap_model(clf, features, n):\n",
    "    models = []\n",
    "    for i in range(1,n):\n",
    "        models.append(run_model(clf, features))\n",
    "    return models\n",
    "\n",
    "'''Gets statistics from the bootstrap list of dictionaries'''\n",
    "def boot_statistics(models):\n",
    "    stats = []\n",
    "    expert_pred_percentage = [i['Num_Experts_Predicted']/i['Num_Experts_Actual'] for i in RF_bootstrap]\n",
    "    stats = expert_pred_percentage\n",
    "    return stats"
   ]
  },
  {
   "cell_type": "markdown",
   "metadata": {},
   "source": [
    " #### Drop unnessary columns from the features table (call it X)."
   ]
  },
  {
   "cell_type": "code",
   "execution_count": null,
   "metadata": {},
   "outputs": [],
   "source": [
    "X = feature_set_1.drop('user_id',axis=1).drop('elite',axis=1)"
   ]
  },
  {
   "cell_type": "markdown",
   "metadata": {},
   "source": [
    "## Run a random forest classifier"
   ]
  },
  {
   "cell_type": "code",
   "execution_count": null,
   "metadata": {},
   "outputs": [],
   "source": [
    "clf_RF = RandomForestClassifier(max_depth=3)\n",
    "run_model(clf_RF,X);"
   ]
  },
  {
   "cell_type": "code",
   "execution_count": null,
   "metadata": {
    "collapsed": true
   },
   "outputs": [],
   "source": [
    "RF_bootstrap = bootstrap_model(clf_RF, X, 10)"
   ]
  },
  {
   "cell_type": "markdown",
   "metadata": {},
   "source": [
    "## Run a gaussian naive bayes classifier"
   ]
  },
  {
   "cell_type": "code",
   "execution_count": null,
   "metadata": {},
   "outputs": [],
   "source": [
    "from sklearn.naive_bayes import GaussianNB\n",
    "clf_NB = GaussianNB()\n",
    "run_model(clf_NB,X);"
   ]
  },
  {
   "cell_type": "markdown",
   "metadata": {},
   "source": [
    "## Run a decision tree classifier"
   ]
  },
  {
   "cell_type": "code",
   "execution_count": null,
   "metadata": {},
   "outputs": [],
   "source": [
    "clf_DT = tree.DecisionTreeClassifier()\n",
    "run_model(clf_DT, X)"
   ]
  },
  {
   "cell_type": "code",
   "execution_count": null,
   "metadata": {},
   "outputs": [],
   "source": []
  }
 ],
 "metadata": {
  "kernelspec": {
   "display_name": "Python 3",
   "language": "python",
   "name": "python3"
  },
  "language_info": {
   "codemirror_mode": {
    "name": "ipython",
    "version": 3
   },
   "file_extension": ".py",
   "mimetype": "text/x-python",
   "name": "python",
   "nbconvert_exporter": "python",
   "pygments_lexer": "ipython3",
   "version": "3.6.2"
  }
 },
 "nbformat": 4,
 "nbformat_minor": 2
}
