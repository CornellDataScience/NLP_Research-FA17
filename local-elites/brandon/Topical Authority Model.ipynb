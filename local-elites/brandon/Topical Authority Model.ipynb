{
 "cells": [
  {
   "cell_type": "markdown",
   "metadata": {},
   "source": [
    "# Topical Expert Model"
   ]
  },
  {
   "cell_type": "code",
   "execution_count": 254,
   "metadata": {},
   "outputs": [
    {
     "name": "stdout",
     "output_type": "stream",
     "text": [
      "/Users/Brandon/Yelp Dataset/Yelp-FA17/local-elites/brandon\n",
      "['.DS_Store', 'business.json', 'checkin.json', 'photos.json', 'review.json', 'review5000.json', 'tip.json', 'user.json', 'user5000.json']\n"
     ]
    }
   ],
   "source": [
    "import pandas as pd\n",
    "import numpy as np\n",
    "import nltk\n",
    "from nltk.corpus import stopwords\n",
    "import operator\n",
    "import os\n",
    "print(os.getcwd())\n",
    "print(os.listdir('/Users/Brandon/Yelp Dataset/dataset'))\n",
    "import json\n",
    "import glob\n",
    "from datetime import datetime\n",
    "from pandas import HDFStore,DataFrame\n",
    "import operator\n",
    "\n",
    "import matplotlib.pyplot as plt; plt.rcdefaults()\n",
    "import matplotlib.pyplot as plt"
   ]
  },
  {
   "cell_type": "code",
   "execution_count": 2,
   "metadata": {
    "collapsed": true
   },
   "outputs": [],
   "source": [
    "#Copied from Kenta\n",
    "def load_json_to_df(datapass):\n",
    "    '''\n",
    "    Load the json file and parse the file to pandas dataframe format\n",
    "    \n",
    "    Input:\n",
    "        datapass(str) : directory to the json file\n",
    "    Output:\n",
    "        df(dataframe) : pandas dataframe object\n",
    "    '''\n",
    "    \n",
    "    data = [] \n",
    "    with open(datapass) as data_file: \n",
    "        for f in data_file:\n",
    "            data.append(json.loads(f))\n",
    "    df = pd.DataFrame(data)\n",
    "    return df"
   ]
  },
  {
   "cell_type": "markdown",
   "metadata": {},
   "source": [
    "LOAD THE DATA"
   ]
  },
  {
   "cell_type": "code",
   "execution_count": 3,
   "metadata": {},
   "outputs": [
    {
     "name": "stdout",
     "output_type": "stream",
     "text": [
      "CPU times: user 1min 3s, sys: 23.3 s, total: 1min 26s\n",
      "Wall time: 1min 38s\n"
     ]
    }
   ],
   "source": [
    "%%time\n",
    "import_file = \"/Users/Brandon/Yelp Dataset/dataset/review.json\"\n",
    "review = load_json_to_df(import_file)"
   ]
  },
  {
   "cell_type": "code",
   "execution_count": 4,
   "metadata": {},
   "outputs": [
    {
     "name": "stdout",
     "output_type": "stream",
     "text": [
      "CPU times: user 5.25 s, sys: 453 ms, total: 5.7 s\n",
      "Wall time: 6.06 s\n"
     ]
    }
   ],
   "source": [
    "%%time\n",
    "import_file = \"/Users/Brandon/Yelp Dataset/dataset/business.json\"\n",
    "business = load_json_to_df(import_file)"
   ]
  },
  {
   "cell_type": "code",
   "execution_count": 5,
   "metadata": {},
   "outputs": [
    {
     "name": "stdout",
     "output_type": "stream",
     "text": [
      "CPU times: user 53.3 s, sys: 17.5 s, total: 1min 10s\n",
      "Wall time: 1min 21s\n"
     ]
    }
   ],
   "source": [
    "%%time\n",
    "import_file = \"/Users/Brandon/Yelp Dataset/dataset/user.json\"\n",
    "user = load_json_to_df(import_file)"
   ]
  },
  {
   "cell_type": "markdown",
   "metadata": {},
   "source": [
    "Sort by category"
   ]
  },
  {
   "cell_type": "code",
   "execution_count": 24,
   "metadata": {},
   "outputs": [],
   "source": [
    "def categoryFind(df, cat):\n",
    "    return [cat in i for i in df['categories']]\n",
    "\n",
    "def category_counts(df):\n",
    "    all_cats = []\n",
    "    for i in df['categories']:\n",
    "        for j in i:\n",
    "            all_cats.append(j)\n",
    "    categories = set(all_cats)\n",
    "    category_counts = {}\n",
    "    for cat in categories:\n",
    "        category_counts[cat] = all_cats.count(cat)\n",
    "    return len(categories), category_counts\n",
    "\n",
    "def top_categories(counts, n):\n",
    "    top_categories = sorted(counts.keys(), key=(lambda k: counts[k]),reverse=True)[:n]\n",
    "    return top_categories"
   ]
  },
  {
   "cell_type": "code",
   "execution_count": 83,
   "metadata": {},
   "outputs": [
    {
     "data": {
      "text/plain": [
       "['Restaurants',\n",
       " 'Shopping',\n",
       " 'Food',\n",
       " 'Beauty & Spas',\n",
       " 'Home Services',\n",
       " 'Health & Medical',\n",
       " 'Nightlife',\n",
       " 'Bars',\n",
       " 'Automotive',\n",
       " 'Local Services',\n",
       " 'Event Planning & Services',\n",
       " 'Active Life',\n",
       " 'Fashion',\n",
       " 'Sandwiches',\n",
       " 'Fast Food']"
      ]
     },
     "metadata": {},
     "output_type": "display_data"
    }
   ],
   "source": [
    "num_cats, cat_counts = category_counts(business)\n",
    "top_cats = top_categories(cat_counts, 15)\n",
    "display(top_cats)"
   ]
  },
  {
   "cell_type": "code",
   "execution_count": 9,
   "metadata": {},
   "outputs": [
    {
     "name": "stdout",
     "output_type": "stream",
     "text": [
      "CPU times: user 38 s, sys: 28.2 s, total: 1min 6s\n",
      "Wall time: 1min 37s\n"
     ]
    }
   ],
   "source": [
    "%%time\n",
    "businessReviews = pd.merge(review, restaurants,on='business_id',right_index=True,sort=False)[['business_id', 'cool', 'funny', 'review_id', 'stars_x', 'text', 'useful', 'user_id', 'categories', 'review_count', 'stars_y']]\n",
    "bus_rev_users = pd.merge(businessReviews, user,on='user_id',right_index=True,sort=False)[['business_id', 'cool_x', 'funny_x', 'review_id', 'stars_x', 'text', 'useful_x', 'user_id', 'categories', 'stars_y', 'average_stars', 'cool_y', 'elite', 'fans', 'friends', 'name', 'review_count_y', 'yelping_since']]"
   ]
  },
  {
   "cell_type": "code",
   "execution_count": 82,
   "metadata": {},
   "outputs": [
    {
     "data": {
      "text/plain": [
       "2927731"
      ]
     },
     "metadata": {},
     "output_type": "display_data"
    },
    {
     "data": {
      "text/plain": [
       "2927731"
      ]
     },
     "metadata": {},
     "output_type": "display_data"
    },
    {
     "data": {
      "text/plain": [
       "['business_id',\n",
       " 'cool',\n",
       " 'funny',\n",
       " 'review_id',\n",
       " 'stars_x',\n",
       " 'text',\n",
       " 'useful',\n",
       " 'user_id',\n",
       " 'categories',\n",
       " 'review_count',\n",
       " 'stars_y']"
      ]
     },
     "metadata": {},
     "output_type": "display_data"
    },
    {
     "data": {
      "text/plain": [
       "['business_id',\n",
       " 'cool_x',\n",
       " 'funny_x',\n",
       " 'review_id',\n",
       " 'stars_x',\n",
       " 'text',\n",
       " 'useful_x',\n",
       " 'user_id',\n",
       " 'categories',\n",
       " 'stars_y',\n",
       " 'average_stars',\n",
       " 'cool_y',\n",
       " 'elite',\n",
       " 'fans',\n",
       " 'friends',\n",
       " 'name',\n",
       " 'review_count_y',\n",
       " 'yelping_since']"
      ]
     },
     "metadata": {},
     "output_type": "display_data"
    }
   ],
   "source": [
    "display(len(businessReviews))\n",
    "display(len(bus_rev_users))\n",
    "display(list(businessReviews))\n",
    "display(list(bus_rev_users))"
   ]
  },
  {
   "cell_type": "markdown",
   "metadata": {},
   "source": [
    "## Feature Extraction From Yelp Data"
   ]
  },
  {
   "cell_type": "code",
   "execution_count": 129,
   "metadata": {},
   "outputs": [],
   "source": [
    "def category_choose(df, categories):\n",
    "    cats = np.array([True] * len(df['categories']))\n",
    "    for cat in categories:\n",
    "        cats= cats & np.array(categoryFind(df,cat))\n",
    "    return df[cats]\n",
    "\n",
    "def numCategoryReviews(businessReviews):\n",
    "    return businessReviews[['business_id','user_id']].groupby('user_id',as_index=False).count()\n",
    "\n",
    "def average_star_category_rating(businessReviews):\n",
    "    return businessReviews[['user_id','stars_x']].groupby('user_id',as_index=False).mean()\n",
    "\n",
    "def std_star_category_rating(businessReviews):\n",
    "    busRev = businessReviews[['user_id','stars_x']].groupby('user_id',as_index=False).agg(np.var)\n",
    "    busRev['stars_x'] = busRev['stars_x'].pow(1./2)\n",
    "    return busRev\n",
    "\n",
    "def funny_useful_cool(businessReviews):\n",
    "    return businessReviews[['user_id','funny','useful','cool']].groupby('user_id',as_index=False).sum()\n",
    "\n",
    "def months_yelping(businessReviews):\n",
    "    user_dates = businessReviews[['user_id','yelping_since']].drop_duplicates()\n",
    "    curr_date = datetime(2017,10,17)\n",
    "    uyelp_dates = [datetime.strptime(i, \"%Y-%m-%d\") for i in user_dates['yelping_since']]\n",
    "    months_yelping = [(curr_date.year - i.year) * 12 + curr_date.month - i.month for i in uyelp_dates]\n",
    "    user_dates['yelping_since'] = months_yelping\n",
    "    return user_dates\n",
    "\n",
    "def get_elite_users(df):\n",
    "    temp = []\n",
    "    for i in df['elite'].index.values:\n",
    "        if df['elite'][i]:\n",
    "            temp.append(i)\n",
    "    return temp, df.loc[temp]"
   ]
  },
  {
   "cell_type": "markdown",
   "metadata": {},
   "source": [
    "## Define the first feature model to be analyzed\n",
    "Features: Total Reviews by User, Number of Category Reviews, Average Rating in Category, Std Dev of Ratings in Category, Funny, Useful, and Cool Votes, Number of Months since joining Yelp."
   ]
  },
  {
   "cell_type": "code",
   "execution_count": 134,
   "metadata": {
    "collapsed": true
   },
   "outputs": [],
   "source": [
    "def feature1(df, df1, categories):\n",
    "    if( not categories == \"All\"):\n",
    "        df = category_choose(df, categories)\n",
    "        df1 = category_choose(df1, categories)\n",
    "    tot_reviews = df1[['user_id','review_count_y']]\n",
    "    tot_reviews.columns = ['user_id','Total Reviews by User']\n",
    "    catRev = numCategoryReviews(df)\n",
    "    catRev.columns = ['user_id','Num Category Reviews']\n",
    "    averageCat = average_star_category_rating(df)\n",
    "    averageCat.columns = ['user_id','Average Rating in Category']\n",
    "    stdCat = std_star_category_rating(df)\n",
    "    stdCat.columns = ['user_id','Std Dev of Ratings in Category']\n",
    "    fuc = funny_useful_cool(df)\n",
    "    monthsYelp = months_yelping(df1)\n",
    "    monthsYelp.columns = ['user_id', 'Months Yelping']\n",
    "    is_elite = df1[['user_id','elite']]\n",
    "    features = tot_reviews.merge(catRev,on='user_id').merge(averageCat,on='user_id').merge(stdCat,on='user_id').merge(fuc,on='user_id').merge(monthsYelp,on='user_id').merge(is_elite,on='user_id')\n",
    "    features = features.drop_duplicates('user_id')\n",
    "    features.index = range(len(features))\n",
    "    elite_ind, elite_users = get_elite_users(features)\n",
    "    expertClassifier = [0]*len(features)\n",
    "    for i in elite_ind:\n",
    "        expertClassifier[i]=1\n",
    "    features = pd.concat([features, pd.DataFrame(expertClassifier,columns=['is_expert'])],axis=1)\n",
    "    return features.fillna(0)"
   ]
  },
  {
   "cell_type": "code",
   "execution_count": 184,
   "metadata": {},
   "outputs": [
    {
     "name": "stdout",
     "output_type": "stream",
     "text": [
      "CPU times: user 12.4 s, sys: 7.7 s, total: 20.1 s\n",
      "Wall time: 29.4 s\n"
     ]
    }
   ],
   "source": [
    "%%time\n",
    "# Lets do places with categories Chinese Restaurant\n",
    "categories = ['Restaurants','Chinese']\n",
    "feature_set_1 = feature1(businessReviews, bus_rev_users, categories)"
   ]
  },
  {
   "cell_type": "code",
   "execution_count": 185,
   "metadata": {
    "scrolled": false
   },
   "outputs": [
    {
     "data": {
      "text/plain": [
       "109685"
      ]
     },
     "metadata": {},
     "output_type": "display_data"
    },
    {
     "data": {
      "text/html": [
       "<div>\n",
       "<style>\n",
       "    .dataframe thead tr:only-child th {\n",
       "        text-align: right;\n",
       "    }\n",
       "\n",
       "    .dataframe thead th {\n",
       "        text-align: left;\n",
       "    }\n",
       "\n",
       "    .dataframe tbody tr th {\n",
       "        vertical-align: top;\n",
       "    }\n",
       "</style>\n",
       "<table border=\"1\" class=\"dataframe\">\n",
       "  <thead>\n",
       "    <tr style=\"text-align: right;\">\n",
       "      <th></th>\n",
       "      <th>user_id</th>\n",
       "      <th>Total Reviews by User</th>\n",
       "      <th>Num Category Reviews</th>\n",
       "      <th>Average Rating in Category</th>\n",
       "      <th>Std Dev of Ratings in Category</th>\n",
       "      <th>funny</th>\n",
       "      <th>useful</th>\n",
       "      <th>cool</th>\n",
       "      <th>Months Yelping</th>\n",
       "      <th>elite</th>\n",
       "      <th>is_expert</th>\n",
       "    </tr>\n",
       "  </thead>\n",
       "  <tbody>\n",
       "    <tr>\n",
       "      <th>0</th>\n",
       "      <td>kzyLOqiJvyw_FWFTw2rjiQ</td>\n",
       "      <td>2</td>\n",
       "      <td>1</td>\n",
       "      <td>1.0</td>\n",
       "      <td>0.000000</td>\n",
       "      <td>0</td>\n",
       "      <td>0</td>\n",
       "      <td>0</td>\n",
       "      <td>16</td>\n",
       "      <td>[]</td>\n",
       "      <td>0</td>\n",
       "    </tr>\n",
       "    <tr>\n",
       "      <th>1</th>\n",
       "      <td>WZXp9-V2dqRRJqhGgRqueA</td>\n",
       "      <td>327</td>\n",
       "      <td>4</td>\n",
       "      <td>2.5</td>\n",
       "      <td>1.000000</td>\n",
       "      <td>4</td>\n",
       "      <td>6</td>\n",
       "      <td>4</td>\n",
       "      <td>61</td>\n",
       "      <td>[2016, 2015]</td>\n",
       "      <td>1</td>\n",
       "    </tr>\n",
       "    <tr>\n",
       "      <th>2</th>\n",
       "      <td>XylT12exfdLiI_3uDLVIpw</td>\n",
       "      <td>344</td>\n",
       "      <td>1</td>\n",
       "      <td>5.0</td>\n",
       "      <td>0.000000</td>\n",
       "      <td>1</td>\n",
       "      <td>2</td>\n",
       "      <td>1</td>\n",
       "      <td>84</td>\n",
       "      <td>[]</td>\n",
       "      <td>0</td>\n",
       "    </tr>\n",
       "    <tr>\n",
       "      <th>3</th>\n",
       "      <td>Ji9PeffxjwqPLO7pEfSpKQ</td>\n",
       "      <td>93</td>\n",
       "      <td>6</td>\n",
       "      <td>2.5</td>\n",
       "      <td>1.048809</td>\n",
       "      <td>6</td>\n",
       "      <td>9</td>\n",
       "      <td>7</td>\n",
       "      <td>107</td>\n",
       "      <td>[2010, 2009]</td>\n",
       "      <td>1</td>\n",
       "    </tr>\n",
       "    <tr>\n",
       "      <th>4</th>\n",
       "      <td>TLIWzAJPrET0zX4_vgvLhg</td>\n",
       "      <td>53</td>\n",
       "      <td>1</td>\n",
       "      <td>3.0</td>\n",
       "      <td>0.000000</td>\n",
       "      <td>0</td>\n",
       "      <td>0</td>\n",
       "      <td>0</td>\n",
       "      <td>38</td>\n",
       "      <td>[]</td>\n",
       "      <td>0</td>\n",
       "    </tr>\n",
       "  </tbody>\n",
       "</table>\n",
       "</div>"
      ],
      "text/plain": [
       "                  user_id  Total Reviews by User  Num Category Reviews  \\\n",
       "0  kzyLOqiJvyw_FWFTw2rjiQ                      2                     1   \n",
       "1  WZXp9-V2dqRRJqhGgRqueA                    327                     4   \n",
       "2  XylT12exfdLiI_3uDLVIpw                    344                     1   \n",
       "3  Ji9PeffxjwqPLO7pEfSpKQ                     93                     6   \n",
       "4  TLIWzAJPrET0zX4_vgvLhg                     53                     1   \n",
       "\n",
       "   Average Rating in Category  Std Dev of Ratings in Category  funny  useful  \\\n",
       "0                         1.0                        0.000000      0       0   \n",
       "1                         2.5                        1.000000      4       6   \n",
       "2                         5.0                        0.000000      1       2   \n",
       "3                         2.5                        1.048809      6       9   \n",
       "4                         3.0                        0.000000      0       0   \n",
       "\n",
       "   cool  Months Yelping         elite  is_expert  \n",
       "0     0              16            []          0  \n",
       "1     4              61  [2016, 2015]          1  \n",
       "2     1              84            []          0  \n",
       "3     7             107  [2010, 2009]          1  \n",
       "4     0              38            []          0  "
      ]
     },
     "metadata": {},
     "output_type": "display_data"
    }
   ],
   "source": [
    "display(len(feature_set_1))\n",
    "display(feature_set_1.head(5))"
   ]
  },
  {
   "cell_type": "markdown",
   "metadata": {},
   "source": [
    "## Classifier Setups (Sklearn Library)*"
   ]
  },
  {
   "cell_type": "code",
   "execution_count": 186,
   "metadata": {
    "collapsed": true
   },
   "outputs": [],
   "source": [
    "from sklearn.model_selection import train_test_split\n",
    "from sklearn.ensemble import RandomForestClassifier\n",
    "from sklearn.metrics import accuracy_score\n",
    "from sklearn.metrics import confusion_matrix\n",
    "from sklearn import tree"
   ]
  },
  {
   "cell_type": "code",
   "execution_count": 248,
   "metadata": {},
   "outputs": [],
   "source": [
    "'''Runs the model specified by the clf (classifier), and features.\n",
    "Features is assumed to have an 'is_expert' column which gives the classifications'''\n",
    "def run_model(clf, features):\n",
    "    train, test = train_test_split(X)\n",
    "    train_classifier = train['is_expert'].values\n",
    "    test_classifier = test['is_expert'].values\n",
    "    train = train.drop('is_expert',axis=1)\n",
    "    test = test.drop('is_expert', axis=1)\n",
    "    clf.fit(train, train_classifier)\n",
    "    rf_pred = clf.predict(test)\n",
    "    model_perf= {'Model_Score' : clf.score(test, test_classifier),\n",
    "                'Predictions' : rf_pred,\n",
    "                'Actual' : test_classifier,\n",
    "                'Prediction_Probabilities' : clf.predict_proba(test),\n",
    "                'Total_Tested' : len(rf_pred),\n",
    "                'Num_Experts_Predicted' : sum(rf_pred),\n",
    "                'Num_Experts_Actual' : sum(test_classifier),\n",
    "                'Num_Experts_Training' : sum(train_classifier)} \n",
    "    return model_perf\n",
    "\n",
    "'''Runs the model n times, and prints out a dictionary with the statistics'''\n",
    "def bootstrap_model(clf, features, n):\n",
    "    models = []\n",
    "    for i in range(1,n):\n",
    "        models.append(run_model(clf, features))\n",
    "    return models\n",
    "\n",
    "'''Gets statistics from the bootstrap list of dictionaries'''\n",
    "def boot_statistics(models):\n",
    "    stats = []\n",
    "    mean_model_score = np.mean([i['Model_Score'] for i in models])\n",
    "    expert_pred_percentage = [i['Num_Experts_Predicted']/i['Num_Experts_Actual'] for i in models]\n",
    "    mn = np.array((1.0 - np.array(mean_model_score))) * np.array(models[0]['Total_Tested'])\n",
    "    stats = {'Mean_Wrong_Predictions' : round(mn),\n",
    "             'Mean_Model_Score' : mean_model_score, \n",
    "             'Expert_Prediction_Percentage' : expert_pred_percentage}\n",
    "    return stats\n",
    "\n",
    "def graph_from_statistics(stats):\n",
    "    return 0"
   ]
  },
  {
   "cell_type": "markdown",
   "metadata": {},
   "source": [
    " #### Drop unnessary columns from the features table (call it X)."
   ]
  },
  {
   "cell_type": "code",
   "execution_count": 197,
   "metadata": {},
   "outputs": [],
   "source": [
    "X = feature_set_1.drop('user_id',axis=1).drop('elite',axis=1)"
   ]
  },
  {
   "cell_type": "markdown",
   "metadata": {},
   "source": [
    "## Run a random forest classifier"
   ]
  },
  {
   "cell_type": "code",
   "execution_count": 206,
   "metadata": {},
   "outputs": [
    {
     "data": {
      "text/plain": [
       "{'Actual': array([0, 0, 0, ..., 0, 0, 0]),\n",
       " 'Model_Score': 0.91944424184960982,\n",
       " 'Num_Experts_Actual': 3541,\n",
       " 'Num_Experts_Predicted': 2210,\n",
       " 'Num_Experts_Training': 10829,\n",
       " 'Prediction_Probabilities': array([[ 0.93322993,  0.06677007],\n",
       "        [ 0.95333022,  0.04666978],\n",
       "        [ 0.8745697 ,  0.1254303 ],\n",
       "        ..., \n",
       "        [ 0.96599205,  0.03400795],\n",
       "        [ 0.95333022,  0.04666978],\n",
       "        [ 0.91336883,  0.08663117]]),\n",
       " 'Predictions': array([0, 0, 0, ..., 0, 0, 0]),\n",
       " 'Total_Tested': 27422}"
      ]
     },
     "metadata": {},
     "output_type": "display_data"
    }
   ],
   "source": [
    "clf_RF = RandomForestClassifier(max_depth=3)\n",
    "display(run_model(clf_RF,X))\n",
    "RF_bootstrap = bootstrap_model(clf_RF, X, 10)"
   ]
  },
  {
   "cell_type": "markdown",
   "metadata": {},
   "source": [
    "## Run a gaussian naive bayes classifier"
   ]
  },
  {
   "cell_type": "code",
   "execution_count": 199,
   "metadata": {},
   "outputs": [
    {
     "data": {
      "text/plain": [
       "{'Actual': array([0, 1, 0, ..., 0, 0, 1]),\n",
       " 'Model_Score': 0.90514915031726351,\n",
       " 'Num_Experts_Actual': 3674,\n",
       " 'Num_Experts_Predicted': 2017,\n",
       " 'Num_Experts_Training': 10696,\n",
       " 'Prediction_Probabilities': array([[  9.99999935e-01,   6.53938856e-08],\n",
       "        [  9.85439891e-01,   1.45601087e-02],\n",
       "        [  9.99999141e-01,   8.59343888e-07],\n",
       "        ..., \n",
       "        [  9.99999573e-01,   4.27225466e-07],\n",
       "        [  9.99999748e-01,   2.52462230e-07],\n",
       "        [  4.21630157e-35,   1.00000000e+00]]),\n",
       " 'Predictions': array([0, 0, 0, ..., 0, 0, 1]),\n",
       " 'Total_Tested': 27422}"
      ]
     },
     "metadata": {},
     "output_type": "display_data"
    }
   ],
   "source": [
    "from sklearn.naive_bayes import GaussianNB\n",
    "clf_NB = GaussianNB()\n",
    "display(run_model(clf_NB,X))\n",
    "NB_bootstrap = bootstrap_model(clf_NB, X, 10)"
   ]
  },
  {
   "cell_type": "markdown",
   "metadata": {},
   "source": [
    "## Run a decision tree classifier"
   ]
  },
  {
   "cell_type": "code",
   "execution_count": 212,
   "metadata": {
    "scrolled": false
   },
   "outputs": [
    {
     "data": {
      "text/plain": [
       "{'Actual': array([1, 0, 0, ..., 0, 0, 0]),\n",
       " 'Model_Score': 0.90358106629713364,\n",
       " 'Num_Experts_Actual': 3547,\n",
       " 'Num_Experts_Predicted': 3559,\n",
       " 'Num_Experts_Training': 10823,\n",
       " 'Prediction_Probabilities': array([[ 0.,  1.],\n",
       "        [ 1.,  0.],\n",
       "        [ 1.,  0.],\n",
       "        ..., \n",
       "        [ 1.,  0.],\n",
       "        [ 1.,  0.],\n",
       "        [ 1.,  0.]]),\n",
       " 'Predictions': array([1, 0, 0, ..., 0, 0, 0]),\n",
       " 'Total_Tested': 27422}"
      ]
     },
     "metadata": {},
     "output_type": "display_data"
    }
   ],
   "source": [
    "clf_DT = tree.DecisionTreeClassifier()\n",
    "display(run_model(clf_DT, X))\n",
    "DT_bootstrap = bootstrap_model(clf_DT, X, 10)"
   ]
  },
  {
   "cell_type": "code",
   "execution_count": 255,
   "metadata": {},
   "outputs": [
    {
     "data": {
      "text/plain": [
       "{'Expert_Prediction_Percentage': [1.0104549307714044,\n",
       "  0.99456521739130432,\n",
       "  1.0211817168338908,\n",
       "  1.0278706800445931,\n",
       "  1.0165242165242165,\n",
       "  1.0379926282960024,\n",
       "  1.0158113730929266,\n",
       "  0.99207000273448187,\n",
       "  1.0245467224546723],\n",
       " 'Mean_Model_Score': 0.9038525433755541,\n",
       " 'Mean_Wrong_Predictions': 2637.0}"
      ]
     },
     "metadata": {},
     "output_type": "display_data"
    },
    {
     "data": {
      "text/plain": [
       "{'Expert_Prediction_Percentage': [0.60297908908622166,\n",
       "  0.58833426808749301,\n",
       "  0.57820299500831951,\n",
       "  0.5572519083969466,\n",
       "  0.56441201234914395,\n",
       "  0.6188616071428571,\n",
       "  0.5720303285593934,\n",
       "  0.5728486225504118,\n",
       "  0.58679085520745133],\n",
       " 'Mean_Model_Score': 0.90823669559720899,\n",
       " 'Mean_Wrong_Predictions': 2516.0}"
      ]
     },
     "metadata": {},
     "output_type": "display_data"
    },
    {
     "data": {
      "text/plain": [
       "{'Expert_Prediction_Percentage': [0.31736361118803658,\n",
       "  0.59917241379310349,\n",
       "  0.43278688524590164,\n",
       "  0.75717801476620183,\n",
       "  0.44516129032258067,\n",
       "  0.682032768675368,\n",
       "  0.3572021011888305,\n",
       "  0.55850622406639006,\n",
       "  0.5118778280542986],\n",
       " 'Mean_Model_Score': 0.90940769374144048,\n",
       " 'Mean_Wrong_Predictions': 2484.0}"
      ]
     },
     "metadata": {},
     "output_type": "display_data"
    }
   ],
   "source": [
    "DT_stats = boot_statistics(DT_bootstrap)\n",
    "NB_stats = boot_statistics(NB_bootstrap)\n",
    "RF_stats = boot_statistics(RF_bootstrap)\n",
    "display(DT_stats)\n",
    "display(NB_stats)\n",
    "display(RF_stats)\n",
    "y = [DT_stats['Mean_Model_Score'],NB_stats['Mean_Model_Score'],RF_stats['Mean_Model_Score']]\n",
    "N = len(y)\n",
    "x = range(N)\n",
    "width = 1/1.5\n",
    "plt.bar(x, y, width)\n",
    "\n",
    "fig = plt.gcf()"
   ]
  },
  {
   "cell_type": "code",
   "execution_count": 256,
   "metadata": {},
   "outputs": [
    {
     "data": {
      "image/png": "[encoded data removed]",
      "text/plain": [
       "<matplotlib.figure.Figure at 0x1a6e87c470>"
      ]
     },
     "execution_count": 256,
     "metadata": {},
     "output_type": "execute_result"
    }
   ],
   "source": [
    "fig"
   ]
  },
  {
   "cell_type": "code",
   "execution_count": 252,
   "metadata": {},
   "outputs": [],
   "source": []
  },
  {
   "cell_type": "code",
   "execution_count": null,
   "metadata": {
    "collapsed": true
   },
   "outputs": [],
   "source": []
  }
 ],
 "metadata": {
  "kernelspec": {
   "display_name": "Python 3",
   "language": "python",
   "name": "python3"
  },
  "language_info": {
   "codemirror_mode": {
    "name": "ipython",
    "version": 3
   },
   "file_extension": ".py",
   "mimetype": "text/x-python",
   "name": "python",
   "nbconvert_exporter": "python",
   "pygments_lexer": "ipython3",
   "version": "3.6.2"
  }
 },
 "nbformat": 4,
 "nbformat_minor": 2
}
